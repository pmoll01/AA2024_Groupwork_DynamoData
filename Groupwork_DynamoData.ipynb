{
 "cells": [
  {
   "metadata": {},
   "cell_type": "markdown",
   "source": "# Jupiter Notebook for Groupwork in AA 2024",
   "id": "acea73adec1d2614"
  },
  {
   "metadata": {},
   "cell_type": "markdown",
   "source": "## Import Libraries",
   "id": "ee0dcd9a8005d30f"
  },
  {
   "metadata": {
    "ExecuteTime": {
     "end_time": "2025-01-03T21:33:12.882295Z",
     "start_time": "2025-01-03T21:33:12.873285Z"
    }
   },
   "cell_type": "code",
   "source": [
    "import os\n",
    "import pandas as pd\n",
    "import seaborn as sns\n",
    "import matplotlib.pyplot as plt\n",
    "from IPython.display import display\n",
    "from datetime import timedelta\n",
    "import json\n",
    "import numpy as np\n",
    "import pickle\n",
    "\n",
    "from fontTools.subset import subset"
   ],
   "id": "2a3cbea9f33b784",
   "outputs": [],
   "execution_count": 240
  },
  {
   "metadata": {},
   "cell_type": "markdown",
   "source": "## 1 Load and Explore Data:",
   "id": "df07008b66febd6f"
  },
  {
   "metadata": {
    "ExecuteTime": {
     "end_time": "2025-01-03T21:33:13.260528Z",
     "start_time": "2025-01-03T21:33:12.891291Z"
    }
   },
   "cell_type": "code",
   "source": [
    "# Load csv-files independently of the operating system (mac or windows or linux) in a pandas dataframe\n",
    "charging_data = pd.read_csv(os.path.join('Data', 'charging_sessions.csv'))\n",
    "weather_data = pd.read_csv(os.path.join('Data', 'weather_burbank_airport.csv'))\n",
    "\n",
    "charging_data = charging_data.rename(columns={'Unnamed: 0': 'counter'})\n",
    "charging_data.info()"
   ],
   "id": "aa551404e0825488",
   "outputs": [
    {
     "name": "stdout",
     "output_type": "stream",
     "text": [
      "<class 'pandas.core.frame.DataFrame'>\n",
      "RangeIndex: 66450 entries, 0 to 66449\n",
      "Data columns (total 13 columns):\n",
      " #   Column            Non-Null Count  Dtype  \n",
      "---  ------            --------------  -----  \n",
      " 0   counter           66450 non-null  int64  \n",
      " 1   id                66450 non-null  object \n",
      " 2   connectionTime    66450 non-null  object \n",
      " 3   disconnectTime    66450 non-null  object \n",
      " 4   doneChargingTime  62362 non-null  object \n",
      " 5   kWhDelivered      66450 non-null  float64\n",
      " 6   sessionID         66450 non-null  object \n",
      " 7   siteID            66450 non-null  int64  \n",
      " 8   spaceID           66450 non-null  object \n",
      " 9   stationID         66450 non-null  object \n",
      " 10  timezone          66450 non-null  object \n",
      " 11  userID            49187 non-null  float64\n",
      " 12  userInputs        49187 non-null  object \n",
      "dtypes: float64(2), int64(2), object(9)\n",
      "memory usage: 6.6+ MB\n"
     ]
    }
   ],
   "execution_count": 241
  },
  {
   "metadata": {
    "ExecuteTime": {
     "end_time": "2025-01-03T21:33:13.355160Z",
     "start_time": "2025-01-03T21:33:13.340154Z"
    }
   },
   "cell_type": "code",
   "source": "weather_data.info()",
   "id": "69ef130092b8a90d",
   "outputs": [
    {
     "name": "stdout",
     "output_type": "stream",
     "text": [
      "<class 'pandas.core.frame.DataFrame'>\n",
      "RangeIndex: 29244 entries, 0 to 29243\n",
      "Data columns (total 9 columns):\n",
      " #   Column                   Non-Null Count  Dtype  \n",
      "---  ------                   --------------  -----  \n",
      " 0   city                     29244 non-null  object \n",
      " 1   timestamp                29244 non-null  object \n",
      " 2   temperature              29219 non-null  float64\n",
      " 3   cloud_cover              29224 non-null  float64\n",
      " 4   cloud_cover_description  29224 non-null  object \n",
      " 5   pressure                 29236 non-null  float64\n",
      " 6   windspeed                29158 non-null  float64\n",
      " 7   precipitation            29244 non-null  float64\n",
      " 8   felt_temperature         29218 non-null  float64\n",
      "dtypes: float64(6), object(3)\n",
      "memory usage: 2.0+ MB\n"
     ]
    }
   ],
   "execution_count": 242
  },
  {
   "metadata": {
    "ExecuteTime": {
     "end_time": "2025-01-03T21:33:13.432710Z",
     "start_time": "2025-01-03T21:33:13.419557Z"
    }
   },
   "cell_type": "code",
   "source": [
    "# How do the charging data records look like?\n",
    "charging_data.head()"
   ],
   "id": "3b78b456618d8dd1",
   "outputs": [
    {
     "data": {
      "text/plain": [
       "   counter                        id             connectionTime  \\\n",
       "0        0  5e23b149f9af8b5fe4b973cf  2020-01-02 13:08:54+00:00   \n",
       "1        1  5e23b149f9af8b5fe4b973d0  2020-01-02 13:36:50+00:00   \n",
       "2        2  5e23b149f9af8b5fe4b973d1  2020-01-02 13:56:35+00:00   \n",
       "3        3  5e23b149f9af8b5fe4b973d2  2020-01-02 13:59:58+00:00   \n",
       "4        4  5e23b149f9af8b5fe4b973d3  2020-01-02 14:00:01+00:00   \n",
       "\n",
       "              disconnectTime           doneChargingTime  kWhDelivered  \\\n",
       "0  2020-01-02 19:11:15+00:00  2020-01-02 17:31:35+00:00        25.016   \n",
       "1  2020-01-02 22:38:21+00:00  2020-01-02 20:18:05+00:00        33.097   \n",
       "2  2020-01-03 00:39:22+00:00  2020-01-02 16:35:06+00:00         6.521   \n",
       "3  2020-01-02 16:38:39+00:00  2020-01-02 15:18:45+00:00         2.355   \n",
       "4  2020-01-02 22:08:40+00:00  2020-01-02 18:17:30+00:00        13.375   \n",
       "\n",
       "                                sessionID  siteID  spaceID    stationID  \\\n",
       "0  1_1_179_810_2020-01-02 13:08:53.870034       1  AG-3F30  1-1-179-810   \n",
       "1  1_1_193_825_2020-01-02 13:36:49.599853       1  AG-1F01  1-1-193-825   \n",
       "2  1_1_193_829_2020-01-02 13:56:35.214993       1  AG-1F03  1-1-193-829   \n",
       "3  1_1_193_820_2020-01-02 13:59:58.309319       1  AG-1F04  1-1-193-820   \n",
       "4  1_1_193_819_2020-01-02 14:00:00.779967       1  AG-1F06  1-1-193-819   \n",
       "\n",
       "              timezone  userID  \\\n",
       "0  America/Los_Angeles   194.0   \n",
       "1  America/Los_Angeles  4275.0   \n",
       "2  America/Los_Angeles   344.0   \n",
       "3  America/Los_Angeles  1117.0   \n",
       "4  America/Los_Angeles   334.0   \n",
       "\n",
       "                                          userInputs  \n",
       "0  [{'WhPerMile': 250, 'kWhRequested': 25.0, 'mil...  \n",
       "1  [{'WhPerMile': 280, 'kWhRequested': 70.0, 'mil...  \n",
       "2  [{'WhPerMile': 400, 'kWhRequested': 8.0, 'mile...  \n",
       "3  [{'WhPerMile': 400, 'kWhRequested': 8.0, 'mile...  \n",
       "4  [{'WhPerMile': 400, 'kWhRequested': 16.0, 'mil...  "
      ],
      "text/html": [
       "<div>\n",
       "<style scoped>\n",
       "    .dataframe tbody tr th:only-of-type {\n",
       "        vertical-align: middle;\n",
       "    }\n",
       "\n",
       "    .dataframe tbody tr th {\n",
       "        vertical-align: top;\n",
       "    }\n",
       "\n",
       "    .dataframe thead th {\n",
       "        text-align: right;\n",
       "    }\n",
       "</style>\n",
       "<table border=\"1\" class=\"dataframe\">\n",
       "  <thead>\n",
       "    <tr style=\"text-align: right;\">\n",
       "      <th></th>\n",
       "      <th>counter</th>\n",
       "      <th>id</th>\n",
       "      <th>connectionTime</th>\n",
       "      <th>disconnectTime</th>\n",
       "      <th>doneChargingTime</th>\n",
       "      <th>kWhDelivered</th>\n",
       "      <th>sessionID</th>\n",
       "      <th>siteID</th>\n",
       "      <th>spaceID</th>\n",
       "      <th>stationID</th>\n",
       "      <th>timezone</th>\n",
       "      <th>userID</th>\n",
       "      <th>userInputs</th>\n",
       "    </tr>\n",
       "  </thead>\n",
       "  <tbody>\n",
       "    <tr>\n",
       "      <th>0</th>\n",
       "      <td>0</td>\n",
       "      <td>5e23b149f9af8b5fe4b973cf</td>\n",
       "      <td>2020-01-02 13:08:54+00:00</td>\n",
       "      <td>2020-01-02 19:11:15+00:00</td>\n",
       "      <td>2020-01-02 17:31:35+00:00</td>\n",
       "      <td>25.016</td>\n",
       "      <td>1_1_179_810_2020-01-02 13:08:53.870034</td>\n",
       "      <td>1</td>\n",
       "      <td>AG-3F30</td>\n",
       "      <td>1-1-179-810</td>\n",
       "      <td>America/Los_Angeles</td>\n",
       "      <td>194.0</td>\n",
       "      <td>[{'WhPerMile': 250, 'kWhRequested': 25.0, 'mil...</td>\n",
       "    </tr>\n",
       "    <tr>\n",
       "      <th>1</th>\n",
       "      <td>1</td>\n",
       "      <td>5e23b149f9af8b5fe4b973d0</td>\n",
       "      <td>2020-01-02 13:36:50+00:00</td>\n",
       "      <td>2020-01-02 22:38:21+00:00</td>\n",
       "      <td>2020-01-02 20:18:05+00:00</td>\n",
       "      <td>33.097</td>\n",
       "      <td>1_1_193_825_2020-01-02 13:36:49.599853</td>\n",
       "      <td>1</td>\n",
       "      <td>AG-1F01</td>\n",
       "      <td>1-1-193-825</td>\n",
       "      <td>America/Los_Angeles</td>\n",
       "      <td>4275.0</td>\n",
       "      <td>[{'WhPerMile': 280, 'kWhRequested': 70.0, 'mil...</td>\n",
       "    </tr>\n",
       "    <tr>\n",
       "      <th>2</th>\n",
       "      <td>2</td>\n",
       "      <td>5e23b149f9af8b5fe4b973d1</td>\n",
       "      <td>2020-01-02 13:56:35+00:00</td>\n",
       "      <td>2020-01-03 00:39:22+00:00</td>\n",
       "      <td>2020-01-02 16:35:06+00:00</td>\n",
       "      <td>6.521</td>\n",
       "      <td>1_1_193_829_2020-01-02 13:56:35.214993</td>\n",
       "      <td>1</td>\n",
       "      <td>AG-1F03</td>\n",
       "      <td>1-1-193-829</td>\n",
       "      <td>America/Los_Angeles</td>\n",
       "      <td>344.0</td>\n",
       "      <td>[{'WhPerMile': 400, 'kWhRequested': 8.0, 'mile...</td>\n",
       "    </tr>\n",
       "    <tr>\n",
       "      <th>3</th>\n",
       "      <td>3</td>\n",
       "      <td>5e23b149f9af8b5fe4b973d2</td>\n",
       "      <td>2020-01-02 13:59:58+00:00</td>\n",
       "      <td>2020-01-02 16:38:39+00:00</td>\n",
       "      <td>2020-01-02 15:18:45+00:00</td>\n",
       "      <td>2.355</td>\n",
       "      <td>1_1_193_820_2020-01-02 13:59:58.309319</td>\n",
       "      <td>1</td>\n",
       "      <td>AG-1F04</td>\n",
       "      <td>1-1-193-820</td>\n",
       "      <td>America/Los_Angeles</td>\n",
       "      <td>1117.0</td>\n",
       "      <td>[{'WhPerMile': 400, 'kWhRequested': 8.0, 'mile...</td>\n",
       "    </tr>\n",
       "    <tr>\n",
       "      <th>4</th>\n",
       "      <td>4</td>\n",
       "      <td>5e23b149f9af8b5fe4b973d3</td>\n",
       "      <td>2020-01-02 14:00:01+00:00</td>\n",
       "      <td>2020-01-02 22:08:40+00:00</td>\n",
       "      <td>2020-01-02 18:17:30+00:00</td>\n",
       "      <td>13.375</td>\n",
       "      <td>1_1_193_819_2020-01-02 14:00:00.779967</td>\n",
       "      <td>1</td>\n",
       "      <td>AG-1F06</td>\n",
       "      <td>1-1-193-819</td>\n",
       "      <td>America/Los_Angeles</td>\n",
       "      <td>334.0</td>\n",
       "      <td>[{'WhPerMile': 400, 'kWhRequested': 16.0, 'mil...</td>\n",
       "    </tr>\n",
       "  </tbody>\n",
       "</table>\n",
       "</div>"
      ]
     },
     "execution_count": 243,
     "metadata": {},
     "output_type": "execute_result"
    }
   ],
   "execution_count": 243
  },
  {
   "metadata": {
    "ExecuteTime": {
     "end_time": "2025-01-03T21:33:13.540941Z",
     "start_time": "2025-01-03T21:33:13.526469Z"
    }
   },
   "cell_type": "code",
   "source": [
    "# How do the weather data records look like?\n",
    "weather_data.head()"
   ],
   "id": "37e8f382301f124f",
   "outputs": [
    {
     "data": {
      "text/plain": [
       "      city            timestamp  temperature  cloud_cover  \\\n",
       "0  Burbank  2018-01-01 08:53:00          9.0         33.0   \n",
       "1  Burbank  2018-01-01 09:53:00          9.0         33.0   \n",
       "2  Burbank  2018-01-01 10:53:00          9.0         21.0   \n",
       "3  Burbank  2018-01-01 11:53:00          9.0         29.0   \n",
       "4  Burbank  2018-01-01 12:53:00          8.0         33.0   \n",
       "\n",
       "  cloud_cover_description  pressure  windspeed  precipitation  \\\n",
       "0                    Fair    991.75        9.0            0.0   \n",
       "1                    Fair    992.08        0.0            0.0   \n",
       "2                    Haze    992.08        0.0            0.0   \n",
       "3           Partly Cloudy    992.08        0.0            0.0   \n",
       "4                    Fair    992.08        0.0            0.0   \n",
       "\n",
       "   felt_temperature  \n",
       "0               8.0  \n",
       "1               9.0  \n",
       "2               9.0  \n",
       "3               9.0  \n",
       "4               8.0  "
      ],
      "text/html": [
       "<div>\n",
       "<style scoped>\n",
       "    .dataframe tbody tr th:only-of-type {\n",
       "        vertical-align: middle;\n",
       "    }\n",
       "\n",
       "    .dataframe tbody tr th {\n",
       "        vertical-align: top;\n",
       "    }\n",
       "\n",
       "    .dataframe thead th {\n",
       "        text-align: right;\n",
       "    }\n",
       "</style>\n",
       "<table border=\"1\" class=\"dataframe\">\n",
       "  <thead>\n",
       "    <tr style=\"text-align: right;\">\n",
       "      <th></th>\n",
       "      <th>city</th>\n",
       "      <th>timestamp</th>\n",
       "      <th>temperature</th>\n",
       "      <th>cloud_cover</th>\n",
       "      <th>cloud_cover_description</th>\n",
       "      <th>pressure</th>\n",
       "      <th>windspeed</th>\n",
       "      <th>precipitation</th>\n",
       "      <th>felt_temperature</th>\n",
       "    </tr>\n",
       "  </thead>\n",
       "  <tbody>\n",
       "    <tr>\n",
       "      <th>0</th>\n",
       "      <td>Burbank</td>\n",
       "      <td>2018-01-01 08:53:00</td>\n",
       "      <td>9.0</td>\n",
       "      <td>33.0</td>\n",
       "      <td>Fair</td>\n",
       "      <td>991.75</td>\n",
       "      <td>9.0</td>\n",
       "      <td>0.0</td>\n",
       "      <td>8.0</td>\n",
       "    </tr>\n",
       "    <tr>\n",
       "      <th>1</th>\n",
       "      <td>Burbank</td>\n",
       "      <td>2018-01-01 09:53:00</td>\n",
       "      <td>9.0</td>\n",
       "      <td>33.0</td>\n",
       "      <td>Fair</td>\n",
       "      <td>992.08</td>\n",
       "      <td>0.0</td>\n",
       "      <td>0.0</td>\n",
       "      <td>9.0</td>\n",
       "    </tr>\n",
       "    <tr>\n",
       "      <th>2</th>\n",
       "      <td>Burbank</td>\n",
       "      <td>2018-01-01 10:53:00</td>\n",
       "      <td>9.0</td>\n",
       "      <td>21.0</td>\n",
       "      <td>Haze</td>\n",
       "      <td>992.08</td>\n",
       "      <td>0.0</td>\n",
       "      <td>0.0</td>\n",
       "      <td>9.0</td>\n",
       "    </tr>\n",
       "    <tr>\n",
       "      <th>3</th>\n",
       "      <td>Burbank</td>\n",
       "      <td>2018-01-01 11:53:00</td>\n",
       "      <td>9.0</td>\n",
       "      <td>29.0</td>\n",
       "      <td>Partly Cloudy</td>\n",
       "      <td>992.08</td>\n",
       "      <td>0.0</td>\n",
       "      <td>0.0</td>\n",
       "      <td>9.0</td>\n",
       "    </tr>\n",
       "    <tr>\n",
       "      <th>4</th>\n",
       "      <td>Burbank</td>\n",
       "      <td>2018-01-01 12:53:00</td>\n",
       "      <td>8.0</td>\n",
       "      <td>33.0</td>\n",
       "      <td>Fair</td>\n",
       "      <td>992.08</td>\n",
       "      <td>0.0</td>\n",
       "      <td>0.0</td>\n",
       "      <td>8.0</td>\n",
       "    </tr>\n",
       "  </tbody>\n",
       "</table>\n",
       "</div>"
      ]
     },
     "execution_count": 244,
     "metadata": {},
     "output_type": "execute_result"
    }
   ],
   "execution_count": 244
  },
  {
   "metadata": {
    "ExecuteTime": {
     "end_time": "2025-01-03T21:33:13.651601Z",
     "start_time": "2025-01-03T21:33:13.620604Z"
    }
   },
   "cell_type": "code",
   "source": [
    "# .describe() function only analyses numerical columns\n",
    "charging_data.describe()"
   ],
   "id": "e1e833920019685a",
   "outputs": [
    {
     "data": {
      "text/plain": [
       "            counter  kWhDelivered        siteID        userID\n",
       "count  66450.000000  66450.000000  66450.000000  49187.000000\n",
       "mean    4726.102062     11.787916      1.472656   1800.494582\n",
       "std     3568.025394     10.314789      0.499256   2617.548614\n",
       "min        0.000000      0.501000      1.000000      1.000000\n",
       "25%     1845.000000      5.097000      1.000000    431.000000\n",
       "50%     3960.000000      9.140000      1.000000    818.000000\n",
       "75%     7027.000000     14.183000      2.000000   1805.000000\n",
       "max    15291.000000    108.797242      2.000000  19923.000000"
      ],
      "text/html": [
       "<div>\n",
       "<style scoped>\n",
       "    .dataframe tbody tr th:only-of-type {\n",
       "        vertical-align: middle;\n",
       "    }\n",
       "\n",
       "    .dataframe tbody tr th {\n",
       "        vertical-align: top;\n",
       "    }\n",
       "\n",
       "    .dataframe thead th {\n",
       "        text-align: right;\n",
       "    }\n",
       "</style>\n",
       "<table border=\"1\" class=\"dataframe\">\n",
       "  <thead>\n",
       "    <tr style=\"text-align: right;\">\n",
       "      <th></th>\n",
       "      <th>counter</th>\n",
       "      <th>kWhDelivered</th>\n",
       "      <th>siteID</th>\n",
       "      <th>userID</th>\n",
       "    </tr>\n",
       "  </thead>\n",
       "  <tbody>\n",
       "    <tr>\n",
       "      <th>count</th>\n",
       "      <td>66450.000000</td>\n",
       "      <td>66450.000000</td>\n",
       "      <td>66450.000000</td>\n",
       "      <td>49187.000000</td>\n",
       "    </tr>\n",
       "    <tr>\n",
       "      <th>mean</th>\n",
       "      <td>4726.102062</td>\n",
       "      <td>11.787916</td>\n",
       "      <td>1.472656</td>\n",
       "      <td>1800.494582</td>\n",
       "    </tr>\n",
       "    <tr>\n",
       "      <th>std</th>\n",
       "      <td>3568.025394</td>\n",
       "      <td>10.314789</td>\n",
       "      <td>0.499256</td>\n",
       "      <td>2617.548614</td>\n",
       "    </tr>\n",
       "    <tr>\n",
       "      <th>min</th>\n",
       "      <td>0.000000</td>\n",
       "      <td>0.501000</td>\n",
       "      <td>1.000000</td>\n",
       "      <td>1.000000</td>\n",
       "    </tr>\n",
       "    <tr>\n",
       "      <th>25%</th>\n",
       "      <td>1845.000000</td>\n",
       "      <td>5.097000</td>\n",
       "      <td>1.000000</td>\n",
       "      <td>431.000000</td>\n",
       "    </tr>\n",
       "    <tr>\n",
       "      <th>50%</th>\n",
       "      <td>3960.000000</td>\n",
       "      <td>9.140000</td>\n",
       "      <td>1.000000</td>\n",
       "      <td>818.000000</td>\n",
       "    </tr>\n",
       "    <tr>\n",
       "      <th>75%</th>\n",
       "      <td>7027.000000</td>\n",
       "      <td>14.183000</td>\n",
       "      <td>2.000000</td>\n",
       "      <td>1805.000000</td>\n",
       "    </tr>\n",
       "    <tr>\n",
       "      <th>max</th>\n",
       "      <td>15291.000000</td>\n",
       "      <td>108.797242</td>\n",
       "      <td>2.000000</td>\n",
       "      <td>19923.000000</td>\n",
       "    </tr>\n",
       "  </tbody>\n",
       "</table>\n",
       "</div>"
      ]
     },
     "execution_count": 245,
     "metadata": {},
     "output_type": "execute_result"
    }
   ],
   "execution_count": 245
  },
  {
   "metadata": {
    "ExecuteTime": {
     "end_time": "2025-01-03T21:33:13.804020Z",
     "start_time": "2025-01-03T21:33:13.771986Z"
    }
   },
   "cell_type": "code",
   "source": [
    "# .describe() function only analyses numerical columns\n",
    "weather_data.describe()"
   ],
   "id": "2ff9cf0f4b754f62",
   "outputs": [
    {
     "data": {
      "text/plain": [
       "        temperature   cloud_cover      pressure     windspeed  precipitation  \\\n",
       "count  29219.000000  29224.000000  29236.000000  29158.000000   29244.000000   \n",
       "mean      17.885622     30.107993    986.879400      8.566568       0.059360   \n",
       "std        6.454604      5.400388      3.607065      6.699889       0.471682   \n",
       "min        2.000000      4.000000    971.000000      0.000000       0.000000   \n",
       "25%       13.000000     26.000000    984.500000      6.000000       0.000000   \n",
       "50%       17.000000     33.000000    986.480000      7.000000       0.000000   \n",
       "75%       22.000000     34.000000    989.110000     13.000000       0.000000   \n",
       "max       46.000000     47.000000    999.650000     57.000000      18.540000   \n",
       "\n",
       "       felt_temperature  \n",
       "count      29218.000000  \n",
       "mean          17.731433  \n",
       "std            6.321100  \n",
       "min            0.000000  \n",
       "25%           13.000000  \n",
       "50%           17.000000  \n",
       "75%           22.000000  \n",
       "max           42.000000  "
      ],
      "text/html": [
       "<div>\n",
       "<style scoped>\n",
       "    .dataframe tbody tr th:only-of-type {\n",
       "        vertical-align: middle;\n",
       "    }\n",
       "\n",
       "    .dataframe tbody tr th {\n",
       "        vertical-align: top;\n",
       "    }\n",
       "\n",
       "    .dataframe thead th {\n",
       "        text-align: right;\n",
       "    }\n",
       "</style>\n",
       "<table border=\"1\" class=\"dataframe\">\n",
       "  <thead>\n",
       "    <tr style=\"text-align: right;\">\n",
       "      <th></th>\n",
       "      <th>temperature</th>\n",
       "      <th>cloud_cover</th>\n",
       "      <th>pressure</th>\n",
       "      <th>windspeed</th>\n",
       "      <th>precipitation</th>\n",
       "      <th>felt_temperature</th>\n",
       "    </tr>\n",
       "  </thead>\n",
       "  <tbody>\n",
       "    <tr>\n",
       "      <th>count</th>\n",
       "      <td>29219.000000</td>\n",
       "      <td>29224.000000</td>\n",
       "      <td>29236.000000</td>\n",
       "      <td>29158.000000</td>\n",
       "      <td>29244.000000</td>\n",
       "      <td>29218.000000</td>\n",
       "    </tr>\n",
       "    <tr>\n",
       "      <th>mean</th>\n",
       "      <td>17.885622</td>\n",
       "      <td>30.107993</td>\n",
       "      <td>986.879400</td>\n",
       "      <td>8.566568</td>\n",
       "      <td>0.059360</td>\n",
       "      <td>17.731433</td>\n",
       "    </tr>\n",
       "    <tr>\n",
       "      <th>std</th>\n",
       "      <td>6.454604</td>\n",
       "      <td>5.400388</td>\n",
       "      <td>3.607065</td>\n",
       "      <td>6.699889</td>\n",
       "      <td>0.471682</td>\n",
       "      <td>6.321100</td>\n",
       "    </tr>\n",
       "    <tr>\n",
       "      <th>min</th>\n",
       "      <td>2.000000</td>\n",
       "      <td>4.000000</td>\n",
       "      <td>971.000000</td>\n",
       "      <td>0.000000</td>\n",
       "      <td>0.000000</td>\n",
       "      <td>0.000000</td>\n",
       "    </tr>\n",
       "    <tr>\n",
       "      <th>25%</th>\n",
       "      <td>13.000000</td>\n",
       "      <td>26.000000</td>\n",
       "      <td>984.500000</td>\n",
       "      <td>6.000000</td>\n",
       "      <td>0.000000</td>\n",
       "      <td>13.000000</td>\n",
       "    </tr>\n",
       "    <tr>\n",
       "      <th>50%</th>\n",
       "      <td>17.000000</td>\n",
       "      <td>33.000000</td>\n",
       "      <td>986.480000</td>\n",
       "      <td>7.000000</td>\n",
       "      <td>0.000000</td>\n",
       "      <td>17.000000</td>\n",
       "    </tr>\n",
       "    <tr>\n",
       "      <th>75%</th>\n",
       "      <td>22.000000</td>\n",
       "      <td>34.000000</td>\n",
       "      <td>989.110000</td>\n",
       "      <td>13.000000</td>\n",
       "      <td>0.000000</td>\n",
       "      <td>22.000000</td>\n",
       "    </tr>\n",
       "    <tr>\n",
       "      <th>max</th>\n",
       "      <td>46.000000</td>\n",
       "      <td>47.000000</td>\n",
       "      <td>999.650000</td>\n",
       "      <td>57.000000</td>\n",
       "      <td>18.540000</td>\n",
       "      <td>42.000000</td>\n",
       "    </tr>\n",
       "  </tbody>\n",
       "</table>\n",
       "</div>"
      ]
     },
     "execution_count": 246,
     "metadata": {},
     "output_type": "execute_result"
    }
   ],
   "execution_count": 246
  },
  {
   "metadata": {},
   "cell_type": "markdown",
   "source": "## 2 Data Preparation",
   "id": "431539d9da911c0f"
  },
  {
   "metadata": {},
   "cell_type": "markdown",
   "source": [
    "### 2.1 Identifying duplicates\n",
    "To find duplicate entries in the charging_data DataFrame, we used Pandas' standard duplicate detection functions. Given the expectation of unique sessionID values for each charging session, this column was designated as the key for duplicate identification.\n",
    "\n",
    "This process revealed 1413 duplicated rows, differing solely in the counter column. We then removed these redundant rows to ensure data integrity and prevent analytical bias."
   ],
   "id": "d92f791d5aba4665"
  },
  {
   "metadata": {
    "ExecuteTime": {
     "end_time": "2025-01-03T21:33:13.897011Z",
     "start_time": "2025-01-03T21:33:13.882496Z"
    }
   },
   "cell_type": "code",
   "source": [
    "charging_data_duplicates = charging_data.duplicated(subset='sessionID').sum()\n",
    "weather_data_duplicates = weather_data.duplicated(subset='timestamp').sum()\n",
    "# Display number of duplicate rows (if any)\n",
    "print(f\"Duplicate rows:\\n charging data -> {charging_data_duplicates}\\n weather data -> {weather_data_duplicates}\")"
   ],
   "id": "e31139c307e095c",
   "outputs": [
    {
     "name": "stdout",
     "output_type": "stream",
     "text": [
      "Duplicate rows:\n",
      " charging data -> 1413\n",
      " weather data -> 0\n"
     ]
    }
   ],
   "execution_count": 247
  },
  {
   "metadata": {
    "ExecuteTime": {
     "end_time": "2025-01-03T21:33:14.034479Z",
     "start_time": "2025-01-03T21:33:13.998417Z"
    }
   },
   "cell_type": "code",
   "source": "charging_data[charging_data.duplicated(keep=False, subset='sessionID')].sort_values(by='id', ascending=True)",
   "id": "1011a3903a130919",
   "outputs": [
    {
     "data": {
      "text/plain": [
       "       counter                        id             connectionTime  \\\n",
       "5573         0  5d2fbdd3f9af8b4d0dd0d54f  2019-07-02 00:32:46+00:00   \n",
       "65037     8675  5d2fbdd3f9af8b4d0dd0d54f  2019-07-02 00:32:46+00:00   \n",
       "65038     8676  5d310f54f9af8b52adda3e20  2019-07-02 12:15:28+00:00   \n",
       "5574         1  5d310f54f9af8b52adda3e20  2019-07-02 12:15:28+00:00   \n",
       "5575         2  5d310f54f9af8b52adda3e21  2019-07-02 12:42:49+00:00   \n",
       "...        ...                       ...                        ...   \n",
       "6983      1410  5d574ad2f9af8b4c10c03654  2019-07-31 19:04:40+00:00   \n",
       "66448    10086  5d574ad2f9af8b4c10c03655  2019-07-31 19:19:47+00:00   \n",
       "6984      1411  5d574ad2f9af8b4c10c03655  2019-07-31 19:19:47+00:00   \n",
       "6985      1412  5d574ad2f9af8b4c10c03656  2019-07-31 19:21:47+00:00   \n",
       "66449    10087  5d574ad2f9af8b4c10c03656  2019-07-31 19:21:47+00:00   \n",
       "\n",
       "                  disconnectTime           doneChargingTime  kWhDelivered  \\\n",
       "5573   2019-07-02 02:34:56+00:00  2019-07-02 01:46:09+00:00         2.463   \n",
       "65037  2019-07-02 02:34:56+00:00  2019-07-02 01:46:09+00:00         2.463   \n",
       "65038  2019-07-02 16:01:01+00:00  2019-07-02 16:01:38+00:00        12.891   \n",
       "5574   2019-07-02 16:01:01+00:00  2019-07-02 16:01:38+00:00        12.891   \n",
       "5575   2019-07-02 19:34:19+00:00  2019-07-02 16:21:21+00:00        13.734   \n",
       "...                          ...                        ...           ...   \n",
       "6983   2019-07-31 22:44:22+00:00  2019-07-31 22:45:21+00:00        11.274   \n",
       "66448  2019-08-01 00:34:51+00:00  2019-07-31 21:25:30+00:00        11.589   \n",
       "6984   2019-08-01 00:34:51+00:00  2019-07-31 21:25:30+00:00        11.589   \n",
       "6985   2019-07-31 22:00:04+00:00  2019-07-31 20:51:34+00:00         0.897   \n",
       "66449  2019-07-31 22:00:04+00:00  2019-07-31 20:51:34+00:00         0.897   \n",
       "\n",
       "                                    sessionID  siteID  spaceID    stationID  \\\n",
       "5573   1_1_193_827_2019-07-02 00:32:45.820079       1  AG-1F02  1-1-193-827   \n",
       "65037  1_1_193_827_2019-07-02 00:32:45.820079       1  AG-1F02  1-1-193-827   \n",
       "65038  1_1_194_818_2019-07-02 12:15:28.503952       1  AG-1F14  1-1-194-818   \n",
       "5574   1_1_194_818_2019-07-02 12:15:28.503952       1  AG-1F14  1-1-194-818   \n",
       "5575   1_1_178_828_2019-07-02 12:42:48.733464       1  AG-1F10  1-1-178-828   \n",
       "...                                       ...     ...      ...          ...   \n",
       "6983   1_1_191_795_2019-07-31 19:04:40.098273       1  AG-4F51  1-1-191-795   \n",
       "66448  1_1_191_778_2019-07-31 19:19:46.919358       1  AG-4F43  1-1-191-778   \n",
       "6984   1_1_191_778_2019-07-31 19:19:46.919358       1  AG-4F43  1-1-191-778   \n",
       "6985   1_1_178_817_2019-07-31 19:21:46.727697       1  AG-1F09  1-1-178-817   \n",
       "66449  1_1_178_817_2019-07-31 19:21:46.727697       1  AG-1F09  1-1-178-817   \n",
       "\n",
       "                  timezone  userID  \\\n",
       "5573   America/Los_Angeles  1117.0   \n",
       "65037  America/Los_Angeles  1117.0   \n",
       "65038  America/Los_Angeles  2834.0   \n",
       "5574   America/Los_Angeles  2834.0   \n",
       "5575   America/Los_Angeles   651.0   \n",
       "...                    ...     ...   \n",
       "6983   America/Los_Angeles  1974.0   \n",
       "66448  America/Los_Angeles   942.0   \n",
       "6984   America/Los_Angeles   942.0   \n",
       "6985   America/Los_Angeles     NaN   \n",
       "66449  America/Los_Angeles     NaN   \n",
       "\n",
       "                                              userInputs  \n",
       "5573   [{'WhPerMile': 200, 'kWhRequested': 4.0, 'mile...  \n",
       "65037  [{'WhPerMile': 200, 'kWhRequested': 4.0, 'mile...  \n",
       "65038  [{'WhPerMile': 273, 'kWhRequested': 19.11, 'mi...  \n",
       "5574   [{'WhPerMile': 273, 'kWhRequested': 19.11, 'mi...  \n",
       "5575   [{'WhPerMile': 400, 'kWhRequested': 20.0, 'mil...  \n",
       "...                                                  ...  \n",
       "6983   [{'WhPerMile': 333, 'kWhRequested': 19.98, 'mi...  \n",
       "66448  [{'WhPerMile': 275, 'kWhRequested': 22.0, 'mil...  \n",
       "6984   [{'WhPerMile': 275, 'kWhRequested': 22.0, 'mil...  \n",
       "6985                                                 NaN  \n",
       "66449                                                NaN  \n",
       "\n",
       "[2826 rows x 13 columns]"
      ],
      "text/html": [
       "<div>\n",
       "<style scoped>\n",
       "    .dataframe tbody tr th:only-of-type {\n",
       "        vertical-align: middle;\n",
       "    }\n",
       "\n",
       "    .dataframe tbody tr th {\n",
       "        vertical-align: top;\n",
       "    }\n",
       "\n",
       "    .dataframe thead th {\n",
       "        text-align: right;\n",
       "    }\n",
       "</style>\n",
       "<table border=\"1\" class=\"dataframe\">\n",
       "  <thead>\n",
       "    <tr style=\"text-align: right;\">\n",
       "      <th></th>\n",
       "      <th>counter</th>\n",
       "      <th>id</th>\n",
       "      <th>connectionTime</th>\n",
       "      <th>disconnectTime</th>\n",
       "      <th>doneChargingTime</th>\n",
       "      <th>kWhDelivered</th>\n",
       "      <th>sessionID</th>\n",
       "      <th>siteID</th>\n",
       "      <th>spaceID</th>\n",
       "      <th>stationID</th>\n",
       "      <th>timezone</th>\n",
       "      <th>userID</th>\n",
       "      <th>userInputs</th>\n",
       "    </tr>\n",
       "  </thead>\n",
       "  <tbody>\n",
       "    <tr>\n",
       "      <th>5573</th>\n",
       "      <td>0</td>\n",
       "      <td>5d2fbdd3f9af8b4d0dd0d54f</td>\n",
       "      <td>2019-07-02 00:32:46+00:00</td>\n",
       "      <td>2019-07-02 02:34:56+00:00</td>\n",
       "      <td>2019-07-02 01:46:09+00:00</td>\n",
       "      <td>2.463</td>\n",
       "      <td>1_1_193_827_2019-07-02 00:32:45.820079</td>\n",
       "      <td>1</td>\n",
       "      <td>AG-1F02</td>\n",
       "      <td>1-1-193-827</td>\n",
       "      <td>America/Los_Angeles</td>\n",
       "      <td>1117.0</td>\n",
       "      <td>[{'WhPerMile': 200, 'kWhRequested': 4.0, 'mile...</td>\n",
       "    </tr>\n",
       "    <tr>\n",
       "      <th>65037</th>\n",
       "      <td>8675</td>\n",
       "      <td>5d2fbdd3f9af8b4d0dd0d54f</td>\n",
       "      <td>2019-07-02 00:32:46+00:00</td>\n",
       "      <td>2019-07-02 02:34:56+00:00</td>\n",
       "      <td>2019-07-02 01:46:09+00:00</td>\n",
       "      <td>2.463</td>\n",
       "      <td>1_1_193_827_2019-07-02 00:32:45.820079</td>\n",
       "      <td>1</td>\n",
       "      <td>AG-1F02</td>\n",
       "      <td>1-1-193-827</td>\n",
       "      <td>America/Los_Angeles</td>\n",
       "      <td>1117.0</td>\n",
       "      <td>[{'WhPerMile': 200, 'kWhRequested': 4.0, 'mile...</td>\n",
       "    </tr>\n",
       "    <tr>\n",
       "      <th>65038</th>\n",
       "      <td>8676</td>\n",
       "      <td>5d310f54f9af8b52adda3e20</td>\n",
       "      <td>2019-07-02 12:15:28+00:00</td>\n",
       "      <td>2019-07-02 16:01:01+00:00</td>\n",
       "      <td>2019-07-02 16:01:38+00:00</td>\n",
       "      <td>12.891</td>\n",
       "      <td>1_1_194_818_2019-07-02 12:15:28.503952</td>\n",
       "      <td>1</td>\n",
       "      <td>AG-1F14</td>\n",
       "      <td>1-1-194-818</td>\n",
       "      <td>America/Los_Angeles</td>\n",
       "      <td>2834.0</td>\n",
       "      <td>[{'WhPerMile': 273, 'kWhRequested': 19.11, 'mi...</td>\n",
       "    </tr>\n",
       "    <tr>\n",
       "      <th>5574</th>\n",
       "      <td>1</td>\n",
       "      <td>5d310f54f9af8b52adda3e20</td>\n",
       "      <td>2019-07-02 12:15:28+00:00</td>\n",
       "      <td>2019-07-02 16:01:01+00:00</td>\n",
       "      <td>2019-07-02 16:01:38+00:00</td>\n",
       "      <td>12.891</td>\n",
       "      <td>1_1_194_818_2019-07-02 12:15:28.503952</td>\n",
       "      <td>1</td>\n",
       "      <td>AG-1F14</td>\n",
       "      <td>1-1-194-818</td>\n",
       "      <td>America/Los_Angeles</td>\n",
       "      <td>2834.0</td>\n",
       "      <td>[{'WhPerMile': 273, 'kWhRequested': 19.11, 'mi...</td>\n",
       "    </tr>\n",
       "    <tr>\n",
       "      <th>5575</th>\n",
       "      <td>2</td>\n",
       "      <td>5d310f54f9af8b52adda3e21</td>\n",
       "      <td>2019-07-02 12:42:49+00:00</td>\n",
       "      <td>2019-07-02 19:34:19+00:00</td>\n",
       "      <td>2019-07-02 16:21:21+00:00</td>\n",
       "      <td>13.734</td>\n",
       "      <td>1_1_178_828_2019-07-02 12:42:48.733464</td>\n",
       "      <td>1</td>\n",
       "      <td>AG-1F10</td>\n",
       "      <td>1-1-178-828</td>\n",
       "      <td>America/Los_Angeles</td>\n",
       "      <td>651.0</td>\n",
       "      <td>[{'WhPerMile': 400, 'kWhRequested': 20.0, 'mil...</td>\n",
       "    </tr>\n",
       "    <tr>\n",
       "      <th>...</th>\n",
       "      <td>...</td>\n",
       "      <td>...</td>\n",
       "      <td>...</td>\n",
       "      <td>...</td>\n",
       "      <td>...</td>\n",
       "      <td>...</td>\n",
       "      <td>...</td>\n",
       "      <td>...</td>\n",
       "      <td>...</td>\n",
       "      <td>...</td>\n",
       "      <td>...</td>\n",
       "      <td>...</td>\n",
       "      <td>...</td>\n",
       "    </tr>\n",
       "    <tr>\n",
       "      <th>6983</th>\n",
       "      <td>1410</td>\n",
       "      <td>5d574ad2f9af8b4c10c03654</td>\n",
       "      <td>2019-07-31 19:04:40+00:00</td>\n",
       "      <td>2019-07-31 22:44:22+00:00</td>\n",
       "      <td>2019-07-31 22:45:21+00:00</td>\n",
       "      <td>11.274</td>\n",
       "      <td>1_1_191_795_2019-07-31 19:04:40.098273</td>\n",
       "      <td>1</td>\n",
       "      <td>AG-4F51</td>\n",
       "      <td>1-1-191-795</td>\n",
       "      <td>America/Los_Angeles</td>\n",
       "      <td>1974.0</td>\n",
       "      <td>[{'WhPerMile': 333, 'kWhRequested': 19.98, 'mi...</td>\n",
       "    </tr>\n",
       "    <tr>\n",
       "      <th>66448</th>\n",
       "      <td>10086</td>\n",
       "      <td>5d574ad2f9af8b4c10c03655</td>\n",
       "      <td>2019-07-31 19:19:47+00:00</td>\n",
       "      <td>2019-08-01 00:34:51+00:00</td>\n",
       "      <td>2019-07-31 21:25:30+00:00</td>\n",
       "      <td>11.589</td>\n",
       "      <td>1_1_191_778_2019-07-31 19:19:46.919358</td>\n",
       "      <td>1</td>\n",
       "      <td>AG-4F43</td>\n",
       "      <td>1-1-191-778</td>\n",
       "      <td>America/Los_Angeles</td>\n",
       "      <td>942.0</td>\n",
       "      <td>[{'WhPerMile': 275, 'kWhRequested': 22.0, 'mil...</td>\n",
       "    </tr>\n",
       "    <tr>\n",
       "      <th>6984</th>\n",
       "      <td>1411</td>\n",
       "      <td>5d574ad2f9af8b4c10c03655</td>\n",
       "      <td>2019-07-31 19:19:47+00:00</td>\n",
       "      <td>2019-08-01 00:34:51+00:00</td>\n",
       "      <td>2019-07-31 21:25:30+00:00</td>\n",
       "      <td>11.589</td>\n",
       "      <td>1_1_191_778_2019-07-31 19:19:46.919358</td>\n",
       "      <td>1</td>\n",
       "      <td>AG-4F43</td>\n",
       "      <td>1-1-191-778</td>\n",
       "      <td>America/Los_Angeles</td>\n",
       "      <td>942.0</td>\n",
       "      <td>[{'WhPerMile': 275, 'kWhRequested': 22.0, 'mil...</td>\n",
       "    </tr>\n",
       "    <tr>\n",
       "      <th>6985</th>\n",
       "      <td>1412</td>\n",
       "      <td>5d574ad2f9af8b4c10c03656</td>\n",
       "      <td>2019-07-31 19:21:47+00:00</td>\n",
       "      <td>2019-07-31 22:00:04+00:00</td>\n",
       "      <td>2019-07-31 20:51:34+00:00</td>\n",
       "      <td>0.897</td>\n",
       "      <td>1_1_178_817_2019-07-31 19:21:46.727697</td>\n",
       "      <td>1</td>\n",
       "      <td>AG-1F09</td>\n",
       "      <td>1-1-178-817</td>\n",
       "      <td>America/Los_Angeles</td>\n",
       "      <td>NaN</td>\n",
       "      <td>NaN</td>\n",
       "    </tr>\n",
       "    <tr>\n",
       "      <th>66449</th>\n",
       "      <td>10087</td>\n",
       "      <td>5d574ad2f9af8b4c10c03656</td>\n",
       "      <td>2019-07-31 19:21:47+00:00</td>\n",
       "      <td>2019-07-31 22:00:04+00:00</td>\n",
       "      <td>2019-07-31 20:51:34+00:00</td>\n",
       "      <td>0.897</td>\n",
       "      <td>1_1_178_817_2019-07-31 19:21:46.727697</td>\n",
       "      <td>1</td>\n",
       "      <td>AG-1F09</td>\n",
       "      <td>1-1-178-817</td>\n",
       "      <td>America/Los_Angeles</td>\n",
       "      <td>NaN</td>\n",
       "      <td>NaN</td>\n",
       "    </tr>\n",
       "  </tbody>\n",
       "</table>\n",
       "<p>2826 rows × 13 columns</p>\n",
       "</div>"
      ]
     },
     "execution_count": 248,
     "metadata": {},
     "output_type": "execute_result"
    }
   ],
   "execution_count": 248
  },
  {
   "metadata": {
    "ExecuteTime": {
     "end_time": "2025-01-03T21:33:14.143857Z",
     "start_time": "2025-01-03T21:33:14.128856Z"
    }
   },
   "cell_type": "code",
   "source": "charging_data.drop_duplicates(subset='sessionID', keep='first', inplace=True)",
   "id": "c25a3f957061fdb0",
   "outputs": [],
   "execution_count": 249
  },
  {
   "metadata": {},
   "cell_type": "markdown",
   "source": [
    "### 2.2 Transform Datatypes\n",
    "Format the datatypes of the columns to those described in the Team Assignment PDF"
   ],
   "id": "8c830bad3790b6bc"
  },
  {
   "metadata": {
    "ExecuteTime": {
     "end_time": "2025-01-03T21:33:14.391544Z",
     "start_time": "2025-01-03T21:33:14.203189Z"
    }
   },
   "cell_type": "code",
   "source": [
    "# Charging Data\n",
    "charging_data['connectionTime'] = pd.to_datetime(charging_data['connectionTime'])\n",
    "charging_data['disconnectTime'] = pd.to_datetime(charging_data['disconnectTime'])\n",
    "charging_data['doneChargingTime'] = pd.to_datetime(charging_data['doneChargingTime'])\n",
    "charging_data['siteID'] = charging_data['siteID'].astype(str)\n",
    "# We will transform the datatype of column userID and userInputs later, when handling missing data\n",
    "#charging_data['userID'] = charging_data['userID'].astype(str)\n",
    "#charging_data['userInputs'] = charging_data['userInputs'].astype(str)\n",
    "\n",
    "# Team Assignment PDF: \"All datetimes are in UTC (GMT) see timezone field for the correct timezone of the site.\"\n",
    "# -> Therefore we have to convert the connectionTime, disconnectTime and doneChargingTime to timezone PST (pacific standard time) as the sites are located in Los Angeles.\n",
    "charging_data['connectionTime'] = charging_data['connectionTime'].dt.tz_convert(tz='America/Los_Angeles')\n",
    "charging_data['disconnectTime'] = charging_data['disconnectTime'].dt.tz_convert(tz='America/Los_Angeles')\n",
    "charging_data['doneChargingTime'] = charging_data['doneChargingTime'].dt.tz_convert(tz='America/Los_Angeles')\n",
    "charging_data.info()"
   ],
   "id": "cd8ef1684fb2dca5",
   "outputs": [
    {
     "name": "stdout",
     "output_type": "stream",
     "text": [
      "<class 'pandas.core.frame.DataFrame'>\n",
      "Index: 65037 entries, 0 to 65036\n",
      "Data columns (total 13 columns):\n",
      " #   Column            Non-Null Count  Dtype                              \n",
      "---  ------            --------------  -----                              \n",
      " 0   counter           65037 non-null  int64                              \n",
      " 1   id                65037 non-null  object                             \n",
      " 2   connectionTime    65037 non-null  datetime64[ns, America/Los_Angeles]\n",
      " 3   disconnectTime    65037 non-null  datetime64[ns, America/Los_Angeles]\n",
      " 4   doneChargingTime  60950 non-null  datetime64[ns, America/Los_Angeles]\n",
      " 5   kWhDelivered      65037 non-null  float64                            \n",
      " 6   sessionID         65037 non-null  object                             \n",
      " 7   siteID            65037 non-null  object                             \n",
      " 8   spaceID           65037 non-null  object                             \n",
      " 9   stationID         65037 non-null  object                             \n",
      " 10  timezone          65037 non-null  object                             \n",
      " 11  userID            47822 non-null  float64                            \n",
      " 12  userInputs        47822 non-null  object                             \n",
      "dtypes: datetime64[ns, America/Los_Angeles](3), float64(2), int64(1), object(7)\n",
      "memory usage: 6.9+ MB\n"
     ]
    }
   ],
   "execution_count": 250
  },
  {
   "metadata": {
    "ExecuteTime": {
     "end_time": "2025-01-03T21:33:14.421702Z",
     "start_time": "2025-01-03T21:33:14.402053Z"
    }
   },
   "cell_type": "code",
   "source": [
    "# The offset of the columns connectionTime, disconnectTime and doneChargingTime is now -08:00 or -07:00 (summer) which is correct for timezone PST (Los Angeles)\n",
    "charging_data.head()"
   ],
   "id": "355eaef44d858c0c",
   "outputs": [
    {
     "data": {
      "text/plain": [
       "   counter                        id            connectionTime  \\\n",
       "0        0  5e23b149f9af8b5fe4b973cf 2020-01-02 05:08:54-08:00   \n",
       "1        1  5e23b149f9af8b5fe4b973d0 2020-01-02 05:36:50-08:00   \n",
       "2        2  5e23b149f9af8b5fe4b973d1 2020-01-02 05:56:35-08:00   \n",
       "3        3  5e23b149f9af8b5fe4b973d2 2020-01-02 05:59:58-08:00   \n",
       "4        4  5e23b149f9af8b5fe4b973d3 2020-01-02 06:00:01-08:00   \n",
       "\n",
       "             disconnectTime          doneChargingTime  kWhDelivered  \\\n",
       "0 2020-01-02 11:11:15-08:00 2020-01-02 09:31:35-08:00        25.016   \n",
       "1 2020-01-02 14:38:21-08:00 2020-01-02 12:18:05-08:00        33.097   \n",
       "2 2020-01-02 16:39:22-08:00 2020-01-02 08:35:06-08:00         6.521   \n",
       "3 2020-01-02 08:38:39-08:00 2020-01-02 07:18:45-08:00         2.355   \n",
       "4 2020-01-02 14:08:40-08:00 2020-01-02 10:17:30-08:00        13.375   \n",
       "\n",
       "                                sessionID siteID  spaceID    stationID  \\\n",
       "0  1_1_179_810_2020-01-02 13:08:53.870034      1  AG-3F30  1-1-179-810   \n",
       "1  1_1_193_825_2020-01-02 13:36:49.599853      1  AG-1F01  1-1-193-825   \n",
       "2  1_1_193_829_2020-01-02 13:56:35.214993      1  AG-1F03  1-1-193-829   \n",
       "3  1_1_193_820_2020-01-02 13:59:58.309319      1  AG-1F04  1-1-193-820   \n",
       "4  1_1_193_819_2020-01-02 14:00:00.779967      1  AG-1F06  1-1-193-819   \n",
       "\n",
       "              timezone  userID  \\\n",
       "0  America/Los_Angeles   194.0   \n",
       "1  America/Los_Angeles  4275.0   \n",
       "2  America/Los_Angeles   344.0   \n",
       "3  America/Los_Angeles  1117.0   \n",
       "4  America/Los_Angeles   334.0   \n",
       "\n",
       "                                          userInputs  \n",
       "0  [{'WhPerMile': 250, 'kWhRequested': 25.0, 'mil...  \n",
       "1  [{'WhPerMile': 280, 'kWhRequested': 70.0, 'mil...  \n",
       "2  [{'WhPerMile': 400, 'kWhRequested': 8.0, 'mile...  \n",
       "3  [{'WhPerMile': 400, 'kWhRequested': 8.0, 'mile...  \n",
       "4  [{'WhPerMile': 400, 'kWhRequested': 16.0, 'mil...  "
      ],
      "text/html": [
       "<div>\n",
       "<style scoped>\n",
       "    .dataframe tbody tr th:only-of-type {\n",
       "        vertical-align: middle;\n",
       "    }\n",
       "\n",
       "    .dataframe tbody tr th {\n",
       "        vertical-align: top;\n",
       "    }\n",
       "\n",
       "    .dataframe thead th {\n",
       "        text-align: right;\n",
       "    }\n",
       "</style>\n",
       "<table border=\"1\" class=\"dataframe\">\n",
       "  <thead>\n",
       "    <tr style=\"text-align: right;\">\n",
       "      <th></th>\n",
       "      <th>counter</th>\n",
       "      <th>id</th>\n",
       "      <th>connectionTime</th>\n",
       "      <th>disconnectTime</th>\n",
       "      <th>doneChargingTime</th>\n",
       "      <th>kWhDelivered</th>\n",
       "      <th>sessionID</th>\n",
       "      <th>siteID</th>\n",
       "      <th>spaceID</th>\n",
       "      <th>stationID</th>\n",
       "      <th>timezone</th>\n",
       "      <th>userID</th>\n",
       "      <th>userInputs</th>\n",
       "    </tr>\n",
       "  </thead>\n",
       "  <tbody>\n",
       "    <tr>\n",
       "      <th>0</th>\n",
       "      <td>0</td>\n",
       "      <td>5e23b149f9af8b5fe4b973cf</td>\n",
       "      <td>2020-01-02 05:08:54-08:00</td>\n",
       "      <td>2020-01-02 11:11:15-08:00</td>\n",
       "      <td>2020-01-02 09:31:35-08:00</td>\n",
       "      <td>25.016</td>\n",
       "      <td>1_1_179_810_2020-01-02 13:08:53.870034</td>\n",
       "      <td>1</td>\n",
       "      <td>AG-3F30</td>\n",
       "      <td>1-1-179-810</td>\n",
       "      <td>America/Los_Angeles</td>\n",
       "      <td>194.0</td>\n",
       "      <td>[{'WhPerMile': 250, 'kWhRequested': 25.0, 'mil...</td>\n",
       "    </tr>\n",
       "    <tr>\n",
       "      <th>1</th>\n",
       "      <td>1</td>\n",
       "      <td>5e23b149f9af8b5fe4b973d0</td>\n",
       "      <td>2020-01-02 05:36:50-08:00</td>\n",
       "      <td>2020-01-02 14:38:21-08:00</td>\n",
       "      <td>2020-01-02 12:18:05-08:00</td>\n",
       "      <td>33.097</td>\n",
       "      <td>1_1_193_825_2020-01-02 13:36:49.599853</td>\n",
       "      <td>1</td>\n",
       "      <td>AG-1F01</td>\n",
       "      <td>1-1-193-825</td>\n",
       "      <td>America/Los_Angeles</td>\n",
       "      <td>4275.0</td>\n",
       "      <td>[{'WhPerMile': 280, 'kWhRequested': 70.0, 'mil...</td>\n",
       "    </tr>\n",
       "    <tr>\n",
       "      <th>2</th>\n",
       "      <td>2</td>\n",
       "      <td>5e23b149f9af8b5fe4b973d1</td>\n",
       "      <td>2020-01-02 05:56:35-08:00</td>\n",
       "      <td>2020-01-02 16:39:22-08:00</td>\n",
       "      <td>2020-01-02 08:35:06-08:00</td>\n",
       "      <td>6.521</td>\n",
       "      <td>1_1_193_829_2020-01-02 13:56:35.214993</td>\n",
       "      <td>1</td>\n",
       "      <td>AG-1F03</td>\n",
       "      <td>1-1-193-829</td>\n",
       "      <td>America/Los_Angeles</td>\n",
       "      <td>344.0</td>\n",
       "      <td>[{'WhPerMile': 400, 'kWhRequested': 8.0, 'mile...</td>\n",
       "    </tr>\n",
       "    <tr>\n",
       "      <th>3</th>\n",
       "      <td>3</td>\n",
       "      <td>5e23b149f9af8b5fe4b973d2</td>\n",
       "      <td>2020-01-02 05:59:58-08:00</td>\n",
       "      <td>2020-01-02 08:38:39-08:00</td>\n",
       "      <td>2020-01-02 07:18:45-08:00</td>\n",
       "      <td>2.355</td>\n",
       "      <td>1_1_193_820_2020-01-02 13:59:58.309319</td>\n",
       "      <td>1</td>\n",
       "      <td>AG-1F04</td>\n",
       "      <td>1-1-193-820</td>\n",
       "      <td>America/Los_Angeles</td>\n",
       "      <td>1117.0</td>\n",
       "      <td>[{'WhPerMile': 400, 'kWhRequested': 8.0, 'mile...</td>\n",
       "    </tr>\n",
       "    <tr>\n",
       "      <th>4</th>\n",
       "      <td>4</td>\n",
       "      <td>5e23b149f9af8b5fe4b973d3</td>\n",
       "      <td>2020-01-02 06:00:01-08:00</td>\n",
       "      <td>2020-01-02 14:08:40-08:00</td>\n",
       "      <td>2020-01-02 10:17:30-08:00</td>\n",
       "      <td>13.375</td>\n",
       "      <td>1_1_193_819_2020-01-02 14:00:00.779967</td>\n",
       "      <td>1</td>\n",
       "      <td>AG-1F06</td>\n",
       "      <td>1-1-193-819</td>\n",
       "      <td>America/Los_Angeles</td>\n",
       "      <td>334.0</td>\n",
       "      <td>[{'WhPerMile': 400, 'kWhRequested': 16.0, 'mil...</td>\n",
       "    </tr>\n",
       "  </tbody>\n",
       "</table>\n",
       "</div>"
      ]
     },
     "execution_count": 251,
     "metadata": {},
     "output_type": "execute_result"
    }
   ],
   "execution_count": 251
  },
  {
   "metadata": {
    "ExecuteTime": {
     "end_time": "2025-01-03T21:33:14.560882Z",
     "start_time": "2025-01-03T21:33:14.530882Z"
    }
   },
   "cell_type": "code",
   "source": [
    "# Additionally we localize the weather data, so that the datetime columns in both datasets have the same timezone\n",
    "weather_data['timestamp'] = pd.to_datetime(weather_data['timestamp'])\n",
    "weather_data['timestamp'] = weather_data['timestamp'].dt.tz_localize(tz='America/Los_Angeles', nonexistent='shift_forward', ambiguous='NaT')\n",
    "weather_data.head()"
   ],
   "id": "f034505e4d20d383",
   "outputs": [
    {
     "data": {
      "text/plain": [
       "      city                 timestamp  temperature  cloud_cover  \\\n",
       "0  Burbank 2018-01-01 08:53:00-08:00          9.0         33.0   \n",
       "1  Burbank 2018-01-01 09:53:00-08:00          9.0         33.0   \n",
       "2  Burbank 2018-01-01 10:53:00-08:00          9.0         21.0   \n",
       "3  Burbank 2018-01-01 11:53:00-08:00          9.0         29.0   \n",
       "4  Burbank 2018-01-01 12:53:00-08:00          8.0         33.0   \n",
       "\n",
       "  cloud_cover_description  pressure  windspeed  precipitation  \\\n",
       "0                    Fair    991.75        9.0            0.0   \n",
       "1                    Fair    992.08        0.0            0.0   \n",
       "2                    Haze    992.08        0.0            0.0   \n",
       "3           Partly Cloudy    992.08        0.0            0.0   \n",
       "4                    Fair    992.08        0.0            0.0   \n",
       "\n",
       "   felt_temperature  \n",
       "0               8.0  \n",
       "1               9.0  \n",
       "2               9.0  \n",
       "3               9.0  \n",
       "4               8.0  "
      ],
      "text/html": [
       "<div>\n",
       "<style scoped>\n",
       "    .dataframe tbody tr th:only-of-type {\n",
       "        vertical-align: middle;\n",
       "    }\n",
       "\n",
       "    .dataframe tbody tr th {\n",
       "        vertical-align: top;\n",
       "    }\n",
       "\n",
       "    .dataframe thead th {\n",
       "        text-align: right;\n",
       "    }\n",
       "</style>\n",
       "<table border=\"1\" class=\"dataframe\">\n",
       "  <thead>\n",
       "    <tr style=\"text-align: right;\">\n",
       "      <th></th>\n",
       "      <th>city</th>\n",
       "      <th>timestamp</th>\n",
       "      <th>temperature</th>\n",
       "      <th>cloud_cover</th>\n",
       "      <th>cloud_cover_description</th>\n",
       "      <th>pressure</th>\n",
       "      <th>windspeed</th>\n",
       "      <th>precipitation</th>\n",
       "      <th>felt_temperature</th>\n",
       "    </tr>\n",
       "  </thead>\n",
       "  <tbody>\n",
       "    <tr>\n",
       "      <th>0</th>\n",
       "      <td>Burbank</td>\n",
       "      <td>2018-01-01 08:53:00-08:00</td>\n",
       "      <td>9.0</td>\n",
       "      <td>33.0</td>\n",
       "      <td>Fair</td>\n",
       "      <td>991.75</td>\n",
       "      <td>9.0</td>\n",
       "      <td>0.0</td>\n",
       "      <td>8.0</td>\n",
       "    </tr>\n",
       "    <tr>\n",
       "      <th>1</th>\n",
       "      <td>Burbank</td>\n",
       "      <td>2018-01-01 09:53:00-08:00</td>\n",
       "      <td>9.0</td>\n",
       "      <td>33.0</td>\n",
       "      <td>Fair</td>\n",
       "      <td>992.08</td>\n",
       "      <td>0.0</td>\n",
       "      <td>0.0</td>\n",
       "      <td>9.0</td>\n",
       "    </tr>\n",
       "    <tr>\n",
       "      <th>2</th>\n",
       "      <td>Burbank</td>\n",
       "      <td>2018-01-01 10:53:00-08:00</td>\n",
       "      <td>9.0</td>\n",
       "      <td>21.0</td>\n",
       "      <td>Haze</td>\n",
       "      <td>992.08</td>\n",
       "      <td>0.0</td>\n",
       "      <td>0.0</td>\n",
       "      <td>9.0</td>\n",
       "    </tr>\n",
       "    <tr>\n",
       "      <th>3</th>\n",
       "      <td>Burbank</td>\n",
       "      <td>2018-01-01 11:53:00-08:00</td>\n",
       "      <td>9.0</td>\n",
       "      <td>29.0</td>\n",
       "      <td>Partly Cloudy</td>\n",
       "      <td>992.08</td>\n",
       "      <td>0.0</td>\n",
       "      <td>0.0</td>\n",
       "      <td>9.0</td>\n",
       "    </tr>\n",
       "    <tr>\n",
       "      <th>4</th>\n",
       "      <td>Burbank</td>\n",
       "      <td>2018-01-01 12:53:00-08:00</td>\n",
       "      <td>8.0</td>\n",
       "      <td>33.0</td>\n",
       "      <td>Fair</td>\n",
       "      <td>992.08</td>\n",
       "      <td>0.0</td>\n",
       "      <td>0.0</td>\n",
       "      <td>8.0</td>\n",
       "    </tr>\n",
       "  </tbody>\n",
       "</table>\n",
       "</div>"
      ]
     },
     "execution_count": 252,
     "metadata": {},
     "output_type": "execute_result"
    }
   ],
   "execution_count": 252
  },
  {
   "metadata": {
    "ExecuteTime": {
     "end_time": "2025-01-03T21:33:14.655165Z",
     "start_time": "2025-01-03T21:33:14.641167Z"
    }
   },
   "cell_type": "code",
   "source": [
    "# While performing the timezone localize to the weather data, we faced an AmbiguousTimeError which occurs because of an issue with converting timezone-aware datetime values.\n",
    "# For example, during the transition from DST (Daylight Saving Time) to standard time, an hour gets repeated, making times like 2018-11-04 01:53:00 ambiguous (it could occur in either DST or standard time).\n",
    "# Therefore, we decided to use the parameters nonexistent='shift_forward' and ambiguous='NaT' of the function tz_localize which deals with this issue. It replaced 3 timestamps with 'NaT' (Not a Time) which we will drop from the weather dataset.\n",
    "nat_records = weather_data[pd.isna(weather_data['timestamp'])]\n",
    "nat_records"
   ],
   "id": "61f51eb1c3f7147c",
   "outputs": [
    {
     "data": {
      "text/plain": [
       "          city timestamp  temperature  cloud_cover cloud_cover_description  \\\n",
       "8077   Burbank       NaT         26.0         33.0                    Fair   \n",
       "18030  Burbank       NaT         23.0         27.0           Mostly Cloudy   \n",
       "27704  Burbank       NaT         25.0         33.0                    Fair   \n",
       "\n",
       "       pressure  windspeed  precipitation  felt_temperature  \n",
       "8077     985.49        7.0            0.0              26.0  \n",
       "18030    986.81        7.0            0.0              23.0  \n",
       "27704    987.80        9.0            0.0              26.0  "
      ],
      "text/html": [
       "<div>\n",
       "<style scoped>\n",
       "    .dataframe tbody tr th:only-of-type {\n",
       "        vertical-align: middle;\n",
       "    }\n",
       "\n",
       "    .dataframe tbody tr th {\n",
       "        vertical-align: top;\n",
       "    }\n",
       "\n",
       "    .dataframe thead th {\n",
       "        text-align: right;\n",
       "    }\n",
       "</style>\n",
       "<table border=\"1\" class=\"dataframe\">\n",
       "  <thead>\n",
       "    <tr style=\"text-align: right;\">\n",
       "      <th></th>\n",
       "      <th>city</th>\n",
       "      <th>timestamp</th>\n",
       "      <th>temperature</th>\n",
       "      <th>cloud_cover</th>\n",
       "      <th>cloud_cover_description</th>\n",
       "      <th>pressure</th>\n",
       "      <th>windspeed</th>\n",
       "      <th>precipitation</th>\n",
       "      <th>felt_temperature</th>\n",
       "    </tr>\n",
       "  </thead>\n",
       "  <tbody>\n",
       "    <tr>\n",
       "      <th>8077</th>\n",
       "      <td>Burbank</td>\n",
       "      <td>NaT</td>\n",
       "      <td>26.0</td>\n",
       "      <td>33.0</td>\n",
       "      <td>Fair</td>\n",
       "      <td>985.49</td>\n",
       "      <td>7.0</td>\n",
       "      <td>0.0</td>\n",
       "      <td>26.0</td>\n",
       "    </tr>\n",
       "    <tr>\n",
       "      <th>18030</th>\n",
       "      <td>Burbank</td>\n",
       "      <td>NaT</td>\n",
       "      <td>23.0</td>\n",
       "      <td>27.0</td>\n",
       "      <td>Mostly Cloudy</td>\n",
       "      <td>986.81</td>\n",
       "      <td>7.0</td>\n",
       "      <td>0.0</td>\n",
       "      <td>23.0</td>\n",
       "    </tr>\n",
       "    <tr>\n",
       "      <th>27704</th>\n",
       "      <td>Burbank</td>\n",
       "      <td>NaT</td>\n",
       "      <td>25.0</td>\n",
       "      <td>33.0</td>\n",
       "      <td>Fair</td>\n",
       "      <td>987.80</td>\n",
       "      <td>9.0</td>\n",
       "      <td>0.0</td>\n",
       "      <td>26.0</td>\n",
       "    </tr>\n",
       "  </tbody>\n",
       "</table>\n",
       "</div>"
      ]
     },
     "execution_count": 253,
     "metadata": {},
     "output_type": "execute_result"
    }
   ],
   "execution_count": 253
  },
  {
   "metadata": {
    "ExecuteTime": {
     "end_time": "2025-01-03T21:33:14.748637Z",
     "start_time": "2025-01-03T21:33:14.733641Z"
    }
   },
   "cell_type": "code",
   "source": [
    "# Drop 3 NaT records\n",
    "print(f\"Number of rows in weather dataset before drop: {weather_data.shape[0]}\")\n",
    "weather_data = weather_data.dropna(subset=['timestamp'])\n",
    "print(f\"Number of rows in weather dataset after drop: {weather_data.shape[0]}\")\n",
    "# Initially 29244 and now 29241 -> correct"
   ],
   "id": "e0970fe23fa19a8",
   "outputs": [
    {
     "name": "stdout",
     "output_type": "stream",
     "text": [
      "Number of rows in weather dataset before drop: 29244\n",
      "Number of rows in weather dataset after drop: 29241\n"
     ]
    }
   ],
   "execution_count": 254
  },
  {
   "metadata": {
    "ExecuteTime": {
     "end_time": "2025-01-03T21:33:14.855614Z",
     "start_time": "2025-01-03T21:33:14.844616Z"
    }
   },
   "cell_type": "code",
   "source": [
    "'''\n",
    "# Transforming the json-Strings in the userInputs column to Dataframes\n",
    "# Notice: Takes about 1-2 minutes\n",
    "def parse_json_to_dataframe(json_string):\n",
    "    if json_string is not None and json_string != '' and json_string != 'nan':\n",
    "        cleaned_json = json_string.replace(\"'\", '\"')\n",
    "        cleaned_json = cleaned_json.replace(\"True\", '\"True\"')\n",
    "        cleaned_json = cleaned_json.replace(\"False\", '\"False\"')\n",
    "        data = json.loads(cleaned_json)\n",
    "        dataframe = pd.DataFrame(data)\n",
    "        #might as well just transform the date columns to the correct datatypes\n",
    "        dataframe['modifiedAt'] = pd.to_datetime(dataframe['modifiedAt'], format='%a, %d %b %Y %H:%M:%S %Z')\n",
    "        dataframe['modifiedAt'] = dataframe['modifiedAt'].dt.tz_convert(tz='America/Los_Angeles')\n",
    "        dataframe['requestedDeparture'] = pd.to_datetime(dataframe['requestedDeparture'], format='%a, %d %b %Y %H:%M:%S %Z')\n",
    "        dataframe['requestedDeparture'] = dataframe['requestedDeparture'].dt.tz_convert(tz='America/Los_Angeles')\n",
    "        return dataframe\n",
    "    else:\n",
    "        return None\n",
    "\n",
    "\n",
    "charging_data['userInputs'] = charging_data['userInputs'].apply(parse_json_to_dataframe)\n",
    "\n",
    "'''"
   ],
   "id": "d194ab790b54dd36",
   "outputs": [
    {
     "data": {
      "text/plain": [
       "'\\n# Transforming the json-Strings in the userInputs column to Dataframes\\n# Notice: Takes about 1-2 minutes\\ndef parse_json_to_dataframe(json_string):\\n    if json_string is not None and json_string != \\'\\' and json_string != \\'nan\\':\\n        cleaned_json = json_string.replace(\"\\'\", \\'\"\\')\\n        cleaned_json = cleaned_json.replace(\"True\", \\'\"True\"\\')\\n        cleaned_json = cleaned_json.replace(\"False\", \\'\"False\"\\')\\n        data = json.loads(cleaned_json)\\n        dataframe = pd.DataFrame(data)\\n        #might as well just transform the date columns to the correct datatypes\\n        dataframe[\\'modifiedAt\\'] = pd.to_datetime(dataframe[\\'modifiedAt\\'], format=\\'%a, %d %b %Y %H:%M:%S %Z\\')\\n        dataframe[\\'modifiedAt\\'] = dataframe[\\'modifiedAt\\'].dt.tz_convert(tz=\\'America/Los_Angeles\\')\\n        dataframe[\\'requestedDeparture\\'] = pd.to_datetime(dataframe[\\'requestedDeparture\\'], format=\\'%a, %d %b %Y %H:%M:%S %Z\\')\\n        dataframe[\\'requestedDeparture\\'] = dataframe[\\'requestedDeparture\\'].dt.tz_convert(tz=\\'America/Los_Angeles\\')\\n        return dataframe\\n    else:\\n        return None\\n\\n\\ncharging_data[\\'userInputs\\'] = charging_data[\\'userInputs\\'].apply(parse_json_to_dataframe)\\n\\n'"
      ]
     },
     "execution_count": 255,
     "metadata": {},
     "output_type": "execute_result"
    }
   ],
   "execution_count": 255
  },
  {
   "metadata": {
    "ExecuteTime": {
     "end_time": "2025-01-03T21:33:14.934535Z",
     "start_time": "2025-01-03T21:33:14.920535Z"
    }
   },
   "cell_type": "code",
   "source": [
    "# check inner Dataframe\n",
    "dftest = charging_data['userInputs']\n",
    "dftest[3]"
   ],
   "id": "1d1df030b63461b0",
   "outputs": [
    {
     "data": {
      "text/plain": [
       "\"[{'WhPerMile': 400, 'kWhRequested': 8.0, 'milesRequested': 20, 'minutesAvailable': 65, 'modifiedAt': 'Thu, 02 Jan 2020 14:00:03 GMT', 'paymentRequired': True, 'requestedDeparture': 'Thu, 02 Jan 2020 15:04:58 GMT', 'userID': 1117}, {'WhPerMile': 400, 'kWhRequested': 8.0, 'milesRequested': 20, 'minutesAvailable': 65, 'modifiedAt': 'Thu, 02 Jan 2020 14:00:19 GMT', 'paymentRequired': True, 'requestedDeparture': 'Thu, 02 Jan 2020 15:04:58 GMT', 'userID': 1117}]\""
      ]
     },
     "execution_count": 256,
     "metadata": {},
     "output_type": "execute_result"
    }
   ],
   "execution_count": 256
  },
  {
   "metadata": {},
   "cell_type": "markdown",
   "source": "### 2.3 Identifying missing data",
   "id": "11b9454267005414"
  },
  {
   "metadata": {
    "ExecuteTime": {
     "end_time": "2025-01-03T21:33:15.298007Z",
     "start_time": "2025-01-03T21:33:15.013657Z"
    }
   },
   "cell_type": "code",
   "source": [
    "# First visualization of both datasets\n",
    "\n",
    "# Extract date for grouping\n",
    "charging_data['connection_date'] = charging_data['connectionTime'].dt.date\n",
    "\n",
    "# Aggregate charging sessions per day\n",
    "charging_sessions_per_day = charging_data.groupby(['connection_date', 'siteID']).size().unstack(fill_value=0)\n",
    "\n",
    "# Plot charging sessions over time\n",
    "plt.figure(figsize=(8, 4))\n",
    "for siteID in charging_sessions_per_day.columns:\n",
    "    charging_sessions_per_day[siteID].plot(label=f'Site {siteID}', alpha=0.7)\n",
    "plt.title('Charging Sessions Over Time')\n",
    "plt.xlabel('Date')\n",
    "plt.ylabel('Number of Sessions')\n",
    "plt.legend()\n",
    "plt.grid(axis='y', linestyle='--', alpha=0.7)\n",
    "plt.show()"
   ],
   "id": "fcf1eb7c4908fe63",
   "outputs": [
    {
     "data": {
      "text/plain": [
       "<Figure size 800x400 with 1 Axes>"
      ],
      "image/png": "[encoded data removed]"
     },
     "metadata": {},
     "output_type": "display_data"
    }
   ],
   "execution_count": 257
  },
  {
   "metadata": {
    "ExecuteTime": {
     "end_time": "2025-01-03T21:33:15.377882Z",
     "start_time": "2025-01-03T21:33:15.362877Z"
    }
   },
   "cell_type": "code",
   "source": [
    "# Add a column for month and year\n",
    "charging_data['year_month'] = charging_data['connectionTime'].dt.to_period('M')\n",
    "\n",
    "# Group by month and count records\n",
    "monthly_counts = charging_data.groupby('year_month').size()\n",
    "\n",
    "# Display the counts for visual inspection\n",
    "monthly_counts"
   ],
   "id": "438a93a276be86c0",
   "outputs": [
    {
     "name": "stderr",
     "output_type": "stream",
     "text": [
      "C:\\Users\\micro\\AppData\\Local\\Temp\\ipykernel_47412\\2793028265.py:2: UserWarning: Converting to PeriodArray/Index representation will drop timezone information.\n",
      "  charging_data['year_month'] = charging_data['connectionTime'].dt.to_period('M')\n"
     ]
    },
    {
     "data": {
      "text/plain": [
       "year_month\n",
       "2018-04     270\n",
       "2018-05    1776\n",
       "2018-06    1845\n",
       "2018-07    2053\n",
       "2018-08    2430\n",
       "2018-09    3190\n",
       "2018-10    3980\n",
       "2018-11    2593\n",
       "2018-12    1930\n",
       "2019-01    2360\n",
       "2019-02    2222\n",
       "2019-03    2353\n",
       "2019-04    2559\n",
       "2019-05    2608\n",
       "2019-06    2267\n",
       "2019-07    2309\n",
       "2019-08    2369\n",
       "2019-09    2250\n",
       "2019-10    2602\n",
       "2019-11    2123\n",
       "2019-12    1997\n",
       "2020-01    2300\n",
       "2020-02    2249\n",
       "2020-03    1216\n",
       "2020-04     225\n",
       "2020-05     268\n",
       "2020-06     411\n",
       "2020-07     552\n",
       "2020-08      30\n",
       "2020-11     209\n",
       "2020-12     581\n",
       "2021-01     679\n",
       "2021-02     747\n",
       "2021-03     915\n",
       "2021-04     971\n",
       "2021-05    1006\n",
       "2021-06    1246\n",
       "2021-07    1035\n",
       "2021-08    1628\n",
       "2021-09     683\n",
       "Freq: M, dtype: int64"
      ]
     },
     "execution_count": 258,
     "metadata": {},
     "output_type": "execute_result"
    }
   ],
   "execution_count": 258
  },
  {
   "metadata": {},
   "cell_type": "markdown",
   "source": [
    "Observations: </br>\n",
    "- Notably more charging sessions in 2018 and 2019, especially in summer months (pre-covid)\n",
    "- Much less charging sessions during covid pandemic (started in march 2020)\n",
    "- Did not reach old levels after pandemic start"
   ],
   "id": "407871622663ac00"
  },
  {
   "metadata": {
    "ExecuteTime": {
     "end_time": "2025-01-03T21:33:15.518970Z",
     "start_time": "2025-01-03T21:33:15.504964Z"
    }
   },
   "cell_type": "code",
   "source": [
    "# Identify the first element (connectionTime) per site\n",
    "first_element_per_site = charging_data.groupby('siteID')['connectionTime'].min()\n",
    "first_element_per_site"
   ],
   "id": "e478769a73d36195",
   "outputs": [
    {
     "data": {
      "text/plain": [
       "siteID\n",
       "1   2018-09-05 04:04:13-07:00\n",
       "2   2018-04-25 04:08:04-07:00\n",
       "Name: connectionTime, dtype: datetime64[ns, America/Los_Angeles]"
      ]
     },
     "execution_count": 259,
     "metadata": {},
     "output_type": "execute_result"
    }
   ],
   "execution_count": 259
  },
  {
   "metadata": {
    "ExecuteTime": {
     "end_time": "2025-01-03T21:33:15.643381Z",
     "start_time": "2025-01-03T21:33:15.629382Z"
    }
   },
   "cell_type": "code",
   "source": [
    "# Identify the last element (connectionTime) per site\n",
    "last_element_per_site = charging_data.groupby('siteID')['connectionTime'].max()\n",
    "last_element_per_site"
   ],
   "id": "2c53456cc8a7808d",
   "outputs": [
    {
     "data": {
      "text/plain": [
       "siteID\n",
       "1   2021-09-13 22:43:39-07:00\n",
       "2   2021-09-13 18:52:37-07:00\n",
       "Name: connectionTime, dtype: datetime64[ns, America/Los_Angeles]"
      ]
     },
     "execution_count": 260,
     "metadata": {},
     "output_type": "execute_result"
    }
   ],
   "execution_count": 260
  },
  {
   "metadata": {},
   "cell_type": "markdown",
   "source": [
    "Observations:\n",
    "- Charging data ranges from 25-04-2018 (site 2) & 05-09-2018 (site 1) to 13-09-2021 (both sites)\n",
    "- Data for site 1 starts 133 days after site 2\n",
    "- Area with missing data between approx. August 2020 and December 2020"
   ],
   "id": "33ec64c1e301c543"
  },
  {
   "metadata": {
    "ExecuteTime": {
     "end_time": "2025-01-03T21:33:15.768515Z",
     "start_time": "2025-01-03T21:33:15.739080Z"
    }
   },
   "cell_type": "code",
   "source": [
    "# Filter data between August 2020 and December 2020\n",
    "filtered_data = charging_data[\n",
    "    (charging_data['connectionTime'] >= '2020-08-01') &\n",
    "    (charging_data['connectionTime'] <= '2020-12-01')\n",
    "].copy()\n",
    "\n",
    "# Group by date and get the last record for each date\n",
    "last_records_per_date = filtered_data.groupby(['siteID', 'connection_date']).tail(1)\n",
    "last_records_per_date"
   ],
   "id": "35bf46b24d33b124",
   "outputs": [
    {
     "data": {
      "text/plain": [
       "       counter                        id            connectionTime  \\\n",
       "5024      5024  5f3b210cf9af8b0a6d10cbf3 2020-08-01 10:58:21-07:00   \n",
       "5025      5025  5f3c728df9af8b0c7b9c8a8a 2020-08-02 10:49:33-07:00   \n",
       "5048      5048  5f3dc41bf9af8b0e903d4335 2020-08-03 14:43:29-07:00   \n",
       "5051      5051  5fdd5806f9af8b16e6675e23 2020-11-18 23:04:36-08:00   \n",
       "5077      5077  5fdd5806f9af8b16e6675e3c 2020-11-19 15:14:30-08:00   \n",
       "5086      5086  5fdd5813f9af8b16e6675e47 2020-11-20 13:23:21-08:00   \n",
       "5089      5089  5fdd5817f9af8b16e6675e4a 2020-11-21 09:58:18-08:00   \n",
       "5112      5112  5fdd5835f9af8b16e6675e61 2020-11-23 23:01:08-08:00   \n",
       "5140      5140  5fdd5843f9af8b16e6675e7d 2020-11-24 23:00:44-08:00   \n",
       "5154      5154  5fdd5843f9af8b16e6675e8b 2020-11-25 19:46:04-08:00   \n",
       "5157      5157  5fdd5848f9af8b16e6675e8e 2020-11-27 12:36:14-08:00   \n",
       "5159      5159  5fdd584af9af8b16e6675e90 2020-11-28 10:40:40-08:00   \n",
       "5161      5161  5fdd584cf9af8b16e6675e92 2020-11-29 14:48:23-08:00   \n",
       "5185      5185  5fdd5857f9af8b16e6675eaa 2020-11-30 14:56:30-08:00   \n",
       "51316     2197  5f3c728cf9af8b0c7b9c8a89 2020-08-02 05:30:47-07:00   \n",
       "51320     2201  5f3dc40cf9af8b0e903d431e 2020-08-03 15:02:13-07:00   \n",
       "51328     2209  5fdd57b1f9af8b16e6675dcd 2020-11-18 20:24:11-08:00   \n",
       "51330     2211  5fdd57b3f9af8b16e6675dcf 2020-11-19 15:28:16-08:00   \n",
       "51338     2219  5fdd57b7f9af8b16e6675dd7 2020-11-20 16:50:33-08:00   \n",
       "51341     2222  5fdd57b9f9af8b16e6675dda 2020-11-21 22:21:53-08:00   \n",
       "51348     2229  5fdd57bbf9af8b16e6675de1 2020-11-22 21:12:11-08:00   \n",
       "51354     2235  5fdd57bef9af8b16e6675de7 2020-11-23 18:10:58-08:00   \n",
       "51363     2244  5fdd57c1f9af8b16e6675df0 2020-11-24 19:17:20-08:00   \n",
       "51368     2249  5fdd57c5f9af8b16e6675df5 2020-11-25 16:00:32-08:00   \n",
       "51371     2252  5fdd57c8f9af8b16e6675df8 2020-11-26 21:34:45-08:00   \n",
       "51374     2255  5fdd57caf9af8b16e6675dfb 2020-11-27 18:45:44-08:00   \n",
       "51382     2263  5fdd57cdf9af8b16e6675e03 2020-11-28 17:38:38-08:00   \n",
       "51385     2266  5fdd57d0f9af8b16e6675e06 2020-11-29 16:18:58-08:00   \n",
       "51392     2273  5fdd57d3f9af8b16e6675e0d 2020-11-30 20:19:01-08:00   \n",
       "\n",
       "                 disconnectTime          doneChargingTime  kWhDelivered  \\\n",
       "5024  2020-08-01 16:11:54-07:00 2020-08-01 13:56:04-07:00         8.599   \n",
       "5025  2020-08-02 15:56:36-07:00 2020-08-02 13:51:52-07:00         8.812   \n",
       "5048  2020-08-03 17:30:15-07:00 2020-08-03 17:30:10-07:00         5.516   \n",
       "5051  2020-11-19 01:02:41-08:00 2020-11-19 00:47:26-08:00         5.293   \n",
       "5077  2020-11-19 17:19:36-08:00 2020-11-19 17:06:16-08:00         6.306   \n",
       "5086  2020-11-20 15:51:59-08:00 2020-11-20 14:58:11-08:00         4.564   \n",
       "5089  2020-11-21 14:16:48-08:00 2020-11-21 12:29:56-08:00        13.963   \n",
       "5112  2020-11-24 01:03:53-08:00 2020-11-24 00:38:08-08:00         4.946   \n",
       "5140  2020-11-25 01:00:00-08:00 2020-11-25 00:41:16-08:00         5.259   \n",
       "5154  2020-11-25 21:34:06-08:00 2020-11-25 21:28:10-08:00         5.179   \n",
       "5157  2020-11-27 20:11:43-08:00 2020-11-27 17:21:35-08:00        15.521   \n",
       "5159  2020-11-28 14:19:18-08:00 2020-11-28 13:02:58-08:00        13.941   \n",
       "5161  2020-11-29 23:41:29-08:00 2020-11-29 17:35:04-08:00        15.104   \n",
       "5185  2020-11-30 16:58:08-08:00 2020-11-30 16:41:03-08:00         5.256   \n",
       "51316 2020-08-02 11:11:36-07:00 2020-08-02 09:48:42-07:00        28.870   \n",
       "51320 2020-08-03 15:29:53-07:00 2020-08-03 15:29:48-07:00         1.724   \n",
       "51328 2020-11-18 21:07:15-08:00                       NaT        30.849   \n",
       "51330 2020-11-19 17:47:22-08:00 2020-11-19 17:47:18-08:00         7.738   \n",
       "51338 2020-11-20 17:18:59-08:00                       NaT        15.416   \n",
       "51341 2020-11-21 22:42:34-08:00                       NaT         8.451   \n",
       "51348 2020-11-23 01:58:56-08:00 2020-11-23 01:43:57-08:00        16.441   \n",
       "51354 2020-11-23 18:51:55-08:00                       NaT        21.768   \n",
       "51363 2020-11-24 19:55:54-08:00                       NaT        11.047   \n",
       "51368 2020-11-25 16:51:14-08:00 2020-11-25 16:49:47-08:00         2.314   \n",
       "51371 2020-11-27 17:27:51-08:00 2020-11-27 01:27:57-08:00        13.841   \n",
       "51374 2020-11-27 19:44:51-08:00                       NaT        44.286   \n",
       "51382 2020-11-28 18:07:14-08:00                       NaT        12.750   \n",
       "51385 2020-11-29 21:40:03-08:00 2020-11-29 17:24:55-08:00         2.223   \n",
       "51392 2020-11-30 20:54:25-08:00 2020-11-30 20:49:38-08:00         0.737   \n",
       "\n",
       "                                     sessionID siteID   spaceID     stationID  \\\n",
       "5024    1_1_191_792_2020-08-01 17:58:21.088227      1   AG-4F37   1-1-191-792   \n",
       "5025    1_1_191_792_2020-08-02 17:49:33.364151      1   AG-4F37   1-1-191-792   \n",
       "5048    1_1_193_827_2020-08-03 21:43:29.408907      1   AG-1F02   1-1-193-827   \n",
       "5051    1_1_178_823_2020-11-19 07:04:35.937413      1   AG-1F08   1-1-178-823   \n",
       "5077    1_1_191_792_2020-11-19 23:14:30.011951      1   AG-4F37   1-1-191-792   \n",
       "5086    1_1_193_819_2020-11-20 21:23:06.347775      1   AG-1F06   1-1-193-819   \n",
       "5089    1_1_193_819_2020-11-21 17:58:12.192125      1   AG-1F06   1-1-193-819   \n",
       "5112    1_1_178_823_2020-11-24 07:01:08.151837      1   AG-1F08   1-1-178-823   \n",
       "5140    1_1_178_823_2020-11-25 07:00:43.763606      1   AG-1F08   1-1-178-823   \n",
       "5154    1_1_178_823_2020-11-26 03:46:04.043911      1   AG-1F08   1-1-178-823   \n",
       "5157    1_1_194_821_2020-11-27 20:36:13.645555      1   AG-1F13   1-1-194-821   \n",
       "5159    1_1_194_826_2020-11-28 18:40:31.667599      1   AG-1F11   1-1-194-826   \n",
       "5161    1_1_194_818_2020-11-29 22:48:23.390535      1   AG-1F14   1-1-194-818   \n",
       "5185    1_1_191_793_2020-11-30 22:56:29.809871      1   AG-4F38   1-1-191-793   \n",
       "51316   2_39_130_31_2020-08-02 12:30:47.006756      2    CA-306   2-39-130-31   \n",
       "51320   2_39_79_380_2020-08-03 22:02:01.464006      2    CA-489   2-39-79-380   \n",
       "51328  2_39_81_4550_2020-11-19 04:24:10.706432      2  11900388  2-39-81-4550   \n",
       "51330   2_39_91_437_2020-11-19 23:28:16.238693      2    CA-317   2-39-91-437   \n",
       "51338  2_39_81_4550_2020-11-21 00:50:30.786067      2  11900388  2-39-81-4550   \n",
       "51341  2_39_81_4550_2020-11-22 06:21:47.433608      2  11900388  2-39-81-4550   \n",
       "51348   2_39_129_17_2020-11-23 05:11:52.357700      2    CA-307   2-39-129-17   \n",
       "51354  2_39_81_4550_2020-11-24 02:10:57.682788      2  11900388  2-39-81-4550   \n",
       "51363  2_39_81_4550_2020-11-25 03:17:19.506673      2  11900388  2-39-81-4550   \n",
       "51368   2_39_125_21_2020-11-26 00:00:32.070811      2    CA-311   2-39-125-21   \n",
       "51371   2_39_139_28_2020-11-27 05:34:44.667246      2    CA-303   2-39-139-28   \n",
       "51374  2_39_81_4550_2020-11-28 02:44:53.746650      2  11900388  2-39-81-4550   \n",
       "51382  2_39_81_4550_2020-11-29 01:38:37.885424      2  11900388  2-39-81-4550   \n",
       "51385   2_39_78_365_2020-11-30 00:18:58.156393      2    CA-321   2-39-78-365   \n",
       "51392   2_39_127_19_2020-12-01 04:19:01.008160      2    CA-309   2-39-127-19   \n",
       "\n",
       "                  timezone  userID  \\\n",
       "5024   America/Los_Angeles    76.0   \n",
       "5025   America/Los_Angeles    76.0   \n",
       "5048   America/Los_Angeles   405.0   \n",
       "5051   America/Los_Angeles   405.0   \n",
       "5077   America/Los_Angeles  5015.0   \n",
       "5086   America/Los_Angeles  6779.0   \n",
       "5089   America/Los_Angeles  5065.0   \n",
       "5112   America/Los_Angeles   405.0   \n",
       "5140   America/Los_Angeles   405.0   \n",
       "5154   America/Los_Angeles   405.0   \n",
       "5157   America/Los_Angeles   473.0   \n",
       "5159   America/Los_Angeles  5065.0   \n",
       "5161   America/Los_Angeles  4986.0   \n",
       "5185   America/Los_Angeles  5015.0   \n",
       "51316  America/Los_Angeles   300.0   \n",
       "51320  America/Los_Angeles   751.0   \n",
       "51328  America/Los_Angeles  9284.0   \n",
       "51330  America/Los_Angeles  2170.0   \n",
       "51338  America/Los_Angeles  9283.0   \n",
       "51341  America/Los_Angeles  9506.0   \n",
       "51348  America/Los_Angeles  9502.0   \n",
       "51354  America/Los_Angeles  9266.0   \n",
       "51363  America/Los_Angeles   316.0   \n",
       "51368  America/Los_Angeles  1746.0   \n",
       "51371  America/Los_Angeles  9502.0   \n",
       "51374  America/Los_Angeles  9570.0   \n",
       "51382  America/Los_Angeles   316.0   \n",
       "51385  America/Los_Angeles  1082.0   \n",
       "51392  America/Los_Angeles     NaN   \n",
       "\n",
       "                                              userInputs connection_date  \\\n",
       "5024   [{'WhPerMile': 350, 'kWhRequested': 35.0, 'mil...      2020-08-01   \n",
       "5025   [{'WhPerMile': 350, 'kWhRequested': 35.0, 'mil...      2020-08-02   \n",
       "5048   [{'WhPerMile': 370, 'kWhRequested': 11.1, 'mil...      2020-08-03   \n",
       "5051   [{'WhPerMile': 370, 'kWhRequested': 11.1, 'mil...      2020-11-18   \n",
       "5077   [{'WhPerMile': 290, 'kWhRequested': 11.6, 'mil...      2020-11-19   \n",
       "5086   [{'WhPerMile': 250, 'kWhRequested': 25.0, 'mil...      2020-11-20   \n",
       "5089   [{'WhPerMile': 310, 'kWhRequested': 18.6, 'mil...      2020-11-21   \n",
       "5112   [{'WhPerMile': 370, 'kWhRequested': 11.1, 'mil...      2020-11-23   \n",
       "5140   [{'WhPerMile': 370, 'kWhRequested': 11.1, 'mil...      2020-11-24   \n",
       "5154   [{'WhPerMile': 370, 'kWhRequested': 11.1, 'mil...      2020-11-25   \n",
       "5157   [{'WhPerMile': 310, 'kWhRequested': 15.5, 'mil...      2020-11-27   \n",
       "5159   [{'WhPerMile': 310, 'kWhRequested': 18.6, 'mil...      2020-11-28   \n",
       "5161   [{'WhPerMile': 306, 'kWhRequested': 21.42, 'mi...      2020-11-29   \n",
       "5185   [{'WhPerMile': 290, 'kWhRequested': 11.6, 'mil...      2020-11-30   \n",
       "51316  [{'WhPerMile': 440, 'kWhRequested': 44.0, 'mil...      2020-08-02   \n",
       "51320  [{'WhPerMile': 340, 'kWhRequested': 34.0, 'mil...      2020-08-03   \n",
       "51328  [{'WhPerMile': 400, 'kWhRequested': 40.0, 'mil...      2020-11-18   \n",
       "51330  [{'WhPerMile': 310, 'kWhRequested': 12.4, 'mil...      2020-11-19   \n",
       "51338  [{'WhPerMile': 319, 'kWhRequested': 28.71, 'mi...      2020-11-20   \n",
       "51341  [{'WhPerMile': 300, 'kWhRequested': 30.0, 'mil...      2020-11-21   \n",
       "51348  [{'WhPerMile': 310, 'kWhRequested': 15.5, 'mil...      2020-11-22   \n",
       "51354  [{'WhPerMile': 300, 'kWhRequested': 48.0, 'mil...      2020-11-23   \n",
       "51363  [{'WhPerMile': 290, 'kWhRequested': 20.3, 'mil...      2020-11-24   \n",
       "51368  [{'WhPerMile': 350, 'kWhRequested': 35.0, 'mil...      2020-11-25   \n",
       "51371  [{'WhPerMile': 310, 'kWhRequested': 15.5, 'mil...      2020-11-26   \n",
       "51374  [{'WhPerMile': 258, 'kWhRequested': 51.6, 'mil...      2020-11-27   \n",
       "51382  [{'WhPerMile': 290, 'kWhRequested': 20.3, 'mil...      2020-11-28   \n",
       "51385  [{'WhPerMile': 290, 'kWhRequested': 5.8, 'mile...      2020-11-29   \n",
       "51392                                                NaN      2020-11-30   \n",
       "\n",
       "      year_month  \n",
       "5024     2020-08  \n",
       "5025     2020-08  \n",
       "5048     2020-08  \n",
       "5051     2020-11  \n",
       "5077     2020-11  \n",
       "5086     2020-11  \n",
       "5089     2020-11  \n",
       "5112     2020-11  \n",
       "5140     2020-11  \n",
       "5154     2020-11  \n",
       "5157     2020-11  \n",
       "5159     2020-11  \n",
       "5161     2020-11  \n",
       "5185     2020-11  \n",
       "51316    2020-08  \n",
       "51320    2020-08  \n",
       "51328    2020-11  \n",
       "51330    2020-11  \n",
       "51338    2020-11  \n",
       "51341    2020-11  \n",
       "51348    2020-11  \n",
       "51354    2020-11  \n",
       "51363    2020-11  \n",
       "51368    2020-11  \n",
       "51371    2020-11  \n",
       "51374    2020-11  \n",
       "51382    2020-11  \n",
       "51385    2020-11  \n",
       "51392    2020-11  "
      ],
      "text/html": [
       "<div>\n",
       "<style scoped>\n",
       "    .dataframe tbody tr th:only-of-type {\n",
       "        vertical-align: middle;\n",
       "    }\n",
       "\n",
       "    .dataframe tbody tr th {\n",
       "        vertical-align: top;\n",
       "    }\n",
       "\n",
       "    .dataframe thead th {\n",
       "        text-align: right;\n",
       "    }\n",
       "</style>\n",
       "<table border=\"1\" class=\"dataframe\">\n",
       "  <thead>\n",
       "    <tr style=\"text-align: right;\">\n",
       "      <th></th>\n",
       "      <th>counter</th>\n",
       "      <th>id</th>\n",
       "      <th>connectionTime</th>\n",
       "      <th>disconnectTime</th>\n",
       "      <th>doneChargingTime</th>\n",
       "      <th>kWhDelivered</th>\n",
       "      <th>sessionID</th>\n",
       "      <th>siteID</th>\n",
       "      <th>spaceID</th>\n",
       "      <th>stationID</th>\n",
       "      <th>timezone</th>\n",
       "      <th>userID</th>\n",
       "      <th>userInputs</th>\n",
       "      <th>connection_date</th>\n",
       "      <th>year_month</th>\n",
       "    </tr>\n",
       "  </thead>\n",
       "  <tbody>\n",
       "    <tr>\n",
       "      <th>5024</th>\n",
       "      <td>5024</td>\n",
       "      <td>5f3b210cf9af8b0a6d10cbf3</td>\n",
       "      <td>2020-08-01 10:58:21-07:00</td>\n",
       "      <td>2020-08-01 16:11:54-07:00</td>\n",
       "      <td>2020-08-01 13:56:04-07:00</td>\n",
       "      <td>8.599</td>\n",
       "      <td>1_1_191_792_2020-08-01 17:58:21.088227</td>\n",
       "      <td>1</td>\n",
       "      <td>AG-4F37</td>\n",
       "      <td>1-1-191-792</td>\n",
       "      <td>America/Los_Angeles</td>\n",
       "      <td>76.0</td>\n",
       "      <td>[{'WhPerMile': 350, 'kWhRequested': 35.0, 'mil...</td>\n",
       "      <td>2020-08-01</td>\n",
       "      <td>2020-08</td>\n",
       "    </tr>\n",
       "    <tr>\n",
       "      <th>5025</th>\n",
       "      <td>5025</td>\n",
       "      <td>5f3c728df9af8b0c7b9c8a8a</td>\n",
       "      <td>2020-08-02 10:49:33-07:00</td>\n",
       "      <td>2020-08-02 15:56:36-07:00</td>\n",
       "      <td>2020-08-02 13:51:52-07:00</td>\n",
       "      <td>8.812</td>\n",
       "      <td>1_1_191_792_2020-08-02 17:49:33.364151</td>\n",
       "      <td>1</td>\n",
       "      <td>AG-4F37</td>\n",
       "      <td>1-1-191-792</td>\n",
       "      <td>America/Los_Angeles</td>\n",
       "      <td>76.0</td>\n",
       "      <td>[{'WhPerMile': 350, 'kWhRequested': 35.0, 'mil...</td>\n",
       "      <td>2020-08-02</td>\n",
       "      <td>2020-08</td>\n",
       "    </tr>\n",
       "    <tr>\n",
       "      <th>5048</th>\n",
       "      <td>5048</td>\n",
       "      <td>5f3dc41bf9af8b0e903d4335</td>\n",
       "      <td>2020-08-03 14:43:29-07:00</td>\n",
       "      <td>2020-08-03 17:30:15-07:00</td>\n",
       "      <td>2020-08-03 17:30:10-07:00</td>\n",
       "      <td>5.516</td>\n",
       "      <td>1_1_193_827_2020-08-03 21:43:29.408907</td>\n",
       "      <td>1</td>\n",
       "      <td>AG-1F02</td>\n",
       "      <td>1-1-193-827</td>\n",
       "      <td>America/Los_Angeles</td>\n",
       "      <td>405.0</td>\n",
       "      <td>[{'WhPerMile': 370, 'kWhRequested': 11.1, 'mil...</td>\n",
       "      <td>2020-08-03</td>\n",
       "      <td>2020-08</td>\n",
       "    </tr>\n",
       "    <tr>\n",
       "      <th>5051</th>\n",
       "      <td>5051</td>\n",
       "      <td>5fdd5806f9af8b16e6675e23</td>\n",
       "      <td>2020-11-18 23:04:36-08:00</td>\n",
       "      <td>2020-11-19 01:02:41-08:00</td>\n",
       "      <td>2020-11-19 00:47:26-08:00</td>\n",
       "      <td>5.293</td>\n",
       "      <td>1_1_178_823_2020-11-19 07:04:35.937413</td>\n",
       "      <td>1</td>\n",
       "      <td>AG-1F08</td>\n",
       "      <td>1-1-178-823</td>\n",
       "      <td>America/Los_Angeles</td>\n",
       "      <td>405.0</td>\n",
       "      <td>[{'WhPerMile': 370, 'kWhRequested': 11.1, 'mil...</td>\n",
       "      <td>2020-11-18</td>\n",
       "      <td>2020-11</td>\n",
       "    </tr>\n",
       "    <tr>\n",
       "      <th>5077</th>\n",
       "      <td>5077</td>\n",
       "      <td>5fdd5806f9af8b16e6675e3c</td>\n",
       "      <td>2020-11-19 15:14:30-08:00</td>\n",
       "      <td>2020-11-19 17:19:36-08:00</td>\n",
       "      <td>2020-11-19 17:06:16-08:00</td>\n",
       "      <td>6.306</td>\n",
       "      <td>1_1_191_792_2020-11-19 23:14:30.011951</td>\n",
       "      <td>1</td>\n",
       "      <td>AG-4F37</td>\n",
       "      <td>1-1-191-792</td>\n",
       "      <td>America/Los_Angeles</td>\n",
       "      <td>5015.0</td>\n",
       "      <td>[{'WhPerMile': 290, 'kWhRequested': 11.6, 'mil...</td>\n",
       "      <td>2020-11-19</td>\n",
       "      <td>2020-11</td>\n",
       "    </tr>\n",
       "    <tr>\n",
       "      <th>5086</th>\n",
       "      <td>5086</td>\n",
       "      <td>5fdd5813f9af8b16e6675e47</td>\n",
       "      <td>2020-11-20 13:23:21-08:00</td>\n",
       "      <td>2020-11-20 15:51:59-08:00</td>\n",
       "      <td>2020-11-20 14:58:11-08:00</td>\n",
       "      <td>4.564</td>\n",
       "      <td>1_1_193_819_2020-11-20 21:23:06.347775</td>\n",
       "      <td>1</td>\n",
       "      <td>AG-1F06</td>\n",
       "      <td>1-1-193-819</td>\n",
       "      <td>America/Los_Angeles</td>\n",
       "      <td>6779.0</td>\n",
       "      <td>[{'WhPerMile': 250, 'kWhRequested': 25.0, 'mil...</td>\n",
       "      <td>2020-11-20</td>\n",
       "      <td>2020-11</td>\n",
       "    </tr>\n",
       "    <tr>\n",
       "      <th>5089</th>\n",
       "      <td>5089</td>\n",
       "      <td>5fdd5817f9af8b16e6675e4a</td>\n",
       "      <td>2020-11-21 09:58:18-08:00</td>\n",
       "      <td>2020-11-21 14:16:48-08:00</td>\n",
       "      <td>2020-11-21 12:29:56-08:00</td>\n",
       "      <td>13.963</td>\n",
       "      <td>1_1_193_819_2020-11-21 17:58:12.192125</td>\n",
       "      <td>1</td>\n",
       "      <td>AG-1F06</td>\n",
       "      <td>1-1-193-819</td>\n",
       "      <td>America/Los_Angeles</td>\n",
       "      <td>5065.0</td>\n",
       "      <td>[{'WhPerMile': 310, 'kWhRequested': 18.6, 'mil...</td>\n",
       "      <td>2020-11-21</td>\n",
       "      <td>2020-11</td>\n",
       "    </tr>\n",
       "    <tr>\n",
       "      <th>5112</th>\n",
       "      <td>5112</td>\n",
       "      <td>5fdd5835f9af8b16e6675e61</td>\n",
       "      <td>2020-11-23 23:01:08-08:00</td>\n",
       "      <td>2020-11-24 01:03:53-08:00</td>\n",
       "      <td>2020-11-24 00:38:08-08:00</td>\n",
       "      <td>4.946</td>\n",
       "      <td>1_1_178_823_2020-11-24 07:01:08.151837</td>\n",
       "      <td>1</td>\n",
       "      <td>AG-1F08</td>\n",
       "      <td>1-1-178-823</td>\n",
       "      <td>America/Los_Angeles</td>\n",
       "      <td>405.0</td>\n",
       "      <td>[{'WhPerMile': 370, 'kWhRequested': 11.1, 'mil...</td>\n",
       "      <td>2020-11-23</td>\n",
       "      <td>2020-11</td>\n",
       "    </tr>\n",
       "    <tr>\n",
       "      <th>5140</th>\n",
       "      <td>5140</td>\n",
       "      <td>5fdd5843f9af8b16e6675e7d</td>\n",
       "      <td>2020-11-24 23:00:44-08:00</td>\n",
       "      <td>2020-11-25 01:00:00-08:00</td>\n",
       "      <td>2020-11-25 00:41:16-08:00</td>\n",
       "      <td>5.259</td>\n",
       "      <td>1_1_178_823_2020-11-25 07:00:43.763606</td>\n",
       "      <td>1</td>\n",
       "      <td>AG-1F08</td>\n",
       "      <td>1-1-178-823</td>\n",
       "      <td>America/Los_Angeles</td>\n",
       "      <td>405.0</td>\n",
       "      <td>[{'WhPerMile': 370, 'kWhRequested': 11.1, 'mil...</td>\n",
       "      <td>2020-11-24</td>\n",
       "      <td>2020-11</td>\n",
       "    </tr>\n",
       "    <tr>\n",
       "      <th>5154</th>\n",
       "      <td>5154</td>\n",
       "      <td>5fdd5843f9af8b16e6675e8b</td>\n",
       "      <td>2020-11-25 19:46:04-08:00</td>\n",
       "      <td>2020-11-25 21:34:06-08:00</td>\n",
       "      <td>2020-11-25 21:28:10-08:00</td>\n",
       "      <td>5.179</td>\n",
       "      <td>1_1_178_823_2020-11-26 03:46:04.043911</td>\n",
       "      <td>1</td>\n",
       "      <td>AG-1F08</td>\n",
       "      <td>1-1-178-823</td>\n",
       "      <td>America/Los_Angeles</td>\n",
       "      <td>405.0</td>\n",
       "      <td>[{'WhPerMile': 370, 'kWhRequested': 11.1, 'mil...</td>\n",
       "      <td>2020-11-25</td>\n",
       "      <td>2020-11</td>\n",
       "    </tr>\n",
       "    <tr>\n",
       "      <th>5157</th>\n",
       "      <td>5157</td>\n",
       "      <td>5fdd5848f9af8b16e6675e8e</td>\n",
       "      <td>2020-11-27 12:36:14-08:00</td>\n",
       "      <td>2020-11-27 20:11:43-08:00</td>\n",
       "      <td>2020-11-27 17:21:35-08:00</td>\n",
       "      <td>15.521</td>\n",
       "      <td>1_1_194_821_2020-11-27 20:36:13.645555</td>\n",
       "      <td>1</td>\n",
       "      <td>AG-1F13</td>\n",
       "      <td>1-1-194-821</td>\n",
       "      <td>America/Los_Angeles</td>\n",
       "      <td>473.0</td>\n",
       "      <td>[{'WhPerMile': 310, 'kWhRequested': 15.5, 'mil...</td>\n",
       "      <td>2020-11-27</td>\n",
       "      <td>2020-11</td>\n",
       "    </tr>\n",
       "    <tr>\n",
       "      <th>5159</th>\n",
       "      <td>5159</td>\n",
       "      <td>5fdd584af9af8b16e6675e90</td>\n",
       "      <td>2020-11-28 10:40:40-08:00</td>\n",
       "      <td>2020-11-28 14:19:18-08:00</td>\n",
       "      <td>2020-11-28 13:02:58-08:00</td>\n",
       "      <td>13.941</td>\n",
       "      <td>1_1_194_826_2020-11-28 18:40:31.667599</td>\n",
       "      <td>1</td>\n",
       "      <td>AG-1F11</td>\n",
       "      <td>1-1-194-826</td>\n",
       "      <td>America/Los_Angeles</td>\n",
       "      <td>5065.0</td>\n",
       "      <td>[{'WhPerMile': 310, 'kWhRequested': 18.6, 'mil...</td>\n",
       "      <td>2020-11-28</td>\n",
       "      <td>2020-11</td>\n",
       "    </tr>\n",
       "    <tr>\n",
       "      <th>5161</th>\n",
       "      <td>5161</td>\n",
       "      <td>5fdd584cf9af8b16e6675e92</td>\n",
       "      <td>2020-11-29 14:48:23-08:00</td>\n",
       "      <td>2020-11-29 23:41:29-08:00</td>\n",
       "      <td>2020-11-29 17:35:04-08:00</td>\n",
       "      <td>15.104</td>\n",
       "      <td>1_1_194_818_2020-11-29 22:48:23.390535</td>\n",
       "      <td>1</td>\n",
       "      <td>AG-1F14</td>\n",
       "      <td>1-1-194-818</td>\n",
       "      <td>America/Los_Angeles</td>\n",
       "      <td>4986.0</td>\n",
       "      <td>[{'WhPerMile': 306, 'kWhRequested': 21.42, 'mi...</td>\n",
       "      <td>2020-11-29</td>\n",
       "      <td>2020-11</td>\n",
       "    </tr>\n",
       "    <tr>\n",
       "      <th>5185</th>\n",
       "      <td>5185</td>\n",
       "      <td>5fdd5857f9af8b16e6675eaa</td>\n",
       "      <td>2020-11-30 14:56:30-08:00</td>\n",
       "      <td>2020-11-30 16:58:08-08:00</td>\n",
       "      <td>2020-11-30 16:41:03-08:00</td>\n",
       "      <td>5.256</td>\n",
       "      <td>1_1_191_793_2020-11-30 22:56:29.809871</td>\n",
       "      <td>1</td>\n",
       "      <td>AG-4F38</td>\n",
       "      <td>1-1-191-793</td>\n",
       "      <td>America/Los_Angeles</td>\n",
       "      <td>5015.0</td>\n",
       "      <td>[{'WhPerMile': 290, 'kWhRequested': 11.6, 'mil...</td>\n",
       "      <td>2020-11-30</td>\n",
       "      <td>2020-11</td>\n",
       "    </tr>\n",
       "    <tr>\n",
       "      <th>51316</th>\n",
       "      <td>2197</td>\n",
       "      <td>5f3c728cf9af8b0c7b9c8a89</td>\n",
       "      <td>2020-08-02 05:30:47-07:00</td>\n",
       "      <td>2020-08-02 11:11:36-07:00</td>\n",
       "      <td>2020-08-02 09:48:42-07:00</td>\n",
       "      <td>28.870</td>\n",
       "      <td>2_39_130_31_2020-08-02 12:30:47.006756</td>\n",
       "      <td>2</td>\n",
       "      <td>CA-306</td>\n",
       "      <td>2-39-130-31</td>\n",
       "      <td>America/Los_Angeles</td>\n",
       "      <td>300.0</td>\n",
       "      <td>[{'WhPerMile': 440, 'kWhRequested': 44.0, 'mil...</td>\n",
       "      <td>2020-08-02</td>\n",
       "      <td>2020-08</td>\n",
       "    </tr>\n",
       "    <tr>\n",
       "      <th>51320</th>\n",
       "      <td>2201</td>\n",
       "      <td>5f3dc40cf9af8b0e903d431e</td>\n",
       "      <td>2020-08-03 15:02:13-07:00</td>\n",
       "      <td>2020-08-03 15:29:53-07:00</td>\n",
       "      <td>2020-08-03 15:29:48-07:00</td>\n",
       "      <td>1.724</td>\n",
       "      <td>2_39_79_380_2020-08-03 22:02:01.464006</td>\n",
       "      <td>2</td>\n",
       "      <td>CA-489</td>\n",
       "      <td>2-39-79-380</td>\n",
       "      <td>America/Los_Angeles</td>\n",
       "      <td>751.0</td>\n",
       "      <td>[{'WhPerMile': 340, 'kWhRequested': 34.0, 'mil...</td>\n",
       "      <td>2020-08-03</td>\n",
       "      <td>2020-08</td>\n",
       "    </tr>\n",
       "    <tr>\n",
       "      <th>51328</th>\n",
       "      <td>2209</td>\n",
       "      <td>5fdd57b1f9af8b16e6675dcd</td>\n",
       "      <td>2020-11-18 20:24:11-08:00</td>\n",
       "      <td>2020-11-18 21:07:15-08:00</td>\n",
       "      <td>NaT</td>\n",
       "      <td>30.849</td>\n",
       "      <td>2_39_81_4550_2020-11-19 04:24:10.706432</td>\n",
       "      <td>2</td>\n",
       "      <td>11900388</td>\n",
       "      <td>2-39-81-4550</td>\n",
       "      <td>America/Los_Angeles</td>\n",
       "      <td>9284.0</td>\n",
       "      <td>[{'WhPerMile': 400, 'kWhRequested': 40.0, 'mil...</td>\n",
       "      <td>2020-11-18</td>\n",
       "      <td>2020-11</td>\n",
       "    </tr>\n",
       "    <tr>\n",
       "      <th>51330</th>\n",
       "      <td>2211</td>\n",
       "      <td>5fdd57b3f9af8b16e6675dcf</td>\n",
       "      <td>2020-11-19 15:28:16-08:00</td>\n",
       "      <td>2020-11-19 17:47:22-08:00</td>\n",
       "      <td>2020-11-19 17:47:18-08:00</td>\n",
       "      <td>7.738</td>\n",
       "      <td>2_39_91_437_2020-11-19 23:28:16.238693</td>\n",
       "      <td>2</td>\n",
       "      <td>CA-317</td>\n",
       "      <td>2-39-91-437</td>\n",
       "      <td>America/Los_Angeles</td>\n",
       "      <td>2170.0</td>\n",
       "      <td>[{'WhPerMile': 310, 'kWhRequested': 12.4, 'mil...</td>\n",
       "      <td>2020-11-19</td>\n",
       "      <td>2020-11</td>\n",
       "    </tr>\n",
       "    <tr>\n",
       "      <th>51338</th>\n",
       "      <td>2219</td>\n",
       "      <td>5fdd57b7f9af8b16e6675dd7</td>\n",
       "      <td>2020-11-20 16:50:33-08:00</td>\n",
       "      <td>2020-11-20 17:18:59-08:00</td>\n",
       "      <td>NaT</td>\n",
       "      <td>15.416</td>\n",
       "      <td>2_39_81_4550_2020-11-21 00:50:30.786067</td>\n",
       "      <td>2</td>\n",
       "      <td>11900388</td>\n",
       "      <td>2-39-81-4550</td>\n",
       "      <td>America/Los_Angeles</td>\n",
       "      <td>9283.0</td>\n",
       "      <td>[{'WhPerMile': 319, 'kWhRequested': 28.71, 'mi...</td>\n",
       "      <td>2020-11-20</td>\n",
       "      <td>2020-11</td>\n",
       "    </tr>\n",
       "    <tr>\n",
       "      <th>51341</th>\n",
       "      <td>2222</td>\n",
       "      <td>5fdd57b9f9af8b16e6675dda</td>\n",
       "      <td>2020-11-21 22:21:53-08:00</td>\n",
       "      <td>2020-11-21 22:42:34-08:00</td>\n",
       "      <td>NaT</td>\n",
       "      <td>8.451</td>\n",
       "      <td>2_39_81_4550_2020-11-22 06:21:47.433608</td>\n",
       "      <td>2</td>\n",
       "      <td>11900388</td>\n",
       "      <td>2-39-81-4550</td>\n",
       "      <td>America/Los_Angeles</td>\n",
       "      <td>9506.0</td>\n",
       "      <td>[{'WhPerMile': 300, 'kWhRequested': 30.0, 'mil...</td>\n",
       "      <td>2020-11-21</td>\n",
       "      <td>2020-11</td>\n",
       "    </tr>\n",
       "    <tr>\n",
       "      <th>51348</th>\n",
       "      <td>2229</td>\n",
       "      <td>5fdd57bbf9af8b16e6675de1</td>\n",
       "      <td>2020-11-22 21:12:11-08:00</td>\n",
       "      <td>2020-11-23 01:58:56-08:00</td>\n",
       "      <td>2020-11-23 01:43:57-08:00</td>\n",
       "      <td>16.441</td>\n",
       "      <td>2_39_129_17_2020-11-23 05:11:52.357700</td>\n",
       "      <td>2</td>\n",
       "      <td>CA-307</td>\n",
       "      <td>2-39-129-17</td>\n",
       "      <td>America/Los_Angeles</td>\n",
       "      <td>9502.0</td>\n",
       "      <td>[{'WhPerMile': 310, 'kWhRequested': 15.5, 'mil...</td>\n",
       "      <td>2020-11-22</td>\n",
       "      <td>2020-11</td>\n",
       "    </tr>\n",
       "    <tr>\n",
       "      <th>51354</th>\n",
       "      <td>2235</td>\n",
       "      <td>5fdd57bef9af8b16e6675de7</td>\n",
       "      <td>2020-11-23 18:10:58-08:00</td>\n",
       "      <td>2020-11-23 18:51:55-08:00</td>\n",
       "      <td>NaT</td>\n",
       "      <td>21.768</td>\n",
       "      <td>2_39_81_4550_2020-11-24 02:10:57.682788</td>\n",
       "      <td>2</td>\n",
       "      <td>11900388</td>\n",
       "      <td>2-39-81-4550</td>\n",
       "      <td>America/Los_Angeles</td>\n",
       "      <td>9266.0</td>\n",
       "      <td>[{'WhPerMile': 300, 'kWhRequested': 48.0, 'mil...</td>\n",
       "      <td>2020-11-23</td>\n",
       "      <td>2020-11</td>\n",
       "    </tr>\n",
       "    <tr>\n",
       "      <th>51363</th>\n",
       "      <td>2244</td>\n",
       "      <td>5fdd57c1f9af8b16e6675df0</td>\n",
       "      <td>2020-11-24 19:17:20-08:00</td>\n",
       "      <td>2020-11-24 19:55:54-08:00</td>\n",
       "      <td>NaT</td>\n",
       "      <td>11.047</td>\n",
       "      <td>2_39_81_4550_2020-11-25 03:17:19.506673</td>\n",
       "      <td>2</td>\n",
       "      <td>11900388</td>\n",
       "      <td>2-39-81-4550</td>\n",
       "      <td>America/Los_Angeles</td>\n",
       "      <td>316.0</td>\n",
       "      <td>[{'WhPerMile': 290, 'kWhRequested': 20.3, 'mil...</td>\n",
       "      <td>2020-11-24</td>\n",
       "      <td>2020-11</td>\n",
       "    </tr>\n",
       "    <tr>\n",
       "      <th>51368</th>\n",
       "      <td>2249</td>\n",
       "      <td>5fdd57c5f9af8b16e6675df5</td>\n",
       "      <td>2020-11-25 16:00:32-08:00</td>\n",
       "      <td>2020-11-25 16:51:14-08:00</td>\n",
       "      <td>2020-11-25 16:49:47-08:00</td>\n",
       "      <td>2.314</td>\n",
       "      <td>2_39_125_21_2020-11-26 00:00:32.070811</td>\n",
       "      <td>2</td>\n",
       "      <td>CA-311</td>\n",
       "      <td>2-39-125-21</td>\n",
       "      <td>America/Los_Angeles</td>\n",
       "      <td>1746.0</td>\n",
       "      <td>[{'WhPerMile': 350, 'kWhRequested': 35.0, 'mil...</td>\n",
       "      <td>2020-11-25</td>\n",
       "      <td>2020-11</td>\n",
       "    </tr>\n",
       "    <tr>\n",
       "      <th>51371</th>\n",
       "      <td>2252</td>\n",
       "      <td>5fdd57c8f9af8b16e6675df8</td>\n",
       "      <td>2020-11-26 21:34:45-08:00</td>\n",
       "      <td>2020-11-27 17:27:51-08:00</td>\n",
       "      <td>2020-11-27 01:27:57-08:00</td>\n",
       "      <td>13.841</td>\n",
       "      <td>2_39_139_28_2020-11-27 05:34:44.667246</td>\n",
       "      <td>2</td>\n",
       "      <td>CA-303</td>\n",
       "      <td>2-39-139-28</td>\n",
       "      <td>America/Los_Angeles</td>\n",
       "      <td>9502.0</td>\n",
       "      <td>[{'WhPerMile': 310, 'kWhRequested': 15.5, 'mil...</td>\n",
       "      <td>2020-11-26</td>\n",
       "      <td>2020-11</td>\n",
       "    </tr>\n",
       "    <tr>\n",
       "      <th>51374</th>\n",
       "      <td>2255</td>\n",
       "      <td>5fdd57caf9af8b16e6675dfb</td>\n",
       "      <td>2020-11-27 18:45:44-08:00</td>\n",
       "      <td>2020-11-27 19:44:51-08:00</td>\n",
       "      <td>NaT</td>\n",
       "      <td>44.286</td>\n",
       "      <td>2_39_81_4550_2020-11-28 02:44:53.746650</td>\n",
       "      <td>2</td>\n",
       "      <td>11900388</td>\n",
       "      <td>2-39-81-4550</td>\n",
       "      <td>America/Los_Angeles</td>\n",
       "      <td>9570.0</td>\n",
       "      <td>[{'WhPerMile': 258, 'kWhRequested': 51.6, 'mil...</td>\n",
       "      <td>2020-11-27</td>\n",
       "      <td>2020-11</td>\n",
       "    </tr>\n",
       "    <tr>\n",
       "      <th>51382</th>\n",
       "      <td>2263</td>\n",
       "      <td>5fdd57cdf9af8b16e6675e03</td>\n",
       "      <td>2020-11-28 17:38:38-08:00</td>\n",
       "      <td>2020-11-28 18:07:14-08:00</td>\n",
       "      <td>NaT</td>\n",
       "      <td>12.750</td>\n",
       "      <td>2_39_81_4550_2020-11-29 01:38:37.885424</td>\n",
       "      <td>2</td>\n",
       "      <td>11900388</td>\n",
       "      <td>2-39-81-4550</td>\n",
       "      <td>America/Los_Angeles</td>\n",
       "      <td>316.0</td>\n",
       "      <td>[{'WhPerMile': 290, 'kWhRequested': 20.3, 'mil...</td>\n",
       "      <td>2020-11-28</td>\n",
       "      <td>2020-11</td>\n",
       "    </tr>\n",
       "    <tr>\n",
       "      <th>51385</th>\n",
       "      <td>2266</td>\n",
       "      <td>5fdd57d0f9af8b16e6675e06</td>\n",
       "      <td>2020-11-29 16:18:58-08:00</td>\n",
       "      <td>2020-11-29 21:40:03-08:00</td>\n",
       "      <td>2020-11-29 17:24:55-08:00</td>\n",
       "      <td>2.223</td>\n",
       "      <td>2_39_78_365_2020-11-30 00:18:58.156393</td>\n",
       "      <td>2</td>\n",
       "      <td>CA-321</td>\n",
       "      <td>2-39-78-365</td>\n",
       "      <td>America/Los_Angeles</td>\n",
       "      <td>1082.0</td>\n",
       "      <td>[{'WhPerMile': 290, 'kWhRequested': 5.8, 'mile...</td>\n",
       "      <td>2020-11-29</td>\n",
       "      <td>2020-11</td>\n",
       "    </tr>\n",
       "    <tr>\n",
       "      <th>51392</th>\n",
       "      <td>2273</td>\n",
       "      <td>5fdd57d3f9af8b16e6675e0d</td>\n",
       "      <td>2020-11-30 20:19:01-08:00</td>\n",
       "      <td>2020-11-30 20:54:25-08:00</td>\n",
       "      <td>2020-11-30 20:49:38-08:00</td>\n",
       "      <td>0.737</td>\n",
       "      <td>2_39_127_19_2020-12-01 04:19:01.008160</td>\n",
       "      <td>2</td>\n",
       "      <td>CA-309</td>\n",
       "      <td>2-39-127-19</td>\n",
       "      <td>America/Los_Angeles</td>\n",
       "      <td>NaN</td>\n",
       "      <td>NaN</td>\n",
       "      <td>2020-11-30</td>\n",
       "      <td>2020-11</td>\n",
       "    </tr>\n",
       "  </tbody>\n",
       "</table>\n",
       "</div>"
      ]
     },
     "execution_count": 261,
     "metadata": {},
     "output_type": "execute_result"
    }
   ],
   "execution_count": 261
  },
  {
   "metadata": {},
   "cell_type": "markdown",
   "source": "Final observation after looking at the filtered dataset: There is no charging data between 3rd August 2020 and 18th November 2020 for both sites.",
   "id": "2e507409a8f56297"
  },
  {
   "metadata": {
    "ExecuteTime": {
     "end_time": "2025-01-03T21:33:16.142495Z",
     "start_time": "2025-01-03T21:33:15.881428Z"
    }
   },
   "cell_type": "code",
   "source": [
    "# Plot average temperature over time\n",
    "weather_data['weather_date'] = weather_data['timestamp'].dt.date\n",
    "\n",
    "average_temperature_per_day = weather_data.groupby('weather_date')['temperature'].mean()\n",
    "\n",
    "plt.figure(figsize=(8, 4))\n",
    "average_temperature_per_day.plot(label='Average Temperature (°C)', color='orange')\n",
    "plt.title('Average Temperature Over Time')\n",
    "plt.xlabel('Date')\n",
    "plt.ylabel('Temperature (°C)')\n",
    "plt.legend()\n",
    "plt.grid(axis='y', linestyle='--')\n",
    "plt.show()"
   ],
   "id": "aa13851984574eaa",
   "outputs": [
    {
     "data": {
      "text/plain": [
       "<Figure size 800x400 with 1 Axes>"
      ],
      "image/png": "[encoded data removed]"
     },
     "metadata": {},
     "output_type": "display_data"
    }
   ],
   "execution_count": 262
  },
  {
   "metadata": {
    "ExecuteTime": {
     "end_time": "2025-01-03T21:33:16.203682Z",
     "start_time": "2025-01-03T21:33:16.190626Z"
    }
   },
   "cell_type": "code",
   "source": [
    "# Identify the first and last element (timestamp)\n",
    "first_weather_element = weather_data['timestamp'].min()\n",
    "last_weather_element = weather_data['timestamp'].max()\n",
    "display(first_weather_element)\n",
    "display(last_weather_element)"
   ],
   "id": "1c777e1c24e39f78",
   "outputs": [
    {
     "data": {
      "text/plain": [
       "Timestamp('2018-01-01 08:53:00-0800', tz='America/Los_Angeles')"
      ]
     },
     "metadata": {},
     "output_type": "display_data"
    },
    {
     "data": {
      "text/plain": [
       "Timestamp('2021-01-01 07:53:00-0800', tz='America/Los_Angeles')"
      ]
     },
     "metadata": {},
     "output_type": "display_data"
    }
   ],
   "execution_count": 263
  },
  {
   "metadata": {},
   "cell_type": "markdown",
   "source": [
    "Observations:\n",
    "- Weather data ranges from 01-01-2018 to 01-01-2021\n",
    "- no area missing inbetween"
   ],
   "id": "7ce1e5de233a03b5"
  },
  {
   "metadata": {
    "ExecuteTime": {
     "end_time": "2025-01-03T21:33:16.264838Z",
     "start_time": "2025-01-03T21:33:16.225723Z"
    }
   },
   "cell_type": "code",
   "source": [
    "# Identify missing data\n",
    "charging_missing_data = charging_data.isnull().sum()\n",
    "display(charging_missing_data[charging_missing_data > 0])\n",
    "\n",
    "weather_missing_data = weather_data.isnull().sum()\n",
    "display(weather_missing_data[weather_missing_data > 0])\n",
    "print(\"Number of unique lines with missing values: \" + str(weather_data.isnull().any(axis=1).sum()))"
   ],
   "id": "4a2f68f6eb1bfb86",
   "outputs": [
    {
     "data": {
      "text/plain": [
       "doneChargingTime     4087\n",
       "userID              17215\n",
       "userInputs          17215\n",
       "dtype: int64"
      ]
     },
     "metadata": {},
     "output_type": "display_data"
    },
    {
     "data": {
      "text/plain": [
       "temperature                25\n",
       "cloud_cover                20\n",
       "cloud_cover_description    20\n",
       "pressure                    8\n",
       "windspeed                  86\n",
       "felt_temperature           26\n",
       "dtype: int64"
      ]
     },
     "metadata": {},
     "output_type": "display_data"
    },
    {
     "name": "stdout",
     "output_type": "stream",
     "text": [
      "Number of unique lines with missing values: 139\n"
     ]
    }
   ],
   "execution_count": 264
  },
  {
   "metadata": {},
   "cell_type": "markdown",
   "source": [
    "**Lets look at the missing values**<br>\n",
    "For `charging_data`:\n",
    "- `doneChargingTime`: We have 4088 missing values, that is 4088/66450=6,15% of the data set. Because we do not want to lose 6% of the data, we will replace the missing values with connectionTime + median charging time.\n",
    "- `userID`: We have 17263 missing values, that is 17263/66450=25,98% of the data set. We will replace them with null values (0.0).\n",
    "- `userInput`: We have 17263 missing values, that is 17263/66450=25,98% of the data set (see userID). We will replace them with null values (Null).\n",
    "\n",
    "For `weather_data`:\n",
    "- There are 139 lines with missing values through the data set. Because this is only 0,47%, we decided to drop these records."
   ],
   "id": "98835ef66552864c"
  },
  {
   "metadata": {},
   "cell_type": "markdown",
   "source": "### 2.4 Handling missing data",
   "id": "5d52fe70afe61bf"
  },
  {
   "metadata": {},
   "cell_type": "markdown",
   "source": "#### Charging dataset",
   "id": "ae27732e99883009"
  },
  {
   "metadata": {
    "ExecuteTime": {
     "end_time": "2025-01-03T21:33:16.373111Z",
     "start_time": "2025-01-03T21:33:16.344452Z"
    }
   },
   "cell_type": "code",
   "source": [
    "# Quick overview - where do we stand?\n",
    "charging_data.info()"
   ],
   "id": "ad973e63a75715eb",
   "outputs": [
    {
     "name": "stdout",
     "output_type": "stream",
     "text": [
      "<class 'pandas.core.frame.DataFrame'>\n",
      "Index: 65037 entries, 0 to 65036\n",
      "Data columns (total 15 columns):\n",
      " #   Column            Non-Null Count  Dtype                              \n",
      "---  ------            --------------  -----                              \n",
      " 0   counter           65037 non-null  int64                              \n",
      " 1   id                65037 non-null  object                             \n",
      " 2   connectionTime    65037 non-null  datetime64[ns, America/Los_Angeles]\n",
      " 3   disconnectTime    65037 non-null  datetime64[ns, America/Los_Angeles]\n",
      " 4   doneChargingTime  60950 non-null  datetime64[ns, America/Los_Angeles]\n",
      " 5   kWhDelivered      65037 non-null  float64                            \n",
      " 6   sessionID         65037 non-null  object                             \n",
      " 7   siteID            65037 non-null  object                             \n",
      " 8   spaceID           65037 non-null  object                             \n",
      " 9   stationID         65037 non-null  object                             \n",
      " 10  timezone          65037 non-null  object                             \n",
      " 11  userID            47822 non-null  float64                            \n",
      " 12  userInputs        47822 non-null  object                             \n",
      " 13  connection_date   65037 non-null  object                             \n",
      " 14  year_month        65037 non-null  period[M]                          \n",
      "dtypes: datetime64[ns, America/Los_Angeles](3), float64(2), int64(1), object(8), period[M](1)\n",
      "memory usage: 10.0+ MB\n"
     ]
    }
   ],
   "execution_count": 265
  },
  {
   "metadata": {
    "ExecuteTime": {
     "end_time": "2025-01-03T21:33:16.481454Z",
     "start_time": "2025-01-03T21:33:16.454015Z"
    }
   },
   "cell_type": "code",
   "source": [
    "# Make a copy to avoid modifying the original DataFrame\n",
    "charging_data_cleaned = charging_data.copy()"
   ],
   "id": "365dc244c896ad55",
   "outputs": [],
   "execution_count": 266
  },
  {
   "metadata": {
    "ExecuteTime": {
     "end_time": "2025-01-03T21:33:16.560508Z",
     "start_time": "2025-01-03T21:33:16.546510Z"
    }
   },
   "cell_type": "code",
   "source": [
    "# Calculate median charging time in seconds and round it\n",
    "# should we explain why we use the median instead of mean?\n",
    "##median_charging_time = (charging_data['doneChargingTime'] - charging_data['connectionTime']).dt.total_seconds().median()\n",
    "##median_charging_time = round(median_charging_time)  # Round the median charging time\n",
    "##print(f\"The median charging time is {median_charging_time} seconds, which is {median_charging_time / 60} minutes.\")\n",
    "\n",
    "# Fill 'doneChargingTime' NaNs with 'connectionTime' + median charging time\n",
    "##charging_data_cleaned['doneChargingTime'] = charging_data_cleaned['doneChargingTime'].fillna(charging_data_cleaned['connectionTime'] + pd.to_timedelta(median_charging_time, unit='s'))"
   ],
   "id": "8c75f8e323a07029",
   "outputs": [],
   "execution_count": 267
  },
  {
   "metadata": {
    "ExecuteTime": {
     "end_time": "2025-01-03T21:33:16.637222Z",
     "start_time": "2025-01-03T21:33:16.622572Z"
    }
   },
   "cell_type": "code",
   "source": [
    "# Delete all data records where doneChargingTime is empty\n",
    "# --> At first we wanted to fill the empty doneChargingTime with connectionTime + median charging time, but this resulted in a kind of bias for the 4087 (65037-60950) records which we first saw in our following cluster analysis\n",
    "# --> in conclusion we decided to drop all records where doneChargingTime is empty because estimating a possible and sensible doneChargingTime was not quite possible\n",
    "charging_data_cleaned = charging_data_cleaned[charging_data_cleaned['doneChargingTime'].notna()]"
   ],
   "id": "a7eeae5f3428d7ee",
   "outputs": [],
   "execution_count": 268
  },
  {
   "metadata": {
    "ExecuteTime": {
     "end_time": "2025-01-03T21:33:16.732593Z",
     "start_time": "2025-01-03T21:33:16.702261Z"
    }
   },
   "cell_type": "code",
   "source": [
    "# Fill userID with empty String values\n",
    "charging_data_cleaned['userID'] = charging_data_cleaned['userID'].fillna(0)\n",
    "charging_data_cleaned['userID'] = charging_data_cleaned['userID'].astype(int)\n",
    "charging_data_cleaned['userID'] = charging_data_cleaned['userID'].replace(0, '')\n",
    "charging_data_cleaned['userID'] = charging_data_cleaned['userID'].astype(str)\n",
    "\n",
    "charging_data_cleaned['userInputs'] = charging_data_cleaned['userInputs'].fillna('0')\n",
    "\n",
    "print(f\"Amount of null-Values should be equal to 16306 (=60950-44644) missing userIDs, amount of null-values: {charging_data_cleaned[charging_data_cleaned['userID'] == ''].shape[0]}\")"
   ],
   "id": "38b8fdfaf478cb45",
   "outputs": [
    {
     "name": "stdout",
     "output_type": "stream",
     "text": [
      "Amount of null-Values should be equal to 16306 (=60950-44644) missing userIDs, amount of null-values: 16306\n"
     ]
    }
   ],
   "execution_count": 269
  },
  {
   "metadata": {},
   "cell_type": "markdown",
   "source": "#### Weather dataset",
   "id": "73ed721343c79404"
  },
  {
   "metadata": {
    "ExecuteTime": {
     "end_time": "2025-01-03T21:33:16.810191Z",
     "start_time": "2025-01-03T21:33:16.795676Z"
    }
   },
   "cell_type": "code",
   "source": [
    "# Make a copy to avoid modifying the original DataFrame\n",
    "weather_data_cleaned = weather_data.copy()\n",
    "\n",
    "# Drop lines with missing values\n",
    "weather_data_cleaned = weather_data_cleaned.dropna()"
   ],
   "id": "f1679934bf725589",
   "outputs": [],
   "execution_count": 270
  },
  {
   "metadata": {},
   "cell_type": "markdown",
   "source": "## 3 Erroneous Data",
   "id": "484506750c00407"
  },
  {
   "metadata": {
    "ExecuteTime": {
     "end_time": "2025-01-03T21:33:16.887713Z",
     "start_time": "2025-01-03T21:33:16.874351Z"
    }
   },
   "cell_type": "code",
   "source": [
    "# Check whether disconnectTime is before connectionTime\n",
    "disconnectBeforeConnect = charging_data_cleaned[charging_data_cleaned['disconnectTime'] < charging_data_cleaned['connectionTime']]\n",
    "\n",
    "# Check whether doneChargingTime is before connectionTime\n",
    "doneBeforeConnection = charging_data_cleaned[charging_data_cleaned['doneChargingTime'] < charging_data_cleaned['connectionTime']]\n",
    "\n",
    "# Output the wrong lines\n",
    "print(f\"Number of rows where disconnectTime is before connectionTime: {disconnectBeforeConnect.shape[0]}\")\n",
    "display(disconnectBeforeConnect[['connectionTime', 'disconnectTime']])  # Empty = no disconnectTime after connectionTime\n",
    "print(f\"Number of rows where doneChargingTime is before connectionTime: {doneBeforeConnection.shape[0]}\")\n",
    "display(doneBeforeConnection[['connectionTime', 'doneChargingTime']].head()) # There are 27 records where doneChargingTime is before connectionTime, which seems contradictory. We decided to drop these records."
   ],
   "id": "ea362db3212f55c6",
   "outputs": [
    {
     "name": "stdout",
     "output_type": "stream",
     "text": [
      "Number of rows where disconnectTime is before connectionTime: 0\n"
     ]
    },
    {
     "data": {
      "text/plain": [
       "Empty DataFrame\n",
       "Columns: [connectionTime, disconnectTime]\n",
       "Index: []"
      ],
      "text/html": [
       "<div>\n",
       "<style scoped>\n",
       "    .dataframe tbody tr th:only-of-type {\n",
       "        vertical-align: middle;\n",
       "    }\n",
       "\n",
       "    .dataframe tbody tr th {\n",
       "        vertical-align: top;\n",
       "    }\n",
       "\n",
       "    .dataframe thead th {\n",
       "        text-align: right;\n",
       "    }\n",
       "</style>\n",
       "<table border=\"1\" class=\"dataframe\">\n",
       "  <thead>\n",
       "    <tr style=\"text-align: right;\">\n",
       "      <th></th>\n",
       "      <th>connectionTime</th>\n",
       "      <th>disconnectTime</th>\n",
       "    </tr>\n",
       "  </thead>\n",
       "  <tbody>\n",
       "  </tbody>\n",
       "</table>\n",
       "</div>"
      ]
     },
     "metadata": {},
     "output_type": "display_data"
    },
    {
     "name": "stdout",
     "output_type": "stream",
     "text": [
      "Number of rows where doneChargingTime is before connectionTime: 27\n"
     ]
    },
    {
     "data": {
      "text/plain": [
       "                 connectionTime          doneChargingTime\n",
       "22219 2019-03-05 11:13:55-08:00 2019-03-05 11:12:56-08:00\n",
       "22253 2019-03-06 12:26:30-08:00 2019-03-06 12:25:34-08:00\n",
       "23562 2019-04-15 13:24:13-07:00 2019-04-15 13:23:14-07:00\n",
       "23586 2019-04-16 09:11:08-07:00 2019-04-16 09:10:11-07:00\n",
       "27689 2019-09-04 09:35:04-07:00 2019-09-04 09:34:05-07:00"
      ],
      "text/html": [
       "<div>\n",
       "<style scoped>\n",
       "    .dataframe tbody tr th:only-of-type {\n",
       "        vertical-align: middle;\n",
       "    }\n",
       "\n",
       "    .dataframe tbody tr th {\n",
       "        vertical-align: top;\n",
       "    }\n",
       "\n",
       "    .dataframe thead th {\n",
       "        text-align: right;\n",
       "    }\n",
       "</style>\n",
       "<table border=\"1\" class=\"dataframe\">\n",
       "  <thead>\n",
       "    <tr style=\"text-align: right;\">\n",
       "      <th></th>\n",
       "      <th>connectionTime</th>\n",
       "      <th>doneChargingTime</th>\n",
       "    </tr>\n",
       "  </thead>\n",
       "  <tbody>\n",
       "    <tr>\n",
       "      <th>22219</th>\n",
       "      <td>2019-03-05 11:13:55-08:00</td>\n",
       "      <td>2019-03-05 11:12:56-08:00</td>\n",
       "    </tr>\n",
       "    <tr>\n",
       "      <th>22253</th>\n",
       "      <td>2019-03-06 12:26:30-08:00</td>\n",
       "      <td>2019-03-06 12:25:34-08:00</td>\n",
       "    </tr>\n",
       "    <tr>\n",
       "      <th>23562</th>\n",
       "      <td>2019-04-15 13:24:13-07:00</td>\n",
       "      <td>2019-04-15 13:23:14-07:00</td>\n",
       "    </tr>\n",
       "    <tr>\n",
       "      <th>23586</th>\n",
       "      <td>2019-04-16 09:11:08-07:00</td>\n",
       "      <td>2019-04-16 09:10:11-07:00</td>\n",
       "    </tr>\n",
       "    <tr>\n",
       "      <th>27689</th>\n",
       "      <td>2019-09-04 09:35:04-07:00</td>\n",
       "      <td>2019-09-04 09:34:05-07:00</td>\n",
       "    </tr>\n",
       "  </tbody>\n",
       "</table>\n",
       "</div>"
      ]
     },
     "metadata": {},
     "output_type": "display_data"
    }
   ],
   "execution_count": 271
  },
  {
   "metadata": {
    "ExecuteTime": {
     "end_time": "2025-01-03T21:33:17.041661Z",
     "start_time": "2025-01-03T21:33:17.010665Z"
    }
   },
   "cell_type": "code",
   "source": [
    "# Drop the records where doneChargingTime is before connectionTime\n",
    "charging_data_cleaned.drop(charging_data_cleaned[charging_data_cleaned['doneChargingTime'] < charging_data_cleaned['connectionTime']].index, inplace=True)\n",
    "\n",
    "# Verify that there are no more records where doneChargingTime is before connectionTime\n",
    "doneCharging_before_connection = charging_data_cleaned[charging_data_cleaned['doneChargingTime'] < charging_data_cleaned['connectionTime']]\n",
    "print(f\"Number of records where doneChargingTime is before connectionTime: {doneCharging_before_connection.shape[0]}\")"
   ],
   "id": "27641cbcc51d8e38",
   "outputs": [
    {
     "name": "stdout",
     "output_type": "stream",
     "text": [
      "Number of records where doneChargingTime is before connectionTime: 0\n"
     ]
    }
   ],
   "execution_count": 272
  },
  {
   "metadata": {
    "ExecuteTime": {
     "end_time": "2025-01-03T21:33:17.121646Z",
     "start_time": "2025-01-03T21:33:17.113646Z"
    }
   },
   "cell_type": "code",
   "source": [
    "# Calculate the charging duration (doneChargingTime - connectionTime) in minutes\n",
    "charging_data_cleaned['charging_duration'] = ((charging_data_cleaned['doneChargingTime'] - charging_data_cleaned[\n",
    "    'connectionTime']).dt.total_seconds()) / 60\n",
    "\n",
    "# Calculate the connection duration (disconnectTime - connectionTime) in minutes\n",
    "charging_data_cleaned['connection_duration'] = ((charging_data_cleaned['disconnectTime'] - charging_data_cleaned[\n",
    "    'connectionTime']).dt.total_seconds()) / 60"
   ],
   "id": "8c91ce75f4231fd5",
   "outputs": [],
   "execution_count": 273
  },
  {
   "metadata": {
    "ExecuteTime": {
     "end_time": "2025-01-03T21:33:17.199279Z",
     "start_time": "2025-01-03T21:33:17.184767Z"
    }
   },
   "cell_type": "code",
   "source": [
    "# Check whether the doneChargingTime is after disconnectTime\n",
    "doneAfterDisconnect = charging_data_cleaned[charging_data_cleaned['doneChargingTime'] > charging_data_cleaned['disconnectTime']]\n",
    "print(f\"Number of rows where doneChargingTime is after disconnectTime: {doneAfterDisconnect.shape[0]}\")\n",
    "doneAfterDisconnect[['connectionTime', 'disconnectTime', 'doneChargingTime', 'charging_duration', 'connection_duration']]"
   ],
   "id": "ed0345ef50844657",
   "outputs": [
    {
     "name": "stdout",
     "output_type": "stream",
     "text": [
      "Number of rows where doneChargingTime is after disconnectTime: 4387\n"
     ]
    },
    {
     "data": {
      "text/plain": [
       "                 connectionTime            disconnectTime  \\\n",
       "12    2020-01-02 07:04:38-08:00 2020-01-02 14:08:39-08:00   \n",
       "20    2020-01-02 07:28:47-08:00 2020-01-02 11:01:54-08:00   \n",
       "25    2020-01-02 07:42:05-08:00 2020-01-02 13:58:45-08:00   \n",
       "26    2020-01-02 07:57:24-08:00 2020-01-02 08:35:37-08:00   \n",
       "33    2020-01-02 08:34:35-08:00 2020-01-02 10:49:41-08:00   \n",
       "...                         ...                       ...   \n",
       "65028 2019-07-01 12:20:31-07:00 2019-07-01 17:16:32-07:00   \n",
       "65030 2019-07-01 13:01:07-07:00 2019-07-01 17:32:26-07:00   \n",
       "65033 2019-07-01 14:58:45-07:00 2019-07-01 17:39:48-07:00   \n",
       "65034 2019-07-01 15:02:21-07:00 2019-07-01 17:58:50-07:00   \n",
       "65035 2019-07-01 15:23:44-07:00 2019-07-01 19:03:36-07:00   \n",
       "\n",
       "               doneChargingTime  charging_duration  connection_duration  \n",
       "12    2020-01-02 14:09:36-08:00         424.966667           424.016667  \n",
       "20    2020-01-02 11:02:51-08:00         214.066667           213.116667  \n",
       "25    2020-01-02 13:59:42-08:00         377.616667           376.666667  \n",
       "26    2020-01-02 08:36:34-08:00          39.166667            38.216667  \n",
       "33    2020-01-02 10:50:38-08:00         136.050000           135.100000  \n",
       "...                         ...                ...                  ...  \n",
       "65028 2019-07-01 17:16:42-07:00         296.183333           296.016667  \n",
       "65030 2019-07-01 17:32:59-07:00         271.866667           271.316667  \n",
       "65033 2019-07-01 17:40:21-07:00         161.600000           161.050000  \n",
       "65034 2019-07-01 17:59:23-07:00         177.033333           176.483333  \n",
       "65035 2019-07-01 19:04:06-07:00         220.366667           219.866667  \n",
       "\n",
       "[4387 rows x 5 columns]"
      ],
      "text/html": [
       "<div>\n",
       "<style scoped>\n",
       "    .dataframe tbody tr th:only-of-type {\n",
       "        vertical-align: middle;\n",
       "    }\n",
       "\n",
       "    .dataframe tbody tr th {\n",
       "        vertical-align: top;\n",
       "    }\n",
       "\n",
       "    .dataframe thead th {\n",
       "        text-align: right;\n",
       "    }\n",
       "</style>\n",
       "<table border=\"1\" class=\"dataframe\">\n",
       "  <thead>\n",
       "    <tr style=\"text-align: right;\">\n",
       "      <th></th>\n",
       "      <th>connectionTime</th>\n",
       "      <th>disconnectTime</th>\n",
       "      <th>doneChargingTime</th>\n",
       "      <th>charging_duration</th>\n",
       "      <th>connection_duration</th>\n",
       "    </tr>\n",
       "  </thead>\n",
       "  <tbody>\n",
       "    <tr>\n",
       "      <th>12</th>\n",
       "      <td>2020-01-02 07:04:38-08:00</td>\n",
       "      <td>2020-01-02 14:08:39-08:00</td>\n",
       "      <td>2020-01-02 14:09:36-08:00</td>\n",
       "      <td>424.966667</td>\n",
       "      <td>424.016667</td>\n",
       "    </tr>\n",
       "    <tr>\n",
       "      <th>20</th>\n",
       "      <td>2020-01-02 07:28:47-08:00</td>\n",
       "      <td>2020-01-02 11:01:54-08:00</td>\n",
       "      <td>2020-01-02 11:02:51-08:00</td>\n",
       "      <td>214.066667</td>\n",
       "      <td>213.116667</td>\n",
       "    </tr>\n",
       "    <tr>\n",
       "      <th>25</th>\n",
       "      <td>2020-01-02 07:42:05-08:00</td>\n",
       "      <td>2020-01-02 13:58:45-08:00</td>\n",
       "      <td>2020-01-02 13:59:42-08:00</td>\n",
       "      <td>377.616667</td>\n",
       "      <td>376.666667</td>\n",
       "    </tr>\n",
       "    <tr>\n",
       "      <th>26</th>\n",
       "      <td>2020-01-02 07:57:24-08:00</td>\n",
       "      <td>2020-01-02 08:35:37-08:00</td>\n",
       "      <td>2020-01-02 08:36:34-08:00</td>\n",
       "      <td>39.166667</td>\n",
       "      <td>38.216667</td>\n",
       "    </tr>\n",
       "    <tr>\n",
       "      <th>33</th>\n",
       "      <td>2020-01-02 08:34:35-08:00</td>\n",
       "      <td>2020-01-02 10:49:41-08:00</td>\n",
       "      <td>2020-01-02 10:50:38-08:00</td>\n",
       "      <td>136.050000</td>\n",
       "      <td>135.100000</td>\n",
       "    </tr>\n",
       "    <tr>\n",
       "      <th>...</th>\n",
       "      <td>...</td>\n",
       "      <td>...</td>\n",
       "      <td>...</td>\n",
       "      <td>...</td>\n",
       "      <td>...</td>\n",
       "    </tr>\n",
       "    <tr>\n",
       "      <th>65028</th>\n",
       "      <td>2019-07-01 12:20:31-07:00</td>\n",
       "      <td>2019-07-01 17:16:32-07:00</td>\n",
       "      <td>2019-07-01 17:16:42-07:00</td>\n",
       "      <td>296.183333</td>\n",
       "      <td>296.016667</td>\n",
       "    </tr>\n",
       "    <tr>\n",
       "      <th>65030</th>\n",
       "      <td>2019-07-01 13:01:07-07:00</td>\n",
       "      <td>2019-07-01 17:32:26-07:00</td>\n",
       "      <td>2019-07-01 17:32:59-07:00</td>\n",
       "      <td>271.866667</td>\n",
       "      <td>271.316667</td>\n",
       "    </tr>\n",
       "    <tr>\n",
       "      <th>65033</th>\n",
       "      <td>2019-07-01 14:58:45-07:00</td>\n",
       "      <td>2019-07-01 17:39:48-07:00</td>\n",
       "      <td>2019-07-01 17:40:21-07:00</td>\n",
       "      <td>161.600000</td>\n",
       "      <td>161.050000</td>\n",
       "    </tr>\n",
       "    <tr>\n",
       "      <th>65034</th>\n",
       "      <td>2019-07-01 15:02:21-07:00</td>\n",
       "      <td>2019-07-01 17:58:50-07:00</td>\n",
       "      <td>2019-07-01 17:59:23-07:00</td>\n",
       "      <td>177.033333</td>\n",
       "      <td>176.483333</td>\n",
       "    </tr>\n",
       "    <tr>\n",
       "      <th>65035</th>\n",
       "      <td>2019-07-01 15:23:44-07:00</td>\n",
       "      <td>2019-07-01 19:03:36-07:00</td>\n",
       "      <td>2019-07-01 19:04:06-07:00</td>\n",
       "      <td>220.366667</td>\n",
       "      <td>219.866667</td>\n",
       "    </tr>\n",
       "  </tbody>\n",
       "</table>\n",
       "<p>4387 rows × 5 columns</p>\n",
       "</div>"
      ]
     },
     "execution_count": 274,
     "metadata": {},
     "output_type": "execute_result"
    }
   ],
   "execution_count": 274
  },
  {
   "metadata": {},
   "cell_type": "markdown",
   "source": "From what we observed visually by looking at the data records, we noticed that in those cases where the doneChargingTime is after disconnectTime it is usually only 1-2 minutes or even seconds later. Therefore, we decided to set the doneChargingTime to the disconnectTime in those cases.",
   "id": "17e8b54e78c6f801"
  },
  {
   "metadata": {
    "ExecuteTime": {
     "end_time": "2025-01-03T21:33:17.308887Z",
     "start_time": "2025-01-03T21:33:17.294376Z"
    }
   },
   "cell_type": "code",
   "source": [
    "# Identify records where doneChargingTime is already equal to disconnectTime\n",
    "pre_existing_equal_times = charging_data_cleaned[charging_data_cleaned['doneChargingTime'] == charging_data_cleaned['disconnectTime']]\n",
    "print(f\"Number of rows where doneChargingTime was already equal to disconnectTime: {pre_existing_equal_times.shape[0]}\")"
   ],
   "id": "f15d17b1e724dbaf",
   "outputs": [
    {
     "name": "stdout",
     "output_type": "stream",
     "text": [
      "Number of rows where doneChargingTime was already equal to disconnectTime: 5\n"
     ]
    }
   ],
   "execution_count": 275
  },
  {
   "metadata": {
    "ExecuteTime": {
     "end_time": "2025-01-03T21:33:17.402249Z",
     "start_time": "2025-01-03T21:33:17.377047Z"
    }
   },
   "cell_type": "code",
   "source": [
    "# Set doneChargingTime to disconnectTime where it exceeds disconnectTime\n",
    "charging_data_cleaned.loc[charging_data_cleaned['doneChargingTime'] > charging_data_cleaned['disconnectTime'], 'doneChargingTime'] = charging_data_cleaned['disconnectTime']\n",
    "\n",
    "# Verify adjustments\n",
    "adjusted_charging_times = charging_data_cleaned[\n",
    "    charging_data_cleaned['doneChargingTime'] == charging_data_cleaned['disconnectTime']]\n",
    "print(f\"Number of rows where doneChargingTime was adjusted to disconnectTime: {adjusted_charging_times.shape[0]}\")\n",
    "adjusted_charging_times[['connectionTime', 'disconnectTime', 'doneChargingTime']].head()"
   ],
   "id": "82cc594b11d43351",
   "outputs": [
    {
     "name": "stdout",
     "output_type": "stream",
     "text": [
      "Number of rows where doneChargingTime was adjusted to disconnectTime: 4392\n"
     ]
    },
    {
     "data": {
      "text/plain": [
       "              connectionTime            disconnectTime  \\\n",
       "12 2020-01-02 07:04:38-08:00 2020-01-02 14:08:39-08:00   \n",
       "20 2020-01-02 07:28:47-08:00 2020-01-02 11:01:54-08:00   \n",
       "25 2020-01-02 07:42:05-08:00 2020-01-02 13:58:45-08:00   \n",
       "26 2020-01-02 07:57:24-08:00 2020-01-02 08:35:37-08:00   \n",
       "33 2020-01-02 08:34:35-08:00 2020-01-02 10:49:41-08:00   \n",
       "\n",
       "            doneChargingTime  \n",
       "12 2020-01-02 14:08:39-08:00  \n",
       "20 2020-01-02 11:01:54-08:00  \n",
       "25 2020-01-02 13:58:45-08:00  \n",
       "26 2020-01-02 08:35:37-08:00  \n",
       "33 2020-01-02 10:49:41-08:00  "
      ],
      "text/html": [
       "<div>\n",
       "<style scoped>\n",
       "    .dataframe tbody tr th:only-of-type {\n",
       "        vertical-align: middle;\n",
       "    }\n",
       "\n",
       "    .dataframe tbody tr th {\n",
       "        vertical-align: top;\n",
       "    }\n",
       "\n",
       "    .dataframe thead th {\n",
       "        text-align: right;\n",
       "    }\n",
       "</style>\n",
       "<table border=\"1\" class=\"dataframe\">\n",
       "  <thead>\n",
       "    <tr style=\"text-align: right;\">\n",
       "      <th></th>\n",
       "      <th>connectionTime</th>\n",
       "      <th>disconnectTime</th>\n",
       "      <th>doneChargingTime</th>\n",
       "    </tr>\n",
       "  </thead>\n",
       "  <tbody>\n",
       "    <tr>\n",
       "      <th>12</th>\n",
       "      <td>2020-01-02 07:04:38-08:00</td>\n",
       "      <td>2020-01-02 14:08:39-08:00</td>\n",
       "      <td>2020-01-02 14:08:39-08:00</td>\n",
       "    </tr>\n",
       "    <tr>\n",
       "      <th>20</th>\n",
       "      <td>2020-01-02 07:28:47-08:00</td>\n",
       "      <td>2020-01-02 11:01:54-08:00</td>\n",
       "      <td>2020-01-02 11:01:54-08:00</td>\n",
       "    </tr>\n",
       "    <tr>\n",
       "      <th>25</th>\n",
       "      <td>2020-01-02 07:42:05-08:00</td>\n",
       "      <td>2020-01-02 13:58:45-08:00</td>\n",
       "      <td>2020-01-02 13:58:45-08:00</td>\n",
       "    </tr>\n",
       "    <tr>\n",
       "      <th>26</th>\n",
       "      <td>2020-01-02 07:57:24-08:00</td>\n",
       "      <td>2020-01-02 08:35:37-08:00</td>\n",
       "      <td>2020-01-02 08:35:37-08:00</td>\n",
       "    </tr>\n",
       "    <tr>\n",
       "      <th>33</th>\n",
       "      <td>2020-01-02 08:34:35-08:00</td>\n",
       "      <td>2020-01-02 10:49:41-08:00</td>\n",
       "      <td>2020-01-02 10:49:41-08:00</td>\n",
       "    </tr>\n",
       "  </tbody>\n",
       "</table>\n",
       "</div>"
      ]
     },
     "execution_count": 276,
     "metadata": {},
     "output_type": "execute_result"
    }
   ],
   "execution_count": 276
  },
  {
   "metadata": {},
   "cell_type": "markdown",
   "source": "Due to the fact that even before we adjusted the doneChargingTime to disconnectTime where it exceeded it, there were already 5 data records where the doneChargingTime was equal to the disconnectTime we get to the sum of 4392",
   "id": "7608626b33425421"
  },
  {
   "metadata": {},
   "cell_type": "markdown",
   "source": "## 4 Outliers",
   "id": "9c8952117800b276"
  },
  {
   "metadata": {},
   "cell_type": "markdown",
   "source": "For the outlier analysis we decided to plot different boxplots of key numeric features of the charging sessions data set and the weather data set to visually identify the most noticeable outliers.",
   "id": "26ffbc7a06f0af5f"
  },
  {
   "metadata": {
    "ExecuteTime": {
     "end_time": "2025-01-03T21:33:17.603937Z",
     "start_time": "2025-01-03T21:33:17.466006Z"
    }
   },
   "cell_type": "code",
   "source": [
    "plt.figure(figsize=(8, 4))\n",
    "plt.boxplot(charging_data_cleaned['charging_duration'], vert=False, patch_artist=False)\n",
    "plt.title(\"Boxplot charging_duration\")\n",
    "plt.xlabel(\"charging_duration\")\n",
    "plt.grid(True)"
   ],
   "id": "534a6f18222fdc2b",
   "outputs": [
    {
     "data": {
      "text/plain": [
       "<Figure size 800x400 with 1 Axes>"
      ],
      "image/png": "[encoded data removed]"
     },
     "metadata": {},
     "output_type": "display_data"
    }
   ],
   "execution_count": 277
  },
  {
   "metadata": {
    "ExecuteTime": {
     "end_time": "2025-01-03T21:33:17.663953Z",
     "start_time": "2025-01-03T21:33:17.650953Z"
    }
   },
   "cell_type": "code",
   "source": [
    "# Based on the boxplot above we decided that charging durations longer than 2880 minutes or 48 hours (which about matches the last record before the next at about ~4000) are outliers.\n",
    "unrealistic_charging_duration = charging_data_cleaned[(charging_data_cleaned['charging_duration'] > 2880)]\n",
    "print(f\"Number of records where the charging duration is longer than 2880 minutes (48 hours): {unrealistic_charging_duration.shape[0]}\")"
   ],
   "id": "b891d25436e054dd",
   "outputs": [
    {
     "name": "stdout",
     "output_type": "stream",
     "text": [
      "Number of records where the charging duration is longer than 2880 minutes (48 hours): 14\n"
     ]
    }
   ],
   "execution_count": 278
  },
  {
   "metadata": {
    "ExecuteTime": {
     "end_time": "2025-01-03T21:33:17.989958Z",
     "start_time": "2025-01-03T21:33:17.742286Z"
    }
   },
   "cell_type": "code",
   "source": [
    "plt.figure(figsize=(8, 4))\n",
    "plt.boxplot(charging_data_cleaned['connection_duration'], vert=False, patch_artist=False)\n",
    "plt.title(\"Boxplot connection_duration\")\n",
    "plt.xlabel(\"connection_duration\")\n",
    "plt.grid(True)"
   ],
   "id": "a108ae16329541ad",
   "outputs": [
    {
     "data": {
      "text/plain": [
       "<Figure size 800x400 with 1 Axes>"
      ],
      "image/png": "[encoded data removed]"
     },
     "metadata": {},
     "output_type": "display_data"
    }
   ],
   "execution_count": 279
  },
  {
   "metadata": {
    "ExecuteTime": {
     "end_time": "2025-01-03T21:33:18.020109Z",
     "start_time": "2025-01-03T21:33:18.006108Z"
    }
   },
   "cell_type": "code",
   "source": [
    "# Based on the boxplot above and to match it to the unrealistic charging durations, we decided that connection durations longer than 2880 minutes or 48 hours are outliers.\n",
    "unrealistic_connection_duration = charging_data_cleaned[(charging_data_cleaned['connection_duration'] > 2880)]\n",
    "print(f\"Number of records where the connection duration is longer than 2880 minutes (48 hours): {unrealistic_connection_duration.shape[0]}\")"
   ],
   "id": "4b3d424a83691b88",
   "outputs": [
    {
     "name": "stdout",
     "output_type": "stream",
     "text": [
      "Number of records where the connection duration is longer than 2880 minutes (48 hours): 89\n"
     ]
    }
   ],
   "execution_count": 280
  },
  {
   "metadata": {
    "ExecuteTime": {
     "end_time": "2025-01-03T21:33:18.113805Z",
     "start_time": "2025-01-03T21:33:18.085293Z"
    }
   },
   "cell_type": "code",
   "source": [
    "# In conclusion, we decided to drop the records where charging or connection duration is longer than 2880 minutes (48 hours).\n",
    "charging_data_cleaned.drop(charging_data_cleaned[charging_data_cleaned['charging_duration'] > 2880].index, inplace=True)\n",
    "charging_data_cleaned.drop(charging_data_cleaned[charging_data_cleaned['connection_duration'] > 2880].index, inplace=True)\n",
    "\n",
    "# Verify that the records have been deleted\n",
    "unrealistic_charging_duration_counter = charging_data_cleaned[(charging_data_cleaned['charging_duration'] > 2880)].shape[0]\n",
    "unrealistic_connection_duration_counter = charging_data_cleaned[(charging_data_cleaned['connection_duration'] > 2880)].shape[0]\n",
    "print(f\"Number of records where the charging duration is longer than 2880 minutes (48 hours): {unrealistic_charging_duration_counter}\")\n",
    "print(f\"Number of records where the connection duration is longer than 2880 minutes (48 hours): {unrealistic_connection_duration_counter}\")"
   ],
   "id": "7168083719989294",
   "outputs": [
    {
     "name": "stdout",
     "output_type": "stream",
     "text": [
      "Number of records where the charging duration is longer than 2880 minutes (48 hours): 0\n",
      "Number of records where the connection duration is longer than 2880 minutes (48 hours): 0\n"
     ]
    }
   ],
   "execution_count": 281
  },
  {
   "metadata": {
    "ExecuteTime": {
     "end_time": "2025-01-03T21:33:19.252785Z",
     "start_time": "2025-01-03T21:33:18.179803Z"
    }
   },
   "cell_type": "code",
   "source": [
    "# Just for visual purpose\n",
    "plt.figure(figsize=(8, 4))\n",
    "plt.scatter(charging_data_cleaned['connectionTime'], charging_data_cleaned['charging_duration'], c='blue', alpha=0.5,\n",
    "            label='charging_duration')\n",
    "plt.title(\"Scatter charging_duration über connectionTime\")\n",
    "plt.xlabel(\"connectionTime\")\n",
    "plt.ylabel(\"charging_duration\")\n",
    "plt.grid(True)"
   ],
   "id": "fd3263b5f6330140",
   "outputs": [
    {
     "data": {
      "text/plain": [
       "<Figure size 800x400 with 1 Axes>"
      ],
      "image/png": "[encoded data removed]"
     },
     "metadata": {},
     "output_type": "display_data"
    }
   ],
   "execution_count": 282
  },
  {
   "metadata": {
    "ExecuteTime": {
     "end_time": "2025-01-03T21:33:20.494494Z",
     "start_time": "2025-01-03T21:33:19.317954Z"
    }
   },
   "cell_type": "code",
   "source": [
    "# Just for visual purpose\n",
    "plt.figure(figsize=(8, 4))\n",
    "plt.scatter(charging_data_cleaned['connectionTime'], charging_data_cleaned['connection_duration'], c='blue', alpha=0.5,\n",
    "            label='connection_duration')\n",
    "plt.title(\"Scatter connection_duration über connectionTime\")\n",
    "plt.xlabel(\"connectionTime\")\n",
    "plt.ylabel(\"connection_duration\")\n",
    "plt.grid(True)"
   ],
   "id": "23f16b08ccc44439",
   "outputs": [
    {
     "data": {
      "text/plain": [
       "<Figure size 800x400 with 1 Axes>"
      ],
      "image/png": "[encoded data removed]"
     },
     "metadata": {},
     "output_type": "display_data"
    }
   ],
   "execution_count": 283
  },
  {
   "metadata": {
    "ExecuteTime": {
     "end_time": "2025-01-03T21:33:20.682286Z",
     "start_time": "2025-01-03T21:33:20.558985Z"
    }
   },
   "cell_type": "code",
   "source": [
    "# The two records with kWhDelivered @ ~90 and @ ~ 110 visually look like outliers in the boxplot below, but we did some research about the capacity of batteries and came to the conclusion that these records are not necessarily outliers. So we keep them in our data set\n",
    "plt.figure(figsize=(8, 4))\n",
    "plt.boxplot(charging_data_cleaned['kWhDelivered'], vert=False, patch_artist=True)\n",
    "plt.title(\"Boxplot kWhDelivered\")\n",
    "plt.xlabel(\"kWhDelivered\")\n",
    "plt.grid(True)"
   ],
   "id": "81ae87aea235d1a5",
   "outputs": [
    {
     "data": {
      "text/plain": [
       "<Figure size 800x400 with 1 Axes>"
      ],
      "image/png": "[encoded data removed]"
     },
     "metadata": {},
     "output_type": "display_data"
    }
   ],
   "execution_count": 284
  },
  {
   "metadata": {
    "ExecuteTime": {
     "end_time": "2025-01-03T21:33:20.853022Z",
     "start_time": "2025-01-03T21:33:20.747302Z"
    }
   },
   "cell_type": "code",
   "source": [
    "# The boxplot for the temperature doesn't show noticeable outliers, since temperatures of over 35 degrees are common in Los Angeles in the summer\n",
    "plt.figure(figsize=(8, 4))\n",
    "plt.boxplot(weather_data_cleaned['temperature'], vert=False, patch_artist=True)\n",
    "plt.title(\"Boxplot temperature\")\n",
    "plt.xlabel(\"temperature\")\n",
    "plt.grid(True)"
   ],
   "id": "1675fbd4b801194a",
   "outputs": [
    {
     "data": {
      "text/plain": [
       "<Figure size 800x400 with 1 Axes>"
      ],
      "image/png": "[encoded data removed]"
     },
     "metadata": {},
     "output_type": "display_data"
    }
   ],
   "execution_count": 285
  },
  {
   "metadata": {},
   "cell_type": "markdown",
   "source": [
    "\n",
    "## 5 Inconsistencies\n",
    "Correct missspelling and false dataTypes\n",
    "\n",
    "Data is conistant after visual check. Final check can be done after data types are chaned..."
   ],
   "id": "810663a3dd40922f"
  },
  {
   "metadata": {
    "ExecuteTime": {
     "end_time": "2025-01-03T21:33:20.932673Z",
     "start_time": "2025-01-03T21:33:20.917675Z"
    }
   },
   "cell_type": "code",
   "source": "#ToDo: Check missspelling etc., dataTypes have been done above -> TBD with final check...",
   "id": "48989ae1334c714c",
   "outputs": [],
   "execution_count": 286
  },
  {
   "metadata": {},
   "cell_type": "markdown",
   "source": [
    "## 5 Feature engineering\n",
    "Add aditional features (e.g. charging or idle time) -> To be discussed\n"
   ],
   "id": "55dc1a0a6bc35ca9"
  },
  {
   "metadata": {},
   "cell_type": "markdown",
   "source": [
    "## 6 Final review\n",
    "Look again for missing, errorous, and inconsistant data"
   ],
   "id": "4ddffe6dc4018d2"
  },
  {
   "metadata": {
    "ExecuteTime": {
     "end_time": "2025-01-03T21:33:21.027341Z",
     "start_time": "2025-01-03T21:33:20.997824Z"
    }
   },
   "cell_type": "code",
   "source": [
    "# Missing data\n",
    "print(\"Number of missing values in cleand charging data: \" + str(charging_data_cleaned.isnull().sum().sum())) #17189 missing is correct (userIDs)\n",
    "print(\"Number of missing values in cleand weather data: \" + str(weather_data_cleaned.isnull().sum().sum()))"
   ],
   "id": "2dcd72ab722a9d75",
   "outputs": [
    {
     "name": "stdout",
     "output_type": "stream",
     "text": [
      "Number of missing values in cleand charging data: 0\n",
      "Number of missing values in cleand weather data: 0\n"
     ]
    }
   ],
   "execution_count": 287
  },
  {
   "metadata": {},
   "cell_type": "markdown",
   "source": [
    "## 7 Export Cleaned Data\n",
    "\n"
   ],
   "id": "dac8def8ee88fc2f"
  },
  {
   "metadata": {
    "ExecuteTime": {
     "end_time": "2025-01-03T21:33:22.611481Z",
     "start_time": "2025-01-03T21:33:21.093281Z"
    }
   },
   "cell_type": "code",
   "source": [
    "# Export Dataframes as pickle (.pkl) and csv (.csv) files\n",
    "charging_data_cleaned.to_pickle(os.path.join('Data', 'charging_data.pkl'))\n",
    "weather_data_cleaned.to_pickle(os.path.join('Data', 'weather_data.pkl'))\n",
    "charging_data_cleaned.to_csv(os.path.join('Data', 'charging_data.csv'))\n",
    "weather_data_cleaned.to_csv(os.path.join('Data', 'weather_data.csv'))"
   ],
   "id": "34eb87c8b0494e52",
   "outputs": [],
   "execution_count": 288
  },
  {
   "metadata": {
    "ExecuteTime": {
     "end_time": "2025-01-03T21:33:24.248613Z",
     "start_time": "2025-01-03T21:33:22.676705Z"
    }
   },
   "cell_type": "code",
   "source": [
    "# Export merged charging to weather data dataset\n",
    "# Sort both datasets by their respective timestamps\n",
    "charging_data_cleaned = charging_data_cleaned.sort_values(by='connectionTime')\n",
    "weather_data_cleaned = weather_data_cleaned.sort_values(by='timestamp')\n",
    "\n",
    "# Perform a nearest merge to align weather data to charging data\n",
    "merged_data = pd.merge_asof(\n",
    "    charging_data_cleaned,\n",
    "    weather_data_cleaned,\n",
    "    left_on='connectionTime',  # The timestamp in charging data\n",
    "    right_on='timestamp',      # The timestamp in weather data\n",
    "    direction='backward'       # Align with the closest earlier weather record\n",
    ")\n",
    "\n",
    "# Since we found out at the beginning, that the weather data only goes until 01-01-2021 and the charging data records after 01-01-2021 would all be joined to this weather record which would make no sense, we decided to drop all records after 01-01-2021 from the merged dataset.\n",
    "merged_data = merged_data[merged_data['connectionTime'] < '2021-01-02']\n",
    "\n",
    "# Save the merged dataset to a pickle (.pkl) and csv (.csv) file\n",
    "merged_data.to_pickle(os.path.join('Data', 'merged_charging_weather_data.pkl'))\n",
    "merged_data.to_csv(os.path.join('Data', 'merged_charging_weather_data.csv'))"
   ],
   "id": "f9711f5e8329bc5",
   "outputs": [],
   "execution_count": 289
  }
 ],
 "metadata": {
  "kernelspec": {
   "display_name": "DynamoData",
   "language": "python",
   "name": "python3"
  },
  "language_info": {
   "codemirror_mode": {
    "name": "ipython",
    "version": 3
   },
   "file_extension": ".py",
   "mimetype": "text/x-python",
   "name": "python",
   "nbconvert_exporter": "python",
   "pygments_lexer": "ipython3",
   "version": "3.10.15"
  }
 },
 "nbformat": 4,
 "nbformat_minor": 5
}

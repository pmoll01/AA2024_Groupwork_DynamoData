{
 "cells": [
  {
   "metadata": {},
   "cell_type": "markdown",
   "source": "# Jupyter Notebook for Task 1: Data Collection and Preparation",
   "id": "7e0073e909c8ede9"
  },
  {
   "metadata": {},
   "cell_type": "markdown",
   "source": "#### Import Libraries",
   "id": "5ca7ab6268c5342a"
  },
  {
   "metadata": {
    "ExecuteTime": {
     "end_time": "2025-01-26T17:29:05.959560Z",
     "start_time": "2025-01-26T17:29:05.952794Z"
    }
   },
   "cell_type": "code",
   "source": [
    "import os\n",
    "import pandas as pd\n",
    "import seaborn as sns\n",
    "import matplotlib.pyplot as plt\n",
    "from IPython.display import display\n",
    "import ast\n",
    "from datetime import timedelta\n",
    "import json\n",
    "import numpy as np\n",
    "import pickle"
   ],
   "id": "1ccacd501934b8de",
   "outputs": [],
   "execution_count": 429
  },
  {
   "metadata": {},
   "cell_type": "markdown",
   "source": "## 1 Load and Explore Datasets",
   "id": "c82fba66de780967"
  },
  {
   "metadata": {
    "ExecuteTime": {
     "end_time": "2025-01-26T17:29:06.370874Z",
     "start_time": "2025-01-26T17:29:06.048565Z"
    }
   },
   "cell_type": "code",
   "source": [
    "# Load csv-files independently of the operating system (mac or windows or linux) in a pandas dataframe\n",
    "charging_data = pd.read_csv(\n",
    "    os.path.join('Data', 'charging_sessions.csv'))  # Create a pandas dataframe from the charging_sessions.csv file\n",
    "weather_data = pd.read_csv(os.path.join('Data',\n",
    "                                        'weather_burbank_airport.csv'))  # Create a pandas dataframe from the weather_burbank_airport.csv file\n",
    "\n",
    "charging_data = charging_data.rename(columns={\n",
    "    'Unnamed: 0': 'counter'})  # The first column in the csv-file is unnamed and appears to be a csv-counter, we decided to rename this column"
   ],
   "id": "9d2b8be34bd2ae82",
   "outputs": [],
   "execution_count": 430
  },
  {
   "metadata": {
    "ExecuteTime": {
     "end_time": "2025-01-26T17:29:06.397241Z",
     "start_time": "2025-01-26T17:29:06.375278Z"
    }
   },
   "cell_type": "code",
   "source": [
    "# Get first information about the charging_data dataframe\n",
    "charging_data.info()"
   ],
   "id": "3b5aafdbd1a11f3d",
   "outputs": [
    {
     "name": "stdout",
     "output_type": "stream",
     "text": [
      "<class 'pandas.core.frame.DataFrame'>\n",
      "RangeIndex: 66450 entries, 0 to 66449\n",
      "Data columns (total 13 columns):\n",
      " #   Column            Non-Null Count  Dtype  \n",
      "---  ------            --------------  -----  \n",
      " 0   counter           66450 non-null  int64  \n",
      " 1   id                66450 non-null  object \n",
      " 2   connectionTime    66450 non-null  object \n",
      " 3   disconnectTime    66450 non-null  object \n",
      " 4   doneChargingTime  62362 non-null  object \n",
      " 5   kWhDelivered      66450 non-null  float64\n",
      " 6   sessionID         66450 non-null  object \n",
      " 7   siteID            66450 non-null  int64  \n",
      " 8   spaceID           66450 non-null  object \n",
      " 9   stationID         66450 non-null  object \n",
      " 10  timezone          66450 non-null  object \n",
      " 11  userID            49187 non-null  float64\n",
      " 12  userInputs        49187 non-null  object \n",
      "dtypes: float64(2), int64(2), object(9)\n",
      "memory usage: 6.6+ MB\n"
     ]
    }
   ],
   "execution_count": 431
  },
  {
   "metadata": {
    "ExecuteTime": {
     "end_time": "2025-01-26T17:29:06.442025Z",
     "start_time": "2025-01-26T17:29:06.437507Z"
    }
   },
   "cell_type": "code",
   "source": [
    "# Get first information about the weather_data dataframe\n",
    "weather_data.info()"
   ],
   "id": "a337ebb89f15ba26",
   "outputs": [
    {
     "name": "stdout",
     "output_type": "stream",
     "text": [
      "<class 'pandas.core.frame.DataFrame'>\n",
      "RangeIndex: 29244 entries, 0 to 29243\n",
      "Data columns (total 9 columns):\n",
      " #   Column                   Non-Null Count  Dtype  \n",
      "---  ------                   --------------  -----  \n",
      " 0   city                     29244 non-null  object \n",
      " 1   timestamp                29244 non-null  object \n",
      " 2   temperature              29219 non-null  float64\n",
      " 3   cloud_cover              29224 non-null  float64\n",
      " 4   cloud_cover_description  29224 non-null  object \n",
      " 5   pressure                 29236 non-null  float64\n",
      " 6   windspeed                29158 non-null  float64\n",
      " 7   precipitation            29244 non-null  float64\n",
      " 8   felt_temperature         29218 non-null  float64\n",
      "dtypes: float64(6), object(3)\n",
      "memory usage: 2.0+ MB\n"
     ]
    }
   ],
   "execution_count": 432
  },
  {
   "metadata": {
    "ExecuteTime": {
     "end_time": "2025-01-26T17:29:06.484331Z",
     "start_time": "2025-01-26T17:29:06.479365Z"
    }
   },
   "cell_type": "code",
   "source": [
    "# How do the charging_data rows look like?\n",
    "charging_data.head()"
   ],
   "id": "af34ef7cd61e42ba",
   "outputs": [
    {
     "data": {
      "text/plain": [
       "   counter                        id             connectionTime  \\\n",
       "0        0  5e23b149f9af8b5fe4b973cf  2020-01-02 13:08:54+00:00   \n",
       "1        1  5e23b149f9af8b5fe4b973d0  2020-01-02 13:36:50+00:00   \n",
       "2        2  5e23b149f9af8b5fe4b973d1  2020-01-02 13:56:35+00:00   \n",
       "3        3  5e23b149f9af8b5fe4b973d2  2020-01-02 13:59:58+00:00   \n",
       "4        4  5e23b149f9af8b5fe4b973d3  2020-01-02 14:00:01+00:00   \n",
       "\n",
       "              disconnectTime           doneChargingTime  kWhDelivered  \\\n",
       "0  2020-01-02 19:11:15+00:00  2020-01-02 17:31:35+00:00        25.016   \n",
       "1  2020-01-02 22:38:21+00:00  2020-01-02 20:18:05+00:00        33.097   \n",
       "2  2020-01-03 00:39:22+00:00  2020-01-02 16:35:06+00:00         6.521   \n",
       "3  2020-01-02 16:38:39+00:00  2020-01-02 15:18:45+00:00         2.355   \n",
       "4  2020-01-02 22:08:40+00:00  2020-01-02 18:17:30+00:00        13.375   \n",
       "\n",
       "                                sessionID  siteID  spaceID    stationID  \\\n",
       "0  1_1_179_810_2020-01-02 13:08:53.870034       1  AG-3F30  1-1-179-810   \n",
       "1  1_1_193_825_2020-01-02 13:36:49.599853       1  AG-1F01  1-1-193-825   \n",
       "2  1_1_193_829_2020-01-02 13:56:35.214993       1  AG-1F03  1-1-193-829   \n",
       "3  1_1_193_820_2020-01-02 13:59:58.309319       1  AG-1F04  1-1-193-820   \n",
       "4  1_1_193_819_2020-01-02 14:00:00.779967       1  AG-1F06  1-1-193-819   \n",
       "\n",
       "              timezone  userID  \\\n",
       "0  America/Los_Angeles   194.0   \n",
       "1  America/Los_Angeles  4275.0   \n",
       "2  America/Los_Angeles   344.0   \n",
       "3  America/Los_Angeles  1117.0   \n",
       "4  America/Los_Angeles   334.0   \n",
       "\n",
       "                                          userInputs  \n",
       "0  [{'WhPerMile': 250, 'kWhRequested': 25.0, 'mil...  \n",
       "1  [{'WhPerMile': 280, 'kWhRequested': 70.0, 'mil...  \n",
       "2  [{'WhPerMile': 400, 'kWhRequested': 8.0, 'mile...  \n",
       "3  [{'WhPerMile': 400, 'kWhRequested': 8.0, 'mile...  \n",
       "4  [{'WhPerMile': 400, 'kWhRequested': 16.0, 'mil...  "
      ],
      "text/html": [
       "<div>\n",
       "<style scoped>\n",
       "    .dataframe tbody tr th:only-of-type {\n",
       "        vertical-align: middle;\n",
       "    }\n",
       "\n",
       "    .dataframe tbody tr th {\n",
       "        vertical-align: top;\n",
       "    }\n",
       "\n",
       "    .dataframe thead th {\n",
       "        text-align: right;\n",
       "    }\n",
       "</style>\n",
       "<table border=\"1\" class=\"dataframe\">\n",
       "  <thead>\n",
       "    <tr style=\"text-align: right;\">\n",
       "      <th></th>\n",
       "      <th>counter</th>\n",
       "      <th>id</th>\n",
       "      <th>connectionTime</th>\n",
       "      <th>disconnectTime</th>\n",
       "      <th>doneChargingTime</th>\n",
       "      <th>kWhDelivered</th>\n",
       "      <th>sessionID</th>\n",
       "      <th>siteID</th>\n",
       "      <th>spaceID</th>\n",
       "      <th>stationID</th>\n",
       "      <th>timezone</th>\n",
       "      <th>userID</th>\n",
       "      <th>userInputs</th>\n",
       "    </tr>\n",
       "  </thead>\n",
       "  <tbody>\n",
       "    <tr>\n",
       "      <th>0</th>\n",
       "      <td>0</td>\n",
       "      <td>5e23b149f9af8b5fe4b973cf</td>\n",
       "      <td>2020-01-02 13:08:54+00:00</td>\n",
       "      <td>2020-01-02 19:11:15+00:00</td>\n",
       "      <td>2020-01-02 17:31:35+00:00</td>\n",
       "      <td>25.016</td>\n",
       "      <td>1_1_179_810_2020-01-02 13:08:53.870034</td>\n",
       "      <td>1</td>\n",
       "      <td>AG-3F30</td>\n",
       "      <td>1-1-179-810</td>\n",
       "      <td>America/Los_Angeles</td>\n",
       "      <td>194.0</td>\n",
       "      <td>[{'WhPerMile': 250, 'kWhRequested': 25.0, 'mil...</td>\n",
       "    </tr>\n",
       "    <tr>\n",
       "      <th>1</th>\n",
       "      <td>1</td>\n",
       "      <td>5e23b149f9af8b5fe4b973d0</td>\n",
       "      <td>2020-01-02 13:36:50+00:00</td>\n",
       "      <td>2020-01-02 22:38:21+00:00</td>\n",
       "      <td>2020-01-02 20:18:05+00:00</td>\n",
       "      <td>33.097</td>\n",
       "      <td>1_1_193_825_2020-01-02 13:36:49.599853</td>\n",
       "      <td>1</td>\n",
       "      <td>AG-1F01</td>\n",
       "      <td>1-1-193-825</td>\n",
       "      <td>America/Los_Angeles</td>\n",
       "      <td>4275.0</td>\n",
       "      <td>[{'WhPerMile': 280, 'kWhRequested': 70.0, 'mil...</td>\n",
       "    </tr>\n",
       "    <tr>\n",
       "      <th>2</th>\n",
       "      <td>2</td>\n",
       "      <td>5e23b149f9af8b5fe4b973d1</td>\n",
       "      <td>2020-01-02 13:56:35+00:00</td>\n",
       "      <td>2020-01-03 00:39:22+00:00</td>\n",
       "      <td>2020-01-02 16:35:06+00:00</td>\n",
       "      <td>6.521</td>\n",
       "      <td>1_1_193_829_2020-01-02 13:56:35.214993</td>\n",
       "      <td>1</td>\n",
       "      <td>AG-1F03</td>\n",
       "      <td>1-1-193-829</td>\n",
       "      <td>America/Los_Angeles</td>\n",
       "      <td>344.0</td>\n",
       "      <td>[{'WhPerMile': 400, 'kWhRequested': 8.0, 'mile...</td>\n",
       "    </tr>\n",
       "    <tr>\n",
       "      <th>3</th>\n",
       "      <td>3</td>\n",
       "      <td>5e23b149f9af8b5fe4b973d2</td>\n",
       "      <td>2020-01-02 13:59:58+00:00</td>\n",
       "      <td>2020-01-02 16:38:39+00:00</td>\n",
       "      <td>2020-01-02 15:18:45+00:00</td>\n",
       "      <td>2.355</td>\n",
       "      <td>1_1_193_820_2020-01-02 13:59:58.309319</td>\n",
       "      <td>1</td>\n",
       "      <td>AG-1F04</td>\n",
       "      <td>1-1-193-820</td>\n",
       "      <td>America/Los_Angeles</td>\n",
       "      <td>1117.0</td>\n",
       "      <td>[{'WhPerMile': 400, 'kWhRequested': 8.0, 'mile...</td>\n",
       "    </tr>\n",
       "    <tr>\n",
       "      <th>4</th>\n",
       "      <td>4</td>\n",
       "      <td>5e23b149f9af8b5fe4b973d3</td>\n",
       "      <td>2020-01-02 14:00:01+00:00</td>\n",
       "      <td>2020-01-02 22:08:40+00:00</td>\n",
       "      <td>2020-01-02 18:17:30+00:00</td>\n",
       "      <td>13.375</td>\n",
       "      <td>1_1_193_819_2020-01-02 14:00:00.779967</td>\n",
       "      <td>1</td>\n",
       "      <td>AG-1F06</td>\n",
       "      <td>1-1-193-819</td>\n",
       "      <td>America/Los_Angeles</td>\n",
       "      <td>334.0</td>\n",
       "      <td>[{'WhPerMile': 400, 'kWhRequested': 16.0, 'mil...</td>\n",
       "    </tr>\n",
       "  </tbody>\n",
       "</table>\n",
       "</div>"
      ]
     },
     "execution_count": 433,
     "metadata": {},
     "output_type": "execute_result"
    }
   ],
   "execution_count": 433
  },
  {
   "metadata": {
    "ExecuteTime": {
     "end_time": "2025-01-26T17:29:06.579118Z",
     "start_time": "2025-01-26T17:29:06.574433Z"
    }
   },
   "cell_type": "code",
   "source": [
    "# How do the weather_data rows look like?\n",
    "weather_data.head()"
   ],
   "id": "16fa34acc59ce716",
   "outputs": [
    {
     "data": {
      "text/plain": [
       "      city            timestamp  temperature  cloud_cover  \\\n",
       "0  Burbank  2018-01-01 08:53:00          9.0         33.0   \n",
       "1  Burbank  2018-01-01 09:53:00          9.0         33.0   \n",
       "2  Burbank  2018-01-01 10:53:00          9.0         21.0   \n",
       "3  Burbank  2018-01-01 11:53:00          9.0         29.0   \n",
       "4  Burbank  2018-01-01 12:53:00          8.0         33.0   \n",
       "\n",
       "  cloud_cover_description  pressure  windspeed  precipitation  \\\n",
       "0                    Fair    991.75        9.0            0.0   \n",
       "1                    Fair    992.08        0.0            0.0   \n",
       "2                    Haze    992.08        0.0            0.0   \n",
       "3           Partly Cloudy    992.08        0.0            0.0   \n",
       "4                    Fair    992.08        0.0            0.0   \n",
       "\n",
       "   felt_temperature  \n",
       "0               8.0  \n",
       "1               9.0  \n",
       "2               9.0  \n",
       "3               9.0  \n",
       "4               8.0  "
      ],
      "text/html": [
       "<div>\n",
       "<style scoped>\n",
       "    .dataframe tbody tr th:only-of-type {\n",
       "        vertical-align: middle;\n",
       "    }\n",
       "\n",
       "    .dataframe tbody tr th {\n",
       "        vertical-align: top;\n",
       "    }\n",
       "\n",
       "    .dataframe thead th {\n",
       "        text-align: right;\n",
       "    }\n",
       "</style>\n",
       "<table border=\"1\" class=\"dataframe\">\n",
       "  <thead>\n",
       "    <tr style=\"text-align: right;\">\n",
       "      <th></th>\n",
       "      <th>city</th>\n",
       "      <th>timestamp</th>\n",
       "      <th>temperature</th>\n",
       "      <th>cloud_cover</th>\n",
       "      <th>cloud_cover_description</th>\n",
       "      <th>pressure</th>\n",
       "      <th>windspeed</th>\n",
       "      <th>precipitation</th>\n",
       "      <th>felt_temperature</th>\n",
       "    </tr>\n",
       "  </thead>\n",
       "  <tbody>\n",
       "    <tr>\n",
       "      <th>0</th>\n",
       "      <td>Burbank</td>\n",
       "      <td>2018-01-01 08:53:00</td>\n",
       "      <td>9.0</td>\n",
       "      <td>33.0</td>\n",
       "      <td>Fair</td>\n",
       "      <td>991.75</td>\n",
       "      <td>9.0</td>\n",
       "      <td>0.0</td>\n",
       "      <td>8.0</td>\n",
       "    </tr>\n",
       "    <tr>\n",
       "      <th>1</th>\n",
       "      <td>Burbank</td>\n",
       "      <td>2018-01-01 09:53:00</td>\n",
       "      <td>9.0</td>\n",
       "      <td>33.0</td>\n",
       "      <td>Fair</td>\n",
       "      <td>992.08</td>\n",
       "      <td>0.0</td>\n",
       "      <td>0.0</td>\n",
       "      <td>9.0</td>\n",
       "    </tr>\n",
       "    <tr>\n",
       "      <th>2</th>\n",
       "      <td>Burbank</td>\n",
       "      <td>2018-01-01 10:53:00</td>\n",
       "      <td>9.0</td>\n",
       "      <td>21.0</td>\n",
       "      <td>Haze</td>\n",
       "      <td>992.08</td>\n",
       "      <td>0.0</td>\n",
       "      <td>0.0</td>\n",
       "      <td>9.0</td>\n",
       "    </tr>\n",
       "    <tr>\n",
       "      <th>3</th>\n",
       "      <td>Burbank</td>\n",
       "      <td>2018-01-01 11:53:00</td>\n",
       "      <td>9.0</td>\n",
       "      <td>29.0</td>\n",
       "      <td>Partly Cloudy</td>\n",
       "      <td>992.08</td>\n",
       "      <td>0.0</td>\n",
       "      <td>0.0</td>\n",
       "      <td>9.0</td>\n",
       "    </tr>\n",
       "    <tr>\n",
       "      <th>4</th>\n",
       "      <td>Burbank</td>\n",
       "      <td>2018-01-01 12:53:00</td>\n",
       "      <td>8.0</td>\n",
       "      <td>33.0</td>\n",
       "      <td>Fair</td>\n",
       "      <td>992.08</td>\n",
       "      <td>0.0</td>\n",
       "      <td>0.0</td>\n",
       "      <td>8.0</td>\n",
       "    </tr>\n",
       "  </tbody>\n",
       "</table>\n",
       "</div>"
      ]
     },
     "execution_count": 434,
     "metadata": {},
     "output_type": "execute_result"
    }
   ],
   "execution_count": 434
  },
  {
   "metadata": {
    "ExecuteTime": {
     "end_time": "2025-01-26T17:29:06.681268Z",
     "start_time": "2025-01-26T17:29:06.670462Z"
    }
   },
   "cell_type": "code",
   "source": [
    "# .describe() function only analyses numerical columns and gives the count, mean, standard deviation, min, max and the 3 quartiles (25%, 50%, 75%)\n",
    "charging_data.describe()"
   ],
   "id": "669f464994796a7f",
   "outputs": [
    {
     "data": {
      "text/plain": [
       "            counter  kWhDelivered        siteID        userID\n",
       "count  66450.000000  66450.000000  66450.000000  49187.000000\n",
       "mean    4726.102062     11.787916      1.472656   1800.494582\n",
       "std     3568.025394     10.314789      0.499256   2617.548614\n",
       "min        0.000000      0.501000      1.000000      1.000000\n",
       "25%     1845.000000      5.097000      1.000000    431.000000\n",
       "50%     3960.000000      9.140000      1.000000    818.000000\n",
       "75%     7027.000000     14.183000      2.000000   1805.000000\n",
       "max    15291.000000    108.797242      2.000000  19923.000000"
      ],
      "text/html": [
       "<div>\n",
       "<style scoped>\n",
       "    .dataframe tbody tr th:only-of-type {\n",
       "        vertical-align: middle;\n",
       "    }\n",
       "\n",
       "    .dataframe tbody tr th {\n",
       "        vertical-align: top;\n",
       "    }\n",
       "\n",
       "    .dataframe thead th {\n",
       "        text-align: right;\n",
       "    }\n",
       "</style>\n",
       "<table border=\"1\" class=\"dataframe\">\n",
       "  <thead>\n",
       "    <tr style=\"text-align: right;\">\n",
       "      <th></th>\n",
       "      <th>counter</th>\n",
       "      <th>kWhDelivered</th>\n",
       "      <th>siteID</th>\n",
       "      <th>userID</th>\n",
       "    </tr>\n",
       "  </thead>\n",
       "  <tbody>\n",
       "    <tr>\n",
       "      <th>count</th>\n",
       "      <td>66450.000000</td>\n",
       "      <td>66450.000000</td>\n",
       "      <td>66450.000000</td>\n",
       "      <td>49187.000000</td>\n",
       "    </tr>\n",
       "    <tr>\n",
       "      <th>mean</th>\n",
       "      <td>4726.102062</td>\n",
       "      <td>11.787916</td>\n",
       "      <td>1.472656</td>\n",
       "      <td>1800.494582</td>\n",
       "    </tr>\n",
       "    <tr>\n",
       "      <th>std</th>\n",
       "      <td>3568.025394</td>\n",
       "      <td>10.314789</td>\n",
       "      <td>0.499256</td>\n",
       "      <td>2617.548614</td>\n",
       "    </tr>\n",
       "    <tr>\n",
       "      <th>min</th>\n",
       "      <td>0.000000</td>\n",
       "      <td>0.501000</td>\n",
       "      <td>1.000000</td>\n",
       "      <td>1.000000</td>\n",
       "    </tr>\n",
       "    <tr>\n",
       "      <th>25%</th>\n",
       "      <td>1845.000000</td>\n",
       "      <td>5.097000</td>\n",
       "      <td>1.000000</td>\n",
       "      <td>431.000000</td>\n",
       "    </tr>\n",
       "    <tr>\n",
       "      <th>50%</th>\n",
       "      <td>3960.000000</td>\n",
       "      <td>9.140000</td>\n",
       "      <td>1.000000</td>\n",
       "      <td>818.000000</td>\n",
       "    </tr>\n",
       "    <tr>\n",
       "      <th>75%</th>\n",
       "      <td>7027.000000</td>\n",
       "      <td>14.183000</td>\n",
       "      <td>2.000000</td>\n",
       "      <td>1805.000000</td>\n",
       "    </tr>\n",
       "    <tr>\n",
       "      <th>max</th>\n",
       "      <td>15291.000000</td>\n",
       "      <td>108.797242</td>\n",
       "      <td>2.000000</td>\n",
       "      <td>19923.000000</td>\n",
       "    </tr>\n",
       "  </tbody>\n",
       "</table>\n",
       "</div>"
      ]
     },
     "execution_count": 435,
     "metadata": {},
     "output_type": "execute_result"
    }
   ],
   "execution_count": 435
  },
  {
   "metadata": {
    "ExecuteTime": {
     "end_time": "2025-01-26T17:29:06.833451Z",
     "start_time": "2025-01-26T17:29:06.819819Z"
    }
   },
   "cell_type": "code",
   "source": [
    "# .describe() function only analyses numerical columns and gives the count, mean, standard deviation, min, max and the 3 quartiles (25%, 50%, 75%)\n",
    "weather_data.describe()"
   ],
   "id": "b22b15be9734fd66",
   "outputs": [
    {
     "data": {
      "text/plain": [
       "        temperature   cloud_cover      pressure     windspeed  precipitation  \\\n",
       "count  29219.000000  29224.000000  29236.000000  29158.000000   29244.000000   \n",
       "mean      17.885622     30.107993    986.879400      8.566568       0.059360   \n",
       "std        6.454604      5.400388      3.607065      6.699889       0.471682   \n",
       "min        2.000000      4.000000    971.000000      0.000000       0.000000   \n",
       "25%       13.000000     26.000000    984.500000      6.000000       0.000000   \n",
       "50%       17.000000     33.000000    986.480000      7.000000       0.000000   \n",
       "75%       22.000000     34.000000    989.110000     13.000000       0.000000   \n",
       "max       46.000000     47.000000    999.650000     57.000000      18.540000   \n",
       "\n",
       "       felt_temperature  \n",
       "count      29218.000000  \n",
       "mean          17.731433  \n",
       "std            6.321100  \n",
       "min            0.000000  \n",
       "25%           13.000000  \n",
       "50%           17.000000  \n",
       "75%           22.000000  \n",
       "max           42.000000  "
      ],
      "text/html": [
       "<div>\n",
       "<style scoped>\n",
       "    .dataframe tbody tr th:only-of-type {\n",
       "        vertical-align: middle;\n",
       "    }\n",
       "\n",
       "    .dataframe tbody tr th {\n",
       "        vertical-align: top;\n",
       "    }\n",
       "\n",
       "    .dataframe thead th {\n",
       "        text-align: right;\n",
       "    }\n",
       "</style>\n",
       "<table border=\"1\" class=\"dataframe\">\n",
       "  <thead>\n",
       "    <tr style=\"text-align: right;\">\n",
       "      <th></th>\n",
       "      <th>temperature</th>\n",
       "      <th>cloud_cover</th>\n",
       "      <th>pressure</th>\n",
       "      <th>windspeed</th>\n",
       "      <th>precipitation</th>\n",
       "      <th>felt_temperature</th>\n",
       "    </tr>\n",
       "  </thead>\n",
       "  <tbody>\n",
       "    <tr>\n",
       "      <th>count</th>\n",
       "      <td>29219.000000</td>\n",
       "      <td>29224.000000</td>\n",
       "      <td>29236.000000</td>\n",
       "      <td>29158.000000</td>\n",
       "      <td>29244.000000</td>\n",
       "      <td>29218.000000</td>\n",
       "    </tr>\n",
       "    <tr>\n",
       "      <th>mean</th>\n",
       "      <td>17.885622</td>\n",
       "      <td>30.107993</td>\n",
       "      <td>986.879400</td>\n",
       "      <td>8.566568</td>\n",
       "      <td>0.059360</td>\n",
       "      <td>17.731433</td>\n",
       "    </tr>\n",
       "    <tr>\n",
       "      <th>std</th>\n",
       "      <td>6.454604</td>\n",
       "      <td>5.400388</td>\n",
       "      <td>3.607065</td>\n",
       "      <td>6.699889</td>\n",
       "      <td>0.471682</td>\n",
       "      <td>6.321100</td>\n",
       "    </tr>\n",
       "    <tr>\n",
       "      <th>min</th>\n",
       "      <td>2.000000</td>\n",
       "      <td>4.000000</td>\n",
       "      <td>971.000000</td>\n",
       "      <td>0.000000</td>\n",
       "      <td>0.000000</td>\n",
       "      <td>0.000000</td>\n",
       "    </tr>\n",
       "    <tr>\n",
       "      <th>25%</th>\n",
       "      <td>13.000000</td>\n",
       "      <td>26.000000</td>\n",
       "      <td>984.500000</td>\n",
       "      <td>6.000000</td>\n",
       "      <td>0.000000</td>\n",
       "      <td>13.000000</td>\n",
       "    </tr>\n",
       "    <tr>\n",
       "      <th>50%</th>\n",
       "      <td>17.000000</td>\n",
       "      <td>33.000000</td>\n",
       "      <td>986.480000</td>\n",
       "      <td>7.000000</td>\n",
       "      <td>0.000000</td>\n",
       "      <td>17.000000</td>\n",
       "    </tr>\n",
       "    <tr>\n",
       "      <th>75%</th>\n",
       "      <td>22.000000</td>\n",
       "      <td>34.000000</td>\n",
       "      <td>989.110000</td>\n",
       "      <td>13.000000</td>\n",
       "      <td>0.000000</td>\n",
       "      <td>22.000000</td>\n",
       "    </tr>\n",
       "    <tr>\n",
       "      <th>max</th>\n",
       "      <td>46.000000</td>\n",
       "      <td>47.000000</td>\n",
       "      <td>999.650000</td>\n",
       "      <td>57.000000</td>\n",
       "      <td>18.540000</td>\n",
       "      <td>42.000000</td>\n",
       "    </tr>\n",
       "  </tbody>\n",
       "</table>\n",
       "</div>"
      ]
     },
     "execution_count": 436,
     "metadata": {},
     "output_type": "execute_result"
    }
   ],
   "execution_count": 436
  },
  {
   "metadata": {},
   "cell_type": "markdown",
   "source": "***",
   "id": "3a445c293ad955dc"
  },
  {
   "metadata": {},
   "cell_type": "markdown",
   "source": [
    "## 2 Data Preparation\n",
    "\n",
    "The goal of data preparation is the creation of a clean, reliable and analysis-ready charging and weather dataset. We begin our data preparation by plotting the given data for a first visual exploration and then proceed with investigating potential problems and implement suitable solutions.\n",
    "\n",
    "### 2.1 Visual Overview\n",
    "\n",
    "#### 2.1.1 Charging Data"
   ],
   "id": "6ebf96d6446de25a"
  },
  {
   "metadata": {
    "ExecuteTime": {
     "end_time": "2025-01-26T17:29:07.136517Z",
     "start_time": "2025-01-26T17:29:06.976587Z"
    }
   },
   "cell_type": "code",
   "source": [
    "# Extract date for grouping\n",
    "charging_data['connectionTime'] = pd.to_datetime(charging_data['connectionTime'])\n",
    "charging_data['connection_date'] = charging_data['connectionTime'].dt.date\n",
    "\n",
    "# sort data chronologically\n",
    "charging_data = charging_data.sort_values(by='connectionTime')\n",
    "\n",
    "# Aggregate charging sessions per day\n",
    "charging_sessions_per_day = charging_data.groupby(['connection_date', 'siteID']).size().unstack(fill_value=0)\n",
    "\n",
    "# Plot charging sessions over time\n",
    "plt.figure(figsize=(8, 4))\n",
    "for siteID in charging_sessions_per_day.columns:\n",
    "    charging_sessions_per_day[siteID].plot(label=f'Site {siteID}', alpha=0.7)\n",
    "plt.title('Charging Sessions Over Time')\n",
    "plt.xlabel('Date')\n",
    "plt.ylabel('Number of Sessions')\n",
    "plt.legend()\n",
    "plt.grid(axis='y', linestyle='--', alpha=0.7)\n",
    "plt.show()"
   ],
   "id": "d3f0500f38d939b4",
   "outputs": [
    {
     "data": {
      "text/plain": [
       "<Figure size 800x400 with 1 Axes>"
      ],
      "image/png": "[encoded data removed]"
     },
     "metadata": {},
     "output_type": "display_data"
    }
   ],
   "execution_count": 437
  },
  {
   "metadata": {
    "ExecuteTime": {
     "end_time": "2025-01-26T17:29:07.198099Z",
     "start_time": "2025-01-26T17:29:07.189964Z"
    }
   },
   "cell_type": "code",
   "source": [
    "# Add a column for month and year\n",
    "charging_data['year_month'] = charging_data['connectionTime'].dt.to_period('M')\n",
    "\n",
    "# Group by month and count records\n",
    "monthly_counts = charging_data.groupby('year_month').size()\n",
    "\n",
    "# Display the counts for visual inspection\n",
    "print(monthly_counts)\n",
    "\n",
    "# The UserWarning about dropping timezone information is not a problem in this case"
   ],
   "id": "a4df00764f766097",
   "outputs": [
    {
     "name": "stdout",
     "output_type": "stream",
     "text": [
      "year_month\n",
      "2018-04     258\n",
      "2018-05    1768\n",
      "2018-06    1854\n",
      "2018-07    2044\n",
      "2018-08    2431\n",
      "2018-09    3192\n",
      "2018-10    3964\n",
      "2018-11    2618\n",
      "2018-12    1938\n",
      "2019-01    2348\n",
      "2019-02    2219\n",
      "2019-03    2365\n",
      "2019-04    2552\n",
      "2019-05    2614\n",
      "2019-06    2270\n",
      "2019-07    3717\n",
      "2019-08    2374\n",
      "2019-09    2247\n",
      "2019-10    2601\n",
      "2019-11    2127\n",
      "2019-12    1998\n",
      "2020-01    2291\n",
      "2020-02    2258\n",
      "2020-03    1216\n",
      "2020-04     225\n",
      "2020-05     268\n",
      "2020-06     411\n",
      "2020-07     549\n",
      "2020-08      33\n",
      "2020-11     206\n",
      "2020-12     584\n",
      "2021-01     679\n",
      "2021-02     745\n",
      "2021-03     914\n",
      "2021-04     970\n",
      "2021-05    1009\n",
      "2021-06    1241\n",
      "2021-07    1035\n",
      "2021-08    1631\n",
      "2021-09     686\n",
      "Freq: M, dtype: int64\n"
     ]
    },
    {
     "name": "stderr",
     "output_type": "stream",
     "text": [
      "/var/folders/19/n27574l10m705j9rkxgsyy500000gn/T/ipykernel_1669/33123028.py:2: UserWarning: Converting to PeriodArray/Index representation will drop timezone information.\n",
      "  charging_data['year_month'] = charging_data['connectionTime'].dt.to_period('M')\n"
     ]
    }
   ],
   "execution_count": 438
  },
  {
   "metadata": {},
   "cell_type": "markdown",
   "source": [
    "First visual observations of the charging data: </br>\n",
    "- data records of site 1 start at approx. September 2018\n",
    "- data records of site 2 start at approx. May 2018 (about 4 months earlier than site 1)\n",
    "- timeframe between approx. August 2020 and December 2020 missing\n",
    "- significant decrease in charging sessions around March 2020, coinciding with COVID-19 related lockdowns.\n",
    "- volume of charging sessions did not reach old levels since start of pandemic\n",
    "- unusually high volume of charging sessions around July 2019\n"
   ],
   "id": "d67d4416b018ba5c"
  },
  {
   "metadata": {
    "ExecuteTime": {
     "end_time": "2025-01-26T17:29:07.286278Z",
     "start_time": "2025-01-26T17:29:07.277360Z"
    }
   },
   "cell_type": "code",
   "source": [
    "# Look at the missing timeframe between approx. August and December 2020\n",
    "filtered_data = charging_data[\n",
    "    (charging_data['connectionTime'] >= '2020-08-01') &\n",
    "    (charging_data['connectionTime'] <= '2020-12-01')\n",
    "    ].copy()\n",
    "\n",
    "# Group by date and get the last record for each date\n",
    "last_records_per_date = filtered_data.groupby(['siteID', 'connection_date']).tail(1)\n",
    "last_records_per_date.head()"
   ],
   "id": "3ed93746396301a6",
   "outputs": [
    {
     "data": {
      "text/plain": [
       "       counter                        id            connectionTime  \\\n",
       "51315     2196  5f39cf8bf9af8b07c39cfd12 2020-08-01 02:16:32+00:00   \n",
       "5024      5024  5f3b210cf9af8b0a6d10cbf3 2020-08-01 17:58:21+00:00   \n",
       "51316     2197  5f3c728cf9af8b0c7b9c8a89 2020-08-02 12:30:47+00:00   \n",
       "5025      5025  5f3c728df9af8b0c7b9c8a8a 2020-08-02 17:49:33+00:00   \n",
       "5048      5048  5f3dc41bf9af8b0e903d4335 2020-08-03 21:43:29+00:00   \n",
       "\n",
       "                  disconnectTime           doneChargingTime  kWhDelivered  \\\n",
       "51315  2020-08-01 03:04:21+00:00  2020-08-01 03:04:16+00:00         1.729   \n",
       "5024   2020-08-01 23:11:54+00:00  2020-08-01 20:56:04+00:00         8.599   \n",
       "51316  2020-08-02 18:11:36+00:00  2020-08-02 16:48:42+00:00        28.870   \n",
       "5025   2020-08-02 22:56:36+00:00  2020-08-02 20:51:52+00:00         8.812   \n",
       "5048   2020-08-04 00:30:15+00:00  2020-08-04 00:30:10+00:00         5.516   \n",
       "\n",
       "                                    sessionID  siteID  spaceID    stationID  \\\n",
       "51315  2_39_139_28_2020-08-01 02:16:32.021183       2   CA-303  2-39-139-28   \n",
       "5024   1_1_191_792_2020-08-01 17:58:21.088227       1  AG-4F37  1-1-191-792   \n",
       "51316  2_39_130_31_2020-08-02 12:30:47.006756       2   CA-306  2-39-130-31   \n",
       "5025   1_1_191_792_2020-08-02 17:49:33.364151       1  AG-4F37  1-1-191-792   \n",
       "5048   1_1_193_827_2020-08-03 21:43:29.408907       1  AG-1F02  1-1-193-827   \n",
       "\n",
       "                  timezone  userID  \\\n",
       "51315  America/Los_Angeles  1539.0   \n",
       "5024   America/Los_Angeles    76.0   \n",
       "51316  America/Los_Angeles   300.0   \n",
       "5025   America/Los_Angeles    76.0   \n",
       "5048   America/Los_Angeles   405.0   \n",
       "\n",
       "                                              userInputs connection_date  \\\n",
       "51315  [{'WhPerMile': 290, 'kWhRequested': 5.8, 'mile...      2020-08-01   \n",
       "5024   [{'WhPerMile': 350, 'kWhRequested': 35.0, 'mil...      2020-08-01   \n",
       "51316  [{'WhPerMile': 440, 'kWhRequested': 44.0, 'mil...      2020-08-02   \n",
       "5025   [{'WhPerMile': 350, 'kWhRequested': 35.0, 'mil...      2020-08-02   \n",
       "5048   [{'WhPerMile': 370, 'kWhRequested': 11.1, 'mil...      2020-08-03   \n",
       "\n",
       "      year_month  \n",
       "51315    2020-08  \n",
       "5024     2020-08  \n",
       "51316    2020-08  \n",
       "5025     2020-08  \n",
       "5048     2020-08  "
      ],
      "text/html": [
       "<div>\n",
       "<style scoped>\n",
       "    .dataframe tbody tr th:only-of-type {\n",
       "        vertical-align: middle;\n",
       "    }\n",
       "\n",
       "    .dataframe tbody tr th {\n",
       "        vertical-align: top;\n",
       "    }\n",
       "\n",
       "    .dataframe thead th {\n",
       "        text-align: right;\n",
       "    }\n",
       "</style>\n",
       "<table border=\"1\" class=\"dataframe\">\n",
       "  <thead>\n",
       "    <tr style=\"text-align: right;\">\n",
       "      <th></th>\n",
       "      <th>counter</th>\n",
       "      <th>id</th>\n",
       "      <th>connectionTime</th>\n",
       "      <th>disconnectTime</th>\n",
       "      <th>doneChargingTime</th>\n",
       "      <th>kWhDelivered</th>\n",
       "      <th>sessionID</th>\n",
       "      <th>siteID</th>\n",
       "      <th>spaceID</th>\n",
       "      <th>stationID</th>\n",
       "      <th>timezone</th>\n",
       "      <th>userID</th>\n",
       "      <th>userInputs</th>\n",
       "      <th>connection_date</th>\n",
       "      <th>year_month</th>\n",
       "    </tr>\n",
       "  </thead>\n",
       "  <tbody>\n",
       "    <tr>\n",
       "      <th>51315</th>\n",
       "      <td>2196</td>\n",
       "      <td>5f39cf8bf9af8b07c39cfd12</td>\n",
       "      <td>2020-08-01 02:16:32+00:00</td>\n",
       "      <td>2020-08-01 03:04:21+00:00</td>\n",
       "      <td>2020-08-01 03:04:16+00:00</td>\n",
       "      <td>1.729</td>\n",
       "      <td>2_39_139_28_2020-08-01 02:16:32.021183</td>\n",
       "      <td>2</td>\n",
       "      <td>CA-303</td>\n",
       "      <td>2-39-139-28</td>\n",
       "      <td>America/Los_Angeles</td>\n",
       "      <td>1539.0</td>\n",
       "      <td>[{'WhPerMile': 290, 'kWhRequested': 5.8, 'mile...</td>\n",
       "      <td>2020-08-01</td>\n",
       "      <td>2020-08</td>\n",
       "    </tr>\n",
       "    <tr>\n",
       "      <th>5024</th>\n",
       "      <td>5024</td>\n",
       "      <td>5f3b210cf9af8b0a6d10cbf3</td>\n",
       "      <td>2020-08-01 17:58:21+00:00</td>\n",
       "      <td>2020-08-01 23:11:54+00:00</td>\n",
       "      <td>2020-08-01 20:56:04+00:00</td>\n",
       "      <td>8.599</td>\n",
       "      <td>1_1_191_792_2020-08-01 17:58:21.088227</td>\n",
       "      <td>1</td>\n",
       "      <td>AG-4F37</td>\n",
       "      <td>1-1-191-792</td>\n",
       "      <td>America/Los_Angeles</td>\n",
       "      <td>76.0</td>\n",
       "      <td>[{'WhPerMile': 350, 'kWhRequested': 35.0, 'mil...</td>\n",
       "      <td>2020-08-01</td>\n",
       "      <td>2020-08</td>\n",
       "    </tr>\n",
       "    <tr>\n",
       "      <th>51316</th>\n",
       "      <td>2197</td>\n",
       "      <td>5f3c728cf9af8b0c7b9c8a89</td>\n",
       "      <td>2020-08-02 12:30:47+00:00</td>\n",
       "      <td>2020-08-02 18:11:36+00:00</td>\n",
       "      <td>2020-08-02 16:48:42+00:00</td>\n",
       "      <td>28.870</td>\n",
       "      <td>2_39_130_31_2020-08-02 12:30:47.006756</td>\n",
       "      <td>2</td>\n",
       "      <td>CA-306</td>\n",
       "      <td>2-39-130-31</td>\n",
       "      <td>America/Los_Angeles</td>\n",
       "      <td>300.0</td>\n",
       "      <td>[{'WhPerMile': 440, 'kWhRequested': 44.0, 'mil...</td>\n",
       "      <td>2020-08-02</td>\n",
       "      <td>2020-08</td>\n",
       "    </tr>\n",
       "    <tr>\n",
       "      <th>5025</th>\n",
       "      <td>5025</td>\n",
       "      <td>5f3c728df9af8b0c7b9c8a8a</td>\n",
       "      <td>2020-08-02 17:49:33+00:00</td>\n",
       "      <td>2020-08-02 22:56:36+00:00</td>\n",
       "      <td>2020-08-02 20:51:52+00:00</td>\n",
       "      <td>8.812</td>\n",
       "      <td>1_1_191_792_2020-08-02 17:49:33.364151</td>\n",
       "      <td>1</td>\n",
       "      <td>AG-4F37</td>\n",
       "      <td>1-1-191-792</td>\n",
       "      <td>America/Los_Angeles</td>\n",
       "      <td>76.0</td>\n",
       "      <td>[{'WhPerMile': 350, 'kWhRequested': 35.0, 'mil...</td>\n",
       "      <td>2020-08-02</td>\n",
       "      <td>2020-08</td>\n",
       "    </tr>\n",
       "    <tr>\n",
       "      <th>5048</th>\n",
       "      <td>5048</td>\n",
       "      <td>5f3dc41bf9af8b0e903d4335</td>\n",
       "      <td>2020-08-03 21:43:29+00:00</td>\n",
       "      <td>2020-08-04 00:30:15+00:00</td>\n",
       "      <td>2020-08-04 00:30:10+00:00</td>\n",
       "      <td>5.516</td>\n",
       "      <td>1_1_193_827_2020-08-03 21:43:29.408907</td>\n",
       "      <td>1</td>\n",
       "      <td>AG-1F02</td>\n",
       "      <td>1-1-193-827</td>\n",
       "      <td>America/Los_Angeles</td>\n",
       "      <td>405.0</td>\n",
       "      <td>[{'WhPerMile': 370, 'kWhRequested': 11.1, 'mil...</td>\n",
       "      <td>2020-08-03</td>\n",
       "      <td>2020-08</td>\n",
       "    </tr>\n",
       "  </tbody>\n",
       "</table>\n",
       "</div>"
      ]
     },
     "execution_count": 439,
     "metadata": {},
     "output_type": "execute_result"
    }
   ],
   "execution_count": 439
  },
  {
   "metadata": {
    "ExecuteTime": {
     "end_time": "2025-01-26T17:29:07.340974Z",
     "start_time": "2025-01-26T17:29:07.336395Z"
    }
   },
   "cell_type": "code",
   "source": [
    "# Identify the last element (connectionTime) per site\n",
    "last_element_per_site = charging_data.groupby('siteID')['connectionTime'].max()\n",
    "print(last_element_per_site)"
   ],
   "id": "4a2fe9a6e06a5114",
   "outputs": [
    {
     "name": "stdout",
     "output_type": "stream",
     "text": [
      "siteID\n",
      "1   2021-09-14 05:43:39+00:00\n",
      "2   2021-09-14 01:52:37+00:00\n",
      "Name: connectionTime, dtype: datetime64[ns, UTC]\n"
     ]
    }
   ],
   "execution_count": 440
  },
  {
   "metadata": {
    "ExecuteTime": {
     "end_time": "2025-01-26T17:29:07.441052Z",
     "start_time": "2025-01-26T17:29:07.437294Z"
    }
   },
   "cell_type": "code",
   "source": [
    "# Identify the first element (connectionTime) per site\n",
    "first_element_per_site = charging_data.groupby('siteID')['connectionTime'].min()\n",
    "print(first_element_per_site)"
   ],
   "id": "f1b0d07b1a5cd7b6",
   "outputs": [
    {
     "name": "stdout",
     "output_type": "stream",
     "text": [
      "siteID\n",
      "1   2018-09-05 11:04:13+00:00\n",
      "2   2018-04-25 11:08:04+00:00\n",
      "Name: connectionTime, dtype: datetime64[ns, UTC]\n"
     ]
    }
   ],
   "execution_count": 441
  },
  {
   "metadata": {},
   "cell_type": "markdown",
   "source": [
    "More detailed Observations:\n",
    "- there is no charging data between 3rd August 2020 and 18th November 2020 for both sites.\n",
    "- charging data ranges from 25th April 2018 (site 2) & 5th September 2018 (site 1) to 14th September 2021 (both sites)\n",
    "- Data for site 1 starts 133 days after site 2"
   ],
   "id": "f52232e50a2752fa"
  },
  {
   "metadata": {},
   "cell_type": "markdown",
   "source": "#### 2.1.1 Weather Data",
   "id": "f4631b2165da765f"
  },
  {
   "metadata": {
    "ExecuteTime": {
     "end_time": "2025-01-26T17:29:07.580341Z",
     "start_time": "2025-01-26T17:29:07.507699Z"
    }
   },
   "cell_type": "code",
   "source": [
    "# Plot average temperature over time\n",
    "weather_data['timestamp'] = pd.to_datetime(weather_data['timestamp'])\n",
    "weather_data['weather_date'] = weather_data['timestamp'].dt.date\n",
    "\n",
    "# sort data chronologically\n",
    "weather_data = weather_data.sort_values(by='timestamp')\n",
    "\n",
    "average_temperature_per_day = weather_data.groupby('weather_date')['temperature'].mean()\n",
    "\n",
    "plt.figure(figsize=(8, 4))\n",
    "average_temperature_per_day.plot(label='Average Temperature (°C)', color='orange')\n",
    "plt.title('Average Temperature Over Time')\n",
    "plt.xlabel('Date')\n",
    "plt.ylabel('Temperature (°C)')\n",
    "plt.legend()\n",
    "plt.grid(axis='y', linestyle='--')\n",
    "plt.show()"
   ],
   "id": "d452b7cb599ea389",
   "outputs": [
    {
     "data": {
      "text/plain": [
       "<Figure size 800x400 with 1 Axes>"
      ],
      "image/png": "[encoded data removed]"
     },
     "metadata": {},
     "output_type": "display_data"
    }
   ],
   "execution_count": 442
  },
  {
   "metadata": {
    "ExecuteTime": {
     "end_time": "2025-01-26T17:29:07.616586Z",
     "start_time": "2025-01-26T17:29:07.613391Z"
    }
   },
   "cell_type": "code",
   "source": [
    "# Identify the first and last element (timestamp)\n",
    "first_weather_element = weather_data['timestamp'].min()\n",
    "last_weather_element = weather_data['timestamp'].max()\n",
    "print(f\"Frist weather record: {first_weather_element}\")\n",
    "print(f\"Last weather record: {last_weather_element}\")"
   ],
   "id": "4fd502c5a28ce967",
   "outputs": [
    {
     "name": "stdout",
     "output_type": "stream",
     "text": [
      "Frist weather record: 2018-01-01 08:53:00\n",
      "Last weather record: 2021-01-01 07:53:00\n"
     ]
    }
   ],
   "execution_count": 443
  },
  {
   "metadata": {},
   "cell_type": "markdown",
   "source": [
    "First visual observations of the weather data: </br>\n",
    "- weather records start at 01-01-2018 (not a problem as charging data starts in May 2018)\n",
    "- however: the weather data ends at 01-01-2021 although charging data continues until September 2021\n",
    "- no further abnormalities visible"
   ],
   "id": "d74bcef9617f0c5f"
  },
  {
   "metadata": {},
   "cell_type": "markdown",
   "source": [
    "### 2.2 Transform Datatypes\n",
    "\n",
    "After out first visual overview we format the datatypes of the different columns to those described in the Team Assignment or to those that make sense."
   ],
   "id": "2eaf423ab3b2a185"
  },
  {
   "metadata": {},
   "cell_type": "markdown",
   "source": "#### 2.2.1 Charging Data",
   "id": "86fa06de2f272a40"
  },
  {
   "metadata": {
    "ExecuteTime": {
     "end_time": "2025-01-26T17:29:07.776438Z",
     "start_time": "2025-01-26T17:29:07.677618Z"
    }
   },
   "cell_type": "code",
   "source": [
    "charging_data['connectionTime'] = pd.to_datetime(charging_data['connectionTime'])\n",
    "charging_data['disconnectTime'] = pd.to_datetime(charging_data['disconnectTime'])\n",
    "charging_data['doneChargingTime'] = pd.to_datetime(charging_data['doneChargingTime'])\n",
    "charging_data['siteID'] = charging_data['siteID'].astype(str)\n",
    "# We will transform the datatype of column userID and userInputs later, when handling missing data. This has some compatibility reasons.\n",
    "\n",
    "# Team Assignment PDF: \"All datetimes are in UTC (GMT) see timezone field for the correct timezone of the site.\"\n",
    "# -> Therefore we have to convert the connectionTime, disconnectTime and doneChargingTime to timezone PST (pacific standard time) as the sites are located in Los Angeles.\n",
    "charging_data['connectionTime'] = charging_data['connectionTime'].dt.tz_convert(tz='America/Los_Angeles')\n",
    "charging_data['disconnectTime'] = charging_data['disconnectTime'].dt.tz_convert(tz='America/Los_Angeles')\n",
    "charging_data['doneChargingTime'] = charging_data['doneChargingTime'].dt.tz_convert(tz='America/Los_Angeles')\n",
    "charging_data.info()"
   ],
   "id": "fdcbc51c47246fe5",
   "outputs": [
    {
     "name": "stdout",
     "output_type": "stream",
     "text": [
      "<class 'pandas.core.frame.DataFrame'>\n",
      "Index: 66450 entries, 30793 to 20178\n",
      "Data columns (total 15 columns):\n",
      " #   Column            Non-Null Count  Dtype                              \n",
      "---  ------            --------------  -----                              \n",
      " 0   counter           66450 non-null  int64                              \n",
      " 1   id                66450 non-null  object                             \n",
      " 2   connectionTime    66450 non-null  datetime64[ns, America/Los_Angeles]\n",
      " 3   disconnectTime    66450 non-null  datetime64[ns, America/Los_Angeles]\n",
      " 4   doneChargingTime  62362 non-null  datetime64[ns, America/Los_Angeles]\n",
      " 5   kWhDelivered      66450 non-null  float64                            \n",
      " 6   sessionID         66450 non-null  object                             \n",
      " 7   siteID            66450 non-null  object                             \n",
      " 8   spaceID           66450 non-null  object                             \n",
      " 9   stationID         66450 non-null  object                             \n",
      " 10  timezone          66450 non-null  object                             \n",
      " 11  userID            49187 non-null  float64                            \n",
      " 12  userInputs        49187 non-null  object                             \n",
      " 13  connection_date   66450 non-null  object                             \n",
      " 14  year_month        66450 non-null  period[M]                          \n",
      "dtypes: datetime64[ns, America/Los_Angeles](3), float64(2), int64(1), object(8), period[M](1)\n",
      "memory usage: 8.1+ MB\n"
     ]
    }
   ],
   "execution_count": 444
  },
  {
   "metadata": {
    "ExecuteTime": {
     "end_time": "2025-01-26T17:29:07.790818Z",
     "start_time": "2025-01-26T17:29:07.785441Z"
    }
   },
   "cell_type": "code",
   "source": [
    "# The offset of the columns connectionTime, disconnectTime and doneChargingTime is now -08:00 or -07:00 (summer) which is correct for timezone PST (Los Angeles)\n",
    "charging_data.head()"
   ],
   "id": "4c8816ff6b1a0027",
   "outputs": [
    {
     "data": {
      "text/plain": [
       "       counter                        id            connectionTime  \\\n",
       "30793        0  5bc90cb9f9af8b0d7fe77cd2 2018-04-25 04:08:04-07:00   \n",
       "30794        1  5bc90cb9f9af8b0d7fe77cd3 2018-04-25 06:45:10-07:00   \n",
       "30795        2  5bc90cb9f9af8b0d7fe77cd4 2018-04-25 06:45:50-07:00   \n",
       "30796        3  5bc90cb9f9af8b0d7fe77cd5 2018-04-25 07:37:06-07:00   \n",
       "30797        4  5bc90cb9f9af8b0d7fe77cd6 2018-04-25 07:40:34-07:00   \n",
       "\n",
       "                 disconnectTime          doneChargingTime  kWhDelivered  \\\n",
       "30793 2018-04-25 06:20:10-07:00 2018-04-25 06:21:10-07:00         7.932   \n",
       "30794 2018-04-25 17:56:16-07:00 2018-04-25 09:44:15-07:00        10.013   \n",
       "30795 2018-04-25 16:04:45-07:00 2018-04-25 07:51:44-07:00         5.257   \n",
       "30796 2018-04-25 16:55:34-07:00 2018-04-25 09:05:22-07:00         5.177   \n",
       "30797 2018-04-25 16:03:12-07:00 2018-04-25 10:40:30-07:00        10.119   \n",
       "\n",
       "                                    sessionID siteID spaceID    stationID  \\\n",
       "30793  2_39_78_362_2018-04-25 11:08:04.400812      2  CA-496  2-39-78-362   \n",
       "30794   2_39_95_27_2018-04-25 13:45:09.617470      2  CA-319   2-39-95-27   \n",
       "30795  2_39_79_380_2018-04-25 13:45:49.962001      2  CA-489  2-39-79-380   \n",
       "30796  2_39_79_379_2018-04-25 14:37:06.460772      2  CA-327  2-39-79-379   \n",
       "30797  2_39_79_381_2018-04-25 14:40:33.638896      2  CA-490  2-39-79-381   \n",
       "\n",
       "                  timezone  userID userInputs connection_date year_month  \n",
       "30793  America/Los_Angeles     NaN        NaN      2018-04-25    2018-04  \n",
       "30794  America/Los_Angeles     NaN        NaN      2018-04-25    2018-04  \n",
       "30795  America/Los_Angeles     NaN        NaN      2018-04-25    2018-04  \n",
       "30796  America/Los_Angeles     NaN        NaN      2018-04-25    2018-04  \n",
       "30797  America/Los_Angeles     NaN        NaN      2018-04-25    2018-04  "
      ],
      "text/html": [
       "<div>\n",
       "<style scoped>\n",
       "    .dataframe tbody tr th:only-of-type {\n",
       "        vertical-align: middle;\n",
       "    }\n",
       "\n",
       "    .dataframe tbody tr th {\n",
       "        vertical-align: top;\n",
       "    }\n",
       "\n",
       "    .dataframe thead th {\n",
       "        text-align: right;\n",
       "    }\n",
       "</style>\n",
       "<table border=\"1\" class=\"dataframe\">\n",
       "  <thead>\n",
       "    <tr style=\"text-align: right;\">\n",
       "      <th></th>\n",
       "      <th>counter</th>\n",
       "      <th>id</th>\n",
       "      <th>connectionTime</th>\n",
       "      <th>disconnectTime</th>\n",
       "      <th>doneChargingTime</th>\n",
       "      <th>kWhDelivered</th>\n",
       "      <th>sessionID</th>\n",
       "      <th>siteID</th>\n",
       "      <th>spaceID</th>\n",
       "      <th>stationID</th>\n",
       "      <th>timezone</th>\n",
       "      <th>userID</th>\n",
       "      <th>userInputs</th>\n",
       "      <th>connection_date</th>\n",
       "      <th>year_month</th>\n",
       "    </tr>\n",
       "  </thead>\n",
       "  <tbody>\n",
       "    <tr>\n",
       "      <th>30793</th>\n",
       "      <td>0</td>\n",
       "      <td>5bc90cb9f9af8b0d7fe77cd2</td>\n",
       "      <td>2018-04-25 04:08:04-07:00</td>\n",
       "      <td>2018-04-25 06:20:10-07:00</td>\n",
       "      <td>2018-04-25 06:21:10-07:00</td>\n",
       "      <td>7.932</td>\n",
       "      <td>2_39_78_362_2018-04-25 11:08:04.400812</td>\n",
       "      <td>2</td>\n",
       "      <td>CA-496</td>\n",
       "      <td>2-39-78-362</td>\n",
       "      <td>America/Los_Angeles</td>\n",
       "      <td>NaN</td>\n",
       "      <td>NaN</td>\n",
       "      <td>2018-04-25</td>\n",
       "      <td>2018-04</td>\n",
       "    </tr>\n",
       "    <tr>\n",
       "      <th>30794</th>\n",
       "      <td>1</td>\n",
       "      <td>5bc90cb9f9af8b0d7fe77cd3</td>\n",
       "      <td>2018-04-25 06:45:10-07:00</td>\n",
       "      <td>2018-04-25 17:56:16-07:00</td>\n",
       "      <td>2018-04-25 09:44:15-07:00</td>\n",
       "      <td>10.013</td>\n",
       "      <td>2_39_95_27_2018-04-25 13:45:09.617470</td>\n",
       "      <td>2</td>\n",
       "      <td>CA-319</td>\n",
       "      <td>2-39-95-27</td>\n",
       "      <td>America/Los_Angeles</td>\n",
       "      <td>NaN</td>\n",
       "      <td>NaN</td>\n",
       "      <td>2018-04-25</td>\n",
       "      <td>2018-04</td>\n",
       "    </tr>\n",
       "    <tr>\n",
       "      <th>30795</th>\n",
       "      <td>2</td>\n",
       "      <td>5bc90cb9f9af8b0d7fe77cd4</td>\n",
       "      <td>2018-04-25 06:45:50-07:00</td>\n",
       "      <td>2018-04-25 16:04:45-07:00</td>\n",
       "      <td>2018-04-25 07:51:44-07:00</td>\n",
       "      <td>5.257</td>\n",
       "      <td>2_39_79_380_2018-04-25 13:45:49.962001</td>\n",
       "      <td>2</td>\n",
       "      <td>CA-489</td>\n",
       "      <td>2-39-79-380</td>\n",
       "      <td>America/Los_Angeles</td>\n",
       "      <td>NaN</td>\n",
       "      <td>NaN</td>\n",
       "      <td>2018-04-25</td>\n",
       "      <td>2018-04</td>\n",
       "    </tr>\n",
       "    <tr>\n",
       "      <th>30796</th>\n",
       "      <td>3</td>\n",
       "      <td>5bc90cb9f9af8b0d7fe77cd5</td>\n",
       "      <td>2018-04-25 07:37:06-07:00</td>\n",
       "      <td>2018-04-25 16:55:34-07:00</td>\n",
       "      <td>2018-04-25 09:05:22-07:00</td>\n",
       "      <td>5.177</td>\n",
       "      <td>2_39_79_379_2018-04-25 14:37:06.460772</td>\n",
       "      <td>2</td>\n",
       "      <td>CA-327</td>\n",
       "      <td>2-39-79-379</td>\n",
       "      <td>America/Los_Angeles</td>\n",
       "      <td>NaN</td>\n",
       "      <td>NaN</td>\n",
       "      <td>2018-04-25</td>\n",
       "      <td>2018-04</td>\n",
       "    </tr>\n",
       "    <tr>\n",
       "      <th>30797</th>\n",
       "      <td>4</td>\n",
       "      <td>5bc90cb9f9af8b0d7fe77cd6</td>\n",
       "      <td>2018-04-25 07:40:34-07:00</td>\n",
       "      <td>2018-04-25 16:03:12-07:00</td>\n",
       "      <td>2018-04-25 10:40:30-07:00</td>\n",
       "      <td>10.119</td>\n",
       "      <td>2_39_79_381_2018-04-25 14:40:33.638896</td>\n",
       "      <td>2</td>\n",
       "      <td>CA-490</td>\n",
       "      <td>2-39-79-381</td>\n",
       "      <td>America/Los_Angeles</td>\n",
       "      <td>NaN</td>\n",
       "      <td>NaN</td>\n",
       "      <td>2018-04-25</td>\n",
       "      <td>2018-04</td>\n",
       "    </tr>\n",
       "  </tbody>\n",
       "</table>\n",
       "</div>"
      ]
     },
     "execution_count": 445,
     "metadata": {},
     "output_type": "execute_result"
    }
   ],
   "execution_count": 445
  },
  {
   "metadata": {
    "ExecuteTime": {
     "end_time": "2025-01-26T17:29:07.854676Z",
     "start_time": "2025-01-26T17:29:07.838486Z"
    }
   },
   "cell_type": "code",
   "source": [
    "# check inner Dataframe\n",
    "dftest = charging_data[charging_data['userInputs'].notnull()]\n",
    "# dftest[3]\n",
    "x = 2000\n",
    "print(dftest[['connectionTime', 'disconnectTime', 'doneChargingTime', 'kWhDelivered']].iloc[x])\n",
    "print(dftest['userInputs'].iloc[x])"
   ],
   "id": "8579dee02669bbb0",
   "outputs": [
    {
     "name": "stdout",
     "output_type": "stream",
     "text": [
      "connectionTime      2018-10-31 06:50:20-07:00\n",
      "disconnectTime      2018-10-31 14:03:35-07:00\n",
      "doneChargingTime    2018-10-31 12:11:04-07:00\n",
      "kWhDelivered                           24.895\n",
      "Name: 53970, dtype: object\n",
      "[{'WhPerMile': 250, 'kWhRequested': 25.0, 'milesRequested': 100, 'minutesAvailable': 616, 'modifiedAt': 'Wed, 31 Oct 2018 13:50:49 GMT', 'paymentRequired': True, 'requestedDeparture': 'Thu, 01 Nov 2018 00:06:20 GMT', 'userID': 1049}, {'WhPerMile': 250, 'kWhRequested': 25.0, 'milesRequested': 100, 'minutesAvailable': 483, 'modifiedAt': 'Wed, 31 Oct 2018 15:01:05 GMT', 'paymentRequired': True, 'requestedDeparture': 'Wed, 31 Oct 2018 21:53:20 GMT', 'userID': 1049}, {'WhPerMile': 250, 'kWhRequested': 10.0, 'milesRequested': 40, 'minutesAvailable': 803, 'modifiedAt': 'Wed, 31 Oct 2018 19:15:46 GMT', 'paymentRequired': True, 'requestedDeparture': 'Thu, 01 Nov 2018 03:13:20 GMT', 'userID': 1049}, {'WhPerMile': 250, 'kWhRequested': 10.0, 'milesRequested': 40, 'minutesAvailable': 809, 'modifiedAt': 'Wed, 31 Oct 2018 19:19:16 GMT', 'paymentRequired': True, 'requestedDeparture': 'Thu, 01 Nov 2018 03:19:20 GMT', 'userID': 1049}, {'WhPerMile': 250, 'kWhRequested': 10.0, 'milesRequested': 40, 'minutesAvailable': 876, 'modifiedAt': 'Wed, 31 Oct 2018 20:26:16 GMT', 'paymentRequired': True, 'requestedDeparture': 'Thu, 01 Nov 2018 04:26:20 GMT', 'userID': 1049}]\n"
     ]
    }
   ],
   "execution_count": 446
  },
  {
   "metadata": {},
   "cell_type": "markdown",
   "source": "**Check the importance of UserInput**",
   "id": "f382207485c5f62d"
  },
  {
   "metadata": {
    "ExecuteTime": {
     "end_time": "2025-01-26T17:29:10.191293Z",
     "start_time": "2025-01-26T17:29:07.946798Z"
    }
   },
   "cell_type": "code",
   "source": [
    "extracted_data = []\n",
    "\n",
    "# Go through each row in the DataFrame and process the userInputs column\n",
    "for index, row in dftest.iterrows():\n",
    "    user_input_str = row['userInputs']\n",
    "\n",
    "    try:\n",
    "        # Conversion of the string into a list of dictionaries\n",
    "        user_input_data = ast.literal_eval(user_input_str)\n",
    "\n",
    "        for item in user_input_data:\n",
    "            # Extract the desired values or set to 0 if the value is not available\n",
    "            extracted_data.append({\n",
    "                'WhPerMile': item.get('WhPerMile', 0),\n",
    "                'kWhRequested': item.get('kWhRequested', 0),\n",
    "                'milesRequested': item.get('milesRequested', 0),\n",
    "                'minutesAvailable': item.get('minutesAvailable', 0),\n",
    "                'modifiedAt': item.get('modifiedAt', 0),\n",
    "                'paymentRequired': item.get('paymentRequired', 0),\n",
    "                'requestedDeparture': item.get('requestedDeparture', 0),\n",
    "                'userIDInput': item.get('userID', 0),\n",
    "            })\n",
    "\n",
    "    except Exception as e:\n",
    "        # If errors occur, set empty rows to 0\n",
    "        extracted_data.append({\n",
    "            'WhPerMile': 0,\n",
    "            'kWhRequested': 0,\n",
    "            'milesRequested': 0,\n",
    "            'minutesAvailable': 0,\n",
    "            'modifiedAt': 0,\n",
    "            'paymentRequired': 0,\n",
    "            'requestedDeparture': 0,\n",
    "            'userIDInput': 0\n",
    "        })\n",
    "\n",
    "# Create a copy of the original DataFrame to make analysis later and not interfere with original data\n",
    "charging_data_copy = charging_data.copy()\n",
    "\n",
    "# Save the extracted data in a new DataFrame\n",
    "extracted_df = pd.DataFrame(extracted_data)\n",
    "\n",
    "# Add the extracted DataFrame to the copied DataFrame\n",
    "charging_data_copy = pd.concat([charging_data_copy, extracted_df], axis=1)\n",
    "\n",
    "# Remove the 'userInputs' column from the copy\n",
    "charging_data_copy = charging_data_copy.drop(columns=['userInputs'])\n",
    "\n",
    "# Count how much data has been extracted\n",
    "num_extracted_data = len(extracted_data)\n",
    "print(f\"Number of extracted data entries: {num_extracted_data}\")\n",
    "\n",
    "# Check the copy\n",
    "print(charging_data_copy.head())\n",
    "charging_data_copy.info()\n"
   ],
   "id": "57386fff3c740413",
   "outputs": [
    {
     "name": "stdout",
     "output_type": "stream",
     "text": [
      "Number of extracted data entries: 63376\n",
      "       counter                        id            connectionTime  \\\n",
      "30793        0  5bc90cb9f9af8b0d7fe77cd2 2018-04-25 04:08:04-07:00   \n",
      "30794        1  5bc90cb9f9af8b0d7fe77cd3 2018-04-25 06:45:10-07:00   \n",
      "30795        2  5bc90cb9f9af8b0d7fe77cd4 2018-04-25 06:45:50-07:00   \n",
      "30796        3  5bc90cb9f9af8b0d7fe77cd5 2018-04-25 07:37:06-07:00   \n",
      "30797        4  5bc90cb9f9af8b0d7fe77cd6 2018-04-25 07:40:34-07:00   \n",
      "\n",
      "                 disconnectTime          doneChargingTime  kWhDelivered  \\\n",
      "30793 2018-04-25 06:20:10-07:00 2018-04-25 06:21:10-07:00         7.932   \n",
      "30794 2018-04-25 17:56:16-07:00 2018-04-25 09:44:15-07:00        10.013   \n",
      "30795 2018-04-25 16:04:45-07:00 2018-04-25 07:51:44-07:00         5.257   \n",
      "30796 2018-04-25 16:55:34-07:00 2018-04-25 09:05:22-07:00         5.177   \n",
      "30797 2018-04-25 16:03:12-07:00 2018-04-25 10:40:30-07:00        10.119   \n",
      "\n",
      "                                    sessionID siteID spaceID    stationID  \\\n",
      "30793  2_39_78_362_2018-04-25 11:08:04.400812      2  CA-496  2-39-78-362   \n",
      "30794   2_39_95_27_2018-04-25 13:45:09.617470      2  CA-319   2-39-95-27   \n",
      "30795  2_39_79_380_2018-04-25 13:45:49.962001      2  CA-489  2-39-79-380   \n",
      "30796  2_39_79_379_2018-04-25 14:37:06.460772      2  CA-327  2-39-79-379   \n",
      "30797  2_39_79_381_2018-04-25 14:40:33.638896      2  CA-490  2-39-79-381   \n",
      "\n",
      "       ... connection_date  year_month WhPerMile kWhRequested  milesRequested  \\\n",
      "30793  ...      2018-04-25     2018-04     600.0        12.00            20.0   \n",
      "30794  ...      2018-04-25     2018-04     235.0        39.95           170.0   \n",
      "30795  ...      2018-04-25     2018-04     400.0        16.00            40.0   \n",
      "30796  ...      2018-04-25     2018-04     400.0         8.00            20.0   \n",
      "30797  ...      2018-04-25     2018-04     400.0         8.00            20.0   \n",
      "\n",
      "       minutesAvailable                     modifiedAt  paymentRequired  \\\n",
      "30793             561.0  Tue, 06 Aug 2019 13:43:20 GMT             True   \n",
      "30794             511.0  Tue, 06 Aug 2019 13:43:39 GMT             True   \n",
      "30795             434.0  Tue, 06 Aug 2019 13:45:38 GMT             True   \n",
      "30796             593.0  Tue, 06 Aug 2019 13:50:47 GMT             True   \n",
      "30797              60.0  Tue, 06 Aug 2019 13:51:00 GMT             True   \n",
      "\n",
      "                  requestedDeparture userIDInput  \n",
      "30793  Tue, 06 Aug 2019 23:04:14 GMT      2057.0  \n",
      "30794  Tue, 06 Aug 2019 22:14:36 GMT       576.0  \n",
      "30795  Tue, 06 Aug 2019 20:59:23 GMT      2129.0  \n",
      "30796  Tue, 06 Aug 2019 23:43:44 GMT      1627.0  \n",
      "30797  Tue, 06 Aug 2019 14:50:44 GMT      1627.0  \n",
      "\n",
      "[5 rows x 22 columns]\n",
      "<class 'pandas.core.frame.DataFrame'>\n",
      "Index: 66450 entries, 30793 to 20178\n",
      "Data columns (total 22 columns):\n",
      " #   Column              Non-Null Count  Dtype                              \n",
      "---  ------              --------------  -----                              \n",
      " 0   counter             66450 non-null  int64                              \n",
      " 1   id                  66450 non-null  object                             \n",
      " 2   connectionTime      66450 non-null  datetime64[ns, America/Los_Angeles]\n",
      " 3   disconnectTime      66450 non-null  datetime64[ns, America/Los_Angeles]\n",
      " 4   doneChargingTime    62362 non-null  datetime64[ns, America/Los_Angeles]\n",
      " 5   kWhDelivered        66450 non-null  float64                            \n",
      " 6   sessionID           66450 non-null  object                             \n",
      " 7   siteID              66450 non-null  object                             \n",
      " 8   spaceID             66450 non-null  object                             \n",
      " 9   stationID           66450 non-null  object                             \n",
      " 10  timezone            66450 non-null  object                             \n",
      " 11  userID              49187 non-null  float64                            \n",
      " 12  connection_date     66450 non-null  object                             \n",
      " 13  year_month          66450 non-null  period[M]                          \n",
      " 14  WhPerMile           63376 non-null  float64                            \n",
      " 15  kWhRequested        63376 non-null  float64                            \n",
      " 16  milesRequested      63376 non-null  float64                            \n",
      " 17  minutesAvailable    63376 non-null  float64                            \n",
      " 18  modifiedAt          63376 non-null  object                             \n",
      " 19  paymentRequired     63376 non-null  object                             \n",
      " 20  requestedDeparture  63376 non-null  object                             \n",
      " 21  userIDInput         63376 non-null  float64                            \n",
      "dtypes: datetime64[ns, America/Los_Angeles](3), float64(7), int64(1), object(10), period[M](1)\n",
      "memory usage: 11.7+ MB\n"
     ]
    }
   ],
   "execution_count": 447
  },
  {
   "metadata": {
    "ExecuteTime": {
     "end_time": "2025-01-26T17:29:10.308864Z",
     "start_time": "2025-01-26T17:29:10.200632Z"
    }
   },
   "cell_type": "code",
   "source": [
    "# Pairplot for UserID and numerical features\n",
    "numerical_columns = ['connectionTime', 'disconnectTime', 'doneChargingTime', 'kWhDelivered', 'WhPerMile',\n",
    "                     'kWhRequested', 'milesRequested', 'minutesAvailable']\n",
    "pairplot_data = charging_data_copy[numerical_columns].dropna()\n",
    "\n",
    "# Calculate correlation matrix\n",
    "correlation_matrix = pairplot_data.corr()\n",
    "\n",
    "# Create heatmap of the correlation matrix\n",
    "plt.figure(figsize=(10, 8))\n",
    "sns.heatmap(correlation_matrix, annot=True, cmap='coolwarm', fmt='.2f', linewidths=0.5)\n",
    "plt.title(\"Correlation Heatmap for userID and Numeric Features\")\n",
    "plt.tight_layout()\n",
    "plt.show()"
   ],
   "id": "5b26bf750d6a2594",
   "outputs": [
    {
     "data": {
      "text/plain": [
       "<Figure size 1000x800 with 2 Axes>"
      ],
      "image/png": "[encoded data removed]"
     },
     "metadata": {},
     "output_type": "display_data"
    }
   ],
   "execution_count": 448
  },
  {
   "metadata": {},
   "cell_type": "markdown",
   "source": [
    "**Removal of userInputs**\n",
    "\n",
    "**Lack of correlation:**\n",
    "The user inputs such as WhPerMile, kWhRequested, milesRequested and minutesAvailable show no significant correlation with the charging variables such as connectionTime, doneChargingTime or kWhDelivered. As a result, they do not make a relevant contribution to the investigation of the relationships between the charging parameters.\n",
    "\n",
    "As expected, the only exceptions are the user inputs kWhRequested and milesRequested, which correlate with each other due to their functional relationship. This correlation is logical, as the requested energy is directly linked to the planned route. Nevertheless, these variables have no direct relevance for the actual analysis of the charging process.\n",
    "\n",
    "Additionally more than 17.000 chargingSessions do not even supply extra userInputs."
   ],
   "id": "965f53aaf23b2dc2"
  },
  {
   "metadata": {
    "ExecuteTime": {
     "end_time": "2025-01-26T17:29:10.326676Z",
     "start_time": "2025-01-26T17:29:10.323095Z"
    }
   },
   "cell_type": "code",
   "source": [
    "# Drop the userInputs\n",
    "charging_data.drop(columns=['userInputs'], inplace=True)"
   ],
   "id": "9a7ac3a2edee8328",
   "outputs": [],
   "execution_count": 449
  },
  {
   "metadata": {},
   "cell_type": "markdown",
   "source": "#### 2.2.2 Weather Data",
   "id": "9a0772fa6ad25208"
  },
  {
   "metadata": {
    "ExecuteTime": {
     "end_time": "2025-01-26T17:29:10.354698Z",
     "start_time": "2025-01-26T17:29:10.351456Z"
    }
   },
   "cell_type": "code",
   "source": "print(weather_data.tail(10))",
   "id": "13fd8837f9b8d45f",
   "outputs": [
    {
     "name": "stdout",
     "output_type": "stream",
     "text": [
      "          city           timestamp  temperature  cloud_cover  \\\n",
      "29234  Burbank 2020-12-31 22:53:00         18.0         34.0   \n",
      "29235  Burbank 2020-12-31 23:53:00         16.0         34.0   \n",
      "29236  Burbank 2021-01-01 00:53:00         14.0         34.0   \n",
      "29237  Burbank 2021-01-01 01:53:00         14.0         33.0   \n",
      "29238  Burbank 2021-01-01 02:53:00         14.0         33.0   \n",
      "29239  Burbank 2021-01-01 03:53:00         13.0         33.0   \n",
      "29240  Burbank 2021-01-01 04:53:00         12.0         33.0   \n",
      "29241  Burbank 2021-01-01 05:53:00         12.0         33.0   \n",
      "29242  Burbank 2021-01-01 06:53:00         11.0         33.0   \n",
      "29243  Burbank 2021-01-01 07:53:00         10.0         33.0   \n",
      "\n",
      "      cloud_cover_description  pressure  windspeed  precipitation  \\\n",
      "29234                    Fair    984.83       31.0            0.0   \n",
      "29235                    Fair    985.16       20.0            0.0   \n",
      "29236                    Fair    985.49       20.0            0.0   \n",
      "29237                    Fair    986.15       22.0            0.0   \n",
      "29238                    Fair    986.48       19.0            0.0   \n",
      "29239                    Fair    986.81        0.0            0.0   \n",
      "29240                    Fair    986.81       11.0            0.0   \n",
      "29241                    Fair    987.47        9.0            0.0   \n",
      "29242                    Fair    987.14       13.0            0.0   \n",
      "29243                    Fair    987.80        6.0            0.0   \n",
      "\n",
      "       felt_temperature weather_date  \n",
      "29234              18.0   2020-12-31  \n",
      "29235              16.0   2020-12-31  \n",
      "29236              14.0   2021-01-01  \n",
      "29237              14.0   2021-01-01  \n",
      "29238              14.0   2021-01-01  \n",
      "29239              13.0   2021-01-01  \n",
      "29240              12.0   2021-01-01  \n",
      "29241              12.0   2021-01-01  \n",
      "29242              11.0   2021-01-01  \n",
      "29243              10.0   2021-01-01  \n"
     ]
    }
   ],
   "execution_count": 450
  },
  {
   "metadata": {},
   "cell_type": "markdown",
   "source": "Although the timestamps are already in datetime format (due to our transformation for the visual exploration), the weather data needs to be localized to the correct timezone, just like the charging data. The data above shows that the Los Angeles temperatures don't match the timestamps: they should be lower at night and higher during the day. Therefore, we convert the timestamps to PST for Los Angeles.",
   "id": "78203e22b2429ceb"
  },
  {
   "metadata": {
    "ExecuteTime": {
     "end_time": "2025-01-26T17:29:10.408633Z",
     "start_time": "2025-01-26T17:29:10.400072Z"
    }
   },
   "cell_type": "code",
   "source": [
    "weather_data['timestamp'] = pd.to_datetime(weather_data['timestamp'], utc=True)\n",
    "weather_data['timestamp'] = weather_data['timestamp'].dt.tz_convert(tz='America/Los_Angeles')\n",
    "weather_data.info()"
   ],
   "id": "771905bdaba04529",
   "outputs": [
    {
     "name": "stdout",
     "output_type": "stream",
     "text": [
      "<class 'pandas.core.frame.DataFrame'>\n",
      "RangeIndex: 29244 entries, 0 to 29243\n",
      "Data columns (total 10 columns):\n",
      " #   Column                   Non-Null Count  Dtype                              \n",
      "---  ------                   --------------  -----                              \n",
      " 0   city                     29244 non-null  object                             \n",
      " 1   timestamp                29244 non-null  datetime64[ns, America/Los_Angeles]\n",
      " 2   temperature              29219 non-null  float64                            \n",
      " 3   cloud_cover              29224 non-null  float64                            \n",
      " 4   cloud_cover_description  29224 non-null  object                             \n",
      " 5   pressure                 29236 non-null  float64                            \n",
      " 6   windspeed                29158 non-null  float64                            \n",
      " 7   precipitation            29244 non-null  float64                            \n",
      " 8   felt_temperature         29218 non-null  float64                            \n",
      " 9   weather_date             29244 non-null  object                             \n",
      "dtypes: datetime64[ns, America/Los_Angeles](1), float64(6), object(3)\n",
      "memory usage: 2.2+ MB\n"
     ]
    }
   ],
   "execution_count": 451
  },
  {
   "metadata": {
    "ExecuteTime": {
     "end_time": "2025-01-26T17:29:10.459346Z",
     "start_time": "2025-01-26T17:29:10.453924Z"
    }
   },
   "cell_type": "code",
   "source": "weather_data.tail(5)",
   "id": "1601977a0bb9c0fe",
   "outputs": [
    {
     "data": {
      "text/plain": [
       "          city                 timestamp  temperature  cloud_cover  \\\n",
       "29239  Burbank 2020-12-31 19:53:00-08:00         13.0         33.0   \n",
       "29240  Burbank 2020-12-31 20:53:00-08:00         12.0         33.0   \n",
       "29241  Burbank 2020-12-31 21:53:00-08:00         12.0         33.0   \n",
       "29242  Burbank 2020-12-31 22:53:00-08:00         11.0         33.0   \n",
       "29243  Burbank 2020-12-31 23:53:00-08:00         10.0         33.0   \n",
       "\n",
       "      cloud_cover_description  pressure  windspeed  precipitation  \\\n",
       "29239                    Fair    986.81        0.0            0.0   \n",
       "29240                    Fair    986.81       11.0            0.0   \n",
       "29241                    Fair    987.47        9.0            0.0   \n",
       "29242                    Fair    987.14       13.0            0.0   \n",
       "29243                    Fair    987.80        6.0            0.0   \n",
       "\n",
       "       felt_temperature weather_date  \n",
       "29239              13.0   2021-01-01  \n",
       "29240              12.0   2021-01-01  \n",
       "29241              12.0   2021-01-01  \n",
       "29242              11.0   2021-01-01  \n",
       "29243              10.0   2021-01-01  "
      ],
      "text/html": [
       "<div>\n",
       "<style scoped>\n",
       "    .dataframe tbody tr th:only-of-type {\n",
       "        vertical-align: middle;\n",
       "    }\n",
       "\n",
       "    .dataframe tbody tr th {\n",
       "        vertical-align: top;\n",
       "    }\n",
       "\n",
       "    .dataframe thead th {\n",
       "        text-align: right;\n",
       "    }\n",
       "</style>\n",
       "<table border=\"1\" class=\"dataframe\">\n",
       "  <thead>\n",
       "    <tr style=\"text-align: right;\">\n",
       "      <th></th>\n",
       "      <th>city</th>\n",
       "      <th>timestamp</th>\n",
       "      <th>temperature</th>\n",
       "      <th>cloud_cover</th>\n",
       "      <th>cloud_cover_description</th>\n",
       "      <th>pressure</th>\n",
       "      <th>windspeed</th>\n",
       "      <th>precipitation</th>\n",
       "      <th>felt_temperature</th>\n",
       "      <th>weather_date</th>\n",
       "    </tr>\n",
       "  </thead>\n",
       "  <tbody>\n",
       "    <tr>\n",
       "      <th>29239</th>\n",
       "      <td>Burbank</td>\n",
       "      <td>2020-12-31 19:53:00-08:00</td>\n",
       "      <td>13.0</td>\n",
       "      <td>33.0</td>\n",
       "      <td>Fair</td>\n",
       "      <td>986.81</td>\n",
       "      <td>0.0</td>\n",
       "      <td>0.0</td>\n",
       "      <td>13.0</td>\n",
       "      <td>2021-01-01</td>\n",
       "    </tr>\n",
       "    <tr>\n",
       "      <th>29240</th>\n",
       "      <td>Burbank</td>\n",
       "      <td>2020-12-31 20:53:00-08:00</td>\n",
       "      <td>12.0</td>\n",
       "      <td>33.0</td>\n",
       "      <td>Fair</td>\n",
       "      <td>986.81</td>\n",
       "      <td>11.0</td>\n",
       "      <td>0.0</td>\n",
       "      <td>12.0</td>\n",
       "      <td>2021-01-01</td>\n",
       "    </tr>\n",
       "    <tr>\n",
       "      <th>29241</th>\n",
       "      <td>Burbank</td>\n",
       "      <td>2020-12-31 21:53:00-08:00</td>\n",
       "      <td>12.0</td>\n",
       "      <td>33.0</td>\n",
       "      <td>Fair</td>\n",
       "      <td>987.47</td>\n",
       "      <td>9.0</td>\n",
       "      <td>0.0</td>\n",
       "      <td>12.0</td>\n",
       "      <td>2021-01-01</td>\n",
       "    </tr>\n",
       "    <tr>\n",
       "      <th>29242</th>\n",
       "      <td>Burbank</td>\n",
       "      <td>2020-12-31 22:53:00-08:00</td>\n",
       "      <td>11.0</td>\n",
       "      <td>33.0</td>\n",
       "      <td>Fair</td>\n",
       "      <td>987.14</td>\n",
       "      <td>13.0</td>\n",
       "      <td>0.0</td>\n",
       "      <td>11.0</td>\n",
       "      <td>2021-01-01</td>\n",
       "    </tr>\n",
       "    <tr>\n",
       "      <th>29243</th>\n",
       "      <td>Burbank</td>\n",
       "      <td>2020-12-31 23:53:00-08:00</td>\n",
       "      <td>10.0</td>\n",
       "      <td>33.0</td>\n",
       "      <td>Fair</td>\n",
       "      <td>987.80</td>\n",
       "      <td>6.0</td>\n",
       "      <td>0.0</td>\n",
       "      <td>10.0</td>\n",
       "      <td>2021-01-01</td>\n",
       "    </tr>\n",
       "  </tbody>\n",
       "</table>\n",
       "</div>"
      ]
     },
     "execution_count": 452,
     "metadata": {},
     "output_type": "execute_result"
    }
   ],
   "execution_count": 452
  },
  {
   "metadata": {},
   "cell_type": "markdown",
   "source": [
    "### 2.3 Additional Data\n",
    "\n",
    "As we have seen in the visual exploration, the weather data only extends through January 2021 although the charging data continues until September 2021. To fill this gap, we decided to integrate additional weather data from the internet in our Dataframe. Fortunately, we found historical weather data of the Burbank Bob Hope Airport on the [website](https://www.weather.gov/wrh/timeseries?site=KBUR&hours=720&units=metric&chart=off&headers=on&obs=tabular&hourly=true&pview=standard&font=12&history=yes&start=20211228&end=20211231&plot=) of the National Weather Servie (note how this website allows you to adjust the timeframe through \"Advanced Options\" and download the data from any graph as a .csv file). We therefore retrieved temperature, wind and precipitation values and transformed them into a single .csv file (which can be found at _/Data/addittional_weather_data.csv_ or _/Data/additional_weather_data.xlsx_) and merged this data into our weather_data Dataframe."
   ],
   "id": "db2a7311cc7a0f28"
  },
  {
   "metadata": {
    "ExecuteTime": {
     "end_time": "2025-01-26T17:29:10.542664Z",
     "start_time": "2025-01-26T17:29:10.519077Z"
    }
   },
   "cell_type": "code",
   "source": [
    "additional_weather_data = pd.read_csv(os.path.join('Data', 'additional_weather_data.csv'), sep=';')\n",
    "additional_weather_data.drop(columns=['Gust', 'Direction'], inplace=True)\n",
    "additional_weather_data = additional_weather_data.rename(columns={\n",
    "    'DateTime': 'timestamp',\n",
    "    'Wind Speed': 'windspeed',\n",
    "    'Temperature': 'temperature',\n",
    "    'One Hour Precipitation': 'precipitation'\n",
    "})\n",
    "\n",
    "additional_weather_data['timestamp'] = pd.to_datetime(additional_weather_data['timestamp'],\n",
    "                                                      format='%d.%m.%y %H:%M')\n",
    "\n",
    "# charging_sessions only go until September 13th 2021, so we can cut everything after that\n",
    "additional_weather_data = additional_weather_data[additional_weather_data['timestamp'] <= pd.to_datetime('2021-09-14 00:00:00')]\n",
    "\n",
    "additional_weather_data['timestamp'] = additional_weather_data['timestamp'].dt.tz_localize(tz='America/Los_Angeles')\n",
    "\n",
    "# transform columns to float\n",
    "cols_to_convert = ['temperature', 'windspeed', 'precipitation']\n",
    "additional_weather_data['precipitation'] = additional_weather_data['precipitation'].str.replace(',', '.', regex=False)\n",
    "for col in cols_to_convert:\n",
    "    additional_weather_data[col] = pd.to_numeric(additional_weather_data[col], downcast='float')\n",
    "\n",
    "additional_weather_data[additional_weather_data['timestamp'] >= pd.to_datetime('2020-12-31 19:53:00').tz_localize(\n",
    "    'America/Los_Angeles')].head(5)"
   ],
   "id": "f740c021c60b3a86",
   "outputs": [
    {
     "data": {
      "text/plain": [
       "                   timestamp  windspeed  temperature  precipitation\n",
       "93 2020-12-31 19:53:00-08:00        0.0         13.0            0.0\n",
       "94 2020-12-31 20:53:00-08:00       11.0         12.0            0.0\n",
       "95 2020-12-31 21:53:00-08:00        9.0         12.0            0.0\n",
       "96 2020-12-31 22:53:00-08:00       13.0         11.0            0.0\n",
       "97 2020-12-31 23:53:00-08:00        6.0         10.0            0.0"
      ],
      "text/html": [
       "<div>\n",
       "<style scoped>\n",
       "    .dataframe tbody tr th:only-of-type {\n",
       "        vertical-align: middle;\n",
       "    }\n",
       "\n",
       "    .dataframe tbody tr th {\n",
       "        vertical-align: top;\n",
       "    }\n",
       "\n",
       "    .dataframe thead th {\n",
       "        text-align: right;\n",
       "    }\n",
       "</style>\n",
       "<table border=\"1\" class=\"dataframe\">\n",
       "  <thead>\n",
       "    <tr style=\"text-align: right;\">\n",
       "      <th></th>\n",
       "      <th>timestamp</th>\n",
       "      <th>windspeed</th>\n",
       "      <th>temperature</th>\n",
       "      <th>precipitation</th>\n",
       "    </tr>\n",
       "  </thead>\n",
       "  <tbody>\n",
       "    <tr>\n",
       "      <th>93</th>\n",
       "      <td>2020-12-31 19:53:00-08:00</td>\n",
       "      <td>0.0</td>\n",
       "      <td>13.0</td>\n",
       "      <td>0.0</td>\n",
       "    </tr>\n",
       "    <tr>\n",
       "      <th>94</th>\n",
       "      <td>2020-12-31 20:53:00-08:00</td>\n",
       "      <td>11.0</td>\n",
       "      <td>12.0</td>\n",
       "      <td>0.0</td>\n",
       "    </tr>\n",
       "    <tr>\n",
       "      <th>95</th>\n",
       "      <td>2020-12-31 21:53:00-08:00</td>\n",
       "      <td>9.0</td>\n",
       "      <td>12.0</td>\n",
       "      <td>0.0</td>\n",
       "    </tr>\n",
       "    <tr>\n",
       "      <th>96</th>\n",
       "      <td>2020-12-31 22:53:00-08:00</td>\n",
       "      <td>13.0</td>\n",
       "      <td>11.0</td>\n",
       "      <td>0.0</td>\n",
       "    </tr>\n",
       "    <tr>\n",
       "      <th>97</th>\n",
       "      <td>2020-12-31 23:53:00-08:00</td>\n",
       "      <td>6.0</td>\n",
       "      <td>10.0</td>\n",
       "      <td>0.0</td>\n",
       "    </tr>\n",
       "  </tbody>\n",
       "</table>\n",
       "</div>"
      ]
     },
     "execution_count": 453,
     "metadata": {},
     "output_type": "execute_result"
    }
   ],
   "execution_count": 453
  },
  {
   "metadata": {},
   "cell_type": "markdown",
   "source": [
    "Also note how the values in our additional_data are the same as in our original weather_data.tail() from above.\n",
    "\n",
    "Next, we add the additional_weather_data to our weather_data Dataframe:"
   ],
   "id": "4d5f7339917c4c9a"
  },
  {
   "metadata": {
    "ExecuteTime": {
     "end_time": "2025-01-26T17:29:10.634690Z",
     "start_time": "2025-01-26T17:29:10.626716Z"
    }
   },
   "cell_type": "code",
   "source": [
    "#Now we just add our additional_weather_data to our original weather_data:\n",
    "additional_weather_data = additional_weather_data[\n",
    "    additional_weather_data['timestamp'] >= pd.to_datetime('2020-12-31 23:54:00').tz_localize(\n",
    "        'America/Los_Angeles')]\n",
    "\n",
    "weather_data = pd.concat([weather_data, additional_weather_data], ignore_index=True)\n",
    "weather_data[weather_data['timestamp'] >= pd.to_datetime('2020-12-31 20:53:00').tz_localize(\n",
    "    'America/Los_Angeles')].head(10)"
   ],
   "id": "85bf93c599466966",
   "outputs": [
    {
     "data": {
      "text/plain": [
       "          city                 timestamp  temperature  cloud_cover  \\\n",
       "29240  Burbank 2020-12-31 20:53:00-08:00         12.0         33.0   \n",
       "29241  Burbank 2020-12-31 21:53:00-08:00         12.0         33.0   \n",
       "29242  Burbank 2020-12-31 22:53:00-08:00         11.0         33.0   \n",
       "29243  Burbank 2020-12-31 23:53:00-08:00         10.0         33.0   \n",
       "29244      NaN 2021-01-01 00:53:00-08:00         16.0          NaN   \n",
       "29245      NaN 2021-01-01 01:53:00-08:00         16.0          NaN   \n",
       "29246      NaN 2021-01-01 02:53:00-08:00         14.0          NaN   \n",
       "29247      NaN 2021-01-01 03:53:00-08:00         15.0          NaN   \n",
       "29248      NaN 2021-01-01 04:53:00-08:00         15.0          NaN   \n",
       "29249      NaN 2021-01-01 05:53:00-08:00         12.0          NaN   \n",
       "\n",
       "      cloud_cover_description  pressure  windspeed  precipitation  \\\n",
       "29240                    Fair    986.81       11.0            0.0   \n",
       "29241                    Fair    987.47        9.0            0.0   \n",
       "29242                    Fair    987.14       13.0            0.0   \n",
       "29243                    Fair    987.80        6.0            0.0   \n",
       "29244                     NaN       NaN       11.0            0.0   \n",
       "29245                     NaN       NaN       13.0            0.0   \n",
       "29246                     NaN       NaN       19.0            0.0   \n",
       "29247                     NaN       NaN       17.0            0.0   \n",
       "29248                     NaN       NaN       11.0            0.0   \n",
       "29249                     NaN       NaN       13.0            0.0   \n",
       "\n",
       "       felt_temperature weather_date  \n",
       "29240              12.0   2021-01-01  \n",
       "29241              12.0   2021-01-01  \n",
       "29242              11.0   2021-01-01  \n",
       "29243              10.0   2021-01-01  \n",
       "29244               NaN          NaN  \n",
       "29245               NaN          NaN  \n",
       "29246               NaN          NaN  \n",
       "29247               NaN          NaN  \n",
       "29248               NaN          NaN  \n",
       "29249               NaN          NaN  "
      ],
      "text/html": [
       "<div>\n",
       "<style scoped>\n",
       "    .dataframe tbody tr th:only-of-type {\n",
       "        vertical-align: middle;\n",
       "    }\n",
       "\n",
       "    .dataframe tbody tr th {\n",
       "        vertical-align: top;\n",
       "    }\n",
       "\n",
       "    .dataframe thead th {\n",
       "        text-align: right;\n",
       "    }\n",
       "</style>\n",
       "<table border=\"1\" class=\"dataframe\">\n",
       "  <thead>\n",
       "    <tr style=\"text-align: right;\">\n",
       "      <th></th>\n",
       "      <th>city</th>\n",
       "      <th>timestamp</th>\n",
       "      <th>temperature</th>\n",
       "      <th>cloud_cover</th>\n",
       "      <th>cloud_cover_description</th>\n",
       "      <th>pressure</th>\n",
       "      <th>windspeed</th>\n",
       "      <th>precipitation</th>\n",
       "      <th>felt_temperature</th>\n",
       "      <th>weather_date</th>\n",
       "    </tr>\n",
       "  </thead>\n",
       "  <tbody>\n",
       "    <tr>\n",
       "      <th>29240</th>\n",
       "      <td>Burbank</td>\n",
       "      <td>2020-12-31 20:53:00-08:00</td>\n",
       "      <td>12.0</td>\n",
       "      <td>33.0</td>\n",
       "      <td>Fair</td>\n",
       "      <td>986.81</td>\n",
       "      <td>11.0</td>\n",
       "      <td>0.0</td>\n",
       "      <td>12.0</td>\n",
       "      <td>2021-01-01</td>\n",
       "    </tr>\n",
       "    <tr>\n",
       "      <th>29241</th>\n",
       "      <td>Burbank</td>\n",
       "      <td>2020-12-31 21:53:00-08:00</td>\n",
       "      <td>12.0</td>\n",
       "      <td>33.0</td>\n",
       "      <td>Fair</td>\n",
       "      <td>987.47</td>\n",
       "      <td>9.0</td>\n",
       "      <td>0.0</td>\n",
       "      <td>12.0</td>\n",
       "      <td>2021-01-01</td>\n",
       "    </tr>\n",
       "    <tr>\n",
       "      <th>29242</th>\n",
       "      <td>Burbank</td>\n",
       "      <td>2020-12-31 22:53:00-08:00</td>\n",
       "      <td>11.0</td>\n",
       "      <td>33.0</td>\n",
       "      <td>Fair</td>\n",
       "      <td>987.14</td>\n",
       "      <td>13.0</td>\n",
       "      <td>0.0</td>\n",
       "      <td>11.0</td>\n",
       "      <td>2021-01-01</td>\n",
       "    </tr>\n",
       "    <tr>\n",
       "      <th>29243</th>\n",
       "      <td>Burbank</td>\n",
       "      <td>2020-12-31 23:53:00-08:00</td>\n",
       "      <td>10.0</td>\n",
       "      <td>33.0</td>\n",
       "      <td>Fair</td>\n",
       "      <td>987.80</td>\n",
       "      <td>6.0</td>\n",
       "      <td>0.0</td>\n",
       "      <td>10.0</td>\n",
       "      <td>2021-01-01</td>\n",
       "    </tr>\n",
       "    <tr>\n",
       "      <th>29244</th>\n",
       "      <td>NaN</td>\n",
       "      <td>2021-01-01 00:53:00-08:00</td>\n",
       "      <td>16.0</td>\n",
       "      <td>NaN</td>\n",
       "      <td>NaN</td>\n",
       "      <td>NaN</td>\n",
       "      <td>11.0</td>\n",
       "      <td>0.0</td>\n",
       "      <td>NaN</td>\n",
       "      <td>NaN</td>\n",
       "    </tr>\n",
       "    <tr>\n",
       "      <th>29245</th>\n",
       "      <td>NaN</td>\n",
       "      <td>2021-01-01 01:53:00-08:00</td>\n",
       "      <td>16.0</td>\n",
       "      <td>NaN</td>\n",
       "      <td>NaN</td>\n",
       "      <td>NaN</td>\n",
       "      <td>13.0</td>\n",
       "      <td>0.0</td>\n",
       "      <td>NaN</td>\n",
       "      <td>NaN</td>\n",
       "    </tr>\n",
       "    <tr>\n",
       "      <th>29246</th>\n",
       "      <td>NaN</td>\n",
       "      <td>2021-01-01 02:53:00-08:00</td>\n",
       "      <td>14.0</td>\n",
       "      <td>NaN</td>\n",
       "      <td>NaN</td>\n",
       "      <td>NaN</td>\n",
       "      <td>19.0</td>\n",
       "      <td>0.0</td>\n",
       "      <td>NaN</td>\n",
       "      <td>NaN</td>\n",
       "    </tr>\n",
       "    <tr>\n",
       "      <th>29247</th>\n",
       "      <td>NaN</td>\n",
       "      <td>2021-01-01 03:53:00-08:00</td>\n",
       "      <td>15.0</td>\n",
       "      <td>NaN</td>\n",
       "      <td>NaN</td>\n",
       "      <td>NaN</td>\n",
       "      <td>17.0</td>\n",
       "      <td>0.0</td>\n",
       "      <td>NaN</td>\n",
       "      <td>NaN</td>\n",
       "    </tr>\n",
       "    <tr>\n",
       "      <th>29248</th>\n",
       "      <td>NaN</td>\n",
       "      <td>2021-01-01 04:53:00-08:00</td>\n",
       "      <td>15.0</td>\n",
       "      <td>NaN</td>\n",
       "      <td>NaN</td>\n",
       "      <td>NaN</td>\n",
       "      <td>11.0</td>\n",
       "      <td>0.0</td>\n",
       "      <td>NaN</td>\n",
       "      <td>NaN</td>\n",
       "    </tr>\n",
       "    <tr>\n",
       "      <th>29249</th>\n",
       "      <td>NaN</td>\n",
       "      <td>2021-01-01 05:53:00-08:00</td>\n",
       "      <td>12.0</td>\n",
       "      <td>NaN</td>\n",
       "      <td>NaN</td>\n",
       "      <td>NaN</td>\n",
       "      <td>13.0</td>\n",
       "      <td>0.0</td>\n",
       "      <td>NaN</td>\n",
       "      <td>NaN</td>\n",
       "    </tr>\n",
       "  </tbody>\n",
       "</table>\n",
       "</div>"
      ]
     },
     "execution_count": 454,
     "metadata": {},
     "output_type": "execute_result"
    }
   ],
   "execution_count": 454
  },
  {
   "metadata": {},
   "cell_type": "markdown",
   "source": [
    "### 2.4 Identifying Duplicates\n",
    "\n",
    "To find duplicate entries in the charging_data DataFrame, we used Pandas' standard duplicate detection functions. Given the expectation of unique sessionID values for each charging session, this column was designated as the key for duplicate identification. </br>\n",
    "This approach revealed 1413 duplicated rows, differing solely in the counter column. We then removed these redundant rows to ensure data integrity and prevent analytical bias."
   ],
   "id": "226f76917110d5b8"
  },
  {
   "metadata": {
    "ExecuteTime": {
     "end_time": "2025-01-26T17:29:10.817180Z",
     "start_time": "2025-01-26T17:29:10.805166Z"
    }
   },
   "cell_type": "code",
   "source": [
    "charging_data_duplicates = charging_data.duplicated(subset='sessionID').sum()\n",
    "weather_data_duplicates = weather_data.duplicated(subset='timestamp').sum()\n",
    "# Display number of duplicate rows (if any)\n",
    "print(f\"Duplicate rows:\\n charging data -> {charging_data_duplicates}\\n weather data -> {weather_data_duplicates}\")"
   ],
   "id": "b4924c5ca7e3f3cd",
   "outputs": [
    {
     "name": "stdout",
     "output_type": "stream",
     "text": [
      "Duplicate rows:\n",
      " charging data -> 1413\n",
      " weather data -> 0\n"
     ]
    }
   ],
   "execution_count": 455
  },
  {
   "metadata": {
    "ExecuteTime": {
     "end_time": "2025-01-26T17:29:10.990723Z",
     "start_time": "2025-01-26T17:29:10.973271Z"
    }
   },
   "cell_type": "code",
   "source": [
    "# Display duplicate rows\n",
    "charging_data[charging_data.duplicated(keep=False, subset='sessionID')].sort_values(by='id', ascending=True)"
   ],
   "id": "271cbc4cafe6a086",
   "outputs": [
    {
     "data": {
      "text/plain": [
       "       counter                        id            connectionTime  \\\n",
       "65037     8675  5d2fbdd3f9af8b4d0dd0d54f 2019-07-01 17:32:46-07:00   \n",
       "5573         0  5d2fbdd3f9af8b4d0dd0d54f 2019-07-01 17:32:46-07:00   \n",
       "65038     8676  5d310f54f9af8b52adda3e20 2019-07-02 05:15:28-07:00   \n",
       "5574         1  5d310f54f9af8b52adda3e20 2019-07-02 05:15:28-07:00   \n",
       "5575         2  5d310f54f9af8b52adda3e21 2019-07-02 05:42:49-07:00   \n",
       "...        ...                       ...                       ...   \n",
       "6983      1410  5d574ad2f9af8b4c10c03654 2019-07-31 12:04:40-07:00   \n",
       "66448    10086  5d574ad2f9af8b4c10c03655 2019-07-31 12:19:47-07:00   \n",
       "6984      1411  5d574ad2f9af8b4c10c03655 2019-07-31 12:19:47-07:00   \n",
       "66449    10087  5d574ad2f9af8b4c10c03656 2019-07-31 12:21:47-07:00   \n",
       "6985      1412  5d574ad2f9af8b4c10c03656 2019-07-31 12:21:47-07:00   \n",
       "\n",
       "                 disconnectTime          doneChargingTime  kWhDelivered  \\\n",
       "65037 2019-07-01 19:34:56-07:00 2019-07-01 18:46:09-07:00         2.463   \n",
       "5573  2019-07-01 19:34:56-07:00 2019-07-01 18:46:09-07:00         2.463   \n",
       "65038 2019-07-02 09:01:01-07:00 2019-07-02 09:01:38-07:00        12.891   \n",
       "5574  2019-07-02 09:01:01-07:00 2019-07-02 09:01:38-07:00        12.891   \n",
       "5575  2019-07-02 12:34:19-07:00 2019-07-02 09:21:21-07:00        13.734   \n",
       "...                         ...                       ...           ...   \n",
       "6983  2019-07-31 15:44:22-07:00 2019-07-31 15:45:21-07:00        11.274   \n",
       "66448 2019-07-31 17:34:51-07:00 2019-07-31 14:25:30-07:00        11.589   \n",
       "6984  2019-07-31 17:34:51-07:00 2019-07-31 14:25:30-07:00        11.589   \n",
       "66449 2019-07-31 15:00:04-07:00 2019-07-31 13:51:34-07:00         0.897   \n",
       "6985  2019-07-31 15:00:04-07:00 2019-07-31 13:51:34-07:00         0.897   \n",
       "\n",
       "                                    sessionID siteID  spaceID    stationID  \\\n",
       "65037  1_1_193_827_2019-07-02 00:32:45.820079      1  AG-1F02  1-1-193-827   \n",
       "5573   1_1_193_827_2019-07-02 00:32:45.820079      1  AG-1F02  1-1-193-827   \n",
       "65038  1_1_194_818_2019-07-02 12:15:28.503952      1  AG-1F14  1-1-194-818   \n",
       "5574   1_1_194_818_2019-07-02 12:15:28.503952      1  AG-1F14  1-1-194-818   \n",
       "5575   1_1_178_828_2019-07-02 12:42:48.733464      1  AG-1F10  1-1-178-828   \n",
       "...                                       ...    ...      ...          ...   \n",
       "6983   1_1_191_795_2019-07-31 19:04:40.098273      1  AG-4F51  1-1-191-795   \n",
       "66448  1_1_191_778_2019-07-31 19:19:46.919358      1  AG-4F43  1-1-191-778   \n",
       "6984   1_1_191_778_2019-07-31 19:19:46.919358      1  AG-4F43  1-1-191-778   \n",
       "66449  1_1_178_817_2019-07-31 19:21:46.727697      1  AG-1F09  1-1-178-817   \n",
       "6985   1_1_178_817_2019-07-31 19:21:46.727697      1  AG-1F09  1-1-178-817   \n",
       "\n",
       "                  timezone  userID connection_date year_month  \n",
       "65037  America/Los_Angeles  1117.0      2019-07-02    2019-07  \n",
       "5573   America/Los_Angeles  1117.0      2019-07-02    2019-07  \n",
       "65038  America/Los_Angeles  2834.0      2019-07-02    2019-07  \n",
       "5574   America/Los_Angeles  2834.0      2019-07-02    2019-07  \n",
       "5575   America/Los_Angeles   651.0      2019-07-02    2019-07  \n",
       "...                    ...     ...             ...        ...  \n",
       "6983   America/Los_Angeles  1974.0      2019-07-31    2019-07  \n",
       "66448  America/Los_Angeles   942.0      2019-07-31    2019-07  \n",
       "6984   America/Los_Angeles   942.0      2019-07-31    2019-07  \n",
       "66449  America/Los_Angeles     NaN      2019-07-31    2019-07  \n",
       "6985   America/Los_Angeles     NaN      2019-07-31    2019-07  \n",
       "\n",
       "[2826 rows x 14 columns]"
      ],
      "text/html": [
       "<div>\n",
       "<style scoped>\n",
       "    .dataframe tbody tr th:only-of-type {\n",
       "        vertical-align: middle;\n",
       "    }\n",
       "\n",
       "    .dataframe tbody tr th {\n",
       "        vertical-align: top;\n",
       "    }\n",
       "\n",
       "    .dataframe thead th {\n",
       "        text-align: right;\n",
       "    }\n",
       "</style>\n",
       "<table border=\"1\" class=\"dataframe\">\n",
       "  <thead>\n",
       "    <tr style=\"text-align: right;\">\n",
       "      <th></th>\n",
       "      <th>counter</th>\n",
       "      <th>id</th>\n",
       "      <th>connectionTime</th>\n",
       "      <th>disconnectTime</th>\n",
       "      <th>doneChargingTime</th>\n",
       "      <th>kWhDelivered</th>\n",
       "      <th>sessionID</th>\n",
       "      <th>siteID</th>\n",
       "      <th>spaceID</th>\n",
       "      <th>stationID</th>\n",
       "      <th>timezone</th>\n",
       "      <th>userID</th>\n",
       "      <th>connection_date</th>\n",
       "      <th>year_month</th>\n",
       "    </tr>\n",
       "  </thead>\n",
       "  <tbody>\n",
       "    <tr>\n",
       "      <th>65037</th>\n",
       "      <td>8675</td>\n",
       "      <td>5d2fbdd3f9af8b4d0dd0d54f</td>\n",
       "      <td>2019-07-01 17:32:46-07:00</td>\n",
       "      <td>2019-07-01 19:34:56-07:00</td>\n",
       "      <td>2019-07-01 18:46:09-07:00</td>\n",
       "      <td>2.463</td>\n",
       "      <td>1_1_193_827_2019-07-02 00:32:45.820079</td>\n",
       "      <td>1</td>\n",
       "      <td>AG-1F02</td>\n",
       "      <td>1-1-193-827</td>\n",
       "      <td>America/Los_Angeles</td>\n",
       "      <td>1117.0</td>\n",
       "      <td>2019-07-02</td>\n",
       "      <td>2019-07</td>\n",
       "    </tr>\n",
       "    <tr>\n",
       "      <th>5573</th>\n",
       "      <td>0</td>\n",
       "      <td>5d2fbdd3f9af8b4d0dd0d54f</td>\n",
       "      <td>2019-07-01 17:32:46-07:00</td>\n",
       "      <td>2019-07-01 19:34:56-07:00</td>\n",
       "      <td>2019-07-01 18:46:09-07:00</td>\n",
       "      <td>2.463</td>\n",
       "      <td>1_1_193_827_2019-07-02 00:32:45.820079</td>\n",
       "      <td>1</td>\n",
       "      <td>AG-1F02</td>\n",
       "      <td>1-1-193-827</td>\n",
       "      <td>America/Los_Angeles</td>\n",
       "      <td>1117.0</td>\n",
       "      <td>2019-07-02</td>\n",
       "      <td>2019-07</td>\n",
       "    </tr>\n",
       "    <tr>\n",
       "      <th>65038</th>\n",
       "      <td>8676</td>\n",
       "      <td>5d310f54f9af8b52adda3e20</td>\n",
       "      <td>2019-07-02 05:15:28-07:00</td>\n",
       "      <td>2019-07-02 09:01:01-07:00</td>\n",
       "      <td>2019-07-02 09:01:38-07:00</td>\n",
       "      <td>12.891</td>\n",
       "      <td>1_1_194_818_2019-07-02 12:15:28.503952</td>\n",
       "      <td>1</td>\n",
       "      <td>AG-1F14</td>\n",
       "      <td>1-1-194-818</td>\n",
       "      <td>America/Los_Angeles</td>\n",
       "      <td>2834.0</td>\n",
       "      <td>2019-07-02</td>\n",
       "      <td>2019-07</td>\n",
       "    </tr>\n",
       "    <tr>\n",
       "      <th>5574</th>\n",
       "      <td>1</td>\n",
       "      <td>5d310f54f9af8b52adda3e20</td>\n",
       "      <td>2019-07-02 05:15:28-07:00</td>\n",
       "      <td>2019-07-02 09:01:01-07:00</td>\n",
       "      <td>2019-07-02 09:01:38-07:00</td>\n",
       "      <td>12.891</td>\n",
       "      <td>1_1_194_818_2019-07-02 12:15:28.503952</td>\n",
       "      <td>1</td>\n",
       "      <td>AG-1F14</td>\n",
       "      <td>1-1-194-818</td>\n",
       "      <td>America/Los_Angeles</td>\n",
       "      <td>2834.0</td>\n",
       "      <td>2019-07-02</td>\n",
       "      <td>2019-07</td>\n",
       "    </tr>\n",
       "    <tr>\n",
       "      <th>5575</th>\n",
       "      <td>2</td>\n",
       "      <td>5d310f54f9af8b52adda3e21</td>\n",
       "      <td>2019-07-02 05:42:49-07:00</td>\n",
       "      <td>2019-07-02 12:34:19-07:00</td>\n",
       "      <td>2019-07-02 09:21:21-07:00</td>\n",
       "      <td>13.734</td>\n",
       "      <td>1_1_178_828_2019-07-02 12:42:48.733464</td>\n",
       "      <td>1</td>\n",
       "      <td>AG-1F10</td>\n",
       "      <td>1-1-178-828</td>\n",
       "      <td>America/Los_Angeles</td>\n",
       "      <td>651.0</td>\n",
       "      <td>2019-07-02</td>\n",
       "      <td>2019-07</td>\n",
       "    </tr>\n",
       "    <tr>\n",
       "      <th>...</th>\n",
       "      <td>...</td>\n",
       "      <td>...</td>\n",
       "      <td>...</td>\n",
       "      <td>...</td>\n",
       "      <td>...</td>\n",
       "      <td>...</td>\n",
       "      <td>...</td>\n",
       "      <td>...</td>\n",
       "      <td>...</td>\n",
       "      <td>...</td>\n",
       "      <td>...</td>\n",
       "      <td>...</td>\n",
       "      <td>...</td>\n",
       "      <td>...</td>\n",
       "    </tr>\n",
       "    <tr>\n",
       "      <th>6983</th>\n",
       "      <td>1410</td>\n",
       "      <td>5d574ad2f9af8b4c10c03654</td>\n",
       "      <td>2019-07-31 12:04:40-07:00</td>\n",
       "      <td>2019-07-31 15:44:22-07:00</td>\n",
       "      <td>2019-07-31 15:45:21-07:00</td>\n",
       "      <td>11.274</td>\n",
       "      <td>1_1_191_795_2019-07-31 19:04:40.098273</td>\n",
       "      <td>1</td>\n",
       "      <td>AG-4F51</td>\n",
       "      <td>1-1-191-795</td>\n",
       "      <td>America/Los_Angeles</td>\n",
       "      <td>1974.0</td>\n",
       "      <td>2019-07-31</td>\n",
       "      <td>2019-07</td>\n",
       "    </tr>\n",
       "    <tr>\n",
       "      <th>66448</th>\n",
       "      <td>10086</td>\n",
       "      <td>5d574ad2f9af8b4c10c03655</td>\n",
       "      <td>2019-07-31 12:19:47-07:00</td>\n",
       "      <td>2019-07-31 17:34:51-07:00</td>\n",
       "      <td>2019-07-31 14:25:30-07:00</td>\n",
       "      <td>11.589</td>\n",
       "      <td>1_1_191_778_2019-07-31 19:19:46.919358</td>\n",
       "      <td>1</td>\n",
       "      <td>AG-4F43</td>\n",
       "      <td>1-1-191-778</td>\n",
       "      <td>America/Los_Angeles</td>\n",
       "      <td>942.0</td>\n",
       "      <td>2019-07-31</td>\n",
       "      <td>2019-07</td>\n",
       "    </tr>\n",
       "    <tr>\n",
       "      <th>6984</th>\n",
       "      <td>1411</td>\n",
       "      <td>5d574ad2f9af8b4c10c03655</td>\n",
       "      <td>2019-07-31 12:19:47-07:00</td>\n",
       "      <td>2019-07-31 17:34:51-07:00</td>\n",
       "      <td>2019-07-31 14:25:30-07:00</td>\n",
       "      <td>11.589</td>\n",
       "      <td>1_1_191_778_2019-07-31 19:19:46.919358</td>\n",
       "      <td>1</td>\n",
       "      <td>AG-4F43</td>\n",
       "      <td>1-1-191-778</td>\n",
       "      <td>America/Los_Angeles</td>\n",
       "      <td>942.0</td>\n",
       "      <td>2019-07-31</td>\n",
       "      <td>2019-07</td>\n",
       "    </tr>\n",
       "    <tr>\n",
       "      <th>66449</th>\n",
       "      <td>10087</td>\n",
       "      <td>5d574ad2f9af8b4c10c03656</td>\n",
       "      <td>2019-07-31 12:21:47-07:00</td>\n",
       "      <td>2019-07-31 15:00:04-07:00</td>\n",
       "      <td>2019-07-31 13:51:34-07:00</td>\n",
       "      <td>0.897</td>\n",
       "      <td>1_1_178_817_2019-07-31 19:21:46.727697</td>\n",
       "      <td>1</td>\n",
       "      <td>AG-1F09</td>\n",
       "      <td>1-1-178-817</td>\n",
       "      <td>America/Los_Angeles</td>\n",
       "      <td>NaN</td>\n",
       "      <td>2019-07-31</td>\n",
       "      <td>2019-07</td>\n",
       "    </tr>\n",
       "    <tr>\n",
       "      <th>6985</th>\n",
       "      <td>1412</td>\n",
       "      <td>5d574ad2f9af8b4c10c03656</td>\n",
       "      <td>2019-07-31 12:21:47-07:00</td>\n",
       "      <td>2019-07-31 15:00:04-07:00</td>\n",
       "      <td>2019-07-31 13:51:34-07:00</td>\n",
       "      <td>0.897</td>\n",
       "      <td>1_1_178_817_2019-07-31 19:21:46.727697</td>\n",
       "      <td>1</td>\n",
       "      <td>AG-1F09</td>\n",
       "      <td>1-1-178-817</td>\n",
       "      <td>America/Los_Angeles</td>\n",
       "      <td>NaN</td>\n",
       "      <td>2019-07-31</td>\n",
       "      <td>2019-07</td>\n",
       "    </tr>\n",
       "  </tbody>\n",
       "</table>\n",
       "<p>2826 rows × 14 columns</p>\n",
       "</div>"
      ]
     },
     "execution_count": 456,
     "metadata": {},
     "output_type": "execute_result"
    }
   ],
   "execution_count": 456
  },
  {
   "metadata": {
    "ExecuteTime": {
     "end_time": "2025-01-26T17:29:11.051319Z",
     "start_time": "2025-01-26T17:29:11.038721Z"
    }
   },
   "cell_type": "code",
   "source": [
    "# Drop duplicate rows from dataframe charging_data\n",
    "charging_data.drop_duplicates(subset='sessionID', keep='first', inplace=True)"
   ],
   "id": "da4740c2d300fc94",
   "outputs": [],
   "execution_count": 457
  },
  {
   "metadata": {},
   "cell_type": "markdown",
   "source": "### 2.5 Missing Data",
   "id": "e6055d953ffa73f8"
  },
  {
   "metadata": {},
   "cell_type": "markdown",
   "source": "#### 2.5.1 Charging Data",
   "id": "d590fc9bc04b347b"
  },
  {
   "metadata": {
    "ExecuteTime": {
     "end_time": "2025-01-26T17:29:11.186489Z",
     "start_time": "2025-01-26T17:29:11.174956Z"
    }
   },
   "cell_type": "code",
   "source": [
    "# Identify missing data in charging dataset by using .isnull()\n",
    "charging_missing_data = charging_data.isnull().sum()\n",
    "\n",
    "charging_missing_data[charging_missing_data > 0]"
   ],
   "id": "9bfc79d158ea9877",
   "outputs": [
    {
     "data": {
      "text/plain": [
       "doneChargingTime     4087\n",
       "userID              17215\n",
       "dtype: int64"
      ]
     },
     "execution_count": 458,
     "metadata": {},
     "output_type": "execute_result"
    }
   ],
   "execution_count": 458
  },
  {
   "metadata": {},
   "cell_type": "markdown",
   "source": [
    "Let's look at the missing values for the different columns of the charging data:\n",
    "\n",
    "`doneChargingTime`:\n",
    "We have 4087 missing values, that is 4087/65037 = 6,28% of the data set.\n",
    "At first we wanted to fill the empty doneChargingTime fields with _connectionTime + median charging time_, but this resulted in a kind of bias for the 4087 (65037-60950) records (which we only noticed later in our cluster analysis). In the end we decided to drop all records where doneChargingTime is empty because estimating a possible and sensible doneChargingTime was not quite possible and setting the doneChargingTime to disconnectTime didn't seem to make sense to us either\n",
    "\n",
    "\n",
    "`userID`: We have 17215 missing values, that is 17215/65037 = 26,47% of the dataset. We will replace them with empty string values.\n",
    "\n",
    "`userInput: **!!!!!111TODO!!!:**` We have 17215 missing values, that is 17215/65037 = 26,47% of the dataset. This correlates with the missing userIDs. We will replace them with empty string values."
   ],
   "id": "d304a3c59fc0fe8a"
  },
  {
   "metadata": {
    "ExecuteTime": {
     "end_time": "2025-01-26T17:29:11.331796Z",
     "start_time": "2025-01-26T17:29:11.311816Z"
    }
   },
   "cell_type": "code",
   "source": [
    "# Delete all data records where doneChargingTime is empty\n",
    "charging_data = charging_data[charging_data['doneChargingTime'].notna()]\n",
    "charging_data.info()"
   ],
   "id": "d5aa48b319662c7d",
   "outputs": [
    {
     "name": "stdout",
     "output_type": "stream",
     "text": [
      "<class 'pandas.core.frame.DataFrame'>\n",
      "Index: 60950 entries, 30793 to 20178\n",
      "Data columns (total 14 columns):\n",
      " #   Column            Non-Null Count  Dtype                              \n",
      "---  ------            --------------  -----                              \n",
      " 0   counter           60950 non-null  int64                              \n",
      " 1   id                60950 non-null  object                             \n",
      " 2   connectionTime    60950 non-null  datetime64[ns, America/Los_Angeles]\n",
      " 3   disconnectTime    60950 non-null  datetime64[ns, America/Los_Angeles]\n",
      " 4   doneChargingTime  60950 non-null  datetime64[ns, America/Los_Angeles]\n",
      " 5   kWhDelivered      60950 non-null  float64                            \n",
      " 6   sessionID         60950 non-null  object                             \n",
      " 7   siteID            60950 non-null  object                             \n",
      " 8   spaceID           60950 non-null  object                             \n",
      " 9   stationID         60950 non-null  object                             \n",
      " 10  timezone          60950 non-null  object                             \n",
      " 11  userID            44644 non-null  float64                            \n",
      " 12  connection_date   60950 non-null  object                             \n",
      " 13  year_month        60950 non-null  period[M]                          \n",
      "dtypes: datetime64[ns, America/Los_Angeles](3), float64(2), int64(1), object(7), period[M](1)\n",
      "memory usage: 7.0+ MB\n"
     ]
    }
   ],
   "execution_count": 459
  },
  {
   "metadata": {
    "ExecuteTime": {
     "end_time": "2025-01-26T17:29:11.436034Z",
     "start_time": "2025-01-26T17:29:11.417795Z"
    }
   },
   "cell_type": "code",
   "source": [
    "# Fill userID with empty String values\n",
    "charging_data['userID'] = charging_data['userID'].fillna(0)\n",
    "charging_data['userID'] = charging_data['userID'].astype(int)\n",
    "charging_data['userID'] = charging_data['userID'].replace(0, '')\n",
    "charging_data['userID'] = charging_data['userID'].astype(str)\n",
    "\n",
    "# charging_data['userInputs'] = charging_data['userInputs'].fillna('0')\n",
    "\n",
    "print(\n",
    "    f\"Amount of null-Values should be equal to 16306 (=60950-44644) missing userIDs, amount of null-values: {charging_data[charging_data['userID'] == ''].shape[0]}\")"
   ],
   "id": "f6432fdd5191ade4",
   "outputs": [
    {
     "name": "stdout",
     "output_type": "stream",
     "text": [
      "Amount of null-Values should be equal to 16306 (=60950-44644) missing userIDs, amount of null-values: 16306\n"
     ]
    }
   ],
   "execution_count": 460
  },
  {
   "metadata": {},
   "cell_type": "markdown",
   "source": "#### 2.5.2 Weather Data",
   "id": "db8a08fc44767b7a"
  },
  {
   "metadata": {
    "ExecuteTime": {
     "end_time": "2025-01-26T17:29:11.506545Z",
     "start_time": "2025-01-26T17:29:11.500627Z"
    }
   },
   "cell_type": "code",
   "source": [
    "# Identify missing data in weather dataset by using .isnull()\n",
    "weather_missing_data = weather_data.isnull().sum()\n",
    "print(weather_missing_data)"
   ],
   "id": "44c4a547fe0ac240",
   "outputs": [
    {
     "name": "stdout",
     "output_type": "stream",
     "text": [
      "city                       6110\n",
      "timestamp                     0\n",
      "temperature                  25\n",
      "cloud_cover                6130\n",
      "cloud_cover_description    6130\n",
      "pressure                   6118\n",
      "windspeed                    86\n",
      "precipitation                 0\n",
      "felt_temperature           6136\n",
      "weather_date               6110\n",
      "dtype: int64\n"
     ]
    }
   ],
   "execution_count": 461
  },
  {
   "metadata": {},
   "cell_type": "markdown",
   "source": "Note that for the columns cloud_cover, cloud_cover_description, pressure, and felt_temperature, no additional data sources could be found. This results in at least 6110 missing values in each of these columns. To maintain a continuous time series for the attributes temperature, windspeed, and precipitation, the missing values were replaced using forward-fill with the respective preceding values. It is important to note that the missing values are relatively evenly distributed across the dataset. This prevents entire days from being replaced with a single value.",
   "id": "8f928752dd55c390"
  },
  {
   "metadata": {
    "ExecuteTime": {
     "end_time": "2025-01-26T17:29:11.604023Z",
     "start_time": "2025-01-26T17:29:11.598686Z"
    }
   },
   "cell_type": "code",
   "source": [
    "missing_windspeed = weather_data[weather_data['windspeed'].isnull()]\n",
    "print(missing_windspeed[['timestamp', 'windspeed']])\n",
    "weather_data['windspeed'] = weather_data['windspeed'].ffill()"
   ],
   "id": "aefbcb760b26ca4e",
   "outputs": [
    {
     "name": "stdout",
     "output_type": "stream",
     "text": [
      "                      timestamp  windspeed\n",
      "65    2018-01-03 17:53:00-08:00        NaN\n",
      "788   2018-01-31 19:53:00-08:00        NaN\n",
      "1386  2018-02-24 12:53:00-08:00        NaN\n",
      "1653  2018-03-05 13:53:00-08:00        NaN\n",
      "1678  2018-03-06 14:53:00-08:00        NaN\n",
      "...                         ...        ...\n",
      "26900 2020-09-30 12:53:00-07:00        NaN\n",
      "27446 2020-10-21 13:53:00-07:00        NaN\n",
      "27526 2020-10-24 15:53:00-07:00        NaN\n",
      "28274 2020-11-24 16:53:00-08:00        NaN\n",
      "28791 2020-12-15 11:53:00-08:00        NaN\n",
      "\n",
      "[86 rows x 2 columns]\n"
     ]
    }
   ],
   "execution_count": 462
  },
  {
   "metadata": {
    "ExecuteTime": {
     "end_time": "2025-01-26T17:29:11.695556Z",
     "start_time": "2025-01-26T17:29:11.692160Z"
    }
   },
   "cell_type": "code",
   "source": [
    "missing_temp = weather_data[weather_data['temperature'].isnull()]\n",
    "print(missing_temp[['timestamp', 'temperature']])\n",
    "weather_data['temperature'] = weather_data['temperature'].ffill()"
   ],
   "id": "794378372a2ad5b8",
   "outputs": [
    {
     "name": "stdout",
     "output_type": "stream",
     "text": [
      "                      timestamp  temperature\n",
      "3752  2018-05-21 10:35:00-07:00          NaN\n",
      "8443  2018-11-17 06:53:00-08:00          NaN\n",
      "16982 2019-09-22 23:53:00-07:00          NaN\n",
      "16985 2019-09-23 01:53:00-07:00          NaN\n",
      "16988 2019-09-23 03:53:00-07:00          NaN\n",
      "18138 2019-11-07 00:53:00-08:00          NaN\n",
      "18252 2019-11-10 23:23:00-08:00          NaN\n",
      "18322 2019-11-13 03:53:00-08:00          NaN\n",
      "18323 2019-11-13 04:41:00-08:00          NaN\n",
      "19195 2019-12-14 02:45:00-08:00          NaN\n",
      "19196 2019-12-14 02:53:00-08:00          NaN\n",
      "19197 2019-12-14 03:53:00-08:00          NaN\n",
      "26063 2020-08-29 07:53:00-07:00          NaN\n",
      "27397 2020-10-20 03:29:00-07:00          NaN\n",
      "27398 2020-10-20 03:53:00-07:00          NaN\n",
      "27426 2020-10-20 23:53:00-07:00          NaN\n",
      "27427 2020-10-21 00:53:00-07:00          NaN\n",
      "27428 2020-10-21 01:16:00-07:00          NaN\n",
      "27430 2020-10-21 02:53:00-07:00          NaN\n",
      "27431 2020-10-21 03:13:00-07:00          NaN\n",
      "28132 2020-11-19 07:26:00-08:00          NaN\n",
      "28133 2020-11-19 07:33:00-08:00          NaN\n",
      "28134 2020-11-19 07:49:00-08:00          NaN\n",
      "28135 2020-11-19 07:53:00-08:00          NaN\n",
      "29169 2020-12-28 23:53:00-08:00          NaN\n"
     ]
    }
   ],
   "execution_count": 463
  },
  {
   "metadata": {
    "ExecuteTime": {
     "end_time": "2025-01-26T17:29:11.804304Z",
     "start_time": "2025-01-26T17:29:11.794072Z"
    }
   },
   "cell_type": "code",
   "source": "weather_data.info()",
   "id": "300c6e31f90a9550",
   "outputs": [
    {
     "name": "stdout",
     "output_type": "stream",
     "text": [
      "<class 'pandas.core.frame.DataFrame'>\n",
      "RangeIndex: 35354 entries, 0 to 35353\n",
      "Data columns (total 10 columns):\n",
      " #   Column                   Non-Null Count  Dtype                              \n",
      "---  ------                   --------------  -----                              \n",
      " 0   city                     29244 non-null  object                             \n",
      " 1   timestamp                35354 non-null  datetime64[ns, America/Los_Angeles]\n",
      " 2   temperature              35354 non-null  float64                            \n",
      " 3   cloud_cover              29224 non-null  float64                            \n",
      " 4   cloud_cover_description  29224 non-null  object                             \n",
      " 5   pressure                 29236 non-null  float64                            \n",
      " 6   windspeed                35354 non-null  float64                            \n",
      " 7   precipitation            35354 non-null  float64                            \n",
      " 8   felt_temperature         29218 non-null  float64                            \n",
      " 9   weather_date             29244 non-null  object                             \n",
      "dtypes: datetime64[ns, America/Los_Angeles](1), float64(6), object(3)\n",
      "memory usage: 2.7+ MB\n"
     ]
    }
   ],
   "execution_count": 464
  },
  {
   "metadata": {},
   "cell_type": "markdown",
   "source": "***",
   "id": "31f2707e1958e112"
  },
  {
   "metadata": {},
   "cell_type": "markdown",
   "source": "## 3 Erroneous Data",
   "id": "4af696afa09d19ba"
  },
  {
   "metadata": {
    "ExecuteTime": {
     "end_time": "2025-01-26T17:29:11.909697Z",
     "start_time": "2025-01-26T17:29:11.905466Z"
    }
   },
   "cell_type": "code",
   "source": [
    "# Check whether disconnectTime is before connectionTime\n",
    "disconnectBeforeConnect = charging_data[\n",
    "    charging_data['disconnectTime'] < charging_data['connectionTime']]\n",
    "print(f\"Number of rows where disconnectTime is before connectionTime: {disconnectBeforeConnect.shape[0]}\")\n",
    "display(disconnectBeforeConnect[['connectionTime', 'disconnectTime']])"
   ],
   "id": "bb0ad2d28703ac97",
   "outputs": [
    {
     "name": "stdout",
     "output_type": "stream",
     "text": [
      "Number of rows where disconnectTime is before connectionTime: 0\n"
     ]
    },
    {
     "data": {
      "text/plain": [
       "Empty DataFrame\n",
       "Columns: [connectionTime, disconnectTime]\n",
       "Index: []"
      ],
      "text/html": [
       "<div>\n",
       "<style scoped>\n",
       "    .dataframe tbody tr th:only-of-type {\n",
       "        vertical-align: middle;\n",
       "    }\n",
       "\n",
       "    .dataframe tbody tr th {\n",
       "        vertical-align: top;\n",
       "    }\n",
       "\n",
       "    .dataframe thead th {\n",
       "        text-align: right;\n",
       "    }\n",
       "</style>\n",
       "<table border=\"1\" class=\"dataframe\">\n",
       "  <thead>\n",
       "    <tr style=\"text-align: right;\">\n",
       "      <th></th>\n",
       "      <th>connectionTime</th>\n",
       "      <th>disconnectTime</th>\n",
       "    </tr>\n",
       "  </thead>\n",
       "  <tbody>\n",
       "  </tbody>\n",
       "</table>\n",
       "</div>"
      ]
     },
     "metadata": {},
     "output_type": "display_data"
    }
   ],
   "execution_count": 465
  },
  {
   "metadata": {},
   "cell_type": "markdown",
   "source": "Observation: There are no records where disconnectTime is after connectionTime",
   "id": "b3a95e477616ceaa"
  },
  {
   "metadata": {
    "ExecuteTime": {
     "end_time": "2025-01-26T17:29:12.018099Z",
     "start_time": "2025-01-26T17:29:12.013536Z"
    }
   },
   "cell_type": "code",
   "source": [
    "# Check whether doneChargingTime is before connectionTime\n",
    "doneBeforeConnection = charging_data[\n",
    "    charging_data['doneChargingTime'] < charging_data['connectionTime']]\n",
    "print(f\"Number of rows where doneChargingTime is before connectionTime: {doneBeforeConnection.shape[0]}\")\n",
    "display(doneBeforeConnection[['connectionTime', 'doneChargingTime']].head())"
   ],
   "id": "ed953df3ccbb57c7",
   "outputs": [
    {
     "name": "stdout",
     "output_type": "stream",
     "text": [
      "Number of rows where doneChargingTime is before connectionTime: 27\n"
     ]
    },
    {
     "data": {
      "text/plain": [
       "                 connectionTime          doneChargingTime\n",
       "31285 2018-05-04 12:08:37-07:00 2018-05-04 12:07:40-07:00\n",
       "31287 2018-05-04 12:23:52-07:00 2018-05-04 12:22:52-07:00\n",
       "31403 2018-05-07 13:47:51-07:00 2018-05-07 13:47:50-07:00\n",
       "35840 2018-07-19 08:57:19-07:00 2018-07-19 08:56:21-07:00\n",
       "38884 2018-08-28 22:25:08-07:00 2018-08-28 22:24:11-07:00"
      ],
      "text/html": [
       "<div>\n",
       "<style scoped>\n",
       "    .dataframe tbody tr th:only-of-type {\n",
       "        vertical-align: middle;\n",
       "    }\n",
       "\n",
       "    .dataframe tbody tr th {\n",
       "        vertical-align: top;\n",
       "    }\n",
       "\n",
       "    .dataframe thead th {\n",
       "        text-align: right;\n",
       "    }\n",
       "</style>\n",
       "<table border=\"1\" class=\"dataframe\">\n",
       "  <thead>\n",
       "    <tr style=\"text-align: right;\">\n",
       "      <th></th>\n",
       "      <th>connectionTime</th>\n",
       "      <th>doneChargingTime</th>\n",
       "    </tr>\n",
       "  </thead>\n",
       "  <tbody>\n",
       "    <tr>\n",
       "      <th>31285</th>\n",
       "      <td>2018-05-04 12:08:37-07:00</td>\n",
       "      <td>2018-05-04 12:07:40-07:00</td>\n",
       "    </tr>\n",
       "    <tr>\n",
       "      <th>31287</th>\n",
       "      <td>2018-05-04 12:23:52-07:00</td>\n",
       "      <td>2018-05-04 12:22:52-07:00</td>\n",
       "    </tr>\n",
       "    <tr>\n",
       "      <th>31403</th>\n",
       "      <td>2018-05-07 13:47:51-07:00</td>\n",
       "      <td>2018-05-07 13:47:50-07:00</td>\n",
       "    </tr>\n",
       "    <tr>\n",
       "      <th>35840</th>\n",
       "      <td>2018-07-19 08:57:19-07:00</td>\n",
       "      <td>2018-07-19 08:56:21-07:00</td>\n",
       "    </tr>\n",
       "    <tr>\n",
       "      <th>38884</th>\n",
       "      <td>2018-08-28 22:25:08-07:00</td>\n",
       "      <td>2018-08-28 22:24:11-07:00</td>\n",
       "    </tr>\n",
       "  </tbody>\n",
       "</table>\n",
       "</div>"
      ]
     },
     "metadata": {},
     "output_type": "display_data"
    }
   ],
   "execution_count": 466
  },
  {
   "metadata": {},
   "cell_type": "markdown",
   "source": "Observation: There are 27 records where doneChargingTime is before connectionTime, which seems contradictory. We decided to drop these records.",
   "id": "d1f5a07da375edac"
  },
  {
   "metadata": {
    "ExecuteTime": {
     "end_time": "2025-01-26T17:29:12.239218Z",
     "start_time": "2025-01-26T17:29:12.227529Z"
    }
   },
   "cell_type": "code",
   "source": [
    "# Drop the records where doneChargingTime is before connectionTime\n",
    "charging_data.drop(\n",
    "    charging_data[charging_data['doneChargingTime'] < charging_data['connectionTime']].index,\n",
    "    inplace=True)\n",
    "\n",
    "# TODO: müssen wir das immer verifyen?\n",
    "# Verify that there are no more records where doneChargingTime is before connectionTime\n",
    "doneCharging_before_connection = charging_data[\n",
    "    charging_data['doneChargingTime'] < charging_data['connectionTime']]\n",
    "print(f\"Number of records where doneChargingTime is before connectionTime: {doneCharging_before_connection.shape[0]}\")"
   ],
   "id": "3b2abe393d1a6cd9",
   "outputs": [
    {
     "name": "stdout",
     "output_type": "stream",
     "text": [
      "Number of records where doneChargingTime is before connectionTime: 0\n"
     ]
    }
   ],
   "execution_count": 467
  },
  {
   "metadata": {
    "ExecuteTime": {
     "end_time": "2025-01-26T17:29:12.367952Z",
     "start_time": "2025-01-26T17:29:12.363349Z"
    }
   },
   "cell_type": "code",
   "source": [
    "# Calculate the charging duration (doneChargingTime - connectionTime) in minutes\n",
    "charging_data['charging_duration'] = ((charging_data['doneChargingTime'] - charging_data[\n",
    "    'connectionTime']).dt.total_seconds()) / 60\n",
    "\n",
    "# Calculate the connection duration (disconnectTime - connectionTime) in minutes\n",
    "charging_data['connection_duration'] = ((charging_data['disconnectTime'] - charging_data[\n",
    "    'connectionTime']).dt.total_seconds()) / 60"
   ],
   "id": "e12bfd9a4197f577",
   "outputs": [],
   "execution_count": 468
  },
  {
   "metadata": {
    "ExecuteTime": {
     "end_time": "2025-01-26T17:29:12.451807Z",
     "start_time": "2025-01-26T17:29:12.442840Z"
    }
   },
   "cell_type": "code",
   "source": [
    "# Check whether the doneChargingTime is after disconnectTime\n",
    "doneAfterDisconnect = charging_data[\n",
    "    charging_data['doneChargingTime'] > charging_data['disconnectTime']]\n",
    "print(f\"Number of rows where doneChargingTime is after disconnectTime: {doneAfterDisconnect.shape[0]}\")\n",
    "doneAfterDisconnect[\n",
    "    ['connectionTime', 'disconnectTime', 'doneChargingTime', 'charging_duration', 'connection_duration']]"
   ],
   "id": "17892bd6f720090d",
   "outputs": [
    {
     "name": "stdout",
     "output_type": "stream",
     "text": [
      "Number of rows where doneChargingTime is after disconnectTime: 4387\n"
     ]
    },
    {
     "data": {
      "text/plain": [
       "                 connectionTime            disconnectTime  \\\n",
       "30793 2018-04-25 04:08:04-07:00 2018-04-25 06:20:10-07:00   \n",
       "30802 2018-04-25 08:12:11-07:00 2018-04-25 11:29:21-07:00   \n",
       "30827 2018-04-25 12:32:05-07:00 2018-04-25 14:46:47-07:00   \n",
       "30834 2018-04-25 14:57:42-07:00 2018-04-25 20:06:25-07:00   \n",
       "30880 2018-04-26 10:08:18-07:00 2018-04-26 17:56:01-07:00   \n",
       "...                         ...                       ...   \n",
       "19914 2021-09-03 08:53:14-07:00 2021-09-03 10:51:18-07:00   \n",
       "19976 2021-09-07 09:01:29-07:00 2021-09-07 12:05:43-07:00   \n",
       "20021 2021-09-08 08:40:04-07:00 2021-09-08 12:06:30-07:00   \n",
       "20027 2021-09-08 09:04:39-07:00 2021-09-08 09:48:03-07:00   \n",
       "20163 2021-09-13 09:02:17-07:00 2021-09-13 12:17:21-07:00   \n",
       "\n",
       "               doneChargingTime  charging_duration  connection_duration  \n",
       "30793 2018-04-25 06:21:10-07:00         133.100000           132.100000  \n",
       "30802 2018-04-25 11:30:20-07:00         198.150000           197.166667  \n",
       "30827 2018-04-25 14:47:47-07:00         135.700000           134.700000  \n",
       "30834 2018-04-25 20:07:23-07:00         309.683333           308.716667  \n",
       "30880 2018-04-26 17:56:59-07:00         468.683333           467.716667  \n",
       "...                         ...                ...                  ...  \n",
       "19914 2021-09-03 10:52:15-07:00         119.016667           118.066667  \n",
       "19976 2021-09-07 12:06:41-07:00         185.200000           184.233333  \n",
       "20021 2021-09-08 12:07:28-07:00         207.400000           206.433333  \n",
       "20027 2021-09-08 09:49:01-07:00          44.366667            43.400000  \n",
       "20163 2021-09-13 12:18:19-07:00         196.033333           195.066667  \n",
       "\n",
       "[4387 rows x 5 columns]"
      ],
      "text/html": [
       "<div>\n",
       "<style scoped>\n",
       "    .dataframe tbody tr th:only-of-type {\n",
       "        vertical-align: middle;\n",
       "    }\n",
       "\n",
       "    .dataframe tbody tr th {\n",
       "        vertical-align: top;\n",
       "    }\n",
       "\n",
       "    .dataframe thead th {\n",
       "        text-align: right;\n",
       "    }\n",
       "</style>\n",
       "<table border=\"1\" class=\"dataframe\">\n",
       "  <thead>\n",
       "    <tr style=\"text-align: right;\">\n",
       "      <th></th>\n",
       "      <th>connectionTime</th>\n",
       "      <th>disconnectTime</th>\n",
       "      <th>doneChargingTime</th>\n",
       "      <th>charging_duration</th>\n",
       "      <th>connection_duration</th>\n",
       "    </tr>\n",
       "  </thead>\n",
       "  <tbody>\n",
       "    <tr>\n",
       "      <th>30793</th>\n",
       "      <td>2018-04-25 04:08:04-07:00</td>\n",
       "      <td>2018-04-25 06:20:10-07:00</td>\n",
       "      <td>2018-04-25 06:21:10-07:00</td>\n",
       "      <td>133.100000</td>\n",
       "      <td>132.100000</td>\n",
       "    </tr>\n",
       "    <tr>\n",
       "      <th>30802</th>\n",
       "      <td>2018-04-25 08:12:11-07:00</td>\n",
       "      <td>2018-04-25 11:29:21-07:00</td>\n",
       "      <td>2018-04-25 11:30:20-07:00</td>\n",
       "      <td>198.150000</td>\n",
       "      <td>197.166667</td>\n",
       "    </tr>\n",
       "    <tr>\n",
       "      <th>30827</th>\n",
       "      <td>2018-04-25 12:32:05-07:00</td>\n",
       "      <td>2018-04-25 14:46:47-07:00</td>\n",
       "      <td>2018-04-25 14:47:47-07:00</td>\n",
       "      <td>135.700000</td>\n",
       "      <td>134.700000</td>\n",
       "    </tr>\n",
       "    <tr>\n",
       "      <th>30834</th>\n",
       "      <td>2018-04-25 14:57:42-07:00</td>\n",
       "      <td>2018-04-25 20:06:25-07:00</td>\n",
       "      <td>2018-04-25 20:07:23-07:00</td>\n",
       "      <td>309.683333</td>\n",
       "      <td>308.716667</td>\n",
       "    </tr>\n",
       "    <tr>\n",
       "      <th>30880</th>\n",
       "      <td>2018-04-26 10:08:18-07:00</td>\n",
       "      <td>2018-04-26 17:56:01-07:00</td>\n",
       "      <td>2018-04-26 17:56:59-07:00</td>\n",
       "      <td>468.683333</td>\n",
       "      <td>467.716667</td>\n",
       "    </tr>\n",
       "    <tr>\n",
       "      <th>...</th>\n",
       "      <td>...</td>\n",
       "      <td>...</td>\n",
       "      <td>...</td>\n",
       "      <td>...</td>\n",
       "      <td>...</td>\n",
       "    </tr>\n",
       "    <tr>\n",
       "      <th>19914</th>\n",
       "      <td>2021-09-03 08:53:14-07:00</td>\n",
       "      <td>2021-09-03 10:51:18-07:00</td>\n",
       "      <td>2021-09-03 10:52:15-07:00</td>\n",
       "      <td>119.016667</td>\n",
       "      <td>118.066667</td>\n",
       "    </tr>\n",
       "    <tr>\n",
       "      <th>19976</th>\n",
       "      <td>2021-09-07 09:01:29-07:00</td>\n",
       "      <td>2021-09-07 12:05:43-07:00</td>\n",
       "      <td>2021-09-07 12:06:41-07:00</td>\n",
       "      <td>185.200000</td>\n",
       "      <td>184.233333</td>\n",
       "    </tr>\n",
       "    <tr>\n",
       "      <th>20021</th>\n",
       "      <td>2021-09-08 08:40:04-07:00</td>\n",
       "      <td>2021-09-08 12:06:30-07:00</td>\n",
       "      <td>2021-09-08 12:07:28-07:00</td>\n",
       "      <td>207.400000</td>\n",
       "      <td>206.433333</td>\n",
       "    </tr>\n",
       "    <tr>\n",
       "      <th>20027</th>\n",
       "      <td>2021-09-08 09:04:39-07:00</td>\n",
       "      <td>2021-09-08 09:48:03-07:00</td>\n",
       "      <td>2021-09-08 09:49:01-07:00</td>\n",
       "      <td>44.366667</td>\n",
       "      <td>43.400000</td>\n",
       "    </tr>\n",
       "    <tr>\n",
       "      <th>20163</th>\n",
       "      <td>2021-09-13 09:02:17-07:00</td>\n",
       "      <td>2021-09-13 12:17:21-07:00</td>\n",
       "      <td>2021-09-13 12:18:19-07:00</td>\n",
       "      <td>196.033333</td>\n",
       "      <td>195.066667</td>\n",
       "    </tr>\n",
       "  </tbody>\n",
       "</table>\n",
       "<p>4387 rows × 5 columns</p>\n",
       "</div>"
      ]
     },
     "execution_count": 469,
     "metadata": {},
     "output_type": "execute_result"
    }
   ],
   "execution_count": 469
  },
  {
   "metadata": {},
   "cell_type": "markdown",
   "source": "From what we visually observed, we noticed that in those cases where the doneChargingTime is after disconnectTime it is usually only 1-2 minutes or even seconds later. Therefore, we decided to set the doneChargingTime to the disconnectTime in those cases.",
   "id": "711f31e5f9c4acc6"
  },
  {
   "metadata": {
    "ExecuteTime": {
     "end_time": "2025-01-26T17:29:12.533619Z",
     "start_time": "2025-01-26T17:29:12.522583Z"
    }
   },
   "cell_type": "code",
   "source": [
    "# Identify records where doneChargingTime is already equal to disconnectTime\n",
    "pre_existing_equal_times = charging_data[\n",
    "    charging_data['doneChargingTime'] == charging_data['disconnectTime']]\n",
    "print(f\"Number of rows where doneChargingTime was already equal to disconnectTime: {pre_existing_equal_times.shape[0]}\")"
   ],
   "id": "8a832ad3fb9701ba",
   "outputs": [
    {
     "name": "stdout",
     "output_type": "stream",
     "text": [
      "Number of rows where doneChargingTime was already equal to disconnectTime: 5\n"
     ]
    }
   ],
   "execution_count": 470
  },
  {
   "metadata": {
    "ExecuteTime": {
     "end_time": "2025-01-26T17:29:12.620505Z",
     "start_time": "2025-01-26T17:29:12.614339Z"
    }
   },
   "cell_type": "code",
   "source": [
    "# Set doneChargingTime to disconnectTime where it exceeds disconnectTime\n",
    "charging_data.loc[\n",
    "    charging_data['doneChargingTime'] > charging_data['disconnectTime'], 'doneChargingTime'] = \\\n",
    "    charging_data['disconnectTime']\n",
    "\n",
    "# Verify adjustments\n",
    "adjusted_charging_times = charging_data[\n",
    "    charging_data['doneChargingTime'] == charging_data['disconnectTime']]\n",
    "print(f\"Number of rows where doneChargingTime was adjusted to disconnectTime: {adjusted_charging_times.shape[0]}\")\n",
    "adjusted_charging_times[['connectionTime', 'disconnectTime', 'doneChargingTime']].head()"
   ],
   "id": "a0ec16890ae175cd",
   "outputs": [
    {
     "name": "stdout",
     "output_type": "stream",
     "text": [
      "Number of rows where doneChargingTime was adjusted to disconnectTime: 4392\n"
     ]
    },
    {
     "data": {
      "text/plain": [
       "                 connectionTime            disconnectTime  \\\n",
       "30793 2018-04-25 04:08:04-07:00 2018-04-25 06:20:10-07:00   \n",
       "30802 2018-04-25 08:12:11-07:00 2018-04-25 11:29:21-07:00   \n",
       "30827 2018-04-25 12:32:05-07:00 2018-04-25 14:46:47-07:00   \n",
       "30834 2018-04-25 14:57:42-07:00 2018-04-25 20:06:25-07:00   \n",
       "30880 2018-04-26 10:08:18-07:00 2018-04-26 17:56:01-07:00   \n",
       "\n",
       "               doneChargingTime  \n",
       "30793 2018-04-25 06:20:10-07:00  \n",
       "30802 2018-04-25 11:29:21-07:00  \n",
       "30827 2018-04-25 14:46:47-07:00  \n",
       "30834 2018-04-25 20:06:25-07:00  \n",
       "30880 2018-04-26 17:56:01-07:00  "
      ],
      "text/html": [
       "<div>\n",
       "<style scoped>\n",
       "    .dataframe tbody tr th:only-of-type {\n",
       "        vertical-align: middle;\n",
       "    }\n",
       "\n",
       "    .dataframe tbody tr th {\n",
       "        vertical-align: top;\n",
       "    }\n",
       "\n",
       "    .dataframe thead th {\n",
       "        text-align: right;\n",
       "    }\n",
       "</style>\n",
       "<table border=\"1\" class=\"dataframe\">\n",
       "  <thead>\n",
       "    <tr style=\"text-align: right;\">\n",
       "      <th></th>\n",
       "      <th>connectionTime</th>\n",
       "      <th>disconnectTime</th>\n",
       "      <th>doneChargingTime</th>\n",
       "    </tr>\n",
       "  </thead>\n",
       "  <tbody>\n",
       "    <tr>\n",
       "      <th>30793</th>\n",
       "      <td>2018-04-25 04:08:04-07:00</td>\n",
       "      <td>2018-04-25 06:20:10-07:00</td>\n",
       "      <td>2018-04-25 06:20:10-07:00</td>\n",
       "    </tr>\n",
       "    <tr>\n",
       "      <th>30802</th>\n",
       "      <td>2018-04-25 08:12:11-07:00</td>\n",
       "      <td>2018-04-25 11:29:21-07:00</td>\n",
       "      <td>2018-04-25 11:29:21-07:00</td>\n",
       "    </tr>\n",
       "    <tr>\n",
       "      <th>30827</th>\n",
       "      <td>2018-04-25 12:32:05-07:00</td>\n",
       "      <td>2018-04-25 14:46:47-07:00</td>\n",
       "      <td>2018-04-25 14:46:47-07:00</td>\n",
       "    </tr>\n",
       "    <tr>\n",
       "      <th>30834</th>\n",
       "      <td>2018-04-25 14:57:42-07:00</td>\n",
       "      <td>2018-04-25 20:06:25-07:00</td>\n",
       "      <td>2018-04-25 20:06:25-07:00</td>\n",
       "    </tr>\n",
       "    <tr>\n",
       "      <th>30880</th>\n",
       "      <td>2018-04-26 10:08:18-07:00</td>\n",
       "      <td>2018-04-26 17:56:01-07:00</td>\n",
       "      <td>2018-04-26 17:56:01-07:00</td>\n",
       "    </tr>\n",
       "  </tbody>\n",
       "</table>\n",
       "</div>"
      ]
     },
     "execution_count": 471,
     "metadata": {},
     "output_type": "execute_result"
    }
   ],
   "execution_count": 471
  },
  {
   "metadata": {},
   "cell_type": "markdown",
   "source": "Due to the fact that even before we adjusted the doneChargingTime to disconnectTime where it exceeded it, there were already 5 data records where the doneChargingTime was equal to the disconnectTime we get to the sum of 4392 (4387+5).",
   "id": "9c37aa0004779513"
  },
  {
   "metadata": {},
   "cell_type": "markdown",
   "source": "***",
   "id": "398a8645ba054bb7"
  },
  {
   "metadata": {},
   "cell_type": "markdown",
   "source": "## 4 Outliers",
   "id": "908cc41246f91074"
  },
  {
   "metadata": {},
   "cell_type": "markdown",
   "source": "For the outlier analysis we decided to plot different boxplots of key numeric features of the charging sessions data set and the weather data set to visually identify the most noticeable outliers.",
   "id": "8a1cae0bd28c96e"
  },
  {
   "metadata": {
    "ExecuteTime": {
     "end_time": "2025-01-26T17:29:12.800993Z",
     "start_time": "2025-01-26T17:29:12.761087Z"
    }
   },
   "cell_type": "code",
   "source": [
    "plt.figure(figsize=(8, 4))\n",
    "plt.boxplot(charging_data['charging_duration'], vert=False, patch_artist=False)\n",
    "plt.title(\"Boxplot charging_duration\")\n",
    "plt.xlabel(\"charging_duration\")\n",
    "plt.grid(True)"
   ],
   "id": "5dceafa79e3742c0",
   "outputs": [
    {
     "data": {
      "text/plain": [
       "<Figure size 800x400 with 1 Axes>"
      ],
      "image/png": "[encoded data removed]"
     },
     "metadata": {},
     "output_type": "display_data"
    }
   ],
   "execution_count": 472
  },
  {
   "metadata": {},
   "cell_type": "markdown",
   "source": "Based on the boxplot above we decided that charging durations longer than 2880 minutes or 48 hours (which about matches the last record before the next at about ~4000) are outliers.",
   "id": "df57b84ae6e345c8"
  },
  {
   "metadata": {
    "ExecuteTime": {
     "end_time": "2025-01-26T17:29:12.827717Z",
     "start_time": "2025-01-26T17:29:12.825488Z"
    }
   },
   "cell_type": "code",
   "source": [
    "unrealistic_charging_duration = charging_data[(charging_data['charging_duration'] > 2880)]\n",
    "print(\n",
    "    f\"Number of records where the charging duration is longer than 2880 minutes (48 hours): {unrealistic_charging_duration.shape[0]}\")"
   ],
   "id": "8973bab97331a4f3",
   "outputs": [
    {
     "name": "stdout",
     "output_type": "stream",
     "text": [
      "Number of records where the charging duration is longer than 2880 minutes (48 hours): 14\n"
     ]
    }
   ],
   "execution_count": 473
  },
  {
   "metadata": {
    "ExecuteTime": {
     "end_time": "2025-01-26T17:29:13.101489Z",
     "start_time": "2025-01-26T17:29:12.906943Z"
    }
   },
   "cell_type": "code",
   "source": [
    "plt.figure(figsize=(8, 4))\n",
    "plt.boxplot(charging_data['connection_duration'], vert=False, patch_artist=False)\n",
    "plt.title(\"Boxplot connection_duration\")\n",
    "plt.xlabel(\"connection_duration\")\n",
    "plt.grid(True)"
   ],
   "id": "ba3a2f0e7c8f04d0",
   "outputs": [
    {
     "data": {
      "text/plain": [
       "<Figure size 800x400 with 1 Axes>"
      ],
      "image/png": "[encoded data removed]"
     },
     "metadata": {},
     "output_type": "display_data"
    }
   ],
   "execution_count": 474
  },
  {
   "metadata": {},
   "cell_type": "markdown",
   "source": "Based on the boxplot above and to match it to the unrealistic charging durations, we decided that connection durations longer than 2880 minutes or 48 hours are outliers.",
   "id": "a7266cce03e6e900"
  },
  {
   "metadata": {
    "ExecuteTime": {
     "end_time": "2025-01-26T17:29:13.115726Z",
     "start_time": "2025-01-26T17:29:13.113119Z"
    }
   },
   "cell_type": "code",
   "source": [
    "unrealistic_connection_duration = charging_data[(charging_data['connection_duration'] > 2880)]\n",
    "print(\n",
    "    f\"Number of records where the connection duration is longer than 2880 minutes (48 hours): {unrealistic_connection_duration.shape[0]}\")"
   ],
   "id": "a8794d5f9c77556a",
   "outputs": [
    {
     "name": "stdout",
     "output_type": "stream",
     "text": [
      "Number of records where the connection duration is longer than 2880 minutes (48 hours): 89\n"
     ]
    }
   ],
   "execution_count": 475
  },
  {
   "metadata": {},
   "cell_type": "markdown",
   "source": "In conclusion, we decided to drop the records where charging or connection duration is longer than 2880 minutes (48 hours).",
   "id": "fcdd6e950363464e"
  },
  {
   "metadata": {
    "ExecuteTime": {
     "end_time": "2025-01-26T17:29:13.220646Z",
     "start_time": "2025-01-26T17:29:13.204892Z"
    }
   },
   "cell_type": "code",
   "source": [
    "charging_data.drop(charging_data[charging_data['charging_duration'] > 2880].index, inplace=True)\n",
    "charging_data.drop(charging_data[charging_data['connection_duration'] > 2880].index,\n",
    "                           inplace=True)\n",
    "\n",
    "# Verify that the records have been deleted\n",
    "unrealistic_charging_duration_counter = \\\n",
    "    charging_data[(charging_data['charging_duration'] > 2880)].shape[0]\n",
    "unrealistic_connection_duration_counter = \\\n",
    "    charging_data[(charging_data['connection_duration'] > 2880)].shape[0]\n",
    "print(\n",
    "    f\"Number of records where the charging duration is longer than 2880 minutes (48 hours): {unrealistic_charging_duration_counter}\")\n",
    "print(\n",
    "    f\"Number of records where the connection duration is longer than 2880 minutes (48 hours): {unrealistic_connection_duration_counter}\")"
   ],
   "id": "b18a59b11e2f2fb",
   "outputs": [
    {
     "name": "stdout",
     "output_type": "stream",
     "text": [
      "Number of records where the charging duration is longer than 2880 minutes (48 hours): 0\n",
      "Number of records where the connection duration is longer than 2880 minutes (48 hours): 0\n"
     ]
    }
   ],
   "execution_count": 476
  },
  {
   "metadata": {
    "ExecuteTime": {
     "end_time": "2025-01-26T17:29:13.633343Z",
     "start_time": "2025-01-26T17:29:13.268323Z"
    }
   },
   "cell_type": "code",
   "source": [
    "# Just for visual purpose\n",
    "plt.figure(figsize=(8, 4))\n",
    "plt.scatter(charging_data['connectionTime'], charging_data['charging_duration'], c='blue', alpha=0.5,\n",
    "            label='charging_duration')\n",
    "plt.title(\"Scatter charging_duration über connectionTime\")\n",
    "plt.xlabel(\"connectionTime\")\n",
    "plt.ylabel(\"charging_duration\")\n",
    "plt.grid(True)"
   ],
   "id": "220ef0c128edaf62",
   "outputs": [
    {
     "data": {
      "text/plain": [
       "<Figure size 800x400 with 1 Axes>"
      ],
      "image/png": "[encoded data removed]"
     },
     "metadata": {},
     "output_type": "display_data"
    }
   ],
   "execution_count": 477
  },
  {
   "metadata": {
    "ExecuteTime": {
     "end_time": "2025-01-26T17:29:14.060277Z",
     "start_time": "2025-01-26T17:29:13.639959Z"
    }
   },
   "cell_type": "code",
   "source": [
    "# Just for visual purpose\n",
    "plt.figure(figsize=(8, 4))\n",
    "plt.scatter(charging_data['connectionTime'], charging_data['connection_duration'], c='blue', alpha=0.5,\n",
    "            label='connection_duration')\n",
    "plt.title(\"Scatter connection_duration über connectionTime\")\n",
    "plt.xlabel(\"connectionTime\")\n",
    "plt.ylabel(\"connection_duration\")\n",
    "plt.grid(True)"
   ],
   "id": "e18da261330cffad",
   "outputs": [
    {
     "data": {
      "text/plain": [
       "<Figure size 800x400 with 1 Axes>"
      ],
      "image/png": "[encoded data removed]"
     },
     "metadata": {},
     "output_type": "display_data"
    }
   ],
   "execution_count": 478
  },
  {
   "metadata": {
    "ExecuteTime": {
     "end_time": "2025-01-26T17:29:14.103253Z",
     "start_time": "2025-01-26T17:29:14.068391Z"
    }
   },
   "cell_type": "code",
   "source": [
    "plt.figure(figsize=(8, 4))\n",
    "plt.boxplot(charging_data['kWhDelivered'], vert=False, patch_artist=True)\n",
    "plt.title(\"Boxplot kWhDelivered\")\n",
    "plt.xlabel(\"kWhDelivered\")\n",
    "plt.grid(True)"
   ],
   "id": "7e5e8885507d86a0",
   "outputs": [
    {
     "data": {
      "text/plain": [
       "<Figure size 800x400 with 1 Axes>"
      ],
      "image/png": "[encoded data removed]"
     },
     "metadata": {},
     "output_type": "display_data"
    }
   ],
   "execution_count": 479
  },
  {
   "metadata": {
    "ExecuteTime": {
     "end_time": "2025-01-26T17:29:14.118191Z",
     "start_time": "2025-01-26T17:29:14.113123Z"
    }
   },
   "cell_type": "code",
   "source": [
    "kWhDelivered_outliers = charging_data[(charging_data['kWhDelivered'] > 70)]\n",
    "kWhDelivered_outliers"
   ],
   "id": "3d4577ad9445cef3",
   "outputs": [
    {
     "data": {
      "text/plain": [
       "       counter                        id            connectionTime  \\\n",
       "20986      807  5c60d02df9af8b149d7da395 2019-01-25 19:40:20-08:00   \n",
       "18641     4338  610c829df9af8b0580e98730 2021-07-20 15:16:54-07:00   \n",
       "18643     4340  610c829df9af8b0580e98732 2021-07-20 15:16:56-07:00   \n",
       "\n",
       "                 disconnectTime          doneChargingTime  kWhDelivered  \\\n",
       "20986 2019-01-26 14:36:03-08:00 2019-01-26 06:45:12-08:00     75.528000   \n",
       "18641 2021-07-21 08:18:03-07:00 2021-07-21 08:18:03-07:00    108.797242   \n",
       "18643 2021-07-21 08:18:16-07:00 2021-07-21 08:18:16-07:00     89.362732   \n",
       "\n",
       "                                    sessionID siteID  spaceID    stationID  \\\n",
       "20986  2_39_91_437_2019-01-26 03:40:20.383123      2   CA-317  2-39-91-437   \n",
       "18641  1_1_193_829_2021-07-20 18:27:33.500144      1  AG-1F03  1-1-193-829   \n",
       "18643  1_1_194_818_2021-07-20 13:54:47.875453      1  AG-1F14  1-1-194-818   \n",
       "\n",
       "                  timezone userID connection_date year_month  \\\n",
       "20986  America/Los_Angeles   1225      2019-01-26    2019-01   \n",
       "18641  America/Los_Angeles    378      2021-07-20    2021-07   \n",
       "18643  America/Los_Angeles    481      2021-07-20    2021-07   \n",
       "\n",
       "       charging_duration  connection_duration  \n",
       "20986         664.866667          1135.716667  \n",
       "18641        1022.100000          1021.150000  \n",
       "18643        1022.283333          1021.333333  "
      ],
      "text/html": [
       "<div>\n",
       "<style scoped>\n",
       "    .dataframe tbody tr th:only-of-type {\n",
       "        vertical-align: middle;\n",
       "    }\n",
       "\n",
       "    .dataframe tbody tr th {\n",
       "        vertical-align: top;\n",
       "    }\n",
       "\n",
       "    .dataframe thead th {\n",
       "        text-align: right;\n",
       "    }\n",
       "</style>\n",
       "<table border=\"1\" class=\"dataframe\">\n",
       "  <thead>\n",
       "    <tr style=\"text-align: right;\">\n",
       "      <th></th>\n",
       "      <th>counter</th>\n",
       "      <th>id</th>\n",
       "      <th>connectionTime</th>\n",
       "      <th>disconnectTime</th>\n",
       "      <th>doneChargingTime</th>\n",
       "      <th>kWhDelivered</th>\n",
       "      <th>sessionID</th>\n",
       "      <th>siteID</th>\n",
       "      <th>spaceID</th>\n",
       "      <th>stationID</th>\n",
       "      <th>timezone</th>\n",
       "      <th>userID</th>\n",
       "      <th>connection_date</th>\n",
       "      <th>year_month</th>\n",
       "      <th>charging_duration</th>\n",
       "      <th>connection_duration</th>\n",
       "    </tr>\n",
       "  </thead>\n",
       "  <tbody>\n",
       "    <tr>\n",
       "      <th>20986</th>\n",
       "      <td>807</td>\n",
       "      <td>5c60d02df9af8b149d7da395</td>\n",
       "      <td>2019-01-25 19:40:20-08:00</td>\n",
       "      <td>2019-01-26 14:36:03-08:00</td>\n",
       "      <td>2019-01-26 06:45:12-08:00</td>\n",
       "      <td>75.528000</td>\n",
       "      <td>2_39_91_437_2019-01-26 03:40:20.383123</td>\n",
       "      <td>2</td>\n",
       "      <td>CA-317</td>\n",
       "      <td>2-39-91-437</td>\n",
       "      <td>America/Los_Angeles</td>\n",
       "      <td>1225</td>\n",
       "      <td>2019-01-26</td>\n",
       "      <td>2019-01</td>\n",
       "      <td>664.866667</td>\n",
       "      <td>1135.716667</td>\n",
       "    </tr>\n",
       "    <tr>\n",
       "      <th>18641</th>\n",
       "      <td>4338</td>\n",
       "      <td>610c829df9af8b0580e98730</td>\n",
       "      <td>2021-07-20 15:16:54-07:00</td>\n",
       "      <td>2021-07-21 08:18:03-07:00</td>\n",
       "      <td>2021-07-21 08:18:03-07:00</td>\n",
       "      <td>108.797242</td>\n",
       "      <td>1_1_193_829_2021-07-20 18:27:33.500144</td>\n",
       "      <td>1</td>\n",
       "      <td>AG-1F03</td>\n",
       "      <td>1-1-193-829</td>\n",
       "      <td>America/Los_Angeles</td>\n",
       "      <td>378</td>\n",
       "      <td>2021-07-20</td>\n",
       "      <td>2021-07</td>\n",
       "      <td>1022.100000</td>\n",
       "      <td>1021.150000</td>\n",
       "    </tr>\n",
       "    <tr>\n",
       "      <th>18643</th>\n",
       "      <td>4340</td>\n",
       "      <td>610c829df9af8b0580e98732</td>\n",
       "      <td>2021-07-20 15:16:56-07:00</td>\n",
       "      <td>2021-07-21 08:18:16-07:00</td>\n",
       "      <td>2021-07-21 08:18:16-07:00</td>\n",
       "      <td>89.362732</td>\n",
       "      <td>1_1_194_818_2021-07-20 13:54:47.875453</td>\n",
       "      <td>1</td>\n",
       "      <td>AG-1F14</td>\n",
       "      <td>1-1-194-818</td>\n",
       "      <td>America/Los_Angeles</td>\n",
       "      <td>481</td>\n",
       "      <td>2021-07-20</td>\n",
       "      <td>2021-07</td>\n",
       "      <td>1022.283333</td>\n",
       "      <td>1021.333333</td>\n",
       "    </tr>\n",
       "  </tbody>\n",
       "</table>\n",
       "</div>"
      ]
     },
     "execution_count": 480,
     "metadata": {},
     "output_type": "execute_result"
    }
   ],
   "execution_count": 480
  },
  {
   "metadata": {},
   "cell_type": "markdown",
   "source": "We also looked at the two data points where the kWhDelivered is ~90 and ~ 110 in detail and notices some inconsistencies. It seems strange to us that the data records start and end at exactly the same moment. As the three rows with kWhDelivered > 70 also deviate too much from the other values, we decided to drop those three records to prevent them from influencing our analysis in later steps.",
   "id": "b639e5fd3866873e"
  },
  {
   "metadata": {
    "ExecuteTime": {
     "end_time": "2025-01-26T17:29:14.172229Z",
     "start_time": "2025-01-26T17:29:14.164991Z"
    }
   },
   "cell_type": "code",
   "source": [
    "# Drop data records with kWhDelivered greater than 70\n",
    "charging_data = charging_data[~(charging_data['kWhDelivered'] > 70)]"
   ],
   "id": "52665265d0e67fd5",
   "outputs": [],
   "execution_count": 481
  },
  {
   "metadata": {
    "ExecuteTime": {
     "end_time": "2025-01-26T17:29:14.314016Z",
     "start_time": "2025-01-26T17:29:14.283839Z"
    }
   },
   "cell_type": "code",
   "source": [
    "plt.figure(figsize=(8, 4))\n",
    "plt.boxplot(weather_data['temperature'], vert=False, patch_artist=True)\n",
    "plt.title(\"Boxplot temperature\")\n",
    "plt.xlabel(\"temperature\")\n",
    "plt.grid(True)"
   ],
   "id": "c16e006b460d108b",
   "outputs": [
    {
     "data": {
      "text/plain": [
       "<Figure size 800x400 with 1 Axes>"
      ],
      "image/png": "[encoded data removed]"
     },
     "metadata": {},
     "output_type": "display_data"
    }
   ],
   "execution_count": 482
  },
  {
   "metadata": {},
   "cell_type": "markdown",
   "source": "The boxplot for the temperature doesn't show noticeable outliers, since temperatures of over 35 degrees are common in Los Angeles in the summer.",
   "id": "9575c2a15cd718f6"
  },
  {
   "metadata": {},
   "cell_type": "markdown",
   "source": "***",
   "id": "f13dcd895d402f50"
  },
  {
   "metadata": {},
   "cell_type": "markdown",
   "source": "## 5 Final Review",
   "id": "e96ffa23ee997401"
  },
  {
   "metadata": {
    "ExecuteTime": {
     "end_time": "2025-01-26T17:29:14.391393Z",
     "start_time": "2025-01-26T17:29:14.389796Z"
    }
   },
   "cell_type": "code",
   "source": "",
   "id": "54d84476334a372f",
   "outputs": [],
   "execution_count": null
  },
  {
   "metadata": {},
   "cell_type": "markdown",
   "source": "***",
   "id": "5916038d350b3c4b"
  },
  {
   "metadata": {},
   "cell_type": "markdown",
   "source": "## 6 Export Cleaned Data and Merge Datasets",
   "id": "c03e6951d660b1be"
  },
  {
   "metadata": {
    "ExecuteTime": {
     "end_time": "2025-01-26T17:29:15.404331Z",
     "start_time": "2025-01-26T17:29:14.461286Z"
    }
   },
   "cell_type": "code",
   "source": [
    "# Export Dataframes as pickle (.pkl) and csv (.csv) files\n",
    "charging_data.to_pickle(os.path.join('Data', 'charging_data.pkl'))\n",
    "weather_data.to_pickle(os.path.join('Data', 'weather_data.pkl'))\n",
    "charging_data.to_csv(os.path.join('Data', 'charging_data.csv'))\n",
    "weather_data.to_csv(os.path.join('Data', 'weather_data.csv'))"
   ],
   "id": "309ee43b2a854ecf",
   "outputs": [],
   "execution_count": 483
  },
  {
   "metadata": {
    "ExecuteTime": {
     "end_time": "2025-01-26T17:29:16.380211Z",
     "start_time": "2025-01-26T17:29:15.443403Z"
    }
   },
   "cell_type": "code",
   "source": [
    "# TODO: Löschen, falls wir es nicht mehr brauchen\n",
    "# Export merged charging to weather data dataset\n",
    "\n",
    "# Perform a nearest merge to align weather data to charging data\n",
    "merged_data = pd.merge_asof(\n",
    "    charging_data,\n",
    "    weather_data,\n",
    "    left_on='connectionTime',  # The timestamp in charging data\n",
    "    right_on='timestamp',  # The timestamp in weather data\n",
    "    direction='backward'  # Align with the closest earlier weather record\n",
    ")\n",
    "\n",
    "# Since we found out at the beginning, that the weather data only ranges until 01-01-2021 and the charging data records after 01-01-2021 would all be joined to this particular weather record which would make no sense, we decided to drop all records after 01-01-2021 from the merged dataset.\n",
    "merged_data = merged_data[merged_data['connectionTime'] < '2021-01-02']\n",
    "\n",
    "# Save the merged dataset to a pickle (.pkl) and csv (.csv) file\n",
    "merged_data.to_pickle(os.path.join('Data', 'merged_charging_weather_data.pkl'))\n",
    "merged_data.to_csv(os.path.join('Data', 'merged_charging_weather_data.csv'))"
   ],
   "id": "34a9f52d48138c63",
   "outputs": [],
   "execution_count": 484
  }
 ],
 "metadata": {
  "kernelspec": {
   "display_name": "Python 3",
   "language": "python",
   "name": "python3"
  },
  "language_info": {
   "codemirror_mode": {
    "name": "ipython",
    "version": 2
   },
   "file_extension": ".py",
   "mimetype": "text/x-python",
   "name": "python",
   "nbconvert_exporter": "python",
   "pygments_lexer": "ipython2",
   "version": "2.7.6"
  }
 },
 "nbformat": 4,
 "nbformat_minor": 5
}

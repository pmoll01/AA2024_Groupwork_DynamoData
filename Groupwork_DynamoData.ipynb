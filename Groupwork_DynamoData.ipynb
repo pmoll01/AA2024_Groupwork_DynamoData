{
 "cells": [
  {
   "cell_type": "markdown",
   "id": "392fddd5-c070-477a-94a8-900bfe00c87d",
   "metadata": {},
   "source": [
    "Jupiter Notebook for Groupwork in AA 20224"
   ]
  },
  {
   "cell_type": "code",
   "execution_count": null,
   "id": "15d77123-948d-4006-b65c-b4d7976c397f",
   "metadata": {},
   "outputs": [],
   "source": []
  }
 ],
 "metadata": {
  "kernelspec": {
   "display_name": "Python 3 (ipykernel)",
   "language": "python",
   "name": "python3"
  },
  "language_info": {
   "codemirror_mode": {
    "name": "ipython",
    "version": 3
   },
   "file_extension": ".py",
   "mimetype": "text/x-python",
   "name": "python",
   "nbconvert_exporter": "python",
   "pygments_lexer": "ipython3",
   "version": "3.12.7"
  }
 },
 "nbformat": 4,
 "nbformat_minor": 5
}

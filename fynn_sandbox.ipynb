{
 "cells": [
  {
   "metadata": {},
   "cell_type": "markdown",
   "source": "### 1 Import Libraries and Data",
   "id": "f070cf559b456002"
  },
  {
   "metadata": {
    "ExecuteTime": {
     "end_time": "2024-11-28T19:41:49.668511Z",
     "start_time": "2024-11-28T19:41:41.431890Z"
    }
   },
   "cell_type": "code",
   "source": [
    "import os\n",
    "import pandas as pd\n",
    "import seaborn as sns\n",
    "import matplotlib.pyplot as plt\n",
    "from IPython.display import display\n",
    "import numpy as np\n",
    "\n",
    "# import Dataframes with cleaned data independently of the operating system (mac or windows or linux) in a pandas dataframe\n",
    "charging_data = pd.read_pickle(os.path.join('Data', 'charging_data.pkl'))\n",
    "weather_data = pd.read_pickle(os.path.join('Data', 'weather_data.pkl'))"
   ],
   "id": "31bd32b0edd83a17",
   "outputs": [],
   "execution_count": 10
  },
  {
   "metadata": {
    "ExecuteTime": {
     "end_time": "2024-11-28T19:42:41.005953Z",
     "start_time": "2024-11-28T19:42:41.002676Z"
    }
   },
   "cell_type": "code",
   "source": "",
   "id": "1422f30eb78355be",
   "outputs": [],
   "execution_count": null
  }
 ],
 "metadata": {
  "kernelspec": {
   "display_name": "Python 3",
   "language": "python",
   "name": "python3"
  },
  "language_info": {
   "codemirror_mode": {
    "name": "ipython",
    "version": 2
   },
   "file_extension": ".py",
   "mimetype": "text/x-python",
   "name": "python",
   "nbconvert_exporter": "python",
   "pygments_lexer": "ipython2",
   "version": "2.7.6"
  }
 },
 "nbformat": 4,
 "nbformat_minor": 5
}

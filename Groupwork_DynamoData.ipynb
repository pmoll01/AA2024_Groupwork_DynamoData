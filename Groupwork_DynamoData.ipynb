{
 "cells": [
  {
   "cell_type": "markdown",
   "id": "392fddd5-c070-477a-94a8-900bfe00c87d",
   "metadata": {},
   "source": [
    "Jupiter Notebook for Groupwork in AA 20224"
   ]
  },
  {
   "cell_type": "markdown",
   "id": "22582ba9",
   "metadata": {},
   "source": [
    "Import Libaries"
   ]
  },
  {
   "cell_type": "code",
   "execution_count": null,
   "id": "15d77123-948d-4006-b65c-b4d7976c397f",
   "metadata": {},
   "outputs": [],
   "source": [
    "import pandas as pd\n",
    "import seaborn as sns\n",
    "import matplotlib.pyplot as plt"
   ]
  },
  {
   "cell_type": "markdown",
   "id": "cae054cb",
   "metadata": {},
   "source": [
    "Load and Explore Data:"
   ]
  },
  {
   "cell_type": "code",
   "execution_count": null,
   "id": "504f30ea",
   "metadata": {},
   "outputs": [],
   "source": [
    "#data_path = \".\\Data\\\"\n",
    "\n",
    "charging_data = pd.read_csv(r'Data\\charging_sessions.csv')\n",
    "weather_data = pd.read_csv(r'Data\\weather_burbank_airport.csv')\n",
    "\n",
    "#check column names, typers and null values\n",
    "print(charging_data.info())\n",
    "print(weather_data.info())\n",
    "\n",
    "# Check fist rows\n",
    "print(charging_data.head())\n",
    "print(weather_data.head())"
   ]
  },
  {
   "cell_type": "markdown",
   "id": "bf60d487",
   "metadata": {},
   "source": [
    "Check and handle missing Data"
   ]
  },
  {
   "cell_type": "code",
   "execution_count": null,
   "id": "64595883",
   "metadata": {},
   "outputs": [],
   "source": [
    "##Missing Data\n",
    "#Identify missing data\n",
    "charging_missing_data = charging_data.isnull().sum()\n",
    "print(charging_missing_data[charging_missing_data > 0])\n",
    "\n",
    "weather_missing_data = weather_data.isnull().sum()\n",
    "print(weather_missing_data[weather_missing_data > 0])\n",
    "\n",
    "#Handle missing vlues"
   ]
  },
  {
   "cell_type": "code",
   "execution_count": null,
   "id": "c29748b7",
   "metadata": {},
   "outputs": [],
   "source": [
    "##Errorous Data\n",
    "#Outliers\n",
    "#Inconsistancies\n",
    "\n",
    "##Final Review\n",
    "\n",
    "##data visualisation\n",
    "#sns.histplot(data=charging_data, x='connectionTime', bins=30, kde=True)\n",
    "#plt.title(\"Distribution of Charging Session Durations\")\n",
    "#plt.xlabel(\"Duration (minutes)\")\n",
    "#plt.ylabel(\"Frequency\")\n",
    "#plt.show()"
   ]
  }
 ],
 "metadata": {
  "kernelspec": {
   "display_name": "Python 3 (ipykernel)",
   "language": "python",
   "name": "python3"
  },
  "language_info": {
   "codemirror_mode": {
    "name": "ipython",
    "version": 3
   },
   "file_extension": ".py",
   "mimetype": "text/x-python",
   "name": "python",
   "nbconvert_exporter": "python",
   "pygments_lexer": "ipython3",
   "version": "3.12.7"
  }
 },
 "nbformat": 4,
 "nbformat_minor": 5
}

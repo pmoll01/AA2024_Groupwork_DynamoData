{
 "cells": [
  {
   "metadata": {},
   "cell_type": "markdown",
   "source": "# Jupyter Notebook for Task 1: Data Collection and Preparation",
   "id": "a87422230b25bdc4"
  },
  {
   "metadata": {},
   "cell_type": "markdown",
   "source": "#### Import Libraries",
   "id": "63e370ec16d5f221"
  },
  {
   "cell_type": "code",
   "id": "initial_id",
   "metadata": {
    "collapsed": true,
    "ExecuteTime": {
     "end_time": "2025-01-26T13:07:47.721802Z",
     "start_time": "2025-01-26T13:07:47.710739Z"
    }
   },
   "source": [
    "import os\n",
    "import pandas as pd\n",
    "import seaborn as sns\n",
    "import matplotlib.pyplot as plt\n",
    "from IPython.display import display\n",
    "import ast\n",
    "from datetime import timedelta\n",
    "import json\n",
    "import numpy as np\n",
    "import pickle"
   ],
   "outputs": [],
   "execution_count": 351
  },
  {
   "metadata": {},
   "cell_type": "markdown",
   "source": "## 1 Load and Explore Datasets",
   "id": "47e1c02ed51acb21"
  },
  {
   "metadata": {
    "ExecuteTime": {
     "end_time": "2025-01-26T13:07:48.048501Z",
     "start_time": "2025-01-26T13:07:47.773491Z"
    }
   },
   "cell_type": "code",
   "source": [
    "# Load csv-files independently of the operating system (mac or windows or linux) in a pandas dataframe\n",
    "charging_data = pd.read_csv(\n",
    "    os.path.join('Data', 'charging_sessions.csv'))  # Create a pandas dataframe from the charging_sessions.csv file\n",
    "weather_data = pd.read_csv(os.path.join('Data',\n",
    "                                        'weather_burbank_airport.csv'))  # Create a pandas dataframe from the weather_burbank_airport.csv file\n",
    "\n",
    "charging_data = charging_data.rename(columns={\n",
    "    'Unnamed: 0': 'counter'})  # The first column in the csv-file is unnamed and appears to be a csv-counter, we decided to rename this column"
   ],
   "id": "eabd58cc13467a3d",
   "outputs": [],
   "execution_count": 352
  },
  {
   "metadata": {
    "ExecuteTime": {
     "end_time": "2025-01-26T13:07:48.072194Z",
     "start_time": "2025-01-26T13:07:48.050853Z"
    }
   },
   "cell_type": "code",
   "source": [
    "# Get first information about the charging_data dataframe\n",
    "charging_data.info()"
   ],
   "id": "9dbeb353b152316c",
   "outputs": [
    {
     "name": "stdout",
     "output_type": "stream",
     "text": [
      "<class 'pandas.core.frame.DataFrame'>\n",
      "RangeIndex: 66450 entries, 0 to 66449\n",
      "Data columns (total 13 columns):\n",
      " #   Column            Non-Null Count  Dtype  \n",
      "---  ------            --------------  -----  \n",
      " 0   counter           66450 non-null  int64  \n",
      " 1   id                66450 non-null  object \n",
      " 2   connectionTime    66450 non-null  object \n",
      " 3   disconnectTime    66450 non-null  object \n",
      " 4   doneChargingTime  62362 non-null  object \n",
      " 5   kWhDelivered      66450 non-null  float64\n",
      " 6   sessionID         66450 non-null  object \n",
      " 7   siteID            66450 non-null  int64  \n",
      " 8   spaceID           66450 non-null  object \n",
      " 9   stationID         66450 non-null  object \n",
      " 10  timezone          66450 non-null  object \n",
      " 11  userID            49187 non-null  float64\n",
      " 12  userInputs        49187 non-null  object \n",
      "dtypes: float64(2), int64(2), object(9)\n",
      "memory usage: 6.6+ MB\n"
     ]
    }
   ],
   "execution_count": 353
  },
  {
   "metadata": {
    "ExecuteTime": {
     "end_time": "2025-01-26T13:07:48.081462Z",
     "start_time": "2025-01-26T13:07:48.076072Z"
    }
   },
   "cell_type": "code",
   "source": [
    "# Get first information about the weather_data dataframe\n",
    "weather_data.info()"
   ],
   "id": "1f247de3617b29a7",
   "outputs": [
    {
     "name": "stdout",
     "output_type": "stream",
     "text": [
      "<class 'pandas.core.frame.DataFrame'>\n",
      "RangeIndex: 29244 entries, 0 to 29243\n",
      "Data columns (total 9 columns):\n",
      " #   Column                   Non-Null Count  Dtype  \n",
      "---  ------                   --------------  -----  \n",
      " 0   city                     29244 non-null  object \n",
      " 1   timestamp                29244 non-null  object \n",
      " 2   temperature              29219 non-null  float64\n",
      " 3   cloud_cover              29224 non-null  float64\n",
      " 4   cloud_cover_description  29224 non-null  object \n",
      " 5   pressure                 29236 non-null  float64\n",
      " 6   windspeed                29158 non-null  float64\n",
      " 7   precipitation            29244 non-null  float64\n",
      " 8   felt_temperature         29218 non-null  float64\n",
      "dtypes: float64(6), object(3)\n",
      "memory usage: 2.0+ MB\n"
     ]
    }
   ],
   "execution_count": 354
  },
  {
   "metadata": {
    "ExecuteTime": {
     "end_time": "2025-01-26T13:07:48.134763Z",
     "start_time": "2025-01-26T13:07:48.128284Z"
    }
   },
   "cell_type": "code",
   "source": [
    "# How do the charging_data rows look like?\n",
    "charging_data.head()"
   ],
   "id": "2e14640de34ffb20",
   "outputs": [
    {
     "data": {
      "text/plain": [
       "   counter                        id             connectionTime  \\\n",
       "0        0  5e23b149f9af8b5fe4b973cf  2020-01-02 13:08:54+00:00   \n",
       "1        1  5e23b149f9af8b5fe4b973d0  2020-01-02 13:36:50+00:00   \n",
       "2        2  5e23b149f9af8b5fe4b973d1  2020-01-02 13:56:35+00:00   \n",
       "3        3  5e23b149f9af8b5fe4b973d2  2020-01-02 13:59:58+00:00   \n",
       "4        4  5e23b149f9af8b5fe4b973d3  2020-01-02 14:00:01+00:00   \n",
       "\n",
       "              disconnectTime           doneChargingTime  kWhDelivered  \\\n",
       "0  2020-01-02 19:11:15+00:00  2020-01-02 17:31:35+00:00        25.016   \n",
       "1  2020-01-02 22:38:21+00:00  2020-01-02 20:18:05+00:00        33.097   \n",
       "2  2020-01-03 00:39:22+00:00  2020-01-02 16:35:06+00:00         6.521   \n",
       "3  2020-01-02 16:38:39+00:00  2020-01-02 15:18:45+00:00         2.355   \n",
       "4  2020-01-02 22:08:40+00:00  2020-01-02 18:17:30+00:00        13.375   \n",
       "\n",
       "                                sessionID  siteID  spaceID    stationID  \\\n",
       "0  1_1_179_810_2020-01-02 13:08:53.870034       1  AG-3F30  1-1-179-810   \n",
       "1  1_1_193_825_2020-01-02 13:36:49.599853       1  AG-1F01  1-1-193-825   \n",
       "2  1_1_193_829_2020-01-02 13:56:35.214993       1  AG-1F03  1-1-193-829   \n",
       "3  1_1_193_820_2020-01-02 13:59:58.309319       1  AG-1F04  1-1-193-820   \n",
       "4  1_1_193_819_2020-01-02 14:00:00.779967       1  AG-1F06  1-1-193-819   \n",
       "\n",
       "              timezone  userID  \\\n",
       "0  America/Los_Angeles   194.0   \n",
       "1  America/Los_Angeles  4275.0   \n",
       "2  America/Los_Angeles   344.0   \n",
       "3  America/Los_Angeles  1117.0   \n",
       "4  America/Los_Angeles   334.0   \n",
       "\n",
       "                                          userInputs  \n",
       "0  [{'WhPerMile': 250, 'kWhRequested': 25.0, 'mil...  \n",
       "1  [{'WhPerMile': 280, 'kWhRequested': 70.0, 'mil...  \n",
       "2  [{'WhPerMile': 400, 'kWhRequested': 8.0, 'mile...  \n",
       "3  [{'WhPerMile': 400, 'kWhRequested': 8.0, 'mile...  \n",
       "4  [{'WhPerMile': 400, 'kWhRequested': 16.0, 'mil...  "
      ],
      "text/html": [
       "<div>\n",
       "<style scoped>\n",
       "    .dataframe tbody tr th:only-of-type {\n",
       "        vertical-align: middle;\n",
       "    }\n",
       "\n",
       "    .dataframe tbody tr th {\n",
       "        vertical-align: top;\n",
       "    }\n",
       "\n",
       "    .dataframe thead th {\n",
       "        text-align: right;\n",
       "    }\n",
       "</style>\n",
       "<table border=\"1\" class=\"dataframe\">\n",
       "  <thead>\n",
       "    <tr style=\"text-align: right;\">\n",
       "      <th></th>\n",
       "      <th>counter</th>\n",
       "      <th>id</th>\n",
       "      <th>connectionTime</th>\n",
       "      <th>disconnectTime</th>\n",
       "      <th>doneChargingTime</th>\n",
       "      <th>kWhDelivered</th>\n",
       "      <th>sessionID</th>\n",
       "      <th>siteID</th>\n",
       "      <th>spaceID</th>\n",
       "      <th>stationID</th>\n",
       "      <th>timezone</th>\n",
       "      <th>userID</th>\n",
       "      <th>userInputs</th>\n",
       "    </tr>\n",
       "  </thead>\n",
       "  <tbody>\n",
       "    <tr>\n",
       "      <th>0</th>\n",
       "      <td>0</td>\n",
       "      <td>5e23b149f9af8b5fe4b973cf</td>\n",
       "      <td>2020-01-02 13:08:54+00:00</td>\n",
       "      <td>2020-01-02 19:11:15+00:00</td>\n",
       "      <td>2020-01-02 17:31:35+00:00</td>\n",
       "      <td>25.016</td>\n",
       "      <td>1_1_179_810_2020-01-02 13:08:53.870034</td>\n",
       "      <td>1</td>\n",
       "      <td>AG-3F30</td>\n",
       "      <td>1-1-179-810</td>\n",
       "      <td>America/Los_Angeles</td>\n",
       "      <td>194.0</td>\n",
       "      <td>[{'WhPerMile': 250, 'kWhRequested': 25.0, 'mil...</td>\n",
       "    </tr>\n",
       "    <tr>\n",
       "      <th>1</th>\n",
       "      <td>1</td>\n",
       "      <td>5e23b149f9af8b5fe4b973d0</td>\n",
       "      <td>2020-01-02 13:36:50+00:00</td>\n",
       "      <td>2020-01-02 22:38:21+00:00</td>\n",
       "      <td>2020-01-02 20:18:05+00:00</td>\n",
       "      <td>33.097</td>\n",
       "      <td>1_1_193_825_2020-01-02 13:36:49.599853</td>\n",
       "      <td>1</td>\n",
       "      <td>AG-1F01</td>\n",
       "      <td>1-1-193-825</td>\n",
       "      <td>America/Los_Angeles</td>\n",
       "      <td>4275.0</td>\n",
       "      <td>[{'WhPerMile': 280, 'kWhRequested': 70.0, 'mil...</td>\n",
       "    </tr>\n",
       "    <tr>\n",
       "      <th>2</th>\n",
       "      <td>2</td>\n",
       "      <td>5e23b149f9af8b5fe4b973d1</td>\n",
       "      <td>2020-01-02 13:56:35+00:00</td>\n",
       "      <td>2020-01-03 00:39:22+00:00</td>\n",
       "      <td>2020-01-02 16:35:06+00:00</td>\n",
       "      <td>6.521</td>\n",
       "      <td>1_1_193_829_2020-01-02 13:56:35.214993</td>\n",
       "      <td>1</td>\n",
       "      <td>AG-1F03</td>\n",
       "      <td>1-1-193-829</td>\n",
       "      <td>America/Los_Angeles</td>\n",
       "      <td>344.0</td>\n",
       "      <td>[{'WhPerMile': 400, 'kWhRequested': 8.0, 'mile...</td>\n",
       "    </tr>\n",
       "    <tr>\n",
       "      <th>3</th>\n",
       "      <td>3</td>\n",
       "      <td>5e23b149f9af8b5fe4b973d2</td>\n",
       "      <td>2020-01-02 13:59:58+00:00</td>\n",
       "      <td>2020-01-02 16:38:39+00:00</td>\n",
       "      <td>2020-01-02 15:18:45+00:00</td>\n",
       "      <td>2.355</td>\n",
       "      <td>1_1_193_820_2020-01-02 13:59:58.309319</td>\n",
       "      <td>1</td>\n",
       "      <td>AG-1F04</td>\n",
       "      <td>1-1-193-820</td>\n",
       "      <td>America/Los_Angeles</td>\n",
       "      <td>1117.0</td>\n",
       "      <td>[{'WhPerMile': 400, 'kWhRequested': 8.0, 'mile...</td>\n",
       "    </tr>\n",
       "    <tr>\n",
       "      <th>4</th>\n",
       "      <td>4</td>\n",
       "      <td>5e23b149f9af8b5fe4b973d3</td>\n",
       "      <td>2020-01-02 14:00:01+00:00</td>\n",
       "      <td>2020-01-02 22:08:40+00:00</td>\n",
       "      <td>2020-01-02 18:17:30+00:00</td>\n",
       "      <td>13.375</td>\n",
       "      <td>1_1_193_819_2020-01-02 14:00:00.779967</td>\n",
       "      <td>1</td>\n",
       "      <td>AG-1F06</td>\n",
       "      <td>1-1-193-819</td>\n",
       "      <td>America/Los_Angeles</td>\n",
       "      <td>334.0</td>\n",
       "      <td>[{'WhPerMile': 400, 'kWhRequested': 16.0, 'mil...</td>\n",
       "    </tr>\n",
       "  </tbody>\n",
       "</table>\n",
       "</div>"
      ]
     },
     "execution_count": 355,
     "metadata": {},
     "output_type": "execute_result"
    }
   ],
   "execution_count": 355
  },
  {
   "metadata": {
    "ExecuteTime": {
     "end_time": "2025-01-26T13:07:48.168536Z",
     "start_time": "2025-01-26T13:07:48.164049Z"
    }
   },
   "cell_type": "code",
   "source": [
    "# How do the weather_data rows look like?\n",
    "weather_data.head()"
   ],
   "id": "afa5c4b09304fc43",
   "outputs": [
    {
     "data": {
      "text/plain": [
       "      city            timestamp  temperature  cloud_cover  \\\n",
       "0  Burbank  2018-01-01 08:53:00          9.0         33.0   \n",
       "1  Burbank  2018-01-01 09:53:00          9.0         33.0   \n",
       "2  Burbank  2018-01-01 10:53:00          9.0         21.0   \n",
       "3  Burbank  2018-01-01 11:53:00          9.0         29.0   \n",
       "4  Burbank  2018-01-01 12:53:00          8.0         33.0   \n",
       "\n",
       "  cloud_cover_description  pressure  windspeed  precipitation  \\\n",
       "0                    Fair    991.75        9.0            0.0   \n",
       "1                    Fair    992.08        0.0            0.0   \n",
       "2                    Haze    992.08        0.0            0.0   \n",
       "3           Partly Cloudy    992.08        0.0            0.0   \n",
       "4                    Fair    992.08        0.0            0.0   \n",
       "\n",
       "   felt_temperature  \n",
       "0               8.0  \n",
       "1               9.0  \n",
       "2               9.0  \n",
       "3               9.0  \n",
       "4               8.0  "
      ],
      "text/html": [
       "<div>\n",
       "<style scoped>\n",
       "    .dataframe tbody tr th:only-of-type {\n",
       "        vertical-align: middle;\n",
       "    }\n",
       "\n",
       "    .dataframe tbody tr th {\n",
       "        vertical-align: top;\n",
       "    }\n",
       "\n",
       "    .dataframe thead th {\n",
       "        text-align: right;\n",
       "    }\n",
       "</style>\n",
       "<table border=\"1\" class=\"dataframe\">\n",
       "  <thead>\n",
       "    <tr style=\"text-align: right;\">\n",
       "      <th></th>\n",
       "      <th>city</th>\n",
       "      <th>timestamp</th>\n",
       "      <th>temperature</th>\n",
       "      <th>cloud_cover</th>\n",
       "      <th>cloud_cover_description</th>\n",
       "      <th>pressure</th>\n",
       "      <th>windspeed</th>\n",
       "      <th>precipitation</th>\n",
       "      <th>felt_temperature</th>\n",
       "    </tr>\n",
       "  </thead>\n",
       "  <tbody>\n",
       "    <tr>\n",
       "      <th>0</th>\n",
       "      <td>Burbank</td>\n",
       "      <td>2018-01-01 08:53:00</td>\n",
       "      <td>9.0</td>\n",
       "      <td>33.0</td>\n",
       "      <td>Fair</td>\n",
       "      <td>991.75</td>\n",
       "      <td>9.0</td>\n",
       "      <td>0.0</td>\n",
       "      <td>8.0</td>\n",
       "    </tr>\n",
       "    <tr>\n",
       "      <th>1</th>\n",
       "      <td>Burbank</td>\n",
       "      <td>2018-01-01 09:53:00</td>\n",
       "      <td>9.0</td>\n",
       "      <td>33.0</td>\n",
       "      <td>Fair</td>\n",
       "      <td>992.08</td>\n",
       "      <td>0.0</td>\n",
       "      <td>0.0</td>\n",
       "      <td>9.0</td>\n",
       "    </tr>\n",
       "    <tr>\n",
       "      <th>2</th>\n",
       "      <td>Burbank</td>\n",
       "      <td>2018-01-01 10:53:00</td>\n",
       "      <td>9.0</td>\n",
       "      <td>21.0</td>\n",
       "      <td>Haze</td>\n",
       "      <td>992.08</td>\n",
       "      <td>0.0</td>\n",
       "      <td>0.0</td>\n",
       "      <td>9.0</td>\n",
       "    </tr>\n",
       "    <tr>\n",
       "      <th>3</th>\n",
       "      <td>Burbank</td>\n",
       "      <td>2018-01-01 11:53:00</td>\n",
       "      <td>9.0</td>\n",
       "      <td>29.0</td>\n",
       "      <td>Partly Cloudy</td>\n",
       "      <td>992.08</td>\n",
       "      <td>0.0</td>\n",
       "      <td>0.0</td>\n",
       "      <td>9.0</td>\n",
       "    </tr>\n",
       "    <tr>\n",
       "      <th>4</th>\n",
       "      <td>Burbank</td>\n",
       "      <td>2018-01-01 12:53:00</td>\n",
       "      <td>8.0</td>\n",
       "      <td>33.0</td>\n",
       "      <td>Fair</td>\n",
       "      <td>992.08</td>\n",
       "      <td>0.0</td>\n",
       "      <td>0.0</td>\n",
       "      <td>8.0</td>\n",
       "    </tr>\n",
       "  </tbody>\n",
       "</table>\n",
       "</div>"
      ]
     },
     "execution_count": 356,
     "metadata": {},
     "output_type": "execute_result"
    }
   ],
   "execution_count": 356
  },
  {
   "metadata": {
    "ExecuteTime": {
     "end_time": "2025-01-26T13:07:48.242946Z",
     "start_time": "2025-01-26T13:07:48.232131Z"
    }
   },
   "cell_type": "code",
   "source": [
    "# .describe() function only analyses numerical columns and gives the count, mean, standard deviation, min, max and the 3 quartiles (25%, 50%, 75%)\n",
    "charging_data.describe()"
   ],
   "id": "68435b0c20d4bef",
   "outputs": [
    {
     "data": {
      "text/plain": [
       "            counter  kWhDelivered        siteID        userID\n",
       "count  66450.000000  66450.000000  66450.000000  49187.000000\n",
       "mean    4726.102062     11.787916      1.472656   1800.494582\n",
       "std     3568.025394     10.314789      0.499256   2617.548614\n",
       "min        0.000000      0.501000      1.000000      1.000000\n",
       "25%     1845.000000      5.097000      1.000000    431.000000\n",
       "50%     3960.000000      9.140000      1.000000    818.000000\n",
       "75%     7027.000000     14.183000      2.000000   1805.000000\n",
       "max    15291.000000    108.797242      2.000000  19923.000000"
      ],
      "text/html": [
       "<div>\n",
       "<style scoped>\n",
       "    .dataframe tbody tr th:only-of-type {\n",
       "        vertical-align: middle;\n",
       "    }\n",
       "\n",
       "    .dataframe tbody tr th {\n",
       "        vertical-align: top;\n",
       "    }\n",
       "\n",
       "    .dataframe thead th {\n",
       "        text-align: right;\n",
       "    }\n",
       "</style>\n",
       "<table border=\"1\" class=\"dataframe\">\n",
       "  <thead>\n",
       "    <tr style=\"text-align: right;\">\n",
       "      <th></th>\n",
       "      <th>counter</th>\n",
       "      <th>kWhDelivered</th>\n",
       "      <th>siteID</th>\n",
       "      <th>userID</th>\n",
       "    </tr>\n",
       "  </thead>\n",
       "  <tbody>\n",
       "    <tr>\n",
       "      <th>count</th>\n",
       "      <td>66450.000000</td>\n",
       "      <td>66450.000000</td>\n",
       "      <td>66450.000000</td>\n",
       "      <td>49187.000000</td>\n",
       "    </tr>\n",
       "    <tr>\n",
       "      <th>mean</th>\n",
       "      <td>4726.102062</td>\n",
       "      <td>11.787916</td>\n",
       "      <td>1.472656</td>\n",
       "      <td>1800.494582</td>\n",
       "    </tr>\n",
       "    <tr>\n",
       "      <th>std</th>\n",
       "      <td>3568.025394</td>\n",
       "      <td>10.314789</td>\n",
       "      <td>0.499256</td>\n",
       "      <td>2617.548614</td>\n",
       "    </tr>\n",
       "    <tr>\n",
       "      <th>min</th>\n",
       "      <td>0.000000</td>\n",
       "      <td>0.501000</td>\n",
       "      <td>1.000000</td>\n",
       "      <td>1.000000</td>\n",
       "    </tr>\n",
       "    <tr>\n",
       "      <th>25%</th>\n",
       "      <td>1845.000000</td>\n",
       "      <td>5.097000</td>\n",
       "      <td>1.000000</td>\n",
       "      <td>431.000000</td>\n",
       "    </tr>\n",
       "    <tr>\n",
       "      <th>50%</th>\n",
       "      <td>3960.000000</td>\n",
       "      <td>9.140000</td>\n",
       "      <td>1.000000</td>\n",
       "      <td>818.000000</td>\n",
       "    </tr>\n",
       "    <tr>\n",
       "      <th>75%</th>\n",
       "      <td>7027.000000</td>\n",
       "      <td>14.183000</td>\n",
       "      <td>2.000000</td>\n",
       "      <td>1805.000000</td>\n",
       "    </tr>\n",
       "    <tr>\n",
       "      <th>max</th>\n",
       "      <td>15291.000000</td>\n",
       "      <td>108.797242</td>\n",
       "      <td>2.000000</td>\n",
       "      <td>19923.000000</td>\n",
       "    </tr>\n",
       "  </tbody>\n",
       "</table>\n",
       "</div>"
      ]
     },
     "execution_count": 357,
     "metadata": {},
     "output_type": "execute_result"
    }
   ],
   "execution_count": 357
  },
  {
   "metadata": {
    "ExecuteTime": {
     "end_time": "2025-01-26T13:07:48.430777Z",
     "start_time": "2025-01-26T13:07:48.421896Z"
    }
   },
   "cell_type": "code",
   "source": [
    "# .describe() function only analyses numerical columns and gives the count, mean, standard deviation, min, max and the 3 quartiles (25%, 50%, 75%)\n",
    "weather_data.describe()"
   ],
   "id": "285f5824d67274d9",
   "outputs": [
    {
     "data": {
      "text/plain": [
       "        temperature   cloud_cover      pressure     windspeed  precipitation  \\\n",
       "count  29219.000000  29224.000000  29236.000000  29158.000000   29244.000000   \n",
       "mean      17.885622     30.107993    986.879400      8.566568       0.059360   \n",
       "std        6.454604      5.400388      3.607065      6.699889       0.471682   \n",
       "min        2.000000      4.000000    971.000000      0.000000       0.000000   \n",
       "25%       13.000000     26.000000    984.500000      6.000000       0.000000   \n",
       "50%       17.000000     33.000000    986.480000      7.000000       0.000000   \n",
       "75%       22.000000     34.000000    989.110000     13.000000       0.000000   \n",
       "max       46.000000     47.000000    999.650000     57.000000      18.540000   \n",
       "\n",
       "       felt_temperature  \n",
       "count      29218.000000  \n",
       "mean          17.731433  \n",
       "std            6.321100  \n",
       "min            0.000000  \n",
       "25%           13.000000  \n",
       "50%           17.000000  \n",
       "75%           22.000000  \n",
       "max           42.000000  "
      ],
      "text/html": [
       "<div>\n",
       "<style scoped>\n",
       "    .dataframe tbody tr th:only-of-type {\n",
       "        vertical-align: middle;\n",
       "    }\n",
       "\n",
       "    .dataframe tbody tr th {\n",
       "        vertical-align: top;\n",
       "    }\n",
       "\n",
       "    .dataframe thead th {\n",
       "        text-align: right;\n",
       "    }\n",
       "</style>\n",
       "<table border=\"1\" class=\"dataframe\">\n",
       "  <thead>\n",
       "    <tr style=\"text-align: right;\">\n",
       "      <th></th>\n",
       "      <th>temperature</th>\n",
       "      <th>cloud_cover</th>\n",
       "      <th>pressure</th>\n",
       "      <th>windspeed</th>\n",
       "      <th>precipitation</th>\n",
       "      <th>felt_temperature</th>\n",
       "    </tr>\n",
       "  </thead>\n",
       "  <tbody>\n",
       "    <tr>\n",
       "      <th>count</th>\n",
       "      <td>29219.000000</td>\n",
       "      <td>29224.000000</td>\n",
       "      <td>29236.000000</td>\n",
       "      <td>29158.000000</td>\n",
       "      <td>29244.000000</td>\n",
       "      <td>29218.000000</td>\n",
       "    </tr>\n",
       "    <tr>\n",
       "      <th>mean</th>\n",
       "      <td>17.885622</td>\n",
       "      <td>30.107993</td>\n",
       "      <td>986.879400</td>\n",
       "      <td>8.566568</td>\n",
       "      <td>0.059360</td>\n",
       "      <td>17.731433</td>\n",
       "    </tr>\n",
       "    <tr>\n",
       "      <th>std</th>\n",
       "      <td>6.454604</td>\n",
       "      <td>5.400388</td>\n",
       "      <td>3.607065</td>\n",
       "      <td>6.699889</td>\n",
       "      <td>0.471682</td>\n",
       "      <td>6.321100</td>\n",
       "    </tr>\n",
       "    <tr>\n",
       "      <th>min</th>\n",
       "      <td>2.000000</td>\n",
       "      <td>4.000000</td>\n",
       "      <td>971.000000</td>\n",
       "      <td>0.000000</td>\n",
       "      <td>0.000000</td>\n",
       "      <td>0.000000</td>\n",
       "    </tr>\n",
       "    <tr>\n",
       "      <th>25%</th>\n",
       "      <td>13.000000</td>\n",
       "      <td>26.000000</td>\n",
       "      <td>984.500000</td>\n",
       "      <td>6.000000</td>\n",
       "      <td>0.000000</td>\n",
       "      <td>13.000000</td>\n",
       "    </tr>\n",
       "    <tr>\n",
       "      <th>50%</th>\n",
       "      <td>17.000000</td>\n",
       "      <td>33.000000</td>\n",
       "      <td>986.480000</td>\n",
       "      <td>7.000000</td>\n",
       "      <td>0.000000</td>\n",
       "      <td>17.000000</td>\n",
       "    </tr>\n",
       "    <tr>\n",
       "      <th>75%</th>\n",
       "      <td>22.000000</td>\n",
       "      <td>34.000000</td>\n",
       "      <td>989.110000</td>\n",
       "      <td>13.000000</td>\n",
       "      <td>0.000000</td>\n",
       "      <td>22.000000</td>\n",
       "    </tr>\n",
       "    <tr>\n",
       "      <th>max</th>\n",
       "      <td>46.000000</td>\n",
       "      <td>47.000000</td>\n",
       "      <td>999.650000</td>\n",
       "      <td>57.000000</td>\n",
       "      <td>18.540000</td>\n",
       "      <td>42.000000</td>\n",
       "    </tr>\n",
       "  </tbody>\n",
       "</table>\n",
       "</div>"
      ]
     },
     "execution_count": 358,
     "metadata": {},
     "output_type": "execute_result"
    }
   ],
   "execution_count": 358
  },
  {
   "metadata": {},
   "cell_type": "markdown",
   "source": "***",
   "id": "ad7042d31a932af8"
  },
  {
   "metadata": {},
   "cell_type": "markdown",
   "source": [
    "## 2 Data Preparation\n",
    "\n",
    "The goal of data preparation is the creation of a clean, reliable and analysis-ready charging and weather dataset. We begin our data preparation by plotting the given data for a first visual exploration and then proceed with investigating potential problems and implement suitable solutions."
   ],
   "id": "c8ab574af8af487a"
  },
  {
   "metadata": {
    "ExecuteTime": {
     "end_time": "2025-01-26T13:07:48.761270Z",
     "start_time": "2025-01-26T13:07:48.597355Z"
    }
   },
   "cell_type": "code",
   "source": [
    "# Extract date for grouping\n",
    "charging_data['connectionTime'] = pd.to_datetime(charging_data['connectionTime'])\n",
    "charging_data['connection_date'] = charging_data['connectionTime'].dt.date\n",
    "\n",
    "# Aggregate charging sessions per day\n",
    "charging_sessions_per_day = charging_data.groupby(['connection_date', 'siteID']).size().unstack(fill_value=0)\n",
    "\n",
    "# Plot charging sessions over time\n",
    "plt.figure(figsize=(8, 4))\n",
    "for siteID in charging_sessions_per_day.columns:\n",
    "    charging_sessions_per_day[siteID].plot(label=f'Site {siteID}', alpha=0.7)\n",
    "plt.title('Charging Sessions Over Time')\n",
    "plt.xlabel('Date')\n",
    "plt.ylabel('Number of Sessions')\n",
    "plt.legend()\n",
    "plt.grid(axis='y', linestyle='--', alpha=0.7)\n",
    "plt.show()"
   ],
   "id": "9b5a3ae172eacae4",
   "outputs": [
    {
     "data": {
      "text/plain": [
       "<Figure size 800x400 with 1 Axes>"
      ],
      "image/png": "[encoded data removed]"
     },
     "metadata": {},
     "output_type": "display_data"
    }
   ],
   "execution_count": 359
  },
  {
   "metadata": {},
   "cell_type": "markdown",
   "source": [
    "First visual observations of the charging data: </br>\n",
    "- data records of site 1 start at approx. September 2018\n",
    "- data records of site 2 start at approx. May 2018 (about 4 months earlier than site 1)\n",
    "- timeframe between approx. August 2020 and December 2020 missing\n",
    "- significant decrease in charging sessions around March 2020, coinciding with COVID-19 related lockdowns.\n",
    "- unusually high volume of charging sessions around July 2019"
   ],
   "id": "4064716f3bdade9f"
  },
  {
   "metadata": {
    "ExecuteTime": {
     "end_time": "2025-01-26T13:07:48.869645Z",
     "start_time": "2025-01-26T13:07:48.796532Z"
    }
   },
   "cell_type": "code",
   "source": [
    "# Plot average temperature over time\n",
    "weather_data['timestamp'] = pd.to_datetime(weather_data['timestamp'])\n",
    "weather_data['weather_date'] = weather_data['timestamp'].dt.date\n",
    "\n",
    "average_temperature_per_day = weather_data.groupby('weather_date')['temperature'].mean()\n",
    "\n",
    "plt.figure(figsize=(8, 4))\n",
    "average_temperature_per_day.plot(label='Average Temperature (°C)', color='orange')\n",
    "plt.title('Average Temperature Over Time')\n",
    "plt.xlabel('Date')\n",
    "plt.ylabel('Temperature (°C)')\n",
    "plt.legend()\n",
    "plt.grid(axis='y', linestyle='--')\n",
    "plt.show()"
   ],
   "id": "788c2689c4f6dba2",
   "outputs": [
    {
     "data": {
      "text/plain": [
       "<Figure size 800x400 with 1 Axes>"
      ],
      "image/png": "[encoded data removed]"
     },
     "metadata": {},
     "output_type": "display_data"
    }
   ],
   "execution_count": 360
  },
  {
   "metadata": {},
   "cell_type": "markdown",
   "source": [
    "First visual observations of the weather data: </br>\n",
    "- weather records start in January 2018 (not a problem as charging data starts in May 2018)\n",
    "- however: the weather data ends in January 2021 although charging data continues until September 2021\n",
    "- no further abnormalities visible"
   ],
   "id": "1b08adec5ecc19d3"
  },
  {
   "metadata": {},
   "cell_type": "markdown",
   "source": [
    "### 2.1 Transform Datatypes\n",
    "\n",
    "After out first visual overview we format the datatypes of the different columns to those described in the Team Assignment or to those that make sense."
   ],
   "id": "6ec045552a4da351"
  },
  {
   "metadata": {},
   "cell_type": "markdown",
   "source": "#### 2.1.1 Charging Data",
   "id": "48e46f5d9eb92b9c"
  },
  {
   "metadata": {
    "ExecuteTime": {
     "end_time": "2025-01-26T13:07:49.031444Z",
     "start_time": "2025-01-26T13:07:48.915190Z"
    }
   },
   "cell_type": "code",
   "source": [
    "charging_data['connectionTime'] = pd.to_datetime(charging_data['connectionTime'])\n",
    "charging_data['disconnectTime'] = pd.to_datetime(charging_data['disconnectTime'])\n",
    "charging_data['doneChargingTime'] = pd.to_datetime(charging_data['doneChargingTime'])\n",
    "charging_data['siteID'] = charging_data['siteID'].astype(str)\n",
    "# We will transform the datatype of column userID and userInputs later, when handling missing data. This has some compatibility reasons.\n",
    "\n",
    "# Team Assignment PDF: \"All datetimes are in UTC (GMT) see timezone field for the correct timezone of the site.\"\n",
    "# -> Therefore we have to convert the connectionTime, disconnectTime and doneChargingTime to timezone PST (pacific standard time) as the sites are located in Los Angeles.\n",
    "charging_data['connectionTime'] = charging_data['connectionTime'].dt.tz_convert(tz='America/Los_Angeles')\n",
    "charging_data['disconnectTime'] = charging_data['disconnectTime'].dt.tz_convert(tz='America/Los_Angeles')\n",
    "charging_data['doneChargingTime'] = charging_data['doneChargingTime'].dt.tz_convert(tz='America/Los_Angeles')\n",
    "charging_data.info()"
   ],
   "id": "6e057b8b76378c87",
   "outputs": [
    {
     "name": "stdout",
     "output_type": "stream",
     "text": [
      "<class 'pandas.core.frame.DataFrame'>\n",
      "RangeIndex: 66450 entries, 0 to 66449\n",
      "Data columns (total 14 columns):\n",
      " #   Column            Non-Null Count  Dtype                              \n",
      "---  ------            --------------  -----                              \n",
      " 0   counter           66450 non-null  int64                              \n",
      " 1   id                66450 non-null  object                             \n",
      " 2   connectionTime    66450 non-null  datetime64[ns, America/Los_Angeles]\n",
      " 3   disconnectTime    66450 non-null  datetime64[ns, America/Los_Angeles]\n",
      " 4   doneChargingTime  62362 non-null  datetime64[ns, America/Los_Angeles]\n",
      " 5   kWhDelivered      66450 non-null  float64                            \n",
      " 6   sessionID         66450 non-null  object                             \n",
      " 7   siteID            66450 non-null  object                             \n",
      " 8   spaceID           66450 non-null  object                             \n",
      " 9   stationID         66450 non-null  object                             \n",
      " 10  timezone          66450 non-null  object                             \n",
      " 11  userID            49187 non-null  float64                            \n",
      " 12  userInputs        49187 non-null  object                             \n",
      " 13  connection_date   66450 non-null  object                             \n",
      "dtypes: datetime64[ns, America/Los_Angeles](3), float64(2), int64(1), object(8)\n",
      "memory usage: 7.1+ MB\n"
     ]
    }
   ],
   "execution_count": 361
  },
  {
   "metadata": {
    "ExecuteTime": {
     "end_time": "2025-01-26T13:07:49.095929Z",
     "start_time": "2025-01-26T13:07:49.088518Z"
    }
   },
   "cell_type": "code",
   "source": [
    "# The offset of the columns connectionTime, disconnectTime and doneChargingTime is now -08:00 or -07:00 (summer) which is correct for timezone PST (Los Angeles)\n",
    "charging_data.head()"
   ],
   "id": "3585e951107eab00",
   "outputs": [
    {
     "data": {
      "text/plain": [
       "   counter                        id            connectionTime  \\\n",
       "0        0  5e23b149f9af8b5fe4b973cf 2020-01-02 05:08:54-08:00   \n",
       "1        1  5e23b149f9af8b5fe4b973d0 2020-01-02 05:36:50-08:00   \n",
       "2        2  5e23b149f9af8b5fe4b973d1 2020-01-02 05:56:35-08:00   \n",
       "3        3  5e23b149f9af8b5fe4b973d2 2020-01-02 05:59:58-08:00   \n",
       "4        4  5e23b149f9af8b5fe4b973d3 2020-01-02 06:00:01-08:00   \n",
       "\n",
       "             disconnectTime          doneChargingTime  kWhDelivered  \\\n",
       "0 2020-01-02 11:11:15-08:00 2020-01-02 09:31:35-08:00        25.016   \n",
       "1 2020-01-02 14:38:21-08:00 2020-01-02 12:18:05-08:00        33.097   \n",
       "2 2020-01-02 16:39:22-08:00 2020-01-02 08:35:06-08:00         6.521   \n",
       "3 2020-01-02 08:38:39-08:00 2020-01-02 07:18:45-08:00         2.355   \n",
       "4 2020-01-02 14:08:40-08:00 2020-01-02 10:17:30-08:00        13.375   \n",
       "\n",
       "                                sessionID siteID  spaceID    stationID  \\\n",
       "0  1_1_179_810_2020-01-02 13:08:53.870034      1  AG-3F30  1-1-179-810   \n",
       "1  1_1_193_825_2020-01-02 13:36:49.599853      1  AG-1F01  1-1-193-825   \n",
       "2  1_1_193_829_2020-01-02 13:56:35.214993      1  AG-1F03  1-1-193-829   \n",
       "3  1_1_193_820_2020-01-02 13:59:58.309319      1  AG-1F04  1-1-193-820   \n",
       "4  1_1_193_819_2020-01-02 14:00:00.779967      1  AG-1F06  1-1-193-819   \n",
       "\n",
       "              timezone  userID  \\\n",
       "0  America/Los_Angeles   194.0   \n",
       "1  America/Los_Angeles  4275.0   \n",
       "2  America/Los_Angeles   344.0   \n",
       "3  America/Los_Angeles  1117.0   \n",
       "4  America/Los_Angeles   334.0   \n",
       "\n",
       "                                          userInputs connection_date  \n",
       "0  [{'WhPerMile': 250, 'kWhRequested': 25.0, 'mil...      2020-01-02  \n",
       "1  [{'WhPerMile': 280, 'kWhRequested': 70.0, 'mil...      2020-01-02  \n",
       "2  [{'WhPerMile': 400, 'kWhRequested': 8.0, 'mile...      2020-01-02  \n",
       "3  [{'WhPerMile': 400, 'kWhRequested': 8.0, 'mile...      2020-01-02  \n",
       "4  [{'WhPerMile': 400, 'kWhRequested': 16.0, 'mil...      2020-01-02  "
      ],
      "text/html": [
       "<div>\n",
       "<style scoped>\n",
       "    .dataframe tbody tr th:only-of-type {\n",
       "        vertical-align: middle;\n",
       "    }\n",
       "\n",
       "    .dataframe tbody tr th {\n",
       "        vertical-align: top;\n",
       "    }\n",
       "\n",
       "    .dataframe thead th {\n",
       "        text-align: right;\n",
       "    }\n",
       "</style>\n",
       "<table border=\"1\" class=\"dataframe\">\n",
       "  <thead>\n",
       "    <tr style=\"text-align: right;\">\n",
       "      <th></th>\n",
       "      <th>counter</th>\n",
       "      <th>id</th>\n",
       "      <th>connectionTime</th>\n",
       "      <th>disconnectTime</th>\n",
       "      <th>doneChargingTime</th>\n",
       "      <th>kWhDelivered</th>\n",
       "      <th>sessionID</th>\n",
       "      <th>siteID</th>\n",
       "      <th>spaceID</th>\n",
       "      <th>stationID</th>\n",
       "      <th>timezone</th>\n",
       "      <th>userID</th>\n",
       "      <th>userInputs</th>\n",
       "      <th>connection_date</th>\n",
       "    </tr>\n",
       "  </thead>\n",
       "  <tbody>\n",
       "    <tr>\n",
       "      <th>0</th>\n",
       "      <td>0</td>\n",
       "      <td>5e23b149f9af8b5fe4b973cf</td>\n",
       "      <td>2020-01-02 05:08:54-08:00</td>\n",
       "      <td>2020-01-02 11:11:15-08:00</td>\n",
       "      <td>2020-01-02 09:31:35-08:00</td>\n",
       "      <td>25.016</td>\n",
       "      <td>1_1_179_810_2020-01-02 13:08:53.870034</td>\n",
       "      <td>1</td>\n",
       "      <td>AG-3F30</td>\n",
       "      <td>1-1-179-810</td>\n",
       "      <td>America/Los_Angeles</td>\n",
       "      <td>194.0</td>\n",
       "      <td>[{'WhPerMile': 250, 'kWhRequested': 25.0, 'mil...</td>\n",
       "      <td>2020-01-02</td>\n",
       "    </tr>\n",
       "    <tr>\n",
       "      <th>1</th>\n",
       "      <td>1</td>\n",
       "      <td>5e23b149f9af8b5fe4b973d0</td>\n",
       "      <td>2020-01-02 05:36:50-08:00</td>\n",
       "      <td>2020-01-02 14:38:21-08:00</td>\n",
       "      <td>2020-01-02 12:18:05-08:00</td>\n",
       "      <td>33.097</td>\n",
       "      <td>1_1_193_825_2020-01-02 13:36:49.599853</td>\n",
       "      <td>1</td>\n",
       "      <td>AG-1F01</td>\n",
       "      <td>1-1-193-825</td>\n",
       "      <td>America/Los_Angeles</td>\n",
       "      <td>4275.0</td>\n",
       "      <td>[{'WhPerMile': 280, 'kWhRequested': 70.0, 'mil...</td>\n",
       "      <td>2020-01-02</td>\n",
       "    </tr>\n",
       "    <tr>\n",
       "      <th>2</th>\n",
       "      <td>2</td>\n",
       "      <td>5e23b149f9af8b5fe4b973d1</td>\n",
       "      <td>2020-01-02 05:56:35-08:00</td>\n",
       "      <td>2020-01-02 16:39:22-08:00</td>\n",
       "      <td>2020-01-02 08:35:06-08:00</td>\n",
       "      <td>6.521</td>\n",
       "      <td>1_1_193_829_2020-01-02 13:56:35.214993</td>\n",
       "      <td>1</td>\n",
       "      <td>AG-1F03</td>\n",
       "      <td>1-1-193-829</td>\n",
       "      <td>America/Los_Angeles</td>\n",
       "      <td>344.0</td>\n",
       "      <td>[{'WhPerMile': 400, 'kWhRequested': 8.0, 'mile...</td>\n",
       "      <td>2020-01-02</td>\n",
       "    </tr>\n",
       "    <tr>\n",
       "      <th>3</th>\n",
       "      <td>3</td>\n",
       "      <td>5e23b149f9af8b5fe4b973d2</td>\n",
       "      <td>2020-01-02 05:59:58-08:00</td>\n",
       "      <td>2020-01-02 08:38:39-08:00</td>\n",
       "      <td>2020-01-02 07:18:45-08:00</td>\n",
       "      <td>2.355</td>\n",
       "      <td>1_1_193_820_2020-01-02 13:59:58.309319</td>\n",
       "      <td>1</td>\n",
       "      <td>AG-1F04</td>\n",
       "      <td>1-1-193-820</td>\n",
       "      <td>America/Los_Angeles</td>\n",
       "      <td>1117.0</td>\n",
       "      <td>[{'WhPerMile': 400, 'kWhRequested': 8.0, 'mile...</td>\n",
       "      <td>2020-01-02</td>\n",
       "    </tr>\n",
       "    <tr>\n",
       "      <th>4</th>\n",
       "      <td>4</td>\n",
       "      <td>5e23b149f9af8b5fe4b973d3</td>\n",
       "      <td>2020-01-02 06:00:01-08:00</td>\n",
       "      <td>2020-01-02 14:08:40-08:00</td>\n",
       "      <td>2020-01-02 10:17:30-08:00</td>\n",
       "      <td>13.375</td>\n",
       "      <td>1_1_193_819_2020-01-02 14:00:00.779967</td>\n",
       "      <td>1</td>\n",
       "      <td>AG-1F06</td>\n",
       "      <td>1-1-193-819</td>\n",
       "      <td>America/Los_Angeles</td>\n",
       "      <td>334.0</td>\n",
       "      <td>[{'WhPerMile': 400, 'kWhRequested': 16.0, 'mil...</td>\n",
       "      <td>2020-01-02</td>\n",
       "    </tr>\n",
       "  </tbody>\n",
       "</table>\n",
       "</div>"
      ]
     },
     "execution_count": 362,
     "metadata": {},
     "output_type": "execute_result"
    }
   ],
   "execution_count": 362
  },
  {
   "metadata": {
    "ExecuteTime": {
     "end_time": "2025-01-26T13:07:49.159446Z",
     "start_time": "2025-01-26T13:07:49.142304Z"
    }
   },
   "cell_type": "code",
   "source": [
    "# check inner Dataframe\n",
    "dftest = charging_data[charging_data['userInputs'].notnull()]\n",
    "# dftest[3]\n",
    "x = 2000\n",
    "print(dftest[['connectionTime', 'disconnectTime', 'doneChargingTime', 'kWhDelivered']].iloc[x])\n",
    "print(dftest['userInputs'].iloc[x])"
   ],
   "id": "21c807b49114afd4",
   "outputs": [
    {
     "name": "stdout",
     "output_type": "stream",
     "text": [
      "connectionTime      2020-02-12 05:59:34-08:00\n",
      "disconnectTime      2020-02-12 14:40:15-08:00\n",
      "doneChargingTime    2020-02-12 09:11:41-08:00\n",
      "kWhDelivered                            7.043\n",
      "Name: 2046, dtype: object\n",
      "[{'WhPerMile': 467, 'kWhRequested': 9.34, 'milesRequested': 20, 'minutesAvailable': 232, 'modifiedAt': 'Wed, 12 Feb 2020 13:59:35 GMT', 'paymentRequired': True, 'requestedDeparture': 'Wed, 12 Feb 2020 17:51:34 GMT', 'userID': 4147}]\n"
     ]
    }
   ],
   "execution_count": 363
  },
  {
   "metadata": {},
   "cell_type": "markdown",
   "source": "**Check the importance of UserInput**",
   "id": "ff59c720b42c1259"
  },
  {
   "metadata": {
    "ExecuteTime": {
     "end_time": "2025-01-26T13:07:51.536176Z",
     "start_time": "2025-01-26T13:07:49.237058Z"
    }
   },
   "cell_type": "code",
   "source": [
    "extracted_data = []\n",
    "\n",
    "# Go through each row in the DataFrame and process the userInputs column\n",
    "for index, row in dftest.iterrows():\n",
    "    user_input_str = row['userInputs']\n",
    "\n",
    "    try:\n",
    "        # Conversion of the string into a list of dictionaries\n",
    "        user_input_data = ast.literal_eval(user_input_str)\n",
    "\n",
    "        for item in user_input_data:\n",
    "            # Extract the desired values or set to 0 if the value is not available\n",
    "            extracted_data.append({\n",
    "                'WhPerMile': item.get('WhPerMile', 0),\n",
    "                'kWhRequested': item.get('kWhRequested', 0),\n",
    "                'milesRequested': item.get('milesRequested', 0),\n",
    "                'minutesAvailable': item.get('minutesAvailable', 0),\n",
    "                'modifiedAt': item.get('modifiedAt', 0),\n",
    "                'paymentRequired': item.get('paymentRequired', 0),\n",
    "                'requestedDeparture': item.get('requestedDeparture', 0),\n",
    "                'userIDInput': item.get('userID', 0),\n",
    "            })\n",
    "\n",
    "    except Exception as e:\n",
    "        # If errors occur, set empty rows to 0\n",
    "        extracted_data.append({\n",
    "            'WhPerMile': 0,\n",
    "            'kWhRequested': 0,\n",
    "            'milesRequested': 0,\n",
    "            'minutesAvailable': 0,\n",
    "            'modifiedAt': 0,\n",
    "            'paymentRequired': 0,\n",
    "            'requestedDeparture': 0,\n",
    "            'userIDInput': 0\n",
    "        })\n",
    "\n",
    "# Create a copy of the original DataFrame to make analysis later and not interfere with original data\n",
    "charging_data_copy = charging_data.copy()\n",
    "\n",
    "# Save the extracted data in a new DataFrame\n",
    "extracted_df = pd.DataFrame(extracted_data)\n",
    "\n",
    "# Add the extracted DataFrame to the copied DataFrame\n",
    "charging_data_copy = pd.concat([charging_data_copy, extracted_df], axis=1)\n",
    "\n",
    "# Remove the 'userInputs' column from the copy\n",
    "charging_data_copy = charging_data_copy.drop(columns=['userInputs'])\n",
    "\n",
    "# Count how much data has been extracted\n",
    "num_extracted_data = len(extracted_data)\n",
    "print(f\"Number of extracted data entries: {num_extracted_data}\")\n",
    "\n",
    "# Check the copy\n",
    "print(charging_data_copy.head())\n",
    "charging_data_copy.info()\n"
   ],
   "id": "ff3ed1f7d840f0fa",
   "outputs": [
    {
     "name": "stdout",
     "output_type": "stream",
     "text": [
      "Number of extracted data entries: 63376\n",
      "   counter                        id            connectionTime  \\\n",
      "0        0  5e23b149f9af8b5fe4b973cf 2020-01-02 05:08:54-08:00   \n",
      "1        1  5e23b149f9af8b5fe4b973d0 2020-01-02 05:36:50-08:00   \n",
      "2        2  5e23b149f9af8b5fe4b973d1 2020-01-02 05:56:35-08:00   \n",
      "3        3  5e23b149f9af8b5fe4b973d2 2020-01-02 05:59:58-08:00   \n",
      "4        4  5e23b149f9af8b5fe4b973d3 2020-01-02 06:00:01-08:00   \n",
      "\n",
      "             disconnectTime          doneChargingTime  kWhDelivered  \\\n",
      "0 2020-01-02 11:11:15-08:00 2020-01-02 09:31:35-08:00        25.016   \n",
      "1 2020-01-02 14:38:21-08:00 2020-01-02 12:18:05-08:00        33.097   \n",
      "2 2020-01-02 16:39:22-08:00 2020-01-02 08:35:06-08:00         6.521   \n",
      "3 2020-01-02 08:38:39-08:00 2020-01-02 07:18:45-08:00         2.355   \n",
      "4 2020-01-02 14:08:40-08:00 2020-01-02 10:17:30-08:00        13.375   \n",
      "\n",
      "                                sessionID siteID  spaceID    stationID  ...  \\\n",
      "0  1_1_179_810_2020-01-02 13:08:53.870034      1  AG-3F30  1-1-179-810  ...   \n",
      "1  1_1_193_825_2020-01-02 13:36:49.599853      1  AG-1F01  1-1-193-825  ...   \n",
      "2  1_1_193_829_2020-01-02 13:56:35.214993      1  AG-1F03  1-1-193-829  ...   \n",
      "3  1_1_193_820_2020-01-02 13:59:58.309319      1  AG-1F04  1-1-193-820  ...   \n",
      "4  1_1_193_819_2020-01-02 14:00:00.779967      1  AG-1F06  1-1-193-819  ...   \n",
      "\n",
      "   userID  connection_date WhPerMile  kWhRequested  milesRequested  \\\n",
      "0   194.0       2020-01-02     250.0          25.0           100.0   \n",
      "1  4275.0       2020-01-02     280.0          70.0           250.0   \n",
      "2   344.0       2020-01-02     400.0           8.0            20.0   \n",
      "3  1117.0       2020-01-02     400.0           8.0            20.0   \n",
      "4   334.0       2020-01-02     400.0           8.0            20.0   \n",
      "\n",
      "   minutesAvailable                     modifiedAt paymentRequired  \\\n",
      "0             463.0  Thu, 02 Jan 2020 13:09:39 GMT            True   \n",
      "1             595.0  Thu, 02 Jan 2020 13:37:11 GMT            True   \n",
      "2              60.0  Thu, 02 Jan 2020 13:57:17 GMT            True   \n",
      "3              65.0  Thu, 02 Jan 2020 14:00:03 GMT            True   \n",
      "4              65.0  Thu, 02 Jan 2020 14:00:19 GMT            True   \n",
      "\n",
      "              requestedDeparture userIDInput  \n",
      "0  Thu, 02 Jan 2020 20:51:54 GMT       194.0  \n",
      "1  Thu, 02 Jan 2020 23:31:50 GMT      4275.0  \n",
      "2  Thu, 02 Jan 2020 14:56:35 GMT       344.0  \n",
      "3  Thu, 02 Jan 2020 15:04:58 GMT      1117.0  \n",
      "4  Thu, 02 Jan 2020 15:04:58 GMT      1117.0  \n",
      "\n",
      "[5 rows x 21 columns]\n",
      "<class 'pandas.core.frame.DataFrame'>\n",
      "RangeIndex: 66450 entries, 0 to 66449\n",
      "Data columns (total 21 columns):\n",
      " #   Column              Non-Null Count  Dtype                              \n",
      "---  ------              --------------  -----                              \n",
      " 0   counter             66450 non-null  int64                              \n",
      " 1   id                  66450 non-null  object                             \n",
      " 2   connectionTime      66450 non-null  datetime64[ns, America/Los_Angeles]\n",
      " 3   disconnectTime      66450 non-null  datetime64[ns, America/Los_Angeles]\n",
      " 4   doneChargingTime    62362 non-null  datetime64[ns, America/Los_Angeles]\n",
      " 5   kWhDelivered        66450 non-null  float64                            \n",
      " 6   sessionID           66450 non-null  object                             \n",
      " 7   siteID              66450 non-null  object                             \n",
      " 8   spaceID             66450 non-null  object                             \n",
      " 9   stationID           66450 non-null  object                             \n",
      " 10  timezone            66450 non-null  object                             \n",
      " 11  userID              49187 non-null  float64                            \n",
      " 12  connection_date     66450 non-null  object                             \n",
      " 13  WhPerMile           63376 non-null  float64                            \n",
      " 14  kWhRequested        63376 non-null  float64                            \n",
      " 15  milesRequested      63376 non-null  float64                            \n",
      " 16  minutesAvailable    63376 non-null  float64                            \n",
      " 17  modifiedAt          63376 non-null  object                             \n",
      " 18  paymentRequired     63376 non-null  object                             \n",
      " 19  requestedDeparture  63376 non-null  object                             \n",
      " 20  userIDInput         63376 non-null  float64                            \n",
      "dtypes: datetime64[ns, America/Los_Angeles](3), float64(7), int64(1), object(10)\n",
      "memory usage: 10.6+ MB\n"
     ]
    }
   ],
   "execution_count": 364
  },
  {
   "metadata": {
    "ExecuteTime": {
     "end_time": "2025-01-26T13:07:51.667183Z",
     "start_time": "2025-01-26T13:07:51.548569Z"
    }
   },
   "cell_type": "code",
   "source": [
    "# Pairplot for UserID and numerical features\n",
    "numerical_columns = ['connectionTime', 'disconnectTime', 'doneChargingTime', 'kWhDelivered', 'WhPerMile',\n",
    "                     'kWhRequested', 'milesRequested', 'minutesAvailable']\n",
    "pairplot_data = charging_data_copy[numerical_columns].dropna()\n",
    "\n",
    "# Calculate correlation matrix\n",
    "correlation_matrix = pairplot_data.corr()\n",
    "\n",
    "# Create heatmap of the correlation matrix\n",
    "plt.figure(figsize=(10, 8))\n",
    "sns.heatmap(correlation_matrix, annot=True, cmap='coolwarm', fmt='.2f', linewidths=0.5)\n",
    "plt.title(\"Correlation Heatmap for userID and Numeric Features\")\n",
    "plt.tight_layout()\n",
    "plt.show()"
   ],
   "id": "e83b540e014a951b",
   "outputs": [
    {
     "data": {
      "text/plain": [
       "<Figure size 1000x800 with 2 Axes>"
      ],
      "image/png": "[encoded data removed]"
     },
     "metadata": {},
     "output_type": "display_data"
    }
   ],
   "execution_count": 365
  },
  {
   "metadata": {},
   "cell_type": "markdown",
   "source": [
    "**Removal of userInputs**\n",
    "\n",
    "**Lack of correlation:**\n",
    "The user inputs such as WhPerMile, kWhRequested, milesRequested and minutesAvailable show no significant correlation with the charging variables such as connectionTime, doneChargingTime or kWhDelivered. As a result, they do not make a relevant contribution to the investigation of the relationships between the charging parameters.\n",
    "\n",
    "As expected, the only exceptions are the user inputs kWhRequested and milesRequested, which correlate with each other due to their functional relationship. This correlation is logical, as the requested energy is directly linked to the planned route. Nevertheless, these variables have no direct relevance for the actual analysis of the charging process.\n",
    "\n",
    "Additionally more than 17.000 chargingSessions do not even supply extra userInputs."
   ],
   "id": "feeaf7814ff53929"
  },
  {
   "metadata": {
    "ExecuteTime": {
     "end_time": "2025-01-26T13:07:51.679498Z",
     "start_time": "2025-01-26T13:07:51.673815Z"
    }
   },
   "cell_type": "code",
   "source": [
    "# Drop the userInputs\n",
    "charging_data.drop(columns=['userInputs'], inplace=True)"
   ],
   "id": "3858dbd4df39d4af",
   "outputs": [],
   "execution_count": 366
  },
  {
   "metadata": {},
   "cell_type": "markdown",
   "source": "#### 2.1.2 Weather Data",
   "id": "49e7ac2a3a25de7d"
  },
  {
   "metadata": {
    "ExecuteTime": {
     "end_time": "2025-01-26T13:07:51.724545Z",
     "start_time": "2025-01-26T13:07:51.720781Z"
    }
   },
   "cell_type": "code",
   "source": "print(weather_data.tail(10))",
   "id": "8e82239a63551fcd",
   "outputs": [
    {
     "name": "stdout",
     "output_type": "stream",
     "text": [
      "          city           timestamp  temperature  cloud_cover  \\\n",
      "29234  Burbank 2020-12-31 22:53:00         18.0         34.0   \n",
      "29235  Burbank 2020-12-31 23:53:00         16.0         34.0   \n",
      "29236  Burbank 2021-01-01 00:53:00         14.0         34.0   \n",
      "29237  Burbank 2021-01-01 01:53:00         14.0         33.0   \n",
      "29238  Burbank 2021-01-01 02:53:00         14.0         33.0   \n",
      "29239  Burbank 2021-01-01 03:53:00         13.0         33.0   \n",
      "29240  Burbank 2021-01-01 04:53:00         12.0         33.0   \n",
      "29241  Burbank 2021-01-01 05:53:00         12.0         33.0   \n",
      "29242  Burbank 2021-01-01 06:53:00         11.0         33.0   \n",
      "29243  Burbank 2021-01-01 07:53:00         10.0         33.0   \n",
      "\n",
      "      cloud_cover_description  pressure  windspeed  precipitation  \\\n",
      "29234                    Fair    984.83       31.0            0.0   \n",
      "29235                    Fair    985.16       20.0            0.0   \n",
      "29236                    Fair    985.49       20.0            0.0   \n",
      "29237                    Fair    986.15       22.0            0.0   \n",
      "29238                    Fair    986.48       19.0            0.0   \n",
      "29239                    Fair    986.81        0.0            0.0   \n",
      "29240                    Fair    986.81       11.0            0.0   \n",
      "29241                    Fair    987.47        9.0            0.0   \n",
      "29242                    Fair    987.14       13.0            0.0   \n",
      "29243                    Fair    987.80        6.0            0.0   \n",
      "\n",
      "       felt_temperature weather_date  \n",
      "29234              18.0   2020-12-31  \n",
      "29235              16.0   2020-12-31  \n",
      "29236              14.0   2021-01-01  \n",
      "29237              14.0   2021-01-01  \n",
      "29238              14.0   2021-01-01  \n",
      "29239              13.0   2021-01-01  \n",
      "29240              12.0   2021-01-01  \n",
      "29241              12.0   2021-01-01  \n",
      "29242              11.0   2021-01-01  \n",
      "29243              10.0   2021-01-01  \n"
     ]
    }
   ],
   "execution_count": 367
  },
  {
   "metadata": {},
   "cell_type": "markdown",
   "source": "Although the timestamps are already in datetime format (due to our transformation for the visual exploration), the weather data needs to be localized to the correct timezone, just like the charging data. The data above shows that the Los Angeles temperatures don't match the timestamps: they should be lower at night and higher during the day. Therefore, we convert the timestamps to PST for Los Angeles.",
   "id": "e972030ec56703f9"
  },
  {
   "metadata": {
    "ExecuteTime": {
     "end_time": "2025-01-26T13:07:51.753372Z",
     "start_time": "2025-01-26T13:07:51.743620Z"
    }
   },
   "cell_type": "code",
   "source": [
    "weather_data['timestamp'] = pd.to_datetime(weather_data['timestamp'], utc=True)\n",
    "weather_data['timestamp'] = weather_data['timestamp'].dt.tz_convert(tz='America/Los_Angeles')\n",
    "weather_data.info()"
   ],
   "id": "e1b21322440e9f93",
   "outputs": [
    {
     "name": "stdout",
     "output_type": "stream",
     "text": [
      "<class 'pandas.core.frame.DataFrame'>\n",
      "RangeIndex: 29244 entries, 0 to 29243\n",
      "Data columns (total 10 columns):\n",
      " #   Column                   Non-Null Count  Dtype                              \n",
      "---  ------                   --------------  -----                              \n",
      " 0   city                     29244 non-null  object                             \n",
      " 1   timestamp                29244 non-null  datetime64[ns, America/Los_Angeles]\n",
      " 2   temperature              29219 non-null  float64                            \n",
      " 3   cloud_cover              29224 non-null  float64                            \n",
      " 4   cloud_cover_description  29224 non-null  object                             \n",
      " 5   pressure                 29236 non-null  float64                            \n",
      " 6   windspeed                29158 non-null  float64                            \n",
      " 7   precipitation            29244 non-null  float64                            \n",
      " 8   felt_temperature         29218 non-null  float64                            \n",
      " 9   weather_date             29244 non-null  object                             \n",
      "dtypes: datetime64[ns, America/Los_Angeles](1), float64(6), object(3)\n",
      "memory usage: 2.2+ MB\n"
     ]
    }
   ],
   "execution_count": 368
  },
  {
   "metadata": {
    "ExecuteTime": {
     "end_time": "2025-01-26T13:07:51.801430Z",
     "start_time": "2025-01-26T13:07:51.795507Z"
    }
   },
   "cell_type": "code",
   "source": "weather_data.tail(5)",
   "id": "9fdfdc3cc72c867e",
   "outputs": [
    {
     "data": {
      "text/plain": [
       "          city                 timestamp  temperature  cloud_cover  \\\n",
       "29239  Burbank 2020-12-31 19:53:00-08:00         13.0         33.0   \n",
       "29240  Burbank 2020-12-31 20:53:00-08:00         12.0         33.0   \n",
       "29241  Burbank 2020-12-31 21:53:00-08:00         12.0         33.0   \n",
       "29242  Burbank 2020-12-31 22:53:00-08:00         11.0         33.0   \n",
       "29243  Burbank 2020-12-31 23:53:00-08:00         10.0         33.0   \n",
       "\n",
       "      cloud_cover_description  pressure  windspeed  precipitation  \\\n",
       "29239                    Fair    986.81        0.0            0.0   \n",
       "29240                    Fair    986.81       11.0            0.0   \n",
       "29241                    Fair    987.47        9.0            0.0   \n",
       "29242                    Fair    987.14       13.0            0.0   \n",
       "29243                    Fair    987.80        6.0            0.0   \n",
       "\n",
       "       felt_temperature weather_date  \n",
       "29239              13.0   2021-01-01  \n",
       "29240              12.0   2021-01-01  \n",
       "29241              12.0   2021-01-01  \n",
       "29242              11.0   2021-01-01  \n",
       "29243              10.0   2021-01-01  "
      ],
      "text/html": [
       "<div>\n",
       "<style scoped>\n",
       "    .dataframe tbody tr th:only-of-type {\n",
       "        vertical-align: middle;\n",
       "    }\n",
       "\n",
       "    .dataframe tbody tr th {\n",
       "        vertical-align: top;\n",
       "    }\n",
       "\n",
       "    .dataframe thead th {\n",
       "        text-align: right;\n",
       "    }\n",
       "</style>\n",
       "<table border=\"1\" class=\"dataframe\">\n",
       "  <thead>\n",
       "    <tr style=\"text-align: right;\">\n",
       "      <th></th>\n",
       "      <th>city</th>\n",
       "      <th>timestamp</th>\n",
       "      <th>temperature</th>\n",
       "      <th>cloud_cover</th>\n",
       "      <th>cloud_cover_description</th>\n",
       "      <th>pressure</th>\n",
       "      <th>windspeed</th>\n",
       "      <th>precipitation</th>\n",
       "      <th>felt_temperature</th>\n",
       "      <th>weather_date</th>\n",
       "    </tr>\n",
       "  </thead>\n",
       "  <tbody>\n",
       "    <tr>\n",
       "      <th>29239</th>\n",
       "      <td>Burbank</td>\n",
       "      <td>2020-12-31 19:53:00-08:00</td>\n",
       "      <td>13.0</td>\n",
       "      <td>33.0</td>\n",
       "      <td>Fair</td>\n",
       "      <td>986.81</td>\n",
       "      <td>0.0</td>\n",
       "      <td>0.0</td>\n",
       "      <td>13.0</td>\n",
       "      <td>2021-01-01</td>\n",
       "    </tr>\n",
       "    <tr>\n",
       "      <th>29240</th>\n",
       "      <td>Burbank</td>\n",
       "      <td>2020-12-31 20:53:00-08:00</td>\n",
       "      <td>12.0</td>\n",
       "      <td>33.0</td>\n",
       "      <td>Fair</td>\n",
       "      <td>986.81</td>\n",
       "      <td>11.0</td>\n",
       "      <td>0.0</td>\n",
       "      <td>12.0</td>\n",
       "      <td>2021-01-01</td>\n",
       "    </tr>\n",
       "    <tr>\n",
       "      <th>29241</th>\n",
       "      <td>Burbank</td>\n",
       "      <td>2020-12-31 21:53:00-08:00</td>\n",
       "      <td>12.0</td>\n",
       "      <td>33.0</td>\n",
       "      <td>Fair</td>\n",
       "      <td>987.47</td>\n",
       "      <td>9.0</td>\n",
       "      <td>0.0</td>\n",
       "      <td>12.0</td>\n",
       "      <td>2021-01-01</td>\n",
       "    </tr>\n",
       "    <tr>\n",
       "      <th>29242</th>\n",
       "      <td>Burbank</td>\n",
       "      <td>2020-12-31 22:53:00-08:00</td>\n",
       "      <td>11.0</td>\n",
       "      <td>33.0</td>\n",
       "      <td>Fair</td>\n",
       "      <td>987.14</td>\n",
       "      <td>13.0</td>\n",
       "      <td>0.0</td>\n",
       "      <td>11.0</td>\n",
       "      <td>2021-01-01</td>\n",
       "    </tr>\n",
       "    <tr>\n",
       "      <th>29243</th>\n",
       "      <td>Burbank</td>\n",
       "      <td>2020-12-31 23:53:00-08:00</td>\n",
       "      <td>10.0</td>\n",
       "      <td>33.0</td>\n",
       "      <td>Fair</td>\n",
       "      <td>987.80</td>\n",
       "      <td>6.0</td>\n",
       "      <td>0.0</td>\n",
       "      <td>10.0</td>\n",
       "      <td>2021-01-01</td>\n",
       "    </tr>\n",
       "  </tbody>\n",
       "</table>\n",
       "</div>"
      ]
     },
     "execution_count": 369,
     "metadata": {},
     "output_type": "execute_result"
    }
   ],
   "execution_count": 369
  },
  {
   "metadata": {},
   "cell_type": "markdown",
   "source": [
    "### 2.2 Additional Data\n",
    "\n",
    "As we have seen in the visual exploration, the weather data only extends through January 2021 although the charging data continues until September 2021. To fill this gap, we decided to integrate additional weather data from the internet in our Dataframe. Fortunately, we found historical weather data of the Burbank Bob Hope Airport on the [website](https://www.weather.gov/wrh/timeseries?site=KBUR&hours=720&units=metric&chart=off&headers=on&obs=tabular&hourly=true&pview=standard&font=12&history=yes&start=20211228&end=20211231&plot=) of the National Weather Servie (note how this website allows you to adjust the timeframe through \"Advanced Options\" and download the data from any graph as a .csv file). We therefore retrieved temperature, wind and precipitation values and transformed them into a single .csv file (which can be found at _/Data/addittional_weather_data.csv_ or _/Data/additional_weather_data.xlsx_) and merged this data into our weather_data Dataframe."
   ],
   "id": "7d614e68ec4e90f"
  },
  {
   "metadata": {
    "ExecuteTime": {
     "end_time": "2025-01-26T13:07:51.857921Z",
     "start_time": "2025-01-26T13:07:51.832463Z"
    }
   },
   "cell_type": "code",
   "source": [
    "additional_weather_data = pd.read_csv(os.path.join('Data', 'additional_weather_data.csv'), sep=';')\n",
    "additional_weather_data.drop(columns=['Gust', 'Direction'], inplace=True)\n",
    "additional_weather_data = additional_weather_data.rename(columns={\n",
    "    'DateTime': 'timestamp',\n",
    "    'Wind Speed': 'windspeed',\n",
    "    'Temperature': 'temperature',\n",
    "    'One Hour Precipitation': 'precipitation'\n",
    "})\n",
    "\n",
    "additional_weather_data['timestamp'] = pd.to_datetime(additional_weather_data['timestamp'],\n",
    "                                                      format='%d.%m.%y %H:%M')\n",
    "\n",
    "# charging_sessions only go until September 2021, so we can cut everything after October\n",
    "additional_weather_data = additional_weather_data[additional_weather_data['timestamp'] <= pd.to_datetime('2021-10-01 00:00:00')]\n",
    "\n",
    "additional_weather_data['timestamp'] = additional_weather_data['timestamp'].dt.tz_localize(tz='America/Los_Angeles')\n",
    "\n",
    "# transform columns to float\n",
    "cols_to_convert = ['temperature', 'windspeed', 'precipitation']\n",
    "additional_weather_data['precipitation'] = additional_weather_data['precipitation'].str.replace(',', '.', regex=False)\n",
    "for col in cols_to_convert:\n",
    "    additional_weather_data[col] = pd.to_numeric(additional_weather_data[col], downcast='float')\n",
    "\n",
    "additional_weather_data[additional_weather_data['timestamp'] >= pd.to_datetime('2020-12-31 19:53:00').tz_localize(\n",
    "    'America/Los_Angeles')].head(5)"
   ],
   "id": "33f17bc9502ab124",
   "outputs": [
    {
     "data": {
      "text/plain": [
       "                   timestamp  windspeed  temperature  precipitation\n",
       "93 2020-12-31 19:53:00-08:00        0.0         13.0            0.0\n",
       "94 2020-12-31 20:53:00-08:00       11.0         12.0            0.0\n",
       "95 2020-12-31 21:53:00-08:00        9.0         12.0            0.0\n",
       "96 2020-12-31 22:53:00-08:00       13.0         11.0            0.0\n",
       "97 2020-12-31 23:53:00-08:00        6.0         10.0            0.0"
      ],
      "text/html": [
       "<div>\n",
       "<style scoped>\n",
       "    .dataframe tbody tr th:only-of-type {\n",
       "        vertical-align: middle;\n",
       "    }\n",
       "\n",
       "    .dataframe tbody tr th {\n",
       "        vertical-align: top;\n",
       "    }\n",
       "\n",
       "    .dataframe thead th {\n",
       "        text-align: right;\n",
       "    }\n",
       "</style>\n",
       "<table border=\"1\" class=\"dataframe\">\n",
       "  <thead>\n",
       "    <tr style=\"text-align: right;\">\n",
       "      <th></th>\n",
       "      <th>timestamp</th>\n",
       "      <th>windspeed</th>\n",
       "      <th>temperature</th>\n",
       "      <th>precipitation</th>\n",
       "    </tr>\n",
       "  </thead>\n",
       "  <tbody>\n",
       "    <tr>\n",
       "      <th>93</th>\n",
       "      <td>2020-12-31 19:53:00-08:00</td>\n",
       "      <td>0.0</td>\n",
       "      <td>13.0</td>\n",
       "      <td>0.0</td>\n",
       "    </tr>\n",
       "    <tr>\n",
       "      <th>94</th>\n",
       "      <td>2020-12-31 20:53:00-08:00</td>\n",
       "      <td>11.0</td>\n",
       "      <td>12.0</td>\n",
       "      <td>0.0</td>\n",
       "    </tr>\n",
       "    <tr>\n",
       "      <th>95</th>\n",
       "      <td>2020-12-31 21:53:00-08:00</td>\n",
       "      <td>9.0</td>\n",
       "      <td>12.0</td>\n",
       "      <td>0.0</td>\n",
       "    </tr>\n",
       "    <tr>\n",
       "      <th>96</th>\n",
       "      <td>2020-12-31 22:53:00-08:00</td>\n",
       "      <td>13.0</td>\n",
       "      <td>11.0</td>\n",
       "      <td>0.0</td>\n",
       "    </tr>\n",
       "    <tr>\n",
       "      <th>97</th>\n",
       "      <td>2020-12-31 23:53:00-08:00</td>\n",
       "      <td>6.0</td>\n",
       "      <td>10.0</td>\n",
       "      <td>0.0</td>\n",
       "    </tr>\n",
       "  </tbody>\n",
       "</table>\n",
       "</div>"
      ]
     },
     "execution_count": 370,
     "metadata": {},
     "output_type": "execute_result"
    }
   ],
   "execution_count": 370
  },
  {
   "metadata": {},
   "cell_type": "markdown",
   "source": [
    "Also note how the values in our additional_data are the same as in our original weather_data.tail() from above.\n",
    "\n",
    "Next, we add the additional_weather_data to our weather_data Dataframe:"
   ],
   "id": "6960b3987a00292"
  },
  {
   "metadata": {
    "ExecuteTime": {
     "end_time": "2025-01-26T13:07:51.944870Z",
     "start_time": "2025-01-26T13:07:51.937094Z"
    }
   },
   "cell_type": "code",
   "source": [
    "#Now we just add our additional_weather_data to our original weather_data:\n",
    "additional_weather_data = additional_weather_data[\n",
    "    additional_weather_data['timestamp'] >= pd.to_datetime('2020-12-31 23:54:00').tz_localize(\n",
    "        'America/Los_Angeles')]\n",
    "\n",
    "weather_data = pd.concat([weather_data, additional_weather_data], ignore_index=True)\n",
    "weather_data[weather_data['timestamp'] >= pd.to_datetime('2020-12-31 20:53:00').tz_localize(\n",
    "    'America/Los_Angeles')].head(10)"
   ],
   "id": "466585b3a6615e18",
   "outputs": [
    {
     "data": {
      "text/plain": [
       "          city                 timestamp  temperature  cloud_cover  \\\n",
       "29240  Burbank 2020-12-31 20:53:00-08:00         12.0         33.0   \n",
       "29241  Burbank 2020-12-31 21:53:00-08:00         12.0         33.0   \n",
       "29242  Burbank 2020-12-31 22:53:00-08:00         11.0         33.0   \n",
       "29243  Burbank 2020-12-31 23:53:00-08:00         10.0         33.0   \n",
       "29244      NaN 2021-01-01 00:53:00-08:00         16.0          NaN   \n",
       "29245      NaN 2021-01-01 01:53:00-08:00         16.0          NaN   \n",
       "29246      NaN 2021-01-01 02:53:00-08:00         14.0          NaN   \n",
       "29247      NaN 2021-01-01 03:53:00-08:00         15.0          NaN   \n",
       "29248      NaN 2021-01-01 04:53:00-08:00         15.0          NaN   \n",
       "29249      NaN 2021-01-01 05:53:00-08:00         12.0          NaN   \n",
       "\n",
       "      cloud_cover_description  pressure  windspeed  precipitation  \\\n",
       "29240                    Fair    986.81       11.0            0.0   \n",
       "29241                    Fair    987.47        9.0            0.0   \n",
       "29242                    Fair    987.14       13.0            0.0   \n",
       "29243                    Fair    987.80        6.0            0.0   \n",
       "29244                     NaN       NaN       11.0            0.0   \n",
       "29245                     NaN       NaN       13.0            0.0   \n",
       "29246                     NaN       NaN       19.0            0.0   \n",
       "29247                     NaN       NaN       17.0            0.0   \n",
       "29248                     NaN       NaN       11.0            0.0   \n",
       "29249                     NaN       NaN       13.0            0.0   \n",
       "\n",
       "       felt_temperature weather_date  \n",
       "29240              12.0   2021-01-01  \n",
       "29241              12.0   2021-01-01  \n",
       "29242              11.0   2021-01-01  \n",
       "29243              10.0   2021-01-01  \n",
       "29244               NaN          NaN  \n",
       "29245               NaN          NaN  \n",
       "29246               NaN          NaN  \n",
       "29247               NaN          NaN  \n",
       "29248               NaN          NaN  \n",
       "29249               NaN          NaN  "
      ],
      "text/html": [
       "<div>\n",
       "<style scoped>\n",
       "    .dataframe tbody tr th:only-of-type {\n",
       "        vertical-align: middle;\n",
       "    }\n",
       "\n",
       "    .dataframe tbody tr th {\n",
       "        vertical-align: top;\n",
       "    }\n",
       "\n",
       "    .dataframe thead th {\n",
       "        text-align: right;\n",
       "    }\n",
       "</style>\n",
       "<table border=\"1\" class=\"dataframe\">\n",
       "  <thead>\n",
       "    <tr style=\"text-align: right;\">\n",
       "      <th></th>\n",
       "      <th>city</th>\n",
       "      <th>timestamp</th>\n",
       "      <th>temperature</th>\n",
       "      <th>cloud_cover</th>\n",
       "      <th>cloud_cover_description</th>\n",
       "      <th>pressure</th>\n",
       "      <th>windspeed</th>\n",
       "      <th>precipitation</th>\n",
       "      <th>felt_temperature</th>\n",
       "      <th>weather_date</th>\n",
       "    </tr>\n",
       "  </thead>\n",
       "  <tbody>\n",
       "    <tr>\n",
       "      <th>29240</th>\n",
       "      <td>Burbank</td>\n",
       "      <td>2020-12-31 20:53:00-08:00</td>\n",
       "      <td>12.0</td>\n",
       "      <td>33.0</td>\n",
       "      <td>Fair</td>\n",
       "      <td>986.81</td>\n",
       "      <td>11.0</td>\n",
       "      <td>0.0</td>\n",
       "      <td>12.0</td>\n",
       "      <td>2021-01-01</td>\n",
       "    </tr>\n",
       "    <tr>\n",
       "      <th>29241</th>\n",
       "      <td>Burbank</td>\n",
       "      <td>2020-12-31 21:53:00-08:00</td>\n",
       "      <td>12.0</td>\n",
       "      <td>33.0</td>\n",
       "      <td>Fair</td>\n",
       "      <td>987.47</td>\n",
       "      <td>9.0</td>\n",
       "      <td>0.0</td>\n",
       "      <td>12.0</td>\n",
       "      <td>2021-01-01</td>\n",
       "    </tr>\n",
       "    <tr>\n",
       "      <th>29242</th>\n",
       "      <td>Burbank</td>\n",
       "      <td>2020-12-31 22:53:00-08:00</td>\n",
       "      <td>11.0</td>\n",
       "      <td>33.0</td>\n",
       "      <td>Fair</td>\n",
       "      <td>987.14</td>\n",
       "      <td>13.0</td>\n",
       "      <td>0.0</td>\n",
       "      <td>11.0</td>\n",
       "      <td>2021-01-01</td>\n",
       "    </tr>\n",
       "    <tr>\n",
       "      <th>29243</th>\n",
       "      <td>Burbank</td>\n",
       "      <td>2020-12-31 23:53:00-08:00</td>\n",
       "      <td>10.0</td>\n",
       "      <td>33.0</td>\n",
       "      <td>Fair</td>\n",
       "      <td>987.80</td>\n",
       "      <td>6.0</td>\n",
       "      <td>0.0</td>\n",
       "      <td>10.0</td>\n",
       "      <td>2021-01-01</td>\n",
       "    </tr>\n",
       "    <tr>\n",
       "      <th>29244</th>\n",
       "      <td>NaN</td>\n",
       "      <td>2021-01-01 00:53:00-08:00</td>\n",
       "      <td>16.0</td>\n",
       "      <td>NaN</td>\n",
       "      <td>NaN</td>\n",
       "      <td>NaN</td>\n",
       "      <td>11.0</td>\n",
       "      <td>0.0</td>\n",
       "      <td>NaN</td>\n",
       "      <td>NaN</td>\n",
       "    </tr>\n",
       "    <tr>\n",
       "      <th>29245</th>\n",
       "      <td>NaN</td>\n",
       "      <td>2021-01-01 01:53:00-08:00</td>\n",
       "      <td>16.0</td>\n",
       "      <td>NaN</td>\n",
       "      <td>NaN</td>\n",
       "      <td>NaN</td>\n",
       "      <td>13.0</td>\n",
       "      <td>0.0</td>\n",
       "      <td>NaN</td>\n",
       "      <td>NaN</td>\n",
       "    </tr>\n",
       "    <tr>\n",
       "      <th>29246</th>\n",
       "      <td>NaN</td>\n",
       "      <td>2021-01-01 02:53:00-08:00</td>\n",
       "      <td>14.0</td>\n",
       "      <td>NaN</td>\n",
       "      <td>NaN</td>\n",
       "      <td>NaN</td>\n",
       "      <td>19.0</td>\n",
       "      <td>0.0</td>\n",
       "      <td>NaN</td>\n",
       "      <td>NaN</td>\n",
       "    </tr>\n",
       "    <tr>\n",
       "      <th>29247</th>\n",
       "      <td>NaN</td>\n",
       "      <td>2021-01-01 03:53:00-08:00</td>\n",
       "      <td>15.0</td>\n",
       "      <td>NaN</td>\n",
       "      <td>NaN</td>\n",
       "      <td>NaN</td>\n",
       "      <td>17.0</td>\n",
       "      <td>0.0</td>\n",
       "      <td>NaN</td>\n",
       "      <td>NaN</td>\n",
       "    </tr>\n",
       "    <tr>\n",
       "      <th>29248</th>\n",
       "      <td>NaN</td>\n",
       "      <td>2021-01-01 04:53:00-08:00</td>\n",
       "      <td>15.0</td>\n",
       "      <td>NaN</td>\n",
       "      <td>NaN</td>\n",
       "      <td>NaN</td>\n",
       "      <td>11.0</td>\n",
       "      <td>0.0</td>\n",
       "      <td>NaN</td>\n",
       "      <td>NaN</td>\n",
       "    </tr>\n",
       "    <tr>\n",
       "      <th>29249</th>\n",
       "      <td>NaN</td>\n",
       "      <td>2021-01-01 05:53:00-08:00</td>\n",
       "      <td>12.0</td>\n",
       "      <td>NaN</td>\n",
       "      <td>NaN</td>\n",
       "      <td>NaN</td>\n",
       "      <td>13.0</td>\n",
       "      <td>0.0</td>\n",
       "      <td>NaN</td>\n",
       "      <td>NaN</td>\n",
       "    </tr>\n",
       "  </tbody>\n",
       "</table>\n",
       "</div>"
      ]
     },
     "execution_count": 371,
     "metadata": {},
     "output_type": "execute_result"
    }
   ],
   "execution_count": 371
  },
  {
   "metadata": {},
   "cell_type": "markdown",
   "source": [
    "### 2.3 Identifying Duplicates\n",
    "\n",
    "To find duplicate entries in the charging_data DataFrame, we used Pandas' standard duplicate detection functions. Given the expectation of unique sessionID values for each charging session, this column was designated as the key for duplicate identification. </br>\n",
    "This approach revealed 1413 duplicated rows, differing solely in the counter column. We then removed these redundant rows to ensure data integrity and prevent analytical bias."
   ],
   "id": "536351960ff6dc94"
  },
  {
   "metadata": {
    "ExecuteTime": {
     "end_time": "2025-01-26T13:07:52.033188Z",
     "start_time": "2025-01-26T13:07:52.027782Z"
    }
   },
   "cell_type": "code",
   "source": [
    "charging_data_duplicates = charging_data.duplicated(subset='sessionID').sum()\n",
    "weather_data_duplicates = weather_data.duplicated(subset='timestamp').sum()\n",
    "# Display number of duplicate rows (if any)\n",
    "print(f\"Duplicate rows:\\n charging data -> {charging_data_duplicates}\\n weather data -> {weather_data_duplicates}\")"
   ],
   "id": "4f5ad05fdc2bffc3",
   "outputs": [
    {
     "name": "stdout",
     "output_type": "stream",
     "text": [
      "Duplicate rows:\n",
      " charging data -> 1413\n",
      " weather data -> 0\n"
     ]
    }
   ],
   "execution_count": 372
  },
  {
   "metadata": {
    "ExecuteTime": {
     "end_time": "2025-01-26T13:07:52.111777Z",
     "start_time": "2025-01-26T13:07:52.102128Z"
    }
   },
   "cell_type": "code",
   "source": [
    "# Display duplicate rows\n",
    "charging_data[charging_data.duplicated(keep=False, subset='sessionID')].sort_values(by='id', ascending=True)"
   ],
   "id": "e7a632f86b9fc2c2",
   "outputs": [
    {
     "data": {
      "text/plain": [
       "       counter                        id            connectionTime  \\\n",
       "5573         0  5d2fbdd3f9af8b4d0dd0d54f 2019-07-01 17:32:46-07:00   \n",
       "65037     8675  5d2fbdd3f9af8b4d0dd0d54f 2019-07-01 17:32:46-07:00   \n",
       "65038     8676  5d310f54f9af8b52adda3e20 2019-07-02 05:15:28-07:00   \n",
       "5574         1  5d310f54f9af8b52adda3e20 2019-07-02 05:15:28-07:00   \n",
       "5575         2  5d310f54f9af8b52adda3e21 2019-07-02 05:42:49-07:00   \n",
       "...        ...                       ...                       ...   \n",
       "6983      1410  5d574ad2f9af8b4c10c03654 2019-07-31 12:04:40-07:00   \n",
       "66448    10086  5d574ad2f9af8b4c10c03655 2019-07-31 12:19:47-07:00   \n",
       "6984      1411  5d574ad2f9af8b4c10c03655 2019-07-31 12:19:47-07:00   \n",
       "6985      1412  5d574ad2f9af8b4c10c03656 2019-07-31 12:21:47-07:00   \n",
       "66449    10087  5d574ad2f9af8b4c10c03656 2019-07-31 12:21:47-07:00   \n",
       "\n",
       "                 disconnectTime          doneChargingTime  kWhDelivered  \\\n",
       "5573  2019-07-01 19:34:56-07:00 2019-07-01 18:46:09-07:00         2.463   \n",
       "65037 2019-07-01 19:34:56-07:00 2019-07-01 18:46:09-07:00         2.463   \n",
       "65038 2019-07-02 09:01:01-07:00 2019-07-02 09:01:38-07:00        12.891   \n",
       "5574  2019-07-02 09:01:01-07:00 2019-07-02 09:01:38-07:00        12.891   \n",
       "5575  2019-07-02 12:34:19-07:00 2019-07-02 09:21:21-07:00        13.734   \n",
       "...                         ...                       ...           ...   \n",
       "6983  2019-07-31 15:44:22-07:00 2019-07-31 15:45:21-07:00        11.274   \n",
       "66448 2019-07-31 17:34:51-07:00 2019-07-31 14:25:30-07:00        11.589   \n",
       "6984  2019-07-31 17:34:51-07:00 2019-07-31 14:25:30-07:00        11.589   \n",
       "6985  2019-07-31 15:00:04-07:00 2019-07-31 13:51:34-07:00         0.897   \n",
       "66449 2019-07-31 15:00:04-07:00 2019-07-31 13:51:34-07:00         0.897   \n",
       "\n",
       "                                    sessionID siteID  spaceID    stationID  \\\n",
       "5573   1_1_193_827_2019-07-02 00:32:45.820079      1  AG-1F02  1-1-193-827   \n",
       "65037  1_1_193_827_2019-07-02 00:32:45.820079      1  AG-1F02  1-1-193-827   \n",
       "65038  1_1_194_818_2019-07-02 12:15:28.503952      1  AG-1F14  1-1-194-818   \n",
       "5574   1_1_194_818_2019-07-02 12:15:28.503952      1  AG-1F14  1-1-194-818   \n",
       "5575   1_1_178_828_2019-07-02 12:42:48.733464      1  AG-1F10  1-1-178-828   \n",
       "...                                       ...    ...      ...          ...   \n",
       "6983   1_1_191_795_2019-07-31 19:04:40.098273      1  AG-4F51  1-1-191-795   \n",
       "66448  1_1_191_778_2019-07-31 19:19:46.919358      1  AG-4F43  1-1-191-778   \n",
       "6984   1_1_191_778_2019-07-31 19:19:46.919358      1  AG-4F43  1-1-191-778   \n",
       "6985   1_1_178_817_2019-07-31 19:21:46.727697      1  AG-1F09  1-1-178-817   \n",
       "66449  1_1_178_817_2019-07-31 19:21:46.727697      1  AG-1F09  1-1-178-817   \n",
       "\n",
       "                  timezone  userID connection_date  \n",
       "5573   America/Los_Angeles  1117.0      2019-07-02  \n",
       "65037  America/Los_Angeles  1117.0      2019-07-02  \n",
       "65038  America/Los_Angeles  2834.0      2019-07-02  \n",
       "5574   America/Los_Angeles  2834.0      2019-07-02  \n",
       "5575   America/Los_Angeles   651.0      2019-07-02  \n",
       "...                    ...     ...             ...  \n",
       "6983   America/Los_Angeles  1974.0      2019-07-31  \n",
       "66448  America/Los_Angeles   942.0      2019-07-31  \n",
       "6984   America/Los_Angeles   942.0      2019-07-31  \n",
       "6985   America/Los_Angeles     NaN      2019-07-31  \n",
       "66449  America/Los_Angeles     NaN      2019-07-31  \n",
       "\n",
       "[2826 rows x 13 columns]"
      ],
      "text/html": [
       "<div>\n",
       "<style scoped>\n",
       "    .dataframe tbody tr th:only-of-type {\n",
       "        vertical-align: middle;\n",
       "    }\n",
       "\n",
       "    .dataframe tbody tr th {\n",
       "        vertical-align: top;\n",
       "    }\n",
       "\n",
       "    .dataframe thead th {\n",
       "        text-align: right;\n",
       "    }\n",
       "</style>\n",
       "<table border=\"1\" class=\"dataframe\">\n",
       "  <thead>\n",
       "    <tr style=\"text-align: right;\">\n",
       "      <th></th>\n",
       "      <th>counter</th>\n",
       "      <th>id</th>\n",
       "      <th>connectionTime</th>\n",
       "      <th>disconnectTime</th>\n",
       "      <th>doneChargingTime</th>\n",
       "      <th>kWhDelivered</th>\n",
       "      <th>sessionID</th>\n",
       "      <th>siteID</th>\n",
       "      <th>spaceID</th>\n",
       "      <th>stationID</th>\n",
       "      <th>timezone</th>\n",
       "      <th>userID</th>\n",
       "      <th>connection_date</th>\n",
       "    </tr>\n",
       "  </thead>\n",
       "  <tbody>\n",
       "    <tr>\n",
       "      <th>5573</th>\n",
       "      <td>0</td>\n",
       "      <td>5d2fbdd3f9af8b4d0dd0d54f</td>\n",
       "      <td>2019-07-01 17:32:46-07:00</td>\n",
       "      <td>2019-07-01 19:34:56-07:00</td>\n",
       "      <td>2019-07-01 18:46:09-07:00</td>\n",
       "      <td>2.463</td>\n",
       "      <td>1_1_193_827_2019-07-02 00:32:45.820079</td>\n",
       "      <td>1</td>\n",
       "      <td>AG-1F02</td>\n",
       "      <td>1-1-193-827</td>\n",
       "      <td>America/Los_Angeles</td>\n",
       "      <td>1117.0</td>\n",
       "      <td>2019-07-02</td>\n",
       "    </tr>\n",
       "    <tr>\n",
       "      <th>65037</th>\n",
       "      <td>8675</td>\n",
       "      <td>5d2fbdd3f9af8b4d0dd0d54f</td>\n",
       "      <td>2019-07-01 17:32:46-07:00</td>\n",
       "      <td>2019-07-01 19:34:56-07:00</td>\n",
       "      <td>2019-07-01 18:46:09-07:00</td>\n",
       "      <td>2.463</td>\n",
       "      <td>1_1_193_827_2019-07-02 00:32:45.820079</td>\n",
       "      <td>1</td>\n",
       "      <td>AG-1F02</td>\n",
       "      <td>1-1-193-827</td>\n",
       "      <td>America/Los_Angeles</td>\n",
       "      <td>1117.0</td>\n",
       "      <td>2019-07-02</td>\n",
       "    </tr>\n",
       "    <tr>\n",
       "      <th>65038</th>\n",
       "      <td>8676</td>\n",
       "      <td>5d310f54f9af8b52adda3e20</td>\n",
       "      <td>2019-07-02 05:15:28-07:00</td>\n",
       "      <td>2019-07-02 09:01:01-07:00</td>\n",
       "      <td>2019-07-02 09:01:38-07:00</td>\n",
       "      <td>12.891</td>\n",
       "      <td>1_1_194_818_2019-07-02 12:15:28.503952</td>\n",
       "      <td>1</td>\n",
       "      <td>AG-1F14</td>\n",
       "      <td>1-1-194-818</td>\n",
       "      <td>America/Los_Angeles</td>\n",
       "      <td>2834.0</td>\n",
       "      <td>2019-07-02</td>\n",
       "    </tr>\n",
       "    <tr>\n",
       "      <th>5574</th>\n",
       "      <td>1</td>\n",
       "      <td>5d310f54f9af8b52adda3e20</td>\n",
       "      <td>2019-07-02 05:15:28-07:00</td>\n",
       "      <td>2019-07-02 09:01:01-07:00</td>\n",
       "      <td>2019-07-02 09:01:38-07:00</td>\n",
       "      <td>12.891</td>\n",
       "      <td>1_1_194_818_2019-07-02 12:15:28.503952</td>\n",
       "      <td>1</td>\n",
       "      <td>AG-1F14</td>\n",
       "      <td>1-1-194-818</td>\n",
       "      <td>America/Los_Angeles</td>\n",
       "      <td>2834.0</td>\n",
       "      <td>2019-07-02</td>\n",
       "    </tr>\n",
       "    <tr>\n",
       "      <th>5575</th>\n",
       "      <td>2</td>\n",
       "      <td>5d310f54f9af8b52adda3e21</td>\n",
       "      <td>2019-07-02 05:42:49-07:00</td>\n",
       "      <td>2019-07-02 12:34:19-07:00</td>\n",
       "      <td>2019-07-02 09:21:21-07:00</td>\n",
       "      <td>13.734</td>\n",
       "      <td>1_1_178_828_2019-07-02 12:42:48.733464</td>\n",
       "      <td>1</td>\n",
       "      <td>AG-1F10</td>\n",
       "      <td>1-1-178-828</td>\n",
       "      <td>America/Los_Angeles</td>\n",
       "      <td>651.0</td>\n",
       "      <td>2019-07-02</td>\n",
       "    </tr>\n",
       "    <tr>\n",
       "      <th>...</th>\n",
       "      <td>...</td>\n",
       "      <td>...</td>\n",
       "      <td>...</td>\n",
       "      <td>...</td>\n",
       "      <td>...</td>\n",
       "      <td>...</td>\n",
       "      <td>...</td>\n",
       "      <td>...</td>\n",
       "      <td>...</td>\n",
       "      <td>...</td>\n",
       "      <td>...</td>\n",
       "      <td>...</td>\n",
       "      <td>...</td>\n",
       "    </tr>\n",
       "    <tr>\n",
       "      <th>6983</th>\n",
       "      <td>1410</td>\n",
       "      <td>5d574ad2f9af8b4c10c03654</td>\n",
       "      <td>2019-07-31 12:04:40-07:00</td>\n",
       "      <td>2019-07-31 15:44:22-07:00</td>\n",
       "      <td>2019-07-31 15:45:21-07:00</td>\n",
       "      <td>11.274</td>\n",
       "      <td>1_1_191_795_2019-07-31 19:04:40.098273</td>\n",
       "      <td>1</td>\n",
       "      <td>AG-4F51</td>\n",
       "      <td>1-1-191-795</td>\n",
       "      <td>America/Los_Angeles</td>\n",
       "      <td>1974.0</td>\n",
       "      <td>2019-07-31</td>\n",
       "    </tr>\n",
       "    <tr>\n",
       "      <th>66448</th>\n",
       "      <td>10086</td>\n",
       "      <td>5d574ad2f9af8b4c10c03655</td>\n",
       "      <td>2019-07-31 12:19:47-07:00</td>\n",
       "      <td>2019-07-31 17:34:51-07:00</td>\n",
       "      <td>2019-07-31 14:25:30-07:00</td>\n",
       "      <td>11.589</td>\n",
       "      <td>1_1_191_778_2019-07-31 19:19:46.919358</td>\n",
       "      <td>1</td>\n",
       "      <td>AG-4F43</td>\n",
       "      <td>1-1-191-778</td>\n",
       "      <td>America/Los_Angeles</td>\n",
       "      <td>942.0</td>\n",
       "      <td>2019-07-31</td>\n",
       "    </tr>\n",
       "    <tr>\n",
       "      <th>6984</th>\n",
       "      <td>1411</td>\n",
       "      <td>5d574ad2f9af8b4c10c03655</td>\n",
       "      <td>2019-07-31 12:19:47-07:00</td>\n",
       "      <td>2019-07-31 17:34:51-07:00</td>\n",
       "      <td>2019-07-31 14:25:30-07:00</td>\n",
       "      <td>11.589</td>\n",
       "      <td>1_1_191_778_2019-07-31 19:19:46.919358</td>\n",
       "      <td>1</td>\n",
       "      <td>AG-4F43</td>\n",
       "      <td>1-1-191-778</td>\n",
       "      <td>America/Los_Angeles</td>\n",
       "      <td>942.0</td>\n",
       "      <td>2019-07-31</td>\n",
       "    </tr>\n",
       "    <tr>\n",
       "      <th>6985</th>\n",
       "      <td>1412</td>\n",
       "      <td>5d574ad2f9af8b4c10c03656</td>\n",
       "      <td>2019-07-31 12:21:47-07:00</td>\n",
       "      <td>2019-07-31 15:00:04-07:00</td>\n",
       "      <td>2019-07-31 13:51:34-07:00</td>\n",
       "      <td>0.897</td>\n",
       "      <td>1_1_178_817_2019-07-31 19:21:46.727697</td>\n",
       "      <td>1</td>\n",
       "      <td>AG-1F09</td>\n",
       "      <td>1-1-178-817</td>\n",
       "      <td>America/Los_Angeles</td>\n",
       "      <td>NaN</td>\n",
       "      <td>2019-07-31</td>\n",
       "    </tr>\n",
       "    <tr>\n",
       "      <th>66449</th>\n",
       "      <td>10087</td>\n",
       "      <td>5d574ad2f9af8b4c10c03656</td>\n",
       "      <td>2019-07-31 12:21:47-07:00</td>\n",
       "      <td>2019-07-31 15:00:04-07:00</td>\n",
       "      <td>2019-07-31 13:51:34-07:00</td>\n",
       "      <td>0.897</td>\n",
       "      <td>1_1_178_817_2019-07-31 19:21:46.727697</td>\n",
       "      <td>1</td>\n",
       "      <td>AG-1F09</td>\n",
       "      <td>1-1-178-817</td>\n",
       "      <td>America/Los_Angeles</td>\n",
       "      <td>NaN</td>\n",
       "      <td>2019-07-31</td>\n",
       "    </tr>\n",
       "  </tbody>\n",
       "</table>\n",
       "<p>2826 rows × 13 columns</p>\n",
       "</div>"
      ]
     },
     "execution_count": 373,
     "metadata": {},
     "output_type": "execute_result"
    }
   ],
   "execution_count": 373
  },
  {
   "metadata": {
    "ExecuteTime": {
     "end_time": "2025-01-26T13:07:52.186413Z",
     "start_time": "2025-01-26T13:07:52.180125Z"
    }
   },
   "cell_type": "code",
   "source": [
    "# Drop duplicate rows from dataframe charging_data\n",
    "charging_data.drop_duplicates(subset='sessionID', keep='first', inplace=True)"
   ],
   "id": "111791d056569dde",
   "outputs": [],
   "execution_count": 374
  },
  {
   "metadata": {},
   "cell_type": "markdown",
   "source": "### 2.4 Identifying missing data",
   "id": "4e43efc6b422b7ac"
  },
  {
   "metadata": {},
   "cell_type": "markdown",
   "source": "#### 2.4.1 Charging Data",
   "id": "355ec01ea0f704ee"
  },
  {
   "metadata": {
    "ExecuteTime": {
     "end_time": "2025-01-26T13:07:52.286477Z",
     "start_time": "2025-01-26T13:07:52.278497Z"
    }
   },
   "cell_type": "code",
   "source": [
    "# Add a column for month and year\n",
    "charging_data['year_month'] = charging_data['connectionTime'].dt.to_period('M')\n",
    "\n",
    "# Group by month and count records\n",
    "monthly_counts = charging_data.groupby('year_month').size()\n",
    "\n",
    "# Display the counts for visual inspection\n",
    "monthly_counts\n",
    "\n",
    "# The UserWarning about dropping timezone information is not a problem in this case"
   ],
   "id": "a7c11cfd4b6f9048",
   "outputs": [
    {
     "name": "stderr",
     "output_type": "stream",
     "text": [
      "/var/folders/19/n27574l10m705j9rkxgsyy500000gn/T/ipykernel_30691/2080109559.py:2: UserWarning: Converting to PeriodArray/Index representation will drop timezone information.\n",
      "  charging_data['year_month'] = charging_data['connectionTime'].dt.to_period('M')\n"
     ]
    },
    {
     "data": {
      "text/plain": [
       "year_month\n",
       "2018-04     270\n",
       "2018-05    1776\n",
       "2018-06    1845\n",
       "2018-07    2053\n",
       "2018-08    2430\n",
       "2018-09    3190\n",
       "2018-10    3980\n",
       "2018-11    2593\n",
       "2018-12    1930\n",
       "2019-01    2360\n",
       "2019-02    2222\n",
       "2019-03    2353\n",
       "2019-04    2559\n",
       "2019-05    2608\n",
       "2019-06    2267\n",
       "2019-07    2309\n",
       "2019-08    2369\n",
       "2019-09    2250\n",
       "2019-10    2602\n",
       "2019-11    2123\n",
       "2019-12    1997\n",
       "2020-01    2300\n",
       "2020-02    2249\n",
       "2020-03    1216\n",
       "2020-04     225\n",
       "2020-05     268\n",
       "2020-06     411\n",
       "2020-07     552\n",
       "2020-08      30\n",
       "2020-11     209\n",
       "2020-12     581\n",
       "2021-01     679\n",
       "2021-02     747\n",
       "2021-03     915\n",
       "2021-04     971\n",
       "2021-05    1006\n",
       "2021-06    1246\n",
       "2021-07    1035\n",
       "2021-08    1628\n",
       "2021-09     683\n",
       "Freq: M, dtype: int64"
      ]
     },
     "execution_count": 375,
     "metadata": {},
     "output_type": "execute_result"
    }
   ],
   "execution_count": 375
  },
  {
   "metadata": {},
   "cell_type": "markdown",
   "source": [
    "Observations: </br>\n",
    "- Notably more charging sessions in 2018 and 2019, especially in summer months (pre-covid)\n",
    "- Much less charging sessions during covid pandemic\n",
    "- Did not reach old levels after pandemic start"
   ],
   "id": "f9802fab79c1c1d4"
  },
  {
   "metadata": {
    "ExecuteTime": {
     "end_time": "2025-01-26T13:07:52.337687Z",
     "start_time": "2025-01-26T13:07:52.332862Z"
    }
   },
   "cell_type": "code",
   "source": [
    "# Identify the first element (connectionTime) per site\n",
    "first_element_per_site = charging_data.groupby('siteID')['connectionTime'].min()\n",
    "first_element_per_site"
   ],
   "id": "255b545fa8708710",
   "outputs": [
    {
     "data": {
      "text/plain": [
       "siteID\n",
       "1   2018-09-05 04:04:13-07:00\n",
       "2   2018-04-25 04:08:04-07:00\n",
       "Name: connectionTime, dtype: datetime64[ns, America/Los_Angeles]"
      ]
     },
     "execution_count": 376,
     "metadata": {},
     "output_type": "execute_result"
    }
   ],
   "execution_count": 376
  },
  {
   "metadata": {
    "ExecuteTime": {
     "end_time": "2025-01-26T13:07:52.388547Z",
     "start_time": "2025-01-26T13:07:52.384264Z"
    }
   },
   "cell_type": "code",
   "source": [
    "# Identify the last element (connectionTime) per site\n",
    "last_element_per_site = charging_data.groupby('siteID')['connectionTime'].max()\n",
    "last_element_per_site"
   ],
   "id": "c19dda10dd7841ce",
   "outputs": [
    {
     "data": {
      "text/plain": [
       "siteID\n",
       "1   2021-09-13 22:43:39-07:00\n",
       "2   2021-09-13 18:52:37-07:00\n",
       "Name: connectionTime, dtype: datetime64[ns, America/Los_Angeles]"
      ]
     },
     "execution_count": 377,
     "metadata": {},
     "output_type": "execute_result"
    }
   ],
   "execution_count": 377
  },
  {
   "metadata": {},
   "cell_type": "markdown",
   "source": [
    "Observations:\n",
    "- Charging data ranges from 25th April 2018 (site 2) & 5th September 2018 (site 1) to 13th September 2021 (both sites)\n",
    "- Data for site 1 starts 133 days after site 2"
   ],
   "id": "e359d6a9495dccb6"
  },
  {
   "metadata": {
    "ExecuteTime": {
     "end_time": "2025-01-26T13:07:52.481106Z",
     "start_time": "2025-01-26T13:07:52.474287Z"
    }
   },
   "cell_type": "code",
   "source": [
    "# Look at the missing timeframe between approx. August and December 2020\n",
    "filtered_data = charging_data[\n",
    "    (charging_data['connectionTime'] >= '2020-08-01') &\n",
    "    (charging_data['connectionTime'] <= '2020-12-01')\n",
    "    ].copy()\n",
    "\n",
    "# Group by date and get the last record for each date\n",
    "last_records_per_date = filtered_data.groupby(['siteID', 'connection_date']).tail(1)\n",
    "last_records_per_date.head()"
   ],
   "id": "75d0ef28ca9e1114",
   "outputs": [
    {
     "data": {
      "text/plain": [
       "      counter                        id            connectionTime  \\\n",
       "5024     5024  5f3b210cf9af8b0a6d10cbf3 2020-08-01 10:58:21-07:00   \n",
       "5025     5025  5f3c728df9af8b0c7b9c8a8a 2020-08-02 10:49:33-07:00   \n",
       "5048     5048  5f3dc41bf9af8b0e903d4335 2020-08-03 14:43:29-07:00   \n",
       "5050     5050  5fdd57f4f9af8b16e6675e22 2020-11-18 14:38:46-08:00   \n",
       "5077     5077  5fdd5806f9af8b16e6675e3c 2020-11-19 15:14:30-08:00   \n",
       "\n",
       "                disconnectTime          doneChargingTime  kWhDelivered  \\\n",
       "5024 2020-08-01 16:11:54-07:00 2020-08-01 13:56:04-07:00         8.599   \n",
       "5025 2020-08-02 15:56:36-07:00 2020-08-02 13:51:52-07:00         8.812   \n",
       "5048 2020-08-03 17:30:15-07:00 2020-08-03 17:30:10-07:00         5.516   \n",
       "5050 2020-11-18 20:32:11-08:00 2020-11-18 20:31:58-08:00         9.113   \n",
       "5077 2020-11-19 17:19:36-08:00 2020-11-19 17:06:16-08:00         6.306   \n",
       "\n",
       "                                   sessionID siteID  spaceID    stationID  \\\n",
       "5024  1_1_191_792_2020-08-01 17:58:21.088227      1  AG-4F37  1-1-191-792   \n",
       "5025  1_1_191_792_2020-08-02 17:49:33.364151      1  AG-4F37  1-1-191-792   \n",
       "5048  1_1_193_827_2020-08-03 21:43:29.408907      1  AG-1F02  1-1-193-827   \n",
       "5050  1_1_194_826_2020-11-18 22:38:45.601089      1  AG-1F11  1-1-194-826   \n",
       "5077  1_1_191_792_2020-11-19 23:14:30.011951      1  AG-4F37  1-1-191-792   \n",
       "\n",
       "                 timezone  userID connection_date year_month  \n",
       "5024  America/Los_Angeles    76.0      2020-08-01    2020-08  \n",
       "5025  America/Los_Angeles    76.0      2020-08-02    2020-08  \n",
       "5048  America/Los_Angeles   405.0      2020-08-03    2020-08  \n",
       "5050  America/Los_Angeles  7705.0      2020-11-18    2020-11  \n",
       "5077  America/Los_Angeles  5015.0      2020-11-19    2020-11  "
      ],
      "text/html": [
       "<div>\n",
       "<style scoped>\n",
       "    .dataframe tbody tr th:only-of-type {\n",
       "        vertical-align: middle;\n",
       "    }\n",
       "\n",
       "    .dataframe tbody tr th {\n",
       "        vertical-align: top;\n",
       "    }\n",
       "\n",
       "    .dataframe thead th {\n",
       "        text-align: right;\n",
       "    }\n",
       "</style>\n",
       "<table border=\"1\" class=\"dataframe\">\n",
       "  <thead>\n",
       "    <tr style=\"text-align: right;\">\n",
       "      <th></th>\n",
       "      <th>counter</th>\n",
       "      <th>id</th>\n",
       "      <th>connectionTime</th>\n",
       "      <th>disconnectTime</th>\n",
       "      <th>doneChargingTime</th>\n",
       "      <th>kWhDelivered</th>\n",
       "      <th>sessionID</th>\n",
       "      <th>siteID</th>\n",
       "      <th>spaceID</th>\n",
       "      <th>stationID</th>\n",
       "      <th>timezone</th>\n",
       "      <th>userID</th>\n",
       "      <th>connection_date</th>\n",
       "      <th>year_month</th>\n",
       "    </tr>\n",
       "  </thead>\n",
       "  <tbody>\n",
       "    <tr>\n",
       "      <th>5024</th>\n",
       "      <td>5024</td>\n",
       "      <td>5f3b210cf9af8b0a6d10cbf3</td>\n",
       "      <td>2020-08-01 10:58:21-07:00</td>\n",
       "      <td>2020-08-01 16:11:54-07:00</td>\n",
       "      <td>2020-08-01 13:56:04-07:00</td>\n",
       "      <td>8.599</td>\n",
       "      <td>1_1_191_792_2020-08-01 17:58:21.088227</td>\n",
       "      <td>1</td>\n",
       "      <td>AG-4F37</td>\n",
       "      <td>1-1-191-792</td>\n",
       "      <td>America/Los_Angeles</td>\n",
       "      <td>76.0</td>\n",
       "      <td>2020-08-01</td>\n",
       "      <td>2020-08</td>\n",
       "    </tr>\n",
       "    <tr>\n",
       "      <th>5025</th>\n",
       "      <td>5025</td>\n",
       "      <td>5f3c728df9af8b0c7b9c8a8a</td>\n",
       "      <td>2020-08-02 10:49:33-07:00</td>\n",
       "      <td>2020-08-02 15:56:36-07:00</td>\n",
       "      <td>2020-08-02 13:51:52-07:00</td>\n",
       "      <td>8.812</td>\n",
       "      <td>1_1_191_792_2020-08-02 17:49:33.364151</td>\n",
       "      <td>1</td>\n",
       "      <td>AG-4F37</td>\n",
       "      <td>1-1-191-792</td>\n",
       "      <td>America/Los_Angeles</td>\n",
       "      <td>76.0</td>\n",
       "      <td>2020-08-02</td>\n",
       "      <td>2020-08</td>\n",
       "    </tr>\n",
       "    <tr>\n",
       "      <th>5048</th>\n",
       "      <td>5048</td>\n",
       "      <td>5f3dc41bf9af8b0e903d4335</td>\n",
       "      <td>2020-08-03 14:43:29-07:00</td>\n",
       "      <td>2020-08-03 17:30:15-07:00</td>\n",
       "      <td>2020-08-03 17:30:10-07:00</td>\n",
       "      <td>5.516</td>\n",
       "      <td>1_1_193_827_2020-08-03 21:43:29.408907</td>\n",
       "      <td>1</td>\n",
       "      <td>AG-1F02</td>\n",
       "      <td>1-1-193-827</td>\n",
       "      <td>America/Los_Angeles</td>\n",
       "      <td>405.0</td>\n",
       "      <td>2020-08-03</td>\n",
       "      <td>2020-08</td>\n",
       "    </tr>\n",
       "    <tr>\n",
       "      <th>5050</th>\n",
       "      <td>5050</td>\n",
       "      <td>5fdd57f4f9af8b16e6675e22</td>\n",
       "      <td>2020-11-18 14:38:46-08:00</td>\n",
       "      <td>2020-11-18 20:32:11-08:00</td>\n",
       "      <td>2020-11-18 20:31:58-08:00</td>\n",
       "      <td>9.113</td>\n",
       "      <td>1_1_194_826_2020-11-18 22:38:45.601089</td>\n",
       "      <td>1</td>\n",
       "      <td>AG-1F11</td>\n",
       "      <td>1-1-194-826</td>\n",
       "      <td>America/Los_Angeles</td>\n",
       "      <td>7705.0</td>\n",
       "      <td>2020-11-18</td>\n",
       "      <td>2020-11</td>\n",
       "    </tr>\n",
       "    <tr>\n",
       "      <th>5077</th>\n",
       "      <td>5077</td>\n",
       "      <td>5fdd5806f9af8b16e6675e3c</td>\n",
       "      <td>2020-11-19 15:14:30-08:00</td>\n",
       "      <td>2020-11-19 17:19:36-08:00</td>\n",
       "      <td>2020-11-19 17:06:16-08:00</td>\n",
       "      <td>6.306</td>\n",
       "      <td>1_1_191_792_2020-11-19 23:14:30.011951</td>\n",
       "      <td>1</td>\n",
       "      <td>AG-4F37</td>\n",
       "      <td>1-1-191-792</td>\n",
       "      <td>America/Los_Angeles</td>\n",
       "      <td>5015.0</td>\n",
       "      <td>2020-11-19</td>\n",
       "      <td>2020-11</td>\n",
       "    </tr>\n",
       "  </tbody>\n",
       "</table>\n",
       "</div>"
      ]
     },
     "execution_count": 378,
     "metadata": {},
     "output_type": "execute_result"
    }
   ],
   "execution_count": 378
  },
  {
   "metadata": {},
   "cell_type": "markdown",
   "source": "Final observation after looking at the filtered dataset: There is no charging data between 3rd August 2020 and 18th November 2020 for both sites.",
   "id": "5ff6c4728e27b4b2"
  },
  {
   "metadata": {},
   "cell_type": "markdown",
   "source": "#### 2.4.2 Weather Data",
   "id": "a31aafb737afb224"
  },
  {
   "metadata": {
    "ExecuteTime": {
     "end_time": "2025-01-26T13:07:52.663606Z",
     "start_time": "2025-01-26T13:07:52.661381Z"
    }
   },
   "cell_type": "code",
   "source": [
    "# Identify the first and last element (timestamp)\n",
    "first_weather_element = weather_data['timestamp'].min()\n",
    "last_weather_element = weather_data['timestamp'].max()\n",
    "print(f\"Frist weather record: {first_weather_element}\")\n",
    "print(f\"Last weather record: {last_weather_element}\")"
   ],
   "id": "ec4d262524a39f92",
   "outputs": [
    {
     "name": "stdout",
     "output_type": "stream",
     "text": [
      "Frist weather record: 2018-01-01 00:53:00-08:00\n",
      "Last weather record: 2021-09-30 23:53:00-07:00\n"
     ]
    }
   ],
   "execution_count": 379
  },
  {
   "metadata": {},
   "cell_type": "markdown",
   "source": [
    "Observations:\n",
    "- Weather data ranges from 01-01-2018 to 01-01-2021\n",
    "- no area missing inbetween"
   ],
   "id": "1815b5f4eccbdaf5"
  },
  {
   "metadata": {
    "ExecuteTime": {
     "end_time": "2025-01-26T13:07:52.809545Z",
     "start_time": "2025-01-26T13:07:52.799682Z"
    }
   },
   "cell_type": "code",
   "source": [
    "# Identify missing data in charging dataset by using .isnull()\n",
    "charging_missing_data = charging_data.isnull().sum()\n",
    "charging_missing_data[charging_missing_data > 0]"
   ],
   "id": "869f34c27faf03ee",
   "outputs": [
    {
     "data": {
      "text/plain": [
       "doneChargingTime     4087\n",
       "userID              17215\n",
       "dtype: int64"
      ]
     },
     "execution_count": 380,
     "metadata": {},
     "output_type": "execute_result"
    }
   ],
   "execution_count": 380
  },
  {
   "metadata": {
    "ExecuteTime": {
     "end_time": "2025-01-26T13:07:52.883373Z",
     "start_time": "2025-01-26T13:07:52.876983Z"
    }
   },
   "cell_type": "code",
   "source": [
    "# Identify missing data in weather dataset by using .isnull()\n",
    "weather_missing_data = weather_data.isnull().sum()\n",
    "weather_missing_data[weather_missing_data > 0]"
   ],
   "id": "546b9d0f5c994e8a",
   "outputs": [
    {
     "data": {
      "text/plain": [
       "city                       6511\n",
       "temperature                  25\n",
       "cloud_cover                6531\n",
       "cloud_cover_description    6531\n",
       "pressure                   6519\n",
       "windspeed                    86\n",
       "felt_temperature           6537\n",
       "weather_date               6511\n",
       "dtype: int64"
      ]
     },
     "execution_count": 381,
     "metadata": {},
     "output_type": "execute_result"
    }
   ],
   "execution_count": 381
  },
  {
   "metadata": {
    "ExecuteTime": {
     "end_time": "2025-01-26T13:07:52.975693Z",
     "start_time": "2025-01-26T13:07:52.972025Z"
    }
   },
   "cell_type": "code",
   "source": [
    "# How many unique lines are having missing values in the weather dataset?\n",
    "print(\"Number of unique lines with missing values: \" + str(weather_data.isnull().any(axis=1).sum()))"
   ],
   "id": "45778f484e5d476c",
   "outputs": [
    {
     "name": "stdout",
     "output_type": "stream",
     "text": [
      "Number of unique lines with missing values: 6650\n"
     ]
    }
   ],
   "execution_count": 382
  },
  {
   "metadata": {},
   "cell_type": "markdown",
   "source": [
    "For reference: </br>\n",
    "- The charging dataset has 65037 records\n",
    "- The weather dataset has 29241 records"
   ],
   "id": "c44f4796929f84c1"
  },
  {
   "metadata": {},
   "cell_type": "markdown",
   "source": [
    "**Let's look at the missing values:**<br>\n",
    "For `charging_data`:\n",
    "- `doneChargingTime`: We have 4087 missing values, that is 4087/65037 = 6,28% of the data set. We will drop them from our dataset (further reasons below).\n",
    "- `userID`: We have 17215 missing values, that is 17215/65037 = 26,47% of the dataset. We will replace them with empty string values.\n",
    "- userInput: **!!!!!111TODO!!!:** We have 17215 missing values, that is 17215/65037 = 26,47% of the dataset. This correlates with the missing userIDs. We will replace them with 0.\n",
    "\n",
    "For `weather_data`:\n",
    "- There are 139 unique lines with missing values in the data set. Because this is only 139/29241 = 0,47% of the dataset, we decided to drop these records."
   ],
   "id": "c374c3859375fc91"
  },
  {
   "metadata": {},
   "cell_type": "markdown",
   "source": "### 2.5 Handling missing data",
   "id": "782044a59ca3cda9"
  },
  {
   "metadata": {},
   "cell_type": "markdown",
   "source": "#### 2.5.1 Charging Data",
   "id": "6bf840f0ca79bc23"
  },
  {
   "metadata": {
    "ExecuteTime": {
     "end_time": "2025-01-26T13:07:53.042848Z",
     "start_time": "2025-01-26T13:07:53.030561Z"
    }
   },
   "cell_type": "code",
   "source": [
    "# Quick overview - where do we stand?\n",
    "charging_data.info()"
   ],
   "id": "d3573ad3221a803",
   "outputs": [
    {
     "name": "stdout",
     "output_type": "stream",
     "text": [
      "<class 'pandas.core.frame.DataFrame'>\n",
      "Index: 65037 entries, 0 to 65036\n",
      "Data columns (total 14 columns):\n",
      " #   Column            Non-Null Count  Dtype                              \n",
      "---  ------            --------------  -----                              \n",
      " 0   counter           65037 non-null  int64                              \n",
      " 1   id                65037 non-null  object                             \n",
      " 2   connectionTime    65037 non-null  datetime64[ns, America/Los_Angeles]\n",
      " 3   disconnectTime    65037 non-null  datetime64[ns, America/Los_Angeles]\n",
      " 4   doneChargingTime  60950 non-null  datetime64[ns, America/Los_Angeles]\n",
      " 5   kWhDelivered      65037 non-null  float64                            \n",
      " 6   sessionID         65037 non-null  object                             \n",
      " 7   siteID            65037 non-null  object                             \n",
      " 8   spaceID           65037 non-null  object                             \n",
      " 9   stationID         65037 non-null  object                             \n",
      " 10  timezone          65037 non-null  object                             \n",
      " 11  userID            47822 non-null  float64                            \n",
      " 12  connection_date   65037 non-null  object                             \n",
      " 13  year_month        65037 non-null  period[M]                          \n",
      "dtypes: datetime64[ns, America/Los_Angeles](3), float64(2), int64(1), object(7), period[M](1)\n",
      "memory usage: 7.4+ MB\n"
     ]
    }
   ],
   "execution_count": 383
  },
  {
   "metadata": {
    "ExecuteTime": {
     "end_time": "2025-01-26T13:07:53.131125Z",
     "start_time": "2025-01-26T13:07:53.109671Z"
    }
   },
   "cell_type": "code",
   "source": [
    "# Make a copy to avoid modifying the original DataFrame\n",
    "charging_data_cleaned = charging_data.copy()"
   ],
   "id": "86a88d1d324cce7f",
   "outputs": [],
   "execution_count": 384
  },
  {
   "metadata": {},
   "cell_type": "markdown",
   "source": [
    "**Delete all data records where doneChargingTime is empty**\n",
    "* At first we wanted to fill the empty doneChargingTime fields with _connectionTime + median charging time_, but this resulted in a kind of bias for the 4087 (65037-60950) records (which we only noticed later in our cluster analysis)\n",
    "* In conclusion we decided to drop all records where doneChargingTime is empty because estimating a possible and sensible doneChargingTime was not quite possible and setting the doneChargingTime to disconnectTime didn't seem to make sense to us either"
   ],
   "id": "e46ebdb8e49c7f21"
  },
  {
   "metadata": {
    "ExecuteTime": {
     "end_time": "2025-01-26T13:07:53.213840Z",
     "start_time": "2025-01-26T13:07:53.202532Z"
    }
   },
   "cell_type": "code",
   "source": [
    "# Delete all data records where doneChargingTime is empty\n",
    "charging_data_cleaned = charging_data_cleaned[charging_data_cleaned['doneChargingTime'].notna()]"
   ],
   "id": "d30696d22690fb1",
   "outputs": [],
   "execution_count": 385
  },
  {
   "metadata": {
    "ExecuteTime": {
     "end_time": "2025-01-26T13:07:53.259815Z",
     "start_time": "2025-01-26T13:07:53.247632Z"
    }
   },
   "cell_type": "code",
   "source": "charging_data_cleaned.info()",
   "id": "ae0e82d0b3e9a50e",
   "outputs": [
    {
     "name": "stdout",
     "output_type": "stream",
     "text": [
      "<class 'pandas.core.frame.DataFrame'>\n",
      "Index: 60950 entries, 0 to 65036\n",
      "Data columns (total 14 columns):\n",
      " #   Column            Non-Null Count  Dtype                              \n",
      "---  ------            --------------  -----                              \n",
      " 0   counter           60950 non-null  int64                              \n",
      " 1   id                60950 non-null  object                             \n",
      " 2   connectionTime    60950 non-null  datetime64[ns, America/Los_Angeles]\n",
      " 3   disconnectTime    60950 non-null  datetime64[ns, America/Los_Angeles]\n",
      " 4   doneChargingTime  60950 non-null  datetime64[ns, America/Los_Angeles]\n",
      " 5   kWhDelivered      60950 non-null  float64                            \n",
      " 6   sessionID         60950 non-null  object                             \n",
      " 7   siteID            60950 non-null  object                             \n",
      " 8   spaceID           60950 non-null  object                             \n",
      " 9   stationID         60950 non-null  object                             \n",
      " 10  timezone          60950 non-null  object                             \n",
      " 11  userID            44644 non-null  float64                            \n",
      " 12  connection_date   60950 non-null  object                             \n",
      " 13  year_month        60950 non-null  period[M]                          \n",
      "dtypes: datetime64[ns, America/Los_Angeles](3), float64(2), int64(1), object(7), period[M](1)\n",
      "memory usage: 7.0+ MB\n"
     ]
    }
   ],
   "execution_count": 386
  },
  {
   "metadata": {
    "ExecuteTime": {
     "end_time": "2025-01-26T13:07:53.326524Z",
     "start_time": "2025-01-26T13:07:53.305736Z"
    }
   },
   "cell_type": "code",
   "source": [
    "# Fill userID with empty String values\n",
    "charging_data_cleaned['userID'] = charging_data_cleaned['userID'].fillna(0)\n",
    "charging_data_cleaned['userID'] = charging_data_cleaned['userID'].astype(int)\n",
    "charging_data_cleaned['userID'] = charging_data_cleaned['userID'].replace(0, '')\n",
    "charging_data_cleaned['userID'] = charging_data_cleaned['userID'].astype(str)\n",
    "\n",
    "# charging_data_cleaned['userInputs'] = charging_data_cleaned['userInputs'].fillna('0')\n",
    "\n",
    "print(\n",
    "    f\"Amount of null-Values should be equal to 16306 (=60950-44644) missing userIDs, amount of null-values: {charging_data_cleaned[charging_data_cleaned['userID'] == ''].shape[0]}\")"
   ],
   "id": "371406dce42b1f72",
   "outputs": [
    {
     "name": "stdout",
     "output_type": "stream",
     "text": [
      "Amount of null-Values should be equal to 16306 (=60950-44644) missing userIDs, amount of null-values: 16306\n"
     ]
    }
   ],
   "execution_count": 387
  },
  {
   "metadata": {},
   "cell_type": "markdown",
   "source": "#### 2.5.2 Weather Data",
   "id": "641e5d311fa8a43c"
  },
  {
   "metadata": {
    "ExecuteTime": {
     "end_time": "2025-01-26T13:07:53.343027Z",
     "start_time": "2025-01-26T13:07:53.329875Z"
    }
   },
   "cell_type": "code",
   "source": [
    "# Make a copy to avoid modifying the original DataFrame\n",
    "weather_data_cleaned = weather_data.copy()\n",
    "\n",
    "# Drop lines with missing values (139 unique lines which we observed earlier)\n",
    "weather_data_cleaned = weather_data_cleaned.dropna()"
   ],
   "id": "f804c009d50cd966",
   "outputs": [],
   "execution_count": 388
  },
  {
   "metadata": {
    "ExecuteTime": {
     "end_time": "2025-01-26T13:07:53.392078Z",
     "start_time": "2025-01-26T13:07:53.384542Z"
    }
   },
   "cell_type": "code",
   "source": "weather_data_cleaned.info()",
   "id": "3ae89e53e14901b6",
   "outputs": [
    {
     "name": "stdout",
     "output_type": "stream",
     "text": [
      "<class 'pandas.core.frame.DataFrame'>\n",
      "Index: 29105 entries, 0 to 29243\n",
      "Data columns (total 10 columns):\n",
      " #   Column                   Non-Null Count  Dtype                              \n",
      "---  ------                   --------------  -----                              \n",
      " 0   city                     29105 non-null  object                             \n",
      " 1   timestamp                29105 non-null  datetime64[ns, America/Los_Angeles]\n",
      " 2   temperature              29105 non-null  float64                            \n",
      " 3   cloud_cover              29105 non-null  float64                            \n",
      " 4   cloud_cover_description  29105 non-null  object                             \n",
      " 5   pressure                 29105 non-null  float64                            \n",
      " 6   windspeed                29105 non-null  float64                            \n",
      " 7   precipitation            29105 non-null  float64                            \n",
      " 8   felt_temperature         29105 non-null  float64                            \n",
      " 9   weather_date             29105 non-null  object                             \n",
      "dtypes: datetime64[ns, America/Los_Angeles](1), float64(6), object(3)\n",
      "memory usage: 2.4+ MB\n"
     ]
    }
   ],
   "execution_count": 389
  },
  {
   "metadata": {},
   "cell_type": "markdown",
   "source": "***",
   "id": "3f525cafb0e445e6"
  },
  {
   "metadata": {},
   "cell_type": "markdown",
   "source": "## 3 Erroneous Data",
   "id": "f4d622670d14ea54"
  },
  {
   "metadata": {
    "ExecuteTime": {
     "end_time": "2025-01-26T13:07:53.427486Z",
     "start_time": "2025-01-26T13:07:53.422760Z"
    }
   },
   "cell_type": "code",
   "source": [
    "# Check whether disconnectTime is before connectionTime\n",
    "disconnectBeforeConnect = charging_data_cleaned[\n",
    "    charging_data_cleaned['disconnectTime'] < charging_data_cleaned['connectionTime']]\n",
    "print(f\"Number of rows where disconnectTime is before connectionTime: {disconnectBeforeConnect.shape[0]}\")\n",
    "display(disconnectBeforeConnect[['connectionTime', 'disconnectTime']])"
   ],
   "id": "a152661fa29a9657",
   "outputs": [
    {
     "name": "stdout",
     "output_type": "stream",
     "text": [
      "Number of rows where disconnectTime is before connectionTime: 0\n"
     ]
    },
    {
     "data": {
      "text/plain": [
       "Empty DataFrame\n",
       "Columns: [connectionTime, disconnectTime]\n",
       "Index: []"
      ],
      "text/html": [
       "<div>\n",
       "<style scoped>\n",
       "    .dataframe tbody tr th:only-of-type {\n",
       "        vertical-align: middle;\n",
       "    }\n",
       "\n",
       "    .dataframe tbody tr th {\n",
       "        vertical-align: top;\n",
       "    }\n",
       "\n",
       "    .dataframe thead th {\n",
       "        text-align: right;\n",
       "    }\n",
       "</style>\n",
       "<table border=\"1\" class=\"dataframe\">\n",
       "  <thead>\n",
       "    <tr style=\"text-align: right;\">\n",
       "      <th></th>\n",
       "      <th>connectionTime</th>\n",
       "      <th>disconnectTime</th>\n",
       "    </tr>\n",
       "  </thead>\n",
       "  <tbody>\n",
       "  </tbody>\n",
       "</table>\n",
       "</div>"
      ]
     },
     "metadata": {},
     "output_type": "display_data"
    }
   ],
   "execution_count": 390
  },
  {
   "metadata": {},
   "cell_type": "markdown",
   "source": "Observation: There are no records where disconnectTime is after connectionTime",
   "id": "524c9bc637be886e"
  },
  {
   "metadata": {
    "ExecuteTime": {
     "end_time": "2025-01-26T13:07:53.452849Z",
     "start_time": "2025-01-26T13:07:53.445350Z"
    }
   },
   "cell_type": "code",
   "source": [
    "# Check whether doneChargingTime is before connectionTime\n",
    "doneBeforeConnection = charging_data_cleaned[\n",
    "    charging_data_cleaned['doneChargingTime'] < charging_data_cleaned['connectionTime']]\n",
    "print(f\"Number of rows where doneChargingTime is before connectionTime: {doneBeforeConnection.shape[0]}\")\n",
    "display(doneBeforeConnection[['connectionTime', 'doneChargingTime']].head())"
   ],
   "id": "cc9912e6d417df8a",
   "outputs": [
    {
     "name": "stdout",
     "output_type": "stream",
     "text": [
      "Number of rows where doneChargingTime is before connectionTime: 27\n"
     ]
    },
    {
     "data": {
      "text/plain": [
       "                 connectionTime          doneChargingTime\n",
       "22219 2019-03-05 11:13:55-08:00 2019-03-05 11:12:56-08:00\n",
       "22253 2019-03-06 12:26:30-08:00 2019-03-06 12:25:34-08:00\n",
       "23562 2019-04-15 13:24:13-07:00 2019-04-15 13:23:14-07:00\n",
       "23586 2019-04-16 09:11:08-07:00 2019-04-16 09:10:11-07:00\n",
       "27689 2019-09-04 09:35:04-07:00 2019-09-04 09:34:05-07:00"
      ],
      "text/html": [
       "<div>\n",
       "<style scoped>\n",
       "    .dataframe tbody tr th:only-of-type {\n",
       "        vertical-align: middle;\n",
       "    }\n",
       "\n",
       "    .dataframe tbody tr th {\n",
       "        vertical-align: top;\n",
       "    }\n",
       "\n",
       "    .dataframe thead th {\n",
       "        text-align: right;\n",
       "    }\n",
       "</style>\n",
       "<table border=\"1\" class=\"dataframe\">\n",
       "  <thead>\n",
       "    <tr style=\"text-align: right;\">\n",
       "      <th></th>\n",
       "      <th>connectionTime</th>\n",
       "      <th>doneChargingTime</th>\n",
       "    </tr>\n",
       "  </thead>\n",
       "  <tbody>\n",
       "    <tr>\n",
       "      <th>22219</th>\n",
       "      <td>2019-03-05 11:13:55-08:00</td>\n",
       "      <td>2019-03-05 11:12:56-08:00</td>\n",
       "    </tr>\n",
       "    <tr>\n",
       "      <th>22253</th>\n",
       "      <td>2019-03-06 12:26:30-08:00</td>\n",
       "      <td>2019-03-06 12:25:34-08:00</td>\n",
       "    </tr>\n",
       "    <tr>\n",
       "      <th>23562</th>\n",
       "      <td>2019-04-15 13:24:13-07:00</td>\n",
       "      <td>2019-04-15 13:23:14-07:00</td>\n",
       "    </tr>\n",
       "    <tr>\n",
       "      <th>23586</th>\n",
       "      <td>2019-04-16 09:11:08-07:00</td>\n",
       "      <td>2019-04-16 09:10:11-07:00</td>\n",
       "    </tr>\n",
       "    <tr>\n",
       "      <th>27689</th>\n",
       "      <td>2019-09-04 09:35:04-07:00</td>\n",
       "      <td>2019-09-04 09:34:05-07:00</td>\n",
       "    </tr>\n",
       "  </tbody>\n",
       "</table>\n",
       "</div>"
      ]
     },
     "metadata": {},
     "output_type": "display_data"
    }
   ],
   "execution_count": 391
  },
  {
   "metadata": {},
   "cell_type": "markdown",
   "source": "Observation: There are 27 records where doneChargingTime is before connectionTime, which seems contradictory. We decided to drop these records.",
   "id": "139f8517cae134a"
  },
  {
   "metadata": {
    "ExecuteTime": {
     "end_time": "2025-01-26T13:07:53.532526Z",
     "start_time": "2025-01-26T13:07:53.522602Z"
    }
   },
   "cell_type": "code",
   "source": [
    "# Drop the records where doneChargingTime is before connectionTime\n",
    "charging_data_cleaned.drop(\n",
    "    charging_data_cleaned[charging_data_cleaned['doneChargingTime'] < charging_data_cleaned['connectionTime']].index,\n",
    "    inplace=True)\n",
    "\n",
    "# TODO: müssen wir das immer verifyen?\n",
    "# Verify that there are no more records where doneChargingTime is before connectionTime\n",
    "doneCharging_before_connection = charging_data_cleaned[\n",
    "    charging_data_cleaned['doneChargingTime'] < charging_data_cleaned['connectionTime']]\n",
    "print(f\"Number of records where doneChargingTime is before connectionTime: {doneCharging_before_connection.shape[0]}\")"
   ],
   "id": "272753be26a08155",
   "outputs": [
    {
     "name": "stdout",
     "output_type": "stream",
     "text": [
      "Number of records where doneChargingTime is before connectionTime: 0\n"
     ]
    }
   ],
   "execution_count": 392
  },
  {
   "metadata": {
    "ExecuteTime": {
     "end_time": "2025-01-26T13:07:53.629015Z",
     "start_time": "2025-01-26T13:07:53.622686Z"
    }
   },
   "cell_type": "code",
   "source": [
    "# Calculate the charging duration (doneChargingTime - connectionTime) in minutes\n",
    "charging_data_cleaned['charging_duration'] = ((charging_data_cleaned['doneChargingTime'] - charging_data_cleaned[\n",
    "    'connectionTime']).dt.total_seconds()) / 60\n",
    "\n",
    "# Calculate the connection duration (disconnectTime - connectionTime) in minutes\n",
    "charging_data_cleaned['connection_duration'] = ((charging_data_cleaned['disconnectTime'] - charging_data_cleaned[\n",
    "    'connectionTime']).dt.total_seconds()) / 60"
   ],
   "id": "4427d0acd5304e81",
   "outputs": [],
   "execution_count": 393
  },
  {
   "metadata": {
    "ExecuteTime": {
     "end_time": "2025-01-26T13:07:53.705243Z",
     "start_time": "2025-01-26T13:07:53.697732Z"
    }
   },
   "cell_type": "code",
   "source": [
    "# Check whether the doneChargingTime is after disconnectTime\n",
    "doneAfterDisconnect = charging_data_cleaned[\n",
    "    charging_data_cleaned['doneChargingTime'] > charging_data_cleaned['disconnectTime']]\n",
    "print(f\"Number of rows where doneChargingTime is after disconnectTime: {doneAfterDisconnect.shape[0]}\")\n",
    "doneAfterDisconnect[\n",
    "    ['connectionTime', 'disconnectTime', 'doneChargingTime', 'charging_duration', 'connection_duration']]"
   ],
   "id": "76e078a64efecf69",
   "outputs": [
    {
     "name": "stdout",
     "output_type": "stream",
     "text": [
      "Number of rows where doneChargingTime is after disconnectTime: 4387\n"
     ]
    },
    {
     "data": {
      "text/plain": [
       "                 connectionTime            disconnectTime  \\\n",
       "12    2020-01-02 07:04:38-08:00 2020-01-02 14:08:39-08:00   \n",
       "20    2020-01-02 07:28:47-08:00 2020-01-02 11:01:54-08:00   \n",
       "25    2020-01-02 07:42:05-08:00 2020-01-02 13:58:45-08:00   \n",
       "26    2020-01-02 07:57:24-08:00 2020-01-02 08:35:37-08:00   \n",
       "33    2020-01-02 08:34:35-08:00 2020-01-02 10:49:41-08:00   \n",
       "...                         ...                       ...   \n",
       "65028 2019-07-01 12:20:31-07:00 2019-07-01 17:16:32-07:00   \n",
       "65030 2019-07-01 13:01:07-07:00 2019-07-01 17:32:26-07:00   \n",
       "65033 2019-07-01 14:58:45-07:00 2019-07-01 17:39:48-07:00   \n",
       "65034 2019-07-01 15:02:21-07:00 2019-07-01 17:58:50-07:00   \n",
       "65035 2019-07-01 15:23:44-07:00 2019-07-01 19:03:36-07:00   \n",
       "\n",
       "               doneChargingTime  charging_duration  connection_duration  \n",
       "12    2020-01-02 14:09:36-08:00         424.966667           424.016667  \n",
       "20    2020-01-02 11:02:51-08:00         214.066667           213.116667  \n",
       "25    2020-01-02 13:59:42-08:00         377.616667           376.666667  \n",
       "26    2020-01-02 08:36:34-08:00          39.166667            38.216667  \n",
       "33    2020-01-02 10:50:38-08:00         136.050000           135.100000  \n",
       "...                         ...                ...                  ...  \n",
       "65028 2019-07-01 17:16:42-07:00         296.183333           296.016667  \n",
       "65030 2019-07-01 17:32:59-07:00         271.866667           271.316667  \n",
       "65033 2019-07-01 17:40:21-07:00         161.600000           161.050000  \n",
       "65034 2019-07-01 17:59:23-07:00         177.033333           176.483333  \n",
       "65035 2019-07-01 19:04:06-07:00         220.366667           219.866667  \n",
       "\n",
       "[4387 rows x 5 columns]"
      ],
      "text/html": [
       "<div>\n",
       "<style scoped>\n",
       "    .dataframe tbody tr th:only-of-type {\n",
       "        vertical-align: middle;\n",
       "    }\n",
       "\n",
       "    .dataframe tbody tr th {\n",
       "        vertical-align: top;\n",
       "    }\n",
       "\n",
       "    .dataframe thead th {\n",
       "        text-align: right;\n",
       "    }\n",
       "</style>\n",
       "<table border=\"1\" class=\"dataframe\">\n",
       "  <thead>\n",
       "    <tr style=\"text-align: right;\">\n",
       "      <th></th>\n",
       "      <th>connectionTime</th>\n",
       "      <th>disconnectTime</th>\n",
       "      <th>doneChargingTime</th>\n",
       "      <th>charging_duration</th>\n",
       "      <th>connection_duration</th>\n",
       "    </tr>\n",
       "  </thead>\n",
       "  <tbody>\n",
       "    <tr>\n",
       "      <th>12</th>\n",
       "      <td>2020-01-02 07:04:38-08:00</td>\n",
       "      <td>2020-01-02 14:08:39-08:00</td>\n",
       "      <td>2020-01-02 14:09:36-08:00</td>\n",
       "      <td>424.966667</td>\n",
       "      <td>424.016667</td>\n",
       "    </tr>\n",
       "    <tr>\n",
       "      <th>20</th>\n",
       "      <td>2020-01-02 07:28:47-08:00</td>\n",
       "      <td>2020-01-02 11:01:54-08:00</td>\n",
       "      <td>2020-01-02 11:02:51-08:00</td>\n",
       "      <td>214.066667</td>\n",
       "      <td>213.116667</td>\n",
       "    </tr>\n",
       "    <tr>\n",
       "      <th>25</th>\n",
       "      <td>2020-01-02 07:42:05-08:00</td>\n",
       "      <td>2020-01-02 13:58:45-08:00</td>\n",
       "      <td>2020-01-02 13:59:42-08:00</td>\n",
       "      <td>377.616667</td>\n",
       "      <td>376.666667</td>\n",
       "    </tr>\n",
       "    <tr>\n",
       "      <th>26</th>\n",
       "      <td>2020-01-02 07:57:24-08:00</td>\n",
       "      <td>2020-01-02 08:35:37-08:00</td>\n",
       "      <td>2020-01-02 08:36:34-08:00</td>\n",
       "      <td>39.166667</td>\n",
       "      <td>38.216667</td>\n",
       "    </tr>\n",
       "    <tr>\n",
       "      <th>33</th>\n",
       "      <td>2020-01-02 08:34:35-08:00</td>\n",
       "      <td>2020-01-02 10:49:41-08:00</td>\n",
       "      <td>2020-01-02 10:50:38-08:00</td>\n",
       "      <td>136.050000</td>\n",
       "      <td>135.100000</td>\n",
       "    </tr>\n",
       "    <tr>\n",
       "      <th>...</th>\n",
       "      <td>...</td>\n",
       "      <td>...</td>\n",
       "      <td>...</td>\n",
       "      <td>...</td>\n",
       "      <td>...</td>\n",
       "    </tr>\n",
       "    <tr>\n",
       "      <th>65028</th>\n",
       "      <td>2019-07-01 12:20:31-07:00</td>\n",
       "      <td>2019-07-01 17:16:32-07:00</td>\n",
       "      <td>2019-07-01 17:16:42-07:00</td>\n",
       "      <td>296.183333</td>\n",
       "      <td>296.016667</td>\n",
       "    </tr>\n",
       "    <tr>\n",
       "      <th>65030</th>\n",
       "      <td>2019-07-01 13:01:07-07:00</td>\n",
       "      <td>2019-07-01 17:32:26-07:00</td>\n",
       "      <td>2019-07-01 17:32:59-07:00</td>\n",
       "      <td>271.866667</td>\n",
       "      <td>271.316667</td>\n",
       "    </tr>\n",
       "    <tr>\n",
       "      <th>65033</th>\n",
       "      <td>2019-07-01 14:58:45-07:00</td>\n",
       "      <td>2019-07-01 17:39:48-07:00</td>\n",
       "      <td>2019-07-01 17:40:21-07:00</td>\n",
       "      <td>161.600000</td>\n",
       "      <td>161.050000</td>\n",
       "    </tr>\n",
       "    <tr>\n",
       "      <th>65034</th>\n",
       "      <td>2019-07-01 15:02:21-07:00</td>\n",
       "      <td>2019-07-01 17:58:50-07:00</td>\n",
       "      <td>2019-07-01 17:59:23-07:00</td>\n",
       "      <td>177.033333</td>\n",
       "      <td>176.483333</td>\n",
       "    </tr>\n",
       "    <tr>\n",
       "      <th>65035</th>\n",
       "      <td>2019-07-01 15:23:44-07:00</td>\n",
       "      <td>2019-07-01 19:03:36-07:00</td>\n",
       "      <td>2019-07-01 19:04:06-07:00</td>\n",
       "      <td>220.366667</td>\n",
       "      <td>219.866667</td>\n",
       "    </tr>\n",
       "  </tbody>\n",
       "</table>\n",
       "<p>4387 rows × 5 columns</p>\n",
       "</div>"
      ]
     },
     "execution_count": 394,
     "metadata": {},
     "output_type": "execute_result"
    }
   ],
   "execution_count": 394
  },
  {
   "metadata": {},
   "cell_type": "markdown",
   "source": "From what we visually observed, we noticed that in those cases where the doneChargingTime is after disconnectTime it is usually only 1-2 minutes or even seconds later. Therefore, we decided to set the doneChargingTime to the disconnectTime in those cases.",
   "id": "3a8c80e89527f9be"
  },
  {
   "metadata": {
    "ExecuteTime": {
     "end_time": "2025-01-26T13:07:53.751680Z",
     "start_time": "2025-01-26T13:07:53.746986Z"
    }
   },
   "cell_type": "code",
   "source": [
    "# Identify records where doneChargingTime is already equal to disconnectTime\n",
    "pre_existing_equal_times = charging_data_cleaned[\n",
    "    charging_data_cleaned['doneChargingTime'] == charging_data_cleaned['disconnectTime']]\n",
    "print(f\"Number of rows where doneChargingTime was already equal to disconnectTime: {pre_existing_equal_times.shape[0]}\")"
   ],
   "id": "9d183db035cc1eaf",
   "outputs": [
    {
     "name": "stdout",
     "output_type": "stream",
     "text": [
      "Number of rows where doneChargingTime was already equal to disconnectTime: 5\n"
     ]
    }
   ],
   "execution_count": 395
  },
  {
   "metadata": {
    "ExecuteTime": {
     "end_time": "2025-01-26T13:07:53.818479Z",
     "start_time": "2025-01-26T13:07:53.811016Z"
    }
   },
   "cell_type": "code",
   "source": [
    "# Set doneChargingTime to disconnectTime where it exceeds disconnectTime\n",
    "charging_data_cleaned.loc[\n",
    "    charging_data_cleaned['doneChargingTime'] > charging_data_cleaned['disconnectTime'], 'doneChargingTime'] = \\\n",
    "    charging_data_cleaned['disconnectTime']\n",
    "\n",
    "# Verify adjustments\n",
    "adjusted_charging_times = charging_data_cleaned[\n",
    "    charging_data_cleaned['doneChargingTime'] == charging_data_cleaned['disconnectTime']]\n",
    "print(f\"Number of rows where doneChargingTime was adjusted to disconnectTime: {adjusted_charging_times.shape[0]}\")\n",
    "adjusted_charging_times[['connectionTime', 'disconnectTime', 'doneChargingTime']].head()"
   ],
   "id": "28d0258c74ea7f3",
   "outputs": [
    {
     "name": "stdout",
     "output_type": "stream",
     "text": [
      "Number of rows where doneChargingTime was adjusted to disconnectTime: 4392\n"
     ]
    },
    {
     "data": {
      "text/plain": [
       "              connectionTime            disconnectTime  \\\n",
       "12 2020-01-02 07:04:38-08:00 2020-01-02 14:08:39-08:00   \n",
       "20 2020-01-02 07:28:47-08:00 2020-01-02 11:01:54-08:00   \n",
       "25 2020-01-02 07:42:05-08:00 2020-01-02 13:58:45-08:00   \n",
       "26 2020-01-02 07:57:24-08:00 2020-01-02 08:35:37-08:00   \n",
       "33 2020-01-02 08:34:35-08:00 2020-01-02 10:49:41-08:00   \n",
       "\n",
       "            doneChargingTime  \n",
       "12 2020-01-02 14:08:39-08:00  \n",
       "20 2020-01-02 11:01:54-08:00  \n",
       "25 2020-01-02 13:58:45-08:00  \n",
       "26 2020-01-02 08:35:37-08:00  \n",
       "33 2020-01-02 10:49:41-08:00  "
      ],
      "text/html": [
       "<div>\n",
       "<style scoped>\n",
       "    .dataframe tbody tr th:only-of-type {\n",
       "        vertical-align: middle;\n",
       "    }\n",
       "\n",
       "    .dataframe tbody tr th {\n",
       "        vertical-align: top;\n",
       "    }\n",
       "\n",
       "    .dataframe thead th {\n",
       "        text-align: right;\n",
       "    }\n",
       "</style>\n",
       "<table border=\"1\" class=\"dataframe\">\n",
       "  <thead>\n",
       "    <tr style=\"text-align: right;\">\n",
       "      <th></th>\n",
       "      <th>connectionTime</th>\n",
       "      <th>disconnectTime</th>\n",
       "      <th>doneChargingTime</th>\n",
       "    </tr>\n",
       "  </thead>\n",
       "  <tbody>\n",
       "    <tr>\n",
       "      <th>12</th>\n",
       "      <td>2020-01-02 07:04:38-08:00</td>\n",
       "      <td>2020-01-02 14:08:39-08:00</td>\n",
       "      <td>2020-01-02 14:08:39-08:00</td>\n",
       "    </tr>\n",
       "    <tr>\n",
       "      <th>20</th>\n",
       "      <td>2020-01-02 07:28:47-08:00</td>\n",
       "      <td>2020-01-02 11:01:54-08:00</td>\n",
       "      <td>2020-01-02 11:01:54-08:00</td>\n",
       "    </tr>\n",
       "    <tr>\n",
       "      <th>25</th>\n",
       "      <td>2020-01-02 07:42:05-08:00</td>\n",
       "      <td>2020-01-02 13:58:45-08:00</td>\n",
       "      <td>2020-01-02 13:58:45-08:00</td>\n",
       "    </tr>\n",
       "    <tr>\n",
       "      <th>26</th>\n",
       "      <td>2020-01-02 07:57:24-08:00</td>\n",
       "      <td>2020-01-02 08:35:37-08:00</td>\n",
       "      <td>2020-01-02 08:35:37-08:00</td>\n",
       "    </tr>\n",
       "    <tr>\n",
       "      <th>33</th>\n",
       "      <td>2020-01-02 08:34:35-08:00</td>\n",
       "      <td>2020-01-02 10:49:41-08:00</td>\n",
       "      <td>2020-01-02 10:49:41-08:00</td>\n",
       "    </tr>\n",
       "  </tbody>\n",
       "</table>\n",
       "</div>"
      ]
     },
     "execution_count": 396,
     "metadata": {},
     "output_type": "execute_result"
    }
   ],
   "execution_count": 396
  },
  {
   "metadata": {},
   "cell_type": "markdown",
   "source": "Due to the fact that even before we adjusted the doneChargingTime to disconnectTime where it exceeded it, there were already 5 data records where the doneChargingTime was equal to the disconnectTime we get to the sum of 4392 (4387+5).",
   "id": "4b2d4031c894b2eb"
  },
  {
   "metadata": {},
   "cell_type": "markdown",
   "source": "***",
   "id": "2f6bb1db0f43194e"
  },
  {
   "metadata": {},
   "cell_type": "markdown",
   "source": "## 4 Outliers",
   "id": "d5edf2b4b97aae2e"
  },
  {
   "metadata": {},
   "cell_type": "markdown",
   "source": "For the outlier analysis we decided to plot different boxplots of key numeric features of the charging sessions data set and the weather data set to visually identify the most noticeable outliers.",
   "id": "7ed35de929d8ee4c"
  },
  {
   "metadata": {
    "ExecuteTime": {
     "end_time": "2025-01-26T13:07:53.939560Z",
     "start_time": "2025-01-26T13:07:53.897655Z"
    }
   },
   "cell_type": "code",
   "source": [
    "plt.figure(figsize=(8, 4))\n",
    "plt.boxplot(charging_data_cleaned['charging_duration'], vert=False, patch_artist=False)\n",
    "plt.title(\"Boxplot charging_duration\")\n",
    "plt.xlabel(\"charging_duration\")\n",
    "plt.grid(True)"
   ],
   "id": "22a10b722c1ee5a7",
   "outputs": [
    {
     "data": {
      "text/plain": [
       "<Figure size 800x400 with 1 Axes>"
      ],
      "image/png": "[encoded data removed]"
     },
     "metadata": {},
     "output_type": "display_data"
    }
   ],
   "execution_count": 397
  },
  {
   "metadata": {
    "ExecuteTime": {
     "end_time": "2025-01-26T13:07:54.002071Z",
     "start_time": "2025-01-26T13:07:53.999494Z"
    }
   },
   "cell_type": "code",
   "source": [
    "# Based on the boxplot above we decided that charging durations longer than 2880 minutes or 48 hours (which about matches the last record before the next at about ~4000) are outliers.\n",
    "unrealistic_charging_duration = charging_data_cleaned[(charging_data_cleaned['charging_duration'] > 2880)]\n",
    "print(\n",
    "    f\"Number of records where the charging duration is longer than 2880 minutes (48 hours): {unrealistic_charging_duration.shape[0]}\")"
   ],
   "id": "ba5f8f3ce445f409",
   "outputs": [
    {
     "name": "stdout",
     "output_type": "stream",
     "text": [
      "Number of records where the charging duration is longer than 2880 minutes (48 hours): 14\n"
     ]
    }
   ],
   "execution_count": 398
  },
  {
   "metadata": {
    "ExecuteTime": {
     "end_time": "2025-01-26T13:07:54.066642Z",
     "start_time": "2025-01-26T13:07:54.030069Z"
    }
   },
   "cell_type": "code",
   "source": [
    "plt.figure(figsize=(8, 4))\n",
    "plt.boxplot(charging_data_cleaned['connection_duration'], vert=False, patch_artist=False)\n",
    "plt.title(\"Boxplot connection_duration\")\n",
    "plt.xlabel(\"connection_duration\")\n",
    "plt.grid(True)"
   ],
   "id": "a6315dd6571dd8ed",
   "outputs": [
    {
     "data": {
      "text/plain": [
       "<Figure size 800x400 with 1 Axes>"
      ],
      "image/png": "[encoded data removed]"
     },
     "metadata": {},
     "output_type": "display_data"
    }
   ],
   "execution_count": 399
  },
  {
   "metadata": {},
   "cell_type": "markdown",
   "source": "Based on the boxplot above and to match it to the unrealistic charging durations, we decided that connection durations longer than 2880 minutes or 48 hours are outliers.",
   "id": "7462a8899537c74c"
  },
  {
   "metadata": {
    "ExecuteTime": {
     "end_time": "2025-01-26T13:07:54.082521Z",
     "start_time": "2025-01-26T13:07:54.079688Z"
    }
   },
   "cell_type": "code",
   "source": [
    "unrealistic_connection_duration = charging_data_cleaned[(charging_data_cleaned['connection_duration'] > 2880)]\n",
    "print(\n",
    "    f\"Number of records where the connection duration is longer than 2880 minutes (48 hours): {unrealistic_connection_duration.shape[0]}\")"
   ],
   "id": "9e81aa1f952c941b",
   "outputs": [
    {
     "name": "stdout",
     "output_type": "stream",
     "text": [
      "Number of records where the connection duration is longer than 2880 minutes (48 hours): 89\n"
     ]
    }
   ],
   "execution_count": 400
  },
  {
   "metadata": {},
   "cell_type": "markdown",
   "source": "In conclusion, we decided to drop the records where charging or connection duration is longer than 2880 minutes (48 hours).",
   "id": "45dfb945237bbe3b"
  },
  {
   "metadata": {
    "ExecuteTime": {
     "end_time": "2025-01-26T13:07:54.120686Z",
     "start_time": "2025-01-26T13:07:54.103386Z"
    }
   },
   "cell_type": "code",
   "source": [
    "charging_data_cleaned.drop(charging_data_cleaned[charging_data_cleaned['charging_duration'] > 2880].index, inplace=True)\n",
    "charging_data_cleaned.drop(charging_data_cleaned[charging_data_cleaned['connection_duration'] > 2880].index,\n",
    "                           inplace=True)\n",
    "\n",
    "# Verify that the records have been deleted\n",
    "unrealistic_charging_duration_counter = \\\n",
    "    charging_data_cleaned[(charging_data_cleaned['charging_duration'] > 2880)].shape[0]\n",
    "unrealistic_connection_duration_counter = \\\n",
    "    charging_data_cleaned[(charging_data_cleaned['connection_duration'] > 2880)].shape[0]\n",
    "print(\n",
    "    f\"Number of records where the charging duration is longer than 2880 minutes (48 hours): {unrealistic_charging_duration_counter}\")\n",
    "print(\n",
    "    f\"Number of records where the connection duration is longer than 2880 minutes (48 hours): {unrealistic_connection_duration_counter}\")"
   ],
   "id": "95714885e522a61f",
   "outputs": [
    {
     "name": "stdout",
     "output_type": "stream",
     "text": [
      "Number of records where the charging duration is longer than 2880 minutes (48 hours): 0\n",
      "Number of records where the connection duration is longer than 2880 minutes (48 hours): 0\n"
     ]
    }
   ],
   "execution_count": 401
  },
  {
   "metadata": {
    "ExecuteTime": {
     "end_time": "2025-01-26T13:07:54.659270Z",
     "start_time": "2025-01-26T13:07:54.135228Z"
    }
   },
   "cell_type": "code",
   "source": [
    "# Just for visual purpose\n",
    "plt.figure(figsize=(8, 4))\n",
    "plt.scatter(charging_data_cleaned['connectionTime'], charging_data_cleaned['charging_duration'], c='blue', alpha=0.5,\n",
    "            label='charging_duration')\n",
    "plt.title(\"Scatter charging_duration über connectionTime\")\n",
    "plt.xlabel(\"connectionTime\")\n",
    "plt.ylabel(\"charging_duration\")\n",
    "plt.grid(True)"
   ],
   "id": "eb46ea775f9e1c1a",
   "outputs": [
    {
     "data": {
      "text/plain": [
       "<Figure size 800x400 with 1 Axes>"
      ],
      "image/png": "[encoded data removed]"
     },
     "metadata": {},
     "output_type": "display_data"
    }
   ],
   "execution_count": 402
  },
  {
   "metadata": {
    "ExecuteTime": {
     "end_time": "2025-01-26T13:07:55.108037Z",
     "start_time": "2025-01-26T13:07:54.662659Z"
    }
   },
   "cell_type": "code",
   "source": [
    "# Just for visual purpose\n",
    "plt.figure(figsize=(8, 4))\n",
    "plt.scatter(charging_data_cleaned['connectionTime'], charging_data_cleaned['connection_duration'], c='blue', alpha=0.5,\n",
    "            label='connection_duration')\n",
    "plt.title(\"Scatter connection_duration über connectionTime\")\n",
    "plt.xlabel(\"connectionTime\")\n",
    "plt.ylabel(\"connection_duration\")\n",
    "plt.grid(True)"
   ],
   "id": "8037db801a6dfb27",
   "outputs": [
    {
     "data": {
      "text/plain": [
       "<Figure size 800x400 with 1 Axes>"
      ],
      "image/png": "[encoded data removed]"
     },
     "metadata": {},
     "output_type": "display_data"
    }
   ],
   "execution_count": 403
  },
  {
   "metadata": {
    "ExecuteTime": {
     "end_time": "2025-01-26T13:07:55.150732Z",
     "start_time": "2025-01-26T13:07:55.115010Z"
    }
   },
   "cell_type": "code",
   "source": [
    "plt.figure(figsize=(8, 4))\n",
    "plt.boxplot(charging_data_cleaned['kWhDelivered'], vert=False, patch_artist=True)\n",
    "plt.title(\"Boxplot kWhDelivered\")\n",
    "plt.xlabel(\"kWhDelivered\")\n",
    "plt.grid(True)"
   ],
   "id": "922b893dde370e43",
   "outputs": [
    {
     "data": {
      "text/plain": [
       "<Figure size 800x400 with 1 Axes>"
      ],
      "image/png": "[encoded data removed]"
     },
     "metadata": {},
     "output_type": "display_data"
    }
   ],
   "execution_count": 404
  },
  {
   "metadata": {
    "ExecuteTime": {
     "end_time": "2025-01-26T13:07:55.160187Z",
     "start_time": "2025-01-26T13:07:55.154681Z"
    }
   },
   "cell_type": "code",
   "source": [
    "kWhDelivered_outliers = charging_data_cleaned[(charging_data_cleaned['kWhDelivered'] > 70)]\n",
    "kWhDelivered_outliers"
   ],
   "id": "1f10ea2246e9b6e2",
   "outputs": [
    {
     "data": {
      "text/plain": [
       "       counter                        id            connectionTime  \\\n",
       "18641     4338  610c829df9af8b0580e98730 2021-07-20 15:16:54-07:00   \n",
       "18643     4340  610c829df9af8b0580e98732 2021-07-20 15:16:56-07:00   \n",
       "20986      807  5c60d02df9af8b149d7da395 2019-01-25 19:40:20-08:00   \n",
       "\n",
       "                 disconnectTime          doneChargingTime  kWhDelivered  \\\n",
       "18641 2021-07-21 08:18:03-07:00 2021-07-21 08:18:03-07:00    108.797242   \n",
       "18643 2021-07-21 08:18:16-07:00 2021-07-21 08:18:16-07:00     89.362732   \n",
       "20986 2019-01-26 14:36:03-08:00 2019-01-26 06:45:12-08:00     75.528000   \n",
       "\n",
       "                                    sessionID siteID  spaceID    stationID  \\\n",
       "18641  1_1_193_829_2021-07-20 18:27:33.500144      1  AG-1F03  1-1-193-829   \n",
       "18643  1_1_194_818_2021-07-20 13:54:47.875453      1  AG-1F14  1-1-194-818   \n",
       "20986  2_39_91_437_2019-01-26 03:40:20.383123      2   CA-317  2-39-91-437   \n",
       "\n",
       "                  timezone userID connection_date year_month  \\\n",
       "18641  America/Los_Angeles    378      2021-07-20    2021-07   \n",
       "18643  America/Los_Angeles    481      2021-07-20    2021-07   \n",
       "20986  America/Los_Angeles   1225      2019-01-26    2019-01   \n",
       "\n",
       "       charging_duration  connection_duration  \n",
       "18641        1022.100000          1021.150000  \n",
       "18643        1022.283333          1021.333333  \n",
       "20986         664.866667          1135.716667  "
      ],
      "text/html": [
       "<div>\n",
       "<style scoped>\n",
       "    .dataframe tbody tr th:only-of-type {\n",
       "        vertical-align: middle;\n",
       "    }\n",
       "\n",
       "    .dataframe tbody tr th {\n",
       "        vertical-align: top;\n",
       "    }\n",
       "\n",
       "    .dataframe thead th {\n",
       "        text-align: right;\n",
       "    }\n",
       "</style>\n",
       "<table border=\"1\" class=\"dataframe\">\n",
       "  <thead>\n",
       "    <tr style=\"text-align: right;\">\n",
       "      <th></th>\n",
       "      <th>counter</th>\n",
       "      <th>id</th>\n",
       "      <th>connectionTime</th>\n",
       "      <th>disconnectTime</th>\n",
       "      <th>doneChargingTime</th>\n",
       "      <th>kWhDelivered</th>\n",
       "      <th>sessionID</th>\n",
       "      <th>siteID</th>\n",
       "      <th>spaceID</th>\n",
       "      <th>stationID</th>\n",
       "      <th>timezone</th>\n",
       "      <th>userID</th>\n",
       "      <th>connection_date</th>\n",
       "      <th>year_month</th>\n",
       "      <th>charging_duration</th>\n",
       "      <th>connection_duration</th>\n",
       "    </tr>\n",
       "  </thead>\n",
       "  <tbody>\n",
       "    <tr>\n",
       "      <th>18641</th>\n",
       "      <td>4338</td>\n",
       "      <td>610c829df9af8b0580e98730</td>\n",
       "      <td>2021-07-20 15:16:54-07:00</td>\n",
       "      <td>2021-07-21 08:18:03-07:00</td>\n",
       "      <td>2021-07-21 08:18:03-07:00</td>\n",
       "      <td>108.797242</td>\n",
       "      <td>1_1_193_829_2021-07-20 18:27:33.500144</td>\n",
       "      <td>1</td>\n",
       "      <td>AG-1F03</td>\n",
       "      <td>1-1-193-829</td>\n",
       "      <td>America/Los_Angeles</td>\n",
       "      <td>378</td>\n",
       "      <td>2021-07-20</td>\n",
       "      <td>2021-07</td>\n",
       "      <td>1022.100000</td>\n",
       "      <td>1021.150000</td>\n",
       "    </tr>\n",
       "    <tr>\n",
       "      <th>18643</th>\n",
       "      <td>4340</td>\n",
       "      <td>610c829df9af8b0580e98732</td>\n",
       "      <td>2021-07-20 15:16:56-07:00</td>\n",
       "      <td>2021-07-21 08:18:16-07:00</td>\n",
       "      <td>2021-07-21 08:18:16-07:00</td>\n",
       "      <td>89.362732</td>\n",
       "      <td>1_1_194_818_2021-07-20 13:54:47.875453</td>\n",
       "      <td>1</td>\n",
       "      <td>AG-1F14</td>\n",
       "      <td>1-1-194-818</td>\n",
       "      <td>America/Los_Angeles</td>\n",
       "      <td>481</td>\n",
       "      <td>2021-07-20</td>\n",
       "      <td>2021-07</td>\n",
       "      <td>1022.283333</td>\n",
       "      <td>1021.333333</td>\n",
       "    </tr>\n",
       "    <tr>\n",
       "      <th>20986</th>\n",
       "      <td>807</td>\n",
       "      <td>5c60d02df9af8b149d7da395</td>\n",
       "      <td>2019-01-25 19:40:20-08:00</td>\n",
       "      <td>2019-01-26 14:36:03-08:00</td>\n",
       "      <td>2019-01-26 06:45:12-08:00</td>\n",
       "      <td>75.528000</td>\n",
       "      <td>2_39_91_437_2019-01-26 03:40:20.383123</td>\n",
       "      <td>2</td>\n",
       "      <td>CA-317</td>\n",
       "      <td>2-39-91-437</td>\n",
       "      <td>America/Los_Angeles</td>\n",
       "      <td>1225</td>\n",
       "      <td>2019-01-26</td>\n",
       "      <td>2019-01</td>\n",
       "      <td>664.866667</td>\n",
       "      <td>1135.716667</td>\n",
       "    </tr>\n",
       "  </tbody>\n",
       "</table>\n",
       "</div>"
      ]
     },
     "execution_count": 405,
     "metadata": {},
     "output_type": "execute_result"
    }
   ],
   "execution_count": 405
  },
  {
   "metadata": {},
   "cell_type": "markdown",
   "source": "We also looked at the two data points where the kWhDelivered is ~90 and ~ 110 in detail and notices some inconsistencies. It seems strange to us that the data records start and end at exactly the same moment. As the three rows with kWhDelivered > 70 also deviate too much from the other values, we decided to drop those three records to prevent them from influencing our analysis in later steps.",
   "id": "9438e422e3ea992c"
  },
  {
   "metadata": {
    "ExecuteTime": {
     "end_time": "2025-01-26T13:07:55.232218Z",
     "start_time": "2025-01-26T13:07:55.217791Z"
    }
   },
   "cell_type": "code",
   "source": [
    "# Drop data records with kWhDelivered greater than 70\n",
    "charging_data_cleaned = charging_data_cleaned[~(charging_data_cleaned['kWhDelivered'] > 70)]"
   ],
   "id": "8852cfce14f532ad",
   "outputs": [],
   "execution_count": 406
  },
  {
   "metadata": {
    "ExecuteTime": {
     "end_time": "2025-01-26T13:07:55.289565Z",
     "start_time": "2025-01-26T13:07:55.255598Z"
    }
   },
   "cell_type": "code",
   "source": [
    "plt.figure(figsize=(8, 4))\n",
    "plt.boxplot(weather_data_cleaned['temperature'], vert=False, patch_artist=True)\n",
    "plt.title(\"Boxplot temperature\")\n",
    "plt.xlabel(\"temperature\")\n",
    "plt.grid(True)"
   ],
   "id": "9d6bc5761ae61f2c",
   "outputs": [
    {
     "data": {
      "text/plain": [
       "<Figure size 800x400 with 1 Axes>"
      ],
      "image/png": "[encoded data removed]"
     },
     "metadata": {},
     "output_type": "display_data"
    }
   ],
   "execution_count": 407
  },
  {
   "metadata": {},
   "cell_type": "markdown",
   "source": "The boxplot for the temperature doesn't show noticeable outliers, since temperatures of over 35 degrees are common in Los Angeles in the summer.",
   "id": "ab14b330a966ac1f"
  },
  {
   "metadata": {},
   "cell_type": "markdown",
   "source": "***",
   "id": "d4c6941ce838f724"
  },
  {
   "metadata": {},
   "cell_type": "markdown",
   "source": "## 5 Final Review",
   "id": "2197655fcb6e7861"
  },
  {
   "metadata": {
    "ExecuteTime": {
     "end_time": "2025-01-26T13:07:55.543299Z",
     "start_time": "2025-01-26T13:07:55.532239Z"
    }
   },
   "cell_type": "code",
   "source": "",
   "id": "1d637587c9c07d8b",
   "outputs": [],
   "execution_count": null
  },
  {
   "metadata": {},
   "cell_type": "markdown",
   "source": "***",
   "id": "1546876aa771555e"
  },
  {
   "metadata": {},
   "cell_type": "markdown",
   "source": "## 6 Export Cleaned Data and Merge Datasets",
   "id": "daa1a50354f63dd7"
  },
  {
   "metadata": {
    "ExecuteTime": {
     "end_time": "2025-01-26T13:07:56.917584Z",
     "start_time": "2025-01-26T13:07:55.647756Z"
    }
   },
   "cell_type": "code",
   "source": [
    "# Export Dataframes as pickle (.pkl) and csv (.csv) files\n",
    "charging_data_cleaned.to_pickle(os.path.join('Data', 'charging_data.pkl'))\n",
    "weather_data_cleaned.to_pickle(os.path.join('Data', 'weather_data.pkl'))\n",
    "charging_data_cleaned.to_csv(os.path.join('Data', 'charging_data.csv'))\n",
    "weather_data_cleaned.to_csv(os.path.join('Data', 'weather_data.csv'))"
   ],
   "id": "b395d101ecba91aa",
   "outputs": [],
   "execution_count": 408
  },
  {
   "metadata": {
    "ExecuteTime": {
     "end_time": "2025-01-26T13:07:57.946274Z",
     "start_time": "2025-01-26T13:07:56.936263Z"
    }
   },
   "cell_type": "code",
   "source": [
    "# TODO: Löschen, falls wir es nicht mehr brauchen\n",
    "# Export merged charging to weather data dataset\n",
    "\n",
    "# Sort both datasets by their respective timestamps\n",
    "charging_data_cleaned = charging_data_cleaned.sort_values(by='connectionTime')\n",
    "weather_data_cleaned = weather_data_cleaned.sort_values(by='timestamp')\n",
    "\n",
    "# Perform a nearest merge to align weather data to charging data\n",
    "merged_data = pd.merge_asof(\n",
    "    charging_data_cleaned,\n",
    "    weather_data_cleaned,\n",
    "    left_on='connectionTime',  # The timestamp in charging data\n",
    "    right_on='timestamp',  # The timestamp in weather data\n",
    "    direction='backward'  # Align with the closest earlier weather record\n",
    ")\n",
    "\n",
    "# Since we found out at the beginning, that the weather data only ranges until 01-01-2021 and the charging data records after 01-01-2021 would all be joined to this particular weather record which would make no sense, we decided to drop all records after 01-01-2021 from the merged dataset.\n",
    "merged_data = merged_data[merged_data['connectionTime'] < '2021-01-02']\n",
    "\n",
    "# Save the merged dataset to a pickle (.pkl) and csv (.csv) file\n",
    "merged_data.to_pickle(os.path.join('Data', 'merged_charging_weather_data.pkl'))\n",
    "merged_data.to_csv(os.path.join('Data', 'merged_charging_weather_data.csv'))"
   ],
   "id": "813d2a0d0dad1eb8",
   "outputs": [],
   "execution_count": 409
  }
 ],
 "metadata": {
  "kernelspec": {
   "display_name": "Python 3",
   "language": "python",
   "name": "python3"
  },
  "language_info": {
   "codemirror_mode": {
    "name": "ipython",
    "version": 2
   },
   "file_extension": ".py",
   "mimetype": "text/x-python",
   "name": "python",
   "nbconvert_exporter": "python",
   "pygments_lexer": "ipython2",
   "version": "2.7.6"
  }
 },
 "nbformat": 4,
 "nbformat_minor": 5
}

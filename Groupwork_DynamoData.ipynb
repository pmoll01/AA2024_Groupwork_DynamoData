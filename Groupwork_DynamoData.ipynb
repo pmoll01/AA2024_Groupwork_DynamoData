{
 "cells": [
  {
   "metadata": {},
   "cell_type": "markdown",
   "source": "# Jupiter Notebook for Groupwork in AA 2024",
   "id": "40e13e1d6276da0c"
  },
  {
   "metadata": {},
   "cell_type": "markdown",
   "source": "#### Import Libraries",
   "id": "e41cccd4da57959f"
  },
  {
   "metadata": {
    "ExecuteTime": {
     "end_time": "2024-12-21T20:53:52.459628Z",
     "start_time": "2024-12-21T20:53:52.450627Z"
    }
   },
   "cell_type": "code",
   "source": [
    "import os\n",
    "import pandas as pd\n",
    "import seaborn as sns\n",
    "import matplotlib.pyplot as plt\n",
    "from IPython.display import display\n",
    "from datetime import timedelta\n",
    "import json\n",
    "import numpy as np\n",
    "import pickle"
   ],
   "id": "4081269e809f1eb1",
   "outputs": [],
   "execution_count": 68
  },
  {
   "metadata": {},
   "cell_type": "markdown",
   "source": "### 1 Load and Explore Data:",
   "id": "2c8ffd3861c51a12"
  },
  {
   "metadata": {
    "ExecuteTime": {
     "end_time": "2024-12-21T20:53:52.811682Z",
     "start_time": "2024-12-21T20:53:52.466626Z"
    }
   },
   "cell_type": "code",
   "source": [
    "# Load csv-files independently of the operating system (mac or windows or linux) in a pandas dataframe\n",
    "charging_data = pd.read_csv(os.path.join('Data', 'charging_sessions.csv'))\n",
    "weather_data = pd.read_csv(os.path.join('Data', 'weather_burbank_airport.csv'))\n",
    "\n",
    "charging_data = charging_data.rename(columns={'Unnamed: 0': 'counter'})\n",
    "charging_data.info()"
   ],
   "id": "d8fde2f9d9f6ff15",
   "outputs": [
    {
     "name": "stdout",
     "output_type": "stream",
     "text": [
      "<class 'pandas.core.frame.DataFrame'>\n",
      "RangeIndex: 66450 entries, 0 to 66449\n",
      "Data columns (total 13 columns):\n",
      " #   Column            Non-Null Count  Dtype  \n",
      "---  ------            --------------  -----  \n",
      " 0   counter           66450 non-null  int64  \n",
      " 1   id                66450 non-null  object \n",
      " 2   connectionTime    66450 non-null  object \n",
      " 3   disconnectTime    66450 non-null  object \n",
      " 4   doneChargingTime  62362 non-null  object \n",
      " 5   kWhDelivered      66450 non-null  float64\n",
      " 6   sessionID         66450 non-null  object \n",
      " 7   siteID            66450 non-null  int64  \n",
      " 8   spaceID           66450 non-null  object \n",
      " 9   stationID         66450 non-null  object \n",
      " 10  timezone          66450 non-null  object \n",
      " 11  userID            49187 non-null  float64\n",
      " 12  userInputs        49187 non-null  object \n",
      "dtypes: float64(2), int64(2), object(9)\n",
      "memory usage: 6.6+ MB\n"
     ]
    }
   ],
   "execution_count": 69
  },
  {
   "metadata": {
    "ExecuteTime": {
     "end_time": "2024-12-21T20:53:52.951629Z",
     "start_time": "2024-12-21T20:53:52.938623Z"
    }
   },
   "cell_type": "code",
   "source": "weather_data.info()",
   "id": "d27ced521e0d7b01",
   "outputs": [
    {
     "name": "stdout",
     "output_type": "stream",
     "text": [
      "<class 'pandas.core.frame.DataFrame'>\n",
      "RangeIndex: 29244 entries, 0 to 29243\n",
      "Data columns (total 9 columns):\n",
      " #   Column                   Non-Null Count  Dtype  \n",
      "---  ------                   --------------  -----  \n",
      " 0   city                     29244 non-null  object \n",
      " 1   timestamp                29244 non-null  object \n",
      " 2   temperature              29219 non-null  float64\n",
      " 3   cloud_cover              29224 non-null  float64\n",
      " 4   cloud_cover_description  29224 non-null  object \n",
      " 5   pressure                 29236 non-null  float64\n",
      " 6   windspeed                29158 non-null  float64\n",
      " 7   precipitation            29244 non-null  float64\n",
      " 8   felt_temperature         29218 non-null  float64\n",
      "dtypes: float64(6), object(3)\n",
      "memory usage: 2.0+ MB\n"
     ]
    }
   ],
   "execution_count": 70
  },
  {
   "metadata": {
    "ExecuteTime": {
     "end_time": "2024-12-21T20:53:52.981795Z",
     "start_time": "2024-12-21T20:53:52.961793Z"
    }
   },
   "cell_type": "code",
   "source": [
    "# How do the charging data records look like?\n",
    "charging_data.head()"
   ],
   "id": "ff4f5fb3af851402",
   "outputs": [
    {
     "data": {
      "text/plain": [
       "   counter                        id             connectionTime  \\\n",
       "0        0  5e23b149f9af8b5fe4b973cf  2020-01-02 13:08:54+00:00   \n",
       "1        1  5e23b149f9af8b5fe4b973d0  2020-01-02 13:36:50+00:00   \n",
       "2        2  5e23b149f9af8b5fe4b973d1  2020-01-02 13:56:35+00:00   \n",
       "3        3  5e23b149f9af8b5fe4b973d2  2020-01-02 13:59:58+00:00   \n",
       "4        4  5e23b149f9af8b5fe4b973d3  2020-01-02 14:00:01+00:00   \n",
       "\n",
       "              disconnectTime           doneChargingTime  kWhDelivered  \\\n",
       "0  2020-01-02 19:11:15+00:00  2020-01-02 17:31:35+00:00        25.016   \n",
       "1  2020-01-02 22:38:21+00:00  2020-01-02 20:18:05+00:00        33.097   \n",
       "2  2020-01-03 00:39:22+00:00  2020-01-02 16:35:06+00:00         6.521   \n",
       "3  2020-01-02 16:38:39+00:00  2020-01-02 15:18:45+00:00         2.355   \n",
       "4  2020-01-02 22:08:40+00:00  2020-01-02 18:17:30+00:00        13.375   \n",
       "\n",
       "                                sessionID  siteID  spaceID    stationID  \\\n",
       "0  1_1_179_810_2020-01-02 13:08:53.870034       1  AG-3F30  1-1-179-810   \n",
       "1  1_1_193_825_2020-01-02 13:36:49.599853       1  AG-1F01  1-1-193-825   \n",
       "2  1_1_193_829_2020-01-02 13:56:35.214993       1  AG-1F03  1-1-193-829   \n",
       "3  1_1_193_820_2020-01-02 13:59:58.309319       1  AG-1F04  1-1-193-820   \n",
       "4  1_1_193_819_2020-01-02 14:00:00.779967       1  AG-1F06  1-1-193-819   \n",
       "\n",
       "              timezone  userID  \\\n",
       "0  America/Los_Angeles   194.0   \n",
       "1  America/Los_Angeles  4275.0   \n",
       "2  America/Los_Angeles   344.0   \n",
       "3  America/Los_Angeles  1117.0   \n",
       "4  America/Los_Angeles   334.0   \n",
       "\n",
       "                                          userInputs  \n",
       "0  [{'WhPerMile': 250, 'kWhRequested': 25.0, 'mil...  \n",
       "1  [{'WhPerMile': 280, 'kWhRequested': 70.0, 'mil...  \n",
       "2  [{'WhPerMile': 400, 'kWhRequested': 8.0, 'mile...  \n",
       "3  [{'WhPerMile': 400, 'kWhRequested': 8.0, 'mile...  \n",
       "4  [{'WhPerMile': 400, 'kWhRequested': 16.0, 'mil...  "
      ],
      "text/html": [
       "<div>\n",
       "<style scoped>\n",
       "    .dataframe tbody tr th:only-of-type {\n",
       "        vertical-align: middle;\n",
       "    }\n",
       "\n",
       "    .dataframe tbody tr th {\n",
       "        vertical-align: top;\n",
       "    }\n",
       "\n",
       "    .dataframe thead th {\n",
       "        text-align: right;\n",
       "    }\n",
       "</style>\n",
       "<table border=\"1\" class=\"dataframe\">\n",
       "  <thead>\n",
       "    <tr style=\"text-align: right;\">\n",
       "      <th></th>\n",
       "      <th>counter</th>\n",
       "      <th>id</th>\n",
       "      <th>connectionTime</th>\n",
       "      <th>disconnectTime</th>\n",
       "      <th>doneChargingTime</th>\n",
       "      <th>kWhDelivered</th>\n",
       "      <th>sessionID</th>\n",
       "      <th>siteID</th>\n",
       "      <th>spaceID</th>\n",
       "      <th>stationID</th>\n",
       "      <th>timezone</th>\n",
       "      <th>userID</th>\n",
       "      <th>userInputs</th>\n",
       "    </tr>\n",
       "  </thead>\n",
       "  <tbody>\n",
       "    <tr>\n",
       "      <th>0</th>\n",
       "      <td>0</td>\n",
       "      <td>5e23b149f9af8b5fe4b973cf</td>\n",
       "      <td>2020-01-02 13:08:54+00:00</td>\n",
       "      <td>2020-01-02 19:11:15+00:00</td>\n",
       "      <td>2020-01-02 17:31:35+00:00</td>\n",
       "      <td>25.016</td>\n",
       "      <td>1_1_179_810_2020-01-02 13:08:53.870034</td>\n",
       "      <td>1</td>\n",
       "      <td>AG-3F30</td>\n",
       "      <td>1-1-179-810</td>\n",
       "      <td>America/Los_Angeles</td>\n",
       "      <td>194.0</td>\n",
       "      <td>[{'WhPerMile': 250, 'kWhRequested': 25.0, 'mil...</td>\n",
       "    </tr>\n",
       "    <tr>\n",
       "      <th>1</th>\n",
       "      <td>1</td>\n",
       "      <td>5e23b149f9af8b5fe4b973d0</td>\n",
       "      <td>2020-01-02 13:36:50+00:00</td>\n",
       "      <td>2020-01-02 22:38:21+00:00</td>\n",
       "      <td>2020-01-02 20:18:05+00:00</td>\n",
       "      <td>33.097</td>\n",
       "      <td>1_1_193_825_2020-01-02 13:36:49.599853</td>\n",
       "      <td>1</td>\n",
       "      <td>AG-1F01</td>\n",
       "      <td>1-1-193-825</td>\n",
       "      <td>America/Los_Angeles</td>\n",
       "      <td>4275.0</td>\n",
       "      <td>[{'WhPerMile': 280, 'kWhRequested': 70.0, 'mil...</td>\n",
       "    </tr>\n",
       "    <tr>\n",
       "      <th>2</th>\n",
       "      <td>2</td>\n",
       "      <td>5e23b149f9af8b5fe4b973d1</td>\n",
       "      <td>2020-01-02 13:56:35+00:00</td>\n",
       "      <td>2020-01-03 00:39:22+00:00</td>\n",
       "      <td>2020-01-02 16:35:06+00:00</td>\n",
       "      <td>6.521</td>\n",
       "      <td>1_1_193_829_2020-01-02 13:56:35.214993</td>\n",
       "      <td>1</td>\n",
       "      <td>AG-1F03</td>\n",
       "      <td>1-1-193-829</td>\n",
       "      <td>America/Los_Angeles</td>\n",
       "      <td>344.0</td>\n",
       "      <td>[{'WhPerMile': 400, 'kWhRequested': 8.0, 'mile...</td>\n",
       "    </tr>\n",
       "    <tr>\n",
       "      <th>3</th>\n",
       "      <td>3</td>\n",
       "      <td>5e23b149f9af8b5fe4b973d2</td>\n",
       "      <td>2020-01-02 13:59:58+00:00</td>\n",
       "      <td>2020-01-02 16:38:39+00:00</td>\n",
       "      <td>2020-01-02 15:18:45+00:00</td>\n",
       "      <td>2.355</td>\n",
       "      <td>1_1_193_820_2020-01-02 13:59:58.309319</td>\n",
       "      <td>1</td>\n",
       "      <td>AG-1F04</td>\n",
       "      <td>1-1-193-820</td>\n",
       "      <td>America/Los_Angeles</td>\n",
       "      <td>1117.0</td>\n",
       "      <td>[{'WhPerMile': 400, 'kWhRequested': 8.0, 'mile...</td>\n",
       "    </tr>\n",
       "    <tr>\n",
       "      <th>4</th>\n",
       "      <td>4</td>\n",
       "      <td>5e23b149f9af8b5fe4b973d3</td>\n",
       "      <td>2020-01-02 14:00:01+00:00</td>\n",
       "      <td>2020-01-02 22:08:40+00:00</td>\n",
       "      <td>2020-01-02 18:17:30+00:00</td>\n",
       "      <td>13.375</td>\n",
       "      <td>1_1_193_819_2020-01-02 14:00:00.779967</td>\n",
       "      <td>1</td>\n",
       "      <td>AG-1F06</td>\n",
       "      <td>1-1-193-819</td>\n",
       "      <td>America/Los_Angeles</td>\n",
       "      <td>334.0</td>\n",
       "      <td>[{'WhPerMile': 400, 'kWhRequested': 16.0, 'mil...</td>\n",
       "    </tr>\n",
       "  </tbody>\n",
       "</table>\n",
       "</div>"
      ]
     },
     "execution_count": 71,
     "metadata": {},
     "output_type": "execute_result"
    }
   ],
   "execution_count": 71
  },
  {
   "metadata": {
    "ExecuteTime": {
     "end_time": "2024-12-21T20:53:53.092225Z",
     "start_time": "2024-12-21T20:53:53.079129Z"
    }
   },
   "cell_type": "code",
   "source": [
    "# How do the weather data records look like?\n",
    "weather_data.head()"
   ],
   "id": "41bc6190064fb4cc",
   "outputs": [
    {
     "data": {
      "text/plain": [
       "      city            timestamp  temperature  cloud_cover  \\\n",
       "0  Burbank  2018-01-01 08:53:00          9.0         33.0   \n",
       "1  Burbank  2018-01-01 09:53:00          9.0         33.0   \n",
       "2  Burbank  2018-01-01 10:53:00          9.0         21.0   \n",
       "3  Burbank  2018-01-01 11:53:00          9.0         29.0   \n",
       "4  Burbank  2018-01-01 12:53:00          8.0         33.0   \n",
       "\n",
       "  cloud_cover_description  pressure  windspeed  precipitation  \\\n",
       "0                    Fair    991.75        9.0            0.0   \n",
       "1                    Fair    992.08        0.0            0.0   \n",
       "2                    Haze    992.08        0.0            0.0   \n",
       "3           Partly Cloudy    992.08        0.0            0.0   \n",
       "4                    Fair    992.08        0.0            0.0   \n",
       "\n",
       "   felt_temperature  \n",
       "0               8.0  \n",
       "1               9.0  \n",
       "2               9.0  \n",
       "3               9.0  \n",
       "4               8.0  "
      ],
      "text/html": [
       "<div>\n",
       "<style scoped>\n",
       "    .dataframe tbody tr th:only-of-type {\n",
       "        vertical-align: middle;\n",
       "    }\n",
       "\n",
       "    .dataframe tbody tr th {\n",
       "        vertical-align: top;\n",
       "    }\n",
       "\n",
       "    .dataframe thead th {\n",
       "        text-align: right;\n",
       "    }\n",
       "</style>\n",
       "<table border=\"1\" class=\"dataframe\">\n",
       "  <thead>\n",
       "    <tr style=\"text-align: right;\">\n",
       "      <th></th>\n",
       "      <th>city</th>\n",
       "      <th>timestamp</th>\n",
       "      <th>temperature</th>\n",
       "      <th>cloud_cover</th>\n",
       "      <th>cloud_cover_description</th>\n",
       "      <th>pressure</th>\n",
       "      <th>windspeed</th>\n",
       "      <th>precipitation</th>\n",
       "      <th>felt_temperature</th>\n",
       "    </tr>\n",
       "  </thead>\n",
       "  <tbody>\n",
       "    <tr>\n",
       "      <th>0</th>\n",
       "      <td>Burbank</td>\n",
       "      <td>2018-01-01 08:53:00</td>\n",
       "      <td>9.0</td>\n",
       "      <td>33.0</td>\n",
       "      <td>Fair</td>\n",
       "      <td>991.75</td>\n",
       "      <td>9.0</td>\n",
       "      <td>0.0</td>\n",
       "      <td>8.0</td>\n",
       "    </tr>\n",
       "    <tr>\n",
       "      <th>1</th>\n",
       "      <td>Burbank</td>\n",
       "      <td>2018-01-01 09:53:00</td>\n",
       "      <td>9.0</td>\n",
       "      <td>33.0</td>\n",
       "      <td>Fair</td>\n",
       "      <td>992.08</td>\n",
       "      <td>0.0</td>\n",
       "      <td>0.0</td>\n",
       "      <td>9.0</td>\n",
       "    </tr>\n",
       "    <tr>\n",
       "      <th>2</th>\n",
       "      <td>Burbank</td>\n",
       "      <td>2018-01-01 10:53:00</td>\n",
       "      <td>9.0</td>\n",
       "      <td>21.0</td>\n",
       "      <td>Haze</td>\n",
       "      <td>992.08</td>\n",
       "      <td>0.0</td>\n",
       "      <td>0.0</td>\n",
       "      <td>9.0</td>\n",
       "    </tr>\n",
       "    <tr>\n",
       "      <th>3</th>\n",
       "      <td>Burbank</td>\n",
       "      <td>2018-01-01 11:53:00</td>\n",
       "      <td>9.0</td>\n",
       "      <td>29.0</td>\n",
       "      <td>Partly Cloudy</td>\n",
       "      <td>992.08</td>\n",
       "      <td>0.0</td>\n",
       "      <td>0.0</td>\n",
       "      <td>9.0</td>\n",
       "    </tr>\n",
       "    <tr>\n",
       "      <th>4</th>\n",
       "      <td>Burbank</td>\n",
       "      <td>2018-01-01 12:53:00</td>\n",
       "      <td>8.0</td>\n",
       "      <td>33.0</td>\n",
       "      <td>Fair</td>\n",
       "      <td>992.08</td>\n",
       "      <td>0.0</td>\n",
       "      <td>0.0</td>\n",
       "      <td>8.0</td>\n",
       "    </tr>\n",
       "  </tbody>\n",
       "</table>\n",
       "</div>"
      ]
     },
     "execution_count": 72,
     "metadata": {},
     "output_type": "execute_result"
    }
   ],
   "execution_count": 72
  },
  {
   "metadata": {
    "ExecuteTime": {
     "end_time": "2024-12-21T20:53:53.201496Z",
     "start_time": "2024-12-21T20:53:53.170988Z"
    }
   },
   "cell_type": "code",
   "source": [
    "# .describe() function only analyses numerical columns\n",
    "charging_data.describe()"
   ],
   "id": "5749d5d719e5cf20",
   "outputs": [
    {
     "data": {
      "text/plain": [
       "            counter  kWhDelivered        siteID        userID\n",
       "count  66450.000000  66450.000000  66450.000000  49187.000000\n",
       "mean    4726.102062     11.787916      1.472656   1800.494582\n",
       "std     3568.025394     10.314789      0.499256   2617.548614\n",
       "min        0.000000      0.501000      1.000000      1.000000\n",
       "25%     1845.000000      5.097000      1.000000    431.000000\n",
       "50%     3960.000000      9.140000      1.000000    818.000000\n",
       "75%     7027.000000     14.183000      2.000000   1805.000000\n",
       "max    15291.000000    108.797242      2.000000  19923.000000"
      ],
      "text/html": [
       "<div>\n",
       "<style scoped>\n",
       "    .dataframe tbody tr th:only-of-type {\n",
       "        vertical-align: middle;\n",
       "    }\n",
       "\n",
       "    .dataframe tbody tr th {\n",
       "        vertical-align: top;\n",
       "    }\n",
       "\n",
       "    .dataframe thead th {\n",
       "        text-align: right;\n",
       "    }\n",
       "</style>\n",
       "<table border=\"1\" class=\"dataframe\">\n",
       "  <thead>\n",
       "    <tr style=\"text-align: right;\">\n",
       "      <th></th>\n",
       "      <th>counter</th>\n",
       "      <th>kWhDelivered</th>\n",
       "      <th>siteID</th>\n",
       "      <th>userID</th>\n",
       "    </tr>\n",
       "  </thead>\n",
       "  <tbody>\n",
       "    <tr>\n",
       "      <th>count</th>\n",
       "      <td>66450.000000</td>\n",
       "      <td>66450.000000</td>\n",
       "      <td>66450.000000</td>\n",
       "      <td>49187.000000</td>\n",
       "    </tr>\n",
       "    <tr>\n",
       "      <th>mean</th>\n",
       "      <td>4726.102062</td>\n",
       "      <td>11.787916</td>\n",
       "      <td>1.472656</td>\n",
       "      <td>1800.494582</td>\n",
       "    </tr>\n",
       "    <tr>\n",
       "      <th>std</th>\n",
       "      <td>3568.025394</td>\n",
       "      <td>10.314789</td>\n",
       "      <td>0.499256</td>\n",
       "      <td>2617.548614</td>\n",
       "    </tr>\n",
       "    <tr>\n",
       "      <th>min</th>\n",
       "      <td>0.000000</td>\n",
       "      <td>0.501000</td>\n",
       "      <td>1.000000</td>\n",
       "      <td>1.000000</td>\n",
       "    </tr>\n",
       "    <tr>\n",
       "      <th>25%</th>\n",
       "      <td>1845.000000</td>\n",
       "      <td>5.097000</td>\n",
       "      <td>1.000000</td>\n",
       "      <td>431.000000</td>\n",
       "    </tr>\n",
       "    <tr>\n",
       "      <th>50%</th>\n",
       "      <td>3960.000000</td>\n",
       "      <td>9.140000</td>\n",
       "      <td>1.000000</td>\n",
       "      <td>818.000000</td>\n",
       "    </tr>\n",
       "    <tr>\n",
       "      <th>75%</th>\n",
       "      <td>7027.000000</td>\n",
       "      <td>14.183000</td>\n",
       "      <td>2.000000</td>\n",
       "      <td>1805.000000</td>\n",
       "    </tr>\n",
       "    <tr>\n",
       "      <th>max</th>\n",
       "      <td>15291.000000</td>\n",
       "      <td>108.797242</td>\n",
       "      <td>2.000000</td>\n",
       "      <td>19923.000000</td>\n",
       "    </tr>\n",
       "  </tbody>\n",
       "</table>\n",
       "</div>"
      ]
     },
     "execution_count": 73,
     "metadata": {},
     "output_type": "execute_result"
    }
   ],
   "execution_count": 73
  },
  {
   "metadata": {
    "ExecuteTime": {
     "end_time": "2024-12-21T20:53:53.311676Z",
     "start_time": "2024-12-21T20:53:53.282420Z"
    }
   },
   "cell_type": "code",
   "source": [
    "# .describe() function only analyses numerical columns\n",
    "weather_data.describe()"
   ],
   "id": "2bf74397d18af550",
   "outputs": [
    {
     "data": {
      "text/plain": [
       "        temperature   cloud_cover      pressure     windspeed  precipitation  \\\n",
       "count  29219.000000  29224.000000  29236.000000  29158.000000   29244.000000   \n",
       "mean      17.885622     30.107993    986.879400      8.566568       0.059360   \n",
       "std        6.454604      5.400388      3.607065      6.699889       0.471682   \n",
       "min        2.000000      4.000000    971.000000      0.000000       0.000000   \n",
       "25%       13.000000     26.000000    984.500000      6.000000       0.000000   \n",
       "50%       17.000000     33.000000    986.480000      7.000000       0.000000   \n",
       "75%       22.000000     34.000000    989.110000     13.000000       0.000000   \n",
       "max       46.000000     47.000000    999.650000     57.000000      18.540000   \n",
       "\n",
       "       felt_temperature  \n",
       "count      29218.000000  \n",
       "mean          17.731433  \n",
       "std            6.321100  \n",
       "min            0.000000  \n",
       "25%           13.000000  \n",
       "50%           17.000000  \n",
       "75%           22.000000  \n",
       "max           42.000000  "
      ],
      "text/html": [
       "<div>\n",
       "<style scoped>\n",
       "    .dataframe tbody tr th:only-of-type {\n",
       "        vertical-align: middle;\n",
       "    }\n",
       "\n",
       "    .dataframe tbody tr th {\n",
       "        vertical-align: top;\n",
       "    }\n",
       "\n",
       "    .dataframe thead th {\n",
       "        text-align: right;\n",
       "    }\n",
       "</style>\n",
       "<table border=\"1\" class=\"dataframe\">\n",
       "  <thead>\n",
       "    <tr style=\"text-align: right;\">\n",
       "      <th></th>\n",
       "      <th>temperature</th>\n",
       "      <th>cloud_cover</th>\n",
       "      <th>pressure</th>\n",
       "      <th>windspeed</th>\n",
       "      <th>precipitation</th>\n",
       "      <th>felt_temperature</th>\n",
       "    </tr>\n",
       "  </thead>\n",
       "  <tbody>\n",
       "    <tr>\n",
       "      <th>count</th>\n",
       "      <td>29219.000000</td>\n",
       "      <td>29224.000000</td>\n",
       "      <td>29236.000000</td>\n",
       "      <td>29158.000000</td>\n",
       "      <td>29244.000000</td>\n",
       "      <td>29218.000000</td>\n",
       "    </tr>\n",
       "    <tr>\n",
       "      <th>mean</th>\n",
       "      <td>17.885622</td>\n",
       "      <td>30.107993</td>\n",
       "      <td>986.879400</td>\n",
       "      <td>8.566568</td>\n",
       "      <td>0.059360</td>\n",
       "      <td>17.731433</td>\n",
       "    </tr>\n",
       "    <tr>\n",
       "      <th>std</th>\n",
       "      <td>6.454604</td>\n",
       "      <td>5.400388</td>\n",
       "      <td>3.607065</td>\n",
       "      <td>6.699889</td>\n",
       "      <td>0.471682</td>\n",
       "      <td>6.321100</td>\n",
       "    </tr>\n",
       "    <tr>\n",
       "      <th>min</th>\n",
       "      <td>2.000000</td>\n",
       "      <td>4.000000</td>\n",
       "      <td>971.000000</td>\n",
       "      <td>0.000000</td>\n",
       "      <td>0.000000</td>\n",
       "      <td>0.000000</td>\n",
       "    </tr>\n",
       "    <tr>\n",
       "      <th>25%</th>\n",
       "      <td>13.000000</td>\n",
       "      <td>26.000000</td>\n",
       "      <td>984.500000</td>\n",
       "      <td>6.000000</td>\n",
       "      <td>0.000000</td>\n",
       "      <td>13.000000</td>\n",
       "    </tr>\n",
       "    <tr>\n",
       "      <th>50%</th>\n",
       "      <td>17.000000</td>\n",
       "      <td>33.000000</td>\n",
       "      <td>986.480000</td>\n",
       "      <td>7.000000</td>\n",
       "      <td>0.000000</td>\n",
       "      <td>17.000000</td>\n",
       "    </tr>\n",
       "    <tr>\n",
       "      <th>75%</th>\n",
       "      <td>22.000000</td>\n",
       "      <td>34.000000</td>\n",
       "      <td>989.110000</td>\n",
       "      <td>13.000000</td>\n",
       "      <td>0.000000</td>\n",
       "      <td>22.000000</td>\n",
       "    </tr>\n",
       "    <tr>\n",
       "      <th>max</th>\n",
       "      <td>46.000000</td>\n",
       "      <td>47.000000</td>\n",
       "      <td>999.650000</td>\n",
       "      <td>57.000000</td>\n",
       "      <td>18.540000</td>\n",
       "      <td>42.000000</td>\n",
       "    </tr>\n",
       "  </tbody>\n",
       "</table>\n",
       "</div>"
      ]
     },
     "execution_count": 74,
     "metadata": {},
     "output_type": "execute_result"
    }
   ],
   "execution_count": 74
  },
  {
   "metadata": {},
   "cell_type": "markdown",
   "source": "### 2 Data Preparation",
   "id": "5793bb51b0ce8c65"
  },
  {
   "metadata": {},
   "cell_type": "markdown",
   "source": "#### 2.1 Identifying duplicates",
   "id": "ebbaa05e25b656fa"
  },
  {
   "metadata": {
    "ExecuteTime": {
     "end_time": "2024-12-21T20:53:53.574269Z",
     "start_time": "2024-12-21T20:53:53.453438Z"
    }
   },
   "cell_type": "code",
   "source": [
    "charging_data_duplicates = charging_data.duplicated().sum()\n",
    "weather_data_duplicates = weather_data.duplicated().sum()\n",
    "# Display the duplicate rows (if any)\n",
    "print(\"Duplicate rows:\\n charging data -> {}\\n weather data -> {}\".format(charging_data_duplicates,\n",
    "                                                                          weather_data_duplicates))"
   ],
   "id": "c5655b0a320c06c1",
   "outputs": [
    {
     "name": "stdout",
     "output_type": "stream",
     "text": [
      "Duplicate rows:\n",
      " charging data -> 0\n",
      " weather data -> 0\n"
     ]
    }
   ],
   "execution_count": 75
  },
  {
   "metadata": {},
   "cell_type": "markdown",
   "source": [
    "#### 2.2 Transform Datatypes\n",
    "Format the datatypes of the columns to those described in the Team Assignment PDF"
   ],
   "id": "ba7efa9d22d7ee1d"
  },
  {
   "metadata": {
    "ExecuteTime": {
     "end_time": "2024-12-21T20:53:53.917476Z",
     "start_time": "2024-12-21T20:53:53.674791Z"
    }
   },
   "cell_type": "code",
   "source": [
    "# Charging Data\n",
    "# Ist eine explizite Zuweisung des datatypes \"string\" notwendig bei columns die schon \"object\" als datatype haben?\n",
    "charging_data['connectionTime'] = pd.to_datetime(charging_data['connectionTime'])\n",
    "charging_data['disconnectTime'] = pd.to_datetime(charging_data['disconnectTime'])\n",
    "charging_data['doneChargingTime'] = pd.to_datetime(charging_data['doneChargingTime'])\n",
    "charging_data['siteID'] = charging_data['siteID'].astype(str)\n",
    "#charging_data['userID'] = charging_data['userID'].astype(str) --> ggf erst nach den missing data korrigeren, da dann kein nan/none eingefügt wird\n",
    "charging_data['userInputs'] = charging_data['userInputs'].astype(str)\n",
    "\n",
    "# Team Assignment PDF: \"All datetimes are in UTC (GMT) see timezone field for the correct timezone of the site.\"\n",
    "# -> Therefore we have to convert the connectionTime, disconnectTime and doneChargingTime to timezone PST (pacific standard time) as the sites are located in Los Angeles.\n",
    "charging_data['connectionTime'] = charging_data['connectionTime'].dt.tz_convert(tz='America/Los_Angeles')\n",
    "charging_data['disconnectTime'] = charging_data['disconnectTime'].dt.tz_convert(tz='America/Los_Angeles')\n",
    "charging_data['doneChargingTime'] = charging_data['doneChargingTime'].dt.tz_convert(tz='America/Los_Angeles')\n",
    "charging_data.info()"
   ],
   "id": "da2cc79dc71c8802",
   "outputs": [
    {
     "name": "stdout",
     "output_type": "stream",
     "text": [
      "<class 'pandas.core.frame.DataFrame'>\n",
      "RangeIndex: 66450 entries, 0 to 66449\n",
      "Data columns (total 13 columns):\n",
      " #   Column            Non-Null Count  Dtype                              \n",
      "---  ------            --------------  -----                              \n",
      " 0   counter           66450 non-null  int64                              \n",
      " 1   id                66450 non-null  object                             \n",
      " 2   connectionTime    66450 non-null  datetime64[ns, America/Los_Angeles]\n",
      " 3   disconnectTime    66450 non-null  datetime64[ns, America/Los_Angeles]\n",
      " 4   doneChargingTime  62362 non-null  datetime64[ns, America/Los_Angeles]\n",
      " 5   kWhDelivered      66450 non-null  float64                            \n",
      " 6   sessionID         66450 non-null  object                             \n",
      " 7   siteID            66450 non-null  object                             \n",
      " 8   spaceID           66450 non-null  object                             \n",
      " 9   stationID         66450 non-null  object                             \n",
      " 10  timezone          66450 non-null  object                             \n",
      " 11  userID            49187 non-null  float64                            \n",
      " 12  userInputs        66450 non-null  object                             \n",
      "dtypes: datetime64[ns, America/Los_Angeles](3), float64(2), int64(1), object(7)\n",
      "memory usage: 6.6+ MB\n"
     ]
    }
   ],
   "execution_count": 76
  },
  {
   "metadata": {
    "ExecuteTime": {
     "end_time": "2024-12-21T20:53:53.947374Z",
     "start_time": "2024-12-21T20:53:53.924478Z"
    }
   },
   "cell_type": "code",
   "source": [
    "# The offset of the columns connectionTime, disconnectTime and doneChargingTime is now -08:00 or -07:00 (summer) which is correct for timezone PST (Los Angeles)\n",
    "charging_data.head()"
   ],
   "id": "b9e486d00babb870",
   "outputs": [
    {
     "data": {
      "text/plain": [
       "   counter                        id            connectionTime  \\\n",
       "0        0  5e23b149f9af8b5fe4b973cf 2020-01-02 05:08:54-08:00   \n",
       "1        1  5e23b149f9af8b5fe4b973d0 2020-01-02 05:36:50-08:00   \n",
       "2        2  5e23b149f9af8b5fe4b973d1 2020-01-02 05:56:35-08:00   \n",
       "3        3  5e23b149f9af8b5fe4b973d2 2020-01-02 05:59:58-08:00   \n",
       "4        4  5e23b149f9af8b5fe4b973d3 2020-01-02 06:00:01-08:00   \n",
       "\n",
       "             disconnectTime          doneChargingTime  kWhDelivered  \\\n",
       "0 2020-01-02 11:11:15-08:00 2020-01-02 09:31:35-08:00        25.016   \n",
       "1 2020-01-02 14:38:21-08:00 2020-01-02 12:18:05-08:00        33.097   \n",
       "2 2020-01-02 16:39:22-08:00 2020-01-02 08:35:06-08:00         6.521   \n",
       "3 2020-01-02 08:38:39-08:00 2020-01-02 07:18:45-08:00         2.355   \n",
       "4 2020-01-02 14:08:40-08:00 2020-01-02 10:17:30-08:00        13.375   \n",
       "\n",
       "                                sessionID siteID  spaceID    stationID  \\\n",
       "0  1_1_179_810_2020-01-02 13:08:53.870034      1  AG-3F30  1-1-179-810   \n",
       "1  1_1_193_825_2020-01-02 13:36:49.599853      1  AG-1F01  1-1-193-825   \n",
       "2  1_1_193_829_2020-01-02 13:56:35.214993      1  AG-1F03  1-1-193-829   \n",
       "3  1_1_193_820_2020-01-02 13:59:58.309319      1  AG-1F04  1-1-193-820   \n",
       "4  1_1_193_819_2020-01-02 14:00:00.779967      1  AG-1F06  1-1-193-819   \n",
       "\n",
       "              timezone  userID  \\\n",
       "0  America/Los_Angeles   194.0   \n",
       "1  America/Los_Angeles  4275.0   \n",
       "2  America/Los_Angeles   344.0   \n",
       "3  America/Los_Angeles  1117.0   \n",
       "4  America/Los_Angeles   334.0   \n",
       "\n",
       "                                          userInputs  \n",
       "0  [{'WhPerMile': 250, 'kWhRequested': 25.0, 'mil...  \n",
       "1  [{'WhPerMile': 280, 'kWhRequested': 70.0, 'mil...  \n",
       "2  [{'WhPerMile': 400, 'kWhRequested': 8.0, 'mile...  \n",
       "3  [{'WhPerMile': 400, 'kWhRequested': 8.0, 'mile...  \n",
       "4  [{'WhPerMile': 400, 'kWhRequested': 16.0, 'mil...  "
      ],
      "text/html": [
       "<div>\n",
       "<style scoped>\n",
       "    .dataframe tbody tr th:only-of-type {\n",
       "        vertical-align: middle;\n",
       "    }\n",
       "\n",
       "    .dataframe tbody tr th {\n",
       "        vertical-align: top;\n",
       "    }\n",
       "\n",
       "    .dataframe thead th {\n",
       "        text-align: right;\n",
       "    }\n",
       "</style>\n",
       "<table border=\"1\" class=\"dataframe\">\n",
       "  <thead>\n",
       "    <tr style=\"text-align: right;\">\n",
       "      <th></th>\n",
       "      <th>counter</th>\n",
       "      <th>id</th>\n",
       "      <th>connectionTime</th>\n",
       "      <th>disconnectTime</th>\n",
       "      <th>doneChargingTime</th>\n",
       "      <th>kWhDelivered</th>\n",
       "      <th>sessionID</th>\n",
       "      <th>siteID</th>\n",
       "      <th>spaceID</th>\n",
       "      <th>stationID</th>\n",
       "      <th>timezone</th>\n",
       "      <th>userID</th>\n",
       "      <th>userInputs</th>\n",
       "    </tr>\n",
       "  </thead>\n",
       "  <tbody>\n",
       "    <tr>\n",
       "      <th>0</th>\n",
       "      <td>0</td>\n",
       "      <td>5e23b149f9af8b5fe4b973cf</td>\n",
       "      <td>2020-01-02 05:08:54-08:00</td>\n",
       "      <td>2020-01-02 11:11:15-08:00</td>\n",
       "      <td>2020-01-02 09:31:35-08:00</td>\n",
       "      <td>25.016</td>\n",
       "      <td>1_1_179_810_2020-01-02 13:08:53.870034</td>\n",
       "      <td>1</td>\n",
       "      <td>AG-3F30</td>\n",
       "      <td>1-1-179-810</td>\n",
       "      <td>America/Los_Angeles</td>\n",
       "      <td>194.0</td>\n",
       "      <td>[{'WhPerMile': 250, 'kWhRequested': 25.0, 'mil...</td>\n",
       "    </tr>\n",
       "    <tr>\n",
       "      <th>1</th>\n",
       "      <td>1</td>\n",
       "      <td>5e23b149f9af8b5fe4b973d0</td>\n",
       "      <td>2020-01-02 05:36:50-08:00</td>\n",
       "      <td>2020-01-02 14:38:21-08:00</td>\n",
       "      <td>2020-01-02 12:18:05-08:00</td>\n",
       "      <td>33.097</td>\n",
       "      <td>1_1_193_825_2020-01-02 13:36:49.599853</td>\n",
       "      <td>1</td>\n",
       "      <td>AG-1F01</td>\n",
       "      <td>1-1-193-825</td>\n",
       "      <td>America/Los_Angeles</td>\n",
       "      <td>4275.0</td>\n",
       "      <td>[{'WhPerMile': 280, 'kWhRequested': 70.0, 'mil...</td>\n",
       "    </tr>\n",
       "    <tr>\n",
       "      <th>2</th>\n",
       "      <td>2</td>\n",
       "      <td>5e23b149f9af8b5fe4b973d1</td>\n",
       "      <td>2020-01-02 05:56:35-08:00</td>\n",
       "      <td>2020-01-02 16:39:22-08:00</td>\n",
       "      <td>2020-01-02 08:35:06-08:00</td>\n",
       "      <td>6.521</td>\n",
       "      <td>1_1_193_829_2020-01-02 13:56:35.214993</td>\n",
       "      <td>1</td>\n",
       "      <td>AG-1F03</td>\n",
       "      <td>1-1-193-829</td>\n",
       "      <td>America/Los_Angeles</td>\n",
       "      <td>344.0</td>\n",
       "      <td>[{'WhPerMile': 400, 'kWhRequested': 8.0, 'mile...</td>\n",
       "    </tr>\n",
       "    <tr>\n",
       "      <th>3</th>\n",
       "      <td>3</td>\n",
       "      <td>5e23b149f9af8b5fe4b973d2</td>\n",
       "      <td>2020-01-02 05:59:58-08:00</td>\n",
       "      <td>2020-01-02 08:38:39-08:00</td>\n",
       "      <td>2020-01-02 07:18:45-08:00</td>\n",
       "      <td>2.355</td>\n",
       "      <td>1_1_193_820_2020-01-02 13:59:58.309319</td>\n",
       "      <td>1</td>\n",
       "      <td>AG-1F04</td>\n",
       "      <td>1-1-193-820</td>\n",
       "      <td>America/Los_Angeles</td>\n",
       "      <td>1117.0</td>\n",
       "      <td>[{'WhPerMile': 400, 'kWhRequested': 8.0, 'mile...</td>\n",
       "    </tr>\n",
       "    <tr>\n",
       "      <th>4</th>\n",
       "      <td>4</td>\n",
       "      <td>5e23b149f9af8b5fe4b973d3</td>\n",
       "      <td>2020-01-02 06:00:01-08:00</td>\n",
       "      <td>2020-01-02 14:08:40-08:00</td>\n",
       "      <td>2020-01-02 10:17:30-08:00</td>\n",
       "      <td>13.375</td>\n",
       "      <td>1_1_193_819_2020-01-02 14:00:00.779967</td>\n",
       "      <td>1</td>\n",
       "      <td>AG-1F06</td>\n",
       "      <td>1-1-193-819</td>\n",
       "      <td>America/Los_Angeles</td>\n",
       "      <td>334.0</td>\n",
       "      <td>[{'WhPerMile': 400, 'kWhRequested': 16.0, 'mil...</td>\n",
       "    </tr>\n",
       "  </tbody>\n",
       "</table>\n",
       "</div>"
      ]
     },
     "execution_count": 77,
     "metadata": {},
     "output_type": "execute_result"
    }
   ],
   "execution_count": 77
  },
  {
   "metadata": {
    "ExecuteTime": {
     "end_time": "2024-12-21T20:53:54.087568Z",
     "start_time": "2024-12-21T20:53:54.058777Z"
    }
   },
   "cell_type": "code",
   "source": [
    "# Additionally we localized the weather data, so that the datetime columns in both datasets have the same timezone\n",
    "weather_data['timestamp'] = pd.to_datetime(weather_data['timestamp'])\n",
    "weather_data['timestamp'] = weather_data['timestamp'].dt.tz_localize(tz='America/Los_Angeles', nonexistent='shift_forward', ambiguous='NaT')\n",
    "weather_data.head()"
   ],
   "id": "114f73b5f51d5147",
   "outputs": [
    {
     "data": {
      "text/plain": [
       "      city                 timestamp  temperature  cloud_cover  \\\n",
       "0  Burbank 2018-01-01 08:53:00-08:00          9.0         33.0   \n",
       "1  Burbank 2018-01-01 09:53:00-08:00          9.0         33.0   \n",
       "2  Burbank 2018-01-01 10:53:00-08:00          9.0         21.0   \n",
       "3  Burbank 2018-01-01 11:53:00-08:00          9.0         29.0   \n",
       "4  Burbank 2018-01-01 12:53:00-08:00          8.0         33.0   \n",
       "\n",
       "  cloud_cover_description  pressure  windspeed  precipitation  \\\n",
       "0                    Fair    991.75        9.0            0.0   \n",
       "1                    Fair    992.08        0.0            0.0   \n",
       "2                    Haze    992.08        0.0            0.0   \n",
       "3           Partly Cloudy    992.08        0.0            0.0   \n",
       "4                    Fair    992.08        0.0            0.0   \n",
       "\n",
       "   felt_temperature  \n",
       "0               8.0  \n",
       "1               9.0  \n",
       "2               9.0  \n",
       "3               9.0  \n",
       "4               8.0  "
      ],
      "text/html": [
       "<div>\n",
       "<style scoped>\n",
       "    .dataframe tbody tr th:only-of-type {\n",
       "        vertical-align: middle;\n",
       "    }\n",
       "\n",
       "    .dataframe tbody tr th {\n",
       "        vertical-align: top;\n",
       "    }\n",
       "\n",
       "    .dataframe thead th {\n",
       "        text-align: right;\n",
       "    }\n",
       "</style>\n",
       "<table border=\"1\" class=\"dataframe\">\n",
       "  <thead>\n",
       "    <tr style=\"text-align: right;\">\n",
       "      <th></th>\n",
       "      <th>city</th>\n",
       "      <th>timestamp</th>\n",
       "      <th>temperature</th>\n",
       "      <th>cloud_cover</th>\n",
       "      <th>cloud_cover_description</th>\n",
       "      <th>pressure</th>\n",
       "      <th>windspeed</th>\n",
       "      <th>precipitation</th>\n",
       "      <th>felt_temperature</th>\n",
       "    </tr>\n",
       "  </thead>\n",
       "  <tbody>\n",
       "    <tr>\n",
       "      <th>0</th>\n",
       "      <td>Burbank</td>\n",
       "      <td>2018-01-01 08:53:00-08:00</td>\n",
       "      <td>9.0</td>\n",
       "      <td>33.0</td>\n",
       "      <td>Fair</td>\n",
       "      <td>991.75</td>\n",
       "      <td>9.0</td>\n",
       "      <td>0.0</td>\n",
       "      <td>8.0</td>\n",
       "    </tr>\n",
       "    <tr>\n",
       "      <th>1</th>\n",
       "      <td>Burbank</td>\n",
       "      <td>2018-01-01 09:53:00-08:00</td>\n",
       "      <td>9.0</td>\n",
       "      <td>33.0</td>\n",
       "      <td>Fair</td>\n",
       "      <td>992.08</td>\n",
       "      <td>0.0</td>\n",
       "      <td>0.0</td>\n",
       "      <td>9.0</td>\n",
       "    </tr>\n",
       "    <tr>\n",
       "      <th>2</th>\n",
       "      <td>Burbank</td>\n",
       "      <td>2018-01-01 10:53:00-08:00</td>\n",
       "      <td>9.0</td>\n",
       "      <td>21.0</td>\n",
       "      <td>Haze</td>\n",
       "      <td>992.08</td>\n",
       "      <td>0.0</td>\n",
       "      <td>0.0</td>\n",
       "      <td>9.0</td>\n",
       "    </tr>\n",
       "    <tr>\n",
       "      <th>3</th>\n",
       "      <td>Burbank</td>\n",
       "      <td>2018-01-01 11:53:00-08:00</td>\n",
       "      <td>9.0</td>\n",
       "      <td>29.0</td>\n",
       "      <td>Partly Cloudy</td>\n",
       "      <td>992.08</td>\n",
       "      <td>0.0</td>\n",
       "      <td>0.0</td>\n",
       "      <td>9.0</td>\n",
       "    </tr>\n",
       "    <tr>\n",
       "      <th>4</th>\n",
       "      <td>Burbank</td>\n",
       "      <td>2018-01-01 12:53:00-08:00</td>\n",
       "      <td>8.0</td>\n",
       "      <td>33.0</td>\n",
       "      <td>Fair</td>\n",
       "      <td>992.08</td>\n",
       "      <td>0.0</td>\n",
       "      <td>0.0</td>\n",
       "      <td>8.0</td>\n",
       "    </tr>\n",
       "  </tbody>\n",
       "</table>\n",
       "</div>"
      ]
     },
     "execution_count": 78,
     "metadata": {},
     "output_type": "execute_result"
    }
   ],
   "execution_count": 78
  },
  {
   "metadata": {
    "ExecuteTime": {
     "end_time": "2024-12-21T20:53:54.165348Z",
     "start_time": "2024-12-21T20:53:54.151850Z"
    }
   },
   "cell_type": "code",
   "source": [
    "# While performing the timezone localize to the weather data, we faced an AmbiguousTimeError which occurs because of an issue with converting timezone-aware datetime values.\n",
    "# For example, during the transition from DST (Daylight Saving Time) to standard time, an hour gets repeated, making times like 2018-11-04 01:53:00 ambiguous (it could occur in either DST or standard time).\n",
    "# Therefore, we decided to use the parameters nonexistent='shift_forward' and ambiguous='NaT' of the function tz_localize which deals with this issue. It replaced 3 timestamps with 'NaT' (Not a Time) which we will drop from the weather dataset.\n",
    "nat_records = weather_data[pd.isna(weather_data['timestamp'])]\n",
    "nat_records"
   ],
   "id": "68555a1b783c4100",
   "outputs": [
    {
     "data": {
      "text/plain": [
       "          city timestamp  temperature  cloud_cover cloud_cover_description  \\\n",
       "8077   Burbank       NaT         26.0         33.0                    Fair   \n",
       "18030  Burbank       NaT         23.0         27.0           Mostly Cloudy   \n",
       "27704  Burbank       NaT         25.0         33.0                    Fair   \n",
       "\n",
       "       pressure  windspeed  precipitation  felt_temperature  \n",
       "8077     985.49        7.0            0.0              26.0  \n",
       "18030    986.81        7.0            0.0              23.0  \n",
       "27704    987.80        9.0            0.0              26.0  "
      ],
      "text/html": [
       "<div>\n",
       "<style scoped>\n",
       "    .dataframe tbody tr th:only-of-type {\n",
       "        vertical-align: middle;\n",
       "    }\n",
       "\n",
       "    .dataframe tbody tr th {\n",
       "        vertical-align: top;\n",
       "    }\n",
       "\n",
       "    .dataframe thead th {\n",
       "        text-align: right;\n",
       "    }\n",
       "</style>\n",
       "<table border=\"1\" class=\"dataframe\">\n",
       "  <thead>\n",
       "    <tr style=\"text-align: right;\">\n",
       "      <th></th>\n",
       "      <th>city</th>\n",
       "      <th>timestamp</th>\n",
       "      <th>temperature</th>\n",
       "      <th>cloud_cover</th>\n",
       "      <th>cloud_cover_description</th>\n",
       "      <th>pressure</th>\n",
       "      <th>windspeed</th>\n",
       "      <th>precipitation</th>\n",
       "      <th>felt_temperature</th>\n",
       "    </tr>\n",
       "  </thead>\n",
       "  <tbody>\n",
       "    <tr>\n",
       "      <th>8077</th>\n",
       "      <td>Burbank</td>\n",
       "      <td>NaT</td>\n",
       "      <td>26.0</td>\n",
       "      <td>33.0</td>\n",
       "      <td>Fair</td>\n",
       "      <td>985.49</td>\n",
       "      <td>7.0</td>\n",
       "      <td>0.0</td>\n",
       "      <td>26.0</td>\n",
       "    </tr>\n",
       "    <tr>\n",
       "      <th>18030</th>\n",
       "      <td>Burbank</td>\n",
       "      <td>NaT</td>\n",
       "      <td>23.0</td>\n",
       "      <td>27.0</td>\n",
       "      <td>Mostly Cloudy</td>\n",
       "      <td>986.81</td>\n",
       "      <td>7.0</td>\n",
       "      <td>0.0</td>\n",
       "      <td>23.0</td>\n",
       "    </tr>\n",
       "    <tr>\n",
       "      <th>27704</th>\n",
       "      <td>Burbank</td>\n",
       "      <td>NaT</td>\n",
       "      <td>25.0</td>\n",
       "      <td>33.0</td>\n",
       "      <td>Fair</td>\n",
       "      <td>987.80</td>\n",
       "      <td>9.0</td>\n",
       "      <td>0.0</td>\n",
       "      <td>26.0</td>\n",
       "    </tr>\n",
       "  </tbody>\n",
       "</table>\n",
       "</div>"
      ]
     },
     "execution_count": 79,
     "metadata": {},
     "output_type": "execute_result"
    }
   ],
   "execution_count": 79
  },
  {
   "metadata": {
    "ExecuteTime": {
     "end_time": "2024-12-21T20:53:54.258244Z",
     "start_time": "2024-12-21T20:53:54.243731Z"
    }
   },
   "cell_type": "code",
   "source": [
    "# Drop 3 NaT records\n",
    "print(f\"Number of rows in weather dataset before drop: {weather_data.shape[0]}\")\n",
    "weather_data = weather_data.dropna(subset=['timestamp'])\n",
    "print(f\"Number of rows in weather dataset after drop: {weather_data.shape[0]}\")\n",
    "# Initially 29244 and now 29241 -> correct"
   ],
   "id": "a89f071a6d44efd1",
   "outputs": [
    {
     "name": "stdout",
     "output_type": "stream",
     "text": [
      "Number of rows in weather dataset after drop: 29241\n"
     ]
    }
   ],
   "execution_count": 80
  },
  {
   "metadata": {
    "ExecuteTime": {
     "end_time": "2024-12-21T20:54:55.159872Z",
     "start_time": "2024-12-21T20:53:54.340253Z"
    }
   },
   "cell_type": "code",
   "source": [
    "# Transforming the json-Strings in the userInputs column to Dataframes\n",
    "# Notice: Takes about 1-2 minutes\n",
    "def parse_json_to_dataframe(json_string):\n",
    "    if json_string is not None and json_string != '' and json_string != 'nan':\n",
    "        cleaned_json = json_string.replace(\"'\", '\"')\n",
    "        cleaned_json = cleaned_json.replace(\"True\", '\"True\"')\n",
    "        cleaned_json = cleaned_json.replace(\"False\", '\"False\"')\n",
    "        data = json.loads(cleaned_json)\n",
    "        dataframe = pd.DataFrame(data)\n",
    "        #might as well just transform the date columns to the correct datatypes\n",
    "        dataframe['modifiedAt'] = pd.to_datetime(dataframe['modifiedAt'], format='%a, %d %b %Y %H:%M:%S %Z')\n",
    "        dataframe['modifiedAt'] = dataframe['modifiedAt'].dt.tz_convert(tz='America/Los_Angeles')\n",
    "        dataframe['requestedDeparture'] = pd.to_datetime(dataframe['requestedDeparture'], format='%a, %d %b %Y %H:%M:%S %Z')\n",
    "        dataframe['requestedDeparture'] = dataframe['requestedDeparture'].dt.tz_convert(tz='America/Los_Angeles')\n",
    "        return dataframe\n",
    "    else:\n",
    "        return None\n",
    "\n",
    "\n",
    "charging_data['userInputs'] = charging_data['userInputs'].apply(parse_json_to_dataframe)"
   ],
   "id": "dd79d1f9c357c2de",
   "outputs": [],
   "execution_count": 81
  },
  {
   "metadata": {
    "ExecuteTime": {
     "end_time": "2024-12-21T20:54:55.252899Z",
     "start_time": "2024-12-21T20:54:55.240164Z"
    }
   },
   "cell_type": "code",
   "source": [
    "# check inner Dataframe\n",
    "dftest = charging_data['userInputs']\n",
    "dftest[3]"
   ],
   "id": "7271765baad10108",
   "outputs": [
    {
     "data": {
      "text/plain": [
       "   WhPerMile  kWhRequested  milesRequested  minutesAvailable  \\\n",
       "0        400           8.0              20                65   \n",
       "1        400           8.0              20                65   \n",
       "\n",
       "                 modifiedAt paymentRequired        requestedDeparture  userID  \n",
       "0 2020-01-02 06:00:03-08:00            True 2020-01-02 07:04:58-08:00    1117  \n",
       "1 2020-01-02 06:00:19-08:00            True 2020-01-02 07:04:58-08:00    1117  "
      ],
      "text/html": [
       "<div>\n",
       "<style scoped>\n",
       "    .dataframe tbody tr th:only-of-type {\n",
       "        vertical-align: middle;\n",
       "    }\n",
       "\n",
       "    .dataframe tbody tr th {\n",
       "        vertical-align: top;\n",
       "    }\n",
       "\n",
       "    .dataframe thead th {\n",
       "        text-align: right;\n",
       "    }\n",
       "</style>\n",
       "<table border=\"1\" class=\"dataframe\">\n",
       "  <thead>\n",
       "    <tr style=\"text-align: right;\">\n",
       "      <th></th>\n",
       "      <th>WhPerMile</th>\n",
       "      <th>kWhRequested</th>\n",
       "      <th>milesRequested</th>\n",
       "      <th>minutesAvailable</th>\n",
       "      <th>modifiedAt</th>\n",
       "      <th>paymentRequired</th>\n",
       "      <th>requestedDeparture</th>\n",
       "      <th>userID</th>\n",
       "    </tr>\n",
       "  </thead>\n",
       "  <tbody>\n",
       "    <tr>\n",
       "      <th>0</th>\n",
       "      <td>400</td>\n",
       "      <td>8.0</td>\n",
       "      <td>20</td>\n",
       "      <td>65</td>\n",
       "      <td>2020-01-02 06:00:03-08:00</td>\n",
       "      <td>True</td>\n",
       "      <td>2020-01-02 07:04:58-08:00</td>\n",
       "      <td>1117</td>\n",
       "    </tr>\n",
       "    <tr>\n",
       "      <th>1</th>\n",
       "      <td>400</td>\n",
       "      <td>8.0</td>\n",
       "      <td>20</td>\n",
       "      <td>65</td>\n",
       "      <td>2020-01-02 06:00:19-08:00</td>\n",
       "      <td>True</td>\n",
       "      <td>2020-01-02 07:04:58-08:00</td>\n",
       "      <td>1117</td>\n",
       "    </tr>\n",
       "  </tbody>\n",
       "</table>\n",
       "</div>"
      ]
     },
     "execution_count": 82,
     "metadata": {},
     "output_type": "execute_result"
    }
   ],
   "execution_count": 82
  },
  {
   "metadata": {
    "ExecuteTime": {
     "end_time": "2024-12-21T20:54:55.330481Z",
     "start_time": "2024-12-21T20:54:55.300009Z"
    }
   },
   "cell_type": "code",
   "source": [
    "# Weather Data\n",
    "weather_data['timestamp'] = pd.to_datetime(weather_data['timestamp'])\n",
    "# We assume that the weather data is already in the correct time zone (PST).\n",
    "weather_data.info()"
   ],
   "id": "20a684a45bdcced4",
   "outputs": [
    {
     "name": "stdout",
     "output_type": "stream",
     "text": [
      "<class 'pandas.core.frame.DataFrame'>\n",
      "Index: 29241 entries, 0 to 29243\n",
      "Data columns (total 9 columns):\n",
      " #   Column                   Non-Null Count  Dtype                              \n",
      "---  ------                   --------------  -----                              \n",
      " 0   city                     29241 non-null  object                             \n",
      " 1   timestamp                29241 non-null  datetime64[ns, America/Los_Angeles]\n",
      " 2   temperature              29216 non-null  float64                            \n",
      " 3   cloud_cover              29221 non-null  float64                            \n",
      " 4   cloud_cover_description  29221 non-null  object                             \n",
      " 5   pressure                 29233 non-null  float64                            \n",
      " 6   windspeed                29155 non-null  float64                            \n",
      " 7   precipitation            29241 non-null  float64                            \n",
      " 8   felt_temperature         29215 non-null  float64                            \n",
      "dtypes: datetime64[ns, America/Los_Angeles](1), float64(6), object(2)\n",
      "memory usage: 2.2+ MB\n"
     ]
    }
   ],
   "execution_count": 83
  },
  {
   "metadata": {},
   "cell_type": "markdown",
   "source": "#### 2.3 Identifying missing data",
   "id": "3117a18915aee7c0"
  },
  {
   "metadata": {
    "ExecuteTime": {
     "end_time": "2024-12-21T20:54:55.409684Z",
     "start_time": "2024-12-21T20:54:55.380086Z"
    }
   },
   "cell_type": "code",
   "source": [
    "charging_missing_data = charging_data.isnull().sum()\n",
    "display(charging_missing_data[charging_missing_data > 0])\n",
    "\n",
    "weather_missing_data = weather_data.isnull().sum()\n",
    "display(weather_missing_data[weather_missing_data > 0])\n",
    "print(\"Number of unique lines with missing values: \" + str(weather_data.isnull().any(axis=1).sum()))"
   ],
   "id": "f740298229d1b2f6",
   "outputs": [
    {
     "data": {
      "text/plain": [
       "doneChargingTime     4088\n",
       "userID              17263\n",
       "userInputs          17263\n",
       "dtype: int64"
      ]
     },
     "metadata": {},
     "output_type": "display_data"
    },
    {
     "data": {
      "text/plain": [
       "temperature                25\n",
       "cloud_cover                20\n",
       "cloud_cover_description    20\n",
       "pressure                    8\n",
       "windspeed                  86\n",
       "felt_temperature           26\n",
       "dtype: int64"
      ]
     },
     "metadata": {},
     "output_type": "display_data"
    },
    {
     "name": "stdout",
     "output_type": "stream",
     "text": [
      "Number of unique lines with missing values: 139\n"
     ]
    }
   ],
   "execution_count": 84
  },
  {
   "metadata": {},
   "cell_type": "markdown",
   "source": [
    "**Lets look at the missing values**<br>\n",
    "For `charging_data`:\n",
    "- `doneChargingTime`: We have 4088 missing values, that is 4088/66450=6,15% of the data set. Because we do not want to lose 6% of the data, we will replace the missing values with connectionTime + median charging time.\n",
    "- `userID`: We have 17263 missing values, that is 17263/66450=25,98% of the data set. We will replace them with null values (0.0).\n",
    "- `userInput`: We have 17263 missing values, that is 17263/66450=25,98% of the data set (see userID). We will replace them with null values (Null).\n",
    "\n",
    "For `weather_data`:\n",
    "- There are 139 lines with missing values through the data set. Because this is only 0,47%, we decided to drop these records."
   ],
   "id": "7c8af9b066fe3236"
  },
  {
   "metadata": {},
   "cell_type": "markdown",
   "source": "#### 2.4 Handling missing data",
   "id": "4eb03d17455c71ce"
  },
  {
   "metadata": {
    "ExecuteTime": {
     "end_time": "2024-12-21T20:54:56.054150Z",
     "start_time": "2024-12-21T20:54:55.555271Z"
    }
   },
   "cell_type": "code",
   "source": [
    "## charging data\n",
    "# Calculate median charging time in seconds and round it\n",
    "# should we explain why we use the median instead of mean?\n",
    "median_charging_time = (charging_data['doneChargingTime'] - charging_data['connectionTime']).dt.total_seconds().median()\n",
    "median_charging_time = round(median_charging_time)  # Round the median charging time\n",
    "print(f\"The median charging time is {median_charging_time} seconds, which is {median_charging_time / 60} minutes.\")\n",
    "\n",
    "# Make a copy to avoid modifying the original DataFrame\n",
    "charging_data_cleaned = charging_data.copy()\n",
    "\n",
    "# Fill 'doneChargingTime' NaNs with 'connectionTime' + median charging time\n",
    "charging_data_cleaned['doneChargingTime'] = charging_data_cleaned['doneChargingTime'].fillna(\n",
    "    charging_data_cleaned['connectionTime'] + pd.to_timedelta(median_charging_time, unit='s'))\n",
    "\n",
    "# Fill userID with empty String values -> Change if type changed\n",
    "charging_data_cleaned['userID'] = charging_data_cleaned['userID'].fillna('')\n",
    "\n",
    "\n",
    "# --> vielleicht: Transform Data type for userID erst nach den missing Data korrigieren\n",
    "\n",
    "display(charging_data_cleaned['userID'].info())\n",
    "charging_data_cleaned['userID'] = charging_data['userID'].fillna(0)\n",
    "#display(charging_data_cleaned['userID'].head(12))\n",
    "charging_data_cleaned['userID'] = charging_data_cleaned['userID'].astype(int)\n",
    "display(charging_data_cleaned['userID'].head(12))\n",
    "charging_data_cleaned['userID'] = charging_data_cleaned['userID'].astype(str)\n",
    "charging_data_cleaned['userID'] = charging_data_cleaned['userID'].replace('0', 'null')\n",
    "\n",
    "display(charging_data_cleaned['userID'].head(12))\n",
    "checkForValues = charging_data_cleaned[charging_data_cleaned['userID'] == 'null'].shape[0]\n",
    "print(\"Amount of null-Values should be equal to 17263 missing userIDs, amount of null-values: \", checkForValues) \n",
    "\n",
    "\n",
    "## weather data\n",
    "# Make a copy to avoid modifying the original DataFrame\n",
    "weather_data_cleaned = weather_data.copy()\n",
    "\n",
    "# Drop lines with missing values\n",
    "weather_data_cleaned = weather_data_cleaned.dropna()"
   ],
   "id": "21198e47a999b58f",
   "outputs": [
    {
     "name": "stdout",
     "output_type": "stream",
     "text": [
      "The median charging time is 10022 seconds, which is 167.03333333333333 minutes.\n",
      "<class 'pandas.core.series.Series'>\n",
      "RangeIndex: 66450 entries, 0 to 66449\n",
      "Series name: userID\n",
      "Non-Null Count  Dtype \n",
      "--------------  ----- \n",
      "66450 non-null  object\n",
      "dtypes: object(1)\n",
      "memory usage: 519.3+ KB\n"
     ]
    },
    {
     "data": {
      "text/plain": [
       "None"
      ]
     },
     "metadata": {},
     "output_type": "display_data"
    },
    {
     "data": {
      "text/plain": [
       "0      194\n",
       "1     4275\n",
       "2      344\n",
       "3     1117\n",
       "4      334\n",
       "5     3519\n",
       "6      933\n",
       "7     3737\n",
       "8      419\n",
       "9      651\n",
       "10    2020\n",
       "11       0\n",
       "Name: userID, dtype: int64"
      ]
     },
     "metadata": {},
     "output_type": "display_data"
    },
    {
     "data": {
      "text/plain": [
       "0      194\n",
       "1     4275\n",
       "2      344\n",
       "3     1117\n",
       "4      334\n",
       "5     3519\n",
       "6      933\n",
       "7     3737\n",
       "8      419\n",
       "9      651\n",
       "10    2020\n",
       "11    null\n",
       "Name: userID, dtype: object"
      ]
     },
     "metadata": {},
     "output_type": "display_data"
    },
    {
     "name": "stdout",
     "output_type": "stream",
     "text": [
      "Amount of null-Values should be equal to 17263 missing userIDs, amount of null-values:  17263\n"
     ]
    }
   ],
   "execution_count": 85
  },
  {
   "metadata": {},
   "cell_type": "markdown",
   "source": "### 3 Erroneous Data",
   "id": "ac4d5553804787e3"
  },
  {
   "metadata": {
    "ExecuteTime": {
     "end_time": "2024-12-21T20:54:56.131072Z",
     "start_time": "2024-12-21T20:54:56.100279Z"
    }
   },
   "cell_type": "code",
   "source": [
    "# Check whether disconnectTime is before connectionTime\n",
    "erroneous_disconnect_times = charging_data_cleaned[charging_data_cleaned['disconnectTime'] < charging_data_cleaned['connectionTime']]\n",
    "\n",
    "# Check whether doneChargingTime is before connectionTime\n",
    "erroneous_doneCharging = charging_data_cleaned[charging_data_cleaned['doneChargingTime'] < charging_data_cleaned['connectionTime']]\n",
    "\n",
    "# Output the wrong lines\n",
    "print(f\"Number of rows where disconnectTime is before connectionTime: {erroneous_disconnect_times.shape[0]}\")\n",
    "display(erroneous_disconnect_times[['connectionTime', 'disconnectTime']])  # Empty = no disconnectTime after connectionTime\n",
    "print(f\"Number of rows where doneChargingTime is before connectionTime: {erroneous_doneCharging.shape[0]}\")\n",
    "display(erroneous_doneCharging[['connectionTime', 'doneChargingTime']].head()) # There are 27 records where doneChargingTime is before connectionTime, which seems contradictory. We decided to drop these records.\n"
   ],
   "id": "c579c7a2587f8810",
   "outputs": [
    {
     "name": "stdout",
     "output_type": "stream",
     "text": [
      "Number of rows where disconnectTime is before connectionTime: 0\n"
     ]
    },
    {
     "data": {
      "text/plain": [
       "Empty DataFrame\n",
       "Columns: [connectionTime, disconnectTime]\n",
       "Index: []"
      ],
      "text/html": [
       "<div>\n",
       "<style scoped>\n",
       "    .dataframe tbody tr th:only-of-type {\n",
       "        vertical-align: middle;\n",
       "    }\n",
       "\n",
       "    .dataframe tbody tr th {\n",
       "        vertical-align: top;\n",
       "    }\n",
       "\n",
       "    .dataframe thead th {\n",
       "        text-align: right;\n",
       "    }\n",
       "</style>\n",
       "<table border=\"1\" class=\"dataframe\">\n",
       "  <thead>\n",
       "    <tr style=\"text-align: right;\">\n",
       "      <th></th>\n",
       "      <th>connectionTime</th>\n",
       "      <th>disconnectTime</th>\n",
       "    </tr>\n",
       "  </thead>\n",
       "  <tbody>\n",
       "  </tbody>\n",
       "</table>\n",
       "</div>"
      ]
     },
     "metadata": {},
     "output_type": "display_data"
    },
    {
     "name": "stdout",
     "output_type": "stream",
     "text": [
      "Number of rows where doneChargingTime is before connectionTime: 27\n"
     ]
    },
    {
     "data": {
      "text/plain": [
       "                 connectionTime          doneChargingTime\n",
       "22219 2019-03-05 11:13:55-08:00 2019-03-05 11:12:56-08:00\n",
       "22253 2019-03-06 12:26:30-08:00 2019-03-06 12:25:34-08:00\n",
       "23562 2019-04-15 13:24:13-07:00 2019-04-15 13:23:14-07:00\n",
       "23586 2019-04-16 09:11:08-07:00 2019-04-16 09:10:11-07:00\n",
       "27689 2019-09-04 09:35:04-07:00 2019-09-04 09:34:05-07:00"
      ],
      "text/html": [
       "<div>\n",
       "<style scoped>\n",
       "    .dataframe tbody tr th:only-of-type {\n",
       "        vertical-align: middle;\n",
       "    }\n",
       "\n",
       "    .dataframe tbody tr th {\n",
       "        vertical-align: top;\n",
       "    }\n",
       "\n",
       "    .dataframe thead th {\n",
       "        text-align: right;\n",
       "    }\n",
       "</style>\n",
       "<table border=\"1\" class=\"dataframe\">\n",
       "  <thead>\n",
       "    <tr style=\"text-align: right;\">\n",
       "      <th></th>\n",
       "      <th>connectionTime</th>\n",
       "      <th>doneChargingTime</th>\n",
       "    </tr>\n",
       "  </thead>\n",
       "  <tbody>\n",
       "    <tr>\n",
       "      <th>22219</th>\n",
       "      <td>2019-03-05 11:13:55-08:00</td>\n",
       "      <td>2019-03-05 11:12:56-08:00</td>\n",
       "    </tr>\n",
       "    <tr>\n",
       "      <th>22253</th>\n",
       "      <td>2019-03-06 12:26:30-08:00</td>\n",
       "      <td>2019-03-06 12:25:34-08:00</td>\n",
       "    </tr>\n",
       "    <tr>\n",
       "      <th>23562</th>\n",
       "      <td>2019-04-15 13:24:13-07:00</td>\n",
       "      <td>2019-04-15 13:23:14-07:00</td>\n",
       "    </tr>\n",
       "    <tr>\n",
       "      <th>23586</th>\n",
       "      <td>2019-04-16 09:11:08-07:00</td>\n",
       "      <td>2019-04-16 09:10:11-07:00</td>\n",
       "    </tr>\n",
       "    <tr>\n",
       "      <th>27689</th>\n",
       "      <td>2019-09-04 09:35:04-07:00</td>\n",
       "      <td>2019-09-04 09:34:05-07:00</td>\n",
       "    </tr>\n",
       "  </tbody>\n",
       "</table>\n",
       "</div>"
      ]
     },
     "metadata": {},
     "output_type": "display_data"
    }
   ],
   "execution_count": 86
  },
  {
   "metadata": {
    "ExecuteTime": {
     "end_time": "2024-12-21T20:54:56.256098Z",
     "start_time": "2024-12-21T20:54:56.227366Z"
    }
   },
   "cell_type": "code",
   "source": [
    "# Drop the records where doneChargingTime is before connectionTime\n",
    "charging_data_cleaned.drop(charging_data_cleaned[charging_data_cleaned['doneChargingTime'] < charging_data_cleaned['connectionTime']].index, inplace=True)\n",
    "\n",
    "# Verify that there are no more records where doneChargingTime is before connectionTime\n",
    "doneCharging_before_connection = charging_data_cleaned[charging_data_cleaned['doneChargingTime'] < charging_data_cleaned['connectionTime']]\n",
    "print(f\"Number of records where doneChargingTime is before connectionTime: {doneCharging_before_connection.shape[0]}\")"
   ],
   "id": "a5269ecfd0c0140",
   "outputs": [
    {
     "name": "stdout",
     "output_type": "stream",
     "text": [
      "Number of records where doneChargingTime is before connectionTime: 0\n"
     ]
    }
   ],
   "execution_count": 87
  },
  {
   "metadata": {
    "ExecuteTime": {
     "end_time": "2024-12-21T20:54:56.414165Z",
     "start_time": "2024-12-21T20:54:56.388128Z"
    }
   },
   "cell_type": "code",
   "source": [
    "# Calculate the charging duration (doneChargingTime - connectionTime) in minutes\n",
    "charging_data_cleaned['charging_duration'] = ((charging_data_cleaned['doneChargingTime'] - charging_data_cleaned[\n",
    "    'connectionTime']).dt.total_seconds()) / 60\n",
    "\n",
    "# Calculate the connection duration (disconnectTime - connectionTime) in minutes\n",
    "charging_data_cleaned['connection_duration'] = ((charging_data_cleaned['disconnectTime'] - charging_data_cleaned[\n",
    "    'connectionTime']).dt.total_seconds()) / 60\n",
    "\n",
    "# Check whether the charging duration is longer than the connection duration (doneChargingTime after disconnectTime)\n",
    "erroneous_charging_times = charging_data_cleaned[\n",
    "    charging_data_cleaned['charging_duration'] > charging_data_cleaned['connection_duration']]\n",
    "\n",
    "print(f\"Number of rows where the charging duration is longer than the connection duration: {erroneous_charging_times.shape[0]}\")\n",
    "erroneous_charging_times[['connectionTime', 'disconnectTime', 'doneChargingTime', 'charging_duration', 'connection_duration']]"
   ],
   "id": "d523e6ad97b21855",
   "outputs": [
    {
     "name": "stdout",
     "output_type": "stream",
     "text": [
      "Number of rows where the charging duration is longer than the connection duration: 6436\n"
     ]
    },
    {
     "data": {
      "text/plain": [
       "                 connectionTime            disconnectTime  \\\n",
       "12    2020-01-02 07:04:38-08:00 2020-01-02 14:08:39-08:00   \n",
       "20    2020-01-02 07:28:47-08:00 2020-01-02 11:01:54-08:00   \n",
       "25    2020-01-02 07:42:05-08:00 2020-01-02 13:58:45-08:00   \n",
       "26    2020-01-02 07:57:24-08:00 2020-01-02 08:35:37-08:00   \n",
       "33    2020-01-02 08:34:35-08:00 2020-01-02 10:49:41-08:00   \n",
       "...                         ...                       ...   \n",
       "66432 2019-07-31 07:36:02-07:00 2019-07-31 15:34:10-07:00   \n",
       "66439 2019-07-31 07:45:02-07:00 2019-07-31 16:43:20-07:00   \n",
       "66440 2019-07-31 07:45:29-07:00 2019-07-31 15:01:32-07:00   \n",
       "66445 2019-07-31 11:08:04-07:00 2019-07-31 16:29:18-07:00   \n",
       "66447 2019-07-31 12:04:40-07:00 2019-07-31 15:44:22-07:00   \n",
       "\n",
       "               doneChargingTime  charging_duration  connection_duration  \n",
       "12    2020-01-02 14:09:36-08:00         424.966667           424.016667  \n",
       "20    2020-01-02 11:02:51-08:00         214.066667           213.116667  \n",
       "25    2020-01-02 13:59:42-08:00         377.616667           376.666667  \n",
       "26    2020-01-02 08:36:34-08:00          39.166667            38.216667  \n",
       "33    2020-01-02 10:50:38-08:00         136.050000           135.100000  \n",
       "...                         ...                ...                  ...  \n",
       "66432 2019-07-31 15:35:10-07:00         479.133333           478.133333  \n",
       "66439 2019-07-31 16:44:19-07:00         539.283333           538.300000  \n",
       "66440 2019-07-31 15:02:32-07:00         437.050000           436.050000  \n",
       "66445 2019-07-31 16:30:18-07:00         322.233333           321.233333  \n",
       "66447 2019-07-31 15:45:21-07:00         220.683333           219.700000  \n",
       "\n",
       "[6436 rows x 5 columns]"
      ],
      "text/html": [
       "<div>\n",
       "<style scoped>\n",
       "    .dataframe tbody tr th:only-of-type {\n",
       "        vertical-align: middle;\n",
       "    }\n",
       "\n",
       "    .dataframe tbody tr th {\n",
       "        vertical-align: top;\n",
       "    }\n",
       "\n",
       "    .dataframe thead th {\n",
       "        text-align: right;\n",
       "    }\n",
       "</style>\n",
       "<table border=\"1\" class=\"dataframe\">\n",
       "  <thead>\n",
       "    <tr style=\"text-align: right;\">\n",
       "      <th></th>\n",
       "      <th>connectionTime</th>\n",
       "      <th>disconnectTime</th>\n",
       "      <th>doneChargingTime</th>\n",
       "      <th>charging_duration</th>\n",
       "      <th>connection_duration</th>\n",
       "    </tr>\n",
       "  </thead>\n",
       "  <tbody>\n",
       "    <tr>\n",
       "      <th>12</th>\n",
       "      <td>2020-01-02 07:04:38-08:00</td>\n",
       "      <td>2020-01-02 14:08:39-08:00</td>\n",
       "      <td>2020-01-02 14:09:36-08:00</td>\n",
       "      <td>424.966667</td>\n",
       "      <td>424.016667</td>\n",
       "    </tr>\n",
       "    <tr>\n",
       "      <th>20</th>\n",
       "      <td>2020-01-02 07:28:47-08:00</td>\n",
       "      <td>2020-01-02 11:01:54-08:00</td>\n",
       "      <td>2020-01-02 11:02:51-08:00</td>\n",
       "      <td>214.066667</td>\n",
       "      <td>213.116667</td>\n",
       "    </tr>\n",
       "    <tr>\n",
       "      <th>25</th>\n",
       "      <td>2020-01-02 07:42:05-08:00</td>\n",
       "      <td>2020-01-02 13:58:45-08:00</td>\n",
       "      <td>2020-01-02 13:59:42-08:00</td>\n",
       "      <td>377.616667</td>\n",
       "      <td>376.666667</td>\n",
       "    </tr>\n",
       "    <tr>\n",
       "      <th>26</th>\n",
       "      <td>2020-01-02 07:57:24-08:00</td>\n",
       "      <td>2020-01-02 08:35:37-08:00</td>\n",
       "      <td>2020-01-02 08:36:34-08:00</td>\n",
       "      <td>39.166667</td>\n",
       "      <td>38.216667</td>\n",
       "    </tr>\n",
       "    <tr>\n",
       "      <th>33</th>\n",
       "      <td>2020-01-02 08:34:35-08:00</td>\n",
       "      <td>2020-01-02 10:49:41-08:00</td>\n",
       "      <td>2020-01-02 10:50:38-08:00</td>\n",
       "      <td>136.050000</td>\n",
       "      <td>135.100000</td>\n",
       "    </tr>\n",
       "    <tr>\n",
       "      <th>...</th>\n",
       "      <td>...</td>\n",
       "      <td>...</td>\n",
       "      <td>...</td>\n",
       "      <td>...</td>\n",
       "      <td>...</td>\n",
       "    </tr>\n",
       "    <tr>\n",
       "      <th>66432</th>\n",
       "      <td>2019-07-31 07:36:02-07:00</td>\n",
       "      <td>2019-07-31 15:34:10-07:00</td>\n",
       "      <td>2019-07-31 15:35:10-07:00</td>\n",
       "      <td>479.133333</td>\n",
       "      <td>478.133333</td>\n",
       "    </tr>\n",
       "    <tr>\n",
       "      <th>66439</th>\n",
       "      <td>2019-07-31 07:45:02-07:00</td>\n",
       "      <td>2019-07-31 16:43:20-07:00</td>\n",
       "      <td>2019-07-31 16:44:19-07:00</td>\n",
       "      <td>539.283333</td>\n",
       "      <td>538.300000</td>\n",
       "    </tr>\n",
       "    <tr>\n",
       "      <th>66440</th>\n",
       "      <td>2019-07-31 07:45:29-07:00</td>\n",
       "      <td>2019-07-31 15:01:32-07:00</td>\n",
       "      <td>2019-07-31 15:02:32-07:00</td>\n",
       "      <td>437.050000</td>\n",
       "      <td>436.050000</td>\n",
       "    </tr>\n",
       "    <tr>\n",
       "      <th>66445</th>\n",
       "      <td>2019-07-31 11:08:04-07:00</td>\n",
       "      <td>2019-07-31 16:29:18-07:00</td>\n",
       "      <td>2019-07-31 16:30:18-07:00</td>\n",
       "      <td>322.233333</td>\n",
       "      <td>321.233333</td>\n",
       "    </tr>\n",
       "    <tr>\n",
       "      <th>66447</th>\n",
       "      <td>2019-07-31 12:04:40-07:00</td>\n",
       "      <td>2019-07-31 15:44:22-07:00</td>\n",
       "      <td>2019-07-31 15:45:21-07:00</td>\n",
       "      <td>220.683333</td>\n",
       "      <td>219.700000</td>\n",
       "    </tr>\n",
       "  </tbody>\n",
       "</table>\n",
       "<p>6436 rows × 5 columns</p>\n",
       "</div>"
      ]
     },
     "execution_count": 88,
     "metadata": {},
     "output_type": "execute_result"
    }
   ],
   "execution_count": 88
  },
  {
   "metadata": {
    "ExecuteTime": {
     "end_time": "2024-12-21T20:54:56.585240Z",
     "start_time": "2024-12-21T20:54:56.571800Z"
    }
   },
   "cell_type": "code",
   "source": [
    "#Identify the difference between the 6436 changed data and the 6441 equal datas one underneath\n",
    "# Identify lines where doneChargingTime was already equal to disconnectTime\n",
    "pre_existing_equal_times = charging_data_cleaned[\n",
    "    charging_data_cleaned['doneChargingTime'] == charging_data_cleaned['disconnectTime']]\n",
    "\n",
    "# Count how many of them were marked as faulty\n",
    "pre_existing_errors = pre_existing_equal_times[\n",
    "    pre_existing_equal_times['charging_duration'] > pre_existing_equal_times['connection_duration']]\n",
    "\n",
    "print(f\"Number of rows where doneChargingTime was already equal to disconnectTime: {pre_existing_equal_times.shape[0]}\")\n",
    "print(f\"Number of these rows identified as erroneous: {pre_existing_errors.shape[0]}\")"
   ],
   "id": "3ea5c132764bb355",
   "outputs": [
    {
     "name": "stdout",
     "output_type": "stream",
     "text": [
      "Number of rows where doneChargingTime was already equal to disconnectTime: 5\n",
      "Number of these rows identified as erroneous: 0\n"
     ]
    }
   ],
   "execution_count": 89
  },
  {
   "metadata": {
    "ExecuteTime": {
     "end_time": "2024-12-21T20:54:56.773020Z",
     "start_time": "2024-12-21T20:54:56.667101Z"
    }
   },
   "cell_type": "code",
   "source": [
    "#Adjust doneChargingTime if it exceeds disconnectTime\n",
    "# Set doneChargingTime to disconnectTime where it exceeds disconnectTime\n",
    "charging_data_cleaned.loc[\n",
    "    charging_data_cleaned['doneChargingTime'] > charging_data_cleaned['disconnectTime'], 'doneChargingTime'] = \\\n",
    "    charging_data_cleaned['disconnectTime']\n",
    "\n",
    "# Verify adjustments\n",
    "adjusted_charging_times = charging_data_cleaned[\n",
    "    charging_data_cleaned['doneChargingTime'] == charging_data_cleaned['disconnectTime']]\n",
    "print(f\"Number of rows where doneChargingTime was adjusted to disconnectTime: {adjusted_charging_times.shape[0]}\")\n",
    "adjusted_charging_times[['connectionTime', 'disconnectTime', 'doneChargingTime']].head()"
   ],
   "id": "abf5c51e3a9ae65e",
   "outputs": [
    {
     "name": "stdout",
     "output_type": "stream",
     "text": [
      "Number of rows where doneChargingTime was adjusted to disconnectTime: 6441\n"
     ]
    },
    {
     "data": {
      "text/plain": [
       "              connectionTime            disconnectTime  \\\n",
       "12 2020-01-02 07:04:38-08:00 2020-01-02 14:08:39-08:00   \n",
       "20 2020-01-02 07:28:47-08:00 2020-01-02 11:01:54-08:00   \n",
       "25 2020-01-02 07:42:05-08:00 2020-01-02 13:58:45-08:00   \n",
       "26 2020-01-02 07:57:24-08:00 2020-01-02 08:35:37-08:00   \n",
       "33 2020-01-02 08:34:35-08:00 2020-01-02 10:49:41-08:00   \n",
       "\n",
       "            doneChargingTime  \n",
       "12 2020-01-02 14:08:39-08:00  \n",
       "20 2020-01-02 11:01:54-08:00  \n",
       "25 2020-01-02 13:58:45-08:00  \n",
       "26 2020-01-02 08:35:37-08:00  \n",
       "33 2020-01-02 10:49:41-08:00  "
      ],
      "text/html": [
       "<div>\n",
       "<style scoped>\n",
       "    .dataframe tbody tr th:only-of-type {\n",
       "        vertical-align: middle;\n",
       "    }\n",
       "\n",
       "    .dataframe tbody tr th {\n",
       "        vertical-align: top;\n",
       "    }\n",
       "\n",
       "    .dataframe thead th {\n",
       "        text-align: right;\n",
       "    }\n",
       "</style>\n",
       "<table border=\"1\" class=\"dataframe\">\n",
       "  <thead>\n",
       "    <tr style=\"text-align: right;\">\n",
       "      <th></th>\n",
       "      <th>connectionTime</th>\n",
       "      <th>disconnectTime</th>\n",
       "      <th>doneChargingTime</th>\n",
       "    </tr>\n",
       "  </thead>\n",
       "  <tbody>\n",
       "    <tr>\n",
       "      <th>12</th>\n",
       "      <td>2020-01-02 07:04:38-08:00</td>\n",
       "      <td>2020-01-02 14:08:39-08:00</td>\n",
       "      <td>2020-01-02 14:08:39-08:00</td>\n",
       "    </tr>\n",
       "    <tr>\n",
       "      <th>20</th>\n",
       "      <td>2020-01-02 07:28:47-08:00</td>\n",
       "      <td>2020-01-02 11:01:54-08:00</td>\n",
       "      <td>2020-01-02 11:01:54-08:00</td>\n",
       "    </tr>\n",
       "    <tr>\n",
       "      <th>25</th>\n",
       "      <td>2020-01-02 07:42:05-08:00</td>\n",
       "      <td>2020-01-02 13:58:45-08:00</td>\n",
       "      <td>2020-01-02 13:58:45-08:00</td>\n",
       "    </tr>\n",
       "    <tr>\n",
       "      <th>26</th>\n",
       "      <td>2020-01-02 07:57:24-08:00</td>\n",
       "      <td>2020-01-02 08:35:37-08:00</td>\n",
       "      <td>2020-01-02 08:35:37-08:00</td>\n",
       "    </tr>\n",
       "    <tr>\n",
       "      <th>33</th>\n",
       "      <td>2020-01-02 08:34:35-08:00</td>\n",
       "      <td>2020-01-02 10:49:41-08:00</td>\n",
       "      <td>2020-01-02 10:49:41-08:00</td>\n",
       "    </tr>\n",
       "  </tbody>\n",
       "</table>\n",
       "</div>"
      ]
     },
     "execution_count": 90,
     "metadata": {},
     "output_type": "execute_result"
    }
   ],
   "execution_count": 90
  },
  {
   "metadata": {},
   "cell_type": "markdown",
   "source": "### 4 Outliers",
   "id": "b8d488c2493961f9"
  },
  {
   "metadata": {},
   "cell_type": "markdown",
   "source": "For the outlier analysis we decided to plot different boxplots of key numeric features of the charging sessions data set and the weather data set to visually identify the most noticeable outliers.",
   "id": "3c7375c3a1fd601e"
  },
  {
   "metadata": {
    "ExecuteTime": {
     "end_time": "2024-12-21T20:54:57.097992Z",
     "start_time": "2024-12-21T20:54:56.866580Z"
    }
   },
   "cell_type": "code",
   "source": [
    "plt.figure(figsize=(8, 4))\n",
    "plt.boxplot(charging_data_cleaned['charging_duration'], vert=False, patch_artist=False)\n",
    "plt.title(\"Boxplot charging_duration\")\n",
    "plt.xlabel(\"charging_duration\")\n",
    "plt.grid(True)"
   ],
   "id": "2c2238bc10bc0ff8",
   "outputs": [
    {
     "data": {
      "text/plain": [
       "<Figure size 1000x600 with 1 Axes>"
      ],
      "image/png": "[encoded data removed]"
     },
     "metadata": {},
     "output_type": "display_data"
    }
   ],
   "execution_count": 91
  },
  {
   "metadata": {
    "ExecuteTime": {
     "end_time": "2024-12-21T20:54:57.177506Z",
     "start_time": "2024-12-21T20:54:57.164914Z"
    }
   },
   "cell_type": "code",
   "source": [
    "# Based on the boxplot above we decided that charging durations longer than 2880 minutes or 48 hours (which about matches the last record before the next at about ~4000) are outliers.\n",
    "unrealistic_charging_duration = charging_data_cleaned[(charging_data_cleaned['charging_duration'] > 2880)]\n",
    "print(f\"Number of records where the charging duration is longer than 2880 minutes (48 hours): {unrealistic_charging_duration.shape[0]}\")"
   ],
   "id": "9691acc1c11e744a",
   "outputs": [
    {
     "name": "stdout",
     "output_type": "stream",
     "text": [
      "Number of records where the charging duration is longer than 2880 minutes (48 hours): 14\n"
     ]
    }
   ],
   "execution_count": 92
  },
  {
   "metadata": {
    "ExecuteTime": {
     "end_time": "2024-12-21T20:54:57.455780Z",
     "start_time": "2024-12-21T20:54:57.230192Z"
    }
   },
   "cell_type": "code",
   "source": [
    "plt.figure(figsize=(8, 4))\n",
    "plt.boxplot(charging_data_cleaned['connection_duration'], vert=False, patch_artist=False)\n",
    "plt.title(\"Boxplot connection_duration\")\n",
    "plt.xlabel(\"connection_duration\")\n",
    "#plt.xlim(0, 4000)\n",
    "plt.grid(True)"
   ],
   "id": "4dc0bf668397b8d6",
   "outputs": [
    {
     "data": {
      "text/plain": [
       "<Figure size 1000x600 with 1 Axes>"
      ],
      "image/png": "[encoded data removed]"
     },
     "metadata": {},
     "output_type": "display_data"
    }
   ],
   "execution_count": 93
  },
  {
   "metadata": {
    "ExecuteTime": {
     "end_time": "2024-12-21T20:54:57.581412Z",
     "start_time": "2024-12-21T20:54:57.568742Z"
    }
   },
   "cell_type": "code",
   "source": [
    "# Based on the boxplot above and to match it to the unrealistic charging durations, we decided that connection durations longer than 2880 minutes or 48 hours are outliers.\n",
    "unrealistic_connection_duration = charging_data_cleaned[(charging_data_cleaned['connection_duration'] > 2880)]\n",
    "print(f\"Number of records where the connection duration is longer than 2880 minutes (48 hours): {unrealistic_connection_duration.shape[0]}\")"
   ],
   "id": "fb39b90f653c0e68",
   "outputs": [
    {
     "name": "stdout",
     "output_type": "stream",
     "text": [
      "Number of records where the connection duration is longer than 2880 minutes (48 hours): 91\n"
     ]
    }
   ],
   "execution_count": 94
  },
  {
   "metadata": {
    "ExecuteTime": {
     "end_time": "2024-12-21T20:54:57.720634Z",
     "start_time": "2024-12-21T20:54:57.676934Z"
    }
   },
   "cell_type": "code",
   "source": [
    "# In conclusion, we decided to drop the records where charging or connection duration is longer than 2880 minutes (48 hours).\n",
    "charging_data_cleaned.drop(charging_data_cleaned[charging_data_cleaned['charging_duration'] > 2880].index, inplace=True)\n",
    "charging_data_cleaned.drop(charging_data_cleaned[charging_data_cleaned['connection_duration'] > 2880].index, inplace=True)\n",
    "\n",
    "# Verify that the records have been deleted\n",
    "unrealistic_charging_duration_counter = charging_data_cleaned[(charging_data_cleaned['charging_duration'] > 2880)].shape[0]\n",
    "unrealistic_connection_duration_counter = charging_data_cleaned[(charging_data_cleaned['connection_duration'] > 2880)].shape[0]\n",
    "print(f\"Number of records where the charging duration is longer than 2880 minutes (48 hours): {unrealistic_charging_duration_counter}\")\n",
    "print(f\"Number of records where the connection duration is longer than 2880 minutes (48 hours): {unrealistic_connection_duration_counter}\")"
   ],
   "id": "a93df391543b3aa2",
   "outputs": [
    {
     "name": "stdout",
     "output_type": "stream",
     "text": [
      "Number of records where the charging duration is longer than 2880 minutes (48 hours): 0\n",
      "Number of records where the connection duration is longer than 2880 minutes (48 hours): 0\n"
     ]
    }
   ],
   "execution_count": 95
  },
  {
   "metadata": {
    "ExecuteTime": {
     "end_time": "2024-12-21T20:54:59.170621Z",
     "start_time": "2024-12-21T20:54:57.817560Z"
    }
   },
   "cell_type": "code",
   "source": [
    "# Just for visual purpose\n",
    "plt.figure(figsize=(8, 4))\n",
    "plt.scatter(charging_data_cleaned['connectionTime'], charging_data_cleaned['charging_duration'], c='blue', alpha=0.5,\n",
    "            label='charging_duration')\n",
    "plt.title(\"Scatter charging_duration über connectionTime\")\n",
    "plt.xlabel(\"connectionTime\")\n",
    "plt.ylabel(\"charging_duration\")\n",
    "plt.grid(True)"
   ],
   "id": "40fb1c4d545eba9b",
   "outputs": [
    {
     "data": {
      "text/plain": [
       "<Figure size 1000x600 with 1 Axes>"
      ],
      "image/png": "[encoded data removed]"
     },
     "metadata": {},
     "output_type": "display_data"
    }
   ],
   "execution_count": 96
  },
  {
   "metadata": {
    "ExecuteTime": {
     "end_time": "2024-12-21T20:55:00.502521Z",
     "start_time": "2024-12-21T20:54:59.325629Z"
    }
   },
   "cell_type": "code",
   "source": [
    "# Just for visual purpose\n",
    "plt.figure(figsize=(8, 4))\n",
    "plt.scatter(charging_data_cleaned['connectionTime'], charging_data_cleaned['connection_duration'], c='blue', alpha=0.5,\n",
    "            label='connection_duration')\n",
    "plt.title(\"Scatter connection_duration über connectionTime\")\n",
    "plt.xlabel(\"connectionTime\")\n",
    "plt.ylabel(\"connection_duration\")\n",
    "plt.grid(True)"
   ],
   "id": "ff18ac0706faf980",
   "outputs": [
    {
     "data": {
      "text/plain": [
       "<Figure size 1000x600 with 1 Axes>"
      ],
      "image/png": "[encoded data removed]"
     },
     "metadata": {},
     "output_type": "display_data"
    }
   ],
   "execution_count": 97
  },
  {
   "metadata": {
    "ExecuteTime": {
     "end_time": "2024-12-21T20:55:00.643855Z",
     "start_time": "2024-12-21T20:55:00.509519Z"
    }
   },
   "cell_type": "code",
   "source": [
    "# The two records with kWhDelivered @ ~90 and @ ~ 110 visually look like outliers in the boxplot below, but we did some research about the capacity of batteries and came to the conclusion that these records are not necessarily outliers. So we keep them in our data set\n",
    "plt.figure(figsize=(8, 4))\n",
    "plt.boxplot(charging_data_cleaned['kWhDelivered'], vert=False, patch_artist=True)\n",
    "plt.title(\"Boxplot kWhDelivered\")\n",
    "plt.xlabel(\"kWhDelivered\")\n",
    "plt.grid(True)"
   ],
   "id": "b71651534a291185",
   "outputs": [
    {
     "data": {
      "text/plain": [
       "<Figure size 1000x600 with 1 Axes>"
      ],
      "image/png": "[encoded data removed]"
     },
     "metadata": {},
     "output_type": "display_data"
    }
   ],
   "execution_count": 98
  },
  {
   "metadata": {
    "ExecuteTime": {
     "end_time": "2024-12-21T20:55:00.832628Z",
     "start_time": "2024-12-21T20:55:00.708372Z"
    }
   },
   "cell_type": "code",
   "source": [
    "# The boxplot for the temperature doesn't show noticeable outliers, since temperatures of over 35 degrees are common in Los Angeles in the summer\n",
    "plt.figure(figsize=(8, 4))\n",
    "plt.boxplot(weather_data_cleaned['temperature'], vert=False, patch_artist=True)\n",
    "plt.title(\"Boxplot temperature\")\n",
    "plt.xlabel(\"temperature\")\n",
    "plt.grid(True)"
   ],
   "id": "bcc6e35f13e6633d",
   "outputs": [
    {
     "data": {
      "text/plain": [
       "<Figure size 1000x600 with 1 Axes>"
      ],
      "image/png": "[encoded data removed]"
     },
     "metadata": {},
     "output_type": "display_data"
    }
   ],
   "execution_count": 99
  },
  {
   "metadata": {},
   "cell_type": "markdown",
   "source": [
    "\n",
    "### 5 Inconsistencies\n",
    "Correct missspelling and false dataTypes\n",
    "\n",
    "Data is conistant after visual check. Final check can be done after data types are chaned..."
   ],
   "id": "9943912049cd1a92"
  },
  {
   "metadata": {
    "ExecuteTime": {
     "end_time": "2024-12-21T20:55:01.001955Z",
     "start_time": "2024-12-21T20:55:00.988353Z"
    }
   },
   "cell_type": "code",
   "source": "#ToDo: Check missspelling etc., dataTypes have been done above -> TBD with final check...",
   "id": "f25222ccfd6f9cb1",
   "outputs": [],
   "execution_count": 100
  },
  {
   "metadata": {},
   "cell_type": "markdown",
   "source": [
    "### 5 Feature engineering\n",
    "Add aditional features (e.g. charging or idle time) -> To be discussed\n"
   ],
   "id": "2b72252e71208d75"
  },
  {
   "metadata": {},
   "cell_type": "markdown",
   "source": [
    "### 6 Final review\n",
    "Look again for missing, errorous, and inconsistant data"
   ],
   "id": "df4abc2b06443726"
  },
  {
   "metadata": {
    "ExecuteTime": {
     "end_time": "2024-12-21T20:55:01.033954Z",
     "start_time": "2024-12-21T20:55:01.006957Z"
    }
   },
   "cell_type": "code",
   "source": [
    "# Missing data\n",
    "print(\"Number of missing values in cleand charging data: \" + str(charging_data_cleaned.isnull().sum().sum())) #17189 missing is correct (userIDs)\n",
    "print(\"Number of missing values in cleand weather data: \" + str(weather_data_cleaned.isnull().sum().sum()))"
   ],
   "id": "c2e751c1730027b3",
   "outputs": [
    {
     "name": "stdout",
     "output_type": "stream",
     "text": [
      "Number of missing values in cleand charging data: 17189\n",
      "Number of missing values in cleand weather data: 0\n"
     ]
    }
   ],
   "execution_count": 101
  },
  {
   "metadata": {},
   "cell_type": "markdown",
   "source": [
    "### 7 Export Cleaned Data\n",
    "\n"
   ],
   "id": "31cbbd59e60d2584"
  },
  {
   "metadata": {
    "ExecuteTime": {
     "end_time": "2024-12-21T20:56:08.041070Z",
     "start_time": "2024-12-21T20:55:01.130934Z"
    }
   },
   "cell_type": "code",
   "outputs": [],
   "execution_count": 102,
   "source": [
    "# Export Dataframes as pickle (.pkl) files\n",
    "charging_data_cleaned.to_pickle(os.path.join('Data', 'charging_data.pkl'))\n",
    "weather_data_cleaned.to_pickle(os.path.join('Data', 'weather_data.pkl'))\n",
    "charging_data_cleaned.to_csv(os.path.join('Data', 'charging_data.csv'))\n",
    "weather_data_cleaned.to_csv(os.path.join('Data', 'weather_data.csv'))"
   ],
   "id": "39b6f1f07fbd700e"
  },
  {
   "metadata": {},
   "cell_type": "code",
   "outputs": [],
   "execution_count": null,
   "source": [
    "# Export merged charging to weather data dataset\n",
    "# Sort both datasets by their respective timestamps\n",
    "charging_data_cleaned = charging_data_cleaned.sort_values(by='connectionTime')\n",
    "weather_data_cleaned = weather_data_cleaned.sort_values(by='timestamp')\n",
    "\n",
    "# Perform a nearest merge to align weather data to charging data\n",
    "merged_data = pd.merge_asof(\n",
    "    charging_data_cleaned,\n",
    "    weather_data_cleaned,\n",
    "    left_on='connectionTime',  # The timestamp in charging data\n",
    "    right_on='timestamp',      # The timestamp in weather data\n",
    "    direction='backward'       # Align with the closest earlier weather record\n",
    ")\n",
    "\n",
    "# Save the merged dataset to a CSV file\n",
    "merged_data.to_csv(os.path.join('Data', 'merged_charging_weather_data.csv'))"
   ],
   "id": "385c414c1f410468"
  }
 ],
 "metadata": {
  "kernelspec": {
   "display_name": "DynamoData",
   "language": "python",
   "name": "python3"
  },
  "language_info": {
   "codemirror_mode": {
    "name": "ipython",
    "version": 3
   },
   "file_extension": ".py",
   "mimetype": "text/x-python",
   "name": "python",
   "nbconvert_exporter": "python",
   "pygments_lexer": "ipython3",
   "version": "3.10.15"
  }
 },
 "nbformat": 4,
 "nbformat_minor": 5
}

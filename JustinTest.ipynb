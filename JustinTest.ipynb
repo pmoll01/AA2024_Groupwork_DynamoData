{
 "cells": [
  {
   "metadata": {},
   "cell_type": "markdown",
   "source": "Import Libraries and Data",
   "id": "ec7b39ee1de13c"
  },
  {
   "metadata": {},
   "cell_type": "code",
   "outputs": [],
   "execution_count": null,
   "source": [
    "import os\n",
    "import pandas as pd\n",
    "import numpy as np\n",
    "import seaborn as sns\n",
    "import matplotlib.pyplot as plt\n",
    "from IPython.display import display\n",
    "\n",
    "# import cleaned Dataframes from Data preparation\n",
    "charging_data = pd.read_pickle(os.path.join('Data', 'charging_data.pkl'))\n",
    "weather_data = pd.read_pickle(os.path.join('Data', 'weather_data.pkl'))\n",
    "merged_data = pd.read_pickle(os.path.join('Data', 'merged_charging_weather_data.pkl'))"
   ],
   "id": "b1a5b79119d405f7"
  },
  {
   "metadata": {},
   "cell_type": "code",
   "outputs": [],
   "execution_count": null,
   "source": [
    "# Analyse empty time area which was observed in data preparation scatter plot\n",
    "# Add a column for month and year\n",
    "charging_data['year_month'] = charging_data['connectionTime'].dt.to_period('M')\n",
    "\n",
    "# Group by month and count records\n",
    "monthly_counts = charging_data.groupby('year_month').size()\n",
    "\n",
    "# Display the counts for visual inspection\n",
    "monthly_counts"
   ],
   "id": "efc9cb639d11f32e"
  },
  {
   "metadata": {},
   "cell_type": "markdown",
   "source": [
    "Observations: </br>\n",
    "- Notably more charging sessions in 2018 and 2019, especially in summer months (pre-covid)\n",
    "- Much less charging sessions during covid pandemic (started in march 2020)\n",
    "- Did not reach old level after pandemic start"
   ],
   "id": "b5900895d39cccbe"
  },
  {
   "metadata": {},
   "cell_type": "markdown",
   "source": "There appears to be no data for months September and October 2020. Furthermore the month August 2020 has only 30 records, which is notably lower compared to the other months.",
   "id": "3928871805653e21"
  },
  {
   "metadata": {},
   "cell_type": "code",
   "outputs": [],
   "execution_count": null,
   "source": [
    "# Plot number of sessions over time\n",
    "charging_data['connectionTime'].groupby(charging_data['year_month']).size().plot(\n",
    "    kind='line', marker='o', title='Sessions Over Time'\n",
    ")\n",
    "plt.xlabel('Month-Year')\n",
    "plt.ylabel('Number of Sessions')\n",
    "plt.show()"
   ],
   "id": "8592d80333a28888"
  },
  {
   "metadata": {},
   "cell_type": "code",
   "outputs": [],
   "execution_count": null,
   "source": [
    "# Filter data between August 2020 and December 2020\n",
    "filtered_data = charging_data[\n",
    "    (charging_data['connectionTime'] >= '2020-08-01') &\n",
    "    (charging_data['connectionTime'] <= '2020-12-01')\n",
    "].copy()  # Use .copy() to work with a separate DataFrame\n",
    "\n",
    "# Extract the date from the 'connectionTime' column\n",
    "filtered_data['date'] = filtered_data['connectionTime'].dt.date\n",
    "\n",
    "# Group by date and get the last record for each date\n",
    "last_records_per_date = filtered_data.groupby(['siteID', 'date']).tail(1)\n",
    "\n",
    "# Display the result\n",
    "last_records_per_date"
   ],
   "id": "63ef657e392d9c13"
  },
  {
   "metadata": {},
   "cell_type": "markdown",
   "source": "Final observation after looking at the filtered dataset: There is no charging data between 3rd August 2020 and 18th November 2020 for both sites.",
   "id": "7391e17baed5499"
  },
  {
   "metadata": {},
   "cell_type": "markdown",
   "source": "## Task 2: Descriptive Analytics",
   "id": "8865cdccf01d6553"
  },
  {
   "metadata": {},
   "cell_type": "markdown",
   "source": "### a) Temporal Patterns and Seasonality",
   "id": "d67cde1b1f49e74"
  },
  {
   "metadata": {},
   "cell_type": "code",
   "outputs": [],
   "execution_count": null,
   "source": [
    "# Extract the hour from 'connectionTime' and 'disconnectTime'\n",
    "charging_data['connection_hour'] = charging_data['connectionTime'].dt.hour\n",
    "charging_data['disconnect_hour'] = charging_data['disconnectTime'].dt.hour\n",
    "\n",
    "# Group by hour and count the number of sessions for both connection and disconnection\n",
    "connection_hourly_sessions = charging_data.groupby('connection_hour').size()\n",
    "disconnect_hourly_sessions = charging_data.groupby('disconnect_hour').size()\n",
    "\n",
    "# Align indexes for plotting\n",
    "hours = np.arange(0, 24)\n",
    "\n",
    "# Ensure all hours are present for alignment (fill missing hours with 0)\n",
    "# Without this step missing hours would not be displayed on the x-axis\n",
    "connection_hourly_sessions = connection_hourly_sessions.reindex(hours, fill_value=0)\n",
    "disconnect_hourly_sessions = disconnect_hourly_sessions.reindex(hours, fill_value=0)\n",
    "\n",
    "# Plot the bar chart\n",
    "plt.figure(figsize=(10, 4))\n",
    "plt.bar(hours - 0.2, connection_hourly_sessions, width=0.4, label='Connection Time', alpha=0.7)\n",
    "plt.bar(hours + 0.2, disconnect_hourly_sessions, width=0.4, label='Disconnection Time', alpha=0.7)\n",
    "\n",
    "plt.title('Charging Events by Hour of the Day')\n",
    "plt.xlabel('Hour of the Day')\n",
    "plt.ylabel('Number of Charging Events')\n",
    "plt.xticks(hours)\n",
    "plt.legend()\n",
    "plt.grid(axis='y', linestyle='--', alpha=0.7)\n",
    "plt.show()"
   ],
   "id": "a8f568f03767f559"
  },
  {
   "metadata": {},
   "cell_type": "markdown",
   "source": [
    "The chart shows the distribution of charging events of both sites across different hours of the day. </br>\n",
    "Observations: </br>\n",
    "- Noticeable peak of the connectionTime during the morning (SOB - start of business) and peak of disconnectTime during the afternoon (EOB - end of business)\n",
    "- Low Activity during late-night hours"
   ],
   "id": "2a6510d77c7c0ace"
  },
  {
   "metadata": {},
   "cell_type": "code",
   "outputs": [],
   "execution_count": null,
   "source": [
    "# Extract the day of the week from 'connectionTime'\n",
    "charging_data['weekday'] = charging_data['connectionTime'].dt.day_name()\n",
    "\n",
    "# Group by weekday and count the number of charging sessions\n",
    "weekday_sessions = charging_data.groupby('weekday').size()\n",
    "\n",
    "# Order the days of the week for better visualization\n",
    "ordered_days = ['Monday', 'Tuesday', 'Wednesday', 'Thursday', 'Friday', 'Saturday', 'Sunday']\n",
    "weekday_sessions = weekday_sessions.reindex(ordered_days)\n",
    "\n",
    "# Plot the number of sessions by day of the week\n",
    "plt.figure(figsize=(8, 4))\n",
    "plt.bar(weekday_sessions.index, weekday_sessions.values, color='blue')\n",
    "plt.title('Charging Events by Day of the Week')\n",
    "plt.xlabel('Day of the Week')\n",
    "plt.ylabel('Number of Charging Events')\n",
    "plt.xticks(rotation=45)\n",
    "plt.grid(axis='y', linestyle='--', alpha=0.7)\n",
    "plt.show()"
   ],
   "id": "8e201c5adfb2b726"
  },
  {
   "metadata": {},
   "cell_type": "markdown",
   "source": [
    "The chart shows the distribution of charging events of both sites across the days of the week. </br>\n",
    "Observation: Strong weekday and weaker weekend activity, indicating work- & university-related pattern"
   ],
   "id": "5598e4f3803a49ff"
  },
  {
   "metadata": {},
   "cell_type": "code",
   "outputs": [],
   "execution_count": null,
   "source": [
    "# Visualize seasonality over both sites\n",
    "# Define a function to map months to seasons\n",
    "def map_season(month):\n",
    "    if month in [12, 1, 2]:\n",
    "        return 'Winter'\n",
    "    elif month in [3, 4, 5]:\n",
    "        return 'Spring'\n",
    "    elif month in [6, 7, 8]:\n",
    "        return 'Summer'\n",
    "    else:\n",
    "        return 'Fall'\n",
    "\n",
    "# Map the 'connectionTime' to seasons\n",
    "charging_data['season'] = charging_data['connectionTime'].dt.month.map(map_season)\n",
    "\n",
    "# Group by season and count the number of charging sessions\n",
    "seasonal_sessions = charging_data.groupby('season').size()\n",
    "\n",
    "# Order the seasons for visualization\n",
    "ordered_seasons = ['Winter', 'Spring', 'Summer', 'Fall']\n",
    "seasonal_sessions = seasonal_sessions.reindex(ordered_seasons)\n",
    "\n",
    "# Plot the number of sessions by season\n",
    "plt.figure(figsize=(8, 4))\n",
    "plt.bar(seasonal_sessions.index, seasonal_sessions.values, color='blue')\n",
    "plt.title('Charging Events by Season')\n",
    "plt.xlabel('Season')\n",
    "plt.ylabel('Number of Charging Events')\n",
    "plt.grid(axis='y', linestyle='--', alpha=0.7)\n",
    "plt.show()"
   ],
   "id": "d6e85bf5fa609198"
  },
  {
   "metadata": {},
   "cell_type": "markdown",
   "source": [
    "The chart shows the distribution of charging events of both sites across different seasons (winter, spring, summer, fall). </br>\n",
    "We have to keep in mind, that between 3rd August 2020 and 18th November 2020 are no records in the charging dataset, which leads to the assumption that there would be even more charging events in summer and fall. </br>\n",
    "Observations: </br>\n",
    "- Winter: Fewer outdoor activities could result in lower public charging demand\n",
    "- Summer: Higher EV usage for outdoor activities may lead to increased charging demand"
   ],
   "id": "cd72a76374123c2a"
  },
  {
   "metadata": {},
   "cell_type": "markdown",
   "source": "### Weather-dependant analysis",
   "id": "316d9ab05180de38"
  },
  {
   "metadata": {},
   "cell_type": "code",
   "outputs": [],
   "execution_count": null,
   "source": [
    "# Select relevant columns for correlation\n",
    "correlation_data = merged_data[['temperature', 'precipitation', 'windspeed', 'kWhDelivered', 'charging_duration', 'connection_duration']]\n",
    "\n",
    "# Compute the correlation matrix\n",
    "correlation_matrix = correlation_data.corr()\n",
    "\n",
    "# Plot the correlation matrix as a heatmap\n",
    "plt.figure(figsize=(6, 5))\n",
    "sns.heatmap(correlation_matrix, annot=True, cmap='coolwarm', fmt='.2f', linewidths=0.5)\n",
    "plt.title('Correlation Matrix: Weather Variables and Charging Behavior')\n",
    "plt.show()\n",
    "\n",
    "# Extract specific correlations\n",
    "temp_energy_corr = correlation_matrix.loc['temperature', 'kWhDelivered']\n",
    "precip_duration_corr = correlation_matrix.loc['precipitation', 'charging_duration']\n",
    "wind_connection_corr = correlation_matrix.loc['windspeed', 'connection_duration']"
   ],
   "id": "6f708dde445c9567"
  },
  {
   "metadata": {},
   "cell_type": "markdown",
   "source": [
    "Observations from the Correlation Matrix: </br>\n",
    "- Minimal impact of weather variables: temperature, precipitation and wind speed have minimal influence on energy delivered, charging duration and connection duration\n",
    "- The most significant relationships are within the charging behavior metric themselves: charging duration and kWhDelivered increase as the connection duration increases, as expected"
   ],
   "id": "f3b8bf4600cc961f"
  }
 ],
 "metadata": {},
 "nbformat": 5,
 "nbformat_minor": 9
}

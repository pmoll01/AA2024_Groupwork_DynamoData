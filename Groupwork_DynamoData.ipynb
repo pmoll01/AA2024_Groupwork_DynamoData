{
 "cells": [
  {
   "cell_type": "markdown",
   "id": "c27ad69bf5107975",
   "metadata": {},
   "source": [
    "# Jupiter Notebook for Groupwork in AA 20224"
   ]
  },
  {
   "cell_type": "markdown",
   "id": "22582ba9",
   "metadata": {},
   "source": [
    "#### Import Libaries"
   ]
  },
  {
   "cell_type": "code",
   "id": "15d77123-948d-4006-b65c-b4d7976c397f",
   "metadata": {
    "ExecuteTime": {
     "end_time": "2024-11-18T20:57:51.410977Z",
     "start_time": "2024-11-18T20:57:51.398591Z"
    }
   },
   "source": [
    "import os\n",
    "import pandas as pd\n",
    "import seaborn as sns\n",
    "import matplotlib.pyplot as plt\n",
    "from IPython.display import display\n",
    "from datetime import timedelta"
   ],
   "outputs": [],
   "execution_count": 167
  },
  {
   "cell_type": "markdown",
   "id": "cae054cb",
   "metadata": {},
   "source": [
    "### 1 Load and Explore Data:"
   ]
  },
  {
   "cell_type": "code",
   "id": "504f30ea",
   "metadata": {
    "ExecuteTime": {
     "end_time": "2024-11-18T20:57:52.230091Z",
     "start_time": "2024-11-18T20:57:51.510345Z"
    }
   },
   "source": [
    "# Load csv-files independently of the operating system (mac or windows or linux) in a pandas dataframe\n",
    "charging_data = pd.read_csv(os.path.join('Data', 'charging_sessions.csv'))\n",
    "weather_data = pd.read_csv(os.path.join('Data', 'weather_burbank_airport.csv'))\n",
    "\n",
    "try:\n",
    "    print(\"Info Data of charging_data Dataframe:\")\n",
    "    display(charging_data.info())\n",
    "except Exception as e:\n",
    "    print(\"Error in charging_data.info():\", e)\n"
   ],
   "outputs": [
    {
     "name": "stdout",
     "output_type": "stream",
     "text": [
      "Info Data of charging_data Dataframe:\n",
      "<class 'pandas.core.frame.DataFrame'>\n",
      "RangeIndex: 66450 entries, 0 to 66449\n",
      "Data columns (total 13 columns):\n",
      " #   Column            Non-Null Count  Dtype  \n",
      "---  ------            --------------  -----  \n",
      " 0   Unnamed: 0        66450 non-null  int64  \n",
      " 1   id                66450 non-null  object \n",
      " 2   connectionTime    66450 non-null  object \n",
      " 3   disconnectTime    66450 non-null  object \n",
      " 4   doneChargingTime  62362 non-null  object \n",
      " 5   kWhDelivered      66450 non-null  float64\n",
      " 6   sessionID         66450 non-null  object \n",
      " 7   siteID            66450 non-null  int64  \n",
      " 8   spaceID           66450 non-null  object \n",
      " 9   stationID         66450 non-null  object \n",
      " 10  timezone          66450 non-null  object \n",
      " 11  userID            49187 non-null  float64\n",
      " 12  userInputs        49187 non-null  object \n",
      "dtypes: float64(2), int64(2), object(9)\n",
      "memory usage: 6.6+ MB\n"
     ]
    },
    {
     "data": {
      "text/plain": [
       "None"
      ]
     },
     "metadata": {},
     "output_type": "display_data"
    }
   ],
   "execution_count": 168
  },
  {
   "cell_type": "code",
   "id": "90af7e9974f51449",
   "metadata": {
    "ExecuteTime": {
     "end_time": "2024-11-18T20:57:52.401385Z",
     "start_time": "2024-11-18T20:57:52.372758Z"
    }
   },
   "source": [
    "try:\n",
    "    print(\"Info Data of weather_data Dataframe\")\n",
    "    display(weather_data.info())\n",
    "except Exception as e:\n",
    "    print(\"Error in weather_data.info():\", e)"
   ],
   "outputs": [
    {
     "name": "stdout",
     "output_type": "stream",
     "text": [
      "Info Data of weather_data Dataframe\n",
      "<class 'pandas.core.frame.DataFrame'>\n",
      "RangeIndex: 29244 entries, 0 to 29243\n",
      "Data columns (total 9 columns):\n",
      " #   Column                   Non-Null Count  Dtype  \n",
      "---  ------                   --------------  -----  \n",
      " 0   city                     29244 non-null  object \n",
      " 1   timestamp                29244 non-null  object \n",
      " 2   temperature              29219 non-null  float64\n",
      " 3   cloud_cover              29224 non-null  float64\n",
      " 4   cloud_cover_description  29224 non-null  object \n",
      " 5   pressure                 29236 non-null  float64\n",
      " 6   windspeed                29158 non-null  float64\n",
      " 7   precipitation            29244 non-null  float64\n",
      " 8   felt_temperature         29218 non-null  float64\n",
      "dtypes: float64(6), object(3)\n",
      "memory usage: 2.0+ MB\n"
     ]
    },
    {
     "data": {
      "text/plain": [
       "None"
      ]
     },
     "metadata": {},
     "output_type": "display_data"
    }
   ],
   "execution_count": 169
  },
  {
   "cell_type": "code",
   "id": "c059a5b3cf8da10c",
   "metadata": {
    "ExecuteTime": {
     "end_time": "2024-11-18T20:57:52.553896Z",
     "start_time": "2024-11-18T20:57:52.527322Z"
    }
   },
   "source": [
    "try:\n",
    "    print(\"charging_data first few rows:\")\n",
    "    display(charging_data.head())\n",
    "except Exception as e:\n",
    "    print(\"Error in charging_data.head():\", e)"
   ],
   "outputs": [
    {
     "name": "stdout",
     "output_type": "stream",
     "text": [
      "charging_data first few rows:\n"
     ]
    },
    {
     "data": {
      "text/plain": [
       "   Unnamed: 0                        id             connectionTime  \\\n",
       "0           0  5e23b149f9af8b5fe4b973cf  2020-01-02 13:08:54+00:00   \n",
       "1           1  5e23b149f9af8b5fe4b973d0  2020-01-02 13:36:50+00:00   \n",
       "2           2  5e23b149f9af8b5fe4b973d1  2020-01-02 13:56:35+00:00   \n",
       "3           3  5e23b149f9af8b5fe4b973d2  2020-01-02 13:59:58+00:00   \n",
       "4           4  5e23b149f9af8b5fe4b973d3  2020-01-02 14:00:01+00:00   \n",
       "\n",
       "              disconnectTime           doneChargingTime  kWhDelivered  \\\n",
       "0  2020-01-02 19:11:15+00:00  2020-01-02 17:31:35+00:00        25.016   \n",
       "1  2020-01-02 22:38:21+00:00  2020-01-02 20:18:05+00:00        33.097   \n",
       "2  2020-01-03 00:39:22+00:00  2020-01-02 16:35:06+00:00         6.521   \n",
       "3  2020-01-02 16:38:39+00:00  2020-01-02 15:18:45+00:00         2.355   \n",
       "4  2020-01-02 22:08:40+00:00  2020-01-02 18:17:30+00:00        13.375   \n",
       "\n",
       "                                sessionID  siteID  spaceID    stationID  \\\n",
       "0  1_1_179_810_2020-01-02 13:08:53.870034       1  AG-3F30  1-1-179-810   \n",
       "1  1_1_193_825_2020-01-02 13:36:49.599853       1  AG-1F01  1-1-193-825   \n",
       "2  1_1_193_829_2020-01-02 13:56:35.214993       1  AG-1F03  1-1-193-829   \n",
       "3  1_1_193_820_2020-01-02 13:59:58.309319       1  AG-1F04  1-1-193-820   \n",
       "4  1_1_193_819_2020-01-02 14:00:00.779967       1  AG-1F06  1-1-193-819   \n",
       "\n",
       "              timezone  userID  \\\n",
       "0  America/Los_Angeles   194.0   \n",
       "1  America/Los_Angeles  4275.0   \n",
       "2  America/Los_Angeles   344.0   \n",
       "3  America/Los_Angeles  1117.0   \n",
       "4  America/Los_Angeles   334.0   \n",
       "\n",
       "                                          userInputs  \n",
       "0  [{'WhPerMile': 250, 'kWhRequested': 25.0, 'mil...  \n",
       "1  [{'WhPerMile': 280, 'kWhRequested': 70.0, 'mil...  \n",
       "2  [{'WhPerMile': 400, 'kWhRequested': 8.0, 'mile...  \n",
       "3  [{'WhPerMile': 400, 'kWhRequested': 8.0, 'mile...  \n",
       "4  [{'WhPerMile': 400, 'kWhRequested': 16.0, 'mil...  "
      ],
      "text/html": [
       "<div>\n",
       "<style scoped>\n",
       "    .dataframe tbody tr th:only-of-type {\n",
       "        vertical-align: middle;\n",
       "    }\n",
       "\n",
       "    .dataframe tbody tr th {\n",
       "        vertical-align: top;\n",
       "    }\n",
       "\n",
       "    .dataframe thead th {\n",
       "        text-align: right;\n",
       "    }\n",
       "</style>\n",
       "<table border=\"1\" class=\"dataframe\">\n",
       "  <thead>\n",
       "    <tr style=\"text-align: right;\">\n",
       "      <th></th>\n",
       "      <th>Unnamed: 0</th>\n",
       "      <th>id</th>\n",
       "      <th>connectionTime</th>\n",
       "      <th>disconnectTime</th>\n",
       "      <th>doneChargingTime</th>\n",
       "      <th>kWhDelivered</th>\n",
       "      <th>sessionID</th>\n",
       "      <th>siteID</th>\n",
       "      <th>spaceID</th>\n",
       "      <th>stationID</th>\n",
       "      <th>timezone</th>\n",
       "      <th>userID</th>\n",
       "      <th>userInputs</th>\n",
       "    </tr>\n",
       "  </thead>\n",
       "  <tbody>\n",
       "    <tr>\n",
       "      <th>0</th>\n",
       "      <td>0</td>\n",
       "      <td>5e23b149f9af8b5fe4b973cf</td>\n",
       "      <td>2020-01-02 13:08:54+00:00</td>\n",
       "      <td>2020-01-02 19:11:15+00:00</td>\n",
       "      <td>2020-01-02 17:31:35+00:00</td>\n",
       "      <td>25.016</td>\n",
       "      <td>1_1_179_810_2020-01-02 13:08:53.870034</td>\n",
       "      <td>1</td>\n",
       "      <td>AG-3F30</td>\n",
       "      <td>1-1-179-810</td>\n",
       "      <td>America/Los_Angeles</td>\n",
       "      <td>194.0</td>\n",
       "      <td>[{'WhPerMile': 250, 'kWhRequested': 25.0, 'mil...</td>\n",
       "    </tr>\n",
       "    <tr>\n",
       "      <th>1</th>\n",
       "      <td>1</td>\n",
       "      <td>5e23b149f9af8b5fe4b973d0</td>\n",
       "      <td>2020-01-02 13:36:50+00:00</td>\n",
       "      <td>2020-01-02 22:38:21+00:00</td>\n",
       "      <td>2020-01-02 20:18:05+00:00</td>\n",
       "      <td>33.097</td>\n",
       "      <td>1_1_193_825_2020-01-02 13:36:49.599853</td>\n",
       "      <td>1</td>\n",
       "      <td>AG-1F01</td>\n",
       "      <td>1-1-193-825</td>\n",
       "      <td>America/Los_Angeles</td>\n",
       "      <td>4275.0</td>\n",
       "      <td>[{'WhPerMile': 280, 'kWhRequested': 70.0, 'mil...</td>\n",
       "    </tr>\n",
       "    <tr>\n",
       "      <th>2</th>\n",
       "      <td>2</td>\n",
       "      <td>5e23b149f9af8b5fe4b973d1</td>\n",
       "      <td>2020-01-02 13:56:35+00:00</td>\n",
       "      <td>2020-01-03 00:39:22+00:00</td>\n",
       "      <td>2020-01-02 16:35:06+00:00</td>\n",
       "      <td>6.521</td>\n",
       "      <td>1_1_193_829_2020-01-02 13:56:35.214993</td>\n",
       "      <td>1</td>\n",
       "      <td>AG-1F03</td>\n",
       "      <td>1-1-193-829</td>\n",
       "      <td>America/Los_Angeles</td>\n",
       "      <td>344.0</td>\n",
       "      <td>[{'WhPerMile': 400, 'kWhRequested': 8.0, 'mile...</td>\n",
       "    </tr>\n",
       "    <tr>\n",
       "      <th>3</th>\n",
       "      <td>3</td>\n",
       "      <td>5e23b149f9af8b5fe4b973d2</td>\n",
       "      <td>2020-01-02 13:59:58+00:00</td>\n",
       "      <td>2020-01-02 16:38:39+00:00</td>\n",
       "      <td>2020-01-02 15:18:45+00:00</td>\n",
       "      <td>2.355</td>\n",
       "      <td>1_1_193_820_2020-01-02 13:59:58.309319</td>\n",
       "      <td>1</td>\n",
       "      <td>AG-1F04</td>\n",
       "      <td>1-1-193-820</td>\n",
       "      <td>America/Los_Angeles</td>\n",
       "      <td>1117.0</td>\n",
       "      <td>[{'WhPerMile': 400, 'kWhRequested': 8.0, 'mile...</td>\n",
       "    </tr>\n",
       "    <tr>\n",
       "      <th>4</th>\n",
       "      <td>4</td>\n",
       "      <td>5e23b149f9af8b5fe4b973d3</td>\n",
       "      <td>2020-01-02 14:00:01+00:00</td>\n",
       "      <td>2020-01-02 22:08:40+00:00</td>\n",
       "      <td>2020-01-02 18:17:30+00:00</td>\n",
       "      <td>13.375</td>\n",
       "      <td>1_1_193_819_2020-01-02 14:00:00.779967</td>\n",
       "      <td>1</td>\n",
       "      <td>AG-1F06</td>\n",
       "      <td>1-1-193-819</td>\n",
       "      <td>America/Los_Angeles</td>\n",
       "      <td>334.0</td>\n",
       "      <td>[{'WhPerMile': 400, 'kWhRequested': 16.0, 'mil...</td>\n",
       "    </tr>\n",
       "  </tbody>\n",
       "</table>\n",
       "</div>"
      ]
     },
     "metadata": {},
     "output_type": "display_data"
    }
   ],
   "execution_count": 170
  },
  {
   "cell_type": "code",
   "id": "d0a394af07d1dd0c",
   "metadata": {
    "ExecuteTime": {
     "end_time": "2024-11-18T20:57:52.693984Z",
     "start_time": "2024-11-18T20:57:52.665638Z"
    }
   },
   "source": [
    "try:\n",
    "    print(\"weather_data first few rows:\")\n",
    "    display(weather_data.head())\n",
    "except Exception as e:\n",
    "    print(\"Error in weather_data.head():\", e)"
   ],
   "outputs": [
    {
     "name": "stdout",
     "output_type": "stream",
     "text": [
      "weather_data first few rows:\n"
     ]
    },
    {
     "data": {
      "text/plain": [
       "      city            timestamp  temperature  cloud_cover  \\\n",
       "0  Burbank  2018-01-01 08:53:00          9.0         33.0   \n",
       "1  Burbank  2018-01-01 09:53:00          9.0         33.0   \n",
       "2  Burbank  2018-01-01 10:53:00          9.0         21.0   \n",
       "3  Burbank  2018-01-01 11:53:00          9.0         29.0   \n",
       "4  Burbank  2018-01-01 12:53:00          8.0         33.0   \n",
       "\n",
       "  cloud_cover_description  pressure  windspeed  precipitation  \\\n",
       "0                    Fair    991.75        9.0            0.0   \n",
       "1                    Fair    992.08        0.0            0.0   \n",
       "2                    Haze    992.08        0.0            0.0   \n",
       "3           Partly Cloudy    992.08        0.0            0.0   \n",
       "4                    Fair    992.08        0.0            0.0   \n",
       "\n",
       "   felt_temperature  \n",
       "0               8.0  \n",
       "1               9.0  \n",
       "2               9.0  \n",
       "3               9.0  \n",
       "4               8.0  "
      ],
      "text/html": [
       "<div>\n",
       "<style scoped>\n",
       "    .dataframe tbody tr th:only-of-type {\n",
       "        vertical-align: middle;\n",
       "    }\n",
       "\n",
       "    .dataframe tbody tr th {\n",
       "        vertical-align: top;\n",
       "    }\n",
       "\n",
       "    .dataframe thead th {\n",
       "        text-align: right;\n",
       "    }\n",
       "</style>\n",
       "<table border=\"1\" class=\"dataframe\">\n",
       "  <thead>\n",
       "    <tr style=\"text-align: right;\">\n",
       "      <th></th>\n",
       "      <th>city</th>\n",
       "      <th>timestamp</th>\n",
       "      <th>temperature</th>\n",
       "      <th>cloud_cover</th>\n",
       "      <th>cloud_cover_description</th>\n",
       "      <th>pressure</th>\n",
       "      <th>windspeed</th>\n",
       "      <th>precipitation</th>\n",
       "      <th>felt_temperature</th>\n",
       "    </tr>\n",
       "  </thead>\n",
       "  <tbody>\n",
       "    <tr>\n",
       "      <th>0</th>\n",
       "      <td>Burbank</td>\n",
       "      <td>2018-01-01 08:53:00</td>\n",
       "      <td>9.0</td>\n",
       "      <td>33.0</td>\n",
       "      <td>Fair</td>\n",
       "      <td>991.75</td>\n",
       "      <td>9.0</td>\n",
       "      <td>0.0</td>\n",
       "      <td>8.0</td>\n",
       "    </tr>\n",
       "    <tr>\n",
       "      <th>1</th>\n",
       "      <td>Burbank</td>\n",
       "      <td>2018-01-01 09:53:00</td>\n",
       "      <td>9.0</td>\n",
       "      <td>33.0</td>\n",
       "      <td>Fair</td>\n",
       "      <td>992.08</td>\n",
       "      <td>0.0</td>\n",
       "      <td>0.0</td>\n",
       "      <td>9.0</td>\n",
       "    </tr>\n",
       "    <tr>\n",
       "      <th>2</th>\n",
       "      <td>Burbank</td>\n",
       "      <td>2018-01-01 10:53:00</td>\n",
       "      <td>9.0</td>\n",
       "      <td>21.0</td>\n",
       "      <td>Haze</td>\n",
       "      <td>992.08</td>\n",
       "      <td>0.0</td>\n",
       "      <td>0.0</td>\n",
       "      <td>9.0</td>\n",
       "    </tr>\n",
       "    <tr>\n",
       "      <th>3</th>\n",
       "      <td>Burbank</td>\n",
       "      <td>2018-01-01 11:53:00</td>\n",
       "      <td>9.0</td>\n",
       "      <td>29.0</td>\n",
       "      <td>Partly Cloudy</td>\n",
       "      <td>992.08</td>\n",
       "      <td>0.0</td>\n",
       "      <td>0.0</td>\n",
       "      <td>9.0</td>\n",
       "    </tr>\n",
       "    <tr>\n",
       "      <th>4</th>\n",
       "      <td>Burbank</td>\n",
       "      <td>2018-01-01 12:53:00</td>\n",
       "      <td>8.0</td>\n",
       "      <td>33.0</td>\n",
       "      <td>Fair</td>\n",
       "      <td>992.08</td>\n",
       "      <td>0.0</td>\n",
       "      <td>0.0</td>\n",
       "      <td>8.0</td>\n",
       "    </tr>\n",
       "  </tbody>\n",
       "</table>\n",
       "</div>"
      ]
     },
     "metadata": {},
     "output_type": "display_data"
    }
   ],
   "execution_count": 171
  },
  {
   "cell_type": "code",
   "id": "4fb4a7860ce93e5b",
   "metadata": {
    "ExecuteTime": {
     "end_time": "2024-11-18T20:57:52.925606Z",
     "start_time": "2024-11-18T20:57:52.886311Z"
    }
   },
   "source": [
    "try:\n",
    "    print(\"charging_data description:\")\n",
    "    display(charging_data.describe())\n",
    "except Exception as e:\n",
    "    print(\"Error in charging_data.describe():\", e)"
   ],
   "outputs": [
    {
     "name": "stdout",
     "output_type": "stream",
     "text": [
      "charging_data description:\n"
     ]
    },
    {
     "data": {
      "text/plain": [
       "         Unnamed: 0  kWhDelivered        siteID        userID\n",
       "count  66450.000000  66450.000000  66450.000000  49187.000000\n",
       "mean    4726.102062     11.787916      1.472656   1800.494582\n",
       "std     3568.025394     10.314789      0.499256   2617.548614\n",
       "min        0.000000      0.501000      1.000000      1.000000\n",
       "25%     1845.000000      5.097000      1.000000    431.000000\n",
       "50%     3960.000000      9.140000      1.000000    818.000000\n",
       "75%     7027.000000     14.183000      2.000000   1805.000000\n",
       "max    15291.000000    108.797242      2.000000  19923.000000"
      ],
      "text/html": [
       "<div>\n",
       "<style scoped>\n",
       "    .dataframe tbody tr th:only-of-type {\n",
       "        vertical-align: middle;\n",
       "    }\n",
       "\n",
       "    .dataframe tbody tr th {\n",
       "        vertical-align: top;\n",
       "    }\n",
       "\n",
       "    .dataframe thead th {\n",
       "        text-align: right;\n",
       "    }\n",
       "</style>\n",
       "<table border=\"1\" class=\"dataframe\">\n",
       "  <thead>\n",
       "    <tr style=\"text-align: right;\">\n",
       "      <th></th>\n",
       "      <th>Unnamed: 0</th>\n",
       "      <th>kWhDelivered</th>\n",
       "      <th>siteID</th>\n",
       "      <th>userID</th>\n",
       "    </tr>\n",
       "  </thead>\n",
       "  <tbody>\n",
       "    <tr>\n",
       "      <th>count</th>\n",
       "      <td>66450.000000</td>\n",
       "      <td>66450.000000</td>\n",
       "      <td>66450.000000</td>\n",
       "      <td>49187.000000</td>\n",
       "    </tr>\n",
       "    <tr>\n",
       "      <th>mean</th>\n",
       "      <td>4726.102062</td>\n",
       "      <td>11.787916</td>\n",
       "      <td>1.472656</td>\n",
       "      <td>1800.494582</td>\n",
       "    </tr>\n",
       "    <tr>\n",
       "      <th>std</th>\n",
       "      <td>3568.025394</td>\n",
       "      <td>10.314789</td>\n",
       "      <td>0.499256</td>\n",
       "      <td>2617.548614</td>\n",
       "    </tr>\n",
       "    <tr>\n",
       "      <th>min</th>\n",
       "      <td>0.000000</td>\n",
       "      <td>0.501000</td>\n",
       "      <td>1.000000</td>\n",
       "      <td>1.000000</td>\n",
       "    </tr>\n",
       "    <tr>\n",
       "      <th>25%</th>\n",
       "      <td>1845.000000</td>\n",
       "      <td>5.097000</td>\n",
       "      <td>1.000000</td>\n",
       "      <td>431.000000</td>\n",
       "    </tr>\n",
       "    <tr>\n",
       "      <th>50%</th>\n",
       "      <td>3960.000000</td>\n",
       "      <td>9.140000</td>\n",
       "      <td>1.000000</td>\n",
       "      <td>818.000000</td>\n",
       "    </tr>\n",
       "    <tr>\n",
       "      <th>75%</th>\n",
       "      <td>7027.000000</td>\n",
       "      <td>14.183000</td>\n",
       "      <td>2.000000</td>\n",
       "      <td>1805.000000</td>\n",
       "    </tr>\n",
       "    <tr>\n",
       "      <th>max</th>\n",
       "      <td>15291.000000</td>\n",
       "      <td>108.797242</td>\n",
       "      <td>2.000000</td>\n",
       "      <td>19923.000000</td>\n",
       "    </tr>\n",
       "  </tbody>\n",
       "</table>\n",
       "</div>"
      ]
     },
     "metadata": {},
     "output_type": "display_data"
    }
   ],
   "execution_count": 172
  },
  {
   "cell_type": "code",
   "id": "cbb51e33ec852a60",
   "metadata": {
    "ExecuteTime": {
     "end_time": "2024-11-18T20:57:53.263559Z",
     "start_time": "2024-11-18T20:57:53.218682Z"
    }
   },
   "source": [
    "try:\n",
    "    print(\"weather_data description:\")\n",
    "    display(weather_data.describe())\n",
    "except Exception as e:\n",
    "    print(\"Error in weather_data.describe():\", e)"
   ],
   "outputs": [
    {
     "name": "stdout",
     "output_type": "stream",
     "text": [
      "weather_data description:\n"
     ]
    },
    {
     "data": {
      "text/plain": [
       "        temperature   cloud_cover      pressure     windspeed  precipitation  \\\n",
       "count  29219.000000  29224.000000  29236.000000  29158.000000   29244.000000   \n",
       "mean      17.885622     30.107993    986.879400      8.566568       0.059360   \n",
       "std        6.454604      5.400388      3.607065      6.699889       0.471682   \n",
       "min        2.000000      4.000000    971.000000      0.000000       0.000000   \n",
       "25%       13.000000     26.000000    984.500000      6.000000       0.000000   \n",
       "50%       17.000000     33.000000    986.480000      7.000000       0.000000   \n",
       "75%       22.000000     34.000000    989.110000     13.000000       0.000000   \n",
       "max       46.000000     47.000000    999.650000     57.000000      18.540000   \n",
       "\n",
       "       felt_temperature  \n",
       "count      29218.000000  \n",
       "mean          17.731433  \n",
       "std            6.321100  \n",
       "min            0.000000  \n",
       "25%           13.000000  \n",
       "50%           17.000000  \n",
       "75%           22.000000  \n",
       "max           42.000000  "
      ],
      "text/html": [
       "<div>\n",
       "<style scoped>\n",
       "    .dataframe tbody tr th:only-of-type {\n",
       "        vertical-align: middle;\n",
       "    }\n",
       "\n",
       "    .dataframe tbody tr th {\n",
       "        vertical-align: top;\n",
       "    }\n",
       "\n",
       "    .dataframe thead th {\n",
       "        text-align: right;\n",
       "    }\n",
       "</style>\n",
       "<table border=\"1\" class=\"dataframe\">\n",
       "  <thead>\n",
       "    <tr style=\"text-align: right;\">\n",
       "      <th></th>\n",
       "      <th>temperature</th>\n",
       "      <th>cloud_cover</th>\n",
       "      <th>pressure</th>\n",
       "      <th>windspeed</th>\n",
       "      <th>precipitation</th>\n",
       "      <th>felt_temperature</th>\n",
       "    </tr>\n",
       "  </thead>\n",
       "  <tbody>\n",
       "    <tr>\n",
       "      <th>count</th>\n",
       "      <td>29219.000000</td>\n",
       "      <td>29224.000000</td>\n",
       "      <td>29236.000000</td>\n",
       "      <td>29158.000000</td>\n",
       "      <td>29244.000000</td>\n",
       "      <td>29218.000000</td>\n",
       "    </tr>\n",
       "    <tr>\n",
       "      <th>mean</th>\n",
       "      <td>17.885622</td>\n",
       "      <td>30.107993</td>\n",
       "      <td>986.879400</td>\n",
       "      <td>8.566568</td>\n",
       "      <td>0.059360</td>\n",
       "      <td>17.731433</td>\n",
       "    </tr>\n",
       "    <tr>\n",
       "      <th>std</th>\n",
       "      <td>6.454604</td>\n",
       "      <td>5.400388</td>\n",
       "      <td>3.607065</td>\n",
       "      <td>6.699889</td>\n",
       "      <td>0.471682</td>\n",
       "      <td>6.321100</td>\n",
       "    </tr>\n",
       "    <tr>\n",
       "      <th>min</th>\n",
       "      <td>2.000000</td>\n",
       "      <td>4.000000</td>\n",
       "      <td>971.000000</td>\n",
       "      <td>0.000000</td>\n",
       "      <td>0.000000</td>\n",
       "      <td>0.000000</td>\n",
       "    </tr>\n",
       "    <tr>\n",
       "      <th>25%</th>\n",
       "      <td>13.000000</td>\n",
       "      <td>26.000000</td>\n",
       "      <td>984.500000</td>\n",
       "      <td>6.000000</td>\n",
       "      <td>0.000000</td>\n",
       "      <td>13.000000</td>\n",
       "    </tr>\n",
       "    <tr>\n",
       "      <th>50%</th>\n",
       "      <td>17.000000</td>\n",
       "      <td>33.000000</td>\n",
       "      <td>986.480000</td>\n",
       "      <td>7.000000</td>\n",
       "      <td>0.000000</td>\n",
       "      <td>17.000000</td>\n",
       "    </tr>\n",
       "    <tr>\n",
       "      <th>75%</th>\n",
       "      <td>22.000000</td>\n",
       "      <td>34.000000</td>\n",
       "      <td>989.110000</td>\n",
       "      <td>13.000000</td>\n",
       "      <td>0.000000</td>\n",
       "      <td>22.000000</td>\n",
       "    </tr>\n",
       "    <tr>\n",
       "      <th>max</th>\n",
       "      <td>46.000000</td>\n",
       "      <td>47.000000</td>\n",
       "      <td>999.650000</td>\n",
       "      <td>57.000000</td>\n",
       "      <td>18.540000</td>\n",
       "      <td>42.000000</td>\n",
       "    </tr>\n",
       "  </tbody>\n",
       "</table>\n",
       "</div>"
      ]
     },
     "metadata": {},
     "output_type": "display_data"
    }
   ],
   "execution_count": 173
  },
  {
   "cell_type": "markdown",
   "id": "477e7ebca133c409",
   "metadata": {},
   "source": [
    "#### Transform Datatyp"
   ]
  },
  {
   "cell_type": "code",
   "id": "b1b643b89c13ab27",
   "metadata": {
    "ExecuteTime": {
     "end_time": "2024-11-18T20:57:53.840184Z",
     "start_time": "2024-11-18T20:57:53.436749Z"
    }
   },
   "source": [
    "#format columns into datetime-objects\n",
    "charging_data['connectionTime'] = pd.to_datetime(charging_data['connectionTime'])\n",
    "charging_data['disconnectTime'] = pd.to_datetime(charging_data['disconnectTime'])\n",
    "charging_data['doneChargingTime'] = pd.to_datetime(charging_data['doneChargingTime'])\n",
    "#Todo also for the rest (inf needed) -> Chiara\n",
    "#check for type of userID\n",
    "userID_type = charging_data['userID'].dtype\n",
    "print(\"data type of userID: \", userID_type)\n",
    "#float64\n",
    "\n",
    "#check for number of wrong  type within column userID\n",
    "userID_wrong_type = charging_data['userID'].apply(lambda x: not isinstance(x, float)).sum()\n",
    "print(\"number of incorrect data types: \", userID_wrong_type)\n",
    "#-->no wrong types\n",
    "\n",
    "\n",
    "#Todo also for the weather data -> Chiara\n",
    "\n",
    "display(charging_data.info())"
   ],
   "outputs": [
    {
     "name": "stdout",
     "output_type": "stream",
     "text": [
      "data type of userID:  float64\n",
      "number of incorrect data types:  0\n",
      "<class 'pandas.core.frame.DataFrame'>\n",
      "RangeIndex: 66450 entries, 0 to 66449\n",
      "Data columns (total 13 columns):\n",
      " #   Column            Non-Null Count  Dtype              \n",
      "---  ------            --------------  -----              \n",
      " 0   Unnamed: 0        66450 non-null  int64              \n",
      " 1   id                66450 non-null  object             \n",
      " 2   connectionTime    66450 non-null  datetime64[ns, UTC]\n",
      " 3   disconnectTime    66450 non-null  datetime64[ns, UTC]\n",
      " 4   doneChargingTime  62362 non-null  datetime64[ns, UTC]\n",
      " 5   kWhDelivered      66450 non-null  float64            \n",
      " 6   sessionID         66450 non-null  object             \n",
      " 7   siteID            66450 non-null  int64              \n",
      " 8   spaceID           66450 non-null  object             \n",
      " 9   stationID         66450 non-null  object             \n",
      " 10  timezone          66450 non-null  object             \n",
      " 11  userID            49187 non-null  float64            \n",
      " 12  userInputs        49187 non-null  object             \n",
      "dtypes: datetime64[ns, UTC](3), float64(2), int64(2), object(6)\n",
      "memory usage: 6.6+ MB\n"
     ]
    },
    {
     "data": {
      "text/plain": [
       "None"
      ]
     },
     "metadata": {},
     "output_type": "display_data"
    }
   ],
   "execution_count": 174
  },
  {
   "cell_type": "markdown",
   "id": "7aec3268abe2bb54",
   "metadata": {},
   "source": [
    "### 2 Check and Handle missing Data"
   ]
  },
  {
   "cell_type": "markdown",
   "id": "5ca509b7694dee48",
   "metadata": {},
   "source": [
    "#### 2.1 Identifying missing data"
   ]
  },
  {
   "cell_type": "code",
   "id": "64595883",
   "metadata": {
    "ExecuteTime": {
     "end_time": "2024-11-18T20:57:54.010690Z",
     "start_time": "2024-11-18T20:57:53.953414Z"
    }
   },
   "source": [
    "#Identifying and returning missing data:\n",
    "charging_missing_data = charging_data.isnull().sum()\n",
    "display(charging_missing_data)\n",
    "\n",
    "weather_missing_data = weather_data.isnull().sum()\n",
    "display(weather_missing_data[weather_missing_data > 0])\n",
    "print(\"Number of unique lines with missing values: \" + str(weather_data.isnull().any(axis=1).sum()))\n"
   ],
   "outputs": [
    {
     "data": {
      "text/plain": [
       "Unnamed: 0              0\n",
       "id                      0\n",
       "connectionTime          0\n",
       "disconnectTime          0\n",
       "doneChargingTime     4088\n",
       "kWhDelivered            0\n",
       "sessionID               0\n",
       "siteID                  0\n",
       "spaceID                 0\n",
       "stationID               0\n",
       "timezone                0\n",
       "userID              17263\n",
       "userInputs          17263\n",
       "dtype: int64"
      ]
     },
     "metadata": {},
     "output_type": "display_data"
    },
    {
     "data": {
      "text/plain": [
       "temperature                25\n",
       "cloud_cover                20\n",
       "cloud_cover_description    20\n",
       "pressure                    8\n",
       "windspeed                  86\n",
       "felt_temperature           26\n",
       "dtype: int64"
      ]
     },
     "metadata": {},
     "output_type": "display_data"
    },
    {
     "name": "stdout",
     "output_type": "stream",
     "text": [
      "Number of unique lines with missing values: 139\n"
     ]
    }
   ],
   "execution_count": 175
  },
  {
   "cell_type": "markdown",
   "id": "ce64fdf76529525b",
   "metadata": {},
   "source": [
    "#### 2.2 Handling missing data"
   ]
  },
  {
   "cell_type": "markdown",
   "id": "243f7f38",
   "metadata": {},
   "source": [
    "**Lets look at the missing values**<br>\n",
    "For `charging_data`:\n",
    "- `doneChargingTime`: We have 4088 missing values, that is 4088/66450=6,15%. Because we do not want to loose 6% of the data, we will replace the missing values with connectionTime + median charging time.\n",
    "- `userID`: We have 17263 missing values, that is 17263/66450=25,98%. We will replace them with null values (0.0).\n",
    "- `userInput`: We have 17263 missing values, that is 17263/66450=25,98%. We will replace them with null values (Null).\n",
    "\n",
    "For `weather_data`:\n",
    "- There are 139 lines with missing values through the data set. Because this is only 0,47%, we decided to drop these records. "
   ]
  },
  {
   "cell_type": "code",
   "id": "e422a31b",
   "metadata": {
    "ExecuteTime": {
     "end_time": "2024-11-18T20:57:54.180333Z",
     "start_time": "2024-11-18T20:57:54.139169Z"
    }
   },
   "source": [
    "#doneChargingTime \n",
    "#baisc idea: replace missing values with connectionTime + median of chargingTime\n",
    "#store values from doneChargingTime into new column doneChargingTime_clean (can be transferred to doneChargingTime) in order to load them into a new csv\n",
    "\n",
    "#calculate median_charging_time in whole seconds of all non-null rows (parameter skip_na of median()-method is true by default)\n",
    "median_charging_time = (\n",
    "    (charging_data['doneChargingTime'] - charging_data['connectionTime']).dt.total_seconds()).median().round()\n",
    "\n",
    "#calculate new doneChargingTime based on median_charging_time\n",
    "calculated_doneChargingTime = charging_data['connectionTime'] + timedelta(seconds=median_charging_time)\n",
    "#add new column where null values are filled with calculated_doneChargingTime\n",
    "charging_data['doneChargingTime_clean'] = charging_data['doneChargingTime'].fillna(calculated_doneChargingTime)\n",
    "\n",
    "#check doneChargingTime_clean (can be deleted later)-->\n",
    "print(median_charging_time / 60 / 60)\n",
    "# print(calculated_doneChargingTime.iloc[1])\n",
    "# print(charging_data['connectionTime'].iloc[1])\n",
    "# we need to check if the doneChargingTime_clean is now after the disconnectTime\n",
    "tmp_check_doneChargingTime = charging_data[\n",
    "    charging_data['doneChargingTime'].isnull() & (charging_data['doneChargingTime_clean'] > charging_data['disconnectTime'])]\n",
    "print(tmp_check_doneChargingTime[['doneChargingTime', 'doneChargingTime_clean', 'disconnectTime']])\n",
    "# TODO: entpsrechende Einträge korrigieren oder in Zeile 15 schon abändern... oder vielleicht erst unter erroneous Data behandeln, um die anderen Einträge noch mitzunehmen?\n"
   ],
   "outputs": [
    {
     "name": "stdout",
     "output_type": "stream",
     "text": [
      "2.783888888888889\n",
      "      doneChargingTime    doneChargingTime_clean            disconnectTime\n",
      "3759               NaT 2020-04-09 16:48:55+00:00 2020-04-09 16:33:40+00:00\n",
      "3763               NaT 2020-04-10 16:05:01+00:00 2020-04-10 13:49:37+00:00\n",
      "3765               NaT 2020-04-10 17:42:09+00:00 2020-04-10 15:43:03+00:00\n",
      "3766               NaT 2020-04-10 19:08:17+00:00 2020-04-10 18:16:22+00:00\n",
      "3767               NaT 2020-04-10 21:41:00+00:00 2020-04-10 20:37:47+00:00\n",
      "...                ...                       ...                       ...\n",
      "58435              NaT 2019-02-17 03:26:18+00:00 2019-02-17 03:08:59+00:00\n",
      "60411              NaT 2019-03-30 03:19:12+00:00 2019-03-30 02:23:14+00:00\n",
      "61103              NaT 2019-04-15 15:48:01+00:00 2019-04-15 13:55:25+00:00\n",
      "61117              NaT 2019-04-15 16:39:47+00:00 2019-04-15 14:47:01+00:00\n",
      "65530              NaT 2019-07-13 23:00:20+00:00 2019-07-13 20:37:40+00:00\n",
      "\n",
      "[1744 rows x 3 columns]\n"
     ]
    }
   ],
   "execution_count": 176
  },
  {
   "cell_type": "code",
   "id": "eb1e5f29830b40cd",
   "metadata": {
    "ExecuteTime": {
     "end_time": "2024-11-18T20:57:54.381973Z",
     "start_time": "2024-11-18T20:57:54.329592Z"
    }
   },
   "source": [
    "#userID\n",
    "# TODO: müsste die userID nicht eigentlich ein string sein und kein float? (unabh. davon, dass wir die Spalte hinterher ja eh converten wollten)\n",
    "#replace missing values with 0.0 (float)\n",
    "#store values from userID into new column userID_clean (can be transferred to userID)\n",
    "charging_data['userID_clean'] = charging_data['userID'].fillna(0.0)\n",
    "\n",
    "#check userID_clean for consistency (can be deleted later) -->\n",
    "userID_wrong_typ = charging_data['userID_clean'].apply(lambda x: not isinstance(x, float)).sum()\n",
    "userID_wrong_typ\n",
    "\n",
    "comparison = charging_data[charging_data['userID'].isnull()][['userID_clean', 'userID' ]]\n",
    "comparison['userID_clean_type'] = charging_data['userID_clean'].dtype\n",
    "print(comparison)\n"
   ],
   "outputs": [
    {
     "name": "stdout",
     "output_type": "stream",
     "text": [
      "       userID_clean  userID userID_clean_type\n",
      "11              0.0     NaN           float64\n",
      "41              0.0     NaN           float64\n",
      "180             0.0     NaN           float64\n",
      "193             0.0     NaN           float64\n",
      "265             0.0     NaN           float64\n",
      "...             ...     ...               ...\n",
      "66271           0.0     NaN           float64\n",
      "66316           0.0     NaN           float64\n",
      "66321           0.0     NaN           float64\n",
      "66415           0.0     NaN           float64\n",
      "66449           0.0     NaN           float64\n",
      "\n",
      "[17263 rows x 3 columns]\n"
     ]
    }
   ],
   "execution_count": 177
  },
  {
   "cell_type": "code",
   "id": "b14e6373",
   "metadata": {
    "ExecuteTime": {
     "end_time": "2024-11-18T20:57:54.537581Z",
     "start_time": "2024-11-18T20:57:54.509200Z"
    }
   },
   "source": [
    "# drop rows with missing information of weather_data\n",
    "weather_data = weather_data.dropna(ignore_index=True)\n",
    "\n",
    "# check if it worked/ how many rows remained\n",
    "display(weather_data.info())\n",
    "\n",
    "\n",
    "\n",
    "# ToDo -> New df for cleaned data -> Paul"
   ],
   "outputs": [
    {
     "name": "stdout",
     "output_type": "stream",
     "text": [
      "<class 'pandas.core.frame.DataFrame'>\n",
      "RangeIndex: 29105 entries, 0 to 29104\n",
      "Data columns (total 9 columns):\n",
      " #   Column                   Non-Null Count  Dtype  \n",
      "---  ------                   --------------  -----  \n",
      " 0   city                     29105 non-null  object \n",
      " 1   timestamp                29105 non-null  object \n",
      " 2   temperature              29105 non-null  float64\n",
      " 3   cloud_cover              29105 non-null  float64\n",
      " 4   cloud_cover_description  29105 non-null  object \n",
      " 5   pressure                 29105 non-null  float64\n",
      " 6   windspeed                29105 non-null  float64\n",
      " 7   precipitation            29105 non-null  float64\n",
      " 8   felt_temperature         29105 non-null  float64\n",
      "dtypes: float64(6), object(3)\n",
      "memory usage: 2.0+ MB\n"
     ]
    },
    {
     "data": {
      "text/plain": [
       "None"
      ]
     },
     "metadata": {},
     "output_type": "display_data"
    }
   ],
   "execution_count": 178
  },
  {
   "cell_type": "markdown",
   "id": "430b96a4f98ce6cd",
   "metadata": {},
   "source": [
    "### 3 Erroneous Data\n",
    "### ToDo User Input Data\n",
    "Format UserInputData into an array?"
   ]
  },
  {
   "cell_type": "code",
   "id": "eb0518da",
   "metadata": {
    "ExecuteTime": {
     "end_time": "2024-11-18T20:57:54.662769Z",
     "start_time": "2024-11-18T20:57:54.648717Z"
    }
   },
   "source": [
    "#ToDo -> Fynn"
   ],
   "outputs": [],
   "execution_count": 179
  },
  {
   "cell_type": "markdown",
   "id": "d533857d",
   "metadata": {},
   "source": [
    "### ToDo Data correction: Disconnect time is before done charging time\n",
    "The data shows that is some cases Disconnect time is before done charging time...thats an error...Solution If(DoneTime after DiscTime): DoneTime == DiscTime"
   ]
  },
  {
   "cell_type": "code",
   "id": "77238434e362d817",
   "metadata": {
    "ExecuteTime": {
     "end_time": "2024-11-18T20:57:54.804955Z",
     "start_time": "2024-11-18T20:57:54.791110Z"
    }
   },
   "source": [
    "# Check whether disconnectTime is before connectionTime\n",
    "erroneous_disconnect_times = charging_data[charging_data['disconnectTime'] < charging_data['connectionTime']]\n",
    "\n",
    "# Output the wrong lines\n",
    "print(erroneous_disconnect_times[['connectionTime', 'disconnectTime']])\n"
   ],
   "outputs": [
    {
     "name": "stdout",
     "output_type": "stream",
     "text": [
      "Empty DataFrame\n",
      "Columns: [connectionTime, disconnectTime]\n",
      "Index: []\n"
     ]
    }
   ],
   "execution_count": 180
  },
  {
   "cell_type": "code",
   "id": "413d51fccd2df871",
   "metadata": {
    "ExecuteTime": {
     "end_time": "2024-11-18T20:57:54.946906Z",
     "start_time": "2024-11-18T20:57:54.923948Z"
    }
   },
   "source": [
    "# Calculate the loading time in seconds\n",
    "charging_data['charging_duration'] = (charging_data['doneChargingTime_clean'] - charging_data['connectionTime']).dt.total_seconds()\n",
    "\n",
    "# Calculate the total connection time in seconds\n",
    "charging_data['connection_duration'] = (charging_data['disconnectTime'] - charging_data['connectionTime']).dt.total_seconds()\n",
    "\n",
    "# Check whether the loading time is longer than the connection time\n",
    "erroneous_charging_times = charging_data[charging_data['charging_duration'] > charging_data['connection_duration']]\n",
    "\n",
    "# Count the number of rows with erroneous charging times\n",
    "erroneous_count = erroneous_charging_times.shape[0]\n",
    "\n",
    "# Display the count\n",
    "print(f\"Number of rows with longer charging duration then connection: {erroneous_count}\")\n",
    "\n",
    "print(erroneous_charging_times[['connectionTime', 'disconnectTime', 'doneChargingTime_clean', 'charging_duration', 'connection_duration']])"
   ],
   "outputs": [
    {
     "name": "stdout",
     "output_type": "stream",
     "text": [
      "Number of rows with longer charging duration then connection: 6436\n",
      "                 connectionTime            disconnectTime  \\\n",
      "12    2020-01-02 15:04:38+00:00 2020-01-02 22:08:39+00:00   \n",
      "20    2020-01-02 15:28:47+00:00 2020-01-02 19:01:54+00:00   \n",
      "25    2020-01-02 15:42:05+00:00 2020-01-02 21:58:45+00:00   \n",
      "26    2020-01-02 15:57:24+00:00 2020-01-02 16:35:37+00:00   \n",
      "33    2020-01-02 16:34:35+00:00 2020-01-02 18:49:41+00:00   \n",
      "...                         ...                       ...   \n",
      "66432 2019-07-31 14:36:02+00:00 2019-07-31 22:34:10+00:00   \n",
      "66439 2019-07-31 14:45:02+00:00 2019-07-31 23:43:20+00:00   \n",
      "66440 2019-07-31 14:45:29+00:00 2019-07-31 22:01:32+00:00   \n",
      "66445 2019-07-31 18:08:04+00:00 2019-07-31 23:29:18+00:00   \n",
      "66447 2019-07-31 19:04:40+00:00 2019-07-31 22:44:22+00:00   \n",
      "\n",
      "         doneChargingTime_clean  charging_duration  connection_duration  \n",
      "12    2020-01-02 22:09:36+00:00            25498.0              25441.0  \n",
      "20    2020-01-02 19:02:51+00:00            12844.0              12787.0  \n",
      "25    2020-01-02 21:59:42+00:00            22657.0              22600.0  \n",
      "26    2020-01-02 16:36:34+00:00             2350.0               2293.0  \n",
      "33    2020-01-02 18:50:38+00:00             8163.0               8106.0  \n",
      "...                         ...                ...                  ...  \n",
      "66432 2019-07-31 22:35:10+00:00            28748.0              28688.0  \n",
      "66439 2019-07-31 23:44:19+00:00            32357.0              32298.0  \n",
      "66440 2019-07-31 22:02:32+00:00            26223.0              26163.0  \n",
      "66445 2019-07-31 23:30:18+00:00            19334.0              19274.0  \n",
      "66447 2019-07-31 22:45:21+00:00            13241.0              13182.0  \n",
      "\n",
      "[6436 rows x 5 columns]\n"
     ]
    }
   ],
   "execution_count": 181
  },
  {
   "metadata": {
    "ExecuteTime": {
     "end_time": "2024-11-18T20:57:55.073456Z",
     "start_time": "2024-11-18T20:57:55.054607Z"
    }
   },
   "cell_type": "code",
   "source": [
    "#Identify the differance between the 6436 changed data and the 6441 equal datas one underneath\n",
    "# Identify lines where doneChargingTime_clean was already equal to disconnectTime\n",
    "pre_existing_equal_times = charging_data[\n",
    "    charging_data['doneChargingTime_clean'] == charging_data['disconnectTime']\n",
    "]\n",
    "\n",
    "# Count how many of them were marked as faulty\n",
    "pre_existing_errors = pre_existing_equal_times[\n",
    "    pre_existing_equal_times['charging_duration'] > pre_existing_equal_times['connection_duration']\n",
    "]\n",
    "\n",
    "print(f\"Number of rows where doneChargingTime_clean was already equal to disconnectTime: {pre_existing_equal_times.shape[0]}\")\n",
    "print(f\"Number of these rows identified as erroneous: {pre_existing_errors.shape[0]}\")"
   ],
   "id": "ea043834d474cc77",
   "outputs": [
    {
     "name": "stdout",
     "output_type": "stream",
     "text": [
      "Number of rows where doneChargingTime_clean was already equal to disconnectTime: 5\n",
      "Number of these rows identified as erroneous: 0\n"
     ]
    }
   ],
   "execution_count": 182
  },
  {
   "metadata": {
    "ExecuteTime": {
     "end_time": "2024-11-18T20:57:55.225924Z",
     "start_time": "2024-11-18T20:57:55.199623Z"
    }
   },
   "cell_type": "code",
   "source": [
    "#Adjust doneChargingTime_clean if it exceeds disconnectTime\n",
    "# Set doneChargingTime_clean to disconnectTime where it exceeds disconnectTime\n",
    "charging_data.loc[charging_data['doneChargingTime_clean'] > charging_data['disconnectTime'], 'doneChargingTime_clean'] = charging_data['disconnectTime']\n",
    "\n",
    "# Verify adjustments\n",
    "adjusted_charging_times = charging_data[charging_data['doneChargingTime_clean'] == charging_data['disconnectTime']]\n",
    "print(f\"Number of rows where doneChargingTime_clean was adjusted to disconnectTime: {adjusted_charging_times.shape[0]}\")\n",
    "\n",
    "print(adjusted_charging_times[['connectionTime', 'disconnectTime', 'doneChargingTime_clean']].head())"
   ],
   "id": "598444489ccdd591",
   "outputs": [
    {
     "name": "stdout",
     "output_type": "stream",
     "text": [
      "Number of rows where doneChargingTime_clean was adjusted to disconnectTime: 6441\n",
      "              connectionTime            disconnectTime  \\\n",
      "12 2020-01-02 15:04:38+00:00 2020-01-02 22:08:39+00:00   \n",
      "20 2020-01-02 15:28:47+00:00 2020-01-02 19:01:54+00:00   \n",
      "25 2020-01-02 15:42:05+00:00 2020-01-02 21:58:45+00:00   \n",
      "26 2020-01-02 15:57:24+00:00 2020-01-02 16:35:37+00:00   \n",
      "33 2020-01-02 16:34:35+00:00 2020-01-02 18:49:41+00:00   \n",
      "\n",
      "      doneChargingTime_clean  \n",
      "12 2020-01-02 22:08:39+00:00  \n",
      "20 2020-01-02 19:01:54+00:00  \n",
      "25 2020-01-02 21:58:45+00:00  \n",
      "26 2020-01-02 16:35:37+00:00  \n",
      "33 2020-01-02 18:49:41+00:00  \n"
     ]
    }
   ],
   "execution_count": 183
  },
  {
   "cell_type": "markdown",
   "id": "edff2b83de231985",
   "metadata": {},
   "source": [
    "### 4 Outliers"
   ]
  },
  {
   "cell_type": "code",
   "id": "64f0a6d669a0e957",
   "metadata": {
    "ExecuteTime": {
     "end_time": "2024-11-18T20:57:55.365037Z",
     "start_time": "2024-11-18T20:57:55.337465Z"
    }
   },
   "source": [
    "# Unrealistic Time Differences\n",
    "# Check if the charging duration is either too short (less than 1 minute) or too long (more than 1 day).\n",
    "\n",
    "unrealistic_times = charging_data[(charging_data['charging_duration'] < 60) | (charging_data['charging_duration'] > 86400)]\n",
    "\n",
    "# Show the number of rows with unrealistic charging durations\n",
    "print(f\"Number of rows with unrealistic charging times: {unrealistic_times.shape[0]}\")\n",
    "\n",
    "# Show examples of the data\n",
    "print(\"Examples of erroneous charging durations (too short (1 Min) or too long(24 hours)):\")\n",
    "print(unrealistic_times[['connectionTime', 'disconnectTime', 'doneChargingTime_clean', 'charging_duration']].head())\n",
    "\n",
    "\n",
    "# ToDo: How to handle outliers? How to set the boundries? Is it necassary to handle the outliers (bzw. how much)? -Justin"
   ],
   "outputs": [
    {
     "name": "stdout",
     "output_type": "stream",
     "text": [
      "Number of rows with unrealistic charging times: 95\n",
      "Examples of erroneous charging durations (too short (1 Min) or too long(24 hours)):\n",
      "                 connectionTime            disconnectTime  \\\n",
      "18604 2021-07-16 15:45:30+00:00 2021-07-19 23:06:05+00:00   \n",
      "18606 2021-07-16 16:23:01+00:00 2021-07-19 23:05:42+00:00   \n",
      "18607 2021-07-16 16:40:11+00:00 2021-07-19 23:05:30+00:00   \n",
      "18609 2021-07-16 17:52:18+00:00 2021-07-19 20:41:13+00:00   \n",
      "20425 2019-01-10 01:51:20+00:00 2019-01-11 07:17:28+00:00   \n",
      "\n",
      "         doneChargingTime_clean  charging_duration  \n",
      "18604 2021-07-19 20:36:25+00:00           276655.0  \n",
      "18606 2021-07-19 20:45:36+00:00           274955.0  \n",
      "18607 2021-07-19 20:45:36+00:00           273925.0  \n",
      "18609 2021-07-19 20:41:07+00:00           269329.0  \n",
      "20425 2019-01-11 07:17:28+00:00           106027.0  \n"
     ]
    }
   ],
   "execution_count": 184
  },
  {
   "cell_type": "markdown",
   "id": "e90c19fe",
   "metadata": {},
   "source": [
    "\n",
    "### 5 Inconsistancies\n",
    "Correct missspelling and false dataTypes"
   ]
  },
  {
   "cell_type": "code",
   "id": "c29748b7",
   "metadata": {
    "ExecuteTime": {
     "end_time": "2024-11-18T20:57:55.489910Z",
     "start_time": "2024-11-18T20:57:55.476380Z"
    }
   },
   "source": [
    "\n",
    "#data['session_date'] = pd.to_datetime(data['session_date'])  # Convert to datetime\n",
    "\n",
    "#ToDo: Check missspelling etc., dataTypes have been done above -> Paul"
   ],
   "outputs": [],
   "execution_count": 185
  },
  {
   "cell_type": "markdown",
   "id": "37d32091",
   "metadata": {},
   "source": [
    "### 6 Final review\n",
    "Look again for missing, errorous, and inconsistant data"
   ]
  },
  {
   "cell_type": "code",
   "id": "93e7063a",
   "metadata": {
    "ExecuteTime": {
     "end_time": "2024-11-18T20:57:55.598192Z",
     "start_time": "2024-11-18T20:57:55.584666Z"
    }
   },
   "source": [
    "# Todo: Code"
   ],
   "outputs": [],
   "execution_count": 186
  }
 ],
 "metadata": {
  "kernelspec": {
   "display_name": "DynamoData",
   "language": "python",
   "name": "python3"
  },
  "language_info": {
   "codemirror_mode": {
    "name": "ipython",
    "version": 3
   },
   "file_extension": ".py",
   "mimetype": "text/x-python",
   "name": "python",
   "nbconvert_exporter": "python",
   "pygments_lexer": "ipython3",
   "version": "3.10.15"
  }
 },
 "nbformat": 4,
 "nbformat_minor": 5
}

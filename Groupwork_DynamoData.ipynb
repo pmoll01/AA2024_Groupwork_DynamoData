{
 "cells": [
  {
   "cell_type": "markdown",
   "id": "c27ad69bf5107975",
   "metadata": {},
   "source": [
    "# Jupiter Notebook for Groupwork in AA 2024"
   ]
  },
  {
   "cell_type": "markdown",
   "id": "22582ba9",
   "metadata": {},
   "source": [
    "#### Import Libraries"
   ]
  },
  {
   "cell_type": "code",
   "id": "15d77123-948d-4006-b65c-b4d7976c397f",
   "metadata": {
    "ExecuteTime": {
     "end_time": "2024-11-28T19:18:39.455441Z",
     "start_time": "2024-11-28T19:18:39.453872Z"
    }
   },
   "source": [
    "import os\n",
    "import pandas as pd\n",
    "import seaborn as sns\n",
    "import matplotlib.pyplot as plt\n",
    "from IPython.display import display\n",
    "from datetime import timedelta\n",
    "import json\n",
    "import numpy as np\n",
    "import pickle\n",
    "\n"
   ],
   "outputs": [],
   "execution_count": 1
  },
  {
   "cell_type": "markdown",
   "id": "cae054cb",
   "metadata": {},
   "source": [
    "### 1 Load and Explore Data:"
   ]
  },
  {
   "cell_type": "code",
   "id": "504f30ea",
   "metadata": {
    "ExecuteTime": {
     "end_time": "2024-11-28T19:18:39.747684Z",
     "start_time": "2024-11-28T19:18:39.479949Z"
    }
   },
   "source": [
    "# Load csv-files independently of the operating system (mac or windows or linux) in a pandas dataframe\n",
    "charging_data = pd.read_csv(os.path.join('Data', 'charging_sessions.csv'))\n",
    "weather_data = pd.read_csv(os.path.join('Data', 'weather_burbank_airport.csv'))\n",
    "\n",
    "charging_data = charging_data.rename(columns={'Unnamed: 0': 'counter'})\n",
    "charging_data.info()"
   ],
   "outputs": [
    {
     "name": "stdout",
     "output_type": "stream",
     "text": [
      "<class 'pandas.core.frame.DataFrame'>\n",
      "RangeIndex: 66450 entries, 0 to 66449\n",
      "Data columns (total 13 columns):\n",
      " #   Column            Non-Null Count  Dtype  \n",
      "---  ------            --------------  -----  \n",
      " 0   counter           66450 non-null  int64  \n",
      " 1   id                66450 non-null  object \n",
      " 2   connectionTime    66450 non-null  object \n",
      " 3   disconnectTime    66450 non-null  object \n",
      " 4   doneChargingTime  62362 non-null  object \n",
      " 5   kWhDelivered      66450 non-null  float64\n",
      " 6   sessionID         66450 non-null  object \n",
      " 7   siteID            66450 non-null  int64  \n",
      " 8   spaceID           66450 non-null  object \n",
      " 9   stationID         66450 non-null  object \n",
      " 10  timezone          66450 non-null  object \n",
      " 11  userID            49187 non-null  float64\n",
      " 12  userInputs        49187 non-null  object \n",
      "dtypes: float64(2), int64(2), object(9)\n",
      "memory usage: 6.6+ MB\n"
     ]
    }
   ],
   "execution_count": 2
  },
  {
   "cell_type": "code",
   "id": "90af7e9974f51449",
   "metadata": {
    "ExecuteTime": {
     "end_time": "2024-11-28T19:18:39.859424Z",
     "start_time": "2024-11-28T19:18:39.853845Z"
    }
   },
   "source": [
    "weather_data.info()"
   ],
   "outputs": [
    {
     "name": "stdout",
     "output_type": "stream",
     "text": [
      "<class 'pandas.core.frame.DataFrame'>\n",
      "RangeIndex: 29244 entries, 0 to 29243\n",
      "Data columns (total 9 columns):\n",
      " #   Column                   Non-Null Count  Dtype  \n",
      "---  ------                   --------------  -----  \n",
      " 0   city                     29244 non-null  object \n",
      " 1   timestamp                29244 non-null  object \n",
      " 2   temperature              29219 non-null  float64\n",
      " 3   cloud_cover              29224 non-null  float64\n",
      " 4   cloud_cover_description  29224 non-null  object \n",
      " 5   pressure                 29236 non-null  float64\n",
      " 6   windspeed                29158 non-null  float64\n",
      " 7   precipitation            29244 non-null  float64\n",
      " 8   felt_temperature         29218 non-null  float64\n",
      "dtypes: float64(6), object(3)\n",
      "memory usage: 2.0+ MB\n"
     ]
    }
   ],
   "execution_count": 3
  },
  {
   "cell_type": "code",
   "id": "c059a5b3cf8da10c",
   "metadata": {
    "ExecuteTime": {
     "end_time": "2024-11-28T19:18:39.885796Z",
     "start_time": "2024-11-28T19:18:39.878627Z"
    }
   },
   "source": [
    "# How do the charging data records look like?\n",
    "charging_data.head()"
   ],
   "outputs": [
    {
     "data": {
      "text/plain": [
       "   counter                        id             connectionTime  \\\n",
       "0        0  5e23b149f9af8b5fe4b973cf  2020-01-02 13:08:54+00:00   \n",
       "1        1  5e23b149f9af8b5fe4b973d0  2020-01-02 13:36:50+00:00   \n",
       "2        2  5e23b149f9af8b5fe4b973d1  2020-01-02 13:56:35+00:00   \n",
       "3        3  5e23b149f9af8b5fe4b973d2  2020-01-02 13:59:58+00:00   \n",
       "4        4  5e23b149f9af8b5fe4b973d3  2020-01-02 14:00:01+00:00   \n",
       "\n",
       "              disconnectTime           doneChargingTime  kWhDelivered  \\\n",
       "0  2020-01-02 19:11:15+00:00  2020-01-02 17:31:35+00:00        25.016   \n",
       "1  2020-01-02 22:38:21+00:00  2020-01-02 20:18:05+00:00        33.097   \n",
       "2  2020-01-03 00:39:22+00:00  2020-01-02 16:35:06+00:00         6.521   \n",
       "3  2020-01-02 16:38:39+00:00  2020-01-02 15:18:45+00:00         2.355   \n",
       "4  2020-01-02 22:08:40+00:00  2020-01-02 18:17:30+00:00        13.375   \n",
       "\n",
       "                                sessionID  siteID  spaceID    stationID  \\\n",
       "0  1_1_179_810_2020-01-02 13:08:53.870034       1  AG-3F30  1-1-179-810   \n",
       "1  1_1_193_825_2020-01-02 13:36:49.599853       1  AG-1F01  1-1-193-825   \n",
       "2  1_1_193_829_2020-01-02 13:56:35.214993       1  AG-1F03  1-1-193-829   \n",
       "3  1_1_193_820_2020-01-02 13:59:58.309319       1  AG-1F04  1-1-193-820   \n",
       "4  1_1_193_819_2020-01-02 14:00:00.779967       1  AG-1F06  1-1-193-819   \n",
       "\n",
       "              timezone  userID  \\\n",
       "0  America/Los_Angeles   194.0   \n",
       "1  America/Los_Angeles  4275.0   \n",
       "2  America/Los_Angeles   344.0   \n",
       "3  America/Los_Angeles  1117.0   \n",
       "4  America/Los_Angeles   334.0   \n",
       "\n",
       "                                          userInputs  \n",
       "0  [{'WhPerMile': 250, 'kWhRequested': 25.0, 'mil...  \n",
       "1  [{'WhPerMile': 280, 'kWhRequested': 70.0, 'mil...  \n",
       "2  [{'WhPerMile': 400, 'kWhRequested': 8.0, 'mile...  \n",
       "3  [{'WhPerMile': 400, 'kWhRequested': 8.0, 'mile...  \n",
       "4  [{'WhPerMile': 400, 'kWhRequested': 16.0, 'mil...  "
      ],
      "text/html": [
       "<div>\n",
       "<style scoped>\n",
       "    .dataframe tbody tr th:only-of-type {\n",
       "        vertical-align: middle;\n",
       "    }\n",
       "\n",
       "    .dataframe tbody tr th {\n",
       "        vertical-align: top;\n",
       "    }\n",
       "\n",
       "    .dataframe thead th {\n",
       "        text-align: right;\n",
       "    }\n",
       "</style>\n",
       "<table border=\"1\" class=\"dataframe\">\n",
       "  <thead>\n",
       "    <tr style=\"text-align: right;\">\n",
       "      <th></th>\n",
       "      <th>counter</th>\n",
       "      <th>id</th>\n",
       "      <th>connectionTime</th>\n",
       "      <th>disconnectTime</th>\n",
       "      <th>doneChargingTime</th>\n",
       "      <th>kWhDelivered</th>\n",
       "      <th>sessionID</th>\n",
       "      <th>siteID</th>\n",
       "      <th>spaceID</th>\n",
       "      <th>stationID</th>\n",
       "      <th>timezone</th>\n",
       "      <th>userID</th>\n",
       "      <th>userInputs</th>\n",
       "    </tr>\n",
       "  </thead>\n",
       "  <tbody>\n",
       "    <tr>\n",
       "      <th>0</th>\n",
       "      <td>0</td>\n",
       "      <td>5e23b149f9af8b5fe4b973cf</td>\n",
       "      <td>2020-01-02 13:08:54+00:00</td>\n",
       "      <td>2020-01-02 19:11:15+00:00</td>\n",
       "      <td>2020-01-02 17:31:35+00:00</td>\n",
       "      <td>25.016</td>\n",
       "      <td>1_1_179_810_2020-01-02 13:08:53.870034</td>\n",
       "      <td>1</td>\n",
       "      <td>AG-3F30</td>\n",
       "      <td>1-1-179-810</td>\n",
       "      <td>America/Los_Angeles</td>\n",
       "      <td>194.0</td>\n",
       "      <td>[{'WhPerMile': 250, 'kWhRequested': 25.0, 'mil...</td>\n",
       "    </tr>\n",
       "    <tr>\n",
       "      <th>1</th>\n",
       "      <td>1</td>\n",
       "      <td>5e23b149f9af8b5fe4b973d0</td>\n",
       "      <td>2020-01-02 13:36:50+00:00</td>\n",
       "      <td>2020-01-02 22:38:21+00:00</td>\n",
       "      <td>2020-01-02 20:18:05+00:00</td>\n",
       "      <td>33.097</td>\n",
       "      <td>1_1_193_825_2020-01-02 13:36:49.599853</td>\n",
       "      <td>1</td>\n",
       "      <td>AG-1F01</td>\n",
       "      <td>1-1-193-825</td>\n",
       "      <td>America/Los_Angeles</td>\n",
       "      <td>4275.0</td>\n",
       "      <td>[{'WhPerMile': 280, 'kWhRequested': 70.0, 'mil...</td>\n",
       "    </tr>\n",
       "    <tr>\n",
       "      <th>2</th>\n",
       "      <td>2</td>\n",
       "      <td>5e23b149f9af8b5fe4b973d1</td>\n",
       "      <td>2020-01-02 13:56:35+00:00</td>\n",
       "      <td>2020-01-03 00:39:22+00:00</td>\n",
       "      <td>2020-01-02 16:35:06+00:00</td>\n",
       "      <td>6.521</td>\n",
       "      <td>1_1_193_829_2020-01-02 13:56:35.214993</td>\n",
       "      <td>1</td>\n",
       "      <td>AG-1F03</td>\n",
       "      <td>1-1-193-829</td>\n",
       "      <td>America/Los_Angeles</td>\n",
       "      <td>344.0</td>\n",
       "      <td>[{'WhPerMile': 400, 'kWhRequested': 8.0, 'mile...</td>\n",
       "    </tr>\n",
       "    <tr>\n",
       "      <th>3</th>\n",
       "      <td>3</td>\n",
       "      <td>5e23b149f9af8b5fe4b973d2</td>\n",
       "      <td>2020-01-02 13:59:58+00:00</td>\n",
       "      <td>2020-01-02 16:38:39+00:00</td>\n",
       "      <td>2020-01-02 15:18:45+00:00</td>\n",
       "      <td>2.355</td>\n",
       "      <td>1_1_193_820_2020-01-02 13:59:58.309319</td>\n",
       "      <td>1</td>\n",
       "      <td>AG-1F04</td>\n",
       "      <td>1-1-193-820</td>\n",
       "      <td>America/Los_Angeles</td>\n",
       "      <td>1117.0</td>\n",
       "      <td>[{'WhPerMile': 400, 'kWhRequested': 8.0, 'mile...</td>\n",
       "    </tr>\n",
       "    <tr>\n",
       "      <th>4</th>\n",
       "      <td>4</td>\n",
       "      <td>5e23b149f9af8b5fe4b973d3</td>\n",
       "      <td>2020-01-02 14:00:01+00:00</td>\n",
       "      <td>2020-01-02 22:08:40+00:00</td>\n",
       "      <td>2020-01-02 18:17:30+00:00</td>\n",
       "      <td>13.375</td>\n",
       "      <td>1_1_193_819_2020-01-02 14:00:00.779967</td>\n",
       "      <td>1</td>\n",
       "      <td>AG-1F06</td>\n",
       "      <td>1-1-193-819</td>\n",
       "      <td>America/Los_Angeles</td>\n",
       "      <td>334.0</td>\n",
       "      <td>[{'WhPerMile': 400, 'kWhRequested': 16.0, 'mil...</td>\n",
       "    </tr>\n",
       "  </tbody>\n",
       "</table>\n",
       "</div>"
      ]
     },
     "execution_count": 4,
     "metadata": {},
     "output_type": "execute_result"
    }
   ],
   "execution_count": 4
  },
  {
   "cell_type": "code",
   "id": "d0a394af07d1dd0c",
   "metadata": {
    "ExecuteTime": {
     "end_time": "2024-11-28T19:18:39.988344Z",
     "start_time": "2024-11-28T19:18:39.981885Z"
    }
   },
   "source": [
    "# How do the weather data records look like?\n",
    "weather_data.head()"
   ],
   "outputs": [
    {
     "data": {
      "text/plain": [
       "      city            timestamp  temperature  cloud_cover  \\\n",
       "0  Burbank  2018-01-01 08:53:00          9.0         33.0   \n",
       "1  Burbank  2018-01-01 09:53:00          9.0         33.0   \n",
       "2  Burbank  2018-01-01 10:53:00          9.0         21.0   \n",
       "3  Burbank  2018-01-01 11:53:00          9.0         29.0   \n",
       "4  Burbank  2018-01-01 12:53:00          8.0         33.0   \n",
       "\n",
       "  cloud_cover_description  pressure  windspeed  precipitation  \\\n",
       "0                    Fair    991.75        9.0            0.0   \n",
       "1                    Fair    992.08        0.0            0.0   \n",
       "2                    Haze    992.08        0.0            0.0   \n",
       "3           Partly Cloudy    992.08        0.0            0.0   \n",
       "4                    Fair    992.08        0.0            0.0   \n",
       "\n",
       "   felt_temperature  \n",
       "0               8.0  \n",
       "1               9.0  \n",
       "2               9.0  \n",
       "3               9.0  \n",
       "4               8.0  "
      ],
      "text/html": [
       "<div>\n",
       "<style scoped>\n",
       "    .dataframe tbody tr th:only-of-type {\n",
       "        vertical-align: middle;\n",
       "    }\n",
       "\n",
       "    .dataframe tbody tr th {\n",
       "        vertical-align: top;\n",
       "    }\n",
       "\n",
       "    .dataframe thead th {\n",
       "        text-align: right;\n",
       "    }\n",
       "</style>\n",
       "<table border=\"1\" class=\"dataframe\">\n",
       "  <thead>\n",
       "    <tr style=\"text-align: right;\">\n",
       "      <th></th>\n",
       "      <th>city</th>\n",
       "      <th>timestamp</th>\n",
       "      <th>temperature</th>\n",
       "      <th>cloud_cover</th>\n",
       "      <th>cloud_cover_description</th>\n",
       "      <th>pressure</th>\n",
       "      <th>windspeed</th>\n",
       "      <th>precipitation</th>\n",
       "      <th>felt_temperature</th>\n",
       "    </tr>\n",
       "  </thead>\n",
       "  <tbody>\n",
       "    <tr>\n",
       "      <th>0</th>\n",
       "      <td>Burbank</td>\n",
       "      <td>2018-01-01 08:53:00</td>\n",
       "      <td>9.0</td>\n",
       "      <td>33.0</td>\n",
       "      <td>Fair</td>\n",
       "      <td>991.75</td>\n",
       "      <td>9.0</td>\n",
       "      <td>0.0</td>\n",
       "      <td>8.0</td>\n",
       "    </tr>\n",
       "    <tr>\n",
       "      <th>1</th>\n",
       "      <td>Burbank</td>\n",
       "      <td>2018-01-01 09:53:00</td>\n",
       "      <td>9.0</td>\n",
       "      <td>33.0</td>\n",
       "      <td>Fair</td>\n",
       "      <td>992.08</td>\n",
       "      <td>0.0</td>\n",
       "      <td>0.0</td>\n",
       "      <td>9.0</td>\n",
       "    </tr>\n",
       "    <tr>\n",
       "      <th>2</th>\n",
       "      <td>Burbank</td>\n",
       "      <td>2018-01-01 10:53:00</td>\n",
       "      <td>9.0</td>\n",
       "      <td>21.0</td>\n",
       "      <td>Haze</td>\n",
       "      <td>992.08</td>\n",
       "      <td>0.0</td>\n",
       "      <td>0.0</td>\n",
       "      <td>9.0</td>\n",
       "    </tr>\n",
       "    <tr>\n",
       "      <th>3</th>\n",
       "      <td>Burbank</td>\n",
       "      <td>2018-01-01 11:53:00</td>\n",
       "      <td>9.0</td>\n",
       "      <td>29.0</td>\n",
       "      <td>Partly Cloudy</td>\n",
       "      <td>992.08</td>\n",
       "      <td>0.0</td>\n",
       "      <td>0.0</td>\n",
       "      <td>9.0</td>\n",
       "    </tr>\n",
       "    <tr>\n",
       "      <th>4</th>\n",
       "      <td>Burbank</td>\n",
       "      <td>2018-01-01 12:53:00</td>\n",
       "      <td>8.0</td>\n",
       "      <td>33.0</td>\n",
       "      <td>Fair</td>\n",
       "      <td>992.08</td>\n",
       "      <td>0.0</td>\n",
       "      <td>0.0</td>\n",
       "      <td>8.0</td>\n",
       "    </tr>\n",
       "  </tbody>\n",
       "</table>\n",
       "</div>"
      ]
     },
     "execution_count": 5,
     "metadata": {},
     "output_type": "execute_result"
    }
   ],
   "execution_count": 5
  },
  {
   "cell_type": "code",
   "id": "4fb4a7860ce93e5b",
   "metadata": {
    "ExecuteTime": {
     "end_time": "2024-11-28T19:18:40.061473Z",
     "start_time": "2024-11-28T19:18:40.046521Z"
    }
   },
   "source": [
    "# .describe() function only analyses numerical columns\n",
    "charging_data.describe()"
   ],
   "outputs": [
    {
     "data": {
      "text/plain": [
       "            counter  kWhDelivered        siteID        userID\n",
       "count  66450.000000  66450.000000  66450.000000  49187.000000\n",
       "mean    4726.102062     11.787916      1.472656   1800.494582\n",
       "std     3568.025394     10.314789      0.499256   2617.548614\n",
       "min        0.000000      0.501000      1.000000      1.000000\n",
       "25%     1845.000000      5.097000      1.000000    431.000000\n",
       "50%     3960.000000      9.140000      1.000000    818.000000\n",
       "75%     7027.000000     14.183000      2.000000   1805.000000\n",
       "max    15291.000000    108.797242      2.000000  19923.000000"
      ],
      "text/html": [
       "<div>\n",
       "<style scoped>\n",
       "    .dataframe tbody tr th:only-of-type {\n",
       "        vertical-align: middle;\n",
       "    }\n",
       "\n",
       "    .dataframe tbody tr th {\n",
       "        vertical-align: top;\n",
       "    }\n",
       "\n",
       "    .dataframe thead th {\n",
       "        text-align: right;\n",
       "    }\n",
       "</style>\n",
       "<table border=\"1\" class=\"dataframe\">\n",
       "  <thead>\n",
       "    <tr style=\"text-align: right;\">\n",
       "      <th></th>\n",
       "      <th>counter</th>\n",
       "      <th>kWhDelivered</th>\n",
       "      <th>siteID</th>\n",
       "      <th>userID</th>\n",
       "    </tr>\n",
       "  </thead>\n",
       "  <tbody>\n",
       "    <tr>\n",
       "      <th>count</th>\n",
       "      <td>66450.000000</td>\n",
       "      <td>66450.000000</td>\n",
       "      <td>66450.000000</td>\n",
       "      <td>49187.000000</td>\n",
       "    </tr>\n",
       "    <tr>\n",
       "      <th>mean</th>\n",
       "      <td>4726.102062</td>\n",
       "      <td>11.787916</td>\n",
       "      <td>1.472656</td>\n",
       "      <td>1800.494582</td>\n",
       "    </tr>\n",
       "    <tr>\n",
       "      <th>std</th>\n",
       "      <td>3568.025394</td>\n",
       "      <td>10.314789</td>\n",
       "      <td>0.499256</td>\n",
       "      <td>2617.548614</td>\n",
       "    </tr>\n",
       "    <tr>\n",
       "      <th>min</th>\n",
       "      <td>0.000000</td>\n",
       "      <td>0.501000</td>\n",
       "      <td>1.000000</td>\n",
       "      <td>1.000000</td>\n",
       "    </tr>\n",
       "    <tr>\n",
       "      <th>25%</th>\n",
       "      <td>1845.000000</td>\n",
       "      <td>5.097000</td>\n",
       "      <td>1.000000</td>\n",
       "      <td>431.000000</td>\n",
       "    </tr>\n",
       "    <tr>\n",
       "      <th>50%</th>\n",
       "      <td>3960.000000</td>\n",
       "      <td>9.140000</td>\n",
       "      <td>1.000000</td>\n",
       "      <td>818.000000</td>\n",
       "    </tr>\n",
       "    <tr>\n",
       "      <th>75%</th>\n",
       "      <td>7027.000000</td>\n",
       "      <td>14.183000</td>\n",
       "      <td>2.000000</td>\n",
       "      <td>1805.000000</td>\n",
       "    </tr>\n",
       "    <tr>\n",
       "      <th>max</th>\n",
       "      <td>15291.000000</td>\n",
       "      <td>108.797242</td>\n",
       "      <td>2.000000</td>\n",
       "      <td>19923.000000</td>\n",
       "    </tr>\n",
       "  </tbody>\n",
       "</table>\n",
       "</div>"
      ]
     },
     "execution_count": 6,
     "metadata": {},
     "output_type": "execute_result"
    }
   ],
   "execution_count": 6
  },
  {
   "cell_type": "code",
   "id": "cbb51e33ec852a60",
   "metadata": {
    "ExecuteTime": {
     "end_time": "2024-11-28T19:18:40.176648Z",
     "start_time": "2024-11-28T19:18:40.166020Z"
    }
   },
   "source": [
    "# .describe() function only analyses numerical columns\n",
    "weather_data.describe()"
   ],
   "outputs": [
    {
     "data": {
      "text/plain": [
       "        temperature   cloud_cover      pressure     windspeed  precipitation  \\\n",
       "count  29219.000000  29224.000000  29236.000000  29158.000000   29244.000000   \n",
       "mean      17.885622     30.107993    986.879400      8.566568       0.059360   \n",
       "std        6.454604      5.400388      3.607065      6.699889       0.471682   \n",
       "min        2.000000      4.000000    971.000000      0.000000       0.000000   \n",
       "25%       13.000000     26.000000    984.500000      6.000000       0.000000   \n",
       "50%       17.000000     33.000000    986.480000      7.000000       0.000000   \n",
       "75%       22.000000     34.000000    989.110000     13.000000       0.000000   \n",
       "max       46.000000     47.000000    999.650000     57.000000      18.540000   \n",
       "\n",
       "       felt_temperature  \n",
       "count      29218.000000  \n",
       "mean          17.731433  \n",
       "std            6.321100  \n",
       "min            0.000000  \n",
       "25%           13.000000  \n",
       "50%           17.000000  \n",
       "75%           22.000000  \n",
       "max           42.000000  "
      ],
      "text/html": [
       "<div>\n",
       "<style scoped>\n",
       "    .dataframe tbody tr th:only-of-type {\n",
       "        vertical-align: middle;\n",
       "    }\n",
       "\n",
       "    .dataframe tbody tr th {\n",
       "        vertical-align: top;\n",
       "    }\n",
       "\n",
       "    .dataframe thead th {\n",
       "        text-align: right;\n",
       "    }\n",
       "</style>\n",
       "<table border=\"1\" class=\"dataframe\">\n",
       "  <thead>\n",
       "    <tr style=\"text-align: right;\">\n",
       "      <th></th>\n",
       "      <th>temperature</th>\n",
       "      <th>cloud_cover</th>\n",
       "      <th>pressure</th>\n",
       "      <th>windspeed</th>\n",
       "      <th>precipitation</th>\n",
       "      <th>felt_temperature</th>\n",
       "    </tr>\n",
       "  </thead>\n",
       "  <tbody>\n",
       "    <tr>\n",
       "      <th>count</th>\n",
       "      <td>29219.000000</td>\n",
       "      <td>29224.000000</td>\n",
       "      <td>29236.000000</td>\n",
       "      <td>29158.000000</td>\n",
       "      <td>29244.000000</td>\n",
       "      <td>29218.000000</td>\n",
       "    </tr>\n",
       "    <tr>\n",
       "      <th>mean</th>\n",
       "      <td>17.885622</td>\n",
       "      <td>30.107993</td>\n",
       "      <td>986.879400</td>\n",
       "      <td>8.566568</td>\n",
       "      <td>0.059360</td>\n",
       "      <td>17.731433</td>\n",
       "    </tr>\n",
       "    <tr>\n",
       "      <th>std</th>\n",
       "      <td>6.454604</td>\n",
       "      <td>5.400388</td>\n",
       "      <td>3.607065</td>\n",
       "      <td>6.699889</td>\n",
       "      <td>0.471682</td>\n",
       "      <td>6.321100</td>\n",
       "    </tr>\n",
       "    <tr>\n",
       "      <th>min</th>\n",
       "      <td>2.000000</td>\n",
       "      <td>4.000000</td>\n",
       "      <td>971.000000</td>\n",
       "      <td>0.000000</td>\n",
       "      <td>0.000000</td>\n",
       "      <td>0.000000</td>\n",
       "    </tr>\n",
       "    <tr>\n",
       "      <th>25%</th>\n",
       "      <td>13.000000</td>\n",
       "      <td>26.000000</td>\n",
       "      <td>984.500000</td>\n",
       "      <td>6.000000</td>\n",
       "      <td>0.000000</td>\n",
       "      <td>13.000000</td>\n",
       "    </tr>\n",
       "    <tr>\n",
       "      <th>50%</th>\n",
       "      <td>17.000000</td>\n",
       "      <td>33.000000</td>\n",
       "      <td>986.480000</td>\n",
       "      <td>7.000000</td>\n",
       "      <td>0.000000</td>\n",
       "      <td>17.000000</td>\n",
       "    </tr>\n",
       "    <tr>\n",
       "      <th>75%</th>\n",
       "      <td>22.000000</td>\n",
       "      <td>34.000000</td>\n",
       "      <td>989.110000</td>\n",
       "      <td>13.000000</td>\n",
       "      <td>0.000000</td>\n",
       "      <td>22.000000</td>\n",
       "    </tr>\n",
       "    <tr>\n",
       "      <th>max</th>\n",
       "      <td>46.000000</td>\n",
       "      <td>47.000000</td>\n",
       "      <td>999.650000</td>\n",
       "      <td>57.000000</td>\n",
       "      <td>18.540000</td>\n",
       "      <td>42.000000</td>\n",
       "    </tr>\n",
       "  </tbody>\n",
       "</table>\n",
       "</div>"
      ]
     },
     "execution_count": 7,
     "metadata": {},
     "output_type": "execute_result"
    }
   ],
   "execution_count": 7
  },
  {
   "metadata": {},
   "cell_type": "markdown",
   "source": "### 2 Data Preparation",
   "id": "7aec3268abe2bb54"
  },
  {
   "metadata": {},
   "cell_type": "markdown",
   "source": "#### 2.1 Identifying duplicates",
   "id": "d4d23c83"
  },
  {
   "metadata": {
    "ExecuteTime": {
     "end_time": "2024-11-28T19:18:40.337788Z",
     "start_time": "2024-11-28T19:18:40.279419Z"
    }
   },
   "cell_type": "code",
   "source": [
    "charging_data_duplicates = charging_data.duplicated().sum()\n",
    "weather_data_duplicates = weather_data.duplicated().sum()\n",
    "# Display the duplicate rows (if any)\n",
    "print(\"Duplicate rows:\\n charging data -> {}\\n weather data -> {}\".format(charging_data_duplicates,\n",
    "                                                                          weather_data_duplicates))\n"
   ],
   "id": "d33eeb81",
   "outputs": [
    {
     "name": "stdout",
     "output_type": "stream",
     "text": [
      "Duplicate rows:\n",
      " charging data -> 0\n",
      " weather data -> 0\n"
     ]
    }
   ],
   "execution_count": 8
  },
  {
   "metadata": {},
   "cell_type": "markdown",
   "source": [
    "#### 2.2 Transform Datatypes\n",
    "Format the datatypes of the columns to those described in the Team Assignment PDF"
   ],
   "id": "477e7ebca133c409"
  },
  {
   "metadata": {
    "ExecuteTime": {
     "end_time": "2024-11-28T19:18:40.623030Z",
     "start_time": "2024-11-28T19:18:40.450796Z"
    }
   },
   "cell_type": "code",
   "source": [
    "# Charging Data\n",
    "# Ist eine explizite Zuweisung des datatypes \"string\" notwendig bei columns die schon \"object\" als datatype haben?\n",
    "charging_data['connectionTime'] = pd.to_datetime(charging_data['connectionTime'])\n",
    "charging_data['disconnectTime'] = pd.to_datetime(charging_data['disconnectTime'])\n",
    "charging_data['doneChargingTime'] = pd.to_datetime(charging_data['doneChargingTime'])\n",
    "charging_data['siteID'] = charging_data['siteID'].astype(str)\n",
    "#charging_data['userID'] = charging_data['userID'].astype(str) --> ggf erst nach den missing data korrigeren, da dann kein nan/none eingefügt wird\n",
    "charging_data['userInputs'] = charging_data['userInputs'].astype(str)\n",
    "\n",
    "# Team Assignment PDF: \"All datetimes are in UTC (GMT) see timezone field for the correct timezone of the site.\"\n",
    "# -> Therefore we have to convert the connectionTime, disconnectTime and doneChargingTime to timezone PST (pacific standard time) as the sites are located in Los Angeles.\n",
    "charging_data['connectionTime'] = charging_data['connectionTime'].dt.tz_convert(tz='America/Los_Angeles')\n",
    "charging_data['disconnectTime'] = charging_data['disconnectTime'].dt.tz_convert(tz='America/Los_Angeles')\n",
    "charging_data['doneChargingTime'] = charging_data['doneChargingTime'].dt.tz_convert(tz='America/Los_Angeles')\n",
    "charging_data.info()"
   ],
   "id": "b1b643b89c13ab27",
   "outputs": [
    {
     "name": "stdout",
     "output_type": "stream",
     "text": [
      "<class 'pandas.core.frame.DataFrame'>\n",
      "RangeIndex: 66450 entries, 0 to 66449\n",
      "Data columns (total 13 columns):\n",
      " #   Column            Non-Null Count  Dtype                              \n",
      "---  ------            --------------  -----                              \n",
      " 0   counter           66450 non-null  int64                              \n",
      " 1   id                66450 non-null  object                             \n",
      " 2   connectionTime    66450 non-null  datetime64[ns, America/Los_Angeles]\n",
      " 3   disconnectTime    66450 non-null  datetime64[ns, America/Los_Angeles]\n",
      " 4   doneChargingTime  62362 non-null  datetime64[ns, America/Los_Angeles]\n",
      " 5   kWhDelivered      66450 non-null  float64                            \n",
      " 6   sessionID         66450 non-null  object                             \n",
      " 7   siteID            66450 non-null  object                             \n",
      " 8   spaceID           66450 non-null  object                             \n",
      " 9   stationID         66450 non-null  object                             \n",
      " 10  timezone          66450 non-null  object                             \n",
      " 11  userID            49187 non-null  float64                            \n",
      " 12  userInputs        66450 non-null  object                             \n",
      "dtypes: datetime64[ns, America/Los_Angeles](3), float64(2), int64(1), object(7)\n",
      "memory usage: 6.6+ MB\n"
     ]
    }
   ],
   "execution_count": 9
  },
  {
   "metadata": {
    "ExecuteTime": {
     "end_time": "2024-11-28T19:18:40.648859Z",
     "start_time": "2024-11-28T19:18:40.641912Z"
    }
   },
   "cell_type": "code",
   "source": [
    "# The offset of the columns connectionTime, disconnectTime and doneChargingTime is now -08:00 or -07:00 (summer) which is correct for timezone PST (Los Angeles)\n",
    "charging_data.head()"
   ],
   "id": "18e886e604999fef",
   "outputs": [
    {
     "data": {
      "text/plain": [
       "   counter                        id            connectionTime  \\\n",
       "0        0  5e23b149f9af8b5fe4b973cf 2020-01-02 05:08:54-08:00   \n",
       "1        1  5e23b149f9af8b5fe4b973d0 2020-01-02 05:36:50-08:00   \n",
       "2        2  5e23b149f9af8b5fe4b973d1 2020-01-02 05:56:35-08:00   \n",
       "3        3  5e23b149f9af8b5fe4b973d2 2020-01-02 05:59:58-08:00   \n",
       "4        4  5e23b149f9af8b5fe4b973d3 2020-01-02 06:00:01-08:00   \n",
       "\n",
       "             disconnectTime          doneChargingTime  kWhDelivered  \\\n",
       "0 2020-01-02 11:11:15-08:00 2020-01-02 09:31:35-08:00        25.016   \n",
       "1 2020-01-02 14:38:21-08:00 2020-01-02 12:18:05-08:00        33.097   \n",
       "2 2020-01-02 16:39:22-08:00 2020-01-02 08:35:06-08:00         6.521   \n",
       "3 2020-01-02 08:38:39-08:00 2020-01-02 07:18:45-08:00         2.355   \n",
       "4 2020-01-02 14:08:40-08:00 2020-01-02 10:17:30-08:00        13.375   \n",
       "\n",
       "                                sessionID siteID  spaceID    stationID  \\\n",
       "0  1_1_179_810_2020-01-02 13:08:53.870034      1  AG-3F30  1-1-179-810   \n",
       "1  1_1_193_825_2020-01-02 13:36:49.599853      1  AG-1F01  1-1-193-825   \n",
       "2  1_1_193_829_2020-01-02 13:56:35.214993      1  AG-1F03  1-1-193-829   \n",
       "3  1_1_193_820_2020-01-02 13:59:58.309319      1  AG-1F04  1-1-193-820   \n",
       "4  1_1_193_819_2020-01-02 14:00:00.779967      1  AG-1F06  1-1-193-819   \n",
       "\n",
       "              timezone  userID  \\\n",
       "0  America/Los_Angeles   194.0   \n",
       "1  America/Los_Angeles  4275.0   \n",
       "2  America/Los_Angeles   344.0   \n",
       "3  America/Los_Angeles  1117.0   \n",
       "4  America/Los_Angeles   334.0   \n",
       "\n",
       "                                          userInputs  \n",
       "0  [{'WhPerMile': 250, 'kWhRequested': 25.0, 'mil...  \n",
       "1  [{'WhPerMile': 280, 'kWhRequested': 70.0, 'mil...  \n",
       "2  [{'WhPerMile': 400, 'kWhRequested': 8.0, 'mile...  \n",
       "3  [{'WhPerMile': 400, 'kWhRequested': 8.0, 'mile...  \n",
       "4  [{'WhPerMile': 400, 'kWhRequested': 16.0, 'mil...  "
      ],
      "text/html": [
       "<div>\n",
       "<style scoped>\n",
       "    .dataframe tbody tr th:only-of-type {\n",
       "        vertical-align: middle;\n",
       "    }\n",
       "\n",
       "    .dataframe tbody tr th {\n",
       "        vertical-align: top;\n",
       "    }\n",
       "\n",
       "    .dataframe thead th {\n",
       "        text-align: right;\n",
       "    }\n",
       "</style>\n",
       "<table border=\"1\" class=\"dataframe\">\n",
       "  <thead>\n",
       "    <tr style=\"text-align: right;\">\n",
       "      <th></th>\n",
       "      <th>counter</th>\n",
       "      <th>id</th>\n",
       "      <th>connectionTime</th>\n",
       "      <th>disconnectTime</th>\n",
       "      <th>doneChargingTime</th>\n",
       "      <th>kWhDelivered</th>\n",
       "      <th>sessionID</th>\n",
       "      <th>siteID</th>\n",
       "      <th>spaceID</th>\n",
       "      <th>stationID</th>\n",
       "      <th>timezone</th>\n",
       "      <th>userID</th>\n",
       "      <th>userInputs</th>\n",
       "    </tr>\n",
       "  </thead>\n",
       "  <tbody>\n",
       "    <tr>\n",
       "      <th>0</th>\n",
       "      <td>0</td>\n",
       "      <td>5e23b149f9af8b5fe4b973cf</td>\n",
       "      <td>2020-01-02 05:08:54-08:00</td>\n",
       "      <td>2020-01-02 11:11:15-08:00</td>\n",
       "      <td>2020-01-02 09:31:35-08:00</td>\n",
       "      <td>25.016</td>\n",
       "      <td>1_1_179_810_2020-01-02 13:08:53.870034</td>\n",
       "      <td>1</td>\n",
       "      <td>AG-3F30</td>\n",
       "      <td>1-1-179-810</td>\n",
       "      <td>America/Los_Angeles</td>\n",
       "      <td>194.0</td>\n",
       "      <td>[{'WhPerMile': 250, 'kWhRequested': 25.0, 'mil...</td>\n",
       "    </tr>\n",
       "    <tr>\n",
       "      <th>1</th>\n",
       "      <td>1</td>\n",
       "      <td>5e23b149f9af8b5fe4b973d0</td>\n",
       "      <td>2020-01-02 05:36:50-08:00</td>\n",
       "      <td>2020-01-02 14:38:21-08:00</td>\n",
       "      <td>2020-01-02 12:18:05-08:00</td>\n",
       "      <td>33.097</td>\n",
       "      <td>1_1_193_825_2020-01-02 13:36:49.599853</td>\n",
       "      <td>1</td>\n",
       "      <td>AG-1F01</td>\n",
       "      <td>1-1-193-825</td>\n",
       "      <td>America/Los_Angeles</td>\n",
       "      <td>4275.0</td>\n",
       "      <td>[{'WhPerMile': 280, 'kWhRequested': 70.0, 'mil...</td>\n",
       "    </tr>\n",
       "    <tr>\n",
       "      <th>2</th>\n",
       "      <td>2</td>\n",
       "      <td>5e23b149f9af8b5fe4b973d1</td>\n",
       "      <td>2020-01-02 05:56:35-08:00</td>\n",
       "      <td>2020-01-02 16:39:22-08:00</td>\n",
       "      <td>2020-01-02 08:35:06-08:00</td>\n",
       "      <td>6.521</td>\n",
       "      <td>1_1_193_829_2020-01-02 13:56:35.214993</td>\n",
       "      <td>1</td>\n",
       "      <td>AG-1F03</td>\n",
       "      <td>1-1-193-829</td>\n",
       "      <td>America/Los_Angeles</td>\n",
       "      <td>344.0</td>\n",
       "      <td>[{'WhPerMile': 400, 'kWhRequested': 8.0, 'mile...</td>\n",
       "    </tr>\n",
       "    <tr>\n",
       "      <th>3</th>\n",
       "      <td>3</td>\n",
       "      <td>5e23b149f9af8b5fe4b973d2</td>\n",
       "      <td>2020-01-02 05:59:58-08:00</td>\n",
       "      <td>2020-01-02 08:38:39-08:00</td>\n",
       "      <td>2020-01-02 07:18:45-08:00</td>\n",
       "      <td>2.355</td>\n",
       "      <td>1_1_193_820_2020-01-02 13:59:58.309319</td>\n",
       "      <td>1</td>\n",
       "      <td>AG-1F04</td>\n",
       "      <td>1-1-193-820</td>\n",
       "      <td>America/Los_Angeles</td>\n",
       "      <td>1117.0</td>\n",
       "      <td>[{'WhPerMile': 400, 'kWhRequested': 8.0, 'mile...</td>\n",
       "    </tr>\n",
       "    <tr>\n",
       "      <th>4</th>\n",
       "      <td>4</td>\n",
       "      <td>5e23b149f9af8b5fe4b973d3</td>\n",
       "      <td>2020-01-02 06:00:01-08:00</td>\n",
       "      <td>2020-01-02 14:08:40-08:00</td>\n",
       "      <td>2020-01-02 10:17:30-08:00</td>\n",
       "      <td>13.375</td>\n",
       "      <td>1_1_193_819_2020-01-02 14:00:00.779967</td>\n",
       "      <td>1</td>\n",
       "      <td>AG-1F06</td>\n",
       "      <td>1-1-193-819</td>\n",
       "      <td>America/Los_Angeles</td>\n",
       "      <td>334.0</td>\n",
       "      <td>[{'WhPerMile': 400, 'kWhRequested': 16.0, 'mil...</td>\n",
       "    </tr>\n",
       "  </tbody>\n",
       "</table>\n",
       "</div>"
      ]
     },
     "execution_count": 10,
     "metadata": {},
     "output_type": "execute_result"
    }
   ],
   "execution_count": 10
  },
  {
   "metadata": {
    "ExecuteTime": {
     "end_time": "2024-11-28T19:19:05.770109Z",
     "start_time": "2024-11-28T19:18:40.682089Z"
    }
   },
   "cell_type": "code",
   "source": [
    "# Transforming the json-Strings in the userInputs column to Dataframes\n",
    "def parse_json_to_dataframe(json_string):\n",
    "    if json_string is not None and json_string != '' and json_string != 'nan':\n",
    "        cleaned_json = json_string.replace(\"'\", '\"')\n",
    "        cleaned_json = cleaned_json.replace(\"True\", '\"True\"')\n",
    "        cleaned_json = cleaned_json.replace(\"False\", '\"False\"')\n",
    "        data = json.loads(cleaned_json)\n",
    "        dataframe = pd.DataFrame(data)\n",
    "        #might as well just transform the date columns to the correct datatypes\n",
    "        dataframe['modifiedAt'] = pd.to_datetime(dataframe['modifiedAt'], format='%a, %d %b %Y %H:%M:%S %Z')\n",
    "        dataframe['modifiedAt'] = dataframe['modifiedAt'].dt.tz_convert(tz='America/Los_Angeles')\n",
    "        dataframe['requestedDeparture'] = pd.to_datetime(dataframe['requestedDeparture'], format='%a, %d %b %Y %H:%M:%S %Z')\n",
    "        dataframe['requestedDeparture'] = dataframe['requestedDeparture'].dt.tz_convert(tz='America/Los_Angeles')\n",
    "        return dataframe\n",
    "    else:\n",
    "        return None\n",
    "\n",
    "\n",
    "charging_data['userInputs'] = charging_data['userInputs'].apply(parse_json_to_dataframe)"
   ],
   "id": "eb0518da",
   "outputs": [],
   "execution_count": 11
  },
  {
   "metadata": {
    "ExecuteTime": {
     "end_time": "2024-11-28T19:19:05.803908Z",
     "start_time": "2024-11-28T19:19:05.800834Z"
    }
   },
   "cell_type": "code",
   "source": [
    "# check inner Dataframe\n",
    "dftest = charging_data['userInputs']\n",
    "print(dftest[3])"
   ],
   "id": "d485e84b4b2fccf3",
   "outputs": [
    {
     "name": "stdout",
     "output_type": "stream",
     "text": [
      "   WhPerMile  kWhRequested  milesRequested  minutesAvailable  \\\n",
      "0        400           8.0              20                65   \n",
      "1        400           8.0              20                65   \n",
      "\n",
      "                 modifiedAt paymentRequired        requestedDeparture  userID  \n",
      "0 2020-01-02 06:00:03-08:00            True 2020-01-02 07:04:58-08:00    1117  \n",
      "1 2020-01-02 06:00:19-08:00            True 2020-01-02 07:04:58-08:00    1117  \n"
     ]
    }
   ],
   "execution_count": 12
  },
  {
   "metadata": {
    "ExecuteTime": {
     "end_time": "2024-11-28T19:19:05.893302Z",
     "start_time": "2024-11-28T19:19:05.879459Z"
    }
   },
   "cell_type": "code",
   "source": [
    "# Weather Data\n",
    "weather_data['timestamp'] = pd.to_datetime(weather_data['timestamp'])\n",
    "# We assume that the weather data is already in the correct time zone (PST).\n",
    "weather_data.info()"
   ],
   "id": "b37fff816786d83e",
   "outputs": [
    {
     "name": "stdout",
     "output_type": "stream",
     "text": [
      "<class 'pandas.core.frame.DataFrame'>\n",
      "RangeIndex: 29244 entries, 0 to 29243\n",
      "Data columns (total 9 columns):\n",
      " #   Column                   Non-Null Count  Dtype         \n",
      "---  ------                   --------------  -----         \n",
      " 0   city                     29244 non-null  object        \n",
      " 1   timestamp                29244 non-null  datetime64[ns]\n",
      " 2   temperature              29219 non-null  float64       \n",
      " 3   cloud_cover              29224 non-null  float64       \n",
      " 4   cloud_cover_description  29224 non-null  object        \n",
      " 5   pressure                 29236 non-null  float64       \n",
      " 6   windspeed                29158 non-null  float64       \n",
      " 7   precipitation            29244 non-null  float64       \n",
      " 8   felt_temperature         29218 non-null  float64       \n",
      "dtypes: datetime64[ns](1), float64(6), object(2)\n",
      "memory usage: 2.0+ MB\n"
     ]
    }
   ],
   "execution_count": 13
  },
  {
   "metadata": {},
   "cell_type": "markdown",
   "source": "#### 2.3 Identifying missing data",
   "id": "5ca509b7694dee48"
  },
  {
   "metadata": {
    "ExecuteTime": {
     "end_time": "2024-11-28T19:19:05.985687Z",
     "start_time": "2024-11-28T19:19:05.952672Z"
    }
   },
   "cell_type": "code",
   "source": [
    "charging_missing_data = charging_data.isnull().sum()\n",
    "display(charging_missing_data[charging_missing_data > 0])\n",
    "\n",
    "weather_missing_data = weather_data.isnull().sum()\n",
    "display(weather_missing_data[weather_missing_data > 0])\n",
    "print(\"Number of unique lines with missing values: \" + str(weather_data.isnull().any(axis=1).sum()))"
   ],
   "id": "64595883",
   "outputs": [
    {
     "data": {
      "text/plain": [
       "doneChargingTime     4088\n",
       "userID              17263\n",
       "userInputs          17263\n",
       "dtype: int64"
      ]
     },
     "metadata": {},
     "output_type": "display_data"
    },
    {
     "data": {
      "text/plain": [
       "temperature                25\n",
       "cloud_cover                20\n",
       "cloud_cover_description    20\n",
       "pressure                    8\n",
       "windspeed                  86\n",
       "felt_temperature           26\n",
       "dtype: int64"
      ]
     },
     "metadata": {},
     "output_type": "display_data"
    },
    {
     "name": "stdout",
     "output_type": "stream",
     "text": [
      "Number of unique lines with missing values: 139\n"
     ]
    }
   ],
   "execution_count": 14
  },
  {
   "metadata": {},
   "cell_type": "markdown",
   "source": [
    "**Lets look at the missing values**<br>\n",
    "For `charging_data`:\n",
    "- `doneChargingTime`: We have 4088 missing values, that is 4088/66450=6,15%. Because we do not want to loose 6% of the data, we will replace the missing values with connectionTime + median charging time.\n",
    "- `userID`: We have 17263 missing values, that is 17263/66450=25,98%. We will replace them with null values (0.0).\n",
    "- `userInput`: We have 17263 missing values, that is 17263/66450=25,98%. We will replace them with null values (Null).\n",
    "\n",
    "For `weather_data`:\n",
    "- There are 139 lines with missing values through the data set. Because this is only 0,47%, we decided to drop these records."
   ],
   "id": "243f7f38"
  },
  {
   "metadata": {},
   "cell_type": "markdown",
   "source": "#### 2.4 Handling missing data",
   "id": "ce64fdf76529525b"
  },
  {
   "metadata": {
    "ExecuteTime": {
     "end_time": "2024-11-28T19:19:06.063842Z",
     "start_time": "2024-11-28T19:19:06.020929Z"
    }
   },
   "cell_type": "code",
   "source": [
    "## charging data\n",
    "# Calculate median charging time in seconds and round it\n",
    "# should we explain why we use the median instead of mean?\n",
    "median_charging_time = (charging_data['doneChargingTime'] - charging_data['connectionTime']).dt.total_seconds().median()\n",
    "median_charging_time = round(median_charging_time)  # Round the median charging time\n",
    "display(median_charging_time)\n",
    "\n",
    "# Make a copy to avoid modifying the original DataFrame\n",
    "charging_data_cleaned = charging_data.copy()\n",
    "\n",
    "# Fill 'doneChargingTime' NaNs with 'connectionTime' + median charging time\n",
    "charging_data_cleaned['doneChargingTime'] = charging_data_cleaned['doneChargingTime'].fillna(\n",
    "    charging_data_cleaned['connectionTime'] + pd.to_timedelta(median_charging_time, unit='s'))\n",
    "\n",
    "# Fill userID with empty String values -> Change if type changed\n",
    "charging_data_cleaned['userID'] = charging_data_cleaned['userID'].fillna('')\n",
    "\n",
    "\n",
    "# --> vielleicht: Transform Data type for userID erst nach den missing Data korrigieren\n",
    "\n",
    "display(charging_data_cleaned['userID'].info())\n",
    "charging_data_cleaned['userID'] = charging_data['userID'].fillna(0)\n",
    "#display(charging_data_cleaned['userID'].head(12))\n",
    "charging_data_cleaned['userID'] = charging_data_cleaned['userID'].astype(int)\n",
    "display(charging_data_cleaned['userID'].head(12))\n",
    "charging_data_cleaned['userID'] = charging_data_cleaned['userID'].astype(str)\n",
    "charging_data_cleaned['userID'] = charging_data_cleaned['userID'].replace('0', 'null')\n",
    "\n",
    "display(charging_data_cleaned['userID'].head(12))\n",
    "checkForValues = charging_data_cleaned[charging_data_cleaned['userID'] == 'null'].shape[0]\n",
    "print(\"Amount of null-Values should be equal to 17263 missing userIDs, amount of null-values: \", checkForValues) \n",
    "\n",
    "\n",
    "\n",
    "## weather data\n",
    "# Make a copy to avoid modifying the original DataFrame\n",
    "weather_data_cleaned = weather_data.copy()\n",
    "\n",
    "# Drop lines with missing values\n",
    "weather_data_cleaned = weather_data_cleaned.dropna()"
   ],
   "id": "e422a31b",
   "outputs": [
    {
     "data": {
      "text/plain": [
       "10022"
      ]
     },
     "metadata": {},
     "output_type": "display_data"
    },
    {
     "name": "stdout",
     "output_type": "stream",
     "text": [
      "<class 'pandas.core.series.Series'>\n",
      "RangeIndex: 66450 entries, 0 to 66449\n",
      "Series name: userID\n",
      "Non-Null Count  Dtype \n",
      "--------------  ----- \n",
      "66450 non-null  object\n",
      "dtypes: object(1)\n",
      "memory usage: 519.3+ KB\n"
     ]
    },
    {
     "data": {
      "text/plain": [
       "None"
      ]
     },
     "metadata": {},
     "output_type": "display_data"
    },
    {
     "data": {
      "text/plain": [
       "0      194\n",
       "1     4275\n",
       "2      344\n",
       "3     1117\n",
       "4      334\n",
       "5     3519\n",
       "6      933\n",
       "7     3737\n",
       "8      419\n",
       "9      651\n",
       "10    2020\n",
       "11       0\n",
       "Name: userID, dtype: int64"
      ]
     },
     "metadata": {},
     "output_type": "display_data"
    },
    {
     "data": {
      "text/plain": [
       "0      194\n",
       "1     4275\n",
       "2      344\n",
       "3     1117\n",
       "4      334\n",
       "5     3519\n",
       "6      933\n",
       "7     3737\n",
       "8      419\n",
       "9      651\n",
       "10    2020\n",
       "11    null\n",
       "Name: userID, dtype: object"
      ]
     },
     "metadata": {},
     "output_type": "display_data"
    },
    {
     "name": "stdout",
     "output_type": "stream",
     "text": [
      "Amount of null-Values should be equal to 17263 missing userIDs, amount of null-values:  17263\n"
     ]
    }
   ],
   "execution_count": 15
  },
  {
   "metadata": {},
   "cell_type": "markdown",
   "source": "### 3 Erroneous Data",
   "id": "4922561e6c790975"
  },
  {
   "cell_type": "markdown",
   "id": "d533857d",
   "metadata": {},
   "source": [
    "### ToDo Data correction: Disconnect time is before done charging time\n",
    "The data shows that in some cases the disconnectTime is before the doneChargingTime...thats an error...Solution If(DoneTime after DiscTime): DoneTime == DiscTime"
   ]
  },
  {
   "cell_type": "code",
   "id": "77238434e362d817",
   "metadata": {
    "ExecuteTime": {
     "end_time": "2024-11-28T19:19:06.106015Z",
     "start_time": "2024-11-28T19:19:06.101335Z"
    }
   },
   "source": [
    "\"\"\"\n",
    "tmp_check_doneChargingTime = charging_data[\n",
    "    charging_data['doneChargingTime'].isnull() & (charging_data['doneChargingTime_clean'] > charging_data['disconnectTime'])]\n",
    "print(tmp_check_doneChargingTime[['doneChargingTime', 'doneChargingTime_clean', 'disconnectTime']])\n",
    "# TODO: entpsrechende Einträge korrigieren oder in Zeile 15 schon abändern... oder vielleicht erst unter erroneous Data behandeln, um die anderen Einträge noch mitzunehmen?\n",
    "\"\"\"\n",
    "\n",
    "# Check whether disconnectTime is before connectionTime\n",
    "erroneous_disconnect_times = charging_data_cleaned[\n",
    "    charging_data['disconnectTime'] < charging_data_cleaned['connectionTime']]\n",
    "\n",
    "# Output the wrong lines\n",
    "erroneous_disconnect_times[['connectionTime', 'disconnectTime']]  # Empty = no disconnectTime after connectionTime\n"
   ],
   "outputs": [
    {
     "data": {
      "text/plain": [
       "Empty DataFrame\n",
       "Columns: [connectionTime, disconnectTime]\n",
       "Index: []"
      ],
      "text/html": [
       "<div>\n",
       "<style scoped>\n",
       "    .dataframe tbody tr th:only-of-type {\n",
       "        vertical-align: middle;\n",
       "    }\n",
       "\n",
       "    .dataframe tbody tr th {\n",
       "        vertical-align: top;\n",
       "    }\n",
       "\n",
       "    .dataframe thead th {\n",
       "        text-align: right;\n",
       "    }\n",
       "</style>\n",
       "<table border=\"1\" class=\"dataframe\">\n",
       "  <thead>\n",
       "    <tr style=\"text-align: right;\">\n",
       "      <th></th>\n",
       "      <th>connectionTime</th>\n",
       "      <th>disconnectTime</th>\n",
       "    </tr>\n",
       "  </thead>\n",
       "  <tbody>\n",
       "  </tbody>\n",
       "</table>\n",
       "</div>"
      ]
     },
     "execution_count": 16,
     "metadata": {},
     "output_type": "execute_result"
    }
   ],
   "execution_count": 16
  },
  {
   "cell_type": "code",
   "id": "413d51fccd2df871",
   "metadata": {
    "ExecuteTime": {
     "end_time": "2024-11-28T19:19:06.155112Z",
     "start_time": "2024-11-28T19:19:06.143879Z"
    }
   },
   "source": [
    "# Calculate the loading time in minutes\n",
    "charging_data_cleaned['charging_duration'] = ((charging_data_cleaned['doneChargingTime'] - charging_data_cleaned[\n",
    "    'connectionTime']).dt.total_seconds()) / 60\n",
    "\n",
    "# Calculate the total connection time in minutes\n",
    "charging_data_cleaned['connection_duration'] = ((charging_data_cleaned['disconnectTime'] - charging_data_cleaned[\n",
    "    'connectionTime']).dt.total_seconds()) / 60\n",
    "\n",
    "# Check whether the loading time is longer than the connection time\n",
    "erroneous_charging_times = charging_data_cleaned[\n",
    "    charging_data_cleaned['charging_duration'] > charging_data_cleaned['connection_duration']]\n",
    "\n",
    "# Count the number of rows with erroneous charging times\n",
    "erroneous_count = erroneous_charging_times.shape[0]\n",
    "\n",
    "# Display the count\n",
    "print(f\"Number of rows with longer charging duration then connection: {erroneous_count}\")\n",
    "erroneous_charging_times[\n",
    "    ['connectionTime', 'disconnectTime', 'doneChargingTime', 'charging_duration', 'connection_duration']]"
   ],
   "outputs": [
    {
     "name": "stdout",
     "output_type": "stream",
     "text": [
      "Number of rows with longer charging duration then connection: 6436\n"
     ]
    },
    {
     "data": {
      "text/plain": [
       "                 connectionTime            disconnectTime  \\\n",
       "12    2020-01-02 07:04:38-08:00 2020-01-02 14:08:39-08:00   \n",
       "20    2020-01-02 07:28:47-08:00 2020-01-02 11:01:54-08:00   \n",
       "25    2020-01-02 07:42:05-08:00 2020-01-02 13:58:45-08:00   \n",
       "26    2020-01-02 07:57:24-08:00 2020-01-02 08:35:37-08:00   \n",
       "33    2020-01-02 08:34:35-08:00 2020-01-02 10:49:41-08:00   \n",
       "...                         ...                       ...   \n",
       "66432 2019-07-31 07:36:02-07:00 2019-07-31 15:34:10-07:00   \n",
       "66439 2019-07-31 07:45:02-07:00 2019-07-31 16:43:20-07:00   \n",
       "66440 2019-07-31 07:45:29-07:00 2019-07-31 15:01:32-07:00   \n",
       "66445 2019-07-31 11:08:04-07:00 2019-07-31 16:29:18-07:00   \n",
       "66447 2019-07-31 12:04:40-07:00 2019-07-31 15:44:22-07:00   \n",
       "\n",
       "               doneChargingTime  charging_duration  connection_duration  \n",
       "12    2020-01-02 14:09:36-08:00         424.966667           424.016667  \n",
       "20    2020-01-02 11:02:51-08:00         214.066667           213.116667  \n",
       "25    2020-01-02 13:59:42-08:00         377.616667           376.666667  \n",
       "26    2020-01-02 08:36:34-08:00          39.166667            38.216667  \n",
       "33    2020-01-02 10:50:38-08:00         136.050000           135.100000  \n",
       "...                         ...                ...                  ...  \n",
       "66432 2019-07-31 15:35:10-07:00         479.133333           478.133333  \n",
       "66439 2019-07-31 16:44:19-07:00         539.283333           538.300000  \n",
       "66440 2019-07-31 15:02:32-07:00         437.050000           436.050000  \n",
       "66445 2019-07-31 16:30:18-07:00         322.233333           321.233333  \n",
       "66447 2019-07-31 15:45:21-07:00         220.683333           219.700000  \n",
       "\n",
       "[6436 rows x 5 columns]"
      ],
      "text/html": [
       "<div>\n",
       "<style scoped>\n",
       "    .dataframe tbody tr th:only-of-type {\n",
       "        vertical-align: middle;\n",
       "    }\n",
       "\n",
       "    .dataframe tbody tr th {\n",
       "        vertical-align: top;\n",
       "    }\n",
       "\n",
       "    .dataframe thead th {\n",
       "        text-align: right;\n",
       "    }\n",
       "</style>\n",
       "<table border=\"1\" class=\"dataframe\">\n",
       "  <thead>\n",
       "    <tr style=\"text-align: right;\">\n",
       "      <th></th>\n",
       "      <th>connectionTime</th>\n",
       "      <th>disconnectTime</th>\n",
       "      <th>doneChargingTime</th>\n",
       "      <th>charging_duration</th>\n",
       "      <th>connection_duration</th>\n",
       "    </tr>\n",
       "  </thead>\n",
       "  <tbody>\n",
       "    <tr>\n",
       "      <th>12</th>\n",
       "      <td>2020-01-02 07:04:38-08:00</td>\n",
       "      <td>2020-01-02 14:08:39-08:00</td>\n",
       "      <td>2020-01-02 14:09:36-08:00</td>\n",
       "      <td>424.966667</td>\n",
       "      <td>424.016667</td>\n",
       "    </tr>\n",
       "    <tr>\n",
       "      <th>20</th>\n",
       "      <td>2020-01-02 07:28:47-08:00</td>\n",
       "      <td>2020-01-02 11:01:54-08:00</td>\n",
       "      <td>2020-01-02 11:02:51-08:00</td>\n",
       "      <td>214.066667</td>\n",
       "      <td>213.116667</td>\n",
       "    </tr>\n",
       "    <tr>\n",
       "      <th>25</th>\n",
       "      <td>2020-01-02 07:42:05-08:00</td>\n",
       "      <td>2020-01-02 13:58:45-08:00</td>\n",
       "      <td>2020-01-02 13:59:42-08:00</td>\n",
       "      <td>377.616667</td>\n",
       "      <td>376.666667</td>\n",
       "    </tr>\n",
       "    <tr>\n",
       "      <th>26</th>\n",
       "      <td>2020-01-02 07:57:24-08:00</td>\n",
       "      <td>2020-01-02 08:35:37-08:00</td>\n",
       "      <td>2020-01-02 08:36:34-08:00</td>\n",
       "      <td>39.166667</td>\n",
       "      <td>38.216667</td>\n",
       "    </tr>\n",
       "    <tr>\n",
       "      <th>33</th>\n",
       "      <td>2020-01-02 08:34:35-08:00</td>\n",
       "      <td>2020-01-02 10:49:41-08:00</td>\n",
       "      <td>2020-01-02 10:50:38-08:00</td>\n",
       "      <td>136.050000</td>\n",
       "      <td>135.100000</td>\n",
       "    </tr>\n",
       "    <tr>\n",
       "      <th>...</th>\n",
       "      <td>...</td>\n",
       "      <td>...</td>\n",
       "      <td>...</td>\n",
       "      <td>...</td>\n",
       "      <td>...</td>\n",
       "    </tr>\n",
       "    <tr>\n",
       "      <th>66432</th>\n",
       "      <td>2019-07-31 07:36:02-07:00</td>\n",
       "      <td>2019-07-31 15:34:10-07:00</td>\n",
       "      <td>2019-07-31 15:35:10-07:00</td>\n",
       "      <td>479.133333</td>\n",
       "      <td>478.133333</td>\n",
       "    </tr>\n",
       "    <tr>\n",
       "      <th>66439</th>\n",
       "      <td>2019-07-31 07:45:02-07:00</td>\n",
       "      <td>2019-07-31 16:43:20-07:00</td>\n",
       "      <td>2019-07-31 16:44:19-07:00</td>\n",
       "      <td>539.283333</td>\n",
       "      <td>538.300000</td>\n",
       "    </tr>\n",
       "    <tr>\n",
       "      <th>66440</th>\n",
       "      <td>2019-07-31 07:45:29-07:00</td>\n",
       "      <td>2019-07-31 15:01:32-07:00</td>\n",
       "      <td>2019-07-31 15:02:32-07:00</td>\n",
       "      <td>437.050000</td>\n",
       "      <td>436.050000</td>\n",
       "    </tr>\n",
       "    <tr>\n",
       "      <th>66445</th>\n",
       "      <td>2019-07-31 11:08:04-07:00</td>\n",
       "      <td>2019-07-31 16:29:18-07:00</td>\n",
       "      <td>2019-07-31 16:30:18-07:00</td>\n",
       "      <td>322.233333</td>\n",
       "      <td>321.233333</td>\n",
       "    </tr>\n",
       "    <tr>\n",
       "      <th>66447</th>\n",
       "      <td>2019-07-31 12:04:40-07:00</td>\n",
       "      <td>2019-07-31 15:44:22-07:00</td>\n",
       "      <td>2019-07-31 15:45:21-07:00</td>\n",
       "      <td>220.683333</td>\n",
       "      <td>219.700000</td>\n",
       "    </tr>\n",
       "  </tbody>\n",
       "</table>\n",
       "<p>6436 rows × 5 columns</p>\n",
       "</div>"
      ]
     },
     "execution_count": 17,
     "metadata": {},
     "output_type": "execute_result"
    }
   ],
   "execution_count": 17
  },
  {
   "cell_type": "code",
   "id": "ea043834d474cc77",
   "metadata": {
    "ExecuteTime": {
     "end_time": "2024-11-28T19:19:06.227474Z",
     "start_time": "2024-11-28T19:19:06.223679Z"
    }
   },
   "source": [
    "#Identify the difference between the 6436 changed data and the 6441 equal datas one underneath\n",
    "# Identify lines where doneChargingTime was already equal to disconnectTime\n",
    "pre_existing_equal_times = charging_data_cleaned[\n",
    "    charging_data['doneChargingTime'] == charging_data_cleaned['disconnectTime']]\n",
    "\n",
    "# Count how many of them were marked as faulty\n",
    "pre_existing_errors = pre_existing_equal_times[\n",
    "    pre_existing_equal_times['charging_duration'] > pre_existing_equal_times['connection_duration']]\n",
    "\n",
    "print(f\"Number of rows where doneChargingTime was already equal to disconnectTime: {pre_existing_equal_times.shape[0]}\")\n",
    "print(f\"Number of these rows identified as erroneous: {pre_existing_errors.shape[0]}\")"
   ],
   "outputs": [
    {
     "name": "stdout",
     "output_type": "stream",
     "text": [
      "Number of rows where doneChargingTime was already equal to disconnectTime: 5\n",
      "Number of these rows identified as erroneous: 0\n"
     ]
    }
   ],
   "execution_count": 18
  },
  {
   "cell_type": "code",
   "id": "598444489ccdd591",
   "metadata": {
    "ExecuteTime": {
     "end_time": "2024-11-28T19:19:06.311331Z",
     "start_time": "2024-11-28T19:19:06.303469Z"
    }
   },
   "source": [
    "#Adjust doneChargingTime if it exceeds disconnectTime\n",
    "# Set doneChargingTime to disconnectTime where it exceeds disconnectTime\n",
    "charging_data_cleaned.loc[\n",
    "    charging_data_cleaned['doneChargingTime'] > charging_data_cleaned['disconnectTime'], 'doneChargingTime'] = \\\n",
    "    charging_data_cleaned['disconnectTime']\n",
    "\n",
    "# Verify adjustments\n",
    "adjusted_charging_times = charging_data_cleaned[\n",
    "    charging_data_cleaned['doneChargingTime'] == charging_data_cleaned['disconnectTime']]\n",
    "print(f\"Number of rows where doneChargingTime was adjusted to disconnectTime: {adjusted_charging_times.shape[0]}\")\n",
    "adjusted_charging_times[['connectionTime', 'disconnectTime', 'doneChargingTime']].head()"
   ],
   "outputs": [
    {
     "name": "stdout",
     "output_type": "stream",
     "text": [
      "Number of rows where doneChargingTime was adjusted to disconnectTime: 6441\n"
     ]
    },
    {
     "data": {
      "text/plain": [
       "              connectionTime            disconnectTime  \\\n",
       "12 2020-01-02 07:04:38-08:00 2020-01-02 14:08:39-08:00   \n",
       "20 2020-01-02 07:28:47-08:00 2020-01-02 11:01:54-08:00   \n",
       "25 2020-01-02 07:42:05-08:00 2020-01-02 13:58:45-08:00   \n",
       "26 2020-01-02 07:57:24-08:00 2020-01-02 08:35:37-08:00   \n",
       "33 2020-01-02 08:34:35-08:00 2020-01-02 10:49:41-08:00   \n",
       "\n",
       "            doneChargingTime  \n",
       "12 2020-01-02 14:08:39-08:00  \n",
       "20 2020-01-02 11:01:54-08:00  \n",
       "25 2020-01-02 13:58:45-08:00  \n",
       "26 2020-01-02 08:35:37-08:00  \n",
       "33 2020-01-02 10:49:41-08:00  "
      ],
      "text/html": [
       "<div>\n",
       "<style scoped>\n",
       "    .dataframe tbody tr th:only-of-type {\n",
       "        vertical-align: middle;\n",
       "    }\n",
       "\n",
       "    .dataframe tbody tr th {\n",
       "        vertical-align: top;\n",
       "    }\n",
       "\n",
       "    .dataframe thead th {\n",
       "        text-align: right;\n",
       "    }\n",
       "</style>\n",
       "<table border=\"1\" class=\"dataframe\">\n",
       "  <thead>\n",
       "    <tr style=\"text-align: right;\">\n",
       "      <th></th>\n",
       "      <th>connectionTime</th>\n",
       "      <th>disconnectTime</th>\n",
       "      <th>doneChargingTime</th>\n",
       "    </tr>\n",
       "  </thead>\n",
       "  <tbody>\n",
       "    <tr>\n",
       "      <th>12</th>\n",
       "      <td>2020-01-02 07:04:38-08:00</td>\n",
       "      <td>2020-01-02 14:08:39-08:00</td>\n",
       "      <td>2020-01-02 14:08:39-08:00</td>\n",
       "    </tr>\n",
       "    <tr>\n",
       "      <th>20</th>\n",
       "      <td>2020-01-02 07:28:47-08:00</td>\n",
       "      <td>2020-01-02 11:01:54-08:00</td>\n",
       "      <td>2020-01-02 11:01:54-08:00</td>\n",
       "    </tr>\n",
       "    <tr>\n",
       "      <th>25</th>\n",
       "      <td>2020-01-02 07:42:05-08:00</td>\n",
       "      <td>2020-01-02 13:58:45-08:00</td>\n",
       "      <td>2020-01-02 13:58:45-08:00</td>\n",
       "    </tr>\n",
       "    <tr>\n",
       "      <th>26</th>\n",
       "      <td>2020-01-02 07:57:24-08:00</td>\n",
       "      <td>2020-01-02 08:35:37-08:00</td>\n",
       "      <td>2020-01-02 08:35:37-08:00</td>\n",
       "    </tr>\n",
       "    <tr>\n",
       "      <th>33</th>\n",
       "      <td>2020-01-02 08:34:35-08:00</td>\n",
       "      <td>2020-01-02 10:49:41-08:00</td>\n",
       "      <td>2020-01-02 10:49:41-08:00</td>\n",
       "    </tr>\n",
       "  </tbody>\n",
       "</table>\n",
       "</div>"
      ]
     },
     "execution_count": 19,
     "metadata": {},
     "output_type": "execute_result"
    }
   ],
   "execution_count": 19
  },
  {
   "cell_type": "markdown",
   "id": "575b87a85ca022e9",
   "metadata": {},
   "source": [
    "ToDo: doneChargingTime before connection Time => Vorschlag: Diese Zeilen droppen <br>\n",
    "Anmerkung: Wenn die doneChargingTime nach der disconnectTime liegt, ist dies meist nur 1 Minute Unterschied"
   ]
  },
  {
   "cell_type": "markdown",
   "id": "edff2b83de231985",
   "metadata": {},
   "source": [
    "### 4 Outliers"
   ]
  },
  {
   "cell_type": "code",
   "id": "64f0a6d669a0e957",
   "metadata": {
    "ExecuteTime": {
     "end_time": "2024-11-28T19:19:06.523855Z",
     "start_time": "2024-11-28T19:19:06.502396Z"
    }
   },
   "source": [
    "# Unrealistic Time Differences\n",
    "# Check if the charging duration is either too short (less than 1 minute) or too long (more than 1 day).\n",
    "unrealistic_charging_times = charging_data_cleaned[\n",
    "    (charging_data_cleaned['charging_duration'] < 1) | (charging_data_cleaned['charging_duration'] > 1440)]\n",
    "unrealistic_connection_times = charging_data_cleaned[\n",
    "    (charging_data_cleaned['connection_duration'] < 1) | (charging_data_cleaned['connection_duration'] > 1440)]\n",
    "\n",
    "# Show the number of rows with unrealistic charging durations\n",
    "print(f\"Number of rows with unrealistic charging times: {unrealistic_charging_times.shape[0]}\")\n",
    "\n",
    "# Show examples of the data\n",
    "print(\"Examples of erroneous charging durations (too short (<1 Min) or too long (>24 hours)):\")\n",
    "display(unrealistic_charging_times[\n",
    "            ['connectionTime', 'disconnectTime', 'doneChargingTime', 'charging_duration', 'connection_duration',\n",
    "             'kWhDelivered']].head())\n",
    "\n",
    "# Show the number of rows with unrealistic connection durations\n",
    "print(f\"Number of rows with unrealistic connection times: {unrealistic_connection_times.shape[0]}\")\n",
    "\n",
    "# Show examples of the data\n",
    "print(\"Examples of erroneous connection durations (too short (<1 Min) or too long (>24 hours)):\")\n",
    "display(unrealistic_connection_times[\n",
    "            ['connectionTime', 'disconnectTime', 'doneChargingTime', 'charging_duration', 'connection_duration',\n",
    "             'kWhDelivered']].head())"
   ],
   "outputs": [
    {
     "name": "stdout",
     "output_type": "stream",
     "text": [
      "Number of rows with unrealistic charging times: 95\n",
      "Examples of erroneous charging durations (too short (<1 Min) or too long (>24 hours)):\n"
     ]
    },
    {
     "data": {
      "text/plain": [
       "                 connectionTime            disconnectTime  \\\n",
       "18604 2021-07-16 08:45:30-07:00 2021-07-19 16:06:05-07:00   \n",
       "18606 2021-07-16 09:23:01-07:00 2021-07-19 16:05:42-07:00   \n",
       "18607 2021-07-16 09:40:11-07:00 2021-07-19 16:05:30-07:00   \n",
       "18609 2021-07-16 10:52:18-07:00 2021-07-19 13:41:13-07:00   \n",
       "20425 2019-01-09 17:51:20-08:00 2019-01-10 23:17:28-08:00   \n",
       "\n",
       "               doneChargingTime  charging_duration  connection_duration  \\\n",
       "18604 2021-07-19 13:36:25-07:00        4610.916667          4760.583333   \n",
       "18606 2021-07-19 13:45:36-07:00        4582.583333          4722.683333   \n",
       "18607 2021-07-19 13:45:36-07:00        4565.416667          4705.316667   \n",
       "18609 2021-07-19 13:41:07-07:00        4488.816667          4488.916667   \n",
       "20425 2019-01-10 23:17:28-08:00        1767.116667          1766.133333   \n",
       "\n",
       "       kWhDelivered  \n",
       "18604         5.793  \n",
       "18606        25.370  \n",
       "18607        31.464  \n",
       "18609         8.180  \n",
       "20425        51.362  "
      ],
      "text/html": [
       "<div>\n",
       "<style scoped>\n",
       "    .dataframe tbody tr th:only-of-type {\n",
       "        vertical-align: middle;\n",
       "    }\n",
       "\n",
       "    .dataframe tbody tr th {\n",
       "        vertical-align: top;\n",
       "    }\n",
       "\n",
       "    .dataframe thead th {\n",
       "        text-align: right;\n",
       "    }\n",
       "</style>\n",
       "<table border=\"1\" class=\"dataframe\">\n",
       "  <thead>\n",
       "    <tr style=\"text-align: right;\">\n",
       "      <th></th>\n",
       "      <th>connectionTime</th>\n",
       "      <th>disconnectTime</th>\n",
       "      <th>doneChargingTime</th>\n",
       "      <th>charging_duration</th>\n",
       "      <th>connection_duration</th>\n",
       "      <th>kWhDelivered</th>\n",
       "    </tr>\n",
       "  </thead>\n",
       "  <tbody>\n",
       "    <tr>\n",
       "      <th>18604</th>\n",
       "      <td>2021-07-16 08:45:30-07:00</td>\n",
       "      <td>2021-07-19 16:06:05-07:00</td>\n",
       "      <td>2021-07-19 13:36:25-07:00</td>\n",
       "      <td>4610.916667</td>\n",
       "      <td>4760.583333</td>\n",
       "      <td>5.793</td>\n",
       "    </tr>\n",
       "    <tr>\n",
       "      <th>18606</th>\n",
       "      <td>2021-07-16 09:23:01-07:00</td>\n",
       "      <td>2021-07-19 16:05:42-07:00</td>\n",
       "      <td>2021-07-19 13:45:36-07:00</td>\n",
       "      <td>4582.583333</td>\n",
       "      <td>4722.683333</td>\n",
       "      <td>25.370</td>\n",
       "    </tr>\n",
       "    <tr>\n",
       "      <th>18607</th>\n",
       "      <td>2021-07-16 09:40:11-07:00</td>\n",
       "      <td>2021-07-19 16:05:30-07:00</td>\n",
       "      <td>2021-07-19 13:45:36-07:00</td>\n",
       "      <td>4565.416667</td>\n",
       "      <td>4705.316667</td>\n",
       "      <td>31.464</td>\n",
       "    </tr>\n",
       "    <tr>\n",
       "      <th>18609</th>\n",
       "      <td>2021-07-16 10:52:18-07:00</td>\n",
       "      <td>2021-07-19 13:41:13-07:00</td>\n",
       "      <td>2021-07-19 13:41:07-07:00</td>\n",
       "      <td>4488.816667</td>\n",
       "      <td>4488.916667</td>\n",
       "      <td>8.180</td>\n",
       "    </tr>\n",
       "    <tr>\n",
       "      <th>20425</th>\n",
       "      <td>2019-01-09 17:51:20-08:00</td>\n",
       "      <td>2019-01-10 23:17:28-08:00</td>\n",
       "      <td>2019-01-10 23:17:28-08:00</td>\n",
       "      <td>1767.116667</td>\n",
       "      <td>1766.133333</td>\n",
       "      <td>51.362</td>\n",
       "    </tr>\n",
       "  </tbody>\n",
       "</table>\n",
       "</div>"
      ]
     },
     "metadata": {},
     "output_type": "display_data"
    },
    {
     "name": "stdout",
     "output_type": "stream",
     "text": [
      "Number of rows with unrealistic connection times: 279\n",
      "Examples of erroneous connection durations (too short (<1 Min) or too long (>24 hours)):\n"
     ]
    },
    {
     "data": {
      "text/plain": [
       "                 connectionTime            disconnectTime  \\\n",
       "7627  2019-08-14 06:00:40-07:00 2019-08-15 19:24:39-07:00   \n",
       "7911  2019-08-20 07:20:30-07:00 2019-08-21 17:32:21-07:00   \n",
       "18601 2021-07-16 07:01:18-07:00 2021-07-19 16:05:55-07:00   \n",
       "18603 2021-07-16 08:39:02-07:00 2021-07-19 16:05:38-07:00   \n",
       "18604 2021-07-16 08:45:30-07:00 2021-07-19 16:06:05-07:00   \n",
       "\n",
       "               doneChargingTime  charging_duration  connection_duration  \\\n",
       "7627  2019-08-14 07:48:08-07:00         107.466667          2243.983333   \n",
       "7911  2019-08-20 10:55:00-07:00         214.500000          2051.850000   \n",
       "18601 2021-07-16 11:16:51-07:00         255.550000          4864.616667   \n",
       "18603 2021-07-16 11:16:54-07:00         157.866667          4766.600000   \n",
       "18604 2021-07-19 13:36:25-07:00        4610.916667          4760.583333   \n",
       "\n",
       "       kWhDelivered  \n",
       "7627          4.557  \n",
       "7911         14.022  \n",
       "18601        11.286  \n",
       "18603        13.377  \n",
       "18604         5.793  "
      ],
      "text/html": [
       "<div>\n",
       "<style scoped>\n",
       "    .dataframe tbody tr th:only-of-type {\n",
       "        vertical-align: middle;\n",
       "    }\n",
       "\n",
       "    .dataframe tbody tr th {\n",
       "        vertical-align: top;\n",
       "    }\n",
       "\n",
       "    .dataframe thead th {\n",
       "        text-align: right;\n",
       "    }\n",
       "</style>\n",
       "<table border=\"1\" class=\"dataframe\">\n",
       "  <thead>\n",
       "    <tr style=\"text-align: right;\">\n",
       "      <th></th>\n",
       "      <th>connectionTime</th>\n",
       "      <th>disconnectTime</th>\n",
       "      <th>doneChargingTime</th>\n",
       "      <th>charging_duration</th>\n",
       "      <th>connection_duration</th>\n",
       "      <th>kWhDelivered</th>\n",
       "    </tr>\n",
       "  </thead>\n",
       "  <tbody>\n",
       "    <tr>\n",
       "      <th>7627</th>\n",
       "      <td>2019-08-14 06:00:40-07:00</td>\n",
       "      <td>2019-08-15 19:24:39-07:00</td>\n",
       "      <td>2019-08-14 07:48:08-07:00</td>\n",
       "      <td>107.466667</td>\n",
       "      <td>2243.983333</td>\n",
       "      <td>4.557</td>\n",
       "    </tr>\n",
       "    <tr>\n",
       "      <th>7911</th>\n",
       "      <td>2019-08-20 07:20:30-07:00</td>\n",
       "      <td>2019-08-21 17:32:21-07:00</td>\n",
       "      <td>2019-08-20 10:55:00-07:00</td>\n",
       "      <td>214.500000</td>\n",
       "      <td>2051.850000</td>\n",
       "      <td>14.022</td>\n",
       "    </tr>\n",
       "    <tr>\n",
       "      <th>18601</th>\n",
       "      <td>2021-07-16 07:01:18-07:00</td>\n",
       "      <td>2021-07-19 16:05:55-07:00</td>\n",
       "      <td>2021-07-16 11:16:51-07:00</td>\n",
       "      <td>255.550000</td>\n",
       "      <td>4864.616667</td>\n",
       "      <td>11.286</td>\n",
       "    </tr>\n",
       "    <tr>\n",
       "      <th>18603</th>\n",
       "      <td>2021-07-16 08:39:02-07:00</td>\n",
       "      <td>2021-07-19 16:05:38-07:00</td>\n",
       "      <td>2021-07-16 11:16:54-07:00</td>\n",
       "      <td>157.866667</td>\n",
       "      <td>4766.600000</td>\n",
       "      <td>13.377</td>\n",
       "    </tr>\n",
       "    <tr>\n",
       "      <th>18604</th>\n",
       "      <td>2021-07-16 08:45:30-07:00</td>\n",
       "      <td>2021-07-19 16:06:05-07:00</td>\n",
       "      <td>2021-07-19 13:36:25-07:00</td>\n",
       "      <td>4610.916667</td>\n",
       "      <td>4760.583333</td>\n",
       "      <td>5.793</td>\n",
       "    </tr>\n",
       "  </tbody>\n",
       "</table>\n",
       "</div>"
      ]
     },
     "metadata": {},
     "output_type": "display_data"
    }
   ],
   "execution_count": 20
  },
  {
   "cell_type": "code",
   "id": "213528f1ac113e06",
   "metadata": {
    "ExecuteTime": {
     "end_time": "2024-11-28T19:19:06.825459Z",
     "start_time": "2024-11-28T19:19:06.675130Z"
    }
   },
   "source": [
    "plt.figure(figsize=(10, 6))\n",
    "plt.boxplot(charging_data_cleaned['connection_duration'], vert=False, patch_artist=True)\n",
    "plt.title(\"Boxplot connection_duration\")\n",
    "plt.xlabel(\"connection_duration\")\n",
    "plt.xlim(0, 4000)\n",
    "plt.grid(True)"
   ],
   "outputs": [
    {
     "data": {
      "text/plain": [
       "<Figure size 1000x600 with 1 Axes>"
      ],
      "image/png": "[encoded data removed]"
     },
     "metadata": {},
     "output_type": "display_data"
    }
   ],
   "execution_count": 21
  },
  {
   "cell_type": "code",
   "id": "e023dcd241e39a35",
   "metadata": {
    "ExecuteTime": {
     "end_time": "2024-11-28T19:19:06.910638Z",
     "start_time": "2024-11-28T19:19:06.883536Z"
    }
   },
   "source": [
    "# IQR = Interquartilsabstand\n",
    "Q1 = charging_data_cleaned['connection_duration'].quantile(0.25)\n",
    "Q3 = charging_data_cleaned['connection_duration'].quantile(0.75)\n",
    "IQR = Q3 - Q1\n",
    "outliers_connection = charging_data_cleaned[(charging_data_cleaned['connection_duration'] < (Q1 - 1.5 * IQR)) | (\n",
    "        charging_data_cleaned['connection_duration'] > (Q3 + 1.5 * IQR))]\n",
    "print(f\"Number of outliers in column connection_duration: {outliers_connection.shape[0]}\")\n",
    "outliers_connection[['connectionTime', 'disconnectTime', 'doneChargingTime', 'charging_duration', 'connection_duration',\n",
    "                     'kWhDelivered']]"
   ],
   "outputs": [
    {
     "name": "stdout",
     "output_type": "stream",
     "text": [
      "Number of outliers in column connection_duration: 470\n"
     ]
    },
    {
     "data": {
      "text/plain": [
       "                 connectionTime            disconnectTime  \\\n",
       "7246  2019-08-06 18:12:26-07:00 2019-08-07 17:03:44-07:00   \n",
       "7627  2019-08-14 06:00:40-07:00 2019-08-15 19:24:39-07:00   \n",
       "7911  2019-08-20 07:20:30-07:00 2019-08-21 17:32:21-07:00   \n",
       "8960  2019-09-10 17:33:34-07:00 2019-09-11 12:20:36-07:00   \n",
       "11091 2019-10-22 16:35:50-07:00 2019-10-23 15:10:12-07:00   \n",
       "...                         ...                       ...   \n",
       "61169 2019-04-15 17:01:28-07:00 2019-04-17 17:20:42-07:00   \n",
       "62402 2019-05-08 17:09:47-07:00 2019-05-09 18:23:16-07:00   \n",
       "62651 2019-05-14 07:48:06-07:00 2019-05-15 03:53:26-07:00   \n",
       "63029 2019-05-20 17:10:00-07:00 2019-05-21 17:49:28-07:00   \n",
       "64086 2019-06-12 06:38:35-07:00 2019-06-14 06:28:08-07:00   \n",
       "\n",
       "               doneChargingTime  charging_duration  connection_duration  \\\n",
       "7246  2019-08-07 03:11:52-07:00         539.433333          1371.300000   \n",
       "7627  2019-08-14 07:48:08-07:00         107.466667          2243.983333   \n",
       "7911  2019-08-20 10:55:00-07:00         214.500000          2051.850000   \n",
       "8960  2019-09-11 12:05:00-07:00        1111.433333          1127.033333   \n",
       "11091 2019-10-23 02:58:09-07:00         622.316667          1354.366667   \n",
       "...                         ...                ...                  ...   \n",
       "61169 2019-04-16 18:18:18-07:00        1516.833333          2899.233333   \n",
       "62402 2019-05-08 23:04:05-07:00         354.300000          1513.483333   \n",
       "62651 2019-05-14 13:19:33-07:00         331.450000          1205.333333   \n",
       "63029 2019-05-21 16:22:59-07:00        1392.983333          1479.466667   \n",
       "64086 2019-06-12 10:04:30-07:00         205.916667          2869.550000   \n",
       "\n",
       "       kWhDelivered  \n",
       "7246         57.217  \n",
       "7627          4.557  \n",
       "7911         14.022  \n",
       "8960         60.012  \n",
       "11091        64.202  \n",
       "...             ...  \n",
       "61169        39.970  \n",
       "62402        36.682  \n",
       "62651        34.801  \n",
       "63029        39.989  \n",
       "64086         6.449  \n",
       "\n",
       "[470 rows x 6 columns]"
      ],
      "text/html": [
       "<div>\n",
       "<style scoped>\n",
       "    .dataframe tbody tr th:only-of-type {\n",
       "        vertical-align: middle;\n",
       "    }\n",
       "\n",
       "    .dataframe tbody tr th {\n",
       "        vertical-align: top;\n",
       "    }\n",
       "\n",
       "    .dataframe thead th {\n",
       "        text-align: right;\n",
       "    }\n",
       "</style>\n",
       "<table border=\"1\" class=\"dataframe\">\n",
       "  <thead>\n",
       "    <tr style=\"text-align: right;\">\n",
       "      <th></th>\n",
       "      <th>connectionTime</th>\n",
       "      <th>disconnectTime</th>\n",
       "      <th>doneChargingTime</th>\n",
       "      <th>charging_duration</th>\n",
       "      <th>connection_duration</th>\n",
       "      <th>kWhDelivered</th>\n",
       "    </tr>\n",
       "  </thead>\n",
       "  <tbody>\n",
       "    <tr>\n",
       "      <th>7246</th>\n",
       "      <td>2019-08-06 18:12:26-07:00</td>\n",
       "      <td>2019-08-07 17:03:44-07:00</td>\n",
       "      <td>2019-08-07 03:11:52-07:00</td>\n",
       "      <td>539.433333</td>\n",
       "      <td>1371.300000</td>\n",
       "      <td>57.217</td>\n",
       "    </tr>\n",
       "    <tr>\n",
       "      <th>7627</th>\n",
       "      <td>2019-08-14 06:00:40-07:00</td>\n",
       "      <td>2019-08-15 19:24:39-07:00</td>\n",
       "      <td>2019-08-14 07:48:08-07:00</td>\n",
       "      <td>107.466667</td>\n",
       "      <td>2243.983333</td>\n",
       "      <td>4.557</td>\n",
       "    </tr>\n",
       "    <tr>\n",
       "      <th>7911</th>\n",
       "      <td>2019-08-20 07:20:30-07:00</td>\n",
       "      <td>2019-08-21 17:32:21-07:00</td>\n",
       "      <td>2019-08-20 10:55:00-07:00</td>\n",
       "      <td>214.500000</td>\n",
       "      <td>2051.850000</td>\n",
       "      <td>14.022</td>\n",
       "    </tr>\n",
       "    <tr>\n",
       "      <th>8960</th>\n",
       "      <td>2019-09-10 17:33:34-07:00</td>\n",
       "      <td>2019-09-11 12:20:36-07:00</td>\n",
       "      <td>2019-09-11 12:05:00-07:00</td>\n",
       "      <td>1111.433333</td>\n",
       "      <td>1127.033333</td>\n",
       "      <td>60.012</td>\n",
       "    </tr>\n",
       "    <tr>\n",
       "      <th>11091</th>\n",
       "      <td>2019-10-22 16:35:50-07:00</td>\n",
       "      <td>2019-10-23 15:10:12-07:00</td>\n",
       "      <td>2019-10-23 02:58:09-07:00</td>\n",
       "      <td>622.316667</td>\n",
       "      <td>1354.366667</td>\n",
       "      <td>64.202</td>\n",
       "    </tr>\n",
       "    <tr>\n",
       "      <th>...</th>\n",
       "      <td>...</td>\n",
       "      <td>...</td>\n",
       "      <td>...</td>\n",
       "      <td>...</td>\n",
       "      <td>...</td>\n",
       "      <td>...</td>\n",
       "    </tr>\n",
       "    <tr>\n",
       "      <th>61169</th>\n",
       "      <td>2019-04-15 17:01:28-07:00</td>\n",
       "      <td>2019-04-17 17:20:42-07:00</td>\n",
       "      <td>2019-04-16 18:18:18-07:00</td>\n",
       "      <td>1516.833333</td>\n",
       "      <td>2899.233333</td>\n",
       "      <td>39.970</td>\n",
       "    </tr>\n",
       "    <tr>\n",
       "      <th>62402</th>\n",
       "      <td>2019-05-08 17:09:47-07:00</td>\n",
       "      <td>2019-05-09 18:23:16-07:00</td>\n",
       "      <td>2019-05-08 23:04:05-07:00</td>\n",
       "      <td>354.300000</td>\n",
       "      <td>1513.483333</td>\n",
       "      <td>36.682</td>\n",
       "    </tr>\n",
       "    <tr>\n",
       "      <th>62651</th>\n",
       "      <td>2019-05-14 07:48:06-07:00</td>\n",
       "      <td>2019-05-15 03:53:26-07:00</td>\n",
       "      <td>2019-05-14 13:19:33-07:00</td>\n",
       "      <td>331.450000</td>\n",
       "      <td>1205.333333</td>\n",
       "      <td>34.801</td>\n",
       "    </tr>\n",
       "    <tr>\n",
       "      <th>63029</th>\n",
       "      <td>2019-05-20 17:10:00-07:00</td>\n",
       "      <td>2019-05-21 17:49:28-07:00</td>\n",
       "      <td>2019-05-21 16:22:59-07:00</td>\n",
       "      <td>1392.983333</td>\n",
       "      <td>1479.466667</td>\n",
       "      <td>39.989</td>\n",
       "    </tr>\n",
       "    <tr>\n",
       "      <th>64086</th>\n",
       "      <td>2019-06-12 06:38:35-07:00</td>\n",
       "      <td>2019-06-14 06:28:08-07:00</td>\n",
       "      <td>2019-06-12 10:04:30-07:00</td>\n",
       "      <td>205.916667</td>\n",
       "      <td>2869.550000</td>\n",
       "      <td>6.449</td>\n",
       "    </tr>\n",
       "  </tbody>\n",
       "</table>\n",
       "<p>470 rows × 6 columns</p>\n",
       "</div>"
      ]
     },
     "execution_count": 22,
     "metadata": {},
     "output_type": "execute_result"
    }
   ],
   "execution_count": 22
  },
  {
   "cell_type": "code",
   "id": "6cc5f0d3b0065a6e",
   "metadata": {
    "ExecuteTime": {
     "end_time": "2024-11-28T19:19:07.180839Z",
     "start_time": "2024-11-28T19:19:07.080324Z"
    }
   },
   "source": [
    "plt.figure(figsize=(10, 6))\n",
    "plt.boxplot(charging_data_cleaned['charging_duration'], vert=False, patch_artist=True)\n",
    "plt.title(\"Boxplot charging_duration\")\n",
    "plt.xlabel(\"charging_duration\")\n",
    "plt.grid(True)"
   ],
   "outputs": [
    {
     "data": {
      "text/plain": [
       "<Figure size 1000x600 with 1 Axes>"
      ],
      "image/png": "[encoded data removed]"
     },
     "metadata": {},
     "output_type": "display_data"
    }
   ],
   "execution_count": 23
  },
  {
   "cell_type": "code",
   "id": "f9e6566c570a6d39",
   "metadata": {
    "ExecuteTime": {
     "end_time": "2024-11-28T19:19:07.254024Z",
     "start_time": "2024-11-28T19:19:07.226453Z"
    }
   },
   "source": [
    "# IQR = Interquartilsabstand\n",
    "Q1 = charging_data_cleaned['charging_duration'].quantile(0.25)\n",
    "Q3 = charging_data_cleaned['charging_duration'].quantile(0.75)\n",
    "IQR = Q3 - Q1\n",
    "outliers_charging = charging_data_cleaned[(charging_data_cleaned['charging_duration'] < (Q1 - 2 * IQR)) | (\n",
    "        charging_data_cleaned['charging_duration'] > (Q3 + 2 * IQR))]\n",
    "print(f\"Number of outliers in charging_duration: {outliers_charging.shape[0]}\")\n",
    "outliers_charging[['connectionTime', 'disconnectTime', 'doneChargingTime', 'charging_duration', 'connection_duration',\n",
    "                   'kWhDelivered']]"
   ],
   "outputs": [
    {
     "name": "stdout",
     "output_type": "stream",
     "text": [
      "Number of outliers in charging_duration: 916\n"
     ]
    },
    {
     "data": {
      "text/plain": [
       "                 connectionTime            disconnectTime  \\\n",
       "6     2020-01-02 06:09:14-08:00 2020-01-02 17:57:58-08:00   \n",
       "81    2020-01-06 04:32:26-08:00 2020-01-06 15:33:41-08:00   \n",
       "83    2020-01-06 04:48:56-08:00 2020-01-06 16:45:53-08:00   \n",
       "164   2020-01-07 05:47:26-08:00 2020-01-07 21:15:48-08:00   \n",
       "335   2020-01-09 06:46:36-08:00 2020-01-09 17:54:48-08:00   \n",
       "...                         ...                       ...   \n",
       "66207 2019-07-26 07:34:02-07:00 2019-07-26 19:57:54-07:00   \n",
       "66271 2019-07-29 06:46:52-07:00 2019-07-29 17:18:54-07:00   \n",
       "66321 2019-07-30 05:32:29-07:00 2019-07-30 18:55:43-07:00   \n",
       "66326 2019-07-30 05:55:47-07:00 2019-07-30 18:10:21-07:00   \n",
       "66328 2019-07-30 06:07:03-07:00 2019-07-30 16:50:06-07:00   \n",
       "\n",
       "               doneChargingTime  charging_duration  connection_duration  \\\n",
       "6     2020-01-02 16:59:21-08:00         650.116667           708.733333   \n",
       "81    2020-01-06 15:33:41-08:00         662.250000           661.250000   \n",
       "83    2020-01-06 16:39:35-08:00         710.650000           716.950000   \n",
       "164   2020-01-07 17:44:04-08:00         716.633333           928.366667   \n",
       "335   2020-01-09 17:24:52-08:00         638.266667           668.200000   \n",
       "...                         ...                ...                  ...   \n",
       "66207 2019-07-26 18:33:43-07:00         659.683333           743.866667   \n",
       "66271 2019-07-29 17:08:24-07:00         621.533333           632.033333   \n",
       "66321 2019-07-30 18:07:04-07:00         754.583333           803.233333   \n",
       "66326 2019-07-30 17:24:50-07:00         689.050000           734.566667   \n",
       "66328 2019-07-30 16:50:06-07:00         643.250000           643.050000   \n",
       "\n",
       "       kWhDelivered  \n",
       "6            43.477  \n",
       "81           45.613  \n",
       "83           66.931  \n",
       "164          34.284  \n",
       "335           8.081  \n",
       "...             ...  \n",
       "66207        13.987  \n",
       "66271         1.489  \n",
       "66321         1.912  \n",
       "66326        30.122  \n",
       "66328         6.524  \n",
       "\n",
       "[916 rows x 6 columns]"
      ],
      "text/html": [
       "<div>\n",
       "<style scoped>\n",
       "    .dataframe tbody tr th:only-of-type {\n",
       "        vertical-align: middle;\n",
       "    }\n",
       "\n",
       "    .dataframe tbody tr th {\n",
       "        vertical-align: top;\n",
       "    }\n",
       "\n",
       "    .dataframe thead th {\n",
       "        text-align: right;\n",
       "    }\n",
       "</style>\n",
       "<table border=\"1\" class=\"dataframe\">\n",
       "  <thead>\n",
       "    <tr style=\"text-align: right;\">\n",
       "      <th></th>\n",
       "      <th>connectionTime</th>\n",
       "      <th>disconnectTime</th>\n",
       "      <th>doneChargingTime</th>\n",
       "      <th>charging_duration</th>\n",
       "      <th>connection_duration</th>\n",
       "      <th>kWhDelivered</th>\n",
       "    </tr>\n",
       "  </thead>\n",
       "  <tbody>\n",
       "    <tr>\n",
       "      <th>6</th>\n",
       "      <td>2020-01-02 06:09:14-08:00</td>\n",
       "      <td>2020-01-02 17:57:58-08:00</td>\n",
       "      <td>2020-01-02 16:59:21-08:00</td>\n",
       "      <td>650.116667</td>\n",
       "      <td>708.733333</td>\n",
       "      <td>43.477</td>\n",
       "    </tr>\n",
       "    <tr>\n",
       "      <th>81</th>\n",
       "      <td>2020-01-06 04:32:26-08:00</td>\n",
       "      <td>2020-01-06 15:33:41-08:00</td>\n",
       "      <td>2020-01-06 15:33:41-08:00</td>\n",
       "      <td>662.250000</td>\n",
       "      <td>661.250000</td>\n",
       "      <td>45.613</td>\n",
       "    </tr>\n",
       "    <tr>\n",
       "      <th>83</th>\n",
       "      <td>2020-01-06 04:48:56-08:00</td>\n",
       "      <td>2020-01-06 16:45:53-08:00</td>\n",
       "      <td>2020-01-06 16:39:35-08:00</td>\n",
       "      <td>710.650000</td>\n",
       "      <td>716.950000</td>\n",
       "      <td>66.931</td>\n",
       "    </tr>\n",
       "    <tr>\n",
       "      <th>164</th>\n",
       "      <td>2020-01-07 05:47:26-08:00</td>\n",
       "      <td>2020-01-07 21:15:48-08:00</td>\n",
       "      <td>2020-01-07 17:44:04-08:00</td>\n",
       "      <td>716.633333</td>\n",
       "      <td>928.366667</td>\n",
       "      <td>34.284</td>\n",
       "    </tr>\n",
       "    <tr>\n",
       "      <th>335</th>\n",
       "      <td>2020-01-09 06:46:36-08:00</td>\n",
       "      <td>2020-01-09 17:54:48-08:00</td>\n",
       "      <td>2020-01-09 17:24:52-08:00</td>\n",
       "      <td>638.266667</td>\n",
       "      <td>668.200000</td>\n",
       "      <td>8.081</td>\n",
       "    </tr>\n",
       "    <tr>\n",
       "      <th>...</th>\n",
       "      <td>...</td>\n",
       "      <td>...</td>\n",
       "      <td>...</td>\n",
       "      <td>...</td>\n",
       "      <td>...</td>\n",
       "      <td>...</td>\n",
       "    </tr>\n",
       "    <tr>\n",
       "      <th>66207</th>\n",
       "      <td>2019-07-26 07:34:02-07:00</td>\n",
       "      <td>2019-07-26 19:57:54-07:00</td>\n",
       "      <td>2019-07-26 18:33:43-07:00</td>\n",
       "      <td>659.683333</td>\n",
       "      <td>743.866667</td>\n",
       "      <td>13.987</td>\n",
       "    </tr>\n",
       "    <tr>\n",
       "      <th>66271</th>\n",
       "      <td>2019-07-29 06:46:52-07:00</td>\n",
       "      <td>2019-07-29 17:18:54-07:00</td>\n",
       "      <td>2019-07-29 17:08:24-07:00</td>\n",
       "      <td>621.533333</td>\n",
       "      <td>632.033333</td>\n",
       "      <td>1.489</td>\n",
       "    </tr>\n",
       "    <tr>\n",
       "      <th>66321</th>\n",
       "      <td>2019-07-30 05:32:29-07:00</td>\n",
       "      <td>2019-07-30 18:55:43-07:00</td>\n",
       "      <td>2019-07-30 18:07:04-07:00</td>\n",
       "      <td>754.583333</td>\n",
       "      <td>803.233333</td>\n",
       "      <td>1.912</td>\n",
       "    </tr>\n",
       "    <tr>\n",
       "      <th>66326</th>\n",
       "      <td>2019-07-30 05:55:47-07:00</td>\n",
       "      <td>2019-07-30 18:10:21-07:00</td>\n",
       "      <td>2019-07-30 17:24:50-07:00</td>\n",
       "      <td>689.050000</td>\n",
       "      <td>734.566667</td>\n",
       "      <td>30.122</td>\n",
       "    </tr>\n",
       "    <tr>\n",
       "      <th>66328</th>\n",
       "      <td>2019-07-30 06:07:03-07:00</td>\n",
       "      <td>2019-07-30 16:50:06-07:00</td>\n",
       "      <td>2019-07-30 16:50:06-07:00</td>\n",
       "      <td>643.250000</td>\n",
       "      <td>643.050000</td>\n",
       "      <td>6.524</td>\n",
       "    </tr>\n",
       "  </tbody>\n",
       "</table>\n",
       "<p>916 rows × 6 columns</p>\n",
       "</div>"
      ]
     },
     "execution_count": 24,
     "metadata": {},
     "output_type": "execute_result"
    }
   ],
   "execution_count": 24
  },
  {
   "cell_type": "code",
   "id": "bdccbb74f0aedbf0",
   "metadata": {
    "ExecuteTime": {
     "end_time": "2024-11-28T19:19:08.092690Z",
     "start_time": "2024-11-28T19:19:07.332356Z"
    }
   },
   "source": [
    "plt.figure(figsize=(10, 6))\n",
    "plt.scatter(charging_data_cleaned['connectionTime'], charging_data_cleaned['charging_duration'], c='red', alpha=0.5,\n",
    "            label='charging_duration')\n",
    "plt.title(\"Scatter charging_duration über connectionTime\")\n",
    "plt.xlabel(\"connectionTime\")\n",
    "plt.ylabel(\"charging_duration\")\n",
    "plt.grid(True)"
   ],
   "outputs": [
    {
     "data": {
      "text/plain": [
       "<Figure size 1000x600 with 1 Axes>"
      ],
      "image/png": "[encoded data removed]"
     },
     "metadata": {},
     "output_type": "display_data"
    }
   ],
   "execution_count": 25
  },
  {
   "cell_type": "code",
   "id": "18acdec5981a044e",
   "metadata": {
    "ExecuteTime": {
     "end_time": "2024-11-28T19:19:08.214129Z",
     "start_time": "2024-11-28T19:19:08.115695Z"
    }
   },
   "source": [
    "plt.figure(figsize=(10, 6))\n",
    "plt.boxplot(charging_data_cleaned['kWhDelivered'], vert=False, patch_artist=True)\n",
    "plt.title(\"Boxplot kWhDelivered\")\n",
    "plt.xlabel(\"kWhDelivered\")\n",
    "plt.grid(True)"
   ],
   "outputs": [
    {
     "data": {
      "text/plain": [
       "<Figure size 1000x600 with 1 Axes>"
      ],
      "image/png": "[encoded data removed]"
     },
     "metadata": {},
     "output_type": "display_data"
    }
   ],
   "execution_count": 26
  },
  {
   "cell_type": "code",
   "id": "806ad733943419df",
   "metadata": {
    "ExecuteTime": {
     "end_time": "2024-11-28T19:19:08.291051Z",
     "start_time": "2024-11-28T19:19:08.261784Z"
    }
   },
   "source": [
    "# IQR = Interquartilsabstand\n",
    "Q1 = charging_data_cleaned['kWhDelivered'].quantile(0.25)\n",
    "Q3 = charging_data_cleaned['kWhDelivered'].quantile(0.75)\n",
    "IQR = Q3 - Q1\n",
    "outliers_kWhDelivered = charging_data_cleaned[\n",
    "    (charging_data_cleaned['kWhDelivered'] < (Q1 - 2 * IQR)) | (charging_data_cleaned['kWhDelivered'] > (Q3 + 2 * IQR))]\n",
    "print(f\"Number of outliers in kWhDelivered: {outliers_kWhDelivered.shape[0]}\")\n",
    "outliers_kWhDelivered[\n",
    "    ['connectionTime', 'disconnectTime', 'doneChargingTime', 'charging_duration', 'connection_duration',\n",
    "     'kWhDelivered']]"
   ],
   "outputs": [
    {
     "name": "stdout",
     "output_type": "stream",
     "text": [
      "Number of outliers in kWhDelivered: 4090\n"
     ]
    },
    {
     "data": {
      "text/plain": [
       "                 connectionTime            disconnectTime  \\\n",
       "1     2020-01-02 05:36:50-08:00 2020-01-02 14:38:21-08:00   \n",
       "6     2020-01-02 06:09:14-08:00 2020-01-02 17:57:58-08:00   \n",
       "7     2020-01-02 06:17:32-08:00 2020-01-02 16:44:54-08:00   \n",
       "13    2020-01-02 07:15:27-08:00 2020-01-02 15:55:10-08:00   \n",
       "21    2020-01-02 07:30:19-08:00 2020-01-02 16:53:54-08:00   \n",
       "...                         ...                       ...   \n",
       "66369 2019-07-30 07:51:52-07:00 2019-07-30 16:45:14-07:00   \n",
       "66422 2019-07-31 07:06:16-07:00 2019-07-31 16:34:47-07:00   \n",
       "66425 2019-07-31 07:10:15-07:00 2019-07-31 16:06:39-07:00   \n",
       "66428 2019-07-31 07:30:47-07:00 2019-07-31 16:08:24-07:00   \n",
       "66433 2019-07-31 07:38:24-07:00 2019-07-31 17:33:11-07:00   \n",
       "\n",
       "               doneChargingTime  charging_duration  connection_duration  \\\n",
       "1     2020-01-02 12:18:05-08:00         401.250000           541.516667   \n",
       "6     2020-01-02 16:59:21-08:00         650.116667           708.733333   \n",
       "7     2020-01-02 12:22:40-08:00         365.133333           627.366667   \n",
       "13    2020-01-02 14:01:53-08:00         406.433333           519.716667   \n",
       "21    2020-01-02 15:53:42-08:00         503.383333           563.583333   \n",
       "...                         ...                ...                  ...   \n",
       "66369 2019-07-30 16:45:14-07:00         534.366667           533.366667   \n",
       "66422 2019-07-31 13:23:44-07:00         377.466667           568.516667   \n",
       "66425 2019-07-31 16:06:39-07:00         537.400000           536.400000   \n",
       "66428 2019-07-31 14:19:23-07:00         408.600000           517.616667   \n",
       "66433 2019-07-31 15:13:02-07:00         454.633333           594.783333   \n",
       "\n",
       "       kWhDelivered  \n",
       "1            33.097  \n",
       "6            43.477  \n",
       "7            32.441  \n",
       "13           39.806  \n",
       "21           49.874  \n",
       "...             ...  \n",
       "66369        52.661  \n",
       "66422        34.854  \n",
       "66425        49.365  \n",
       "66428        37.212  \n",
       "66433        42.005  \n",
       "\n",
       "[4090 rows x 6 columns]"
      ],
      "text/html": [
       "<div>\n",
       "<style scoped>\n",
       "    .dataframe tbody tr th:only-of-type {\n",
       "        vertical-align: middle;\n",
       "    }\n",
       "\n",
       "    .dataframe tbody tr th {\n",
       "        vertical-align: top;\n",
       "    }\n",
       "\n",
       "    .dataframe thead th {\n",
       "        text-align: right;\n",
       "    }\n",
       "</style>\n",
       "<table border=\"1\" class=\"dataframe\">\n",
       "  <thead>\n",
       "    <tr style=\"text-align: right;\">\n",
       "      <th></th>\n",
       "      <th>connectionTime</th>\n",
       "      <th>disconnectTime</th>\n",
       "      <th>doneChargingTime</th>\n",
       "      <th>charging_duration</th>\n",
       "      <th>connection_duration</th>\n",
       "      <th>kWhDelivered</th>\n",
       "    </tr>\n",
       "  </thead>\n",
       "  <tbody>\n",
       "    <tr>\n",
       "      <th>1</th>\n",
       "      <td>2020-01-02 05:36:50-08:00</td>\n",
       "      <td>2020-01-02 14:38:21-08:00</td>\n",
       "      <td>2020-01-02 12:18:05-08:00</td>\n",
       "      <td>401.250000</td>\n",
       "      <td>541.516667</td>\n",
       "      <td>33.097</td>\n",
       "    </tr>\n",
       "    <tr>\n",
       "      <th>6</th>\n",
       "      <td>2020-01-02 06:09:14-08:00</td>\n",
       "      <td>2020-01-02 17:57:58-08:00</td>\n",
       "      <td>2020-01-02 16:59:21-08:00</td>\n",
       "      <td>650.116667</td>\n",
       "      <td>708.733333</td>\n",
       "      <td>43.477</td>\n",
       "    </tr>\n",
       "    <tr>\n",
       "      <th>7</th>\n",
       "      <td>2020-01-02 06:17:32-08:00</td>\n",
       "      <td>2020-01-02 16:44:54-08:00</td>\n",
       "      <td>2020-01-02 12:22:40-08:00</td>\n",
       "      <td>365.133333</td>\n",
       "      <td>627.366667</td>\n",
       "      <td>32.441</td>\n",
       "    </tr>\n",
       "    <tr>\n",
       "      <th>13</th>\n",
       "      <td>2020-01-02 07:15:27-08:00</td>\n",
       "      <td>2020-01-02 15:55:10-08:00</td>\n",
       "      <td>2020-01-02 14:01:53-08:00</td>\n",
       "      <td>406.433333</td>\n",
       "      <td>519.716667</td>\n",
       "      <td>39.806</td>\n",
       "    </tr>\n",
       "    <tr>\n",
       "      <th>21</th>\n",
       "      <td>2020-01-02 07:30:19-08:00</td>\n",
       "      <td>2020-01-02 16:53:54-08:00</td>\n",
       "      <td>2020-01-02 15:53:42-08:00</td>\n",
       "      <td>503.383333</td>\n",
       "      <td>563.583333</td>\n",
       "      <td>49.874</td>\n",
       "    </tr>\n",
       "    <tr>\n",
       "      <th>...</th>\n",
       "      <td>...</td>\n",
       "      <td>...</td>\n",
       "      <td>...</td>\n",
       "      <td>...</td>\n",
       "      <td>...</td>\n",
       "      <td>...</td>\n",
       "    </tr>\n",
       "    <tr>\n",
       "      <th>66369</th>\n",
       "      <td>2019-07-30 07:51:52-07:00</td>\n",
       "      <td>2019-07-30 16:45:14-07:00</td>\n",
       "      <td>2019-07-30 16:45:14-07:00</td>\n",
       "      <td>534.366667</td>\n",
       "      <td>533.366667</td>\n",
       "      <td>52.661</td>\n",
       "    </tr>\n",
       "    <tr>\n",
       "      <th>66422</th>\n",
       "      <td>2019-07-31 07:06:16-07:00</td>\n",
       "      <td>2019-07-31 16:34:47-07:00</td>\n",
       "      <td>2019-07-31 13:23:44-07:00</td>\n",
       "      <td>377.466667</td>\n",
       "      <td>568.516667</td>\n",
       "      <td>34.854</td>\n",
       "    </tr>\n",
       "    <tr>\n",
       "      <th>66425</th>\n",
       "      <td>2019-07-31 07:10:15-07:00</td>\n",
       "      <td>2019-07-31 16:06:39-07:00</td>\n",
       "      <td>2019-07-31 16:06:39-07:00</td>\n",
       "      <td>537.400000</td>\n",
       "      <td>536.400000</td>\n",
       "      <td>49.365</td>\n",
       "    </tr>\n",
       "    <tr>\n",
       "      <th>66428</th>\n",
       "      <td>2019-07-31 07:30:47-07:00</td>\n",
       "      <td>2019-07-31 16:08:24-07:00</td>\n",
       "      <td>2019-07-31 14:19:23-07:00</td>\n",
       "      <td>408.600000</td>\n",
       "      <td>517.616667</td>\n",
       "      <td>37.212</td>\n",
       "    </tr>\n",
       "    <tr>\n",
       "      <th>66433</th>\n",
       "      <td>2019-07-31 07:38:24-07:00</td>\n",
       "      <td>2019-07-31 17:33:11-07:00</td>\n",
       "      <td>2019-07-31 15:13:02-07:00</td>\n",
       "      <td>454.633333</td>\n",
       "      <td>594.783333</td>\n",
       "      <td>42.005</td>\n",
       "    </tr>\n",
       "  </tbody>\n",
       "</table>\n",
       "<p>4090 rows × 6 columns</p>\n",
       "</div>"
      ]
     },
     "execution_count": 27,
     "metadata": {},
     "output_type": "execute_result"
    }
   ],
   "execution_count": 27
  },
  {
   "cell_type": "code",
   "id": "827a80129bb6b44b",
   "metadata": {
    "ExecuteTime": {
     "end_time": "2024-11-28T19:19:08.376518Z",
     "start_time": "2024-11-28T19:19:08.318155Z"
    }
   },
   "source": [
    "plt.figure(figsize=(10, 6))\n",
    "plt.boxplot(weather_data_cleaned['temperature'], vert=False, patch_artist=True)\n",
    "plt.title(\"Boxplot temperature\")\n",
    "plt.xlabel(\"temperature\")\n",
    "plt.grid(True)"
   ],
   "outputs": [
    {
     "data": {
      "text/plain": [
       "<Figure size 1000x600 with 1 Axes>"
      ],
      "image/png": "[encoded data removed]"
     },
     "metadata": {},
     "output_type": "display_data"
    }
   ],
   "execution_count": 28
  },
  {
   "cell_type": "markdown",
   "id": "e90c19fe",
   "metadata": {},
   "source": [
    "\n",
    "### 5 Inconsistencies\n",
    "Correct missspelling and false dataTypes\n",
    "\n",
    "Data is conistant after visual check. Final check can be done after data types are chaned..."
   ]
  },
  {
   "cell_type": "code",
   "id": "c29748b7",
   "metadata": {
    "ExecuteTime": {
     "end_time": "2024-11-28T19:19:08.399769Z",
     "start_time": "2024-11-28T19:19:08.397148Z"
    }
   },
   "source": [
    "\n",
    "#ToDo: Check missspelling etc., dataTypes have been done above -> TBD with final check..."
   ],
   "outputs": [],
   "execution_count": 29
  },
  {
   "cell_type": "markdown",
   "id": "f239f419",
   "metadata": {},
   "source": [
    "### 5 Feature engineering\n",
    "Add aditional features (e.g. charging or idle time) -> To be discussed\n"
   ]
  },
  {
   "cell_type": "markdown",
   "id": "37d32091",
   "metadata": {},
   "source": [
    "### 6 Final review\n",
    "Look again for missing, errorous, and inconsistant data"
   ]
  },
  {
   "cell_type": "code",
   "id": "975c55c830c27ec1",
   "metadata": {
    "ExecuteTime": {
     "end_time": "2024-11-28T19:19:08.428076Z",
     "start_time": "2024-11-28T19:19:08.406728Z"
    }
   },
   "source": [
    "# Missing data\n",
    "print(\"Number of missing values in cleand charging data: \" + str(charging_data_cleaned.isnull().sum().sum()))\n",
    "print(\"Number of missing values in cleand weather data: \" + str(weather_data_cleaned.isnull().sum().sum()))"
   ],
   "outputs": [
    {
     "name": "stdout",
     "output_type": "stream",
     "text": [
      "Number of missing values in cleand charging data: 17263\n",
      "Number of missing values in cleand weather data: 0\n"
     ]
    }
   ],
   "execution_count": 30
  },
  {
   "metadata": {},
   "cell_type": "markdown",
   "source": [
    "### 7 Export Cleaned Data\n",
    "\n"
   ],
   "id": "e2a9c466c156dbff"
  },
  {
   "metadata": {
    "ExecuteTime": {
     "end_time": "2024-11-28T19:40:59.226324Z",
     "start_time": "2024-11-28T19:40:55.574094Z"
    }
   },
   "cell_type": "code",
   "source": [
    "# Export Dataframes as pickle (.pkl) files\n",
    "charging_data_cleaned.to_pickle(os.path.join('Data', 'charging_data.pkl'))\n",
    "weather_data_cleaned.to_pickle(os.path.join('Data', 'weather_data.pkl'))"
   ],
   "id": "fe7745f10286ae2c",
   "outputs": [],
   "execution_count": 35
  },
  {
   "metadata": {},
   "cell_type": "code",
   "outputs": [],
   "execution_count": null,
   "source": "",
   "id": "3eafdee3f1a8e420"
  }
 ],
 "metadata": {
  "kernelspec": {
   "display_name": "DynamoData",
   "language": "python",
   "name": "python3"
  },
  "language_info": {
   "codemirror_mode": {
    "name": "ipython",
    "version": 3
   },
   "file_extension": ".py",
   "mimetype": "text/x-python",
   "name": "python",
   "nbconvert_exporter": "python",
   "pygments_lexer": "ipython3",
   "version": "3.10.15"
  }
 },
 "nbformat": 4,
 "nbformat_minor": 5
}
